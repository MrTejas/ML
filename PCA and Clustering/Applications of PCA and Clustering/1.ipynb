{
 "cells": [
  {
   "cell_type": "markdown",
   "metadata": {},
   "source": [
    "### Problem 4.1\n",
    "\n",
    "You have been provided an dataset of 99 different shapes KIMIA-99. The task\n",
    "is to find the align the remaining shapes based on the orientation of the given\n",
    "template shape. Along with the code, write the flowchart of the algorithm that\n",
    "you will be using to implement the following task in the Jupyter Notebook itself\n",
    "as a MARKDOWN."
   ]
  },
  {
   "cell_type": "code",
   "execution_count": 80,
   "metadata": {},
   "outputs": [],
   "source": [
    "from matplotlib import pyplot as plt\n",
    "import numpy as np\n",
    "import cv2\n",
    "import math\n",
    "import os\n",
    "# import io\n",
    "from IPython.display import display, Image\n"
   ]
  },
  {
   "cell_type": "markdown",
   "metadata": {},
   "source": [
    "## ALgorithm\n",
    "\n",
    "- Convert the image into binary image\n",
    "\n",
    "- Find the edges of the image using cv2.Canny\n",
    "- Find the coordinates of the edges\n",
    "- Push them all into a vector\n",
    "- Find the 1st PC of this matrix\n",
    "- Find the eigenvector corresponding to 1st PC of the matrix\n",
    "- This eigenvector depicts the general orientation of the image\n",
    "- Find the angle of this orientation\n",
    "- Now er can find angles of all images and rotate appropriately\n",
    "\n",
    "### Intuition\n",
    "\n",
    "- Since we want to find the vector which shows most variance in the black pixels, we are considering the pixels which make up the image\n",
    "\n",
    "- We could have taken up all the black pixels, but to optimize run-time, we took just the edge pixels\n",
    "- The results work fine while taking egde coordinates as well\n",
    "\n",
    "### Functions \n",
    "- `getFirstEigenVector()` : takes an image and returns the 1st eigenvector\n",
    "\n",
    "- `getAngle()` : takes a vector and returns the angle the vector makes with x axis\n",
    "- `Plotvector()` : plots a vector\n",
    "- `rotateImage()` : rotates an image by a specified angle"
   ]
  },
  {
   "cell_type": "code",
   "execution_count": 93,
   "metadata": {},
   "outputs": [],
   "source": [
    "def getFirstEigenVector(image):\n",
    "\n",
    "    # edge detection (using cv2.Canny)\n",
    "    edges = cv2.Canny(image, threshold1=30, threshold2=100)\n",
    "\n",
    "    edge_coordinates = np.column_stack(np.where(edges > 0))\n",
    "\n",
    "    # cov matrix of the edge points\n",
    "    cov_matrix = np.cov(edge_coordinates, rowvar=False)\n",
    "\n",
    "    # finding the 1st PC using PCA\n",
    "    eigen_vals, eigen_vects = np.linalg.eigh(cov_matrix)\n",
    "    sorted_indices = np.argsort(eigen_vals)[::-1]\n",
    "    eigen_vals = eigen_vals[sorted_indices]\n",
    "    eigen_vects = eigen_vects[:, sorted_indices]\n",
    "\n",
    "    # getting the 1st PC eigenvector\n",
    "    vec = eigen_vects[:, 0]\n",
    "\n",
    "    # returning the 1st eigenvector\n",
    "    return vec\n"
   ]
  },
  {
   "cell_type": "code",
   "execution_count": 94,
   "metadata": {},
   "outputs": [],
   "source": [
    "def getAngle(vec):\n",
    "    x,y = vec\n",
    "    angle = math.atan2(y,x)\n",
    "    angle = math.degrees(angle)\n",
    "    return angle\n"
   ]
  },
  {
   "cell_type": "code",
   "execution_count": 95,
   "metadata": {},
   "outputs": [],
   "source": [
    "def plotVector(vec):\n",
    "    x,y = vec\n",
    "    fig, ax = plt.subplots()\n",
    "\n",
    "    ax.arrow(0, 0, x, y, head_width=0.2, head_length=0.2, fc='blue', ec='blue')\n",
    "\n",
    "    VAL = 2*max(x,y)\n",
    "    ax.set_xlim(-VAL, VAL)\n",
    "    ax.set_ylim(-VAL, VAL)\n",
    "\n",
    "    ax.set_xlabel('X')\n",
    "    ax.set_ylabel('Y')\n",
    "    ax.set_title('2D Vector Plot')\n",
    "\n",
    "    plt.grid()\n",
    "    plt.show()\n",
    "\n",
    "    "
   ]
  },
  {
   "cell_type": "code",
   "execution_count": 96,
   "metadata": {},
   "outputs": [],
   "source": [
    "def rotateImage(img,angle):\n",
    "    height,width = img.shape[:2]\n",
    "    rot_mat = cv2.getRotationMatrix2D((width / 2, height / 2), angle, 1)\n",
    "    rotated_image = cv2.warpAffine(img, rot_mat, (width, height))\n",
    "    rotated_image = cv2.cvtColor(rotated_image, cv2.COLOR_BGR2RGB)\n",
    "\n",
    "    # plt.imshow(rotated_image)\n",
    "    # plt.show()\n",
    "    return rotated_image"
   ]
  },
  {
   "cell_type": "code",
   "execution_count": 97,
   "metadata": {},
   "outputs": [],
   "source": [
    "loc = './KIMIA dataset/'\n",
    "dest_loc = './output_images/'\n",
    "template_img = 'f15.png'\n",
    "\n",
    "file_list = os.listdir(loc)\n",
    "ext = ['.jpg', '.jpeg', '.png', '.bmp', '.gif']\n",
    "image_names = [file for file in file_list if any(file.endswith(ext) for ext in ext)]\n",
    "\n",
    "temp = cv2.imread(loc+template_img)\n",
    "e_Vect = getFirstEigenVector(temp)\n",
    "ang0 = getAngle(e_Vect)\n",
    "    \n",
    "\n",
    "for name in image_names:\n",
    "    path = loc+name\n",
    "    img = cv2.imread(path)\n",
    "    vec = getFirstEigenVector(img)\n",
    "    ang = getAngle(vec)\n",
    "    new_image = rotateImage(img,ang0-ang)\n",
    "    cv2.imwrite(dest_loc+name,new_image)\n"
   ]
  },
  {
   "cell_type": "code",
   "execution_count": 86,
   "metadata": {},
   "outputs": [],
   "source": [
    "# delete all files in output_images\n",
    "fp = './output_images/'\n",
    "\n",
    "if os.path.exists(fp):\n",
    "    files = os.listdir(fp)\n",
    "\n",
    "    for file in files:\n",
    "        file_path = os.path.join(fp, file)\n",
    "        if os.path.isfile(file_path):\n",
    "            os.remove(file_path)\n",
    "        else:\n",
    "            print(f\"The folder '{fp}' does not exist.\")\n"
   ]
  },
  {
   "cell_type": "code",
   "execution_count": null,
   "metadata": {},
   "outputs": [],
   "source": []
  }
 ],
 "metadata": {
  "kernelspec": {
   "display_name": "base",
   "language": "python",
   "name": "python3"
  },
  "language_info": {
   "codemirror_mode": {
    "name": "ipython",
    "version": 3
   },
   "file_extension": ".py",
   "mimetype": "text/x-python",
   "name": "python",
   "nbconvert_exporter": "python",
   "pygments_lexer": "ipython3",
   "version": "3.9.13"
  },
  "orig_nbformat": 4
 },
 "nbformat": 4,
 "nbformat_minor": 2
}
