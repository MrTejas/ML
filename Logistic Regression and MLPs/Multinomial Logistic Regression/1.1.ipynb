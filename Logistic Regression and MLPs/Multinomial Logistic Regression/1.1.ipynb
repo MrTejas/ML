{
 "cells": [
  {
   "cell_type": "markdown",
   "metadata": {},
   "source": [
    "## Dataset Analysis and Preprocessing"
   ]
  },
  {
   "cell_type": "code",
   "execution_count": 2,
   "metadata": {},
   "outputs": [],
   "source": [
    "import numpy as np\n",
    "import pandas as pd\n",
    "import matplotlib.pyplot as plt\n",
    "from tabulate import tabulate\n",
    "from sklearn.model_selection import train_test_split\n",
    "import seaborn as sns\n",
    "from scipy.stats import zscore\n"
   ]
  },
  {
   "cell_type": "code",
   "execution_count": 3,
   "metadata": {},
   "outputs": [
    {
     "name": "stdout",
     "output_type": "stream",
     "text": [
      "      fixed acidity  volatile acidity  citric acid  residual sugar  chlorides  \\\n",
      "0               7.4             0.700         0.00             1.9      0.076   \n",
      "1               7.8             0.880         0.00             2.6      0.098   \n",
      "2               7.8             0.760         0.04             2.3      0.092   \n",
      "3              11.2             0.280         0.56             1.9      0.075   \n",
      "4               7.4             0.700         0.00             1.9      0.076   \n",
      "...             ...               ...          ...             ...        ...   \n",
      "1138            6.3             0.510         0.13             2.3      0.076   \n",
      "1139            6.8             0.620         0.08             1.9      0.068   \n",
      "1140            6.2             0.600         0.08             2.0      0.090   \n",
      "1141            5.9             0.550         0.10             2.2      0.062   \n",
      "1142            5.9             0.645         0.12             2.0      0.075   \n",
      "\n",
      "      free sulfur dioxide  total sulfur dioxide  density    pH  sulphates  \\\n",
      "0                    11.0                  34.0  0.99780  3.51       0.56   \n",
      "1                    25.0                  67.0  0.99680  3.20       0.68   \n",
      "2                    15.0                  54.0  0.99700  3.26       0.65   \n",
      "3                    17.0                  60.0  0.99800  3.16       0.58   \n",
      "4                    11.0                  34.0  0.99780  3.51       0.56   \n",
      "...                   ...                   ...      ...   ...        ...   \n",
      "1138                 29.0                  40.0  0.99574  3.42       0.75   \n",
      "1139                 28.0                  38.0  0.99651  3.42       0.82   \n",
      "1140                 32.0                  44.0  0.99490  3.45       0.58   \n",
      "1141                 39.0                  51.0  0.99512  3.52       0.76   \n",
      "1142                 32.0                  44.0  0.99547  3.57       0.71   \n",
      "\n",
      "      alcohol  quality  \n",
      "0         9.4        5  \n",
      "1         9.8        5  \n",
      "2         9.8        5  \n",
      "3         9.8        6  \n",
      "4         9.4        5  \n",
      "...       ...      ...  \n",
      "1138     11.0        6  \n",
      "1139      9.5        6  \n",
      "1140     10.5        5  \n",
      "1141     11.2        6  \n",
      "1142     10.2        5  \n",
      "\n",
      "[1143 rows x 12 columns]\n"
     ]
    }
   ],
   "source": [
    "file_path = './WineQT.csv'\n",
    "\n",
    "data = pd.read_csv(file_path)\n",
    "df = pd.DataFrame(data)\n",
    "df = df.drop(df.columns[-1], axis=1)\n",
    "labels = df.columns.tolist()\n",
    "print(df)"
   ]
  },
  {
   "cell_type": "code",
   "execution_count": 4,
   "metadata": {},
   "outputs": [
    {
     "name": "stdout",
     "output_type": "stream",
     "text": [
      "Description of Dataset using mean, standard deviation, min, and max of all attributes\n",
      "+----------------------+---------------------+-----------------------+---------+---------+\n",
      "|      attribute       |        mean         |          std          |   min   |   max   |\n",
      "+----------------------+---------------------+-----------------------+---------+---------+\n",
      "|    fixed acidity     |  8.311111111111119  |   1.747595017169539   |   4.6   |  15.9   |\n",
      "|   volatile acidity   |  0.531338582677165  |  0.17963319302252445  |  0.12   |  1.58   |\n",
      "|     citric acid      | 0.26836395450568584 |  0.1966858523482191   |   0.0   |   1.0   |\n",
      "|    residual sugar    | 2.5321522309711257  |   1.355917466682676   |   0.9   |  15.5   |\n",
      "|      chlorides       | 0.08693263342082211 |  0.04726733795238058  |  0.012  |  0.611  |\n",
      "| free sulfur dioxide  | 15.615485564304462  |   10.25048612343082   |   1.0   |  68.0   |\n",
      "| total sulfur dioxide |  45.91469816272966  |  32.782130307343124   |   6.0   |  289.0  |\n",
      "|       density        | 0.9967304111986008  | 0.0019250671302545707 | 0.99007 | 1.00369 |\n",
      "|          pH          | 3.3110148731408593  |  0.15666405977275222  |  2.74   |  4.01   |\n",
      "|      sulphates       | 0.6577077865266842  |  0.1703987144670742   |  0.33   |   2.0   |\n",
      "|       alcohol        |  10.44211140274131  |  1.0821956098764456   |   8.4   |  14.9   |\n",
      "|       quality        |  5.657042869641295  |  0.8058242481000936   |   3.0   |   8.0   |\n",
      "+----------------------+---------------------+-----------------------+---------+---------+\n"
     ]
    }
   ],
   "source": [
    "# describing the dataset\n",
    "stats = df.describe().transpose()\n",
    "stats['attribute'] = stats.index\n",
    "stats = stats[['attribute', 'mean', 'std', 'min', 'max']]\n",
    "table = tabulate(stats, headers='keys', tablefmt='pretty', showindex=False)\n",
    "print('Description of Dataset using mean, standard deviation, min, and max of all attributes')\n",
    "print(table)"
   ]
  },
  {
   "cell_type": "code",
   "execution_count": 5,
   "metadata": {},
   "outputs": [
    {
     "data": {
      "image/png": "[encoded data removed]",
      "text/plain": [
       "<Figure size 640x480 with 1 Axes>"
      ]
     },
     "metadata": {},
     "output_type": "display_data"
    }
   ],
   "source": [
    "# Showing the distribution of lables in the dataset\n",
    "df['quality'].value_counts().sort_index().plot(kind='bar')\n",
    "plt.xlabel('Lables')\n",
    "plt.ylabel('Count')\n",
    "plt.title('Distribution of various Lables')\n",
    "plt.xticks(rotation=0)\n",
    "plt.show()\n"
   ]
  },
  {
   "cell_type": "code",
   "execution_count": 6,
   "metadata": {},
   "outputs": [],
   "source": [
    "X = df\n",
    "y = df['quality']\n",
    "\n",
    "X_train, X_test, y_train, y_test = train_test_split(X, y, test_size=0.2, random_state=42)"
   ]
  },
  {
   "cell_type": "code",
   "execution_count": 7,
   "metadata": {},
   "outputs": [
    {
     "name": "stdout",
     "output_type": "stream",
     "text": [
      "+----------------------+----------------+-----------------+----------+\n",
      "|      Attribute       | Missing Values | Negative Values | Outliers |\n",
      "+----------------------+----------------+-----------------+----------+\n",
      "|    fixed acidity     |       0        |        0        |    9     |\n",
      "|   volatile acidity   |       0        |        0        |    5     |\n",
      "|     citric acid      |       0        |        0        |    1     |\n",
      "|    residual sugar    |       0        |        0        |    23    |\n",
      "|      chlorides       |       0        |        0        |    21    |\n",
      "| free sulfur dioxide  |       0        |        0        |    13    |\n",
      "| total sulfur dioxide |       0        |        0        |    10    |\n",
      "|       density        |       0        |        0        |    12    |\n",
      "|          pH          |       0        |        0        |    5     |\n",
      "|      sulphates       |       0        |        0        |    21    |\n",
      "|       alcohol        |       0        |        0        |    7     |\n",
      "|       quality        |       0        |        0        |    6     |\n",
      "+----------------------+----------------+-----------------+----------+\n",
      "Since there are not many outliers, data is preprocessed\n"
     ]
    }
   ],
   "source": [
    "missing_values = df.isnull().sum()\n",
    "negative_values = (df < 0).sum()\n",
    "z_scores = np.abs(zscore(df))\n",
    "outliers_count = np.sum(z_scores > 3, axis=0)\n",
    "\n",
    "attributes = df.columns\n",
    "data = []\n",
    "for attribute, missing, negative, outliers in zip(attributes, missing_values, negative_values, outliers_count):\n",
    "    data.append([attribute, missing, negative, outliers])\n",
    "\n",
    "# printing in the form of a table\n",
    "table_df = pd.DataFrame(data, columns=['Attribute', 'Missing Values', 'Negative Values', 'Outliers'])\n",
    "print(tabulate(table_df, headers='keys', tablefmt='pretty', showindex=False))\n",
    "\n",
    "print('Since there are not many outliers, data is preprocessed')"
   ]
  },
  {
   "cell_type": "code",
   "execution_count": null,
   "metadata": {},
   "outputs": [],
   "source": []
  },
  {
   "cell_type": "code",
   "execution_count": null,
   "metadata": {},
   "outputs": [],
   "source": []
  }
 ],
 "metadata": {
  "kernelspec": {
   "display_name": "Python 3 (ipykernel)",
   "language": "python",
   "name": "python3"
  },
  "language_info": {
   "codemirror_mode": {
    "name": "ipython",
    "version": 3
   },
   "file_extension": ".py",
   "mimetype": "text/x-python",
   "name": "python",
   "nbconvert_exporter": "python",
   "pygments_lexer": "ipython3",
   "version": "3.9.13"
  }
 },
 "nbformat": 4,
 "nbformat_minor": 2
}
