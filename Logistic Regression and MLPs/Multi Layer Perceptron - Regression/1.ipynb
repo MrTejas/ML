{
 "cells": [
  {
   "cell_type": "code",
   "execution_count": 1,
   "id": "8284a92e",
   "metadata": {},
   "outputs": [],
   "source": [
    "import numpy as np\n",
    "import pandas as pd\n",
    "from sklearn.model_selection import train_test_split\n",
    "import matplotlib.pyplot as plt\n",
    "from sklearn.metrics import classification_report\n",
    "from scipy.special import expit\n",
    "from sklearn.metrics import mean_squared_error, r2_score\n",
    "from tabulate import tabulate\n",
    "from scipy.stats import zscore\n",
    "from sklearn.preprocessing import MinMaxScaler\n",
    "import wandb\n"
   ]
  },
  {
   "cell_type": "markdown",
   "id": "71d52ba8",
   "metadata": {},
   "source": [
    "# Data Pre-Processing"
   ]
  },
  {
   "cell_type": "code",
   "execution_count": 2,
   "id": "b1c6a2d9",
   "metadata": {},
   "outputs": [
    {
     "name": "stdout",
     "output_type": "stream",
     "text": [
      "        CRIM    ZN  INDUS  CHAS    NOX     RM   AGE     DIS  RAD  TAX  \\\n",
      "0    0.00632  18.0   2.31   0.0  0.538  6.575  65.2  4.0900    1  296   \n",
      "1    0.02731   0.0   7.07   0.0  0.469  6.421  78.9  4.9671    2  242   \n",
      "2    0.02729   0.0   7.07   0.0  0.469  7.185  61.1  4.9671    2  242   \n",
      "3    0.03237   0.0   2.18   0.0  0.458  6.998  45.8  6.0622    3  222   \n",
      "4    0.06905   0.0   2.18   0.0  0.458  7.147  54.2  6.0622    3  222   \n",
      "..       ...   ...    ...   ...    ...    ...   ...     ...  ...  ...   \n",
      "501  0.06263   0.0  11.93   0.0  0.573  6.593  69.1  2.4786    1  273   \n",
      "502  0.04527   0.0  11.93   0.0  0.573  6.120  76.7  2.2875    1  273   \n",
      "503  0.06076   0.0  11.93   0.0  0.573  6.976  91.0  2.1675    1  273   \n",
      "504  0.10959   0.0  11.93   0.0  0.573  6.794  89.3  2.3889    1  273   \n",
      "505  0.04741   0.0  11.93   0.0  0.573  6.030   NaN  2.5050    1  273   \n",
      "\n",
      "     PTRATIO       B  LSTAT  MEDV  \n",
      "0       15.3  396.90   4.98  24.0  \n",
      "1       17.8  396.90   9.14  21.6  \n",
      "2       17.8  392.83   4.03  34.7  \n",
      "3       18.7  394.63   2.94  33.4  \n",
      "4       18.7  396.90    NaN  36.2  \n",
      "..       ...     ...    ...   ...  \n",
      "501     21.0  391.99    NaN  22.4  \n",
      "502     21.0  396.90   9.08  20.6  \n",
      "503     21.0  396.90   5.64  23.9  \n",
      "504     21.0  393.45   6.48  22.0  \n",
      "505     21.0  396.90   7.88  11.9  \n",
      "\n",
      "[506 rows x 14 columns]\n"
     ]
    }
   ],
   "source": [
    "dataset_path = './HousingData.csv'\n",
    "df = pd.read_csv(dataset_path)\n",
    "labels = df.columns.tolist()\n",
    "print(df)\n"
   ]
  },
  {
   "cell_type": "code",
   "execution_count": 3,
   "id": "062d3089",
   "metadata": {
    "scrolled": true
   },
   "outputs": [
    {
     "name": "stdout",
     "output_type": "stream",
     "text": [
      "Description of Dataset using mean, standard deviation, min, and max of all attributes\n",
      "+-----------+---------------------+---------------------+---------+---------+\n",
      "| attribute |        mean         |         std         |   min   |   max   |\n",
      "+-----------+---------------------+---------------------+---------+---------+\n",
      "|   CRIM    | 3.6118739711934156  |  8.720191850151599  | 0.00632 | 88.9762 |\n",
      "|    ZN     |  11.2119341563786   | 23.388876146265577  |   0.0   |  100.0  |\n",
      "|   INDUS   | 11.083991769547332  |  6.835896498641465  |  0.46   |  27.74  |\n",
      "|   CHAS    | 0.06995884773662552 | 0.25534048090656764 |   0.0   |   1.0   |\n",
      "|    NOX    | 0.5546950592885372  | 0.11587767566755611 |  0.385  |  0.871  |\n",
      "|    RM     |  6.284634387351787  | 0.7026171434153237  |  3.561  |  8.78   |\n",
      "|    AGE    |  68.51851851851852  | 27.999513005092375  |   2.9   |  100.0  |\n",
      "|    DIS    |  3.795042687747034  | 2.1057101266276104  | 1.1296  | 12.1265 |\n",
      "|    RAD    |  9.549407114624506  |  8.707259384239377  |   1.0   |  24.0   |\n",
      "|    TAX    |  408.2371541501976  | 168.53711605495926  |  187.0  |  711.0  |\n",
      "|  PTRATIO  | 18.455533596837967  |  2.164945523714446  |  12.6   |  22.0   |\n",
      "|     B     | 356.67403162055257  |  91.29486438415779  |  0.32   |  396.9  |\n",
      "|   LSTAT   | 12.715432098765435  |  7.155870815805249  |  1.73   |  37.97  |\n",
      "|   MEDV    | 22.532806324110698  |  9.19710408737982   |   5.0   |  50.0   |\n",
      "+-----------+---------------------+---------------------+---------+---------+\n"
     ]
    }
   ],
   "source": [
    "# describing the dataset\n",
    "stats = df.describe().transpose()\n",
    "stats['attribute'] = stats.index\n",
    "stats = stats[['attribute', 'mean', 'std', 'min', 'max']]\n",
    "table = tabulate(stats, headers='keys', tablefmt='pretty', showindex=False)\n",
    "print('Description of Dataset using mean, standard deviation, min, and max of all attributes')\n",
    "print(table)"
   ]
  },
  {
   "cell_type": "markdown",
   "id": "f1afae39",
   "metadata": {},
   "source": [
    "## Standardizing the dataset (min-max)"
   ]
  },
  {
   "cell_type": "code",
   "execution_count": 16,
   "id": "217a1f5f",
   "metadata": {},
   "outputs": [
    {
     "name": "stdout",
     "output_type": "stream",
     "text": [
      "         CRIM    ZN     INDUS  CHAS       NOX        RM       AGE       DIS  \\\n",
      "0    0.000000  0.18  0.067815   0.0  0.314815  0.577505  0.641607  0.269203   \n",
      "1    0.000236  0.00  0.242302   0.0  0.172840  0.547998  0.782698  0.348962   \n",
      "2    0.000236  0.00  0.242302   0.0  0.172840  0.694386  0.599382  0.348962   \n",
      "3    0.000293  0.00  0.063050   0.0  0.150206  0.658555  0.441813  0.448545   \n",
      "4    0.000705  0.00  0.063050   0.0  0.150206  0.687105  0.528321  0.448545   \n",
      "..        ...   ...       ...   ...       ...       ...       ...       ...   \n",
      "501  0.000633  0.00  0.420455   0.0  0.386831  0.580954  0.681771  0.122671   \n",
      "502  0.000438  0.00  0.420455   0.0  0.386831  0.490324  0.760041  0.105293   \n",
      "503  0.000612  0.00  0.420455   0.0  0.386831  0.654340  0.907312  0.094381   \n",
      "504  0.001161  0.00  0.420455   0.0  0.386831  0.619467  0.889804  0.114514   \n",
      "505  0.000462  0.00  0.420455   0.0  0.386831  0.473079       NaN  0.125072   \n",
      "\n",
      "          RAD       TAX   PTRATIO         B     LSTAT  MEDV  \n",
      "0    0.000000  0.208015  0.287234  1.000000  0.089680  24.0  \n",
      "1    0.043478  0.104962  0.553191  1.000000  0.204470  21.6  \n",
      "2    0.043478  0.104962  0.553191  0.989737  0.063466  34.7  \n",
      "3    0.086957  0.066794  0.648936  0.994276  0.033389  33.4  \n",
      "4    0.086957  0.066794  0.648936  1.000000       NaN  36.2  \n",
      "..        ...       ...       ...       ...       ...   ...  \n",
      "501  0.000000  0.164122  0.893617  0.987619       NaN  22.4  \n",
      "502  0.000000  0.164122  0.893617  1.000000  0.202815  20.6  \n",
      "503  0.000000  0.164122  0.893617  1.000000  0.107892  23.9  \n",
      "504  0.000000  0.164122  0.893617  0.991301  0.131071  22.0  \n",
      "505  0.000000  0.164122  0.893617  1.000000  0.169702  11.9  \n",
      "\n",
      "[506 rows x 14 columns]\n"
     ]
    }
   ],
   "source": [
    "features = df.iloc[:, :-1]  \n",
    "target = df.iloc[:, -1]\n",
    "\n",
    "# minmax sccaler\n",
    "scaler = MinMaxScaler()\n",
    "normalized_features = scaler.fit_transform(features)\n",
    "\n",
    "df = pd.DataFrame(normalized_features, columns=features.columns)\n",
    "df['MEDV'] = target.values\n",
    "\n",
    "print(df)\n"
   ]
  },
  {
   "cell_type": "markdown",
   "id": "2f595d7c",
   "metadata": {},
   "source": [
    "## Distribution of values in the dataset"
   ]
  },
  {
   "cell_type": "code",
   "execution_count": 17,
   "id": "9dd898b3",
   "metadata": {},
   "outputs": [
    {
     "data": {
      "image/png": "[encoded data removed]",
      "text/plain": [
       "<Figure size 640x480 with 1 Axes>"
      ]
     },
     "metadata": {},
     "output_type": "display_data"
    }
   ],
   "source": [
    "bin_width = 1\n",
    "\n",
    "bins = np.arange(min(df['MEDV']), max(df['MEDV']) + bin_width, bin_width)\n",
    "\n",
    "plt.hist(df['MEDV'], bins=bins, edgecolor='black')\n",
    "\n",
    "plt.xlabel('MEDV Values')\n",
    "plt.ylabel('Frequency')\n",
    "plt.title(f'Histogram of MEDV (Bin Width = {bin_width})')\n",
    "\n",
    "plt.show()\n"
   ]
  },
  {
   "cell_type": "code",
   "execution_count": 18,
   "id": "32eb872c",
   "metadata": {},
   "outputs": [],
   "source": [
    "X = df\n",
    "y = df['MEDV']\n",
    "\n",
    "X_train, X_test, y_train, y_test = train_test_split(X, y, test_size=0.2, random_state=42)"
   ]
  },
  {
   "cell_type": "markdown",
   "id": "f9f7d0f2",
   "metadata": {},
   "source": [
    "## Finding out missing values, negative values, outliers"
   ]
  },
  {
   "cell_type": "code",
   "execution_count": 19,
   "id": "e1279149",
   "metadata": {
    "scrolled": true
   },
   "outputs": [
    {
     "name": "stdout",
     "output_type": "stream",
     "text": [
      "+-----------+----------------+-----------------+----------+\n",
      "| Attribute | Missing Values | Negative Values | Outliers |\n",
      "+-----------+----------------+-----------------+----------+\n",
      "|   CRIM    |       20       |        0        |    0     |\n",
      "|    ZN     |       20       |        0        |    0     |\n",
      "|   INDUS   |       20       |        0        |    0     |\n",
      "|   CHAS    |       20       |        0        |    0     |\n",
      "|    NOX    |       0        |        0        |    0     |\n",
      "|    RM     |       0        |        0        |    8     |\n",
      "|    AGE    |       20       |        0        |    0     |\n",
      "|    DIS    |       0        |        0        |    5     |\n",
      "|    RAD    |       0        |        0        |    0     |\n",
      "|    TAX    |       0        |        0        |    0     |\n",
      "|  PTRATIO  |       0        |        0        |    0     |\n",
      "|     B     |       0        |        0        |    25    |\n",
      "|   LSTAT   |       20       |        0        |    0     |\n",
      "|   MEDV    |       0        |        0        |    0     |\n",
      "+-----------+----------------+-----------------+----------+\n"
     ]
    }
   ],
   "source": [
    "missing_values = df.isnull().sum()\n",
    "negative_values = (df < 0).sum()\n",
    "z_scores = np.abs(zscore(df))\n",
    "outliers_count = np.sum(z_scores > 3, axis=0)\n",
    "\n",
    "attributes = df.columns\n",
    "data = []\n",
    "for attribute, missing, negative, outliers in zip(attributes, missing_values, negative_values, outliers_count):\n",
    "    data.append([attribute, missing, negative, outliers])\n",
    "\n",
    "# printing in the form of a table\n",
    "table_df = pd.DataFrame(data, columns=['Attribute', 'Missing Values', 'Negative Values', 'Outliers'])\n",
    "print(tabulate(table_df, headers='keys', tablefmt='pretty', showindex=False))\n"
   ]
  },
  {
   "cell_type": "markdown",
   "id": "141514e3",
   "metadata": {},
   "source": [
    "## Replacing missing (nan) values by k"
   ]
  },
  {
   "cell_type": "code",
   "execution_count": 20,
   "id": "f34f2acb",
   "metadata": {},
   "outputs": [],
   "source": [
    "k = 0\n",
    "df = df.fillna(k)"
   ]
  },
  {
   "cell_type": "code",
   "execution_count": 21,
   "id": "f394b9e1",
   "metadata": {},
   "outputs": [
    {
     "name": "stdout",
     "output_type": "stream",
     "text": [
      "+-----------+----------------+-----------------+----------+\n",
      "| Attribute | Missing Values | Negative Values | Outliers |\n",
      "+-----------+----------------+-----------------+----------+\n",
      "|   CRIM    |       0        |        0        |    8     |\n",
      "|    ZN     |       0        |        0        |    28    |\n",
      "|   INDUS   |       0        |        0        |    0     |\n",
      "|   CHAS    |       0        |        0        |    34    |\n",
      "|    NOX    |       0        |        0        |    0     |\n",
      "|    RM     |       0        |        0        |    8     |\n",
      "|    AGE    |       0        |        0        |    0     |\n",
      "|    DIS    |       0        |        0        |    5     |\n",
      "|    RAD    |       0        |        0        |    0     |\n",
      "|    TAX    |       0        |        0        |    0     |\n",
      "|  PTRATIO  |       0        |        0        |    0     |\n",
      "|     B     |       0        |        0        |    25    |\n",
      "|   LSTAT   |       0        |        0        |    5     |\n",
      "|   MEDV    |       0        |        0        |    0     |\n",
      "+-----------+----------------+-----------------+----------+\n"
     ]
    }
   ],
   "source": [
    "missing_values = df.isnull().sum()\n",
    "negative_values = (df < 0).sum()\n",
    "z_scores = np.abs(zscore(df))\n",
    "outliers_count = np.sum(z_scores > 3, axis=0)\n",
    "\n",
    "attributes = df.columns\n",
    "data = []\n",
    "for attribute, missing, negative, outliers in zip(attributes, missing_values, negative_values, outliers_count):\n",
    "    data.append([attribute, missing, negative, outliers])\n",
    "\n",
    "# printing in the form of a table\n",
    "table_df = pd.DataFrame(data, columns=['Attribute', 'Missing Values', 'Negative Values', 'Outliers'])\n",
    "print(tabulate(table_df, headers='keys', tablefmt='pretty', showindex=False))\n"
   ]
  },
  {
   "cell_type": "markdown",
   "id": "b039260b",
   "metadata": {},
   "source": [
    "---\n",
    "# Multi-Layer Perceptron for Regression"
   ]
  },
  {
   "cell_type": "code",
   "execution_count": 24,
   "id": "77735aa9",
   "metadata": {},
   "outputs": [],
   "source": [
    "class MLP:\n",
    "    \n",
    "    def __init__(self,layer_sizes, batch_size, num_epoches, learning_rate, activation_function, optimization):\n",
    "        self.layer_sizes = layer_sizes # number of neurons in each layer\n",
    "        self.num_layers = len(self.layer_sizes) # total number of layers\n",
    "        self.batch_size = batch_size # only for mini-batch gradient descent\n",
    "        self.epoches = num_epoches\n",
    "        self.learning_rate = learning_rate\n",
    "        self.activation_function = activation_function\n",
    "        self.optimization = optimization\n",
    "        \n",
    "        # initializing weights (needed once only)\n",
    "        self.initialize_weights()\n",
    "        \n",
    "        # validation loss and acc\n",
    "        self.validation_loss = []\n",
    "        self.validation_accuracy = []\n",
    "        \n",
    "        # training loss and acc\n",
    "        self.L = []\n",
    "        self.A = []\n",
    "        \n",
    "        print('Initialized values successfully!')\n",
    "    \n",
    "    def printParameters(self):\n",
    "        print('-----------------------------------------------')\n",
    "        print('Number of Layers          : ',self.num_layers)\n",
    "        print('Layer sizes               : ',self.layer_sizes)\n",
    "        print('Batch size(if mini-batch) : ',self.batch_size)\n",
    "        print('Activation Function       : ',self.activation_function)\n",
    "        print('Optimization Method       : ',self.optimization)\n",
    "        print('Learning Rate             : ',self.learning_rate)\n",
    "        print('Num Epoches               : ',self.epoches)\n",
    "        print('-----------------------------------------------')\n",
    "\n",
    "    \n",
    "    # loads the dataframe into the class\n",
    "    def loadData(self,df):\n",
    "        self.num_features = df.shape[1]-1\n",
    "        self.num_classes = df.iloc[:, -1].nunique()\n",
    "        self.df = df\n",
    "        print('Loaded Dataframe!')\n",
    "\n",
    "    # splits the dataframe loaded into train, validation and test sets\n",
    "    def splitData(self,train_fraction,normalize):\n",
    "        X = df.iloc[:, :-1].values\n",
    "        \n",
    "        # Replace NaN values with the constant k\n",
    "        nan_mask = np.isnan(X)\n",
    "        k = 0\n",
    "        X[nan_mask] = k\n",
    "\n",
    "        if normalize:\n",
    "            mean = np.mean(X, axis=0)\n",
    "            std = np.std(X, axis=0)\n",
    "            X = (X - mean) / std\n",
    "        y = df.iloc[:, -1].values\n",
    "        \n",
    "\n",
    "        self.X_train, X_temp, self.y_train, y_temp = train_test_split(X, y, test_size=1-train_fraction, random_state=42)\n",
    "        self.X_val, self.X_test, self.y_val, self.y_test = train_test_split(X_temp, y_temp, test_size=0.5, random_state=42)\n",
    "        print('Splitted data into train, test and val sets!')\n",
    "        \n",
    "        \n",
    "    # returns the one-hot encoded version of a given vector\n",
    "    def oneHotEncoding(self, y):\n",
    "        return y\n",
    "        y_encoded = np.zeros((len(y), self.num_classes))\n",
    "        y_encoded[np.arange(len(y)), y] = 1\n",
    "        return y_encoded\n",
    "    \n",
    "    def categorical(self,x):  \n",
    "        return x\n",
    "    \n",
    "        # Transform probabilities into categorical predictions row-wise, by simply taking the max probability\n",
    "        categorical = np.argmax(x,axis=1)\n",
    "        return categorical\n",
    "\n",
    "# defining activation functions and their derivatives\n",
    "#--------------------------------------------------------------------------------------------\n",
    "\n",
    "    # SIGMOID\n",
    "    def sigmoid(self,z):\n",
    "        val = 1/(1+np.exp(-z))\n",
    "        return val\n",
    "    \n",
    "    def sigmoid_prime(self,h):\n",
    "        # Compute the derivative of sigmoid where h=sigmoid(x)\n",
    "        return h*(1-h)\n",
    "    \n",
    "    # ReLU \n",
    "    def ReLU(self, z):\n",
    "        ret = np.maximum(z, 0)\n",
    "        if ret.shape!=z.shape:\n",
    "            print('whaat??')\n",
    "        return ret\n",
    "    def ReLU_prime(self, h):\n",
    "        return np.where(h >= 0, 1, 0)\n",
    "    \n",
    "    # tanh\n",
    "    def hyperbolic_tan(self, z):\n",
    "        val = (2/(np.exp(-2*z)+1)) -1\n",
    "        val = expit(2 * z) - 1\n",
    "        return val\n",
    "    \n",
    "    def hyperbolic_tan_prime(self, h):\n",
    "        return 1-h**2\n",
    "    \n",
    "    # linear (can change slope and intercept)\n",
    "    def linear(self, z):\n",
    "        return z\n",
    "    def linear_prime(self,h):\n",
    "        return 1\n",
    "    \n",
    "#-----------------activation function for last layer (output) -------------------------------\n",
    "\n",
    "\n",
    "\n",
    "#---------------------------------------------------------------------------------------------\n",
    "\n",
    "    def activation(self,z):\n",
    "        if self.activation_function=='sigmoid':\n",
    "            return self.sigmoid(z)\n",
    "        elif self.activation_function=='ReLU':\n",
    "            return self.ReLU(z)\n",
    "        elif self.activation_function=='tanh':\n",
    "            return self.hyperbolic_tan(z)\n",
    "        elif self.activation_function=='linear':\n",
    "            return self.linear(z)\n",
    "        else:\n",
    "            raise ValueError(\"Invalid Activation function\")\n",
    "\n",
    "    def activation_prime(self,h):\n",
    "        if self.activation_function=='sigmoid':\n",
    "            return self.sigmoid_prime(h)\n",
    "        elif self.activation_function=='ReLU':\n",
    "            return self.ReLU_prime(h)\n",
    "        elif self.activation_function=='tanh':\n",
    "            return self.hyperbolic_tan_prime(h)\n",
    "        elif self.activation_function=='linear':\n",
    "            return self.linear_prime(h)\n",
    "        else:\n",
    "            raise ValueError(\"Invalid Activation function\")\n",
    "\n",
    "#---------------------------------------------------------------------------------------------\n",
    "\n",
    "\n",
    "    def loss(self, y_hat, y):\n",
    "        y = y.reshape(-1,1)\n",
    "        return np.sum((y_hat-y)**2)\n",
    "    \n",
    "    def accuracy(self, y_hat, y):  \n",
    "        nan_mask = np.isnan(y)\n",
    "        k = 0\n",
    "        y[nan_mask] = k\n",
    "        nan_mask = np.isnan(y_hat)\n",
    "        k = 0\n",
    "        y_hat[nan_mask] = k\n",
    "        \n",
    "\n",
    "        mse = mean_squared_error(y_hat, y)\n",
    "        return mse\n",
    "\n",
    "\n",
    "    def initialize_weights(self):\n",
    "        self.weights = []\n",
    "        #weights[i] is a m,n matrix giving weight connecting the i and i+1th layer\n",
    "        \n",
    "        mean_weight = 0  # Mean of the normal distribution\n",
    "        std_dev_weight = 1  # Standard deviation of the normal distribution\n",
    "        min_weight = -1\n",
    "        max_weight = 1\n",
    "        for i in range(self.num_layers-1):\n",
    "            sz = [self.layer_sizes[i],self.layer_sizes[i+1]]\n",
    "            wt = np.random.normal(mean_weight, std_dev_weight, size=sz)\n",
    "\n",
    "            self.weights.append(wt)\n",
    "        \n",
    "    def initialize_layers(self,batch_size):\n",
    "        self.hidden_layers = [np.ones((batch_size,layer_size)) for layer_size in layer_sizes]\n",
    "        \n",
    "    # takes in a batch of data (num_samples x num_features) and applies feed-forward on it\n",
    "    def feedforward(self, batch):\n",
    "        current_layer = batch\n",
    "        self.hidden_layers[0] = batch\n",
    "\n",
    "        for i,weights in enumerate(self.weights):\n",
    "            current_layer = self.activation(np.dot(current_layer,weights))\n",
    "\n",
    "            self.hidden_layers[i+1] = current_layer\n",
    "            \n",
    "        # last layer is the output layer\n",
    "        self.output_layer = (self.hidden_layers[-1])\n",
    "        \n",
    "    # goes from the last layer to the 1st layer updating weights according to GD\n",
    "    def backpropogation(self, y):\n",
    "        # evaluating the last layer error : del\n",
    "        y = y.reshape(-1, 1)\n",
    "        del_t = -(y - self.output_layer)\n",
    "        for i in range(1,self.num_layers):\n",
    "            # calculating the gradient of weights and applying gradient-descent\n",
    "            dJ_dW = np.dot(self.hidden_layers[-i-1].T,del_t)/self.batch_size\n",
    "            self.weights[-i] = self.weights[-i] - self.learning_rate * dJ_dW\n",
    "            # updating the error for the next layer \n",
    "            del_t = np.dot(del_t,self.weights[-i].T)*self.activation_prime(self.hidden_layers[-i-1])\n",
    "                    \n",
    "    def validate(self):\n",
    "        n,m = self.X_val.shape[0:2]\n",
    "        self.initialize_layers(batch_size=n)\n",
    "        self.feedforward(self.X_val)\n",
    "        val_loss = self.loss(self.output_layer,self.y_val)\n",
    "        val_acc = self.accuracy(self.categorical(self.output_layer),self.y_val)\n",
    "        self.validation_loss.append(val_loss)\n",
    "        self.validation_accuracy.append(val_acc)\n",
    "        \n",
    "    def mini_batch_GD(self):\n",
    "            self.initialize_layers(self.batch_size)\n",
    "            loss_sum = 0\n",
    "            accuracy_sum = 0\n",
    "            \n",
    "            # calculating the total number of batches (acc to batch sizee)\n",
    "            num_batches = self.X_train.shape[0]/self.batch_size\n",
    "            ind = np.random.permutation(self.X_train.shape[0])\n",
    "            \n",
    "            \n",
    "            # splitting the X_train, Y_train into batches\n",
    "            X_batches = np.array_split(self.X_train[ind], num_batches)\n",
    "            Y_batches = np.array_split(self.y_train[ind], num_batches)\n",
    "            data_batches = zip(X_batches,Y_batches)\n",
    "            \n",
    "            # performing feed-forward -> saving training loss and accuracy -> back-propogation\n",
    "            for data_x, data_y in data_batches:\n",
    "                self.feedforward(data_x)\n",
    "\n",
    "                loss_sum = loss_sum + self.loss(self.output_layer,data_y)\n",
    "                accuracy_sum = accuracy_sum + self.accuracy(self.categorical(self.output_layer),data_y)\n",
    "                self.backpropogation(data_y)\n",
    "            \n",
    "            loss_train = loss_sum/num_batches\n",
    "            acc_train = accuracy_sum/num_batches\n",
    "            \n",
    "            return loss_train, acc_train\n",
    "        \n",
    "    def batch_GD(self):\n",
    "        self.batch_size = self.X_train.shape[0]\n",
    "        loss_train, acc_train = self.mini_batch_GD()\n",
    "        return loss_train, acc_train\n",
    "        \n",
    "    def SGD(self):\n",
    "        self.batch_size = 1\n",
    "        loss_train, acc_train = self.mini_batch_GD()\n",
    "        return loss_train, acc_train\n",
    "    \n",
    "    # general method for optimization (batch/mini-batch/SGD)\n",
    "    def optimize(self):\n",
    "        if self.optimization=='mini-batch':\n",
    "            return self.mini_batch_GD()\n",
    "        elif self.optimization=='batch':\n",
    "            return self.batch_GD()\n",
    "        elif self.optimization=='SGD':\n",
    "            return self.SGD()\n",
    "    \n",
    "    def fit(self):\n",
    "        for epoch in range(self.epoches):\n",
    "            # Gradient Descent\n",
    "            loss_train, acc_train = self.optimize()\n",
    "            \n",
    "            # calculating accuracy and loss for current epoch and saving them\n",
    "            self.L.append(loss_train)\n",
    "            self.A.append(acc_train)\n",
    "            \n",
    "            # testing the current model on validation set and saving the loss and accuracy\n",
    "            self.validate()\n",
    "#             print('Epoch : ',epoch+1,' loss : ',loss_train.round(3),' acc : ',acc_train.round(3))\n",
    "            wandb.log({\"loss (MSE) \": loss_train.round(3)})\n",
    "\n",
    "            \n",
    "            \n",
    "    def predict(self):\n",
    "        self.y_test = self.y_test.reshape(-1,1)\n",
    "        self.feedforward(self.X_test)\n",
    "        \n",
    "        plt.plot(self.output_layer,label='Predicted')\n",
    "        plt.plot(self.y_test,label='Ground Truth')\n",
    "        plt.title('Predicted Values vs Ground Truth')\n",
    "        plt.grid()\n",
    "        plt.xlabel('Sample')\n",
    "        plt.ylabel('Value')\n",
    "        plt.legend()\n",
    "        plt.show()\n",
    "        \n",
    "        y_test = self.y_test\n",
    "        output_layer = self.output_layer\n",
    "        \n",
    "        print('--------------------------------------------------------------------------------')\n",
    "        \n",
    "        # Calculate Mean Squared Error (MSE)\n",
    "        mse = mean_squared_error(y_test, output_layer)\n",
    "        print(f'Mean Squared Error (MSE)                 : {mse:.2f}')\n",
    "\n",
    "        # Calculate Root Mean Squared Error (RMSE)\n",
    "        rmse = np.sqrt(mse)\n",
    "        print(f'Root Mean Squared Error (RMSE)           : {rmse:.2f}')\n",
    "\n",
    "        # Calculate R-squared (Coefficient of Determination)\n",
    "        r_squared = r2_score(y_test, output_layer)\n",
    "        print(f'R-squared (Coefficient of Determination) : {r_squared:.2f}')\n",
    "        \n",
    "        print('--------------------------------------------------------------------------------')\n"
   ]
  },
  {
   "cell_type": "markdown",
   "id": "c18a8cb4",
   "metadata": {},
   "source": [
    "### Loading the dataset from csv file"
   ]
  },
  {
   "cell_type": "code",
   "execution_count": 11,
   "id": "75d20cc9",
   "metadata": {},
   "outputs": [
    {
     "name": "stdout",
     "output_type": "stream",
     "text": [
      "number of samples  :  506\n",
      "number of features :  13\n"
     ]
    }
   ],
   "source": [
    "dataset_path = './HousingData.csv'\n",
    "df = pd.read_csv(dataset_path)\n",
    "\n",
    "Y = df.iloc[:, -1].values.reshape(-1, 1)\n",
    "X = df.iloc[:, :-1].values\n",
    "\n",
    "print('number of samples  : ',X.shape[0])\n",
    "print('number of features : ',X.shape[1])"
   ]
  },
  {
   "cell_type": "markdown",
   "id": "f1aef8ba",
   "metadata": {},
   "source": [
    "### Creating the MLP Regression Model and setting up hyperparameters"
   ]
  },
  {
   "cell_type": "code",
   "execution_count": 885,
   "id": "bf3820d2",
   "metadata": {},
   "outputs": [
    {
     "name": "stdout",
     "output_type": "stream",
     "text": [
      "Initialized values successfully!\n",
      "Loaded Dataframe!\n",
      "Splitted data into train, test and val sets!\n",
      "-----------------------------------------------\n",
      "Number of Layers          :  4\n",
      "Layer sizes               :  [13, 5, 5, 1]\n",
      "Batch size(if mini-batch) :  50\n",
      "Activation Function       :  ReLU\n",
      "Optimization Method       :  mini-batch\n",
      "Learning Rate             :  0.0001\n",
      "Num Epoches               :  500\n",
      "-----------------------------------------------\n"
     ]
    }
   ],
   "source": [
    "\n",
    "# parameters for the model\n",
    "# the 1st and last element of layer_sizes correspond to number of features and number of outputs\n",
    "layer_sizes = [13,5,5,1]\n",
    "batch_size = 50\n",
    "num_epoches = 500\n",
    "learning_rate = 0.0001\n",
    "activation_function = 'ReLU'\n",
    "optimization = 'mini-batch'\n",
    "\n",
    "# creating the model object\n",
    "mlp = MLP(layer_sizes=layer_sizes,\n",
    "          batch_size=batch_size,\n",
    "          num_epoches=num_epoches,\n",
    "          learning_rate=learning_rate,\n",
    "          activation_function=activation_function,\n",
    "          optimization=optimization,\n",
    "         )\n",
    "\n",
    "mlp.loadData(df)\n",
    "mlp.splitData(0.8,True)\n",
    "mlp.printParameters()"
   ]
  },
  {
   "cell_type": "code",
   "execution_count": 886,
   "id": "4d5f76d1",
   "metadata": {
    "scrolled": true
   },
   "outputs": [
    {
     "name": "stdout",
     "output_type": "stream",
     "text": [
      "Epoch :  1  loss :  22437.099  acc :  444.457\n",
      "Epoch :  2  loss :  21653.882  acc :  428.987\n",
      "Epoch :  3  loss :  20971.017  acc :  415.167\n",
      "Epoch :  4  loss :  20363.495  acc :  403.433\n",
      "Epoch :  5  loss :  19819.989  acc :  392.389\n",
      "Epoch :  6  loss :  19328.952  acc :  382.485\n",
      "Epoch :  7  loss :  18878.785  acc :  373.686\n",
      "Epoch :  8  loss :  18460.082  acc :  365.745\n",
      "Epoch :  9  loss :  18068.832  acc :  357.758\n",
      "Epoch :  10  loss :  17689.633  acc :  350.401\n",
      "Epoch :  11  loss :  17320.985  acc :  342.959\n",
      "Epoch :  12  loss :  16961.406  acc :  335.721\n",
      "Epoch :  13  loss :  16604.897  acc :  328.752\n",
      "Epoch :  14  loss :  16248.958  acc :  321.769\n",
      "Epoch :  15  loss :  15899.458  acc :  314.704\n",
      "Epoch :  16  loss :  15545.908  acc :  308.0\n",
      "Epoch :  17  loss :  15191.705  acc :  300.679\n",
      "Epoch :  18  loss :  14843.89  acc :  293.828\n",
      "Epoch :  19  loss :  14492.834  acc :  287.016\n",
      "Epoch :  20  loss :  14153.406  acc :  280.406\n",
      "Epoch :  21  loss :  13815.554  acc :  273.413\n",
      "Epoch :  22  loss :  13474.641  acc :  266.828\n",
      "Epoch :  23  loss :  13145.937  acc :  260.189\n",
      "Epoch :  24  loss :  12807.886  acc :  253.711\n",
      "Epoch :  25  loss :  12497.335  acc :  247.546\n",
      "Epoch :  26  loss :  12189.75  acc :  241.366\n",
      "Epoch :  27  loss :  11890.265  acc :  235.611\n",
      "Epoch :  28  loss :  11608.52  acc :  230.089\n",
      "Epoch :  29  loss :  11332.948  acc :  224.644\n",
      "Epoch :  30  loss :  11084.737  acc :  219.514\n",
      "Epoch :  31  loss :  10833.528  acc :  214.462\n",
      "Epoch :  32  loss :  10595.351  acc :  209.784\n",
      "Epoch :  33  loss :  10375.624  acc :  205.289\n",
      "Epoch :  34  loss :  10154.975  acc :  201.042\n",
      "Epoch :  35  loss :  9950.392  acc :  197.19\n",
      "Epoch :  36  loss :  9751.634  acc :  193.049\n",
      "Epoch :  37  loss :  9560.932  acc :  189.2\n",
      "Epoch :  38  loss :  9379.108  acc :  185.757\n",
      "Epoch :  39  loss :  9212.048  acc :  182.401\n",
      "Epoch :  40  loss :  9038.096  acc :  178.922\n",
      "Epoch :  41  loss :  8885.787  acc :  175.824\n",
      "Epoch :  42  loss :  8735.674  acc :  173.009\n",
      "Epoch :  43  loss :  8583.182  acc :  169.925\n",
      "Epoch :  44  loss :  8450.176  acc :  167.135\n",
      "Epoch :  45  loss :  8316.677  acc :  164.841\n",
      "Epoch :  46  loss :  8184.971  acc :  161.957\n",
      "Epoch :  47  loss :  8058.483  acc :  159.585\n",
      "Epoch :  48  loss :  7941.28  acc :  157.143\n",
      "Epoch :  49  loss :  7826.69  acc :  155.026\n",
      "Epoch :  50  loss :  7713.935  acc :  152.528\n",
      "Epoch :  51  loss :  7600.004  acc :  150.646\n",
      "Epoch :  52  loss :  7491.157  acc :  148.269\n",
      "Epoch :  53  loss :  7386.2  acc :  146.197\n",
      "Epoch :  54  loss :  7283.796  acc :  144.178\n",
      "Epoch :  55  loss :  7179.77  acc :  142.243\n",
      "Epoch :  56  loss :  7074.715  acc :  140.031\n",
      "Epoch :  57  loss :  6983.872  acc :  138.279\n",
      "Epoch :  58  loss :  6900.52  acc :  136.814\n",
      "Epoch :  59  loss :  6806.921  acc :  134.843\n",
      "Epoch :  60  loss :  6721.99  acc :  133.079\n",
      "Epoch :  61  loss :  6639.862  acc :  131.408\n",
      "Epoch :  62  loss :  6556.572  acc :  129.969\n",
      "Epoch :  63  loss :  6473.33  acc :  128.212\n",
      "Epoch :  64  loss :  6403.193  acc :  126.804\n",
      "Epoch :  65  loss :  6323.657  acc :  125.202\n",
      "Epoch :  66  loss :  6252.491  acc :  123.797\n",
      "Epoch :  67  loss :  6186.07  acc :  122.468\n",
      "Epoch :  68  loss :  6115.991  acc :  121.134\n",
      "Epoch :  69  loss :  6038.128  acc :  119.598\n",
      "Epoch :  70  loss :  5973.637  acc :  118.07\n",
      "Epoch :  71  loss :  5907.928  acc :  117.072\n",
      "Epoch :  72  loss :  5848.938  acc :  115.685\n",
      "Epoch :  73  loss :  5784.375  acc :  114.579\n",
      "Epoch :  74  loss :  5720.534  acc :  113.268\n",
      "Epoch :  75  loss :  5662.622  acc :  111.987\n",
      "Epoch :  76  loss :  5602.514  acc :  110.847\n",
      "Epoch :  77  loss :  5548.705  acc :  110.007\n",
      "Epoch :  78  loss :  5498.529  acc :  108.817\n",
      "Epoch :  79  loss :  5440.21  acc :  107.73\n",
      "Epoch :  80  loss :  5389.811  acc :  106.657\n",
      "Epoch :  81  loss :  5329.123  acc :  105.701\n",
      "Epoch :  82  loss :  5284.251  acc :  104.59\n",
      "Epoch :  83  loss :  5231.677  acc :  103.577\n",
      "Epoch :  84  loss :  5188.987  acc :  102.756\n",
      "Epoch :  85  loss :  5144.839  acc :  101.796\n",
      "Epoch :  86  loss :  5089.672  acc :  100.912\n",
      "Epoch :  87  loss :  5043.925  acc :  99.998\n",
      "Epoch :  88  loss :  5007.931  acc :  99.209\n",
      "Epoch :  89  loss :  4969.097  acc :  98.351\n",
      "Epoch :  90  loss :  4919.96  acc :  97.468\n",
      "Epoch :  91  loss :  4888.407  acc :  96.816\n",
      "Epoch :  92  loss :  4850.193  acc :  95.954\n",
      "Epoch :  93  loss :  4810.426  acc :  95.343\n",
      "Epoch :  94  loss :  4775.717  acc :  94.535\n",
      "Epoch :  95  loss :  4739.071  acc :  93.753\n",
      "Epoch :  96  loss :  4707.642  acc :  93.289\n",
      "Epoch :  97  loss :  4670.131  acc :  92.297\n",
      "Epoch :  98  loss :  4636.822  acc :  91.822\n",
      "Epoch :  99  loss :  4598.388  acc :  91.178\n",
      "Epoch :  100  loss :  4569.771  acc :  90.451\n",
      "Epoch :  101  loss :  4544.129  acc :  89.942\n",
      "Epoch :  102  loss :  4509.667  acc :  89.313\n",
      "Epoch :  103  loss :  4472.685  acc :  88.637\n",
      "Epoch :  104  loss :  4454.275  acc :  88.285\n",
      "Epoch :  105  loss :  4425.752  acc :  87.401\n",
      "Epoch :  106  loss :  4403.371  acc :  87.247\n",
      "Epoch :  107  loss :  4368.845  acc :  86.589\n",
      "Epoch :  108  loss :  4348.235  acc :  86.042\n",
      "Epoch :  109  loss :  4314.385  acc :  85.559\n",
      "Epoch :  110  loss :  4295.724  acc :  85.137\n",
      "Epoch :  111  loss :  4272.876  acc :  84.619\n",
      "Epoch :  112  loss :  4250.15  acc :  84.073\n",
      "Epoch :  113  loss :  4235.022  acc :  83.745\n",
      "Epoch :  114  loss :  4209.339  acc :  83.317\n",
      "Epoch :  115  loss :  4184.967  acc :  82.892\n",
      "Epoch :  116  loss :  4156.076  acc :  82.443\n",
      "Epoch :  117  loss :  4138.08  acc :  82.064\n",
      "Epoch :  118  loss :  4119.765  acc :  81.599\n",
      "Epoch :  119  loss :  4107.117  acc :  81.217\n",
      "Epoch :  120  loss :  4083.203  acc :  80.901\n",
      "Epoch :  121  loss :  4067.179  acc :  80.562\n",
      "Epoch :  122  loss :  4049.827  acc :  80.282\n",
      "Epoch :  123  loss :  4031.034  acc :  79.876\n",
      "Epoch :  124  loss :  4022.393  acc :  79.487\n",
      "Epoch :  125  loss :  3993.957  acc :  79.085\n",
      "Epoch :  126  loss :  3979.702  acc :  78.943\n",
      "Epoch :  127  loss :  3967.296  acc :  78.387\n",
      "Epoch :  128  loss :  3947.012  acc :  78.131\n",
      "Epoch :  129  loss :  3930.528  acc :  77.931\n",
      "Epoch :  130  loss :  3913.462  acc :  77.506\n",
      "Epoch :  131  loss :  3904.351  acc :  77.224\n",
      "Epoch :  132  loss :  3886.959  acc :  77.034\n",
      "Epoch :  133  loss :  3872.943  acc :  76.753\n",
      "Epoch :  134  loss :  3857.417  acc :  76.389\n",
      "Epoch :  135  loss :  3846.204  acc :  76.147\n",
      "Epoch :  136  loss :  3841.67  acc :  76.101\n",
      "Epoch :  137  loss :  3822.366  acc :  75.603\n",
      "Epoch :  138  loss :  3806.809  acc :  75.459\n",
      "Epoch :  139  loss :  3793.355  acc :  75.202\n",
      "Epoch :  140  loss :  3784.037  acc :  74.897\n",
      "Epoch :  141  loss :  3771.631  acc :  74.806\n",
      "Epoch :  142  loss :  3760.069  acc :  74.607\n",
      "Epoch :  143  loss :  3754.72  acc :  74.202\n",
      "Epoch :  144  loss :  3742.526  acc :  74.071\n",
      "Epoch :  145  loss :  3731.173  acc :  73.926\n",
      "Epoch :  146  loss :  3718.784  acc :  73.549\n",
      "Epoch :  147  loss :  3705.281  acc :  73.464\n",
      "Epoch :  148  loss :  3701.993  acc :  73.139\n",
      "Epoch :  149  loss :  3688.094  acc :  73.187\n",
      "Epoch :  150  loss :  3682.528  acc :  72.946\n",
      "Epoch :  151  loss :  3669.755  acc :  72.853\n",
      "Epoch :  152  loss :  3657.476  acc :  72.537\n",
      "Epoch :  153  loss :  3647.613  acc :  72.306\n",
      "Epoch :  154  loss :  3641.531  acc :  72.113\n",
      "Epoch :  155  loss :  3630.126  acc :  72.064\n",
      "Epoch :  156  loss :  3626.082  acc :  71.704\n",
      "Epoch :  157  loss :  3618.097  acc :  71.599\n",
      "Epoch :  158  loss :  3605.291  acc :  71.31\n",
      "Epoch :  159  loss :  3594.087  acc :  71.152\n",
      "Epoch :  160  loss :  3587.129  acc :  71.178\n",
      "Epoch :  161  loss :  3579.11  acc :  70.979\n",
      "Epoch :  162  loss :  3569.696  acc :  70.707\n",
      "Epoch :  163  loss :  3562.481  acc :  70.579\n",
      "Epoch :  164  loss :  3550.637  acc :  70.302\n",
      "Epoch :  165  loss :  3549.264  acc :  70.33\n",
      "Epoch :  166  loss :  3538.524  acc :  70.036\n",
      "Epoch :  167  loss :  3530.675  acc :  69.852\n",
      "Epoch :  168  loss :  3523.17  acc :  69.706\n",
      "Epoch :  169  loss :  3515.283  acc :  69.636\n",
      "Epoch :  170  loss :  3506.589  acc :  69.426\n",
      "Epoch :  171  loss :  3498.758  acc :  69.327\n",
      "Epoch :  172  loss :  3489.926  acc :  69.316\n",
      "Epoch :  173  loss :  3490.139  acc :  69.144\n",
      "Epoch :  174  loss :  3478.54  acc :  68.921\n",
      "Epoch :  175  loss :  3471.831  acc :  68.757\n",
      "Epoch :  176  loss :  3465.822  acc :  68.609\n",
      "Epoch :  177  loss :  3458.645  acc :  68.439\n",
      "Epoch :  178  loss :  3453.877  acc :  68.377\n",
      "Epoch :  179  loss :  3449.586  acc :  68.278\n",
      "Epoch :  180  loss :  3439.164  acc :  68.099\n",
      "Epoch :  181  loss :  3432.757  acc :  68.026\n",
      "Epoch :  182  loss :  3425.175  acc :  67.788\n"
     ]
    },
    {
     "name": "stdout",
     "output_type": "stream",
     "text": [
      "Epoch :  183  loss :  3420.986  acc :  67.686\n",
      "Epoch :  184  loss :  3416.405  acc :  67.561\n",
      "Epoch :  185  loss :  3402.835  acc :  67.36\n",
      "Epoch :  186  loss :  3398.976  acc :  67.377\n",
      "Epoch :  187  loss :  3392.266  acc :  67.264\n",
      "Epoch :  188  loss :  3386.246  acc :  67.234\n",
      "Epoch :  189  loss :  3385.528  acc :  66.891\n",
      "Epoch :  190  loss :  3374.893  acc :  66.825\n",
      "Epoch :  191  loss :  3369.115  acc :  66.816\n",
      "Epoch :  192  loss :  3365.759  acc :  66.672\n",
      "Epoch :  193  loss :  3361.62  acc :  66.539\n",
      "Epoch :  194  loss :  3352.228  acc :  66.416\n",
      "Epoch :  195  loss :  3350.213  acc :  66.359\n",
      "Epoch :  196  loss :  3343.895  acc :  66.279\n",
      "Epoch :  197  loss :  3336.421  acc :  66.086\n",
      "Epoch :  198  loss :  3331.519  acc :  66.034\n",
      "Epoch :  199  loss :  3327.864  acc :  66.036\n",
      "Epoch :  200  loss :  3324.173  acc :  65.758\n",
      "Epoch :  201  loss :  3321.009  acc :  65.642\n",
      "Epoch :  202  loss :  3307.426  acc :  65.495\n",
      "Epoch :  203  loss :  3303.596  acc :  65.523\n",
      "Epoch :  204  loss :  3298.157  acc :  65.521\n",
      "Epoch :  205  loss :  3293.579  acc :  65.228\n",
      "Epoch :  206  loss :  3291.066  acc :  65.087\n",
      "Epoch :  207  loss :  3283.319  acc :  65.076\n",
      "Epoch :  208  loss :  3280.027  acc :  64.838\n",
      "Epoch :  209  loss :  3279.913  acc :  64.907\n",
      "Epoch :  210  loss :  3269.519  acc :  64.859\n",
      "Epoch :  211  loss :  3264.041  acc :  64.689\n",
      "Epoch :  212  loss :  3263.129  acc :  64.561\n",
      "Epoch :  213  loss :  3254.135  acc :  64.422\n",
      "Epoch :  214  loss :  3255.462  acc :  64.371\n",
      "Epoch :  215  loss :  3246.38  acc :  64.264\n",
      "Epoch :  216  loss :  3245.777  acc :  64.207\n",
      "Epoch :  217  loss :  3241.096  acc :  64.164\n",
      "Epoch :  218  loss :  3232.284  acc :  64.117\n",
      "Epoch :  219  loss :  3230.494  acc :  63.903\n",
      "Epoch :  220  loss :  3222.506  acc :  63.878\n",
      "Epoch :  221  loss :  3222.542  acc :  63.736\n",
      "Epoch :  222  loss :  3215.009  acc :  63.693\n",
      "Epoch :  223  loss :  3207.358  acc :  63.69\n",
      "Epoch :  224  loss :  3203.887  acc :  63.516\n",
      "Epoch :  225  loss :  3201.773  acc :  63.407\n",
      "Epoch :  226  loss :  3197.216  acc :  63.311\n",
      "Epoch :  227  loss :  3191.78  acc :  63.18\n",
      "Epoch :  228  loss :  3189.101  acc :  63.216\n",
      "Epoch :  229  loss :  3185.761  acc :  62.971\n",
      "Epoch :  230  loss :  3184.815  acc :  63.158\n",
      "Epoch :  231  loss :  3176.75  acc :  62.848\n",
      "Epoch :  232  loss :  3172.511  acc :  62.771\n",
      "Epoch :  233  loss :  3164.802  acc :  62.847\n",
      "Epoch :  234  loss :  3163.67  acc :  62.682\n",
      "Epoch :  235  loss :  3157.984  acc :  62.529\n",
      "Epoch :  236  loss :  3155.662  acc :  62.44\n",
      "Epoch :  237  loss :  3151.205  acc :  62.367\n",
      "Epoch :  238  loss :  3147.628  acc :  62.289\n",
      "Epoch :  239  loss :  3142.805  acc :  62.204\n",
      "Epoch :  240  loss :  3135.572  acc :  62.194\n",
      "Epoch :  241  loss :  3137.055  acc :  62.0\n",
      "Epoch :  242  loss :  3130.375  acc :  62.039\n",
      "Epoch :  243  loss :  3128.473  acc :  62.005\n",
      "Epoch :  244  loss :  3122.899  acc :  61.82\n",
      "Epoch :  245  loss :  3118.336  acc :  61.702\n",
      "Epoch :  246  loss :  3111.038  acc :  61.769\n",
      "Epoch :  247  loss :  3112.625  acc :  61.681\n",
      "Epoch :  248  loss :  3106.375  acc :  61.495\n",
      "Epoch :  249  loss :  3101.489  acc :  61.411\n",
      "Epoch :  250  loss :  3097.702  acc :  61.285\n",
      "Epoch :  251  loss :  3090.492  acc :  61.198\n",
      "Epoch :  252  loss :  3090.728  acc :  61.14\n",
      "Epoch :  253  loss :  3087.073  acc :  61.033\n",
      "Epoch :  254  loss :  3083.372  acc :  61.014\n",
      "Epoch :  255  loss :  3075.716  acc :  60.962\n",
      "Epoch :  256  loss :  3074.746  acc :  60.842\n",
      "Epoch :  257  loss :  3070.318  acc :  60.838\n",
      "Epoch :  258  loss :  3067.131  acc :  60.787\n",
      "Epoch :  259  loss :  3067.218  acc :  60.775\n",
      "Epoch :  260  loss :  3059.89  acc :  60.642\n",
      "Epoch :  261  loss :  3056.774  acc :  60.48\n",
      "Epoch :  262  loss :  3051.272  acc :  60.448\n",
      "Epoch :  263  loss :  3047.441  acc :  60.313\n",
      "Epoch :  264  loss :  3042.965  acc :  60.318\n",
      "Epoch :  265  loss :  3040.655  acc :  60.218\n",
      "Epoch :  266  loss :  3040.792  acc :  60.117\n",
      "Epoch :  267  loss :  3032.727  acc :  60.026\n",
      "Epoch :  268  loss :  3033.556  acc :  59.96\n",
      "Epoch :  269  loss :  3027.043  acc :  60.077\n",
      "Epoch :  270  loss :  3023.999  acc :  59.94\n",
      "Epoch :  271  loss :  3021.227  acc :  59.806\n",
      "Epoch :  272  loss :  3016.682  acc :  59.656\n",
      "Epoch :  273  loss :  3011.017  acc :  59.727\n",
      "Epoch :  274  loss :  3008.71  acc :  59.628\n",
      "Epoch :  275  loss :  3004.51  acc :  59.572\n",
      "Epoch :  276  loss :  2998.768  acc :  59.517\n",
      "Epoch :  277  loss :  2995.686  acc :  59.387\n",
      "Epoch :  278  loss :  2993.672  acc :  59.328\n",
      "Epoch :  279  loss :  2990.342  acc :  59.314\n",
      "Epoch :  280  loss :  2989.178  acc :  59.175\n",
      "Epoch :  281  loss :  2985.335  acc :  59.176\n",
      "Epoch :  282  loss :  2982.733  acc :  58.937\n",
      "Epoch :  283  loss :  2978.478  acc :  58.971\n",
      "Epoch :  284  loss :  2975.29  acc :  58.818\n",
      "Epoch :  285  loss :  2971.742  acc :  58.827\n",
      "Epoch :  286  loss :  2965.686  acc :  58.784\n",
      "Epoch :  287  loss :  2963.407  acc :  58.74\n",
      "Epoch :  288  loss :  2960.138  acc :  58.713\n",
      "Epoch :  289  loss :  2960.651  acc :  58.641\n",
      "Epoch :  290  loss :  2956.098  acc :  58.46\n",
      "Epoch :  291  loss :  2953.482  acc :  58.504\n",
      "Epoch :  292  loss :  2951.334  acc :  58.389\n",
      "Epoch :  293  loss :  2945.357  acc :  58.302\n",
      "Epoch :  294  loss :  2942.154  acc :  58.37\n",
      "Epoch :  295  loss :  2940.875  acc :  58.32\n",
      "Epoch :  296  loss :  2936.159  acc :  58.278\n",
      "Epoch :  297  loss :  2937.711  acc :  57.996\n",
      "Epoch :  298  loss :  2928.679  acc :  58.054\n",
      "Epoch :  299  loss :  2925.596  acc :  58.068\n",
      "Epoch :  300  loss :  2922.656  acc :  57.989\n",
      "Epoch :  301  loss :  2920.645  acc :  57.895\n",
      "Epoch :  302  loss :  2916.122  acc :  57.804\n",
      "Epoch :  303  loss :  2915.151  acc :  57.701\n",
      "Epoch :  304  loss :  2908.278  acc :  57.702\n",
      "Epoch :  305  loss :  2908.879  acc :  57.736\n",
      "Epoch :  306  loss :  2906.813  acc :  57.565\n",
      "Epoch :  307  loss :  2903.407  acc :  57.45\n",
      "Epoch :  308  loss :  2898.819  acc :  57.483\n",
      "Epoch :  309  loss :  2898.094  acc :  57.391\n",
      "Epoch :  310  loss :  2893.184  acc :  57.33\n",
      "Epoch :  311  loss :  2889.047  acc :  57.341\n",
      "Epoch :  312  loss :  2885.403  acc :  57.304\n",
      "Epoch :  313  loss :  2883.259  acc :  57.122\n",
      "Epoch :  314  loss :  2884.177  acc :  57.044\n",
      "Epoch :  315  loss :  2879.897  acc :  57.009\n",
      "Epoch :  316  loss :  2873.235  acc :  57.037\n",
      "Epoch :  317  loss :  2875.44  acc :  56.807\n",
      "Epoch :  318  loss :  2869.201  acc :  56.765\n",
      "Epoch :  319  loss :  2867.334  acc :  56.743\n",
      "Epoch :  320  loss :  2866.607  acc :  56.74\n",
      "Epoch :  321  loss :  2862.348  acc :  56.858\n",
      "Epoch :  322  loss :  2857.26  acc :  56.674\n",
      "Epoch :  323  loss :  2853.977  acc :  56.621\n",
      "Epoch :  324  loss :  2854.872  acc :  56.379\n",
      "Epoch :  325  loss :  2847.235  acc :  56.393\n",
      "Epoch :  326  loss :  2843.915  acc :  56.405\n",
      "Epoch :  327  loss :  2846.857  acc :  56.261\n",
      "Epoch :  328  loss :  2839.48  acc :  56.459\n",
      "Epoch :  329  loss :  2839.742  acc :  56.148\n",
      "Epoch :  330  loss :  2838.799  acc :  56.144\n",
      "Epoch :  331  loss :  2831.656  acc :  56.061\n",
      "Epoch :  332  loss :  2830.441  acc :  55.954\n",
      "Epoch :  333  loss :  2825.976  acc :  56.014\n",
      "Epoch :  334  loss :  2823.845  acc :  55.93\n",
      "Epoch :  335  loss :  2824.176  acc :  55.979\n",
      "Epoch :  336  loss :  2817.243  acc :  55.847\n",
      "Epoch :  337  loss :  2817.719  acc :  55.688\n",
      "Epoch :  338  loss :  2811.009  acc :  55.694\n",
      "Epoch :  339  loss :  2812.093  acc :  55.573\n",
      "Epoch :  340  loss :  2810.095  acc :  55.61\n",
      "Epoch :  341  loss :  2804.593  acc :  55.666\n",
      "Epoch :  342  loss :  2804.168  acc :  55.437\n",
      "Epoch :  343  loss :  2798.673  acc :  55.474\n",
      "Epoch :  344  loss :  2798.989  acc :  55.322\n",
      "Epoch :  345  loss :  2797.202  acc :  55.324\n",
      "Epoch :  346  loss :  2791.097  acc :  55.286\n",
      "Epoch :  347  loss :  2791.156  acc :  55.152\n",
      "Epoch :  348  loss :  2784.072  acc :  55.126\n",
      "Epoch :  349  loss :  2781.19  acc :  55.057\n",
      "Epoch :  350  loss :  2780.331  acc :  54.939\n",
      "Epoch :  351  loss :  2777.953  acc :  54.975\n",
      "Epoch :  352  loss :  2772.71  acc :  54.936\n",
      "Epoch :  353  loss :  2772.636  acc :  54.915\n",
      "Epoch :  354  loss :  2769.504  acc :  54.769\n",
      "Epoch :  355  loss :  2766.414  acc :  54.763\n",
      "Epoch :  356  loss :  2761.543  acc :  54.694\n",
      "Epoch :  357  loss :  2759.975  acc :  54.659\n",
      "Epoch :  358  loss :  2757.806  acc :  54.667\n",
      "Epoch :  359  loss :  2754.609  acc :  54.688\n",
      "Epoch :  360  loss :  2756.509  acc :  54.465\n",
      "Epoch :  361  loss :  2749.885  acc :  54.49\n"
     ]
    },
    {
     "name": "stdout",
     "output_type": "stream",
     "text": [
      "Epoch :  362  loss :  2747.763  acc :  54.394\n",
      "Epoch :  363  loss :  2743.381  acc :  54.46\n",
      "Epoch :  364  loss :  2742.65  acc :  54.303\n",
      "Epoch :  365  loss :  2743.56  acc :  54.31\n",
      "Epoch :  366  loss :  2738.056  acc :  54.19\n",
      "Epoch :  367  loss :  2733.042  acc :  54.146\n",
      "Epoch :  368  loss :  2731.109  acc :  54.135\n",
      "Epoch :  369  loss :  2728.246  acc :  54.064\n",
      "Epoch :  370  loss :  2725.618  acc :  54.027\n",
      "Epoch :  371  loss :  2723.009  acc :  54.09\n",
      "Epoch :  372  loss :  2724.051  acc :  53.748\n",
      "Epoch :  373  loss :  2719.587  acc :  53.871\n",
      "Epoch :  374  loss :  2718.653  acc :  53.695\n",
      "Epoch :  375  loss :  2714.022  acc :  53.66\n",
      "Epoch :  376  loss :  2711.313  acc :  53.671\n",
      "Epoch :  377  loss :  2709.816  acc :  53.688\n",
      "Epoch :  378  loss :  2705.166  acc :  53.499\n",
      "Epoch :  379  loss :  2703.483  acc :  53.652\n",
      "Epoch :  380  loss :  2702.044  acc :  53.52\n",
      "Epoch :  381  loss :  2698.713  acc :  53.466\n",
      "Epoch :  382  loss :  2695.668  acc :  53.381\n",
      "Epoch :  383  loss :  2694.183  acc :  53.424\n",
      "Epoch :  384  loss :  2690.715  acc :  53.431\n",
      "Epoch :  385  loss :  2688.431  acc :  53.271\n",
      "Epoch :  386  loss :  2688.234  acc :  53.177\n",
      "Epoch :  387  loss :  2685.077  acc :  53.252\n",
      "Epoch :  388  loss :  2682.175  acc :  53.251\n",
      "Epoch :  389  loss :  2680.178  acc :  53.178\n",
      "Epoch :  390  loss :  2676.248  acc :  53.006\n",
      "Epoch :  391  loss :  2678.904  acc :  52.988\n",
      "Epoch :  392  loss :  2671.204  acc :  52.848\n",
      "Epoch :  393  loss :  2672.414  acc :  52.785\n",
      "Epoch :  394  loss :  2667.195  acc :  52.888\n",
      "Epoch :  395  loss :  2668.528  acc :  52.693\n",
      "Epoch :  396  loss :  2664.059  acc :  52.842\n",
      "Epoch :  397  loss :  2660.968  acc :  52.665\n",
      "Epoch :  398  loss :  2659.256  acc :  52.69\n",
      "Epoch :  399  loss :  2657.611  acc :  52.671\n",
      "Epoch :  400  loss :  2656.282  acc :  52.557\n",
      "Epoch :  401  loss :  2652.738  acc :  52.604\n",
      "Epoch :  402  loss :  2650.252  acc :  52.449\n",
      "Epoch :  403  loss :  2649.289  acc :  52.373\n",
      "Epoch :  404  loss :  2648.401  acc :  52.328\n",
      "Epoch :  405  loss :  2641.576  acc :  52.446\n",
      "Epoch :  406  loss :  2641.66  acc :  52.367\n",
      "Epoch :  407  loss :  2640.016  acc :  52.372\n",
      "Epoch :  408  loss :  2636.438  acc :  52.346\n",
      "Epoch :  409  loss :  2634.546  acc :  52.181\n",
      "Epoch :  410  loss :  2631.638  acc :  52.122\n",
      "Epoch :  411  loss :  2631.43  acc :  52.081\n",
      "Epoch :  412  loss :  2628.91  acc :  52.13\n",
      "Epoch :  413  loss :  2625.084  acc :  51.993\n",
      "Epoch :  414  loss :  2625.523  acc :  52.096\n",
      "Epoch :  415  loss :  2622.351  acc :  51.999\n",
      "Epoch :  416  loss :  2619.539  acc :  51.82\n",
      "Epoch :  417  loss :  2617.246  acc :  51.934\n",
      "Epoch :  418  loss :  2614.123  acc :  51.876\n",
      "Epoch :  419  loss :  2614.081  acc :  51.754\n",
      "Epoch :  420  loss :  2610.13  acc :  51.841\n",
      "Epoch :  421  loss :  2611.071  acc :  51.686\n",
      "Epoch :  422  loss :  2606.083  acc :  51.77\n",
      "Epoch :  423  loss :  2605.571  acc :  51.598\n",
      "Epoch :  424  loss :  2603.384  acc :  51.688\n",
      "Epoch :  425  loss :  2601.869  acc :  51.585\n",
      "Epoch :  426  loss :  2600.648  acc :  51.398\n",
      "Epoch :  427  loss :  2598.337  acc :  51.457\n",
      "Epoch :  428  loss :  2596.248  acc :  51.307\n",
      "Epoch :  429  loss :  2592.325  acc :  51.315\n",
      "Epoch :  430  loss :  2588.6  acc :  51.371\n",
      "Epoch :  431  loss :  2589.972  acc :  51.216\n",
      "Epoch :  432  loss :  2585.274  acc :  51.348\n",
      "Epoch :  433  loss :  2583.871  acc :  51.223\n",
      "Epoch :  434  loss :  2582.641  acc :  51.088\n",
      "Epoch :  435  loss :  2580.483  acc :  51.004\n",
      "Epoch :  436  loss :  2578.228  acc :  51.124\n",
      "Epoch :  437  loss :  2576.15  acc :  51.092\n",
      "Epoch :  438  loss :  2576.524  acc :  50.929\n",
      "Epoch :  439  loss :  2573.521  acc :  50.894\n",
      "Epoch :  440  loss :  2569.481  acc :  50.889\n",
      "Epoch :  441  loss :  2570.161  acc :  50.809\n",
      "Epoch :  442  loss :  2569.539  acc :  50.866\n",
      "Epoch :  443  loss :  2564.163  acc :  50.661\n",
      "Epoch :  444  loss :  2563.573  acc :  50.773\n",
      "Epoch :  445  loss :  2562.22  acc :  50.738\n",
      "Epoch :  446  loss :  2559.381  acc :  50.592\n",
      "Epoch :  447  loss :  2557.893  acc :  50.654\n",
      "Epoch :  448  loss :  2554.699  acc :  50.606\n",
      "Epoch :  449  loss :  2551.395  acc :  50.539\n",
      "Epoch :  450  loss :  2551.175  acc :  50.537\n",
      "Epoch :  451  loss :  2548.835  acc :  50.374\n",
      "Epoch :  452  loss :  2547.107  acc :  50.327\n",
      "Epoch :  453  loss :  2544.857  acc :  50.478\n",
      "Epoch :  454  loss :  2544.097  acc :  50.389\n",
      "Epoch :  455  loss :  2543.276  acc :  50.34\n",
      "Epoch :  456  loss :  2539.054  acc :  50.292\n",
      "Epoch :  457  loss :  2539.08  acc :  50.302\n",
      "Epoch :  458  loss :  2535.014  acc :  50.198\n",
      "Epoch :  459  loss :  2534.3  acc :  50.224\n",
      "Epoch :  460  loss :  2533.992  acc :  50.211\n",
      "Epoch :  461  loss :  2532.022  acc :  50.127\n",
      "Epoch :  462  loss :  2528.127  acc :  50.141\n",
      "Epoch :  463  loss :  2527.274  acc :  50.023\n",
      "Epoch :  464  loss :  2526.645  acc :  49.905\n",
      "Epoch :  465  loss :  2522.812  acc :  49.885\n",
      "Epoch :  466  loss :  2520.411  acc :  49.938\n",
      "Epoch :  467  loss :  2518.483  acc :  49.895\n",
      "Epoch :  468  loss :  2517.894  acc :  49.766\n",
      "Epoch :  469  loss :  2516.964  acc :  49.962\n",
      "Epoch :  470  loss :  2513.12  acc :  49.754\n",
      "Epoch :  471  loss :  2512.014  acc :  49.793\n",
      "Epoch :  472  loss :  2511.411  acc :  49.664\n",
      "Epoch :  473  loss :  2508.753  acc :  49.614\n",
      "Epoch :  474  loss :  2508.835  acc :  49.584\n",
      "Epoch :  475  loss :  2505.02  acc :  49.631\n",
      "Epoch :  476  loss :  2504.835  acc :  49.645\n",
      "Epoch :  477  loss :  2503.93  acc :  49.445\n",
      "Epoch :  478  loss :  2497.961  acc :  49.573\n",
      "Epoch :  479  loss :  2497.453  acc :  49.549\n",
      "Epoch :  480  loss :  2496.824  acc :  49.476\n",
      "Epoch :  481  loss :  2494.139  acc :  49.503\n",
      "Epoch :  482  loss :  2494.659  acc :  49.386\n",
      "Epoch :  483  loss :  2492.377  acc :  49.259\n",
      "Epoch :  484  loss :  2488.436  acc :  49.267\n",
      "Epoch :  485  loss :  2487.244  acc :  49.156\n",
      "Epoch :  486  loss :  2486.11  acc :  49.225\n",
      "Epoch :  487  loss :  2482.101  acc :  49.078\n",
      "Epoch :  488  loss :  2484.258  acc :  49.032\n",
      "Epoch :  489  loss :  2480.564  acc :  49.201\n",
      "Epoch :  490  loss :  2481.033  acc :  48.994\n",
      "Epoch :  491  loss :  2478.373  acc :  49.071\n",
      "Epoch :  492  loss :  2474.83  acc :  49.101\n",
      "Epoch :  493  loss :  2472.607  acc :  48.923\n",
      "Epoch :  494  loss :  2472.81  acc :  48.887\n",
      "Epoch :  495  loss :  2470.918  acc :  48.868\n",
      "Epoch :  496  loss :  2470.505  acc :  48.889\n",
      "Epoch :  497  loss :  2466.801  acc :  48.891\n",
      "Epoch :  498  loss :  2467.863  acc :  48.768\n",
      "Epoch :  499  loss :  2462.364  acc :  48.756\n",
      "Epoch :  500  loss :  2461.533  acc :  48.844\n"
     ]
    }
   ],
   "source": [
    "mlp.fit()"
   ]
  },
  {
   "cell_type": "code",
   "execution_count": 887,
   "id": "3a368749",
   "metadata": {},
   "outputs": [
    {
     "data": {
      "image/png": "[encoded data removed]",
      "text/plain": [
       "<Figure size 640x480 with 1 Axes>"
      ]
     },
     "metadata": {},
     "output_type": "display_data"
    }
   ],
   "source": [
    "# plt.figure(figsize=(12,3))\n",
    "\n",
    "# adding base condition to get initial accuracy of 0\n",
    "\n",
    "plt.plot(mlp.A,label='Training')\n",
    "plt.plot(mlp.validation_accuracy,label='Validation')\n",
    "plt.title('Mean Squared Error')\n",
    "plt.grid()\n",
    "plt.xlabel('Epoches')\n",
    "plt.ylabel('MSE')\n",
    "plt.legend()\n",
    "\n",
    "plt.show()\n",
    "\n"
   ]
  },
  {
   "cell_type": "markdown",
   "id": "9cd541b8",
   "metadata": {},
   "source": [
    "## Testing the model on Test-data and reporting Loss Scores"
   ]
  },
  {
   "cell_type": "code",
   "execution_count": 888,
   "id": "ee09316a",
   "metadata": {},
   "outputs": [
    {
     "data": {
      "image/png": "[encoded data removed]",
      "text/plain": [
       "<Figure size 640x480 with 1 Axes>"
      ]
     },
     "metadata": {},
     "output_type": "display_data"
    },
    {
     "name": "stdout",
     "output_type": "stream",
     "text": [
      "--------------------------------------------------------------------------------\n",
      "Mean Squared Error (MSE)                 : 41.86\n",
      "Root Mean Squared Error (RMSE)           : 6.47\n",
      "R-squared (Coefficient of Determination) : 0.50\n",
      "--------------------------------------------------------------------------------\n"
     ]
    }
   ],
   "source": [
    "mlp.predict()"
   ]
  },
  {
   "cell_type": "markdown",
   "id": "1a772f49",
   "metadata": {},
   "source": [
    "---\n",
    "### Resources (for theory only)\n",
    "\n",
    "- https://medium.com/practical-coding/two-ways-to-do-regression-with-neural-networks-db29a4ef701#:~:text=It%20is%20common%20to%20scale,get%20a%20continuous%20valued%20output."
   ]
  },
  {
   "cell_type": "markdown",
   "id": "a5223672",
   "metadata": {},
   "source": [
    "# WandB logging"
   ]
  },
  {
   "cell_type": "code",
   "execution_count": 25,
   "id": "90a7d144",
   "metadata": {},
   "outputs": [
    {
     "name": "stdout",
     "output_type": "stream",
     "text": [
      "0\n"
     ]
    },
    {
     "data": {
      "text/html": [
       "Finishing last run (ID:b5iiwnl2) before initializing another..."
      ],
      "text/plain": [
       "<IPython.core.display.HTML object>"
      ]
     },
     "metadata": {},
     "output_type": "display_data"
    },
    {
     "data": {
      "text/html": [
       "Waiting for W&B process to finish... <strong style=\"color:green\">(success).</strong>"
      ],
      "text/plain": [
       "<IPython.core.display.HTML object>"
      ]
     },
     "metadata": {},
     "output_type": "display_data"
    },
    {
     "data": {
      "text/html": [
       "<style>\n",
       "    table.wandb td:nth-child(1) { padding: 0 10px; text-align: left ; width: auto;} td:nth-child(2) {text-align: left ; width: 100%}\n",
       "    .wandb-row { display: flex; flex-direction: row; flex-wrap: wrap; justify-content: flex-start; width: 100% }\n",
       "    .wandb-col { display: flex; flex-direction: column; flex-basis: 100%; flex: 1; padding: 10px; }\n",
       "    </style>\n",
       "<div class=\"wandb-row\"><div class=\"wandb-col\"><h3>Run history:</h3><br/><table class=\"wandb\"><tr><td>loss (MSE) </td><td>▁</td></tr></table><br/></div><div class=\"wandb-col\"><h3>Run summary:</h3><br/><table class=\"wandb\"><tr><td>loss (MSE) </td><td>2.5369750205065034e+23</td></tr></table><br/></div></div>"
      ],
      "text/plain": [
       "<IPython.core.display.HTML object>"
      ]
     },
     "metadata": {},
     "output_type": "display_data"
    },
    {
     "data": {
      "text/html": [
       " View run <strong style=\"color:#cdcd00\">jolly-gorge-34</strong> at: <a href='https://wandb.ai/tejas591995/MLPRegression/runs/b5iiwnl2' target=\"_blank\">https://wandb.ai/tejas591995/MLPRegression/runs/b5iiwnl2</a><br/> View job at <a href='https://wandb.ai/tejas591995/MLPRegression/jobs/QXJ0aWZhY3RDb2xsZWN0aW9uOjEwOTI0MTE5NQ==/version_details/v1' target=\"_blank\">https://wandb.ai/tejas591995/MLPRegression/jobs/QXJ0aWZhY3RDb2xsZWN0aW9uOjEwOTI0MTE5NQ==/version_details/v1</a><br/>Synced 6 W&B file(s), 0 media file(s), 0 artifact file(s) and 0 other file(s)"
      ],
      "text/plain": [
       "<IPython.core.display.HTML object>"
      ]
     },
     "metadata": {},
     "output_type": "display_data"
    },
    {
     "data": {
      "text/html": [
       "Find logs at: <code>./wandb/run-20231023_205127-b5iiwnl2/logs</code>"
      ],
      "text/plain": [
       "<IPython.core.display.HTML object>"
      ]
     },
     "metadata": {},
     "output_type": "display_data"
    },
    {
     "data": {
      "text/html": [
       "Successfully finished last run (ID:b5iiwnl2). Initializing new run:<br/>"
      ],
      "text/plain": [
       "<IPython.core.display.HTML object>"
      ]
     },
     "metadata": {},
     "output_type": "display_data"
    },
    {
     "data": {
      "application/vnd.jupyter.widget-view+json": {
       "model_id": "3f4aeb1bdeda47388609d40d530b8460",
       "version_major": 2,
       "version_minor": 0
      },
      "text/plain": [
       "VBox(children=(Label(value='Waiting for wandb.init()...\\r'), FloatProgress(value=0.011114078166671485, max=1.0…"
      ]
     },
     "metadata": {},
     "output_type": "display_data"
    },
    {
     "data": {
      "text/html": [
       "wandb version 0.15.12 is available!  To upgrade, please run:\n",
       " $ pip install wandb --upgrade"
      ],
      "text/plain": [
       "<IPython.core.display.HTML object>"
      ]
     },
     "metadata": {},
     "output_type": "display_data"
    },
    {
     "data": {
      "text/html": [
       "Tracking run with wandb version 0.15.11"
      ],
      "text/plain": [
       "<IPython.core.display.HTML object>"
      ]
     },
     "metadata": {},
     "output_type": "display_data"
    },
    {
     "data": {
      "text/html": [
       "Run data is saved locally in <code>/home/tejas/Documents/SMAI/assignment-3-MrTejas/q3/wandb/run-20231023_205328-sym30x51</code>"
      ],
      "text/plain": [
       "<IPython.core.display.HTML object>"
      ]
     },
     "metadata": {},
     "output_type": "display_data"
    },
    {
     "data": {
      "text/html": [
       "Syncing run <strong><a href='https://wandb.ai/tejas591995/MLPRegression/runs/sym30x51' target=\"_blank\">grateful-waterfall-35</a></strong> to <a href='https://wandb.ai/tejas591995/MLPRegression' target=\"_blank\">Weights & Biases</a> (<a href='https://wandb.me/run' target=\"_blank\">docs</a>)<br/>"
      ],
      "text/plain": [
       "<IPython.core.display.HTML object>"
      ]
     },
     "metadata": {},
     "output_type": "display_data"
    },
    {
     "data": {
      "text/html": [
       " View project at <a href='https://wandb.ai/tejas591995/MLPRegression' target=\"_blank\">https://wandb.ai/tejas591995/MLPRegression</a>"
      ],
      "text/plain": [
       "<IPython.core.display.HTML object>"
      ]
     },
     "metadata": {},
     "output_type": "display_data"
    },
    {
     "data": {
      "text/html": [
       " View run at <a href='https://wandb.ai/tejas591995/MLPRegression/runs/sym30x51' target=\"_blank\">https://wandb.ai/tejas591995/MLPRegression/runs/sym30x51</a>"
      ],
      "text/plain": [
       "<IPython.core.display.HTML object>"
      ]
     },
     "metadata": {},
     "output_type": "display_data"
    },
    {
     "name": "stdout",
     "output_type": "stream",
     "text": [
      "Initialized values successfully!\n",
      "Loaded Dataframe!\n",
      "Splitted data into train, test and val sets!\n"
     ]
    },
    {
     "name": "stderr",
     "output_type": "stream",
     "text": [
      "/tmp/ipykernel_35761/2829981479.py:150: RuntimeWarning: overflow encountered in square\n",
      "  return np.sum((y_hat-y)**2)\n",
      "/home/tejas/anaconda3/lib/python3.9/site-packages/sklearn/metrics/_regression.py:442: RuntimeWarning: overflow encountered in square\n",
      "  output_errors = np.average((y_true - y_pred) ** 2, axis=0, weights=sample_weight)\n"
     ]
    },
    {
     "data": {
      "text/html": [
       "Waiting for W&B process to finish... <strong style=\"color:green\">(success).</strong>"
      ],
      "text/plain": [
       "<IPython.core.display.HTML object>"
      ]
     },
     "metadata": {},
     "output_type": "display_data"
    },
    {
     "data": {
      "text/html": [
       "<style>\n",
       "    table.wandb td:nth-child(1) { padding: 0 10px; text-align: left ; width: auto;} td:nth-child(2) {text-align: left ; width: 100%}\n",
       "    .wandb-row { display: flex; flex-direction: row; flex-wrap: wrap; justify-content: flex-start; width: 100% }\n",
       "    .wandb-col { display: flex; flex-direction: column; flex-basis: 100%; flex: 1; padding: 10px; }\n",
       "    </style>\n",
       "<div class=\"wandb-row\"><div class=\"wandb-col\"><h3>Run summary:</h3><br/><table class=\"wandb\"><tr><td>loss (MSE) </td><td>nan</td></tr></table><br/></div></div>"
      ],
      "text/plain": [
       "<IPython.core.display.HTML object>"
      ]
     },
     "metadata": {},
     "output_type": "display_data"
    },
    {
     "data": {
      "text/html": [
       " View run <strong style=\"color:#cdcd00\">grateful-waterfall-35</strong> at: <a href='https://wandb.ai/tejas591995/MLPRegression/runs/sym30x51' target=\"_blank\">https://wandb.ai/tejas591995/MLPRegression/runs/sym30x51</a><br/> View job at <a href='https://wandb.ai/tejas591995/MLPRegression/jobs/QXJ0aWZhY3RDb2xsZWN0aW9uOjEwOTI0MTE5NQ==/version_details/v2' target=\"_blank\">https://wandb.ai/tejas591995/MLPRegression/jobs/QXJ0aWZhY3RDb2xsZWN0aW9uOjEwOTI0MTE5NQ==/version_details/v2</a><br/>Synced 6 W&B file(s), 0 media file(s), 2 artifact file(s) and 0 other file(s)"
      ],
      "text/plain": [
       "<IPython.core.display.HTML object>"
      ]
     },
     "metadata": {},
     "output_type": "display_data"
    },
    {
     "data": {
      "text/html": [
       "Find logs at: <code>./wandb/run-20231023_205328-sym30x51/logs</code>"
      ],
      "text/plain": [
       "<IPython.core.display.HTML object>"
      ]
     },
     "metadata": {},
     "output_type": "display_data"
    },
    {
     "name": "stdout",
     "output_type": "stream",
     "text": [
      "1\n"
     ]
    },
    {
     "data": {
      "application/vnd.jupyter.widget-view+json": {
       "model_id": "f9f246d3bdc14644ae97f01970c8b55e",
       "version_major": 2,
       "version_minor": 0
      },
      "text/plain": [
       "VBox(children=(Label(value='Waiting for wandb.init()...\\r'), FloatProgress(value=0.011114197677751588, max=1.0…"
      ]
     },
     "metadata": {},
     "output_type": "display_data"
    },
    {
     "data": {
      "text/html": [
       "wandb version 0.15.12 is available!  To upgrade, please run:\n",
       " $ pip install wandb --upgrade"
      ],
      "text/plain": [
       "<IPython.core.display.HTML object>"
      ]
     },
     "metadata": {},
     "output_type": "display_data"
    },
    {
     "data": {
      "text/html": [
       "Tracking run with wandb version 0.15.11"
      ],
      "text/plain": [
       "<IPython.core.display.HTML object>"
      ]
     },
     "metadata": {},
     "output_type": "display_data"
    },
    {
     "data": {
      "text/html": [
       "Run data is saved locally in <code>/home/tejas/Documents/SMAI/assignment-3-MrTejas/q3/wandb/run-20231023_205355-51p6hgtg</code>"
      ],
      "text/plain": [
       "<IPython.core.display.HTML object>"
      ]
     },
     "metadata": {},
     "output_type": "display_data"
    },
    {
     "data": {
      "text/html": [
       "Syncing run <strong><a href='https://wandb.ai/tejas591995/MLPRegression/runs/51p6hgtg' target=\"_blank\">desert-cloud-36</a></strong> to <a href='https://wandb.ai/tejas591995/MLPRegression' target=\"_blank\">Weights & Biases</a> (<a href='https://wandb.me/run' target=\"_blank\">docs</a>)<br/>"
      ],
      "text/plain": [
       "<IPython.core.display.HTML object>"
      ]
     },
     "metadata": {},
     "output_type": "display_data"
    },
    {
     "data": {
      "text/html": [
       " View project at <a href='https://wandb.ai/tejas591995/MLPRegression' target=\"_blank\">https://wandb.ai/tejas591995/MLPRegression</a>"
      ],
      "text/plain": [
       "<IPython.core.display.HTML object>"
      ]
     },
     "metadata": {},
     "output_type": "display_data"
    },
    {
     "data": {
      "text/html": [
       " View run at <a href='https://wandb.ai/tejas591995/MLPRegression/runs/51p6hgtg' target=\"_blank\">https://wandb.ai/tejas591995/MLPRegression/runs/51p6hgtg</a>"
      ],
      "text/plain": [
       "<IPython.core.display.HTML object>"
      ]
     },
     "metadata": {},
     "output_type": "display_data"
    },
    {
     "name": "stdout",
     "output_type": "stream",
     "text": [
      "Initialized values successfully!\n",
      "Loaded Dataframe!\n",
      "Splitted data into train, test and val sets!\n"
     ]
    },
    {
     "data": {
      "text/html": [
       "Waiting for W&B process to finish... <strong style=\"color:green\">(success).</strong>"
      ],
      "text/plain": [
       "<IPython.core.display.HTML object>"
      ]
     },
     "metadata": {},
     "output_type": "display_data"
    },
    {
     "data": {
      "text/html": [
       "<style>\n",
       "    table.wandb td:nth-child(1) { padding: 0 10px; text-align: left ; width: auto;} td:nth-child(2) {text-align: left ; width: 100%}\n",
       "    .wandb-row { display: flex; flex-direction: row; flex-wrap: wrap; justify-content: flex-start; width: 100% }\n",
       "    .wandb-col { display: flex; flex-direction: column; flex-basis: 100%; flex: 1; padding: 10px; }\n",
       "    </style>\n",
       "<div class=\"wandb-row\"><div class=\"wandb-col\"><h3>Run summary:</h3><br/><table class=\"wandb\"><tr><td>loss (MSE) </td><td>nan</td></tr></table><br/></div></div>"
      ],
      "text/plain": [
       "<IPython.core.display.HTML object>"
      ]
     },
     "metadata": {},
     "output_type": "display_data"
    },
    {
     "data": {
      "text/html": [
       " View run <strong style=\"color:#cdcd00\">desert-cloud-36</strong> at: <a href='https://wandb.ai/tejas591995/MLPRegression/runs/51p6hgtg' target=\"_blank\">https://wandb.ai/tejas591995/MLPRegression/runs/51p6hgtg</a><br/> View job at <a href='https://wandb.ai/tejas591995/MLPRegression/jobs/QXJ0aWZhY3RDb2xsZWN0aW9uOjEwOTI0MTE5NQ==/version_details/v2' target=\"_blank\">https://wandb.ai/tejas591995/MLPRegression/jobs/QXJ0aWZhY3RDb2xsZWN0aW9uOjEwOTI0MTE5NQ==/version_details/v2</a><br/>Synced 6 W&B file(s), 0 media file(s), 0 artifact file(s) and 0 other file(s)"
      ],
      "text/plain": [
       "<IPython.core.display.HTML object>"
      ]
     },
     "metadata": {},
     "output_type": "display_data"
    },
    {
     "data": {
      "text/html": [
       "Find logs at: <code>./wandb/run-20231023_205355-51p6hgtg/logs</code>"
      ],
      "text/plain": [
       "<IPython.core.display.HTML object>"
      ]
     },
     "metadata": {},
     "output_type": "display_data"
    },
    {
     "name": "stdout",
     "output_type": "stream",
     "text": [
      "2\n"
     ]
    },
    {
     "data": {
      "application/vnd.jupyter.widget-view+json": {
       "model_id": "851521b0e98646d98c9453fb867d40fc",
       "version_major": 2,
       "version_minor": 0
      },
      "text/plain": [
       "VBox(children=(Label(value='Waiting for wandb.init()...\\r'), FloatProgress(value=0.011112587299996651, max=1.0…"
      ]
     },
     "metadata": {},
     "output_type": "display_data"
    },
    {
     "name": "stdout",
     "output_type": "stream",
     "text": [
      "Problem at: /tmp/ipykernel_35761/3686138369.py 10 <module>\n"
     ]
    },
    {
     "ename": "KeyboardInterrupt",
     "evalue": "",
     "output_type": "error",
     "traceback": [
      "\u001b[0;31m---------------------------------------------------------------------------\u001b[0m",
      "\u001b[0;31mKeyboardInterrupt\u001b[0m                         Traceback (most recent call last)",
      "\u001b[0;32m/tmp/ipykernel_35761/3686138369.py\u001b[0m in \u001b[0;36m<module>\u001b[0;34m\u001b[0m\n\u001b[1;32m      8\u001b[0m             \u001b[0mprint\u001b[0m\u001b[0;34m(\u001b[0m\u001b[0mi\u001b[0m\u001b[0;34m)\u001b[0m\u001b[0;34m\u001b[0m\u001b[0;34m\u001b[0m\u001b[0m\n\u001b[1;32m      9\u001b[0m             \u001b[0mi\u001b[0m \u001b[0;34m=\u001b[0m \u001b[0mi\u001b[0m \u001b[0;34m+\u001b[0m \u001b[0;36m1\u001b[0m\u001b[0;34m\u001b[0m\u001b[0;34m\u001b[0m\u001b[0m\n\u001b[0;32m---> 10\u001b[0;31m             wandb.init(\n\u001b[0m\u001b[1;32m     11\u001b[0m                 \u001b[0;31m# set the wandb project where this run will be logged\u001b[0m\u001b[0;34m\u001b[0m\u001b[0;34m\u001b[0m\u001b[0m\n\u001b[1;32m     12\u001b[0m                 \u001b[0mproject\u001b[0m\u001b[0;34m=\u001b[0m\u001b[0;34m\"MLPRegression\"\u001b[0m\u001b[0;34m,\u001b[0m\u001b[0;34m\u001b[0m\u001b[0;34m\u001b[0m\u001b[0m\n",
      "\u001b[0;32m~/anaconda3/lib/python3.9/site-packages/wandb/sdk/wandb_init.py\u001b[0m in \u001b[0;36minit\u001b[0;34m(job_type, dir, config, project, entity, reinit, tags, group, name, notes, magic, config_exclude_keys, config_include_keys, anonymous, mode, allow_val_change, resume, force, tensorboard, sync_tensorboard, monitor_gym, save_code, id, settings)\u001b[0m\n\u001b[1;32m   1191\u001b[0m         \u001b[0;32massert\u001b[0m \u001b[0mlogger\u001b[0m\u001b[0;34m\u001b[0m\u001b[0;34m\u001b[0m\u001b[0m\n\u001b[1;32m   1192\u001b[0m         \u001b[0mlogger\u001b[0m\u001b[0;34m.\u001b[0m\u001b[0mwarning\u001b[0m\u001b[0;34m(\u001b[0m\u001b[0;34m\"interrupted\"\u001b[0m\u001b[0;34m,\u001b[0m \u001b[0mexc_info\u001b[0m\u001b[0;34m=\u001b[0m\u001b[0me\u001b[0m\u001b[0;34m)\u001b[0m\u001b[0;34m\u001b[0m\u001b[0;34m\u001b[0m\u001b[0m\n\u001b[0;32m-> 1193\u001b[0;31m         \u001b[0;32mraise\u001b[0m \u001b[0me\u001b[0m\u001b[0;34m\u001b[0m\u001b[0;34m\u001b[0m\u001b[0m\n\u001b[0m\u001b[1;32m   1194\u001b[0m     \u001b[0;32mexcept\u001b[0m \u001b[0mException\u001b[0m \u001b[0;32mas\u001b[0m \u001b[0me\u001b[0m\u001b[0;34m:\u001b[0m\u001b[0;34m\u001b[0m\u001b[0;34m\u001b[0m\u001b[0m\n\u001b[1;32m   1195\u001b[0m         \u001b[0merror_seen\u001b[0m \u001b[0;34m=\u001b[0m \u001b[0me\u001b[0m\u001b[0;34m\u001b[0m\u001b[0;34m\u001b[0m\u001b[0m\n",
      "\u001b[0;32m~/anaconda3/lib/python3.9/site-packages/wandb/sdk/wandb_init.py\u001b[0m in \u001b[0;36minit\u001b[0;34m(job_type, dir, config, project, entity, reinit, tags, group, name, notes, magic, config_exclude_keys, config_include_keys, anonymous, mode, allow_val_change, resume, force, tensorboard, sync_tensorboard, monitor_gym, save_code, id, settings)\u001b[0m\n\u001b[1;32m   1168\u001b[0m         \u001b[0mexcept_exit\u001b[0m \u001b[0;34m=\u001b[0m \u001b[0mwi\u001b[0m\u001b[0;34m.\u001b[0m\u001b[0msettings\u001b[0m\u001b[0;34m.\u001b[0m\u001b[0m_except_exit\u001b[0m\u001b[0;34m\u001b[0m\u001b[0;34m\u001b[0m\u001b[0m\n\u001b[1;32m   1169\u001b[0m         \u001b[0;32mtry\u001b[0m\u001b[0;34m:\u001b[0m\u001b[0;34m\u001b[0m\u001b[0;34m\u001b[0m\u001b[0m\n\u001b[0;32m-> 1170\u001b[0;31m             \u001b[0mrun\u001b[0m \u001b[0;34m=\u001b[0m \u001b[0mwi\u001b[0m\u001b[0;34m.\u001b[0m\u001b[0minit\u001b[0m\u001b[0;34m(\u001b[0m\u001b[0;34m)\u001b[0m\u001b[0;34m\u001b[0m\u001b[0;34m\u001b[0m\u001b[0m\n\u001b[0m\u001b[1;32m   1171\u001b[0m             \u001b[0mexcept_exit\u001b[0m \u001b[0;34m=\u001b[0m \u001b[0mwi\u001b[0m\u001b[0;34m.\u001b[0m\u001b[0msettings\u001b[0m\u001b[0;34m.\u001b[0m\u001b[0m_except_exit\u001b[0m\u001b[0;34m\u001b[0m\u001b[0;34m\u001b[0m\u001b[0m\n\u001b[1;32m   1172\u001b[0m         \u001b[0;32mexcept\u001b[0m \u001b[0;34m(\u001b[0m\u001b[0mKeyboardInterrupt\u001b[0m\u001b[0;34m,\u001b[0m \u001b[0mException\u001b[0m\u001b[0;34m)\u001b[0m \u001b[0;32mas\u001b[0m \u001b[0me\u001b[0m\u001b[0;34m:\u001b[0m\u001b[0;34m\u001b[0m\u001b[0;34m\u001b[0m\u001b[0m\n",
      "\u001b[0;32m~/anaconda3/lib/python3.9/site-packages/wandb/sdk/wandb_init.py\u001b[0m in \u001b[0;36minit\u001b[0;34m(self)\u001b[0m\n\u001b[1;32m    813\u001b[0m         \u001b[0mrun_start_handle\u001b[0m \u001b[0;34m=\u001b[0m \u001b[0mbackend\u001b[0m\u001b[0;34m.\u001b[0m\u001b[0minterface\u001b[0m\u001b[0;34m.\u001b[0m\u001b[0mdeliver_run_start\u001b[0m\u001b[0;34m(\u001b[0m\u001b[0mrun\u001b[0m\u001b[0;34m.\u001b[0m\u001b[0m_run_obj\u001b[0m\u001b[0;34m)\u001b[0m\u001b[0;34m\u001b[0m\u001b[0;34m\u001b[0m\u001b[0m\n\u001b[1;32m    814\u001b[0m         \u001b[0;31m# TODO: add progress to let user know we are doing something\u001b[0m\u001b[0;34m\u001b[0m\u001b[0;34m\u001b[0m\u001b[0m\n\u001b[0;32m--> 815\u001b[0;31m         \u001b[0mrun_start_result\u001b[0m \u001b[0;34m=\u001b[0m \u001b[0mrun_start_handle\u001b[0m\u001b[0;34m.\u001b[0m\u001b[0mwait\u001b[0m\u001b[0;34m(\u001b[0m\u001b[0mtimeout\u001b[0m\u001b[0;34m=\u001b[0m\u001b[0;36m30\u001b[0m\u001b[0;34m)\u001b[0m\u001b[0;34m\u001b[0m\u001b[0;34m\u001b[0m\u001b[0m\n\u001b[0m\u001b[1;32m    816\u001b[0m         \u001b[0;32mif\u001b[0m \u001b[0mrun_start_result\u001b[0m \u001b[0;32mis\u001b[0m \u001b[0;32mNone\u001b[0m\u001b[0;34m:\u001b[0m\u001b[0;34m\u001b[0m\u001b[0;34m\u001b[0m\u001b[0m\n\u001b[1;32m    817\u001b[0m             \u001b[0mrun_start_handle\u001b[0m\u001b[0;34m.\u001b[0m\u001b[0mabandon\u001b[0m\u001b[0;34m(\u001b[0m\u001b[0;34m)\u001b[0m\u001b[0;34m\u001b[0m\u001b[0;34m\u001b[0m\u001b[0m\n",
      "\u001b[0;32m~/anaconda3/lib/python3.9/site-packages/wandb/sdk/lib/mailbox.py\u001b[0m in \u001b[0;36mwait\u001b[0;34m(self, timeout, on_probe, on_progress, release, cancel)\u001b[0m\n\u001b[1;32m    281\u001b[0m                     \u001b[0;32mraise\u001b[0m \u001b[0mMailboxError\u001b[0m\u001b[0;34m(\u001b[0m\u001b[0;34m\"transport failed\"\u001b[0m\u001b[0;34m)\u001b[0m\u001b[0;34m\u001b[0m\u001b[0;34m\u001b[0m\u001b[0m\n\u001b[1;32m    282\u001b[0m \u001b[0;34m\u001b[0m\u001b[0m\n\u001b[0;32m--> 283\u001b[0;31m             \u001b[0mfound\u001b[0m\u001b[0;34m,\u001b[0m \u001b[0mabandoned\u001b[0m \u001b[0;34m=\u001b[0m \u001b[0mself\u001b[0m\u001b[0;34m.\u001b[0m\u001b[0m_slot\u001b[0m\u001b[0;34m.\u001b[0m\u001b[0m_get_and_clear\u001b[0m\u001b[0;34m(\u001b[0m\u001b[0mtimeout\u001b[0m\u001b[0;34m=\u001b[0m\u001b[0mwait_timeout\u001b[0m\u001b[0;34m)\u001b[0m\u001b[0;34m\u001b[0m\u001b[0;34m\u001b[0m\u001b[0m\n\u001b[0m\u001b[1;32m    284\u001b[0m             \u001b[0;32mif\u001b[0m \u001b[0mfound\u001b[0m\u001b[0;34m:\u001b[0m\u001b[0;34m\u001b[0m\u001b[0;34m\u001b[0m\u001b[0m\n\u001b[1;32m    285\u001b[0m                 \u001b[0;31m# Always update progress to 100% when done\u001b[0m\u001b[0;34m\u001b[0m\u001b[0;34m\u001b[0m\u001b[0m\n",
      "\u001b[0;32m~/anaconda3/lib/python3.9/site-packages/wandb/sdk/lib/mailbox.py\u001b[0m in \u001b[0;36m_get_and_clear\u001b[0;34m(self, timeout)\u001b[0m\n\u001b[1;32m    128\u001b[0m     \u001b[0;32mdef\u001b[0m \u001b[0m_get_and_clear\u001b[0m\u001b[0;34m(\u001b[0m\u001b[0mself\u001b[0m\u001b[0;34m,\u001b[0m \u001b[0mtimeout\u001b[0m\u001b[0;34m:\u001b[0m \u001b[0mfloat\u001b[0m\u001b[0;34m)\u001b[0m \u001b[0;34m->\u001b[0m \u001b[0mTuple\u001b[0m\u001b[0;34m[\u001b[0m\u001b[0mOptional\u001b[0m\u001b[0;34m[\u001b[0m\u001b[0mpb\u001b[0m\u001b[0;34m.\u001b[0m\u001b[0mResult\u001b[0m\u001b[0;34m]\u001b[0m\u001b[0;34m,\u001b[0m \u001b[0mbool\u001b[0m\u001b[0;34m]\u001b[0m\u001b[0;34m:\u001b[0m\u001b[0;34m\u001b[0m\u001b[0;34m\u001b[0m\u001b[0m\n\u001b[1;32m    129\u001b[0m         \u001b[0mfound\u001b[0m \u001b[0;34m=\u001b[0m \u001b[0;32mNone\u001b[0m\u001b[0;34m\u001b[0m\u001b[0;34m\u001b[0m\u001b[0m\n\u001b[0;32m--> 130\u001b[0;31m         \u001b[0;32mif\u001b[0m \u001b[0mself\u001b[0m\u001b[0;34m.\u001b[0m\u001b[0m_wait\u001b[0m\u001b[0;34m(\u001b[0m\u001b[0mtimeout\u001b[0m\u001b[0;34m=\u001b[0m\u001b[0mtimeout\u001b[0m\u001b[0;34m)\u001b[0m\u001b[0;34m:\u001b[0m\u001b[0;34m\u001b[0m\u001b[0;34m\u001b[0m\u001b[0m\n\u001b[0m\u001b[1;32m    131\u001b[0m             \u001b[0;32mwith\u001b[0m \u001b[0mself\u001b[0m\u001b[0;34m.\u001b[0m\u001b[0m_lock\u001b[0m\u001b[0;34m:\u001b[0m\u001b[0;34m\u001b[0m\u001b[0;34m\u001b[0m\u001b[0m\n\u001b[1;32m    132\u001b[0m                 \u001b[0mfound\u001b[0m \u001b[0;34m=\u001b[0m \u001b[0mself\u001b[0m\u001b[0;34m.\u001b[0m\u001b[0m_result\u001b[0m\u001b[0;34m\u001b[0m\u001b[0;34m\u001b[0m\u001b[0m\n",
      "\u001b[0;32m~/anaconda3/lib/python3.9/site-packages/wandb/sdk/lib/mailbox.py\u001b[0m in \u001b[0;36m_wait\u001b[0;34m(self, timeout)\u001b[0m\n\u001b[1;32m    124\u001b[0m \u001b[0;34m\u001b[0m\u001b[0m\n\u001b[1;32m    125\u001b[0m     \u001b[0;32mdef\u001b[0m \u001b[0m_wait\u001b[0m\u001b[0;34m(\u001b[0m\u001b[0mself\u001b[0m\u001b[0;34m,\u001b[0m \u001b[0mtimeout\u001b[0m\u001b[0;34m:\u001b[0m \u001b[0mfloat\u001b[0m\u001b[0;34m)\u001b[0m \u001b[0;34m->\u001b[0m \u001b[0mbool\u001b[0m\u001b[0;34m:\u001b[0m\u001b[0;34m\u001b[0m\u001b[0;34m\u001b[0m\u001b[0m\n\u001b[0;32m--> 126\u001b[0;31m         \u001b[0;32mreturn\u001b[0m \u001b[0mself\u001b[0m\u001b[0;34m.\u001b[0m\u001b[0m_event\u001b[0m\u001b[0;34m.\u001b[0m\u001b[0mwait\u001b[0m\u001b[0;34m(\u001b[0m\u001b[0mtimeout\u001b[0m\u001b[0;34m=\u001b[0m\u001b[0mtimeout\u001b[0m\u001b[0;34m)\u001b[0m\u001b[0;34m\u001b[0m\u001b[0;34m\u001b[0m\u001b[0m\n\u001b[0m\u001b[1;32m    127\u001b[0m \u001b[0;34m\u001b[0m\u001b[0m\n\u001b[1;32m    128\u001b[0m     \u001b[0;32mdef\u001b[0m \u001b[0m_get_and_clear\u001b[0m\u001b[0;34m(\u001b[0m\u001b[0mself\u001b[0m\u001b[0;34m,\u001b[0m \u001b[0mtimeout\u001b[0m\u001b[0;34m:\u001b[0m \u001b[0mfloat\u001b[0m\u001b[0;34m)\u001b[0m \u001b[0;34m->\u001b[0m \u001b[0mTuple\u001b[0m\u001b[0;34m[\u001b[0m\u001b[0mOptional\u001b[0m\u001b[0;34m[\u001b[0m\u001b[0mpb\u001b[0m\u001b[0;34m.\u001b[0m\u001b[0mResult\u001b[0m\u001b[0;34m]\u001b[0m\u001b[0;34m,\u001b[0m \u001b[0mbool\u001b[0m\u001b[0;34m]\u001b[0m\u001b[0;34m:\u001b[0m\u001b[0;34m\u001b[0m\u001b[0;34m\u001b[0m\u001b[0m\n",
      "\u001b[0;32m~/anaconda3/lib/python3.9/threading.py\u001b[0m in \u001b[0;36mwait\u001b[0;34m(self, timeout)\u001b[0m\n\u001b[1;32m    579\u001b[0m             \u001b[0msignaled\u001b[0m \u001b[0;34m=\u001b[0m \u001b[0mself\u001b[0m\u001b[0;34m.\u001b[0m\u001b[0m_flag\u001b[0m\u001b[0;34m\u001b[0m\u001b[0;34m\u001b[0m\u001b[0m\n\u001b[1;32m    580\u001b[0m             \u001b[0;32mif\u001b[0m \u001b[0;32mnot\u001b[0m \u001b[0msignaled\u001b[0m\u001b[0;34m:\u001b[0m\u001b[0;34m\u001b[0m\u001b[0;34m\u001b[0m\u001b[0m\n\u001b[0;32m--> 581\u001b[0;31m                 \u001b[0msignaled\u001b[0m \u001b[0;34m=\u001b[0m \u001b[0mself\u001b[0m\u001b[0;34m.\u001b[0m\u001b[0m_cond\u001b[0m\u001b[0;34m.\u001b[0m\u001b[0mwait\u001b[0m\u001b[0;34m(\u001b[0m\u001b[0mtimeout\u001b[0m\u001b[0;34m)\u001b[0m\u001b[0;34m\u001b[0m\u001b[0;34m\u001b[0m\u001b[0m\n\u001b[0m\u001b[1;32m    582\u001b[0m             \u001b[0;32mreturn\u001b[0m \u001b[0msignaled\u001b[0m\u001b[0;34m\u001b[0m\u001b[0;34m\u001b[0m\u001b[0m\n\u001b[1;32m    583\u001b[0m \u001b[0;34m\u001b[0m\u001b[0m\n",
      "\u001b[0;32m~/anaconda3/lib/python3.9/threading.py\u001b[0m in \u001b[0;36mwait\u001b[0;34m(self, timeout)\u001b[0m\n\u001b[1;32m    314\u001b[0m             \u001b[0;32melse\u001b[0m\u001b[0;34m:\u001b[0m\u001b[0;34m\u001b[0m\u001b[0;34m\u001b[0m\u001b[0m\n\u001b[1;32m    315\u001b[0m                 \u001b[0;32mif\u001b[0m \u001b[0mtimeout\u001b[0m \u001b[0;34m>\u001b[0m \u001b[0;36m0\u001b[0m\u001b[0;34m:\u001b[0m\u001b[0;34m\u001b[0m\u001b[0;34m\u001b[0m\u001b[0m\n\u001b[0;32m--> 316\u001b[0;31m                     \u001b[0mgotit\u001b[0m \u001b[0;34m=\u001b[0m \u001b[0mwaiter\u001b[0m\u001b[0;34m.\u001b[0m\u001b[0macquire\u001b[0m\u001b[0;34m(\u001b[0m\u001b[0;32mTrue\u001b[0m\u001b[0;34m,\u001b[0m \u001b[0mtimeout\u001b[0m\u001b[0;34m)\u001b[0m\u001b[0;34m\u001b[0m\u001b[0;34m\u001b[0m\u001b[0m\n\u001b[0m\u001b[1;32m    317\u001b[0m                 \u001b[0;32melse\u001b[0m\u001b[0;34m:\u001b[0m\u001b[0;34m\u001b[0m\u001b[0;34m\u001b[0m\u001b[0m\n\u001b[1;32m    318\u001b[0m                     \u001b[0mgotit\u001b[0m \u001b[0;34m=\u001b[0m \u001b[0mwaiter\u001b[0m\u001b[0;34m.\u001b[0m\u001b[0macquire\u001b[0m\u001b[0;34m(\u001b[0m\u001b[0;32mFalse\u001b[0m\u001b[0;34m)\u001b[0m\u001b[0;34m\u001b[0m\u001b[0;34m\u001b[0m\u001b[0m\n",
      "\u001b[0;31mKeyboardInterrupt\u001b[0m: "
     ]
    }
   ],
   "source": [
    "i = 0\n",
    "lr_list = [0.015,0.02,0.05,0.07,0.1]\n",
    "af_list = ['ReLU']\n",
    "\n",
    "for lr in lr_list:\n",
    "    for af in af_list:\n",
    "        for bs in range(100,201,50):\n",
    "            print(i)\n",
    "            i = i + 1\n",
    "            wandb.init(\n",
    "                # set the wandb project where this run will be logged\n",
    "                project=\"MLPRegression\",\n",
    "\n",
    "                # track hyperparameters and run metadata\n",
    "                config={\n",
    "                'layer_sizes' : [11,5,5,6],\n",
    "                'batch_size' : bs,\n",
    "                'num_epoches' : 100,\n",
    "                'learning_rate' : lr,\n",
    "                'activation_function' : af,\n",
    "                'optimization' : 'mini-batch'\n",
    "                }\n",
    "            )\n",
    "\n",
    "\n",
    "\n",
    "            # parameters for the model\n",
    "            # the 1st and last element of layer_sizes correspond to number of features and number of outputs\n",
    "            layer_sizes = [13,5,5,1]\n",
    "            batch_size = bs\n",
    "            num_epoches = 500\n",
    "            learning_rate = lr\n",
    "            activation_function = af\n",
    "            optimization = 'mini-batch'\n",
    "\n",
    "            # creating the model object\n",
    "            mlp = MLP(layer_sizes=layer_sizes,\n",
    "                      batch_size=batch_size,\n",
    "                      num_epoches=num_epoches,\n",
    "                      learning_rate=learning_rate,\n",
    "                      activation_function=activation_function,\n",
    "                      optimization=optimization,\n",
    "                     )\n",
    "\n",
    "            mlp.loadData(df)\n",
    "            mlp.splitData(0.8,True)\n",
    "#             mlp.printParameters()\n",
    "            mlp.fit()\n",
    "            wandb.finish()\n"
   ]
  },
  {
   "cell_type": "code",
   "execution_count": null,
   "id": "581cf4b0",
   "metadata": {},
   "outputs": [],
   "source": []
  }
 ],
 "metadata": {
  "kernelspec": {
   "display_name": "Python 3 (ipykernel)",
   "language": "python",
   "name": "python3"
  },
  "language_info": {
   "codemirror_mode": {
    "name": "ipython",
    "version": 3
   },
   "file_extension": ".py",
   "mimetype": "text/x-python",
   "name": "python",
   "nbconvert_exporter": "python",
   "pygments_lexer": "ipython3",
   "version": "3.9.13"
  }
 },
 "nbformat": 4,
 "nbformat_minor": 5
}
