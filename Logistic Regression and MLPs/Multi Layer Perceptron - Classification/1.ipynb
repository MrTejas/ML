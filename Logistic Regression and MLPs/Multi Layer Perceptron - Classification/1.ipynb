{
 "cells": [
  {
   "cell_type": "code",
   "execution_count": 2,
   "id": "d98c51aa",
   "metadata": {},
   "outputs": [],
   "source": [
    "import numpy as np\n",
    "import pandas as pd\n",
    "from sklearn.model_selection import train_test_split\n",
    "import matplotlib.pyplot as plt\n",
    "from sklearn.metrics import classification_report\n",
    "from scipy.special import expit\n",
    "import wandb\n"
   ]
  },
  {
   "cell_type": "markdown",
   "id": "4f3178bd",
   "metadata": {},
   "source": [
    "## Multi Layer Perceptron Classification Class"
   ]
  },
  {
   "cell_type": "code",
   "execution_count": 7,
   "id": "580913e2",
   "metadata": {},
   "outputs": [],
   "source": [
    "class MLP:\n",
    "    \n",
    "    def __init__(self,layer_sizes, batch_size, num_epoches, learning_rate, activation_function, optimization):\n",
    "        self.layer_sizes = layer_sizes # number of neurons in each layer\n",
    "        self.num_layers = len(self.layer_sizes) # total number of layers\n",
    "        self.batch_size = batch_size # only for mini-batch gradient descent\n",
    "        self.epoches = num_epoches\n",
    "        self.learning_rate = learning_rate\n",
    "        self.activation_function = activation_function\n",
    "        self.optimization = optimization\n",
    "        \n",
    "        # initializing weights (needed once only)\n",
    "        self.initialize_weights()\n",
    "        \n",
    "        # validation loss and acc\n",
    "        self.validation_loss = []\n",
    "        self.validation_accuracy = []\n",
    "        \n",
    "        # training loss and acc\n",
    "        self.L = []\n",
    "        self.A = []\n",
    "        \n",
    "        print('Initialized values successfully!')\n",
    "    \n",
    "    def printParameters(self):\n",
    "        print('-----------------------------------------------')\n",
    "        print('Number of Layers       : ',self.num_layers)\n",
    "        print('Layer sizes            : ',self.layer_sizes)\n",
    "        print('Batch size             : ',self.batch_size)\n",
    "        print('Activation Function    : ',self.activation_function)\n",
    "        print('Optimization Method    : ',self.optimization)\n",
    "        print('Learning Rate          : ',self.learning_rate)\n",
    "        print('Num Epoches            : ',self.epoches)\n",
    "        print('-----------------------------------------------')\n",
    "\n",
    "    \n",
    "    # loads the dataframe into the class\n",
    "    def loadData(self,df):\n",
    "        self.num_features = df.shape[1]-1\n",
    "        self.num_classes = df.iloc[:, -1].nunique()\n",
    "        self.df = df\n",
    "        print('Loaded Dataframe!')\n",
    "\n",
    "    # splits the dataframe loaded into train, validation and test sets\n",
    "    def splitData(self,train_fraction,normalize):\n",
    "        X = df.iloc[:, :-1].values\n",
    "        if normalize:\n",
    "            mean = np.mean(X, axis=0)\n",
    "            std = np.std(X, axis=0)\n",
    "            X = (X - mean) / std\n",
    "        y = df.iloc[:, -1].values\n",
    "        \n",
    "        self.X_train, X_temp, self.y_train, y_temp = train_test_split(X, y, test_size=1-train_fraction, random_state=42)\n",
    "        self.X_val, self.X_test, self.y_val, self.y_test = train_test_split(X_temp, y_temp, test_size=0.5, random_state=42)\n",
    "        print('Splitted data into train, test and val sets!')\n",
    "        \n",
    "        \n",
    "    # returns the one-hot encoded version of a given vector\n",
    "    def oneHotEncoding(self, y):\n",
    "        y_encoded = np.zeros((len(y), self.num_classes))\n",
    "        y_encoded[np.arange(len(y)), y] = 1\n",
    "        return y_encoded\n",
    "    \n",
    "    def categorical(self,x):  \n",
    "        # Transform probabilities into categorical predictions row-wise, by simply taking the max probability\n",
    "        categorical = np.argmax(x,axis=1)\n",
    "        return categorical\n",
    "\n",
    "# defining activation functions and their derivatives\n",
    "#--------------------------------------------------------------------------------------------\n",
    "\n",
    "    # SIGMOID\n",
    "    def sigmoid(self,z):\n",
    "        val = 1/(1+np.exp(-z))\n",
    "        return val\n",
    "    def sigmoid_prime(self,h):\n",
    "        # Compute the derivative of sigmoid where h=sigmoid(x)\n",
    "        return h*(1-h)\n",
    "    \n",
    "    # ReLU \n",
    "    def ReLU(self, z):\n",
    "        ret = np.maximum(z, 0)\n",
    "        if ret.shape!=z.shape:\n",
    "            print('whaat??')\n",
    "        return ret\n",
    "    def ReLU_prime(self, h):\n",
    "        return np.where(h >= 0, 1, 0)\n",
    "    \n",
    "    # tanh\n",
    "    def hyperbolic_tan(self, z):\n",
    "#         val = (2/(np.exp(-2*z)+1)) -1\n",
    "        val = expit(2 * z) - 1\n",
    "\n",
    "        return val\n",
    "    def hyperbolic_tan_prime(self, h):\n",
    "        return 1-h**2\n",
    "    \n",
    "    # linear (can change slope and intercept)\n",
    "    def linear(self, z):\n",
    "        return z\n",
    "    def linear_prime(self,h):\n",
    "        return 1\n",
    "    \n",
    "#-----------------activation function for last layer (output) -------------------------------\n",
    "\n",
    "    def softmax(self,z):\n",
    "        ar = np.exp(z-np.max(z))\n",
    "        return ar/ar.sum(axis=1,keepdims=True)\n",
    "#         exp = np.exp(z - np.max(z))\n",
    "#         for i in range(len(z)):\n",
    "#             exp[i]/=np.sum(exp[i])\n",
    "#         return exp\n",
    "    \n",
    "\n",
    "\n",
    "#---------------------------------------------------------------------------------------------\n",
    "\n",
    "    def activation(self,z):\n",
    "        if z.any()>=1e2:\n",
    "            print('z = ',z)\n",
    "        if self.activation_function=='sigmoid':\n",
    "            return self.sigmoid(z)\n",
    "        elif self.activation_function=='ReLU':\n",
    "            return self.ReLU(z)\n",
    "        elif self.activation_function=='tanh':\n",
    "            return self.hyperbolic_tan(z)\n",
    "        elif self.activation_function=='linear':\n",
    "            return self.linear(z)\n",
    "        else:\n",
    "            raise ValueError(\"Invalid Activation function\")\n",
    "\n",
    "    def activation_prime(self,h):\n",
    "        if self.activation_function=='sigmoid':\n",
    "            return self.sigmoid_prime(h)\n",
    "        elif self.activation_function=='ReLU':\n",
    "            return self.ReLU_prime(h)\n",
    "        elif self.activation_function=='tanh':\n",
    "            return self.hyperbolic_tan_prime(h)\n",
    "        elif self.activation_function=='linear':\n",
    "            return self.linear_prime(h)\n",
    "        else:\n",
    "            raise ValueError(\"Invalid Activation function\")\n",
    "\n",
    "#---------------------------------------------------------------------------------------------\n",
    "\n",
    "\n",
    "    def loss(self, y_hat, y):\n",
    "        epsilon = 1e-7\n",
    "        y_hat = y_hat + epsilon\n",
    "        # adding small value to avoid underflow\n",
    "        # Compute the loss along the rows, averaging along the number of samples\n",
    "        return ((-np.log(y_hat))*y).mean()\n",
    "    \n",
    "    def accuracy(self, y_hat, y):  \n",
    "        # Compute the accuracy along the rows, averaging along the number of samples\n",
    "        return np.sum(y_hat==(y))/len(y_hat)\n",
    "\n",
    "\n",
    "    \n",
    "    def initialize_weights(self):\n",
    "        self.weights = []\n",
    "        #weights[i] is a m,n matrix giving weight connecting the i and i+1th layer\n",
    "        \n",
    "        min_weight = -1\n",
    "        max_weight = 1\n",
    "        for i in range(self.num_layers-1):\n",
    "            sz = [self.layer_sizes[i],self.layer_sizes[i+1]]\n",
    "            wt = np.random.uniform(min_weight,max_weight,size=sz)\n",
    "            self.weights.append(wt)\n",
    "        \n",
    "#         self.weights = np.asarray(self.weights)\n",
    "        \n",
    "    def initialize_layers(self,batch_size):\n",
    "        self.hidden_layers = [np.ones((batch_size,layer_size)) for layer_size in layer_sizes]\n",
    "        \n",
    "    # takes in a batch of data (num_samples x num_features) and applies feed-forward on it\n",
    "    def feedforward(self, batch):\n",
    "        current_layer = batch\n",
    "        self.hidden_layers[0] = batch\n",
    "        \n",
    "        # next_layer = activation(weights . current_leyer) and storing while feed-forward\n",
    "        for i,weights in enumerate(self.weights):\n",
    "            current_layer = self.activation(np.dot(current_layer,weights))\n",
    "            self.hidden_layers[i+1] = current_layer\n",
    "            \n",
    "        # softmax of the last layer is the output layer\n",
    "        self.output_layer = self.softmax(self.hidden_layers[-1])\n",
    "        \n",
    "    # goes from the last layer to the 1st layer updating weights according to GD\n",
    "    def backpropogation(self, y):\n",
    "        y = self.oneHotEncoding(y)\n",
    "        # evaluating the last layer error : del\n",
    "        del_t = -(y - self.output_layer)*self.activation_prime(self.hidden_layers[-1])\n",
    "        \n",
    "        for i in range(1,self.num_layers):\n",
    "            # calculating the gradient of weights and applying gradient-descent\n",
    "            dJ_dW = np.dot(self.hidden_layers[-i-1].T,del_t)/self.batch_size\n",
    "            self.weights[-i] = self.weights[-i] - self.learning_rate * dJ_dW\n",
    "            # updating the error for the next layer \n",
    "            del_t = np.dot(del_t,self.weights[-i].T)*self.activation_prime(self.hidden_layers[-i-1])\n",
    "                    \n",
    "    def validate(self):\n",
    "        n,m = self.X_val.shape[0:2]\n",
    "        self.initialize_layers(batch_size=n)\n",
    "        self.feedforward(self.X_val)\n",
    "        val_loss = self.loss(self.output_layer,self.oneHotEncoding(self.y_val))\n",
    "        val_acc = self.accuracy(self.categorical(self.output_layer),self.y_val)\n",
    "        self.validation_loss.append(val_loss)\n",
    "        self.validation_accuracy.append(val_acc)\n",
    "        \n",
    "    def mini_batch_GD(self):\n",
    "            self.initialize_layers(self.batch_size)\n",
    "            loss_sum = 0\n",
    "            accuracy_sum = 0\n",
    "            \n",
    "            # calculating the total number of batches (acc to batch sizee)\n",
    "            num_batches = self.X_train.shape[0]/self.batch_size\n",
    "            ind = np.random.permutation(self.X_train.shape[0])\n",
    "            \n",
    "            # splitting the X_train, Y_train into batches\n",
    "            X_batches = np.array_split(self.X_train[ind], num_batches)\n",
    "            Y_batches = np.array_split(self.y_train[ind], num_batches)\n",
    "            data_batches = zip(X_batches,Y_batches)\n",
    "            \n",
    "            # performing feed-forward -> saving training loss and accuracy -> back-propogation\n",
    "            for data_x, data_y in data_batches:\n",
    "                self.feedforward(data_x)\n",
    "                loss_sum = loss_sum + self.loss(self.output_layer,self.oneHotEncoding(data_y))\n",
    "                accuracy_sum = accuracy_sum + self.accuracy(self.categorical(self.output_layer),data_y)\n",
    "                self.backpropogation(data_y)\n",
    "            \n",
    "            loss_train = loss_sum/num_batches\n",
    "            acc_train = accuracy_sum/num_batches\n",
    "            \n",
    "            return loss_train, acc_train\n",
    "        \n",
    "    def batch_GD(self):\n",
    "        self.batch_size = self.X_train.shape[0]\n",
    "        loss_train, acc_train = self.mini_batch_GD()\n",
    "        return loss_train, acc_train\n",
    "        \n",
    "    def SGD(self):\n",
    "        self.batch_size = 1\n",
    "        loss_train, acc_train = self.mini_batch_GD()\n",
    "        return loss_train, acc_train\n",
    "    \n",
    "    # general method for optimization (batch/mini-batch/SGD)\n",
    "    def optimize(self):\n",
    "        if self.optimization=='mini-batch':\n",
    "            return self.mini_batch_GD()\n",
    "        elif self.optimization=='batch':\n",
    "            return self.batch_GD()\n",
    "        elif self.optimization=='SGD':\n",
    "            return self.SGD()\n",
    "    \n",
    "    def fit(self):\n",
    "        for epoch in range(self.epoches):\n",
    "            # Gradient Descent\n",
    "            loss_train, acc_train = self.optimize()\n",
    "            \n",
    "            # calculating accuracy and loss for current epoch and saving them\n",
    "            self.L.append(loss_train)\n",
    "            self.A.append(acc_train)\n",
    "            \n",
    "            # testing the current model on validation set and saving the loss and accuracy\n",
    "            self.validate()\n",
    "            print('Epoch : ',epoch+1,' loss : ',loss_train.round(3),' acc : ',acc_train.round(3))\n",
    "#             wandb.log({\"acc\": acc_train.round(3), \"loss\": loss_train.round(3)})\n",
    "            \n",
    "            \n",
    "    def predict(self):\n",
    "        self.feedforward(self.X_test)\n",
    "        cr = classification_report(self.categorical(self.output_layer),self.y_test,zero_division=1)\n",
    "        self.predictions = self.categorical(self.output_layer)\n",
    "        print('------------------------------------------------------\\n',cr,'\\n------------------------------------------------------\\n')\n",
    "\n",
    "                "
   ]
  },
  {
   "cell_type": "markdown",
   "id": "354847a3",
   "metadata": {},
   "source": [
    "## Loading the dataset"
   ]
  },
  {
   "cell_type": "code",
   "execution_count": 8,
   "id": "5ff91e8a",
   "metadata": {},
   "outputs": [],
   "source": [
    "# loading the dataset\n",
    "file_path = './WineQT.csv'\n",
    "\n",
    "data = pd.read_csv(file_path)\n",
    "df = pd.DataFrame(data)\n",
    "df = df.drop(df.columns[-1], axis=1)\n",
    "df['quality'] = df['quality']-3\n"
   ]
  },
  {
   "cell_type": "markdown",
   "id": "e20535c6",
   "metadata": {},
   "source": [
    "## Creating MLP object with specified hyperparameters"
   ]
  },
  {
   "cell_type": "code",
   "execution_count": 15,
   "id": "e407db15",
   "metadata": {},
   "outputs": [
    {
     "name": "stdout",
     "output_type": "stream",
     "text": [
      "Initialized values successfully!\n",
      "Loaded Dataframe!\n",
      "Splitted data into train, test and val sets!\n",
      "-----------------------------------------------\n",
      "Number of Layers       :  4\n",
      "Layer sizes            :  [11, 5, 5, 6]\n",
      "Batch size             :  100\n",
      "Activation Function    :  ReLU\n",
      "Optimization Method    :  mini-batch\n",
      "Learning Rate          :  0.02\n",
      "Num Epoches            :  100\n",
      "-----------------------------------------------\n"
     ]
    }
   ],
   "source": [
    "\n",
    "# parameters for the model\n",
    "# the 1st and last element of layer_sizes correspond to number of features and number of outputs\n",
    "layer_sizes = [11,5,5,6]\n",
    "batch_size = 100\n",
    "num_epoches = 100\n",
    "learning_rate = 0.02\n",
    "activation_function = 'ReLU'\n",
    "optimization = 'mini-batch'\n",
    "\n",
    "# creating the model object\n",
    "mlp = MLP(layer_sizes=layer_sizes,\n",
    "          batch_size=batch_size,\n",
    "          num_epoches=num_epoches,\n",
    "          learning_rate=learning_rate,\n",
    "          activation_function=activation_function,\n",
    "          optimization=optimization\n",
    "         )\n",
    "\n",
    "mlp.loadData(df)\n",
    "mlp.splitData(0.8,True)\n",
    "mlp.printParameters()\n"
   ]
  },
  {
   "cell_type": "code",
   "execution_count": 16,
   "id": "df40fe1e",
   "metadata": {},
   "outputs": [
    {
     "name": "stdout",
     "output_type": "stream",
     "text": [
      "Epoch :  1  loss :  0.299  acc :  0.094\n",
      "Epoch :  2  loss :  0.294  acc :  0.115\n",
      "Epoch :  3  loss :  0.289  acc :  0.127\n",
      "Epoch :  4  loss :  0.284  acc :  0.185\n",
      "Epoch :  5  loss :  0.28  acc :  0.195\n",
      "Epoch :  6  loss :  0.276  acc :  0.221\n",
      "Epoch :  7  loss :  0.271  acc :  0.237\n",
      "Epoch :  8  loss :  0.267  acc :  0.237\n",
      "Epoch :  9  loss :  0.263  acc :  0.237\n",
      "Epoch :  10  loss :  0.259  acc :  0.254\n",
      "Epoch :  11  loss :  0.256  acc :  0.292\n",
      "Epoch :  12  loss :  0.252  acc :  0.339\n",
      "Epoch :  13  loss :  0.248  acc :  0.359\n",
      "Epoch :  14  loss :  0.245  acc :  0.366\n",
      "Epoch :  15  loss :  0.242  acc :  0.354\n",
      "Epoch :  16  loss :  0.24  acc :  0.358\n",
      "Epoch :  17  loss :  0.237  acc :  0.37\n",
      "Epoch :  18  loss :  0.234  acc :  0.373\n",
      "Epoch :  19  loss :  0.232  acc :  0.379\n",
      "Epoch :  20  loss :  0.229  acc :  0.382\n",
      "Epoch :  21  loss :  0.227  acc :  0.388\n",
      "Epoch :  22  loss :  0.225  acc :  0.396\n",
      "Epoch :  23  loss :  0.222  acc :  0.401\n",
      "Epoch :  24  loss :  0.22  acc :  0.4\n",
      "Epoch :  25  loss :  0.218  acc :  0.403\n",
      "Epoch :  26  loss :  0.216  acc :  0.405\n",
      "Epoch :  27  loss :  0.214  acc :  0.404\n",
      "Epoch :  28  loss :  0.212  acc :  0.405\n",
      "Epoch :  29  loss :  0.211  acc :  0.407\n",
      "Epoch :  30  loss :  0.209  acc :  0.407\n",
      "Epoch :  31  loss :  0.208  acc :  0.413\n",
      "Epoch :  32  loss :  0.206  acc :  0.414\n",
      "Epoch :  33  loss :  0.205  acc :  0.448\n",
      "Epoch :  34  loss :  0.203  acc :  0.529\n",
      "Epoch :  35  loss :  0.202  acc :  0.534\n",
      "Epoch :  36  loss :  0.201  acc :  0.53\n",
      "Epoch :  37  loss :  0.2  acc :  0.524\n",
      "Epoch :  38  loss :  0.199  acc :  0.53\n",
      "Epoch :  39  loss :  0.198  acc :  0.537\n",
      "Epoch :  40  loss :  0.197  acc :  0.537\n",
      "Epoch :  41  loss :  0.196  acc :  0.538\n",
      "Epoch :  42  loss :  0.195  acc :  0.541\n",
      "Epoch :  43  loss :  0.195  acc :  0.545\n",
      "Epoch :  44  loss :  0.194  acc :  0.543\n",
      "Epoch :  45  loss :  0.193  acc :  0.542\n",
      "Epoch :  46  loss :  0.192  acc :  0.542\n",
      "Epoch :  47  loss :  0.192  acc :  0.542\n",
      "Epoch :  48  loss :  0.191  acc :  0.541\n",
      "Epoch :  49  loss :  0.191  acc :  0.538\n",
      "Epoch :  50  loss :  0.19  acc :  0.54\n",
      "Epoch :  51  loss :  0.19  acc :  0.543\n",
      "Epoch :  52  loss :  0.189  acc :  0.544\n",
      "Epoch :  53  loss :  0.189  acc :  0.542\n",
      "Epoch :  54  loss :  0.189  acc :  0.54\n",
      "Epoch :  55  loss :  0.188  acc :  0.538\n",
      "Epoch :  56  loss :  0.188  acc :  0.535\n",
      "Epoch :  57  loss :  0.188  acc :  0.534\n",
      "Epoch :  58  loss :  0.188  acc :  0.538\n",
      "Epoch :  59  loss :  0.188  acc :  0.535\n",
      "Epoch :  60  loss :  0.187  acc :  0.533\n",
      "Epoch :  61  loss :  0.187  acc :  0.534\n",
      "Epoch :  62  loss :  0.187  acc :  0.537\n",
      "Epoch :  63  loss :  0.187  acc :  0.537\n",
      "Epoch :  64  loss :  0.187  acc :  0.535\n",
      "Epoch :  65  loss :  0.187  acc :  0.533\n",
      "Epoch :  66  loss :  0.187  acc :  0.535\n",
      "Epoch :  67  loss :  0.187  acc :  0.54\n",
      "Epoch :  68  loss :  0.187  acc :  0.538\n",
      "Epoch :  69  loss :  0.187  acc :  0.535\n",
      "Epoch :  70  loss :  0.187  acc :  0.537\n",
      "Epoch :  71  loss :  0.187  acc :  0.534\n",
      "Epoch :  72  loss :  0.187  acc :  0.534\n",
      "Epoch :  73  loss :  0.187  acc :  0.536\n",
      "Epoch :  74  loss :  0.187  acc :  0.538\n",
      "Epoch :  75  loss :  0.187  acc :  0.535\n",
      "Epoch :  76  loss :  0.187  acc :  0.534\n",
      "Epoch :  77  loss :  0.187  acc :  0.534\n",
      "Epoch :  78  loss :  0.188  acc :  0.533\n",
      "Epoch :  79  loss :  0.188  acc :  0.538\n",
      "Epoch :  80  loss :  0.188  acc :  0.539\n",
      "Epoch :  81  loss :  0.188  acc :  0.54\n",
      "Epoch :  82  loss :  0.188  acc :  0.541\n",
      "Epoch :  83  loss :  0.188  acc :  0.54\n",
      "Epoch :  84  loss :  0.188  acc :  0.539\n",
      "Epoch :  85  loss :  0.188  acc :  0.545\n",
      "Epoch :  86  loss :  0.188  acc :  0.541\n",
      "Epoch :  87  loss :  0.188  acc :  0.542\n",
      "Epoch :  88  loss :  0.188  acc :  0.543\n",
      "Epoch :  89  loss :  0.188  acc :  0.54\n",
      "Epoch :  90  loss :  0.189  acc :  0.542\n",
      "Epoch :  91  loss :  0.189  acc :  0.543\n",
      "Epoch :  92  loss :  0.189  acc :  0.541\n",
      "Epoch :  93  loss :  0.189  acc :  0.542\n",
      "Epoch :  94  loss :  0.189  acc :  0.543\n",
      "Epoch :  95  loss :  0.189  acc :  0.546\n",
      "Epoch :  96  loss :  0.189  acc :  0.541\n",
      "Epoch :  97  loss :  0.189  acc :  0.539\n",
      "Epoch :  98  loss :  0.189  acc :  0.537\n",
      "Epoch :  99  loss :  0.189  acc :  0.541\n",
      "Epoch :  100  loss :  0.189  acc :  0.536\n"
     ]
    }
   ],
   "source": [
    "mlp.fit()"
   ]
  },
  {
   "cell_type": "markdown",
   "id": "ec52694d",
   "metadata": {},
   "source": [
    "## Plotting Training and Validation Accuracy and Loss"
   ]
  },
  {
   "cell_type": "code",
   "execution_count": 17,
   "id": "a3cfab0b",
   "metadata": {
    "scrolled": true
   },
   "outputs": [
    {
     "data": {
      "image/png": "[encoded data removed]",
      "text/plain": [
       "<Figure size 1200x300 with 2 Axes>"
      ]
     },
     "metadata": {},
     "output_type": "display_data"
    }
   ],
   "source": [
    "plt.figure(figsize=(12,3))\n",
    "plt.subplot(1,2,2)\n",
    "plt.plot(mlp.L)\n",
    "plt.title('Training Loss')\n",
    "plt.grid()\n",
    "plt.xlabel('Epoches')\n",
    "plt.ylabel('Loss')\n",
    "\n",
    "# adding base condition to get initial accuracy of 0\n",
    "mlp.A.insert(0,0)\n",
    "mlp.validation_accuracy.insert(0,0)\n",
    "\n",
    "plt.subplot(1,2,1)\n",
    "plt.plot(mlp.A,label='Training')\n",
    "plt.plot(mlp.validation_accuracy,label='Validation')\n",
    "plt.title('Accuracy')\n",
    "plt.grid()\n",
    "plt.xlabel('Epoches')\n",
    "plt.ylabel('Accuracy')\n",
    "plt.legend()\n",
    "\n",
    "plt.show()\n",
    "\n"
   ]
  },
  {
   "cell_type": "markdown",
   "id": "586a13d0",
   "metadata": {},
   "source": [
    "## 2.3 Evaluating the Model on Test Dataset"
   ]
  },
  {
   "cell_type": "code",
   "execution_count": 18,
   "id": "6a909109",
   "metadata": {
    "scrolled": true
   },
   "outputs": [
    {
     "name": "stdout",
     "output_type": "stream",
     "text": [
      "------------------------------------------------------\n",
      "               precision    recall  f1-score   support\n",
      "\n",
      "           1       0.00      1.00      0.00         0\n",
      "           2       0.66      0.70      0.68        47\n",
      "           3       0.57      0.50      0.53        50\n",
      "           4       0.38      0.33      0.35        18\n",
      "           5       0.00      1.00      0.00         0\n",
      "\n",
      "    accuracy                           0.56       115\n",
      "   macro avg       0.32      0.71      0.31       115\n",
      "weighted avg       0.58      0.56      0.56       115\n",
      " \n",
      "------------------------------------------------------\n",
      "\n",
      "[4 3 2 3 2 3 2 3 3 2 3 4 3 4 2 3 2 3 2 2 2 3 2 3 3 2 2 3 3 2 2 2 4 2 3 3 3\n",
      " 2 3 3 2 3 2 3 3 3 3 4 3 4 3 3 2 2 3 2 4 4 3 2 2 2 4 4 2 3 2 2 2 4 2 2 3 3\n",
      " 2 3 4 2 2 2 2 2 3 2 2 3 2 4 3 3 2 3 3 3 2 3 4 3 4 3 2 3 3 3 2 3 3 2 4 2 4\n",
      " 3 2 4 3]\n"
     ]
    }
   ],
   "source": [
    "mlp.predict()\n",
    "print(mlp.predictions)"
   ]
  },
  {
   "attachments": {
    "image.png": {
     "image/png": "[encoded data removed]"
    }
   },
   "cell_type": "markdown",
   "id": "59bc352c",
   "metadata": {},
   "source": [
    "### Comparison with the Logistic Regression Model\n",
    "\n",
    "The final accuracies of both, the *Multi Layer Perceptron* model as well as the *Logistic Regression Model* are quite close and similar. Below given is the classification report from the logistic regression model (for learning rate = 0.001 and num_epoches = 100)\n",
    "                \n",
    "![image.png](attachment:image.png)\n",
    "\n"
   ]
  },
  {
   "cell_type": "markdown",
   "id": "2b6cffef",
   "metadata": {},
   "source": [
    "# WANDB logging"
   ]
  },
  {
   "cell_type": "code",
   "execution_count": null,
   "id": "ebc11b89",
   "metadata": {},
   "outputs": [],
   "source": []
  },
  {
   "cell_type": "code",
   "execution_count": 4,
   "id": "bc47629f",
   "metadata": {
    "scrolled": true
   },
   "outputs": [
    {
     "name": "stdout",
     "output_type": "stream",
     "text": [
      "0\n"
     ]
    },
    {
     "name": "stderr",
     "output_type": "stream",
     "text": [
      "\u001b[34m\u001b[1mwandb\u001b[0m: Currently logged in as: \u001b[33mtejas591995\u001b[0m. Use \u001b[1m`wandb login --relogin`\u001b[0m to force relogin\n"
     ]
    },
    {
     "data": {
      "text/html": [
       "wandb version 0.15.12 is available!  To upgrade, please run:\n",
       " $ pip install wandb --upgrade"
      ],
      "text/plain": [
       "<IPython.core.display.HTML object>"
      ]
     },
     "metadata": {},
     "output_type": "display_data"
    },
    {
     "data": {
      "text/html": [
       "Tracking run with wandb version 0.15.11"
      ],
      "text/plain": [
       "<IPython.core.display.HTML object>"
      ]
     },
     "metadata": {},
     "output_type": "display_data"
    },
    {
     "data": {
      "text/html": [
       "Run data is saved locally in <code>/home/tejas/Documents/SMAI/assignment-3-MrTejas/q2/wandb/run-20231023_184657-g1sypptj</code>"
      ],
      "text/plain": [
       "<IPython.core.display.HTML object>"
      ]
     },
     "metadata": {},
     "output_type": "display_data"
    },
    {
     "data": {
      "text/html": [
       "Syncing run <strong><a href='https://wandb.ai/tejas591995/MLPClassification/runs/g1sypptj' target=\"_blank\">eternal-rain-1</a></strong> to <a href='https://wandb.ai/tejas591995/MLPClassification' target=\"_blank\">Weights & Biases</a> (<a href='https://wandb.me/run' target=\"_blank\">docs</a>)<br/>"
      ],
      "text/plain": [
       "<IPython.core.display.HTML object>"
      ]
     },
     "metadata": {},
     "output_type": "display_data"
    },
    {
     "data": {
      "text/html": [
       " View project at <a href='https://wandb.ai/tejas591995/MLPClassification' target=\"_blank\">https://wandb.ai/tejas591995/MLPClassification</a>"
      ],
      "text/plain": [
       "<IPython.core.display.HTML object>"
      ]
     },
     "metadata": {},
     "output_type": "display_data"
    },
    {
     "data": {
      "text/html": [
       " View run at <a href='https://wandb.ai/tejas591995/MLPClassification/runs/g1sypptj' target=\"_blank\">https://wandb.ai/tejas591995/MLPClassification/runs/g1sypptj</a>"
      ],
      "text/plain": [
       "<IPython.core.display.HTML object>"
      ]
     },
     "metadata": {},
     "output_type": "display_data"
    },
    {
     "name": "stdout",
     "output_type": "stream",
     "text": [
      "Initialized values successfully!\n",
      "Loaded Dataframe!\n",
      "Splitted data into train, test and val sets!\n",
      "-----------------------------------------------\n",
      "Number of Layers       :  4\n",
      "Layer sizes            :  [11, 5, 5, 6]\n",
      "Batch size             :  100\n",
      "Activation Function    :  tanh\n",
      "Optimization Method    :  mini-batch\n",
      "Learning Rate          :  0.001\n",
      "Num Epoches            :  100\n",
      "-----------------------------------------------\n"
     ]
    },
    {
     "data": {
      "text/html": [
       "Waiting for W&B process to finish... <strong style=\"color:green\">(success).</strong>"
      ],
      "text/plain": [
       "<IPython.core.display.HTML object>"
      ]
     },
     "metadata": {},
     "output_type": "display_data"
    },
    {
     "data": {
      "text/html": [
       "<style>\n",
       "    table.wandb td:nth-child(1) { padding: 0 10px; text-align: left ; width: auto;} td:nth-child(2) {text-align: left ; width: 100%}\n",
       "    .wandb-row { display: flex; flex-direction: row; flex-wrap: wrap; justify-content: flex-start; width: 100% }\n",
       "    .wandb-col { display: flex; flex-direction: column; flex-basis: 100%; flex: 1; padding: 10px; }\n",
       "    </style>\n",
       "<div class=\"wandb-row\"><div class=\"wandb-col\"><h3>Run history:</h3><br/><table class=\"wandb\"><tr><td>acc</td><td>▁▁▁▁▁▁▁▁▁▁▁▁▁▁▁▁▁▁▁▂▂▂▂▃▃▂▃▃▄▅▅▅▆▆▆▆▇███</td></tr><tr><td>loss</td><td>██▇▇▇▇▇▇▆▆▆▆▆▆▅▅▅▅▅▅▄▄▄▃▃▃▃▃▃▃▂▂▂▂▂▂▂▁▁▁</td></tr></table><br/></div><div class=\"wandb-col\"><h3>Run summary:</h3><br/><table class=\"wandb\"><tr><td>acc</td><td>0.431</td></tr><tr><td>loss</td><td>0.262</td></tr></table><br/></div></div>"
      ],
      "text/plain": [
       "<IPython.core.display.HTML object>"
      ]
     },
     "metadata": {},
     "output_type": "display_data"
    },
    {
     "data": {
      "text/html": [
       " View run <strong style=\"color:#cdcd00\">eternal-rain-1</strong> at: <a href='https://wandb.ai/tejas591995/MLPClassification/runs/g1sypptj' target=\"_blank\">https://wandb.ai/tejas591995/MLPClassification/runs/g1sypptj</a><br/> View job at <a href='https://wandb.ai/tejas591995/MLPClassification/jobs/QXJ0aWZhY3RDb2xsZWN0aW9uOjEwOTIxOTAwNw==/version_details/v0' target=\"_blank\">https://wandb.ai/tejas591995/MLPClassification/jobs/QXJ0aWZhY3RDb2xsZWN0aW9uOjEwOTIxOTAwNw==/version_details/v0</a><br/>Synced 6 W&B file(s), 0 media file(s), 2 artifact file(s) and 0 other file(s)"
      ],
      "text/plain": [
       "<IPython.core.display.HTML object>"
      ]
     },
     "metadata": {},
     "output_type": "display_data"
    },
    {
     "data": {
      "text/html": [
       "Find logs at: <code>./wandb/run-20231023_184657-g1sypptj/logs</code>"
      ],
      "text/plain": [
       "<IPython.core.display.HTML object>"
      ]
     },
     "metadata": {},
     "output_type": "display_data"
    },
    {
     "name": "stdout",
     "output_type": "stream",
     "text": [
      "1\n"
     ]
    },
    {
     "data": {
      "application/vnd.jupyter.widget-view+json": {
       "model_id": "a9d5f98036a94a8c87a3b1a89e2d2658",
       "version_major": 2,
       "version_minor": 0
      },
      "text/plain": [
       "VBox(children=(Label(value='Waiting for wandb.init()...\\r'), FloatProgress(value=0.011112232655553575, max=1.0…"
      ]
     },
     "metadata": {},
     "output_type": "display_data"
    },
    {
     "data": {
      "text/html": [
       "wandb version 0.15.12 is available!  To upgrade, please run:\n",
       " $ pip install wandb --upgrade"
      ],
      "text/plain": [
       "<IPython.core.display.HTML object>"
      ]
     },
     "metadata": {},
     "output_type": "display_data"
    },
    {
     "data": {
      "text/html": [
       "Tracking run with wandb version 0.15.11"
      ],
      "text/plain": [
       "<IPython.core.display.HTML object>"
      ]
     },
     "metadata": {},
     "output_type": "display_data"
    },
    {
     "data": {
      "text/html": [
       "Run data is saved locally in <code>/home/tejas/Documents/SMAI/assignment-3-MrTejas/q2/wandb/run-20231023_184715-2ncskrh9</code>"
      ],
      "text/plain": [
       "<IPython.core.display.HTML object>"
      ]
     },
     "metadata": {},
     "output_type": "display_data"
    },
    {
     "data": {
      "text/html": [
       "Syncing run <strong><a href='https://wandb.ai/tejas591995/MLPClassification/runs/2ncskrh9' target=\"_blank\">deep-oath-2</a></strong> to <a href='https://wandb.ai/tejas591995/MLPClassification' target=\"_blank\">Weights & Biases</a> (<a href='https://wandb.me/run' target=\"_blank\">docs</a>)<br/>"
      ],
      "text/plain": [
       "<IPython.core.display.HTML object>"
      ]
     },
     "metadata": {},
     "output_type": "display_data"
    },
    {
     "data": {
      "text/html": [
       " View project at <a href='https://wandb.ai/tejas591995/MLPClassification' target=\"_blank\">https://wandb.ai/tejas591995/MLPClassification</a>"
      ],
      "text/plain": [
       "<IPython.core.display.HTML object>"
      ]
     },
     "metadata": {},
     "output_type": "display_data"
    },
    {
     "data": {
      "text/html": [
       " View run at <a href='https://wandb.ai/tejas591995/MLPClassification/runs/2ncskrh9' target=\"_blank\">https://wandb.ai/tejas591995/MLPClassification/runs/2ncskrh9</a>"
      ],
      "text/plain": [
       "<IPython.core.display.HTML object>"
      ]
     },
     "metadata": {},
     "output_type": "display_data"
    },
    {
     "name": "stdout",
     "output_type": "stream",
     "text": [
      "Initialized values successfully!\n",
      "Loaded Dataframe!\n",
      "Splitted data into train, test and val sets!\n",
      "-----------------------------------------------\n",
      "Number of Layers       :  4\n",
      "Layer sizes            :  [11, 5, 5, 6]\n",
      "Batch size             :  150\n",
      "Activation Function    :  tanh\n",
      "Optimization Method    :  mini-batch\n",
      "Learning Rate          :  0.001\n",
      "Num Epoches            :  100\n",
      "-----------------------------------------------\n"
     ]
    },
    {
     "data": {
      "text/html": [
       "Waiting for W&B process to finish... <strong style=\"color:green\">(success).</strong>"
      ],
      "text/plain": [
       "<IPython.core.display.HTML object>"
      ]
     },
     "metadata": {},
     "output_type": "display_data"
    },
    {
     "data": {
      "text/html": [
       "<style>\n",
       "    table.wandb td:nth-child(1) { padding: 0 10px; text-align: left ; width: auto;} td:nth-child(2) {text-align: left ; width: 100%}\n",
       "    .wandb-row { display: flex; flex-direction: row; flex-wrap: wrap; justify-content: flex-start; width: 100% }\n",
       "    .wandb-col { display: flex; flex-direction: column; flex-basis: 100%; flex: 1; padding: 10px; }\n",
       "    </style>\n",
       "<div class=\"wandb-row\"><div class=\"wandb-col\"><h3>Run history:</h3><br/><table class=\"wandb\"><tr><td>acc</td><td>▁▁▁▁▁▁▁▁▁▁▁▁▁▁▁▁▁▁▁▁▁▁▁▁▁▁▁▁▁▁▁▁▁▁▁▁▁▁▁▁</td></tr><tr><td>loss</td><td>█▇▇▇▇▇▇▇▇▇▆▆▆▆▅▅▅▅▅▅▅▅▅▄▄▄▄▃▃▃▃▂▂▂▂▂▂▂▂▁</td></tr></table><br/></div><div class=\"wandb-col\"><h3>Run summary:</h3><br/><table class=\"wandb\"><tr><td>acc</td><td>0.126</td></tr><tr><td>loss</td><td>0.298</td></tr></table><br/></div></div>"
      ],
      "text/plain": [
       "<IPython.core.display.HTML object>"
      ]
     },
     "metadata": {},
     "output_type": "display_data"
    },
    {
     "data": {
      "text/html": [
       " View run <strong style=\"color:#cdcd00\">deep-oath-2</strong> at: <a href='https://wandb.ai/tejas591995/MLPClassification/runs/2ncskrh9' target=\"_blank\">https://wandb.ai/tejas591995/MLPClassification/runs/2ncskrh9</a><br/> View job at <a href='https://wandb.ai/tejas591995/MLPClassification/jobs/QXJ0aWZhY3RDb2xsZWN0aW9uOjEwOTIxOTAwNw==/version_details/v0' target=\"_blank\">https://wandb.ai/tejas591995/MLPClassification/jobs/QXJ0aWZhY3RDb2xsZWN0aW9uOjEwOTIxOTAwNw==/version_details/v0</a><br/>Synced 6 W&B file(s), 0 media file(s), 0 artifact file(s) and 0 other file(s)"
      ],
      "text/plain": [
       "<IPython.core.display.HTML object>"
      ]
     },
     "metadata": {},
     "output_type": "display_data"
    },
    {
     "data": {
      "text/html": [
       "Find logs at: <code>./wandb/run-20231023_184715-2ncskrh9/logs</code>"
      ],
      "text/plain": [
       "<IPython.core.display.HTML object>"
      ]
     },
     "metadata": {},
     "output_type": "display_data"
    },
    {
     "name": "stdout",
     "output_type": "stream",
     "text": [
      "2\n"
     ]
    },
    {
     "data": {
      "application/vnd.jupyter.widget-view+json": {
       "model_id": "895cf188716a49d79379f74116969b66",
       "version_major": 2,
       "version_minor": 0
      },
      "text/plain": [
       "VBox(children=(Label(value='Waiting for wandb.init()...\\r'), FloatProgress(value=0.011112442188904323, max=1.0…"
      ]
     },
     "metadata": {},
     "output_type": "display_data"
    },
    {
     "data": {
      "text/html": [
       "wandb version 0.15.12 is available!  To upgrade, please run:\n",
       " $ pip install wandb --upgrade"
      ],
      "text/plain": [
       "<IPython.core.display.HTML object>"
      ]
     },
     "metadata": {},
     "output_type": "display_data"
    },
    {
     "data": {
      "text/html": [
       "Tracking run with wandb version 0.15.11"
      ],
      "text/plain": [
       "<IPython.core.display.HTML object>"
      ]
     },
     "metadata": {},
     "output_type": "display_data"
    },
    {
     "data": {
      "text/html": [
       "Run data is saved locally in <code>/home/tejas/Documents/SMAI/assignment-3-MrTejas/q2/wandb/run-20231023_184730-slnwkr99</code>"
      ],
      "text/plain": [
       "<IPython.core.display.HTML object>"
      ]
     },
     "metadata": {},
     "output_type": "display_data"
    },
    {
     "data": {
      "text/html": [
       "Syncing run <strong><a href='https://wandb.ai/tejas591995/MLPClassification/runs/slnwkr99' target=\"_blank\">eternal-haze-3</a></strong> to <a href='https://wandb.ai/tejas591995/MLPClassification' target=\"_blank\">Weights & Biases</a> (<a href='https://wandb.me/run' target=\"_blank\">docs</a>)<br/>"
      ],
      "text/plain": [
       "<IPython.core.display.HTML object>"
      ]
     },
     "metadata": {},
     "output_type": "display_data"
    },
    {
     "data": {
      "text/html": [
       " View project at <a href='https://wandb.ai/tejas591995/MLPClassification' target=\"_blank\">https://wandb.ai/tejas591995/MLPClassification</a>"
      ],
      "text/plain": [
       "<IPython.core.display.HTML object>"
      ]
     },
     "metadata": {},
     "output_type": "display_data"
    },
    {
     "data": {
      "text/html": [
       " View run at <a href='https://wandb.ai/tejas591995/MLPClassification/runs/slnwkr99' target=\"_blank\">https://wandb.ai/tejas591995/MLPClassification/runs/slnwkr99</a>"
      ],
      "text/plain": [
       "<IPython.core.display.HTML object>"
      ]
     },
     "metadata": {},
     "output_type": "display_data"
    },
    {
     "name": "stdout",
     "output_type": "stream",
     "text": [
      "Initialized values successfully!\n",
      "Loaded Dataframe!\n",
      "Splitted data into train, test and val sets!\n",
      "-----------------------------------------------\n",
      "Number of Layers       :  4\n",
      "Layer sizes            :  [11, 5, 5, 6]\n",
      "Batch size             :  200\n",
      "Activation Function    :  tanh\n",
      "Optimization Method    :  mini-batch\n",
      "Learning Rate          :  0.001\n",
      "Num Epoches            :  100\n",
      "-----------------------------------------------\n"
     ]
    },
    {
     "data": {
      "text/html": [
       "Waiting for W&B process to finish... <strong style=\"color:green\">(success).</strong>"
      ],
      "text/plain": [
       "<IPython.core.display.HTML object>"
      ]
     },
     "metadata": {},
     "output_type": "display_data"
    },
    {
     "data": {
      "text/html": [
       "<style>\n",
       "    table.wandb td:nth-child(1) { padding: 0 10px; text-align: left ; width: auto;} td:nth-child(2) {text-align: left ; width: 100%}\n",
       "    .wandb-row { display: flex; flex-direction: row; flex-wrap: wrap; justify-content: flex-start; width: 100% }\n",
       "    .wandb-col { display: flex; flex-direction: column; flex-basis: 100%; flex: 1; padding: 10px; }\n",
       "    </style>\n",
       "<div class=\"wandb-row\"><div class=\"wandb-col\"><h3>Run history:</h3><br/><table class=\"wandb\"><tr><td>acc</td><td>▃▁▁▃▆▆▃▃▃▃▃▃▃▃▃▃▃▃▃▃▃▃▃▃▃▃▃▃▃▃▆▆▆▆██████</td></tr><tr><td>loss</td><td>███████▆▆▆▆▆▆▆▆▆▆▆▃▃▃▃▃▃▃▃▃▃▃▃▁▁▁▁▁▁▁▁▁▁</td></tr></table><br/></div><div class=\"wandb-col\"><h3>Run summary:</h3><br/><table class=\"wandb\"><tr><td>acc</td><td>0.363</td></tr><tr><td>loss</td><td>0.229</td></tr></table><br/></div></div>"
      ],
      "text/plain": [
       "<IPython.core.display.HTML object>"
      ]
     },
     "metadata": {},
     "output_type": "display_data"
    },
    {
     "data": {
      "text/html": [
       " View run <strong style=\"color:#cdcd00\">eternal-haze-3</strong> at: <a href='https://wandb.ai/tejas591995/MLPClassification/runs/slnwkr99' target=\"_blank\">https://wandb.ai/tejas591995/MLPClassification/runs/slnwkr99</a><br/> View job at <a href='https://wandb.ai/tejas591995/MLPClassification/jobs/QXJ0aWZhY3RDb2xsZWN0aW9uOjEwOTIxOTAwNw==/version_details/v0' target=\"_blank\">https://wandb.ai/tejas591995/MLPClassification/jobs/QXJ0aWZhY3RDb2xsZWN0aW9uOjEwOTIxOTAwNw==/version_details/v0</a><br/>Synced 6 W&B file(s), 0 media file(s), 0 artifact file(s) and 0 other file(s)"
      ],
      "text/plain": [
       "<IPython.core.display.HTML object>"
      ]
     },
     "metadata": {},
     "output_type": "display_data"
    },
    {
     "data": {
      "text/html": [
       "Find logs at: <code>./wandb/run-20231023_184730-slnwkr99/logs</code>"
      ],
      "text/plain": [
       "<IPython.core.display.HTML object>"
      ]
     },
     "metadata": {},
     "output_type": "display_data"
    },
    {
     "name": "stdout",
     "output_type": "stream",
     "text": [
      "3\n"
     ]
    },
    {
     "data": {
      "application/vnd.jupyter.widget-view+json": {
       "model_id": "6909a29b8ee14158b6c8e6ded2075bb7",
       "version_major": 2,
       "version_minor": 0
      },
      "text/plain": [
       "VBox(children=(Label(value='Waiting for wandb.init()...\\r'), FloatProgress(value=0.011113807000017711, max=1.0…"
      ]
     },
     "metadata": {},
     "output_type": "display_data"
    },
    {
     "data": {
      "text/html": [
       "wandb version 0.15.12 is available!  To upgrade, please run:\n",
       " $ pip install wandb --upgrade"
      ],
      "text/plain": [
       "<IPython.core.display.HTML object>"
      ]
     },
     "metadata": {},
     "output_type": "display_data"
    },
    {
     "data": {
      "text/html": [
       "Tracking run with wandb version 0.15.11"
      ],
      "text/plain": [
       "<IPython.core.display.HTML object>"
      ]
     },
     "metadata": {},
     "output_type": "display_data"
    },
    {
     "data": {
      "text/html": [
       "Run data is saved locally in <code>/home/tejas/Documents/SMAI/assignment-3-MrTejas/q2/wandb/run-20231023_184744-km49gbeu</code>"
      ],
      "text/plain": [
       "<IPython.core.display.HTML object>"
      ]
     },
     "metadata": {},
     "output_type": "display_data"
    },
    {
     "data": {
      "text/html": [
       "Syncing run <strong><a href='https://wandb.ai/tejas591995/MLPClassification/runs/km49gbeu' target=\"_blank\">astral-plasma-4</a></strong> to <a href='https://wandb.ai/tejas591995/MLPClassification' target=\"_blank\">Weights & Biases</a> (<a href='https://wandb.me/run' target=\"_blank\">docs</a>)<br/>"
      ],
      "text/plain": [
       "<IPython.core.display.HTML object>"
      ]
     },
     "metadata": {},
     "output_type": "display_data"
    },
    {
     "data": {
      "text/html": [
       " View project at <a href='https://wandb.ai/tejas591995/MLPClassification' target=\"_blank\">https://wandb.ai/tejas591995/MLPClassification</a>"
      ],
      "text/plain": [
       "<IPython.core.display.HTML object>"
      ]
     },
     "metadata": {},
     "output_type": "display_data"
    },
    {
     "data": {
      "text/html": [
       " View run at <a href='https://wandb.ai/tejas591995/MLPClassification/runs/km49gbeu' target=\"_blank\">https://wandb.ai/tejas591995/MLPClassification/runs/km49gbeu</a>"
      ],
      "text/plain": [
       "<IPython.core.display.HTML object>"
      ]
     },
     "metadata": {},
     "output_type": "display_data"
    },
    {
     "name": "stdout",
     "output_type": "stream",
     "text": [
      "Initialized values successfully!\n",
      "Loaded Dataframe!\n",
      "Splitted data into train, test and val sets!\n",
      "-----------------------------------------------\n",
      "Number of Layers       :  4\n",
      "Layer sizes            :  [11, 5, 5, 6]\n",
      "Batch size             :  250\n",
      "Activation Function    :  tanh\n",
      "Optimization Method    :  mini-batch\n",
      "Learning Rate          :  0.001\n",
      "Num Epoches            :  100\n",
      "-----------------------------------------------\n"
     ]
    },
    {
     "data": {
      "text/html": [
       "Waiting for W&B process to finish... <strong style=\"color:green\">(success).</strong>"
      ],
      "text/plain": [
       "<IPython.core.display.HTML object>"
      ]
     },
     "metadata": {},
     "output_type": "display_data"
    },
    {
     "data": {
      "text/html": [
       "<style>\n",
       "    table.wandb td:nth-child(1) { padding: 0 10px; text-align: left ; width: auto;} td:nth-child(2) {text-align: left ; width: 100%}\n",
       "    .wandb-row { display: flex; flex-direction: row; flex-wrap: wrap; justify-content: flex-start; width: 100% }\n",
       "    .wandb-col { display: flex; flex-direction: column; flex-basis: 100%; flex: 1; padding: 10px; }\n",
       "    </style>\n",
       "<div class=\"wandb-row\"><div class=\"wandb-col\"><h3>Run history:</h3><br/><table class=\"wandb\"><tr><td>acc</td><td>▁▁▁▁▁▁▁▁▁▁▁▁▁▁▁▁▁▁▁▁▁▁▁▁▁▁▁▁▁▁▁▁▁▁▁▁▁▁▁▁</td></tr><tr><td>loss</td><td>████▇▇▇▇▆▆▆▆▆▅▅▅▅▅▄▄▄▄▄▄▄▄▄▄▃▃▃▃▃▃▂▂▂▂▂▁</td></tr></table><br/></div><div class=\"wandb-col\"><h3>Run summary:</h3><br/><table class=\"wandb\"><tr><td>acc</td><td>0.105</td></tr><tr><td>loss</td><td>0.263</td></tr></table><br/></div></div>"
      ],
      "text/plain": [
       "<IPython.core.display.HTML object>"
      ]
     },
     "metadata": {},
     "output_type": "display_data"
    },
    {
     "data": {
      "text/html": [
       " View run <strong style=\"color:#cdcd00\">astral-plasma-4</strong> at: <a href='https://wandb.ai/tejas591995/MLPClassification/runs/km49gbeu' target=\"_blank\">https://wandb.ai/tejas591995/MLPClassification/runs/km49gbeu</a><br/> View job at <a href='https://wandb.ai/tejas591995/MLPClassification/jobs/QXJ0aWZhY3RDb2xsZWN0aW9uOjEwOTIxOTAwNw==/version_details/v0' target=\"_blank\">https://wandb.ai/tejas591995/MLPClassification/jobs/QXJ0aWZhY3RDb2xsZWN0aW9uOjEwOTIxOTAwNw==/version_details/v0</a><br/>Synced 6 W&B file(s), 0 media file(s), 0 artifact file(s) and 0 other file(s)"
      ],
      "text/plain": [
       "<IPython.core.display.HTML object>"
      ]
     },
     "metadata": {},
     "output_type": "display_data"
    },
    {
     "data": {
      "text/html": [
       "Find logs at: <code>./wandb/run-20231023_184744-km49gbeu/logs</code>"
      ],
      "text/plain": [
       "<IPython.core.display.HTML object>"
      ]
     },
     "metadata": {},
     "output_type": "display_data"
    },
    {
     "name": "stdout",
     "output_type": "stream",
     "text": [
      "4\n"
     ]
    },
    {
     "data": {
      "application/vnd.jupyter.widget-view+json": {
       "model_id": "3f3f8bce53184f9f9e4e1ca2ddf32aa4",
       "version_major": 2,
       "version_minor": 0
      },
      "text/plain": [
       "VBox(children=(Label(value='Waiting for wandb.init()...\\r'), FloatProgress(value=0.011113380288871768, max=1.0…"
      ]
     },
     "metadata": {},
     "output_type": "display_data"
    },
    {
     "data": {
      "text/html": [
       "wandb version 0.15.12 is available!  To upgrade, please run:\n",
       " $ pip install wandb --upgrade"
      ],
      "text/plain": [
       "<IPython.core.display.HTML object>"
      ]
     },
     "metadata": {},
     "output_type": "display_data"
    },
    {
     "data": {
      "text/html": [
       "Tracking run with wandb version 0.15.11"
      ],
      "text/plain": [
       "<IPython.core.display.HTML object>"
      ]
     },
     "metadata": {},
     "output_type": "display_data"
    },
    {
     "data": {
      "text/html": [
       "Run data is saved locally in <code>/home/tejas/Documents/SMAI/assignment-3-MrTejas/q2/wandb/run-20231023_184759-4n5fg56u</code>"
      ],
      "text/plain": [
       "<IPython.core.display.HTML object>"
      ]
     },
     "metadata": {},
     "output_type": "display_data"
    },
    {
     "data": {
      "text/html": [
       "Syncing run <strong><a href='https://wandb.ai/tejas591995/MLPClassification/runs/4n5fg56u' target=\"_blank\">sunny-cloud-5</a></strong> to <a href='https://wandb.ai/tejas591995/MLPClassification' target=\"_blank\">Weights & Biases</a> (<a href='https://wandb.me/run' target=\"_blank\">docs</a>)<br/>"
      ],
      "text/plain": [
       "<IPython.core.display.HTML object>"
      ]
     },
     "metadata": {},
     "output_type": "display_data"
    },
    {
     "data": {
      "text/html": [
       " View project at <a href='https://wandb.ai/tejas591995/MLPClassification' target=\"_blank\">https://wandb.ai/tejas591995/MLPClassification</a>"
      ],
      "text/plain": [
       "<IPython.core.display.HTML object>"
      ]
     },
     "metadata": {},
     "output_type": "display_data"
    },
    {
     "data": {
      "text/html": [
       " View run at <a href='https://wandb.ai/tejas591995/MLPClassification/runs/4n5fg56u' target=\"_blank\">https://wandb.ai/tejas591995/MLPClassification/runs/4n5fg56u</a>"
      ],
      "text/plain": [
       "<IPython.core.display.HTML object>"
      ]
     },
     "metadata": {},
     "output_type": "display_data"
    },
    {
     "name": "stdout",
     "output_type": "stream",
     "text": [
      "Initialized values successfully!\n",
      "Loaded Dataframe!\n",
      "Splitted data into train, test and val sets!\n",
      "-----------------------------------------------\n",
      "Number of Layers       :  4\n",
      "Layer sizes            :  [11, 5, 5, 6]\n",
      "Batch size             :  100\n",
      "Activation Function    :  ReLU\n",
      "Optimization Method    :  mini-batch\n",
      "Learning Rate          :  0.001\n",
      "Num Epoches            :  100\n",
      "-----------------------------------------------\n"
     ]
    },
    {
     "data": {
      "text/html": [
       "Waiting for W&B process to finish... <strong style=\"color:green\">(success).</strong>"
      ],
      "text/plain": [
       "<IPython.core.display.HTML object>"
      ]
     },
     "metadata": {},
     "output_type": "display_data"
    },
    {
     "data": {
      "text/html": [
       "<style>\n",
       "    table.wandb td:nth-child(1) { padding: 0 10px; text-align: left ; width: auto;} td:nth-child(2) {text-align: left ; width: 100%}\n",
       "    .wandb-row { display: flex; flex-direction: row; flex-wrap: wrap; justify-content: flex-start; width: 100% }\n",
       "    .wandb-col { display: flex; flex-direction: column; flex-basis: 100%; flex: 1; padding: 10px; }\n",
       "    </style>\n",
       "<div class=\"wandb-row\"><div class=\"wandb-col\"><h3>Run history:</h3><br/><table class=\"wandb\"><tr><td>acc</td><td>▁▁▁▁▂▂▂▂▂▂▂▃▃▃▃▄▄▄▄▅▅▆▆▆▆▇▇▇▇▇▇▇▇▇▇▇▇███</td></tr><tr><td>loss</td><td>██▇▇▆▆▆▆▅▅▅▅▄▄▄▄▄▃▃▃▃▃▃▃▃▂▂▂▂▂▂▂▂▂▁▁▁▁▁▁</td></tr></table><br/></div><div class=\"wandb-col\"><h3>Run summary:</h3><br/><table class=\"wandb\"><tr><td>acc</td><td>0.148</td></tr><tr><td>loss</td><td>0.293</td></tr></table><br/></div></div>"
      ],
      "text/plain": [
       "<IPython.core.display.HTML object>"
      ]
     },
     "metadata": {},
     "output_type": "display_data"
    },
    {
     "data": {
      "text/html": [
       " View run <strong style=\"color:#cdcd00\">sunny-cloud-5</strong> at: <a href='https://wandb.ai/tejas591995/MLPClassification/runs/4n5fg56u' target=\"_blank\">https://wandb.ai/tejas591995/MLPClassification/runs/4n5fg56u</a><br/> View job at <a href='https://wandb.ai/tejas591995/MLPClassification/jobs/QXJ0aWZhY3RDb2xsZWN0aW9uOjEwOTIxOTAwNw==/version_details/v0' target=\"_blank\">https://wandb.ai/tejas591995/MLPClassification/jobs/QXJ0aWZhY3RDb2xsZWN0aW9uOjEwOTIxOTAwNw==/version_details/v0</a><br/>Synced 6 W&B file(s), 0 media file(s), 0 artifact file(s) and 0 other file(s)"
      ],
      "text/plain": [
       "<IPython.core.display.HTML object>"
      ]
     },
     "metadata": {},
     "output_type": "display_data"
    },
    {
     "data": {
      "text/html": [
       "Find logs at: <code>./wandb/run-20231023_184759-4n5fg56u/logs</code>"
      ],
      "text/plain": [
       "<IPython.core.display.HTML object>"
      ]
     },
     "metadata": {},
     "output_type": "display_data"
    },
    {
     "name": "stdout",
     "output_type": "stream",
     "text": [
      "5\n"
     ]
    },
    {
     "data": {
      "application/vnd.jupyter.widget-view+json": {
       "model_id": "dc011c3f811a487d9bd06b85224d7ef7",
       "version_major": 2,
       "version_minor": 0
      },
      "text/plain": [
       "VBox(children=(Label(value='Waiting for wandb.init()...\\r'), FloatProgress(value=0.011112301922225419, max=1.0…"
      ]
     },
     "metadata": {},
     "output_type": "display_data"
    },
    {
     "data": {
      "text/html": [
       "wandb version 0.15.12 is available!  To upgrade, please run:\n",
       " $ pip install wandb --upgrade"
      ],
      "text/plain": [
       "<IPython.core.display.HTML object>"
      ]
     },
     "metadata": {},
     "output_type": "display_data"
    },
    {
     "data": {
      "text/html": [
       "Tracking run with wandb version 0.15.11"
      ],
      "text/plain": [
       "<IPython.core.display.HTML object>"
      ]
     },
     "metadata": {},
     "output_type": "display_data"
    },
    {
     "data": {
      "text/html": [
       "Run data is saved locally in <code>/home/tejas/Documents/SMAI/assignment-3-MrTejas/q2/wandb/run-20231023_184815-y3t3wz5y</code>"
      ],
      "text/plain": [
       "<IPython.core.display.HTML object>"
      ]
     },
     "metadata": {},
     "output_type": "display_data"
    },
    {
     "data": {
      "text/html": [
       "Syncing run <strong><a href='https://wandb.ai/tejas591995/MLPClassification/runs/y3t3wz5y' target=\"_blank\">fluent-elevator-6</a></strong> to <a href='https://wandb.ai/tejas591995/MLPClassification' target=\"_blank\">Weights & Biases</a> (<a href='https://wandb.me/run' target=\"_blank\">docs</a>)<br/>"
      ],
      "text/plain": [
       "<IPython.core.display.HTML object>"
      ]
     },
     "metadata": {},
     "output_type": "display_data"
    },
    {
     "data": {
      "text/html": [
       " View project at <a href='https://wandb.ai/tejas591995/MLPClassification' target=\"_blank\">https://wandb.ai/tejas591995/MLPClassification</a>"
      ],
      "text/plain": [
       "<IPython.core.display.HTML object>"
      ]
     },
     "metadata": {},
     "output_type": "display_data"
    },
    {
     "data": {
      "text/html": [
       " View run at <a href='https://wandb.ai/tejas591995/MLPClassification/runs/y3t3wz5y' target=\"_blank\">https://wandb.ai/tejas591995/MLPClassification/runs/y3t3wz5y</a>"
      ],
      "text/plain": [
       "<IPython.core.display.HTML object>"
      ]
     },
     "metadata": {},
     "output_type": "display_data"
    },
    {
     "name": "stdout",
     "output_type": "stream",
     "text": [
      "Initialized values successfully!\n",
      "Loaded Dataframe!\n",
      "Splitted data into train, test and val sets!\n",
      "-----------------------------------------------\n",
      "Number of Layers       :  4\n",
      "Layer sizes            :  [11, 5, 5, 6]\n",
      "Batch size             :  150\n",
      "Activation Function    :  ReLU\n",
      "Optimization Method    :  mini-batch\n",
      "Learning Rate          :  0.001\n",
      "Num Epoches            :  100\n",
      "-----------------------------------------------\n"
     ]
    },
    {
     "data": {
      "text/html": [
       "Waiting for W&B process to finish... <strong style=\"color:green\">(success).</strong>"
      ],
      "text/plain": [
       "<IPython.core.display.HTML object>"
      ]
     },
     "metadata": {},
     "output_type": "display_data"
    },
    {
     "data": {
      "text/html": [
       "<style>\n",
       "    table.wandb td:nth-child(1) { padding: 0 10px; text-align: left ; width: auto;} td:nth-child(2) {text-align: left ; width: 100%}\n",
       "    .wandb-row { display: flex; flex-direction: row; flex-wrap: wrap; justify-content: flex-start; width: 100% }\n",
       "    .wandb-col { display: flex; flex-direction: column; flex-basis: 100%; flex: 1; padding: 10px; }\n",
       "    </style>\n",
       "<div class=\"wandb-row\"><div class=\"wandb-col\"><h3>Run history:</h3><br/><table class=\"wandb\"><tr><td>acc</td><td>▁▁▂▂▂▂▂▂▂▃▃▃▃▃▃▃▄▄▄▄▄▄▅▅▆▆▆▆▇▇▇▇▇▇██████</td></tr><tr><td>loss</td><td>██▇▇▇▆▆▆▆▆▅▅▅▅▅▄▄▄▄▄▃▃▃▃▃▃▂▂▂▂▂▂▂▂▂▁▁▁▁▁</td></tr></table><br/></div><div class=\"wandb-col\"><h3>Run summary:</h3><br/><table class=\"wandb\"><tr><td>acc</td><td>0.353</td></tr><tr><td>loss</td><td>0.274</td></tr></table><br/></div></div>"
      ],
      "text/plain": [
       "<IPython.core.display.HTML object>"
      ]
     },
     "metadata": {},
     "output_type": "display_data"
    },
    {
     "data": {
      "text/html": [
       " View run <strong style=\"color:#cdcd00\">fluent-elevator-6</strong> at: <a href='https://wandb.ai/tejas591995/MLPClassification/runs/y3t3wz5y' target=\"_blank\">https://wandb.ai/tejas591995/MLPClassification/runs/y3t3wz5y</a><br/> View job at <a href='https://wandb.ai/tejas591995/MLPClassification/jobs/QXJ0aWZhY3RDb2xsZWN0aW9uOjEwOTIxOTAwNw==/version_details/v0' target=\"_blank\">https://wandb.ai/tejas591995/MLPClassification/jobs/QXJ0aWZhY3RDb2xsZWN0aW9uOjEwOTIxOTAwNw==/version_details/v0</a><br/>Synced 6 W&B file(s), 0 media file(s), 0 artifact file(s) and 0 other file(s)"
      ],
      "text/plain": [
       "<IPython.core.display.HTML object>"
      ]
     },
     "metadata": {},
     "output_type": "display_data"
    },
    {
     "data": {
      "text/html": [
       "Find logs at: <code>./wandb/run-20231023_184815-y3t3wz5y/logs</code>"
      ],
      "text/plain": [
       "<IPython.core.display.HTML object>"
      ]
     },
     "metadata": {},
     "output_type": "display_data"
    },
    {
     "name": "stdout",
     "output_type": "stream",
     "text": [
      "6\n"
     ]
    },
    {
     "data": {
      "application/vnd.jupyter.widget-view+json": {
       "model_id": "2b403ae1402445588ea326d0cdf5f05e",
       "version_major": 2,
       "version_minor": 0
      },
      "text/plain": [
       "VBox(children=(Label(value='Waiting for wandb.init()...\\r'), FloatProgress(value=0.011112645244429587, max=1.0…"
      ]
     },
     "metadata": {},
     "output_type": "display_data"
    },
    {
     "data": {
      "text/html": [
       "wandb version 0.15.12 is available!  To upgrade, please run:\n",
       " $ pip install wandb --upgrade"
      ],
      "text/plain": [
       "<IPython.core.display.HTML object>"
      ]
     },
     "metadata": {},
     "output_type": "display_data"
    },
    {
     "data": {
      "text/html": [
       "Tracking run with wandb version 0.15.11"
      ],
      "text/plain": [
       "<IPython.core.display.HTML object>"
      ]
     },
     "metadata": {},
     "output_type": "display_data"
    },
    {
     "data": {
      "text/html": [
       "Run data is saved locally in <code>/home/tejas/Documents/SMAI/assignment-3-MrTejas/q2/wandb/run-20231023_184831-dodfz93r</code>"
      ],
      "text/plain": [
       "<IPython.core.display.HTML object>"
      ]
     },
     "metadata": {},
     "output_type": "display_data"
    },
    {
     "data": {
      "text/html": [
       "Syncing run <strong><a href='https://wandb.ai/tejas591995/MLPClassification/runs/dodfz93r' target=\"_blank\">rural-frost-7</a></strong> to <a href='https://wandb.ai/tejas591995/MLPClassification' target=\"_blank\">Weights & Biases</a> (<a href='https://wandb.me/run' target=\"_blank\">docs</a>)<br/>"
      ],
      "text/plain": [
       "<IPython.core.display.HTML object>"
      ]
     },
     "metadata": {},
     "output_type": "display_data"
    },
    {
     "data": {
      "text/html": [
       " View project at <a href='https://wandb.ai/tejas591995/MLPClassification' target=\"_blank\">https://wandb.ai/tejas591995/MLPClassification</a>"
      ],
      "text/plain": [
       "<IPython.core.display.HTML object>"
      ]
     },
     "metadata": {},
     "output_type": "display_data"
    },
    {
     "data": {
      "text/html": [
       " View run at <a href='https://wandb.ai/tejas591995/MLPClassification/runs/dodfz93r' target=\"_blank\">https://wandb.ai/tejas591995/MLPClassification/runs/dodfz93r</a>"
      ],
      "text/plain": [
       "<IPython.core.display.HTML object>"
      ]
     },
     "metadata": {},
     "output_type": "display_data"
    },
    {
     "name": "stdout",
     "output_type": "stream",
     "text": [
      "Initialized values successfully!\n",
      "Loaded Dataframe!\n",
      "Splitted data into train, test and val sets!\n",
      "-----------------------------------------------\n",
      "Number of Layers       :  4\n",
      "Layer sizes            :  [11, 5, 5, 6]\n",
      "Batch size             :  200\n",
      "Activation Function    :  ReLU\n",
      "Optimization Method    :  mini-batch\n",
      "Learning Rate          :  0.001\n",
      "Num Epoches            :  100\n",
      "-----------------------------------------------\n"
     ]
    },
    {
     "data": {
      "text/html": [
       "Waiting for W&B process to finish... <strong style=\"color:green\">(success).</strong>"
      ],
      "text/plain": [
       "<IPython.core.display.HTML object>"
      ]
     },
     "metadata": {},
     "output_type": "display_data"
    },
    {
     "data": {
      "text/html": [
       "<style>\n",
       "    table.wandb td:nth-child(1) { padding: 0 10px; text-align: left ; width: auto;} td:nth-child(2) {text-align: left ; width: 100%}\n",
       "    .wandb-row { display: flex; flex-direction: row; flex-wrap: wrap; justify-content: flex-start; width: 100% }\n",
       "    .wandb-col { display: flex; flex-direction: column; flex-basis: 100%; flex: 1; padding: 10px; }\n",
       "    </style>\n",
       "<div class=\"wandb-row\"><div class=\"wandb-col\"><h3>Run history:</h3><br/><table class=\"wandb\"><tr><td>acc</td><td>▁▁▂▃▃▃▃▄▄▄▄▄▅▅▅▅▅▅▅▅▅▅▅▆▆▆▆▆▆▆▆▆▇▇▇▇████</td></tr><tr><td>loss</td><td>██▇▇▇▆▆▆▆▅▅▅▅▄▄▄▄▄▃▃▃▃▃▃▃▃▂▂▂▂▂▂▂▂▁▁▁▁▁▁</td></tr></table><br/></div><div class=\"wandb-col\"><h3>Run summary:</h3><br/><table class=\"wandb\"><tr><td>acc</td><td>0.181</td></tr><tr><td>loss</td><td>0.263</td></tr></table><br/></div></div>"
      ],
      "text/plain": [
       "<IPython.core.display.HTML object>"
      ]
     },
     "metadata": {},
     "output_type": "display_data"
    },
    {
     "data": {
      "text/html": [
       " View run <strong style=\"color:#cdcd00\">rural-frost-7</strong> at: <a href='https://wandb.ai/tejas591995/MLPClassification/runs/dodfz93r' target=\"_blank\">https://wandb.ai/tejas591995/MLPClassification/runs/dodfz93r</a><br/> View job at <a href='https://wandb.ai/tejas591995/MLPClassification/jobs/QXJ0aWZhY3RDb2xsZWN0aW9uOjEwOTIxOTAwNw==/version_details/v0' target=\"_blank\">https://wandb.ai/tejas591995/MLPClassification/jobs/QXJ0aWZhY3RDb2xsZWN0aW9uOjEwOTIxOTAwNw==/version_details/v0</a><br/>Synced 6 W&B file(s), 0 media file(s), 0 artifact file(s) and 0 other file(s)"
      ],
      "text/plain": [
       "<IPython.core.display.HTML object>"
      ]
     },
     "metadata": {},
     "output_type": "display_data"
    },
    {
     "data": {
      "text/html": [
       "Find logs at: <code>./wandb/run-20231023_184831-dodfz93r/logs</code>"
      ],
      "text/plain": [
       "<IPython.core.display.HTML object>"
      ]
     },
     "metadata": {},
     "output_type": "display_data"
    },
    {
     "name": "stdout",
     "output_type": "stream",
     "text": [
      "7\n"
     ]
    },
    {
     "data": {
      "application/vnd.jupyter.widget-view+json": {
       "model_id": "e4390246f14c49c9be6c5de384e1bff6",
       "version_major": 2,
       "version_minor": 0
      },
      "text/plain": [
       "VBox(children=(Label(value='Waiting for wandb.init()...\\r'), FloatProgress(value=0.011113834722224662, max=1.0…"
      ]
     },
     "metadata": {},
     "output_type": "display_data"
    },
    {
     "data": {
      "text/html": [
       "wandb version 0.15.12 is available!  To upgrade, please run:\n",
       " $ pip install wandb --upgrade"
      ],
      "text/plain": [
       "<IPython.core.display.HTML object>"
      ]
     },
     "metadata": {},
     "output_type": "display_data"
    },
    {
     "data": {
      "text/html": [
       "Tracking run with wandb version 0.15.11"
      ],
      "text/plain": [
       "<IPython.core.display.HTML object>"
      ]
     },
     "metadata": {},
     "output_type": "display_data"
    },
    {
     "data": {
      "text/html": [
       "Run data is saved locally in <code>/home/tejas/Documents/SMAI/assignment-3-MrTejas/q2/wandb/run-20231023_184845-wrwxw3qr</code>"
      ],
      "text/plain": [
       "<IPython.core.display.HTML object>"
      ]
     },
     "metadata": {},
     "output_type": "display_data"
    },
    {
     "data": {
      "text/html": [
       "Syncing run <strong><a href='https://wandb.ai/tejas591995/MLPClassification/runs/wrwxw3qr' target=\"_blank\">wandering-salad-8</a></strong> to <a href='https://wandb.ai/tejas591995/MLPClassification' target=\"_blank\">Weights & Biases</a> (<a href='https://wandb.me/run' target=\"_blank\">docs</a>)<br/>"
      ],
      "text/plain": [
       "<IPython.core.display.HTML object>"
      ]
     },
     "metadata": {},
     "output_type": "display_data"
    },
    {
     "data": {
      "text/html": [
       " View project at <a href='https://wandb.ai/tejas591995/MLPClassification' target=\"_blank\">https://wandb.ai/tejas591995/MLPClassification</a>"
      ],
      "text/plain": [
       "<IPython.core.display.HTML object>"
      ]
     },
     "metadata": {},
     "output_type": "display_data"
    },
    {
     "data": {
      "text/html": [
       " View run at <a href='https://wandb.ai/tejas591995/MLPClassification/runs/wrwxw3qr' target=\"_blank\">https://wandb.ai/tejas591995/MLPClassification/runs/wrwxw3qr</a>"
      ],
      "text/plain": [
       "<IPython.core.display.HTML object>"
      ]
     },
     "metadata": {},
     "output_type": "display_data"
    },
    {
     "name": "stdout",
     "output_type": "stream",
     "text": [
      "Initialized values successfully!\n",
      "Loaded Dataframe!\n",
      "Splitted data into train, test and val sets!\n",
      "-----------------------------------------------\n",
      "Number of Layers       :  4\n",
      "Layer sizes            :  [11, 5, 5, 6]\n",
      "Batch size             :  250\n",
      "Activation Function    :  ReLU\n",
      "Optimization Method    :  mini-batch\n",
      "Learning Rate          :  0.001\n",
      "Num Epoches            :  100\n",
      "-----------------------------------------------\n"
     ]
    },
    {
     "data": {
      "text/html": [
       "Waiting for W&B process to finish... <strong style=\"color:green\">(success).</strong>"
      ],
      "text/plain": [
       "<IPython.core.display.HTML object>"
      ]
     },
     "metadata": {},
     "output_type": "display_data"
    },
    {
     "data": {
      "text/html": [
       "<style>\n",
       "    table.wandb td:nth-child(1) { padding: 0 10px; text-align: left ; width: auto;} td:nth-child(2) {text-align: left ; width: 100%}\n",
       "    .wandb-row { display: flex; flex-direction: row; flex-wrap: wrap; justify-content: flex-start; width: 100% }\n",
       "    .wandb-col { display: flex; flex-direction: column; flex-basis: 100%; flex: 1; padding: 10px; }\n",
       "    </style>\n",
       "<div class=\"wandb-row\"><div class=\"wandb-col\"><h3>Run history:</h3><br/><table class=\"wandb\"><tr><td>acc</td><td>▁▁▁▁▁▁▁▂▂▂▂▂▂▃▃▃▃▄▄▄▄▄▄▄▄▅▅▅▆▆▆▆▆▆▆▆▇▇██</td></tr><tr><td>loss</td><td>██▇▇▇▇▆▆▆▆▅▅▅▅▅▄▄▄▄▄▄▃▃▃▃▃▃▂▂▂▂▂▂▂▁▁▁▁▁▁</td></tr></table><br/></div><div class=\"wandb-col\"><h3>Run summary:</h3><br/><table class=\"wandb\"><tr><td>acc</td><td>0.166</td></tr><tr><td>loss</td><td>0.256</td></tr></table><br/></div></div>"
      ],
      "text/plain": [
       "<IPython.core.display.HTML object>"
      ]
     },
     "metadata": {},
     "output_type": "display_data"
    },
    {
     "data": {
      "text/html": [
       " View run <strong style=\"color:#cdcd00\">wandering-salad-8</strong> at: <a href='https://wandb.ai/tejas591995/MLPClassification/runs/wrwxw3qr' target=\"_blank\">https://wandb.ai/tejas591995/MLPClassification/runs/wrwxw3qr</a><br/> View job at <a href='https://wandb.ai/tejas591995/MLPClassification/jobs/QXJ0aWZhY3RDb2xsZWN0aW9uOjEwOTIxOTAwNw==/version_details/v0' target=\"_blank\">https://wandb.ai/tejas591995/MLPClassification/jobs/QXJ0aWZhY3RDb2xsZWN0aW9uOjEwOTIxOTAwNw==/version_details/v0</a><br/>Synced 6 W&B file(s), 0 media file(s), 0 artifact file(s) and 0 other file(s)"
      ],
      "text/plain": [
       "<IPython.core.display.HTML object>"
      ]
     },
     "metadata": {},
     "output_type": "display_data"
    },
    {
     "data": {
      "text/html": [
       "Find logs at: <code>./wandb/run-20231023_184845-wrwxw3qr/logs</code>"
      ],
      "text/plain": [
       "<IPython.core.display.HTML object>"
      ]
     },
     "metadata": {},
     "output_type": "display_data"
    },
    {
     "name": "stdout",
     "output_type": "stream",
     "text": [
      "8\n"
     ]
    },
    {
     "data": {
      "application/vnd.jupyter.widget-view+json": {
       "model_id": "2b1ea403f4684ba5aab48a022c27a15b",
       "version_major": 2,
       "version_minor": 0
      },
      "text/plain": [
       "VBox(children=(Label(value='Waiting for wandb.init()...\\r'), FloatProgress(value=0.011112847466696016, max=1.0…"
      ]
     },
     "metadata": {},
     "output_type": "display_data"
    },
    {
     "data": {
      "text/html": [
       "wandb version 0.15.12 is available!  To upgrade, please run:\n",
       " $ pip install wandb --upgrade"
      ],
      "text/plain": [
       "<IPython.core.display.HTML object>"
      ]
     },
     "metadata": {},
     "output_type": "display_data"
    },
    {
     "data": {
      "text/html": [
       "Tracking run with wandb version 0.15.11"
      ],
      "text/plain": [
       "<IPython.core.display.HTML object>"
      ]
     },
     "metadata": {},
     "output_type": "display_data"
    },
    {
     "data": {
      "text/html": [
       "Run data is saved locally in <code>/home/tejas/Documents/SMAI/assignment-3-MrTejas/q2/wandb/run-20231023_184900-gvwfkftu</code>"
      ],
      "text/plain": [
       "<IPython.core.display.HTML object>"
      ]
     },
     "metadata": {},
     "output_type": "display_data"
    },
    {
     "data": {
      "text/html": [
       "Syncing run <strong><a href='https://wandb.ai/tejas591995/MLPClassification/runs/gvwfkftu' target=\"_blank\">polished-yogurt-9</a></strong> to <a href='https://wandb.ai/tejas591995/MLPClassification' target=\"_blank\">Weights & Biases</a> (<a href='https://wandb.me/run' target=\"_blank\">docs</a>)<br/>"
      ],
      "text/plain": [
       "<IPython.core.display.HTML object>"
      ]
     },
     "metadata": {},
     "output_type": "display_data"
    },
    {
     "data": {
      "text/html": [
       " View project at <a href='https://wandb.ai/tejas591995/MLPClassification' target=\"_blank\">https://wandb.ai/tejas591995/MLPClassification</a>"
      ],
      "text/plain": [
       "<IPython.core.display.HTML object>"
      ]
     },
     "metadata": {},
     "output_type": "display_data"
    },
    {
     "data": {
      "text/html": [
       " View run at <a href='https://wandb.ai/tejas591995/MLPClassification/runs/gvwfkftu' target=\"_blank\">https://wandb.ai/tejas591995/MLPClassification/runs/gvwfkftu</a>"
      ],
      "text/plain": [
       "<IPython.core.display.HTML object>"
      ]
     },
     "metadata": {},
     "output_type": "display_data"
    },
    {
     "name": "stdout",
     "output_type": "stream",
     "text": [
      "Initialized values successfully!\n",
      "Loaded Dataframe!\n",
      "Splitted data into train, test and val sets!\n",
      "-----------------------------------------------\n",
      "Number of Layers       :  4\n",
      "Layer sizes            :  [11, 5, 5, 6]\n",
      "Batch size             :  100\n",
      "Activation Function    :  sigmoid\n",
      "Optimization Method    :  mini-batch\n",
      "Learning Rate          :  0.001\n",
      "Num Epoches            :  100\n",
      "-----------------------------------------------\n"
     ]
    },
    {
     "data": {
      "text/html": [
       "Waiting for W&B process to finish... <strong style=\"color:green\">(success).</strong>"
      ],
      "text/plain": [
       "<IPython.core.display.HTML object>"
      ]
     },
     "metadata": {},
     "output_type": "display_data"
    },
    {
     "data": {
      "text/html": [
       "<style>\n",
       "    table.wandb td:nth-child(1) { padding: 0 10px; text-align: left ; width: auto;} td:nth-child(2) {text-align: left ; width: 100%}\n",
       "    .wandb-row { display: flex; flex-direction: row; flex-wrap: wrap; justify-content: flex-start; width: 100% }\n",
       "    .wandb-col { display: flex; flex-direction: column; flex-basis: 100%; flex: 1; padding: 10px; }\n",
       "    </style>\n",
       "<div class=\"wandb-row\"><div class=\"wandb-col\"><h3>Run history:</h3><br/><table class=\"wandb\"><tr><td>acc</td><td>▁▁▁▁▁▁▁▁▁▁▁▁▁▁▁▁▁▁▁▁▁▁▁▁▁▁▁▁▁▁▁▁▁▁▁▁▁▁▁▁</td></tr><tr><td>loss</td><td>██████████████████████▁▁▁▁▁▁▁▁▁▁▁▁▁▁▁▁▁▁</td></tr></table><br/></div><div class=\"wandb-col\"><h3>Run summary:</h3><br/><table class=\"wandb\"><tr><td>acc</td><td>0.417</td></tr><tr><td>loss</td><td>0.282</td></tr></table><br/></div></div>"
      ],
      "text/plain": [
       "<IPython.core.display.HTML object>"
      ]
     },
     "metadata": {},
     "output_type": "display_data"
    },
    {
     "data": {
      "text/html": [
       " View run <strong style=\"color:#cdcd00\">polished-yogurt-9</strong> at: <a href='https://wandb.ai/tejas591995/MLPClassification/runs/gvwfkftu' target=\"_blank\">https://wandb.ai/tejas591995/MLPClassification/runs/gvwfkftu</a><br/> View job at <a href='https://wandb.ai/tejas591995/MLPClassification/jobs/QXJ0aWZhY3RDb2xsZWN0aW9uOjEwOTIxOTAwNw==/version_details/v0' target=\"_blank\">https://wandb.ai/tejas591995/MLPClassification/jobs/QXJ0aWZhY3RDb2xsZWN0aW9uOjEwOTIxOTAwNw==/version_details/v0</a><br/>Synced 6 W&B file(s), 0 media file(s), 0 artifact file(s) and 0 other file(s)"
      ],
      "text/plain": [
       "<IPython.core.display.HTML object>"
      ]
     },
     "metadata": {},
     "output_type": "display_data"
    },
    {
     "data": {
      "text/html": [
       "Find logs at: <code>./wandb/run-20231023_184900-gvwfkftu/logs</code>"
      ],
      "text/plain": [
       "<IPython.core.display.HTML object>"
      ]
     },
     "metadata": {},
     "output_type": "display_data"
    },
    {
     "name": "stdout",
     "output_type": "stream",
     "text": [
      "9\n"
     ]
    },
    {
     "data": {
      "application/vnd.jupyter.widget-view+json": {
       "model_id": "b0f9acfee8f049488fb88b71404c2146",
       "version_major": 2,
       "version_minor": 0
      },
      "text/plain": [
       "VBox(children=(Label(value='Waiting for wandb.init()...\\r'), FloatProgress(value=0.011112567500014039, max=1.0…"
      ]
     },
     "metadata": {},
     "output_type": "display_data"
    },
    {
     "data": {
      "text/html": [
       "wandb version 0.15.12 is available!  To upgrade, please run:\n",
       " $ pip install wandb --upgrade"
      ],
      "text/plain": [
       "<IPython.core.display.HTML object>"
      ]
     },
     "metadata": {},
     "output_type": "display_data"
    },
    {
     "data": {
      "text/html": [
       "Tracking run with wandb version 0.15.11"
      ],
      "text/plain": [
       "<IPython.core.display.HTML object>"
      ]
     },
     "metadata": {},
     "output_type": "display_data"
    },
    {
     "data": {
      "text/html": [
       "Run data is saved locally in <code>/home/tejas/Documents/SMAI/assignment-3-MrTejas/q2/wandb/run-20231023_184915-62zrihub</code>"
      ],
      "text/plain": [
       "<IPython.core.display.HTML object>"
      ]
     },
     "metadata": {},
     "output_type": "display_data"
    },
    {
     "data": {
      "text/html": [
       "Syncing run <strong><a href='https://wandb.ai/tejas591995/MLPClassification/runs/62zrihub' target=\"_blank\">rare-donkey-10</a></strong> to <a href='https://wandb.ai/tejas591995/MLPClassification' target=\"_blank\">Weights & Biases</a> (<a href='https://wandb.me/run' target=\"_blank\">docs</a>)<br/>"
      ],
      "text/plain": [
       "<IPython.core.display.HTML object>"
      ]
     },
     "metadata": {},
     "output_type": "display_data"
    },
    {
     "data": {
      "text/html": [
       " View project at <a href='https://wandb.ai/tejas591995/MLPClassification' target=\"_blank\">https://wandb.ai/tejas591995/MLPClassification</a>"
      ],
      "text/plain": [
       "<IPython.core.display.HTML object>"
      ]
     },
     "metadata": {},
     "output_type": "display_data"
    },
    {
     "data": {
      "text/html": [
       " View run at <a href='https://wandb.ai/tejas591995/MLPClassification/runs/62zrihub' target=\"_blank\">https://wandb.ai/tejas591995/MLPClassification/runs/62zrihub</a>"
      ],
      "text/plain": [
       "<IPython.core.display.HTML object>"
      ]
     },
     "metadata": {},
     "output_type": "display_data"
    },
    {
     "name": "stdout",
     "output_type": "stream",
     "text": [
      "Initialized values successfully!\n",
      "Loaded Dataframe!\n",
      "Splitted data into train, test and val sets!\n",
      "-----------------------------------------------\n",
      "Number of Layers       :  4\n",
      "Layer sizes            :  [11, 5, 5, 6]\n",
      "Batch size             :  150\n",
      "Activation Function    :  sigmoid\n",
      "Optimization Method    :  mini-batch\n",
      "Learning Rate          :  0.001\n",
      "Num Epoches            :  100\n",
      "-----------------------------------------------\n"
     ]
    },
    {
     "data": {
      "text/html": [
       "Waiting for W&B process to finish... <strong style=\"color:green\">(success).</strong>"
      ],
      "text/plain": [
       "<IPython.core.display.HTML object>"
      ]
     },
     "metadata": {},
     "output_type": "display_data"
    },
    {
     "data": {
      "text/html": [
       "<style>\n",
       "    table.wandb td:nth-child(1) { padding: 0 10px; text-align: left ; width: auto;} td:nth-child(2) {text-align: left ; width: 100%}\n",
       "    .wandb-row { display: flex; flex-direction: row; flex-wrap: wrap; justify-content: flex-start; width: 100% }\n",
       "    .wandb-col { display: flex; flex-direction: column; flex-basis: 100%; flex: 1; padding: 10px; }\n",
       "    </style>\n",
       "<div class=\"wandb-row\"><div class=\"wandb-col\"><h3>Run history:</h3><br/><table class=\"wandb\"><tr><td>acc</td><td>▁▁▁▁▁▁▁▁▁▁▁▁▁▁▁▁▁▁▁▁▁▁▁▁▁▁▁▁▁▁▁▁▁▁▁▁▁▁▁▁</td></tr><tr><td>loss</td><td>████████████▁▁▁▁▁▁▁▁▁▁▁▁▁▁▁▁▁▁▁▁▁▁▁▁▁▁▁▁</td></tr></table><br/></div><div class=\"wandb-col\"><h3>Run summary:</h3><br/><table class=\"wandb\"><tr><td>acc</td><td>0.417</td></tr><tr><td>loss</td><td>0.296</td></tr></table><br/></div></div>"
      ],
      "text/plain": [
       "<IPython.core.display.HTML object>"
      ]
     },
     "metadata": {},
     "output_type": "display_data"
    },
    {
     "data": {
      "text/html": [
       " View run <strong style=\"color:#cdcd00\">rare-donkey-10</strong> at: <a href='https://wandb.ai/tejas591995/MLPClassification/runs/62zrihub' target=\"_blank\">https://wandb.ai/tejas591995/MLPClassification/runs/62zrihub</a><br/> View job at <a href='https://wandb.ai/tejas591995/MLPClassification/jobs/QXJ0aWZhY3RDb2xsZWN0aW9uOjEwOTIxOTAwNw==/version_details/v0' target=\"_blank\">https://wandb.ai/tejas591995/MLPClassification/jobs/QXJ0aWZhY3RDb2xsZWN0aW9uOjEwOTIxOTAwNw==/version_details/v0</a><br/>Synced 6 W&B file(s), 0 media file(s), 0 artifact file(s) and 0 other file(s)"
      ],
      "text/plain": [
       "<IPython.core.display.HTML object>"
      ]
     },
     "metadata": {},
     "output_type": "display_data"
    },
    {
     "data": {
      "text/html": [
       "Find logs at: <code>./wandb/run-20231023_184915-62zrihub/logs</code>"
      ],
      "text/plain": [
       "<IPython.core.display.HTML object>"
      ]
     },
     "metadata": {},
     "output_type": "display_data"
    },
    {
     "name": "stdout",
     "output_type": "stream",
     "text": [
      "10\n"
     ]
    },
    {
     "data": {
      "application/vnd.jupyter.widget-view+json": {
       "model_id": "cd9c9c7710e7468686391edd187dde98",
       "version_major": 2,
       "version_minor": 0
      },
      "text/plain": [
       "VBox(children=(Label(value='Waiting for wandb.init()...\\r'), FloatProgress(value=0.011113931566675698, max=1.0…"
      ]
     },
     "metadata": {},
     "output_type": "display_data"
    },
    {
     "data": {
      "text/html": [
       "wandb version 0.15.12 is available!  To upgrade, please run:\n",
       " $ pip install wandb --upgrade"
      ],
      "text/plain": [
       "<IPython.core.display.HTML object>"
      ]
     },
     "metadata": {},
     "output_type": "display_data"
    },
    {
     "data": {
      "text/html": [
       "Tracking run with wandb version 0.15.11"
      ],
      "text/plain": [
       "<IPython.core.display.HTML object>"
      ]
     },
     "metadata": {},
     "output_type": "display_data"
    },
    {
     "data": {
      "text/html": [
       "Run data is saved locally in <code>/home/tejas/Documents/SMAI/assignment-3-MrTejas/q2/wandb/run-20231023_184929-r3mvgmpo</code>"
      ],
      "text/plain": [
       "<IPython.core.display.HTML object>"
      ]
     },
     "metadata": {},
     "output_type": "display_data"
    },
    {
     "data": {
      "text/html": [
       "Syncing run <strong><a href='https://wandb.ai/tejas591995/MLPClassification/runs/r3mvgmpo' target=\"_blank\">sweet-surf-11</a></strong> to <a href='https://wandb.ai/tejas591995/MLPClassification' target=\"_blank\">Weights & Biases</a> (<a href='https://wandb.me/run' target=\"_blank\">docs</a>)<br/>"
      ],
      "text/plain": [
       "<IPython.core.display.HTML object>"
      ]
     },
     "metadata": {},
     "output_type": "display_data"
    },
    {
     "data": {
      "text/html": [
       " View project at <a href='https://wandb.ai/tejas591995/MLPClassification' target=\"_blank\">https://wandb.ai/tejas591995/MLPClassification</a>"
      ],
      "text/plain": [
       "<IPython.core.display.HTML object>"
      ]
     },
     "metadata": {},
     "output_type": "display_data"
    },
    {
     "data": {
      "text/html": [
       " View run at <a href='https://wandb.ai/tejas591995/MLPClassification/runs/r3mvgmpo' target=\"_blank\">https://wandb.ai/tejas591995/MLPClassification/runs/r3mvgmpo</a>"
      ],
      "text/plain": [
       "<IPython.core.display.HTML object>"
      ]
     },
     "metadata": {},
     "output_type": "display_data"
    },
    {
     "name": "stdout",
     "output_type": "stream",
     "text": [
      "Initialized values successfully!\n",
      "Loaded Dataframe!\n",
      "Splitted data into train, test and val sets!\n",
      "-----------------------------------------------\n",
      "Number of Layers       :  4\n",
      "Layer sizes            :  [11, 5, 5, 6]\n",
      "Batch size             :  200\n",
      "Activation Function    :  sigmoid\n",
      "Optimization Method    :  mini-batch\n",
      "Learning Rate          :  0.001\n",
      "Num Epoches            :  100\n",
      "-----------------------------------------------\n"
     ]
    },
    {
     "data": {
      "text/html": [
       "Waiting for W&B process to finish... <strong style=\"color:green\">(success).</strong>"
      ],
      "text/plain": [
       "<IPython.core.display.HTML object>"
      ]
     },
     "metadata": {},
     "output_type": "display_data"
    },
    {
     "data": {
      "text/html": [
       "<style>\n",
       "    table.wandb td:nth-child(1) { padding: 0 10px; text-align: left ; width: auto;} td:nth-child(2) {text-align: left ; width: 100%}\n",
       "    .wandb-row { display: flex; flex-direction: row; flex-wrap: wrap; justify-content: flex-start; width: 100% }\n",
       "    .wandb-col { display: flex; flex-direction: column; flex-basis: 100%; flex: 1; padding: 10px; }\n",
       "    </style>\n",
       "<div class=\"wandb-row\"><div class=\"wandb-col\"><h3>Run history:</h3><br/><table class=\"wandb\"><tr><td>acc</td><td>▁▁▁▁▁▁▁▁▁▁▁▁▁▁▁▁▁▁▁▁▁▁▁▁▁▁▁▁▁▁▁▁▁▁▁▁▁▁▁▁</td></tr><tr><td>loss</td><td>███████████████████████▁▁▁▁▁▁▁▁▁▁▁▁▁▁▁▁▁</td></tr></table><br/></div><div class=\"wandb-col\"><h3>Run summary:</h3><br/><table class=\"wandb\"><tr><td>acc</td><td>0.006</td></tr><tr><td>loss</td><td>0.283</td></tr></table><br/></div></div>"
      ],
      "text/plain": [
       "<IPython.core.display.HTML object>"
      ]
     },
     "metadata": {},
     "output_type": "display_data"
    },
    {
     "data": {
      "text/html": [
       " View run <strong style=\"color:#cdcd00\">sweet-surf-11</strong> at: <a href='https://wandb.ai/tejas591995/MLPClassification/runs/r3mvgmpo' target=\"_blank\">https://wandb.ai/tejas591995/MLPClassification/runs/r3mvgmpo</a><br/> View job at <a href='https://wandb.ai/tejas591995/MLPClassification/jobs/QXJ0aWZhY3RDb2xsZWN0aW9uOjEwOTIxOTAwNw==/version_details/v0' target=\"_blank\">https://wandb.ai/tejas591995/MLPClassification/jobs/QXJ0aWZhY3RDb2xsZWN0aW9uOjEwOTIxOTAwNw==/version_details/v0</a><br/>Synced 6 W&B file(s), 0 media file(s), 0 artifact file(s) and 0 other file(s)"
      ],
      "text/plain": [
       "<IPython.core.display.HTML object>"
      ]
     },
     "metadata": {},
     "output_type": "display_data"
    },
    {
     "data": {
      "text/html": [
       "Find logs at: <code>./wandb/run-20231023_184929-r3mvgmpo/logs</code>"
      ],
      "text/plain": [
       "<IPython.core.display.HTML object>"
      ]
     },
     "metadata": {},
     "output_type": "display_data"
    },
    {
     "name": "stdout",
     "output_type": "stream",
     "text": [
      "11\n"
     ]
    },
    {
     "data": {
      "application/vnd.jupyter.widget-view+json": {
       "model_id": "9b757f85a7354fb8a1909af9bd3eb477",
       "version_major": 2,
       "version_minor": 0
      },
      "text/plain": [
       "VBox(children=(Label(value='Waiting for wandb.init()...\\r'), FloatProgress(value=0.011113753311130696, max=1.0…"
      ]
     },
     "metadata": {},
     "output_type": "display_data"
    },
    {
     "data": {
      "text/html": [
       "wandb version 0.15.12 is available!  To upgrade, please run:\n",
       " $ pip install wandb --upgrade"
      ],
      "text/plain": [
       "<IPython.core.display.HTML object>"
      ]
     },
     "metadata": {},
     "output_type": "display_data"
    },
    {
     "data": {
      "text/html": [
       "Tracking run with wandb version 0.15.11"
      ],
      "text/plain": [
       "<IPython.core.display.HTML object>"
      ]
     },
     "metadata": {},
     "output_type": "display_data"
    },
    {
     "data": {
      "text/html": [
       "Run data is saved locally in <code>/home/tejas/Documents/SMAI/assignment-3-MrTejas/q2/wandb/run-20231023_184944-6g5pkw6h</code>"
      ],
      "text/plain": [
       "<IPython.core.display.HTML object>"
      ]
     },
     "metadata": {},
     "output_type": "display_data"
    },
    {
     "data": {
      "text/html": [
       "Syncing run <strong><a href='https://wandb.ai/tejas591995/MLPClassification/runs/6g5pkw6h' target=\"_blank\">swept-glade-12</a></strong> to <a href='https://wandb.ai/tejas591995/MLPClassification' target=\"_blank\">Weights & Biases</a> (<a href='https://wandb.me/run' target=\"_blank\">docs</a>)<br/>"
      ],
      "text/plain": [
       "<IPython.core.display.HTML object>"
      ]
     },
     "metadata": {},
     "output_type": "display_data"
    },
    {
     "data": {
      "text/html": [
       " View project at <a href='https://wandb.ai/tejas591995/MLPClassification' target=\"_blank\">https://wandb.ai/tejas591995/MLPClassification</a>"
      ],
      "text/plain": [
       "<IPython.core.display.HTML object>"
      ]
     },
     "metadata": {},
     "output_type": "display_data"
    },
    {
     "data": {
      "text/html": [
       " View run at <a href='https://wandb.ai/tejas591995/MLPClassification/runs/6g5pkw6h' target=\"_blank\">https://wandb.ai/tejas591995/MLPClassification/runs/6g5pkw6h</a>"
      ],
      "text/plain": [
       "<IPython.core.display.HTML object>"
      ]
     },
     "metadata": {},
     "output_type": "display_data"
    },
    {
     "name": "stdout",
     "output_type": "stream",
     "text": [
      "Initialized values successfully!\n",
      "Loaded Dataframe!\n",
      "Splitted data into train, test and val sets!\n",
      "-----------------------------------------------\n",
      "Number of Layers       :  4\n",
      "Layer sizes            :  [11, 5, 5, 6]\n",
      "Batch size             :  250\n",
      "Activation Function    :  sigmoid\n",
      "Optimization Method    :  mini-batch\n",
      "Learning Rate          :  0.001\n",
      "Num Epoches            :  100\n",
      "-----------------------------------------------\n"
     ]
    },
    {
     "data": {
      "text/html": [
       "Waiting for W&B process to finish... <strong style=\"color:green\">(success).</strong>"
      ],
      "text/plain": [
       "<IPython.core.display.HTML object>"
      ]
     },
     "metadata": {},
     "output_type": "display_data"
    },
    {
     "data": {
      "text/html": [
       "<style>\n",
       "    table.wandb td:nth-child(1) { padding: 0 10px; text-align: left ; width: auto;} td:nth-child(2) {text-align: left ; width: 100%}\n",
       "    .wandb-row { display: flex; flex-direction: row; flex-wrap: wrap; justify-content: flex-start; width: 100% }\n",
       "    .wandb-col { display: flex; flex-direction: column; flex-basis: 100%; flex: 1; padding: 10px; }\n",
       "    </style>\n",
       "<div class=\"wandb-row\"><div class=\"wandb-col\"><h3>Run history:</h3><br/><table class=\"wandb\"><tr><td>acc</td><td>▁▁▁▁▂▂▂▂▃▃▃▃▃▃▃▃▃▄▄▄▅▅▅▅▆▆▆▆▆▆▇▆▇▇▇▇▇███</td></tr><tr><td>loss</td><td>▁▁▁▁▁▁▁▁▁▁▁▁▁▁▁▁▁▁▁▁▁▁▁▁▁▁▁▁▁▁▁▁▁▁▁▁▁▁▁▁</td></tr></table><br/></div><div class=\"wandb-col\"><h3>Run summary:</h3><br/><table class=\"wandb\"><tr><td>acc</td><td>0.125</td></tr><tr><td>loss</td><td>0.244</td></tr></table><br/></div></div>"
      ],
      "text/plain": [
       "<IPython.core.display.HTML object>"
      ]
     },
     "metadata": {},
     "output_type": "display_data"
    },
    {
     "data": {
      "text/html": [
       " View run <strong style=\"color:#cdcd00\">swept-glade-12</strong> at: <a href='https://wandb.ai/tejas591995/MLPClassification/runs/6g5pkw6h' target=\"_blank\">https://wandb.ai/tejas591995/MLPClassification/runs/6g5pkw6h</a><br/> View job at <a href='https://wandb.ai/tejas591995/MLPClassification/jobs/QXJ0aWZhY3RDb2xsZWN0aW9uOjEwOTIxOTAwNw==/version_details/v0' target=\"_blank\">https://wandb.ai/tejas591995/MLPClassification/jobs/QXJ0aWZhY3RDb2xsZWN0aW9uOjEwOTIxOTAwNw==/version_details/v0</a><br/>Synced 6 W&B file(s), 0 media file(s), 0 artifact file(s) and 0 other file(s)"
      ],
      "text/plain": [
       "<IPython.core.display.HTML object>"
      ]
     },
     "metadata": {},
     "output_type": "display_data"
    },
    {
     "data": {
      "text/html": [
       "Find logs at: <code>./wandb/run-20231023_184944-6g5pkw6h/logs</code>"
      ],
      "text/plain": [
       "<IPython.core.display.HTML object>"
      ]
     },
     "metadata": {},
     "output_type": "display_data"
    },
    {
     "name": "stdout",
     "output_type": "stream",
     "text": [
      "12\n"
     ]
    },
    {
     "data": {
      "application/vnd.jupyter.widget-view+json": {
       "model_id": "92ab7cf4cd82438da33dd9e3d69563a6",
       "version_major": 2,
       "version_minor": 0
      },
      "text/plain": [
       "VBox(children=(Label(value='Waiting for wandb.init()...\\r'), FloatProgress(value=0.011112643155542577, max=1.0…"
      ]
     },
     "metadata": {},
     "output_type": "display_data"
    },
    {
     "data": {
      "text/html": [
       "wandb version 0.15.12 is available!  To upgrade, please run:\n",
       " $ pip install wandb --upgrade"
      ],
      "text/plain": [
       "<IPython.core.display.HTML object>"
      ]
     },
     "metadata": {},
     "output_type": "display_data"
    },
    {
     "data": {
      "text/html": [
       "Tracking run with wandb version 0.15.11"
      ],
      "text/plain": [
       "<IPython.core.display.HTML object>"
      ]
     },
     "metadata": {},
     "output_type": "display_data"
    },
    {
     "data": {
      "text/html": [
       "Run data is saved locally in <code>/home/tejas/Documents/SMAI/assignment-3-MrTejas/q2/wandb/run-20231023_184959-i5tzy2gb</code>"
      ],
      "text/plain": [
       "<IPython.core.display.HTML object>"
      ]
     },
     "metadata": {},
     "output_type": "display_data"
    },
    {
     "data": {
      "text/html": [
       "Syncing run <strong><a href='https://wandb.ai/tejas591995/MLPClassification/runs/i5tzy2gb' target=\"_blank\">lemon-star-13</a></strong> to <a href='https://wandb.ai/tejas591995/MLPClassification' target=\"_blank\">Weights & Biases</a> (<a href='https://wandb.me/run' target=\"_blank\">docs</a>)<br/>"
      ],
      "text/plain": [
       "<IPython.core.display.HTML object>"
      ]
     },
     "metadata": {},
     "output_type": "display_data"
    },
    {
     "data": {
      "text/html": [
       " View project at <a href='https://wandb.ai/tejas591995/MLPClassification' target=\"_blank\">https://wandb.ai/tejas591995/MLPClassification</a>"
      ],
      "text/plain": [
       "<IPython.core.display.HTML object>"
      ]
     },
     "metadata": {},
     "output_type": "display_data"
    },
    {
     "data": {
      "text/html": [
       " View run at <a href='https://wandb.ai/tejas591995/MLPClassification/runs/i5tzy2gb' target=\"_blank\">https://wandb.ai/tejas591995/MLPClassification/runs/i5tzy2gb</a>"
      ],
      "text/plain": [
       "<IPython.core.display.HTML object>"
      ]
     },
     "metadata": {},
     "output_type": "display_data"
    },
    {
     "name": "stdout",
     "output_type": "stream",
     "text": [
      "Initialized values successfully!\n",
      "Loaded Dataframe!\n",
      "Splitted data into train, test and val sets!\n",
      "-----------------------------------------------\n",
      "Number of Layers       :  4\n",
      "Layer sizes            :  [11, 5, 5, 6]\n",
      "Batch size             :  100\n",
      "Activation Function    :  tanh\n",
      "Optimization Method    :  mini-batch\n",
      "Learning Rate          :  0.005\n",
      "Num Epoches            :  100\n",
      "-----------------------------------------------\n"
     ]
    },
    {
     "data": {
      "text/html": [
       "Waiting for W&B process to finish... <strong style=\"color:green\">(success).</strong>"
      ],
      "text/plain": [
       "<IPython.core.display.HTML object>"
      ]
     },
     "metadata": {},
     "output_type": "display_data"
    },
    {
     "data": {
      "text/html": [
       "<style>\n",
       "    table.wandb td:nth-child(1) { padding: 0 10px; text-align: left ; width: auto;} td:nth-child(2) {text-align: left ; width: 100%}\n",
       "    .wandb-row { display: flex; flex-direction: row; flex-wrap: wrap; justify-content: flex-start; width: 100% }\n",
       "    .wandb-col { display: flex; flex-direction: column; flex-basis: 100%; flex: 1; padding: 10px; }\n",
       "    </style>\n",
       "<div class=\"wandb-row\"><div class=\"wandb-col\"><h3>Run history:</h3><br/><table class=\"wandb\"><tr><td>acc</td><td>▃▃▅▅▅▅▆▆▆▇██▇██▇▇▇▇▇▆▆▆▅▄▄▄▃▃▃▂▂▂▂▁▁▁▁▁▁</td></tr><tr><td>loss</td><td>███▇▇▇▇▆▆▆▆▆▅▅▅▅▄▄▄▄▄▃▃▃▃▃▃▃▂▂▂▂▂▂▁▁▁▁▁▁</td></tr></table><br/></div><div class=\"wandb-col\"><h3>Run summary:</h3><br/><table class=\"wandb\"><tr><td>acc</td><td>0.417</td></tr><tr><td>loss</td><td>0.246</td></tr></table><br/></div></div>"
      ],
      "text/plain": [
       "<IPython.core.display.HTML object>"
      ]
     },
     "metadata": {},
     "output_type": "display_data"
    },
    {
     "data": {
      "text/html": [
       " View run <strong style=\"color:#cdcd00\">lemon-star-13</strong> at: <a href='https://wandb.ai/tejas591995/MLPClassification/runs/i5tzy2gb' target=\"_blank\">https://wandb.ai/tejas591995/MLPClassification/runs/i5tzy2gb</a><br/> View job at <a href='https://wandb.ai/tejas591995/MLPClassification/jobs/QXJ0aWZhY3RDb2xsZWN0aW9uOjEwOTIxOTAwNw==/version_details/v0' target=\"_blank\">https://wandb.ai/tejas591995/MLPClassification/jobs/QXJ0aWZhY3RDb2xsZWN0aW9uOjEwOTIxOTAwNw==/version_details/v0</a><br/>Synced 6 W&B file(s), 0 media file(s), 0 artifact file(s) and 0 other file(s)"
      ],
      "text/plain": [
       "<IPython.core.display.HTML object>"
      ]
     },
     "metadata": {},
     "output_type": "display_data"
    },
    {
     "data": {
      "text/html": [
       "Find logs at: <code>./wandb/run-20231023_184959-i5tzy2gb/logs</code>"
      ],
      "text/plain": [
       "<IPython.core.display.HTML object>"
      ]
     },
     "metadata": {},
     "output_type": "display_data"
    },
    {
     "name": "stdout",
     "output_type": "stream",
     "text": [
      "13\n"
     ]
    },
    {
     "data": {
      "application/vnd.jupyter.widget-view+json": {
       "model_id": "e042a3bfb35449bdb7f45498ec4820ae",
       "version_major": 2,
       "version_minor": 0
      },
      "text/plain": [
       "VBox(children=(Label(value='Waiting for wandb.init()...\\r'), FloatProgress(value=0.011113097666667373, max=1.0…"
      ]
     },
     "metadata": {},
     "output_type": "display_data"
    },
    {
     "data": {
      "text/html": [
       "wandb version 0.15.12 is available!  To upgrade, please run:\n",
       " $ pip install wandb --upgrade"
      ],
      "text/plain": [
       "<IPython.core.display.HTML object>"
      ]
     },
     "metadata": {},
     "output_type": "display_data"
    },
    {
     "data": {
      "text/html": [
       "Tracking run with wandb version 0.15.11"
      ],
      "text/plain": [
       "<IPython.core.display.HTML object>"
      ]
     },
     "metadata": {},
     "output_type": "display_data"
    },
    {
     "data": {
      "text/html": [
       "Run data is saved locally in <code>/home/tejas/Documents/SMAI/assignment-3-MrTejas/q2/wandb/run-20231023_185014-47ptluq8</code>"
      ],
      "text/plain": [
       "<IPython.core.display.HTML object>"
      ]
     },
     "metadata": {},
     "output_type": "display_data"
    },
    {
     "data": {
      "text/html": [
       "Syncing run <strong><a href='https://wandb.ai/tejas591995/MLPClassification/runs/47ptluq8' target=\"_blank\">proud-silence-14</a></strong> to <a href='https://wandb.ai/tejas591995/MLPClassification' target=\"_blank\">Weights & Biases</a> (<a href='https://wandb.me/run' target=\"_blank\">docs</a>)<br/>"
      ],
      "text/plain": [
       "<IPython.core.display.HTML object>"
      ]
     },
     "metadata": {},
     "output_type": "display_data"
    },
    {
     "data": {
      "text/html": [
       " View project at <a href='https://wandb.ai/tejas591995/MLPClassification' target=\"_blank\">https://wandb.ai/tejas591995/MLPClassification</a>"
      ],
      "text/plain": [
       "<IPython.core.display.HTML object>"
      ]
     },
     "metadata": {},
     "output_type": "display_data"
    },
    {
     "data": {
      "text/html": [
       " View run at <a href='https://wandb.ai/tejas591995/MLPClassification/runs/47ptluq8' target=\"_blank\">https://wandb.ai/tejas591995/MLPClassification/runs/47ptluq8</a>"
      ],
      "text/plain": [
       "<IPython.core.display.HTML object>"
      ]
     },
     "metadata": {},
     "output_type": "display_data"
    },
    {
     "name": "stdout",
     "output_type": "stream",
     "text": [
      "Initialized values successfully!\n",
      "Loaded Dataframe!\n",
      "Splitted data into train, test and val sets!\n",
      "-----------------------------------------------\n",
      "Number of Layers       :  4\n",
      "Layer sizes            :  [11, 5, 5, 6]\n",
      "Batch size             :  150\n",
      "Activation Function    :  tanh\n",
      "Optimization Method    :  mini-batch\n",
      "Learning Rate          :  0.005\n",
      "Num Epoches            :  100\n",
      "-----------------------------------------------\n"
     ]
    },
    {
     "data": {
      "text/html": [
       "Waiting for W&B process to finish... <strong style=\"color:green\">(success).</strong>"
      ],
      "text/plain": [
       "<IPython.core.display.HTML object>"
      ]
     },
     "metadata": {},
     "output_type": "display_data"
    },
    {
     "data": {
      "application/vnd.jupyter.widget-view+json": {
       "model_id": "bf68bac3e96e48f3851976c85e19ff48",
       "version_major": 2,
       "version_minor": 0
      },
      "text/plain": [
       "VBox(children=(Label(value='0.002 MB of 0.002 MB uploaded (0.000 MB deduped)\\r'), FloatProgress(value=1.0, max…"
      ]
     },
     "metadata": {},
     "output_type": "display_data"
    },
    {
     "data": {
      "text/html": [
       "<style>\n",
       "    table.wandb td:nth-child(1) { padding: 0 10px; text-align: left ; width: auto;} td:nth-child(2) {text-align: left ; width: 100%}\n",
       "    .wandb-row { display: flex; flex-direction: row; flex-wrap: wrap; justify-content: flex-start; width: 100% }\n",
       "    .wandb-col { display: flex; flex-direction: column; flex-basis: 100%; flex: 1; padding: 10px; }\n",
       "    </style>\n",
       "<div class=\"wandb-row\"><div class=\"wandb-col\"><h3>Run history:</h3><br/><table class=\"wandb\"><tr><td>acc</td><td>▁▂▅▆████████████████████████████████████</td></tr><tr><td>loss</td><td>███▇▇▇▇▇▇▆▆▆▆▅▅▅▅▅▄▄▄▄▄▄▄▃▃▃▃▃▂▂▂▂▂▂▂▁▁▁</td></tr></table><br/></div><div class=\"wandb-col\"><h3>Run summary:</h3><br/><table class=\"wandb\"><tr><td>acc</td><td>0.417</td></tr><tr><td>loss</td><td>0.255</td></tr></table><br/></div></div>"
      ],
      "text/plain": [
       "<IPython.core.display.HTML object>"
      ]
     },
     "metadata": {},
     "output_type": "display_data"
    },
    {
     "data": {
      "text/html": [
       " View run <strong style=\"color:#cdcd00\">proud-silence-14</strong> at: <a href='https://wandb.ai/tejas591995/MLPClassification/runs/47ptluq8' target=\"_blank\">https://wandb.ai/tejas591995/MLPClassification/runs/47ptluq8</a><br/> View job at <a href='https://wandb.ai/tejas591995/MLPClassification/jobs/QXJ0aWZhY3RDb2xsZWN0aW9uOjEwOTIxOTAwNw==/version_details/v0' target=\"_blank\">https://wandb.ai/tejas591995/MLPClassification/jobs/QXJ0aWZhY3RDb2xsZWN0aW9uOjEwOTIxOTAwNw==/version_details/v0</a><br/>Synced 6 W&B file(s), 0 media file(s), 0 artifact file(s) and 0 other file(s)"
      ],
      "text/plain": [
       "<IPython.core.display.HTML object>"
      ]
     },
     "metadata": {},
     "output_type": "display_data"
    },
    {
     "data": {
      "text/html": [
       "Find logs at: <code>./wandb/run-20231023_185014-47ptluq8/logs</code>"
      ],
      "text/plain": [
       "<IPython.core.display.HTML object>"
      ]
     },
     "metadata": {},
     "output_type": "display_data"
    },
    {
     "name": "stdout",
     "output_type": "stream",
     "text": [
      "14\n"
     ]
    },
    {
     "data": {
      "application/vnd.jupyter.widget-view+json": {
       "model_id": "23a622063f474f2890c9389b6e18f5ce",
       "version_major": 2,
       "version_minor": 0
      },
      "text/plain": [
       "VBox(children=(Label(value='Waiting for wandb.init()...\\r'), FloatProgress(value=0.01111361647777408, max=1.0)…"
      ]
     },
     "metadata": {},
     "output_type": "display_data"
    },
    {
     "data": {
      "text/html": [
       "wandb version 0.15.12 is available!  To upgrade, please run:\n",
       " $ pip install wandb --upgrade"
      ],
      "text/plain": [
       "<IPython.core.display.HTML object>"
      ]
     },
     "metadata": {},
     "output_type": "display_data"
    },
    {
     "data": {
      "text/html": [
       "Tracking run with wandb version 0.15.11"
      ],
      "text/plain": [
       "<IPython.core.display.HTML object>"
      ]
     },
     "metadata": {},
     "output_type": "display_data"
    },
    {
     "data": {
      "text/html": [
       "Run data is saved locally in <code>/home/tejas/Documents/SMAI/assignment-3-MrTejas/q2/wandb/run-20231023_185030-zfwdkf0n</code>"
      ],
      "text/plain": [
       "<IPython.core.display.HTML object>"
      ]
     },
     "metadata": {},
     "output_type": "display_data"
    },
    {
     "data": {
      "text/html": [
       "Syncing run <strong><a href='https://wandb.ai/tejas591995/MLPClassification/runs/zfwdkf0n' target=\"_blank\">fresh-bee-15</a></strong> to <a href='https://wandb.ai/tejas591995/MLPClassification' target=\"_blank\">Weights & Biases</a> (<a href='https://wandb.me/run' target=\"_blank\">docs</a>)<br/>"
      ],
      "text/plain": [
       "<IPython.core.display.HTML object>"
      ]
     },
     "metadata": {},
     "output_type": "display_data"
    },
    {
     "data": {
      "text/html": [
       " View project at <a href='https://wandb.ai/tejas591995/MLPClassification' target=\"_blank\">https://wandb.ai/tejas591995/MLPClassification</a>"
      ],
      "text/plain": [
       "<IPython.core.display.HTML object>"
      ]
     },
     "metadata": {},
     "output_type": "display_data"
    },
    {
     "data": {
      "text/html": [
       " View run at <a href='https://wandb.ai/tejas591995/MLPClassification/runs/zfwdkf0n' target=\"_blank\">https://wandb.ai/tejas591995/MLPClassification/runs/zfwdkf0n</a>"
      ],
      "text/plain": [
       "<IPython.core.display.HTML object>"
      ]
     },
     "metadata": {},
     "output_type": "display_data"
    },
    {
     "name": "stdout",
     "output_type": "stream",
     "text": [
      "Initialized values successfully!\n",
      "Loaded Dataframe!\n",
      "Splitted data into train, test and val sets!\n",
      "-----------------------------------------------\n",
      "Number of Layers       :  4\n",
      "Layer sizes            :  [11, 5, 5, 6]\n",
      "Batch size             :  200\n",
      "Activation Function    :  tanh\n",
      "Optimization Method    :  mini-batch\n",
      "Learning Rate          :  0.005\n",
      "Num Epoches            :  100\n",
      "-----------------------------------------------\n"
     ]
    },
    {
     "data": {
      "text/html": [
       "Waiting for W&B process to finish... <strong style=\"color:green\">(success).</strong>"
      ],
      "text/plain": [
       "<IPython.core.display.HTML object>"
      ]
     },
     "metadata": {},
     "output_type": "display_data"
    },
    {
     "data": {
      "text/html": [
       "<style>\n",
       "    table.wandb td:nth-child(1) { padding: 0 10px; text-align: left ; width: auto;} td:nth-child(2) {text-align: left ; width: 100%}\n",
       "    .wandb-row { display: flex; flex-direction: row; flex-wrap: wrap; justify-content: flex-start; width: 100% }\n",
       "    .wandb-col { display: flex; flex-direction: column; flex-basis: 100%; flex: 1; padding: 10px; }\n",
       "    </style>\n",
       "<div class=\"wandb-row\"><div class=\"wandb-col\"><h3>Run history:</h3><br/><table class=\"wandb\"><tr><td>acc</td><td>▁▂▃▅▅▆▇▇▇▇██████████████████████████████</td></tr><tr><td>loss</td><td>███▇▇▇▇▆▆▆▆▆▅▅▅▅▅▅▄▄▄▄▄▄▃▃▃▃▃▃▂▂▂▂▂▂▁▁▁▁</td></tr></table><br/></div><div class=\"wandb-col\"><h3>Run summary:</h3><br/><table class=\"wandb\"><tr><td>acc</td><td>0.371</td></tr><tr><td>loss</td><td>0.239</td></tr></table><br/></div></div>"
      ],
      "text/plain": [
       "<IPython.core.display.HTML object>"
      ]
     },
     "metadata": {},
     "output_type": "display_data"
    },
    {
     "data": {
      "text/html": [
       " View run <strong style=\"color:#cdcd00\">fresh-bee-15</strong> at: <a href='https://wandb.ai/tejas591995/MLPClassification/runs/zfwdkf0n' target=\"_blank\">https://wandb.ai/tejas591995/MLPClassification/runs/zfwdkf0n</a><br/> View job at <a href='https://wandb.ai/tejas591995/MLPClassification/jobs/QXJ0aWZhY3RDb2xsZWN0aW9uOjEwOTIxOTAwNw==/version_details/v0' target=\"_blank\">https://wandb.ai/tejas591995/MLPClassification/jobs/QXJ0aWZhY3RDb2xsZWN0aW9uOjEwOTIxOTAwNw==/version_details/v0</a><br/>Synced 6 W&B file(s), 0 media file(s), 0 artifact file(s) and 0 other file(s)"
      ],
      "text/plain": [
       "<IPython.core.display.HTML object>"
      ]
     },
     "metadata": {},
     "output_type": "display_data"
    },
    {
     "data": {
      "text/html": [
       "Find logs at: <code>./wandb/run-20231023_185030-zfwdkf0n/logs</code>"
      ],
      "text/plain": [
       "<IPython.core.display.HTML object>"
      ]
     },
     "metadata": {},
     "output_type": "display_data"
    },
    {
     "name": "stdout",
     "output_type": "stream",
     "text": [
      "15\n"
     ]
    },
    {
     "data": {
      "application/vnd.jupyter.widget-view+json": {
       "model_id": "2b7179a6c8d44dc18809a8644044a1f3",
       "version_major": 2,
       "version_minor": 0
      },
      "text/plain": [
       "VBox(children=(Label(value='Waiting for wandb.init()...\\r'), FloatProgress(value=0.011113985155558719, max=1.0…"
      ]
     },
     "metadata": {},
     "output_type": "display_data"
    },
    {
     "data": {
      "text/html": [
       "wandb version 0.15.12 is available!  To upgrade, please run:\n",
       " $ pip install wandb --upgrade"
      ],
      "text/plain": [
       "<IPython.core.display.HTML object>"
      ]
     },
     "metadata": {},
     "output_type": "display_data"
    },
    {
     "data": {
      "text/html": [
       "Tracking run with wandb version 0.15.11"
      ],
      "text/plain": [
       "<IPython.core.display.HTML object>"
      ]
     },
     "metadata": {},
     "output_type": "display_data"
    },
    {
     "data": {
      "text/html": [
       "Run data is saved locally in <code>/home/tejas/Documents/SMAI/assignment-3-MrTejas/q2/wandb/run-20231023_185045-jja0rxv5</code>"
      ],
      "text/plain": [
       "<IPython.core.display.HTML object>"
      ]
     },
     "metadata": {},
     "output_type": "display_data"
    },
    {
     "data": {
      "text/html": [
       "Syncing run <strong><a href='https://wandb.ai/tejas591995/MLPClassification/runs/jja0rxv5' target=\"_blank\">vibrant-durian-16</a></strong> to <a href='https://wandb.ai/tejas591995/MLPClassification' target=\"_blank\">Weights & Biases</a> (<a href='https://wandb.me/run' target=\"_blank\">docs</a>)<br/>"
      ],
      "text/plain": [
       "<IPython.core.display.HTML object>"
      ]
     },
     "metadata": {},
     "output_type": "display_data"
    },
    {
     "data": {
      "text/html": [
       " View project at <a href='https://wandb.ai/tejas591995/MLPClassification' target=\"_blank\">https://wandb.ai/tejas591995/MLPClassification</a>"
      ],
      "text/plain": [
       "<IPython.core.display.HTML object>"
      ]
     },
     "metadata": {},
     "output_type": "display_data"
    },
    {
     "data": {
      "text/html": [
       " View run at <a href='https://wandb.ai/tejas591995/MLPClassification/runs/jja0rxv5' target=\"_blank\">https://wandb.ai/tejas591995/MLPClassification/runs/jja0rxv5</a>"
      ],
      "text/plain": [
       "<IPython.core.display.HTML object>"
      ]
     },
     "metadata": {},
     "output_type": "display_data"
    },
    {
     "name": "stdout",
     "output_type": "stream",
     "text": [
      "Initialized values successfully!\n",
      "Loaded Dataframe!\n",
      "Splitted data into train, test and val sets!\n",
      "-----------------------------------------------\n",
      "Number of Layers       :  4\n",
      "Layer sizes            :  [11, 5, 5, 6]\n",
      "Batch size             :  250\n",
      "Activation Function    :  tanh\n",
      "Optimization Method    :  mini-batch\n",
      "Learning Rate          :  0.005\n",
      "Num Epoches            :  100\n",
      "-----------------------------------------------\n"
     ]
    },
    {
     "data": {
      "text/html": [
       "Waiting for W&B process to finish... <strong style=\"color:green\">(success).</strong>"
      ],
      "text/plain": [
       "<IPython.core.display.HTML object>"
      ]
     },
     "metadata": {},
     "output_type": "display_data"
    },
    {
     "data": {
      "text/html": [
       "<style>\n",
       "    table.wandb td:nth-child(1) { padding: 0 10px; text-align: left ; width: auto;} td:nth-child(2) {text-align: left ; width: 100%}\n",
       "    .wandb-row { display: flex; flex-direction: row; flex-wrap: wrap; justify-content: flex-start; width: 100% }\n",
       "    .wandb-col { display: flex; flex-direction: column; flex-basis: 100%; flex: 1; padding: 10px; }\n",
       "    </style>\n",
       "<div class=\"wandb-row\"><div class=\"wandb-col\"><h3>Run history:</h3><br/><table class=\"wandb\"><tr><td>acc</td><td>▁▁▂▂▂▃▄▄▅▅▅▆▆▆▆▆▆▇▇▇▇▇▇▇████████████████</td></tr><tr><td>loss</td><td>███▇▇▇▇▇▇▇▇▆▆▆▆▆▆▅▅▅▅▅▄▄▄▃▃▃▃▃▃▃▃▃▂▂▂▂▂▁</td></tr></table><br/></div><div class=\"wandb-col\"><h3>Run summary:</h3><br/><table class=\"wandb\"><tr><td>acc</td><td>0.347</td></tr><tr><td>loss</td><td>0.227</td></tr></table><br/></div></div>"
      ],
      "text/plain": [
       "<IPython.core.display.HTML object>"
      ]
     },
     "metadata": {},
     "output_type": "display_data"
    },
    {
     "data": {
      "text/html": [
       " View run <strong style=\"color:#cdcd00\">vibrant-durian-16</strong> at: <a href='https://wandb.ai/tejas591995/MLPClassification/runs/jja0rxv5' target=\"_blank\">https://wandb.ai/tejas591995/MLPClassification/runs/jja0rxv5</a><br/> View job at <a href='https://wandb.ai/tejas591995/MLPClassification/jobs/QXJ0aWZhY3RDb2xsZWN0aW9uOjEwOTIxOTAwNw==/version_details/v0' target=\"_blank\">https://wandb.ai/tejas591995/MLPClassification/jobs/QXJ0aWZhY3RDb2xsZWN0aW9uOjEwOTIxOTAwNw==/version_details/v0</a><br/>Synced 6 W&B file(s), 0 media file(s), 0 artifact file(s) and 0 other file(s)"
      ],
      "text/plain": [
       "<IPython.core.display.HTML object>"
      ]
     },
     "metadata": {},
     "output_type": "display_data"
    },
    {
     "data": {
      "text/html": [
       "Find logs at: <code>./wandb/run-20231023_185045-jja0rxv5/logs</code>"
      ],
      "text/plain": [
       "<IPython.core.display.HTML object>"
      ]
     },
     "metadata": {},
     "output_type": "display_data"
    },
    {
     "name": "stdout",
     "output_type": "stream",
     "text": [
      "16\n"
     ]
    },
    {
     "data": {
      "application/vnd.jupyter.widget-view+json": {
       "model_id": "8c60f7d4bc4f4750bed0f2d2cb8aef84",
       "version_major": 2,
       "version_minor": 0
      },
      "text/plain": [
       "VBox(children=(Label(value='Waiting for wandb.init()...\\r'), FloatProgress(value=0.01111437751112842, max=1.0)…"
      ]
     },
     "metadata": {},
     "output_type": "display_data"
    },
    {
     "data": {
      "text/html": [
       "wandb version 0.15.12 is available!  To upgrade, please run:\n",
       " $ pip install wandb --upgrade"
      ],
      "text/plain": [
       "<IPython.core.display.HTML object>"
      ]
     },
     "metadata": {},
     "output_type": "display_data"
    },
    {
     "data": {
      "text/html": [
       "Tracking run with wandb version 0.15.11"
      ],
      "text/plain": [
       "<IPython.core.display.HTML object>"
      ]
     },
     "metadata": {},
     "output_type": "display_data"
    },
    {
     "data": {
      "text/html": [
       "Run data is saved locally in <code>/home/tejas/Documents/SMAI/assignment-3-MrTejas/q2/wandb/run-20231023_185100-nhmsacpl</code>"
      ],
      "text/plain": [
       "<IPython.core.display.HTML object>"
      ]
     },
     "metadata": {},
     "output_type": "display_data"
    },
    {
     "data": {
      "text/html": [
       "Syncing run <strong><a href='https://wandb.ai/tejas591995/MLPClassification/runs/nhmsacpl' target=\"_blank\">honest-leaf-17</a></strong> to <a href='https://wandb.ai/tejas591995/MLPClassification' target=\"_blank\">Weights & Biases</a> (<a href='https://wandb.me/run' target=\"_blank\">docs</a>)<br/>"
      ],
      "text/plain": [
       "<IPython.core.display.HTML object>"
      ]
     },
     "metadata": {},
     "output_type": "display_data"
    },
    {
     "data": {
      "text/html": [
       " View project at <a href='https://wandb.ai/tejas591995/MLPClassification' target=\"_blank\">https://wandb.ai/tejas591995/MLPClassification</a>"
      ],
      "text/plain": [
       "<IPython.core.display.HTML object>"
      ]
     },
     "metadata": {},
     "output_type": "display_data"
    },
    {
     "data": {
      "text/html": [
       " View run at <a href='https://wandb.ai/tejas591995/MLPClassification/runs/nhmsacpl' target=\"_blank\">https://wandb.ai/tejas591995/MLPClassification/runs/nhmsacpl</a>"
      ],
      "text/plain": [
       "<IPython.core.display.HTML object>"
      ]
     },
     "metadata": {},
     "output_type": "display_data"
    },
    {
     "name": "stdout",
     "output_type": "stream",
     "text": [
      "Initialized values successfully!\n",
      "Loaded Dataframe!\n",
      "Splitted data into train, test and val sets!\n",
      "-----------------------------------------------\n",
      "Number of Layers       :  4\n",
      "Layer sizes            :  [11, 5, 5, 6]\n",
      "Batch size             :  100\n",
      "Activation Function    :  ReLU\n",
      "Optimization Method    :  mini-batch\n",
      "Learning Rate          :  0.005\n",
      "Num Epoches            :  100\n",
      "-----------------------------------------------\n"
     ]
    },
    {
     "data": {
      "text/html": [
       "Waiting for W&B process to finish... <strong style=\"color:green\">(success).</strong>"
      ],
      "text/plain": [
       "<IPython.core.display.HTML object>"
      ]
     },
     "metadata": {},
     "output_type": "display_data"
    },
    {
     "data": {
      "text/html": [
       "<style>\n",
       "    table.wandb td:nth-child(1) { padding: 0 10px; text-align: left ; width: auto;} td:nth-child(2) {text-align: left ; width: 100%}\n",
       "    .wandb-row { display: flex; flex-direction: row; flex-wrap: wrap; justify-content: flex-start; width: 100% }\n",
       "    .wandb-col { display: flex; flex-direction: column; flex-basis: 100%; flex: 1; padding: 10px; }\n",
       "    </style>\n",
       "<div class=\"wandb-row\"><div class=\"wandb-col\"><h3>Run history:</h3><br/><table class=\"wandb\"><tr><td>acc</td><td>▁▂▅▆▆▆▆▆▆▆▇▇▇▇▇▇▇▇▇▇████████████████████</td></tr><tr><td>loss</td><td>█▇▆▅▅▄▄▄▃▃▃▃▃▃▂▂▂▂▂▂▂▂▂▂▂▁▁▁▁▁▁▁▁▁▁▁▁▁▁▁</td></tr></table><br/></div><div class=\"wandb-col\"><h3>Run summary:</h3><br/><table class=\"wandb\"><tr><td>acc</td><td>0.524</td></tr><tr><td>loss</td><td>0.21</td></tr></table><br/></div></div>"
      ],
      "text/plain": [
       "<IPython.core.display.HTML object>"
      ]
     },
     "metadata": {},
     "output_type": "display_data"
    },
    {
     "data": {
      "text/html": [
       " View run <strong style=\"color:#cdcd00\">honest-leaf-17</strong> at: <a href='https://wandb.ai/tejas591995/MLPClassification/runs/nhmsacpl' target=\"_blank\">https://wandb.ai/tejas591995/MLPClassification/runs/nhmsacpl</a><br/> View job at <a href='https://wandb.ai/tejas591995/MLPClassification/jobs/QXJ0aWZhY3RDb2xsZWN0aW9uOjEwOTIxOTAwNw==/version_details/v0' target=\"_blank\">https://wandb.ai/tejas591995/MLPClassification/jobs/QXJ0aWZhY3RDb2xsZWN0aW9uOjEwOTIxOTAwNw==/version_details/v0</a><br/>Synced 6 W&B file(s), 0 media file(s), 0 artifact file(s) and 0 other file(s)"
      ],
      "text/plain": [
       "<IPython.core.display.HTML object>"
      ]
     },
     "metadata": {},
     "output_type": "display_data"
    },
    {
     "data": {
      "text/html": [
       "Find logs at: <code>./wandb/run-20231023_185100-nhmsacpl/logs</code>"
      ],
      "text/plain": [
       "<IPython.core.display.HTML object>"
      ]
     },
     "metadata": {},
     "output_type": "display_data"
    },
    {
     "name": "stdout",
     "output_type": "stream",
     "text": [
      "17\n"
     ]
    },
    {
     "data": {
      "application/vnd.jupyter.widget-view+json": {
       "model_id": "30cb8a4dd8cf4df0a7969e6ac0c99bec",
       "version_major": 2,
       "version_minor": 0
      },
      "text/plain": [
       "VBox(children=(Label(value='Waiting for wandb.init()...\\r'), FloatProgress(value=0.011112715522217008, max=1.0…"
      ]
     },
     "metadata": {},
     "output_type": "display_data"
    },
    {
     "data": {
      "text/html": [
       "wandb version 0.15.12 is available!  To upgrade, please run:\n",
       " $ pip install wandb --upgrade"
      ],
      "text/plain": [
       "<IPython.core.display.HTML object>"
      ]
     },
     "metadata": {},
     "output_type": "display_data"
    },
    {
     "data": {
      "text/html": [
       "Tracking run with wandb version 0.15.11"
      ],
      "text/plain": [
       "<IPython.core.display.HTML object>"
      ]
     },
     "metadata": {},
     "output_type": "display_data"
    },
    {
     "data": {
      "text/html": [
       "Run data is saved locally in <code>/home/tejas/Documents/SMAI/assignment-3-MrTejas/q2/wandb/run-20231023_185114-x03p66te</code>"
      ],
      "text/plain": [
       "<IPython.core.display.HTML object>"
      ]
     },
     "metadata": {},
     "output_type": "display_data"
    },
    {
     "data": {
      "text/html": [
       "Syncing run <strong><a href='https://wandb.ai/tejas591995/MLPClassification/runs/x03p66te' target=\"_blank\">icy-microwave-18</a></strong> to <a href='https://wandb.ai/tejas591995/MLPClassification' target=\"_blank\">Weights & Biases</a> (<a href='https://wandb.me/run' target=\"_blank\">docs</a>)<br/>"
      ],
      "text/plain": [
       "<IPython.core.display.HTML object>"
      ]
     },
     "metadata": {},
     "output_type": "display_data"
    },
    {
     "data": {
      "text/html": [
       " View project at <a href='https://wandb.ai/tejas591995/MLPClassification' target=\"_blank\">https://wandb.ai/tejas591995/MLPClassification</a>"
      ],
      "text/plain": [
       "<IPython.core.display.HTML object>"
      ]
     },
     "metadata": {},
     "output_type": "display_data"
    },
    {
     "data": {
      "text/html": [
       " View run at <a href='https://wandb.ai/tejas591995/MLPClassification/runs/x03p66te' target=\"_blank\">https://wandb.ai/tejas591995/MLPClassification/runs/x03p66te</a>"
      ],
      "text/plain": [
       "<IPython.core.display.HTML object>"
      ]
     },
     "metadata": {},
     "output_type": "display_data"
    },
    {
     "name": "stdout",
     "output_type": "stream",
     "text": [
      "Initialized values successfully!\n",
      "Loaded Dataframe!\n",
      "Splitted data into train, test and val sets!\n",
      "-----------------------------------------------\n",
      "Number of Layers       :  4\n",
      "Layer sizes            :  [11, 5, 5, 6]\n",
      "Batch size             :  150\n",
      "Activation Function    :  ReLU\n",
      "Optimization Method    :  mini-batch\n",
      "Learning Rate          :  0.005\n",
      "Num Epoches            :  100\n",
      "-----------------------------------------------\n"
     ]
    },
    {
     "data": {
      "text/html": [
       "Waiting for W&B process to finish... <strong style=\"color:green\">(success).</strong>"
      ],
      "text/plain": [
       "<IPython.core.display.HTML object>"
      ]
     },
     "metadata": {},
     "output_type": "display_data"
    },
    {
     "data": {
      "text/html": [
       "<style>\n",
       "    table.wandb td:nth-child(1) { padding: 0 10px; text-align: left ; width: auto;} td:nth-child(2) {text-align: left ; width: 100%}\n",
       "    .wandb-row { display: flex; flex-direction: row; flex-wrap: wrap; justify-content: flex-start; width: 100% }\n",
       "    .wandb-col { display: flex; flex-direction: column; flex-basis: 100%; flex: 1; padding: 10px; }\n",
       "    </style>\n",
       "<div class=\"wandb-row\"><div class=\"wandb-col\"><h3>Run history:</h3><br/><table class=\"wandb\"><tr><td>acc</td><td>▂▂▂▁▁▁▁▁▁▁▁▂▂▂▂▃▃▃▃▃▄▃▄▄▄▄▄▄▆▆▆▆▆▇▇▇████</td></tr><tr><td>loss</td><td>█▇▆▆▆▅▅▅▅▅▅▄▄▄▄▄▄▄▃▃▃▃▃▃▂▂▂▂▂▂▂▂▁▁▁▁▁▁▁▁</td></tr></table><br/></div><div class=\"wandb-col\"><h3>Run summary:</h3><br/><table class=\"wandb\"><tr><td>acc</td><td>0.472</td></tr><tr><td>loss</td><td>0.21</td></tr></table><br/></div></div>"
      ],
      "text/plain": [
       "<IPython.core.display.HTML object>"
      ]
     },
     "metadata": {},
     "output_type": "display_data"
    },
    {
     "data": {
      "text/html": [
       " View run <strong style=\"color:#cdcd00\">icy-microwave-18</strong> at: <a href='https://wandb.ai/tejas591995/MLPClassification/runs/x03p66te' target=\"_blank\">https://wandb.ai/tejas591995/MLPClassification/runs/x03p66te</a><br/> View job at <a href='https://wandb.ai/tejas591995/MLPClassification/jobs/QXJ0aWZhY3RDb2xsZWN0aW9uOjEwOTIxOTAwNw==/version_details/v0' target=\"_blank\">https://wandb.ai/tejas591995/MLPClassification/jobs/QXJ0aWZhY3RDb2xsZWN0aW9uOjEwOTIxOTAwNw==/version_details/v0</a><br/>Synced 6 W&B file(s), 0 media file(s), 0 artifact file(s) and 0 other file(s)"
      ],
      "text/plain": [
       "<IPython.core.display.HTML object>"
      ]
     },
     "metadata": {},
     "output_type": "display_data"
    },
    {
     "data": {
      "text/html": [
       "Find logs at: <code>./wandb/run-20231023_185114-x03p66te/logs</code>"
      ],
      "text/plain": [
       "<IPython.core.display.HTML object>"
      ]
     },
     "metadata": {},
     "output_type": "display_data"
    },
    {
     "name": "stdout",
     "output_type": "stream",
     "text": [
      "18\n"
     ]
    },
    {
     "data": {
      "application/vnd.jupyter.widget-view+json": {
       "model_id": "697b29718eb147838b681ae63ea54967",
       "version_major": 2,
       "version_minor": 0
      },
      "text/plain": [
       "VBox(children=(Label(value='Waiting for wandb.init()...\\r'), FloatProgress(value=0.011112785355564685, max=1.0…"
      ]
     },
     "metadata": {},
     "output_type": "display_data"
    },
    {
     "data": {
      "text/html": [
       "wandb version 0.15.12 is available!  To upgrade, please run:\n",
       " $ pip install wandb --upgrade"
      ],
      "text/plain": [
       "<IPython.core.display.HTML object>"
      ]
     },
     "metadata": {},
     "output_type": "display_data"
    },
    {
     "data": {
      "text/html": [
       "Tracking run with wandb version 0.15.11"
      ],
      "text/plain": [
       "<IPython.core.display.HTML object>"
      ]
     },
     "metadata": {},
     "output_type": "display_data"
    },
    {
     "data": {
      "text/html": [
       "Run data is saved locally in <code>/home/tejas/Documents/SMAI/assignment-3-MrTejas/q2/wandb/run-20231023_185130-nc683wt5</code>"
      ],
      "text/plain": [
       "<IPython.core.display.HTML object>"
      ]
     },
     "metadata": {},
     "output_type": "display_data"
    },
    {
     "data": {
      "text/html": [
       "Syncing run <strong><a href='https://wandb.ai/tejas591995/MLPClassification/runs/nc683wt5' target=\"_blank\">snowy-dragon-19</a></strong> to <a href='https://wandb.ai/tejas591995/MLPClassification' target=\"_blank\">Weights & Biases</a> (<a href='https://wandb.me/run' target=\"_blank\">docs</a>)<br/>"
      ],
      "text/plain": [
       "<IPython.core.display.HTML object>"
      ]
     },
     "metadata": {},
     "output_type": "display_data"
    },
    {
     "data": {
      "text/html": [
       " View project at <a href='https://wandb.ai/tejas591995/MLPClassification' target=\"_blank\">https://wandb.ai/tejas591995/MLPClassification</a>"
      ],
      "text/plain": [
       "<IPython.core.display.HTML object>"
      ]
     },
     "metadata": {},
     "output_type": "display_data"
    },
    {
     "data": {
      "text/html": [
       " View run at <a href='https://wandb.ai/tejas591995/MLPClassification/runs/nc683wt5' target=\"_blank\">https://wandb.ai/tejas591995/MLPClassification/runs/nc683wt5</a>"
      ],
      "text/plain": [
       "<IPython.core.display.HTML object>"
      ]
     },
     "metadata": {},
     "output_type": "display_data"
    },
    {
     "name": "stdout",
     "output_type": "stream",
     "text": [
      "Initialized values successfully!\n",
      "Loaded Dataframe!\n",
      "Splitted data into train, test and val sets!\n",
      "-----------------------------------------------\n",
      "Number of Layers       :  4\n",
      "Layer sizes            :  [11, 5, 5, 6]\n",
      "Batch size             :  200\n",
      "Activation Function    :  ReLU\n",
      "Optimization Method    :  mini-batch\n",
      "Learning Rate          :  0.005\n",
      "Num Epoches            :  100\n",
      "-----------------------------------------------\n"
     ]
    },
    {
     "data": {
      "text/html": [
       "Waiting for W&B process to finish... <strong style=\"color:green\">(success).</strong>"
      ],
      "text/plain": [
       "<IPython.core.display.HTML object>"
      ]
     },
     "metadata": {},
     "output_type": "display_data"
    },
    {
     "data": {
      "text/html": [
       "<style>\n",
       "    table.wandb td:nth-child(1) { padding: 0 10px; text-align: left ; width: auto;} td:nth-child(2) {text-align: left ; width: 100%}\n",
       "    .wandb-row { display: flex; flex-direction: row; flex-wrap: wrap; justify-content: flex-start; width: 100% }\n",
       "    .wandb-col { display: flex; flex-direction: column; flex-basis: 100%; flex: 1; padding: 10px; }\n",
       "    </style>\n",
       "<div class=\"wandb-row\"><div class=\"wandb-col\"><h3>Run history:</h3><br/><table class=\"wandb\"><tr><td>acc</td><td>▁▁▁▁▁▁▁▂▂▂▂▂▂▃▃▅▆▆▆▆▇▇▇▇▇▇▇▇▇▇▇▇▇▇▇▇▇███</td></tr><tr><td>loss</td><td>██▇▇▇▆▆▆▆▆▅▅▅▅▅▅▅▄▄▄▄▄▄▄▃▃▃▃▃▃▂▂▂▂▂▂▁▁▁▁</td></tr></table><br/></div><div class=\"wandb-col\"><h3>Run summary:</h3><br/><table class=\"wandb\"><tr><td>acc</td><td>0.41</td></tr><tr><td>loss</td><td>0.212</td></tr></table><br/></div></div>"
      ],
      "text/plain": [
       "<IPython.core.display.HTML object>"
      ]
     },
     "metadata": {},
     "output_type": "display_data"
    },
    {
     "data": {
      "text/html": [
       " View run <strong style=\"color:#cdcd00\">snowy-dragon-19</strong> at: <a href='https://wandb.ai/tejas591995/MLPClassification/runs/nc683wt5' target=\"_blank\">https://wandb.ai/tejas591995/MLPClassification/runs/nc683wt5</a><br/> View job at <a href='https://wandb.ai/tejas591995/MLPClassification/jobs/QXJ0aWZhY3RDb2xsZWN0aW9uOjEwOTIxOTAwNw==/version_details/v0' target=\"_blank\">https://wandb.ai/tejas591995/MLPClassification/jobs/QXJ0aWZhY3RDb2xsZWN0aW9uOjEwOTIxOTAwNw==/version_details/v0</a><br/>Synced 6 W&B file(s), 0 media file(s), 0 artifact file(s) and 0 other file(s)"
      ],
      "text/plain": [
       "<IPython.core.display.HTML object>"
      ]
     },
     "metadata": {},
     "output_type": "display_data"
    },
    {
     "data": {
      "text/html": [
       "Find logs at: <code>./wandb/run-20231023_185130-nc683wt5/logs</code>"
      ],
      "text/plain": [
       "<IPython.core.display.HTML object>"
      ]
     },
     "metadata": {},
     "output_type": "display_data"
    },
    {
     "name": "stdout",
     "output_type": "stream",
     "text": [
      "19\n"
     ]
    },
    {
     "data": {
      "application/vnd.jupyter.widget-view+json": {
       "model_id": "0ee097f450934d1ca324c7638947141a",
       "version_major": 2,
       "version_minor": 0
      },
      "text/plain": [
       "VBox(children=(Label(value='Waiting for wandb.init()...\\r'), FloatProgress(value=0.011112847100028174, max=1.0…"
      ]
     },
     "metadata": {},
     "output_type": "display_data"
    },
    {
     "data": {
      "text/html": [
       "wandb version 0.15.12 is available!  To upgrade, please run:\n",
       " $ pip install wandb --upgrade"
      ],
      "text/plain": [
       "<IPython.core.display.HTML object>"
      ]
     },
     "metadata": {},
     "output_type": "display_data"
    },
    {
     "data": {
      "text/html": [
       "Tracking run with wandb version 0.15.11"
      ],
      "text/plain": [
       "<IPython.core.display.HTML object>"
      ]
     },
     "metadata": {},
     "output_type": "display_data"
    },
    {
     "data": {
      "text/html": [
       "Run data is saved locally in <code>/home/tejas/Documents/SMAI/assignment-3-MrTejas/q2/wandb/run-20231023_185144-nqn51k35</code>"
      ],
      "text/plain": [
       "<IPython.core.display.HTML object>"
      ]
     },
     "metadata": {},
     "output_type": "display_data"
    },
    {
     "data": {
      "text/html": [
       "Syncing run <strong><a href='https://wandb.ai/tejas591995/MLPClassification/runs/nqn51k35' target=\"_blank\">kind-bush-20</a></strong> to <a href='https://wandb.ai/tejas591995/MLPClassification' target=\"_blank\">Weights & Biases</a> (<a href='https://wandb.me/run' target=\"_blank\">docs</a>)<br/>"
      ],
      "text/plain": [
       "<IPython.core.display.HTML object>"
      ]
     },
     "metadata": {},
     "output_type": "display_data"
    },
    {
     "data": {
      "text/html": [
       " View project at <a href='https://wandb.ai/tejas591995/MLPClassification' target=\"_blank\">https://wandb.ai/tejas591995/MLPClassification</a>"
      ],
      "text/plain": [
       "<IPython.core.display.HTML object>"
      ]
     },
     "metadata": {},
     "output_type": "display_data"
    },
    {
     "data": {
      "text/html": [
       " View run at <a href='https://wandb.ai/tejas591995/MLPClassification/runs/nqn51k35' target=\"_blank\">https://wandb.ai/tejas591995/MLPClassification/runs/nqn51k35</a>"
      ],
      "text/plain": [
       "<IPython.core.display.HTML object>"
      ]
     },
     "metadata": {},
     "output_type": "display_data"
    },
    {
     "name": "stdout",
     "output_type": "stream",
     "text": [
      "Initialized values successfully!\n",
      "Loaded Dataframe!\n",
      "Splitted data into train, test and val sets!\n",
      "-----------------------------------------------\n",
      "Number of Layers       :  4\n",
      "Layer sizes            :  [11, 5, 5, 6]\n",
      "Batch size             :  250\n",
      "Activation Function    :  ReLU\n",
      "Optimization Method    :  mini-batch\n",
      "Learning Rate          :  0.005\n",
      "Num Epoches            :  100\n",
      "-----------------------------------------------\n"
     ]
    },
    {
     "data": {
      "text/html": [
       "Waiting for W&B process to finish... <strong style=\"color:green\">(success).</strong>"
      ],
      "text/plain": [
       "<IPython.core.display.HTML object>"
      ]
     },
     "metadata": {},
     "output_type": "display_data"
    },
    {
     "data": {
      "text/html": [
       "<style>\n",
       "    table.wandb td:nth-child(1) { padding: 0 10px; text-align: left ; width: auto;} td:nth-child(2) {text-align: left ; width: 100%}\n",
       "    .wandb-row { display: flex; flex-direction: row; flex-wrap: wrap; justify-content: flex-start; width: 100% }\n",
       "    .wandb-col { display: flex; flex-direction: column; flex-basis: 100%; flex: 1; padding: 10px; }\n",
       "    </style>\n",
       "<div class=\"wandb-row\"><div class=\"wandb-col\"><h3>Run history:</h3><br/><table class=\"wandb\"><tr><td>acc</td><td>▁▁▁▁▁▁▂▂▂▂▂▂▃▃▃▄▄▄▄▅▅▅▅▅▆▆▆▆▆▆▆▆▆▇▇▇████</td></tr><tr><td>loss</td><td>█▇▆▆▅▅▄▄▄▄▃▃▃▃▃▃▂▂▂▂▂▂▂▂▂▂▂▂▂▂▂▂▁▁▁▁▁▁▁▁</td></tr></table><br/></div><div class=\"wandb-col\"><h3>Run summary:</h3><br/><table class=\"wandb\"><tr><td>acc</td><td>0.312</td></tr><tr><td>loss</td><td>0.221</td></tr></table><br/></div></div>"
      ],
      "text/plain": [
       "<IPython.core.display.HTML object>"
      ]
     },
     "metadata": {},
     "output_type": "display_data"
    },
    {
     "data": {
      "text/html": [
       " View run <strong style=\"color:#cdcd00\">kind-bush-20</strong> at: <a href='https://wandb.ai/tejas591995/MLPClassification/runs/nqn51k35' target=\"_blank\">https://wandb.ai/tejas591995/MLPClassification/runs/nqn51k35</a><br/> View job at <a href='https://wandb.ai/tejas591995/MLPClassification/jobs/QXJ0aWZhY3RDb2xsZWN0aW9uOjEwOTIxOTAwNw==/version_details/v0' target=\"_blank\">https://wandb.ai/tejas591995/MLPClassification/jobs/QXJ0aWZhY3RDb2xsZWN0aW9uOjEwOTIxOTAwNw==/version_details/v0</a><br/>Synced 6 W&B file(s), 0 media file(s), 0 artifact file(s) and 0 other file(s)"
      ],
      "text/plain": [
       "<IPython.core.display.HTML object>"
      ]
     },
     "metadata": {},
     "output_type": "display_data"
    },
    {
     "data": {
      "text/html": [
       "Find logs at: <code>./wandb/run-20231023_185144-nqn51k35/logs</code>"
      ],
      "text/plain": [
       "<IPython.core.display.HTML object>"
      ]
     },
     "metadata": {},
     "output_type": "display_data"
    },
    {
     "name": "stdout",
     "output_type": "stream",
     "text": [
      "20\n"
     ]
    },
    {
     "data": {
      "application/vnd.jupyter.widget-view+json": {
       "model_id": "5e56d90c9a2b4629a34d0c122c253c3d",
       "version_major": 2,
       "version_minor": 0
      },
      "text/plain": [
       "VBox(children=(Label(value='Waiting for wandb.init()...\\r'), FloatProgress(value=0.011114177488909464, max=1.0…"
      ]
     },
     "metadata": {},
     "output_type": "display_data"
    },
    {
     "data": {
      "text/html": [
       "wandb version 0.15.12 is available!  To upgrade, please run:\n",
       " $ pip install wandb --upgrade"
      ],
      "text/plain": [
       "<IPython.core.display.HTML object>"
      ]
     },
     "metadata": {},
     "output_type": "display_data"
    },
    {
     "data": {
      "text/html": [
       "Tracking run with wandb version 0.15.11"
      ],
      "text/plain": [
       "<IPython.core.display.HTML object>"
      ]
     },
     "metadata": {},
     "output_type": "display_data"
    },
    {
     "data": {
      "text/html": [
       "Run data is saved locally in <code>/home/tejas/Documents/SMAI/assignment-3-MrTejas/q2/wandb/run-20231023_185159-yr51v4vl</code>"
      ],
      "text/plain": [
       "<IPython.core.display.HTML object>"
      ]
     },
     "metadata": {},
     "output_type": "display_data"
    },
    {
     "data": {
      "text/html": [
       "Syncing run <strong><a href='https://wandb.ai/tejas591995/MLPClassification/runs/yr51v4vl' target=\"_blank\">treasured-yogurt-21</a></strong> to <a href='https://wandb.ai/tejas591995/MLPClassification' target=\"_blank\">Weights & Biases</a> (<a href='https://wandb.me/run' target=\"_blank\">docs</a>)<br/>"
      ],
      "text/plain": [
       "<IPython.core.display.HTML object>"
      ]
     },
     "metadata": {},
     "output_type": "display_data"
    },
    {
     "data": {
      "text/html": [
       " View project at <a href='https://wandb.ai/tejas591995/MLPClassification' target=\"_blank\">https://wandb.ai/tejas591995/MLPClassification</a>"
      ],
      "text/plain": [
       "<IPython.core.display.HTML object>"
      ]
     },
     "metadata": {},
     "output_type": "display_data"
    },
    {
     "data": {
      "text/html": [
       " View run at <a href='https://wandb.ai/tejas591995/MLPClassification/runs/yr51v4vl' target=\"_blank\">https://wandb.ai/tejas591995/MLPClassification/runs/yr51v4vl</a>"
      ],
      "text/plain": [
       "<IPython.core.display.HTML object>"
      ]
     },
     "metadata": {},
     "output_type": "display_data"
    },
    {
     "name": "stdout",
     "output_type": "stream",
     "text": [
      "Initialized values successfully!\n",
      "Loaded Dataframe!\n",
      "Splitted data into train, test and val sets!\n",
      "-----------------------------------------------\n",
      "Number of Layers       :  4\n",
      "Layer sizes            :  [11, 5, 5, 6]\n",
      "Batch size             :  100\n",
      "Activation Function    :  sigmoid\n",
      "Optimization Method    :  mini-batch\n",
      "Learning Rate          :  0.005\n",
      "Num Epoches            :  100\n",
      "-----------------------------------------------\n"
     ]
    },
    {
     "data": {
      "text/html": [
       "Waiting for W&B process to finish... <strong style=\"color:green\">(success).</strong>"
      ],
      "text/plain": [
       "<IPython.core.display.HTML object>"
      ]
     },
     "metadata": {},
     "output_type": "display_data"
    },
    {
     "data": {
      "text/html": [
       "<style>\n",
       "    table.wandb td:nth-child(1) { padding: 0 10px; text-align: left ; width: auto;} td:nth-child(2) {text-align: left ; width: 100%}\n",
       "    .wandb-row { display: flex; flex-direction: row; flex-wrap: wrap; justify-content: flex-start; width: 100% }\n",
       "    .wandb-col { display: flex; flex-direction: column; flex-basis: 100%; flex: 1; padding: 10px; }\n",
       "    </style>\n",
       "<div class=\"wandb-row\"><div class=\"wandb-col\"><h3>Run history:</h3><br/><table class=\"wandb\"><tr><td>acc</td><td>▁▂▂▃▄▄▅▅▆▆▆▇▇▇██████████████████████████</td></tr><tr><td>loss</td><td>█▇▇▇▇▇▇▇▇▆▆▆▅▅▅▅▅▅▅▅▄▄▄▄▃▃▃▃▂▂▂▂▂▂▂▂▁▁▁▁</td></tr></table><br/></div><div class=\"wandb-col\"><h3>Run summary:</h3><br/><table class=\"wandb\"><tr><td>acc</td><td>0.391</td></tr><tr><td>loss</td><td>0.277</td></tr></table><br/></div></div>"
      ],
      "text/plain": [
       "<IPython.core.display.HTML object>"
      ]
     },
     "metadata": {},
     "output_type": "display_data"
    },
    {
     "data": {
      "text/html": [
       " View run <strong style=\"color:#cdcd00\">treasured-yogurt-21</strong> at: <a href='https://wandb.ai/tejas591995/MLPClassification/runs/yr51v4vl' target=\"_blank\">https://wandb.ai/tejas591995/MLPClassification/runs/yr51v4vl</a><br/> View job at <a href='https://wandb.ai/tejas591995/MLPClassification/jobs/QXJ0aWZhY3RDb2xsZWN0aW9uOjEwOTIxOTAwNw==/version_details/v0' target=\"_blank\">https://wandb.ai/tejas591995/MLPClassification/jobs/QXJ0aWZhY3RDb2xsZWN0aW9uOjEwOTIxOTAwNw==/version_details/v0</a><br/>Synced 6 W&B file(s), 0 media file(s), 0 artifact file(s) and 0 other file(s)"
      ],
      "text/plain": [
       "<IPython.core.display.HTML object>"
      ]
     },
     "metadata": {},
     "output_type": "display_data"
    },
    {
     "data": {
      "text/html": [
       "Find logs at: <code>./wandb/run-20231023_185159-yr51v4vl/logs</code>"
      ],
      "text/plain": [
       "<IPython.core.display.HTML object>"
      ]
     },
     "metadata": {},
     "output_type": "display_data"
    },
    {
     "name": "stdout",
     "output_type": "stream",
     "text": [
      "21\n"
     ]
    },
    {
     "data": {
      "application/vnd.jupyter.widget-view+json": {
       "model_id": "91865978db2c4995be6873cbc6c79449",
       "version_major": 2,
       "version_minor": 0
      },
      "text/plain": [
       "VBox(children=(Label(value='Waiting for wandb.init()...\\r'), FloatProgress(value=0.011114244277753945, max=1.0…"
      ]
     },
     "metadata": {},
     "output_type": "display_data"
    },
    {
     "data": {
      "text/html": [
       "wandb version 0.15.12 is available!  To upgrade, please run:\n",
       " $ pip install wandb --upgrade"
      ],
      "text/plain": [
       "<IPython.core.display.HTML object>"
      ]
     },
     "metadata": {},
     "output_type": "display_data"
    },
    {
     "data": {
      "text/html": [
       "Tracking run with wandb version 0.15.11"
      ],
      "text/plain": [
       "<IPython.core.display.HTML object>"
      ]
     },
     "metadata": {},
     "output_type": "display_data"
    },
    {
     "data": {
      "text/html": [
       "Run data is saved locally in <code>/home/tejas/Documents/SMAI/assignment-3-MrTejas/q2/wandb/run-20231023_185214-yna7u6kf</code>"
      ],
      "text/plain": [
       "<IPython.core.display.HTML object>"
      ]
     },
     "metadata": {},
     "output_type": "display_data"
    },
    {
     "data": {
      "text/html": [
       "Syncing run <strong><a href='https://wandb.ai/tejas591995/MLPClassification/runs/yna7u6kf' target=\"_blank\">quiet-dust-22</a></strong> to <a href='https://wandb.ai/tejas591995/MLPClassification' target=\"_blank\">Weights & Biases</a> (<a href='https://wandb.me/run' target=\"_blank\">docs</a>)<br/>"
      ],
      "text/plain": [
       "<IPython.core.display.HTML object>"
      ]
     },
     "metadata": {},
     "output_type": "display_data"
    },
    {
     "data": {
      "text/html": [
       " View project at <a href='https://wandb.ai/tejas591995/MLPClassification' target=\"_blank\">https://wandb.ai/tejas591995/MLPClassification</a>"
      ],
      "text/plain": [
       "<IPython.core.display.HTML object>"
      ]
     },
     "metadata": {},
     "output_type": "display_data"
    },
    {
     "data": {
      "text/html": [
       " View run at <a href='https://wandb.ai/tejas591995/MLPClassification/runs/yna7u6kf' target=\"_blank\">https://wandb.ai/tejas591995/MLPClassification/runs/yna7u6kf</a>"
      ],
      "text/plain": [
       "<IPython.core.display.HTML object>"
      ]
     },
     "metadata": {},
     "output_type": "display_data"
    },
    {
     "name": "stdout",
     "output_type": "stream",
     "text": [
      "Initialized values successfully!\n",
      "Loaded Dataframe!\n",
      "Splitted data into train, test and val sets!\n",
      "-----------------------------------------------\n",
      "Number of Layers       :  4\n",
      "Layer sizes            :  [11, 5, 5, 6]\n",
      "Batch size             :  150\n",
      "Activation Function    :  sigmoid\n",
      "Optimization Method    :  mini-batch\n",
      "Learning Rate          :  0.005\n",
      "Num Epoches            :  100\n",
      "-----------------------------------------------\n"
     ]
    },
    {
     "data": {
      "text/html": [
       "Waiting for W&B process to finish... <strong style=\"color:green\">(success).</strong>"
      ],
      "text/plain": [
       "<IPython.core.display.HTML object>"
      ]
     },
     "metadata": {},
     "output_type": "display_data"
    },
    {
     "data": {
      "text/html": [
       "<style>\n",
       "    table.wandb td:nth-child(1) { padding: 0 10px; text-align: left ; width: auto;} td:nth-child(2) {text-align: left ; width: 100%}\n",
       "    .wandb-row { display: flex; flex-direction: row; flex-wrap: wrap; justify-content: flex-start; width: 100% }\n",
       "    .wandb-col { display: flex; flex-direction: column; flex-basis: 100%; flex: 1; padding: 10px; }\n",
       "    </style>\n",
       "<div class=\"wandb-row\"><div class=\"wandb-col\"><h3>Run history:</h3><br/><table class=\"wandb\"><tr><td>acc</td><td>▁▁▃▃▃▃▃▃▃▃▃▃▅▅▅▅▅▅▅▅▅▅▆▆████████████████</td></tr><tr><td>loss</td><td>█▇▇▇▇▇▆▆▆▆▆▆▅▅▅▅▅▄▄▄▄▄▄▄▄▄▄▄▃▃▃▃▃▃▂▂▂▂▂▁</td></tr></table><br/></div><div class=\"wandb-col\"><h3>Run summary:</h3><br/><table class=\"wandb\"><tr><td>acc</td><td>0.391</td></tr><tr><td>loss</td><td>0.286</td></tr></table><br/></div></div>"
      ],
      "text/plain": [
       "<IPython.core.display.HTML object>"
      ]
     },
     "metadata": {},
     "output_type": "display_data"
    },
    {
     "data": {
      "text/html": [
       " View run <strong style=\"color:#cdcd00\">quiet-dust-22</strong> at: <a href='https://wandb.ai/tejas591995/MLPClassification/runs/yna7u6kf' target=\"_blank\">https://wandb.ai/tejas591995/MLPClassification/runs/yna7u6kf</a><br/> View job at <a href='https://wandb.ai/tejas591995/MLPClassification/jobs/QXJ0aWZhY3RDb2xsZWN0aW9uOjEwOTIxOTAwNw==/version_details/v0' target=\"_blank\">https://wandb.ai/tejas591995/MLPClassification/jobs/QXJ0aWZhY3RDb2xsZWN0aW9uOjEwOTIxOTAwNw==/version_details/v0</a><br/>Synced 6 W&B file(s), 0 media file(s), 0 artifact file(s) and 0 other file(s)"
      ],
      "text/plain": [
       "<IPython.core.display.HTML object>"
      ]
     },
     "metadata": {},
     "output_type": "display_data"
    },
    {
     "data": {
      "text/html": [
       "Find logs at: <code>./wandb/run-20231023_185214-yna7u6kf/logs</code>"
      ],
      "text/plain": [
       "<IPython.core.display.HTML object>"
      ]
     },
     "metadata": {},
     "output_type": "display_data"
    },
    {
     "name": "stdout",
     "output_type": "stream",
     "text": [
      "22\n"
     ]
    },
    {
     "data": {
      "application/vnd.jupyter.widget-view+json": {
       "model_id": "2d4ec5283dee45a9b6c8c9ed6f09bf2b",
       "version_major": 2,
       "version_minor": 0
      },
      "text/plain": [
       "VBox(children=(Label(value='Waiting for wandb.init()...\\r'), FloatProgress(value=0.01111244691108166, max=1.0)…"
      ]
     },
     "metadata": {},
     "output_type": "display_data"
    },
    {
     "data": {
      "text/html": [
       "wandb version 0.15.12 is available!  To upgrade, please run:\n",
       " $ pip install wandb --upgrade"
      ],
      "text/plain": [
       "<IPython.core.display.HTML object>"
      ]
     },
     "metadata": {},
     "output_type": "display_data"
    },
    {
     "data": {
      "text/html": [
       "Tracking run with wandb version 0.15.11"
      ],
      "text/plain": [
       "<IPython.core.display.HTML object>"
      ]
     },
     "metadata": {},
     "output_type": "display_data"
    },
    {
     "data": {
      "text/html": [
       "Run data is saved locally in <code>/home/tejas/Documents/SMAI/assignment-3-MrTejas/q2/wandb/run-20231023_185229-bunpihc2</code>"
      ],
      "text/plain": [
       "<IPython.core.display.HTML object>"
      ]
     },
     "metadata": {},
     "output_type": "display_data"
    },
    {
     "data": {
      "text/html": [
       "Syncing run <strong><a href='https://wandb.ai/tejas591995/MLPClassification/runs/bunpihc2' target=\"_blank\">glowing-wind-23</a></strong> to <a href='https://wandb.ai/tejas591995/MLPClassification' target=\"_blank\">Weights & Biases</a> (<a href='https://wandb.me/run' target=\"_blank\">docs</a>)<br/>"
      ],
      "text/plain": [
       "<IPython.core.display.HTML object>"
      ]
     },
     "metadata": {},
     "output_type": "display_data"
    },
    {
     "data": {
      "text/html": [
       " View project at <a href='https://wandb.ai/tejas591995/MLPClassification' target=\"_blank\">https://wandb.ai/tejas591995/MLPClassification</a>"
      ],
      "text/plain": [
       "<IPython.core.display.HTML object>"
      ]
     },
     "metadata": {},
     "output_type": "display_data"
    },
    {
     "data": {
      "text/html": [
       " View run at <a href='https://wandb.ai/tejas591995/MLPClassification/runs/bunpihc2' target=\"_blank\">https://wandb.ai/tejas591995/MLPClassification/runs/bunpihc2</a>"
      ],
      "text/plain": [
       "<IPython.core.display.HTML object>"
      ]
     },
     "metadata": {},
     "output_type": "display_data"
    },
    {
     "name": "stdout",
     "output_type": "stream",
     "text": [
      "Initialized values successfully!\n",
      "Loaded Dataframe!\n",
      "Splitted data into train, test and val sets!\n",
      "-----------------------------------------------\n",
      "Number of Layers       :  4\n",
      "Layer sizes            :  [11, 5, 5, 6]\n",
      "Batch size             :  200\n",
      "Activation Function    :  sigmoid\n",
      "Optimization Method    :  mini-batch\n",
      "Learning Rate          :  0.005\n",
      "Num Epoches            :  100\n",
      "-----------------------------------------------\n"
     ]
    },
    {
     "data": {
      "text/html": [
       "Waiting for W&B process to finish... <strong style=\"color:green\">(success).</strong>"
      ],
      "text/plain": [
       "<IPython.core.display.HTML object>"
      ]
     },
     "metadata": {},
     "output_type": "display_data"
    },
    {
     "data": {
      "text/html": [
       "<style>\n",
       "    table.wandb td:nth-child(1) { padding: 0 10px; text-align: left ; width: auto;} td:nth-child(2) {text-align: left ; width: 100%}\n",
       "    .wandb-row { display: flex; flex-direction: row; flex-wrap: wrap; justify-content: flex-start; width: 100% }\n",
       "    .wandb-col { display: flex; flex-direction: column; flex-basis: 100%; flex: 1; padding: 10px; }\n",
       "    </style>\n",
       "<div class=\"wandb-row\"><div class=\"wandb-col\"><h3>Run history:</h3><br/><table class=\"wandb\"><tr><td>acc</td><td>▁▁▁▁▁▁▁▁▁▁▁▁▁▁▁▁▁▁▁▁▁▁▁▁▁███████████████</td></tr><tr><td>loss</td><td>███▇▇▇▇▇▇▇▆▆▆▆▆▆▆▅▅▅▅▅▅▅▃▃▃▃▃▃▃▂▂▂▂▂▂▂▁▁</td></tr></table><br/></div><div class=\"wandb-col\"><h3>Run summary:</h3><br/><table class=\"wandb\"><tr><td>acc</td><td>0.028</td></tr><tr><td>loss</td><td>0.263</td></tr></table><br/></div></div>"
      ],
      "text/plain": [
       "<IPython.core.display.HTML object>"
      ]
     },
     "metadata": {},
     "output_type": "display_data"
    },
    {
     "data": {
      "text/html": [
       " View run <strong style=\"color:#cdcd00\">glowing-wind-23</strong> at: <a href='https://wandb.ai/tejas591995/MLPClassification/runs/bunpihc2' target=\"_blank\">https://wandb.ai/tejas591995/MLPClassification/runs/bunpihc2</a><br/> View job at <a href='https://wandb.ai/tejas591995/MLPClassification/jobs/QXJ0aWZhY3RDb2xsZWN0aW9uOjEwOTIxOTAwNw==/version_details/v0' target=\"_blank\">https://wandb.ai/tejas591995/MLPClassification/jobs/QXJ0aWZhY3RDb2xsZWN0aW9uOjEwOTIxOTAwNw==/version_details/v0</a><br/>Synced 6 W&B file(s), 0 media file(s), 0 artifact file(s) and 0 other file(s)"
      ],
      "text/plain": [
       "<IPython.core.display.HTML object>"
      ]
     },
     "metadata": {},
     "output_type": "display_data"
    },
    {
     "data": {
      "text/html": [
       "Find logs at: <code>./wandb/run-20231023_185229-bunpihc2/logs</code>"
      ],
      "text/plain": [
       "<IPython.core.display.HTML object>"
      ]
     },
     "metadata": {},
     "output_type": "display_data"
    },
    {
     "name": "stdout",
     "output_type": "stream",
     "text": [
      "23\n"
     ]
    },
    {
     "data": {
      "application/vnd.jupyter.widget-view+json": {
       "model_id": "da32e7addf634895a68508dc23670f21",
       "version_major": 2,
       "version_minor": 0
      },
      "text/plain": [
       "VBox(children=(Label(value='Waiting for wandb.init()...\\r'), FloatProgress(value=0.011112301822221424, max=1.0…"
      ]
     },
     "metadata": {},
     "output_type": "display_data"
    },
    {
     "data": {
      "text/html": [
       "wandb version 0.15.12 is available!  To upgrade, please run:\n",
       " $ pip install wandb --upgrade"
      ],
      "text/plain": [
       "<IPython.core.display.HTML object>"
      ]
     },
     "metadata": {},
     "output_type": "display_data"
    },
    {
     "data": {
      "text/html": [
       "Tracking run with wandb version 0.15.11"
      ],
      "text/plain": [
       "<IPython.core.display.HTML object>"
      ]
     },
     "metadata": {},
     "output_type": "display_data"
    },
    {
     "data": {
      "text/html": [
       "Run data is saved locally in <code>/home/tejas/Documents/SMAI/assignment-3-MrTejas/q2/wandb/run-20231023_185243-9fh7hhgg</code>"
      ],
      "text/plain": [
       "<IPython.core.display.HTML object>"
      ]
     },
     "metadata": {},
     "output_type": "display_data"
    },
    {
     "data": {
      "text/html": [
       "Syncing run <strong><a href='https://wandb.ai/tejas591995/MLPClassification/runs/9fh7hhgg' target=\"_blank\">swift-rain-24</a></strong> to <a href='https://wandb.ai/tejas591995/MLPClassification' target=\"_blank\">Weights & Biases</a> (<a href='https://wandb.me/run' target=\"_blank\">docs</a>)<br/>"
      ],
      "text/plain": [
       "<IPython.core.display.HTML object>"
      ]
     },
     "metadata": {},
     "output_type": "display_data"
    },
    {
     "data": {
      "text/html": [
       " View project at <a href='https://wandb.ai/tejas591995/MLPClassification' target=\"_blank\">https://wandb.ai/tejas591995/MLPClassification</a>"
      ],
      "text/plain": [
       "<IPython.core.display.HTML object>"
      ]
     },
     "metadata": {},
     "output_type": "display_data"
    },
    {
     "data": {
      "text/html": [
       " View run at <a href='https://wandb.ai/tejas591995/MLPClassification/runs/9fh7hhgg' target=\"_blank\">https://wandb.ai/tejas591995/MLPClassification/runs/9fh7hhgg</a>"
      ],
      "text/plain": [
       "<IPython.core.display.HTML object>"
      ]
     },
     "metadata": {},
     "output_type": "display_data"
    },
    {
     "name": "stdout",
     "output_type": "stream",
     "text": [
      "Initialized values successfully!\n",
      "Loaded Dataframe!\n",
      "Splitted data into train, test and val sets!\n",
      "-----------------------------------------------\n",
      "Number of Layers       :  4\n",
      "Layer sizes            :  [11, 5, 5, 6]\n",
      "Batch size             :  250\n",
      "Activation Function    :  sigmoid\n",
      "Optimization Method    :  mini-batch\n",
      "Learning Rate          :  0.005\n",
      "Num Epoches            :  100\n",
      "-----------------------------------------------\n"
     ]
    },
    {
     "data": {
      "text/html": [
       "Waiting for W&B process to finish... <strong style=\"color:green\">(success).</strong>"
      ],
      "text/plain": [
       "<IPython.core.display.HTML object>"
      ]
     },
     "metadata": {},
     "output_type": "display_data"
    },
    {
     "data": {
      "text/html": [
       "<style>\n",
       "    table.wandb td:nth-child(1) { padding: 0 10px; text-align: left ; width: auto;} td:nth-child(2) {text-align: left ; width: 100%}\n",
       "    .wandb-row { display: flex; flex-direction: row; flex-wrap: wrap; justify-content: flex-start; width: 100% }\n",
       "    .wandb-col { display: flex; flex-direction: column; flex-basis: 100%; flex: 1; padding: 10px; }\n",
       "    </style>\n",
       "<div class=\"wandb-row\"><div class=\"wandb-col\"><h3>Run history:</h3><br/><table class=\"wandb\"><tr><td>acc</td><td>▁▁▁▁▁▁▁▁▁▁▁▁▁▁▁▁▁▁▁▁▁▁▁▁▁▁▁▁▁▁▁▁▁▁▁▁▁▁▁▁</td></tr><tr><td>loss</td><td>██▆▆▆▆▆▆▆▆▆▆▆▅▅▅▅▅▅▅▅▅▅▅▃▃▃▃▃▃▃▃▃▃▃▁▁▁▁▁</td></tr></table><br/></div><div class=\"wandb-col\"><h3>Run summary:</h3><br/><table class=\"wandb\"><tr><td>acc</td><td>0.105</td></tr><tr><td>loss</td><td>0.243</td></tr></table><br/></div></div>"
      ],
      "text/plain": [
       "<IPython.core.display.HTML object>"
      ]
     },
     "metadata": {},
     "output_type": "display_data"
    },
    {
     "data": {
      "text/html": [
       " View run <strong style=\"color:#cdcd00\">swift-rain-24</strong> at: <a href='https://wandb.ai/tejas591995/MLPClassification/runs/9fh7hhgg' target=\"_blank\">https://wandb.ai/tejas591995/MLPClassification/runs/9fh7hhgg</a><br/> View job at <a href='https://wandb.ai/tejas591995/MLPClassification/jobs/QXJ0aWZhY3RDb2xsZWN0aW9uOjEwOTIxOTAwNw==/version_details/v0' target=\"_blank\">https://wandb.ai/tejas591995/MLPClassification/jobs/QXJ0aWZhY3RDb2xsZWN0aW9uOjEwOTIxOTAwNw==/version_details/v0</a><br/>Synced 6 W&B file(s), 0 media file(s), 0 artifact file(s) and 0 other file(s)"
      ],
      "text/plain": [
       "<IPython.core.display.HTML object>"
      ]
     },
     "metadata": {},
     "output_type": "display_data"
    },
    {
     "data": {
      "text/html": [
       "Find logs at: <code>./wandb/run-20231023_185243-9fh7hhgg/logs</code>"
      ],
      "text/plain": [
       "<IPython.core.display.HTML object>"
      ]
     },
     "metadata": {},
     "output_type": "display_data"
    },
    {
     "name": "stdout",
     "output_type": "stream",
     "text": [
      "24\n"
     ]
    },
    {
     "data": {
      "application/vnd.jupyter.widget-view+json": {
       "model_id": "adc40f66e5e541c19087fca9dc6cbfc1",
       "version_major": 2,
       "version_minor": 0
      },
      "text/plain": [
       "VBox(children=(Label(value='Waiting for wandb.init()...\\r'), FloatProgress(value=0.011114127766672432, max=1.0…"
      ]
     },
     "metadata": {},
     "output_type": "display_data"
    },
    {
     "data": {
      "text/html": [
       "wandb version 0.15.12 is available!  To upgrade, please run:\n",
       " $ pip install wandb --upgrade"
      ],
      "text/plain": [
       "<IPython.core.display.HTML object>"
      ]
     },
     "metadata": {},
     "output_type": "display_data"
    },
    {
     "data": {
      "text/html": [
       "Tracking run with wandb version 0.15.11"
      ],
      "text/plain": [
       "<IPython.core.display.HTML object>"
      ]
     },
     "metadata": {},
     "output_type": "display_data"
    },
    {
     "data": {
      "text/html": [
       "Run data is saved locally in <code>/home/tejas/Documents/SMAI/assignment-3-MrTejas/q2/wandb/run-20231023_185258-7peotzfk</code>"
      ],
      "text/plain": [
       "<IPython.core.display.HTML object>"
      ]
     },
     "metadata": {},
     "output_type": "display_data"
    },
    {
     "data": {
      "text/html": [
       "Syncing run <strong><a href='https://wandb.ai/tejas591995/MLPClassification/runs/7peotzfk' target=\"_blank\">lilac-shadow-25</a></strong> to <a href='https://wandb.ai/tejas591995/MLPClassification' target=\"_blank\">Weights & Biases</a> (<a href='https://wandb.me/run' target=\"_blank\">docs</a>)<br/>"
      ],
      "text/plain": [
       "<IPython.core.display.HTML object>"
      ]
     },
     "metadata": {},
     "output_type": "display_data"
    },
    {
     "data": {
      "text/html": [
       " View project at <a href='https://wandb.ai/tejas591995/MLPClassification' target=\"_blank\">https://wandb.ai/tejas591995/MLPClassification</a>"
      ],
      "text/plain": [
       "<IPython.core.display.HTML object>"
      ]
     },
     "metadata": {},
     "output_type": "display_data"
    },
    {
     "data": {
      "text/html": [
       " View run at <a href='https://wandb.ai/tejas591995/MLPClassification/runs/7peotzfk' target=\"_blank\">https://wandb.ai/tejas591995/MLPClassification/runs/7peotzfk</a>"
      ],
      "text/plain": [
       "<IPython.core.display.HTML object>"
      ]
     },
     "metadata": {},
     "output_type": "display_data"
    },
    {
     "name": "stdout",
     "output_type": "stream",
     "text": [
      "Initialized values successfully!\n",
      "Loaded Dataframe!\n",
      "Splitted data into train, test and val sets!\n",
      "-----------------------------------------------\n",
      "Number of Layers       :  4\n",
      "Layer sizes            :  [11, 5, 5, 6]\n",
      "Batch size             :  100\n",
      "Activation Function    :  tanh\n",
      "Optimization Method    :  mini-batch\n",
      "Learning Rate          :  0.01\n",
      "Num Epoches            :  100\n",
      "-----------------------------------------------\n"
     ]
    },
    {
     "data": {
      "text/html": [
       "Waiting for W&B process to finish... <strong style=\"color:green\">(success).</strong>"
      ],
      "text/plain": [
       "<IPython.core.display.HTML object>"
      ]
     },
     "metadata": {},
     "output_type": "display_data"
    },
    {
     "data": {
      "text/html": [
       "<style>\n",
       "    table.wandb td:nth-child(1) { padding: 0 10px; text-align: left ; width: auto;} td:nth-child(2) {text-align: left ; width: 100%}\n",
       "    .wandb-row { display: flex; flex-direction: row; flex-wrap: wrap; justify-content: flex-start; width: 100% }\n",
       "    .wandb-col { display: flex; flex-direction: column; flex-basis: 100%; flex: 1; padding: 10px; }\n",
       "    </style>\n",
       "<div class=\"wandb-row\"><div class=\"wandb-col\"><h3>Run history:</h3><br/><table class=\"wandb\"><tr><td>acc</td><td>▁▁▁▁▁▁▁▁▁▁▁▁▁▁▁▁▁▁▁▁▁▁▁▁▁▁▁▁▁▁▁▁▁▁▁▁▁▁▁▁</td></tr><tr><td>loss</td><td>█▇▆▆▅▅▄▄▄▃▃▃▃▃▂▂▂▂▂▂▂▂▂▁▁▁▁▁▁▁▁▁▁▁▁▁▁▁▁▁</td></tr></table><br/></div><div class=\"wandb-col\"><h3>Run summary:</h3><br/><table class=\"wandb\"><tr><td>acc</td><td>0.417</td></tr><tr><td>loss</td><td>0.235</td></tr></table><br/></div></div>"
      ],
      "text/plain": [
       "<IPython.core.display.HTML object>"
      ]
     },
     "metadata": {},
     "output_type": "display_data"
    },
    {
     "data": {
      "text/html": [
       " View run <strong style=\"color:#cdcd00\">lilac-shadow-25</strong> at: <a href='https://wandb.ai/tejas591995/MLPClassification/runs/7peotzfk' target=\"_blank\">https://wandb.ai/tejas591995/MLPClassification/runs/7peotzfk</a><br/> View job at <a href='https://wandb.ai/tejas591995/MLPClassification/jobs/QXJ0aWZhY3RDb2xsZWN0aW9uOjEwOTIxOTAwNw==/version_details/v0' target=\"_blank\">https://wandb.ai/tejas591995/MLPClassification/jobs/QXJ0aWZhY3RDb2xsZWN0aW9uOjEwOTIxOTAwNw==/version_details/v0</a><br/>Synced 6 W&B file(s), 0 media file(s), 0 artifact file(s) and 0 other file(s)"
      ],
      "text/plain": [
       "<IPython.core.display.HTML object>"
      ]
     },
     "metadata": {},
     "output_type": "display_data"
    },
    {
     "data": {
      "text/html": [
       "Find logs at: <code>./wandb/run-20231023_185258-7peotzfk/logs</code>"
      ],
      "text/plain": [
       "<IPython.core.display.HTML object>"
      ]
     },
     "metadata": {},
     "output_type": "display_data"
    },
    {
     "name": "stdout",
     "output_type": "stream",
     "text": [
      "25\n"
     ]
    },
    {
     "data": {
      "application/vnd.jupyter.widget-view+json": {
       "model_id": "69252d59f0dc46c6b0c34efd578b03da",
       "version_major": 2,
       "version_minor": 0
      },
      "text/plain": [
       "VBox(children=(Label(value='Waiting for wandb.init()...\\r'), FloatProgress(value=0.011112915522244294, max=1.0…"
      ]
     },
     "metadata": {},
     "output_type": "display_data"
    },
    {
     "data": {
      "text/html": [
       "wandb version 0.15.12 is available!  To upgrade, please run:\n",
       " $ pip install wandb --upgrade"
      ],
      "text/plain": [
       "<IPython.core.display.HTML object>"
      ]
     },
     "metadata": {},
     "output_type": "display_data"
    },
    {
     "data": {
      "text/html": [
       "Tracking run with wandb version 0.15.11"
      ],
      "text/plain": [
       "<IPython.core.display.HTML object>"
      ]
     },
     "metadata": {},
     "output_type": "display_data"
    },
    {
     "data": {
      "text/html": [
       "Run data is saved locally in <code>/home/tejas/Documents/SMAI/assignment-3-MrTejas/q2/wandb/run-20231023_185313-zg63sk6d</code>"
      ],
      "text/plain": [
       "<IPython.core.display.HTML object>"
      ]
     },
     "metadata": {},
     "output_type": "display_data"
    },
    {
     "data": {
      "text/html": [
       "Syncing run <strong><a href='https://wandb.ai/tejas591995/MLPClassification/runs/zg63sk6d' target=\"_blank\">happy-rain-26</a></strong> to <a href='https://wandb.ai/tejas591995/MLPClassification' target=\"_blank\">Weights & Biases</a> (<a href='https://wandb.me/run' target=\"_blank\">docs</a>)<br/>"
      ],
      "text/plain": [
       "<IPython.core.display.HTML object>"
      ]
     },
     "metadata": {},
     "output_type": "display_data"
    },
    {
     "data": {
      "text/html": [
       " View project at <a href='https://wandb.ai/tejas591995/MLPClassification' target=\"_blank\">https://wandb.ai/tejas591995/MLPClassification</a>"
      ],
      "text/plain": [
       "<IPython.core.display.HTML object>"
      ]
     },
     "metadata": {},
     "output_type": "display_data"
    },
    {
     "data": {
      "text/html": [
       " View run at <a href='https://wandb.ai/tejas591995/MLPClassification/runs/zg63sk6d' target=\"_blank\">https://wandb.ai/tejas591995/MLPClassification/runs/zg63sk6d</a>"
      ],
      "text/plain": [
       "<IPython.core.display.HTML object>"
      ]
     },
     "metadata": {},
     "output_type": "display_data"
    },
    {
     "name": "stdout",
     "output_type": "stream",
     "text": [
      "Initialized values successfully!\n",
      "Loaded Dataframe!\n",
      "Splitted data into train, test and val sets!\n",
      "-----------------------------------------------\n",
      "Number of Layers       :  4\n",
      "Layer sizes            :  [11, 5, 5, 6]\n",
      "Batch size             :  150\n",
      "Activation Function    :  tanh\n",
      "Optimization Method    :  mini-batch\n",
      "Learning Rate          :  0.01\n",
      "Num Epoches            :  100\n",
      "-----------------------------------------------\n"
     ]
    },
    {
     "data": {
      "text/html": [
       "Waiting for W&B process to finish... <strong style=\"color:green\">(success).</strong>"
      ],
      "text/plain": [
       "<IPython.core.display.HTML object>"
      ]
     },
     "metadata": {},
     "output_type": "display_data"
    },
    {
     "data": {
      "text/html": [
       "<style>\n",
       "    table.wandb td:nth-child(1) { padding: 0 10px; text-align: left ; width: auto;} td:nth-child(2) {text-align: left ; width: 100%}\n",
       "    .wandb-row { display: flex; flex-direction: row; flex-wrap: wrap; justify-content: flex-start; width: 100% }\n",
       "    .wandb-col { display: flex; flex-direction: column; flex-basis: 100%; flex: 1; padding: 10px; }\n",
       "    </style>\n",
       "<div class=\"wandb-row\"><div class=\"wandb-col\"><h3>Run history:</h3><br/><table class=\"wandb\"><tr><td>acc</td><td>▁▁▁▁▁▁▁▁▁▁▁▁▂▂▂▂▃▃▄▄▅▆▆▇▇███████████████</td></tr><tr><td>loss</td><td>███▇▇▇▇▇▆▆▆▆▆▅▅▅▅▅▄▄▄▄▄▄▃▃▃▃▃▂▂▂▂▂▂▂▁▁▁▁</td></tr></table><br/></div><div class=\"wandb-col\"><h3>Run summary:</h3><br/><table class=\"wandb\"><tr><td>acc</td><td>0.439</td></tr><tr><td>loss</td><td>0.261</td></tr></table><br/></div></div>"
      ],
      "text/plain": [
       "<IPython.core.display.HTML object>"
      ]
     },
     "metadata": {},
     "output_type": "display_data"
    },
    {
     "data": {
      "text/html": [
       " View run <strong style=\"color:#cdcd00\">happy-rain-26</strong> at: <a href='https://wandb.ai/tejas591995/MLPClassification/runs/zg63sk6d' target=\"_blank\">https://wandb.ai/tejas591995/MLPClassification/runs/zg63sk6d</a><br/> View job at <a href='https://wandb.ai/tejas591995/MLPClassification/jobs/QXJ0aWZhY3RDb2xsZWN0aW9uOjEwOTIxOTAwNw==/version_details/v0' target=\"_blank\">https://wandb.ai/tejas591995/MLPClassification/jobs/QXJ0aWZhY3RDb2xsZWN0aW9uOjEwOTIxOTAwNw==/version_details/v0</a><br/>Synced 6 W&B file(s), 0 media file(s), 0 artifact file(s) and 0 other file(s)"
      ],
      "text/plain": [
       "<IPython.core.display.HTML object>"
      ]
     },
     "metadata": {},
     "output_type": "display_data"
    },
    {
     "data": {
      "text/html": [
       "Find logs at: <code>./wandb/run-20231023_185313-zg63sk6d/logs</code>"
      ],
      "text/plain": [
       "<IPython.core.display.HTML object>"
      ]
     },
     "metadata": {},
     "output_type": "display_data"
    },
    {
     "name": "stdout",
     "output_type": "stream",
     "text": [
      "26\n"
     ]
    },
    {
     "data": {
      "application/vnd.jupyter.widget-view+json": {
       "model_id": "11a9317b3eca4efb9d523c6dda6b6fec",
       "version_major": 2,
       "version_minor": 0
      },
      "text/plain": [
       "VBox(children=(Label(value='Waiting for wandb.init()...\\r'), FloatProgress(value=0.011114179844460321, max=1.0…"
      ]
     },
     "metadata": {},
     "output_type": "display_data"
    },
    {
     "data": {
      "text/html": [
       "wandb version 0.15.12 is available!  To upgrade, please run:\n",
       " $ pip install wandb --upgrade"
      ],
      "text/plain": [
       "<IPython.core.display.HTML object>"
      ]
     },
     "metadata": {},
     "output_type": "display_data"
    },
    {
     "data": {
      "text/html": [
       "Tracking run with wandb version 0.15.11"
      ],
      "text/plain": [
       "<IPython.core.display.HTML object>"
      ]
     },
     "metadata": {},
     "output_type": "display_data"
    },
    {
     "data": {
      "text/html": [
       "Run data is saved locally in <code>/home/tejas/Documents/SMAI/assignment-3-MrTejas/q2/wandb/run-20231023_185328-qwjqwj7o</code>"
      ],
      "text/plain": [
       "<IPython.core.display.HTML object>"
      ]
     },
     "metadata": {},
     "output_type": "display_data"
    },
    {
     "data": {
      "text/html": [
       "Syncing run <strong><a href='https://wandb.ai/tejas591995/MLPClassification/runs/qwjqwj7o' target=\"_blank\">fanciful-spaceship-27</a></strong> to <a href='https://wandb.ai/tejas591995/MLPClassification' target=\"_blank\">Weights & Biases</a> (<a href='https://wandb.me/run' target=\"_blank\">docs</a>)<br/>"
      ],
      "text/plain": [
       "<IPython.core.display.HTML object>"
      ]
     },
     "metadata": {},
     "output_type": "display_data"
    },
    {
     "data": {
      "text/html": [
       " View project at <a href='https://wandb.ai/tejas591995/MLPClassification' target=\"_blank\">https://wandb.ai/tejas591995/MLPClassification</a>"
      ],
      "text/plain": [
       "<IPython.core.display.HTML object>"
      ]
     },
     "metadata": {},
     "output_type": "display_data"
    },
    {
     "data": {
      "text/html": [
       " View run at <a href='https://wandb.ai/tejas591995/MLPClassification/runs/qwjqwj7o' target=\"_blank\">https://wandb.ai/tejas591995/MLPClassification/runs/qwjqwj7o</a>"
      ],
      "text/plain": [
       "<IPython.core.display.HTML object>"
      ]
     },
     "metadata": {},
     "output_type": "display_data"
    },
    {
     "name": "stdout",
     "output_type": "stream",
     "text": [
      "Initialized values successfully!\n",
      "Loaded Dataframe!\n",
      "Splitted data into train, test and val sets!\n",
      "-----------------------------------------------\n",
      "Number of Layers       :  4\n",
      "Layer sizes            :  [11, 5, 5, 6]\n",
      "Batch size             :  200\n",
      "Activation Function    :  tanh\n",
      "Optimization Method    :  mini-batch\n",
      "Learning Rate          :  0.01\n",
      "Num Epoches            :  100\n",
      "-----------------------------------------------\n"
     ]
    },
    {
     "data": {
      "text/html": [
       "Waiting for W&B process to finish... <strong style=\"color:green\">(success).</strong>"
      ],
      "text/plain": [
       "<IPython.core.display.HTML object>"
      ]
     },
     "metadata": {},
     "output_type": "display_data"
    },
    {
     "data": {
      "text/html": [
       "<style>\n",
       "    table.wandb td:nth-child(1) { padding: 0 10px; text-align: left ; width: auto;} td:nth-child(2) {text-align: left ; width: 100%}\n",
       "    .wandb-row { display: flex; flex-direction: row; flex-wrap: wrap; justify-content: flex-start; width: 100% }\n",
       "    .wandb-col { display: flex; flex-direction: column; flex-basis: 100%; flex: 1; padding: 10px; }\n",
       "    </style>\n",
       "<div class=\"wandb-row\"><div class=\"wandb-col\"><h3>Run history:</h3><br/><table class=\"wandb\"><tr><td>acc</td><td>▁▁▁▁▂▂▂▂▂▂▂▂▂▂▂▂▃▃▃▃▄▄▄▄▄▄▅▅▅▆▆▆▇▇▇▇████</td></tr><tr><td>loss</td><td>████▇▇▇▇▇▇▆▆▆▆▆▅▅▅▅▅▄▄▄▄▄▄▃▃▃▃▃▂▂▂▂▂▁▁▁▁</td></tr></table><br/></div><div class=\"wandb-col\"><h3>Run summary:</h3><br/><table class=\"wandb\"><tr><td>acc</td><td>0.381</td></tr><tr><td>loss</td><td>0.242</td></tr></table><br/></div></div>"
      ],
      "text/plain": [
       "<IPython.core.display.HTML object>"
      ]
     },
     "metadata": {},
     "output_type": "display_data"
    },
    {
     "data": {
      "text/html": [
       " View run <strong style=\"color:#cdcd00\">fanciful-spaceship-27</strong> at: <a href='https://wandb.ai/tejas591995/MLPClassification/runs/qwjqwj7o' target=\"_blank\">https://wandb.ai/tejas591995/MLPClassification/runs/qwjqwj7o</a><br/> View job at <a href='https://wandb.ai/tejas591995/MLPClassification/jobs/QXJ0aWZhY3RDb2xsZWN0aW9uOjEwOTIxOTAwNw==/version_details/v0' target=\"_blank\">https://wandb.ai/tejas591995/MLPClassification/jobs/QXJ0aWZhY3RDb2xsZWN0aW9uOjEwOTIxOTAwNw==/version_details/v0</a><br/>Synced 6 W&B file(s), 0 media file(s), 0 artifact file(s) and 0 other file(s)"
      ],
      "text/plain": [
       "<IPython.core.display.HTML object>"
      ]
     },
     "metadata": {},
     "output_type": "display_data"
    },
    {
     "data": {
      "text/html": [
       "Find logs at: <code>./wandb/run-20231023_185328-qwjqwj7o/logs</code>"
      ],
      "text/plain": [
       "<IPython.core.display.HTML object>"
      ]
     },
     "metadata": {},
     "output_type": "display_data"
    },
    {
     "name": "stdout",
     "output_type": "stream",
     "text": [
      "27\n"
     ]
    },
    {
     "data": {
      "application/vnd.jupyter.widget-view+json": {
       "model_id": "68ba4ccc7a9c409cae9313b1e0adbce9",
       "version_major": 2,
       "version_minor": 0
      },
      "text/plain": [
       "VBox(children=(Label(value='Waiting for wandb.init()...\\r'), FloatProgress(value=0.011113884011137998, max=1.0…"
      ]
     },
     "metadata": {},
     "output_type": "display_data"
    },
    {
     "data": {
      "text/html": [
       "wandb version 0.15.12 is available!  To upgrade, please run:\n",
       " $ pip install wandb --upgrade"
      ],
      "text/plain": [
       "<IPython.core.display.HTML object>"
      ]
     },
     "metadata": {},
     "output_type": "display_data"
    },
    {
     "data": {
      "text/html": [
       "Tracking run with wandb version 0.15.11"
      ],
      "text/plain": [
       "<IPython.core.display.HTML object>"
      ]
     },
     "metadata": {},
     "output_type": "display_data"
    },
    {
     "data": {
      "text/html": [
       "Run data is saved locally in <code>/home/tejas/Documents/SMAI/assignment-3-MrTejas/q2/wandb/run-20231023_185342-qh7debln</code>"
      ],
      "text/plain": [
       "<IPython.core.display.HTML object>"
      ]
     },
     "metadata": {},
     "output_type": "display_data"
    },
    {
     "data": {
      "text/html": [
       "Syncing run <strong><a href='https://wandb.ai/tejas591995/MLPClassification/runs/qh7debln' target=\"_blank\">smooth-wave-28</a></strong> to <a href='https://wandb.ai/tejas591995/MLPClassification' target=\"_blank\">Weights & Biases</a> (<a href='https://wandb.me/run' target=\"_blank\">docs</a>)<br/>"
      ],
      "text/plain": [
       "<IPython.core.display.HTML object>"
      ]
     },
     "metadata": {},
     "output_type": "display_data"
    },
    {
     "data": {
      "text/html": [
       " View project at <a href='https://wandb.ai/tejas591995/MLPClassification' target=\"_blank\">https://wandb.ai/tejas591995/MLPClassification</a>"
      ],
      "text/plain": [
       "<IPython.core.display.HTML object>"
      ]
     },
     "metadata": {},
     "output_type": "display_data"
    },
    {
     "data": {
      "text/html": [
       " View run at <a href='https://wandb.ai/tejas591995/MLPClassification/runs/qh7debln' target=\"_blank\">https://wandb.ai/tejas591995/MLPClassification/runs/qh7debln</a>"
      ],
      "text/plain": [
       "<IPython.core.display.HTML object>"
      ]
     },
     "metadata": {},
     "output_type": "display_data"
    },
    {
     "name": "stdout",
     "output_type": "stream",
     "text": [
      "Initialized values successfully!\n",
      "Loaded Dataframe!\n",
      "Splitted data into train, test and val sets!\n",
      "-----------------------------------------------\n",
      "Number of Layers       :  4\n",
      "Layer sizes            :  [11, 5, 5, 6]\n",
      "Batch size             :  250\n",
      "Activation Function    :  tanh\n",
      "Optimization Method    :  mini-batch\n",
      "Learning Rate          :  0.01\n",
      "Num Epoches            :  100\n",
      "-----------------------------------------------\n"
     ]
    },
    {
     "data": {
      "text/html": [
       "Waiting for W&B process to finish... <strong style=\"color:green\">(success).</strong>"
      ],
      "text/plain": [
       "<IPython.core.display.HTML object>"
      ]
     },
     "metadata": {},
     "output_type": "display_data"
    },
    {
     "data": {
      "text/html": [
       "<style>\n",
       "    table.wandb td:nth-child(1) { padding: 0 10px; text-align: left ; width: auto;} td:nth-child(2) {text-align: left ; width: 100%}\n",
       "    .wandb-row { display: flex; flex-direction: row; flex-wrap: wrap; justify-content: flex-start; width: 100% }\n",
       "    .wandb-col { display: flex; flex-direction: column; flex-basis: 100%; flex: 1; padding: 10px; }\n",
       "    </style>\n",
       "<div class=\"wandb-row\"><div class=\"wandb-col\"><h3>Run history:</h3><br/><table class=\"wandb\"><tr><td>acc</td><td>▁▁▁▁▁▁▁▁▁▁▁▁▁▁▁▁▁▁▁▂▂▂▃▃▃▄▄▅▆▆▆▇▇▇▇▇▇███</td></tr><tr><td>loss</td><td>███▇▇▇▇▇▇▆▆▆▆▆▅▅▅▅▅▅▄▄▄▄▄▃▃▃▃▃▂▂▂▂▂▂▂▁▁▁</td></tr></table><br/></div><div class=\"wandb-col\"><h3>Run summary:</h3><br/><table class=\"wandb\"><tr><td>acc</td><td>0.367</td></tr><tr><td>loss</td><td>0.22</td></tr></table><br/></div></div>"
      ],
      "text/plain": [
       "<IPython.core.display.HTML object>"
      ]
     },
     "metadata": {},
     "output_type": "display_data"
    },
    {
     "data": {
      "text/html": [
       " View run <strong style=\"color:#cdcd00\">smooth-wave-28</strong> at: <a href='https://wandb.ai/tejas591995/MLPClassification/runs/qh7debln' target=\"_blank\">https://wandb.ai/tejas591995/MLPClassification/runs/qh7debln</a><br/> View job at <a href='https://wandb.ai/tejas591995/MLPClassification/jobs/QXJ0aWZhY3RDb2xsZWN0aW9uOjEwOTIxOTAwNw==/version_details/v0' target=\"_blank\">https://wandb.ai/tejas591995/MLPClassification/jobs/QXJ0aWZhY3RDb2xsZWN0aW9uOjEwOTIxOTAwNw==/version_details/v0</a><br/>Synced 6 W&B file(s), 0 media file(s), 0 artifact file(s) and 0 other file(s)"
      ],
      "text/plain": [
       "<IPython.core.display.HTML object>"
      ]
     },
     "metadata": {},
     "output_type": "display_data"
    },
    {
     "data": {
      "text/html": [
       "Find logs at: <code>./wandb/run-20231023_185342-qh7debln/logs</code>"
      ],
      "text/plain": [
       "<IPython.core.display.HTML object>"
      ]
     },
     "metadata": {},
     "output_type": "display_data"
    },
    {
     "name": "stdout",
     "output_type": "stream",
     "text": [
      "28\n"
     ]
    },
    {
     "data": {
      "application/vnd.jupyter.widget-view+json": {
       "model_id": "387380ed841941868c4f2fdc2bdb1fff",
       "version_major": 2,
       "version_minor": 0
      },
      "text/plain": [
       "VBox(children=(Label(value='Waiting for wandb.init()...\\r'), FloatProgress(value=0.011112819888876403, max=1.0…"
      ]
     },
     "metadata": {},
     "output_type": "display_data"
    },
    {
     "data": {
      "text/html": [
       "wandb version 0.15.12 is available!  To upgrade, please run:\n",
       " $ pip install wandb --upgrade"
      ],
      "text/plain": [
       "<IPython.core.display.HTML object>"
      ]
     },
     "metadata": {},
     "output_type": "display_data"
    },
    {
     "data": {
      "text/html": [
       "Tracking run with wandb version 0.15.11"
      ],
      "text/plain": [
       "<IPython.core.display.HTML object>"
      ]
     },
     "metadata": {},
     "output_type": "display_data"
    },
    {
     "data": {
      "text/html": [
       "Run data is saved locally in <code>/home/tejas/Documents/SMAI/assignment-3-MrTejas/q2/wandb/run-20231023_185358-xag9noh2</code>"
      ],
      "text/plain": [
       "<IPython.core.display.HTML object>"
      ]
     },
     "metadata": {},
     "output_type": "display_data"
    },
    {
     "data": {
      "text/html": [
       "Syncing run <strong><a href='https://wandb.ai/tejas591995/MLPClassification/runs/xag9noh2' target=\"_blank\">classic-surf-29</a></strong> to <a href='https://wandb.ai/tejas591995/MLPClassification' target=\"_blank\">Weights & Biases</a> (<a href='https://wandb.me/run' target=\"_blank\">docs</a>)<br/>"
      ],
      "text/plain": [
       "<IPython.core.display.HTML object>"
      ]
     },
     "metadata": {},
     "output_type": "display_data"
    },
    {
     "data": {
      "text/html": [
       " View project at <a href='https://wandb.ai/tejas591995/MLPClassification' target=\"_blank\">https://wandb.ai/tejas591995/MLPClassification</a>"
      ],
      "text/plain": [
       "<IPython.core.display.HTML object>"
      ]
     },
     "metadata": {},
     "output_type": "display_data"
    },
    {
     "data": {
      "text/html": [
       " View run at <a href='https://wandb.ai/tejas591995/MLPClassification/runs/xag9noh2' target=\"_blank\">https://wandb.ai/tejas591995/MLPClassification/runs/xag9noh2</a>"
      ],
      "text/plain": [
       "<IPython.core.display.HTML object>"
      ]
     },
     "metadata": {},
     "output_type": "display_data"
    },
    {
     "name": "stdout",
     "output_type": "stream",
     "text": [
      "Initialized values successfully!\n",
      "Loaded Dataframe!\n",
      "Splitted data into train, test and val sets!\n",
      "-----------------------------------------------\n",
      "Number of Layers       :  4\n",
      "Layer sizes            :  [11, 5, 5, 6]\n",
      "Batch size             :  100\n",
      "Activation Function    :  ReLU\n",
      "Optimization Method    :  mini-batch\n",
      "Learning Rate          :  0.01\n",
      "Num Epoches            :  100\n",
      "-----------------------------------------------\n"
     ]
    },
    {
     "data": {
      "text/html": [
       "Waiting for W&B process to finish... <strong style=\"color:green\">(success).</strong>"
      ],
      "text/plain": [
       "<IPython.core.display.HTML object>"
      ]
     },
     "metadata": {},
     "output_type": "display_data"
    },
    {
     "data": {
      "text/html": [
       "<style>\n",
       "    table.wandb td:nth-child(1) { padding: 0 10px; text-align: left ; width: auto;} td:nth-child(2) {text-align: left ; width: 100%}\n",
       "    .wandb-row { display: flex; flex-direction: row; flex-wrap: wrap; justify-content: flex-start; width: 100% }\n",
       "    .wandb-col { display: flex; flex-direction: column; flex-basis: 100%; flex: 1; padding: 10px; }\n",
       "    </style>\n",
       "<div class=\"wandb-row\"><div class=\"wandb-col\"><h3>Run history:</h3><br/><table class=\"wandb\"><tr><td>acc</td><td>▁▁▃▃▃▄▄▅▆▆▇▇▇▇▇██████████████████████▇██</td></tr><tr><td>loss</td><td>██▇▆▆▅▅▅▅▄▄▄▄▃▃▃▃▂▂▂▂▂▂▂▂▂▁▁▁▁▁▁▁▁▁▁▁▁▁▁</td></tr></table><br/></div><div class=\"wandb-col\"><h3>Run summary:</h3><br/><table class=\"wandb\"><tr><td>acc</td><td>0.518</td></tr><tr><td>loss</td><td>0.185</td></tr></table><br/></div></div>"
      ],
      "text/plain": [
       "<IPython.core.display.HTML object>"
      ]
     },
     "metadata": {},
     "output_type": "display_data"
    },
    {
     "data": {
      "text/html": [
       " View run <strong style=\"color:#cdcd00\">classic-surf-29</strong> at: <a href='https://wandb.ai/tejas591995/MLPClassification/runs/xag9noh2' target=\"_blank\">https://wandb.ai/tejas591995/MLPClassification/runs/xag9noh2</a><br/> View job at <a href='https://wandb.ai/tejas591995/MLPClassification/jobs/QXJ0aWZhY3RDb2xsZWN0aW9uOjEwOTIxOTAwNw==/version_details/v0' target=\"_blank\">https://wandb.ai/tejas591995/MLPClassification/jobs/QXJ0aWZhY3RDb2xsZWN0aW9uOjEwOTIxOTAwNw==/version_details/v0</a><br/>Synced 6 W&B file(s), 0 media file(s), 0 artifact file(s) and 0 other file(s)"
      ],
      "text/plain": [
       "<IPython.core.display.HTML object>"
      ]
     },
     "metadata": {},
     "output_type": "display_data"
    },
    {
     "data": {
      "text/html": [
       "Find logs at: <code>./wandb/run-20231023_185358-xag9noh2/logs</code>"
      ],
      "text/plain": [
       "<IPython.core.display.HTML object>"
      ]
     },
     "metadata": {},
     "output_type": "display_data"
    },
    {
     "name": "stdout",
     "output_type": "stream",
     "text": [
      "29\n"
     ]
    },
    {
     "data": {
      "application/vnd.jupyter.widget-view+json": {
       "model_id": "02b75b55f028456587f99c1d6531b9ef",
       "version_major": 2,
       "version_minor": 0
      },
      "text/plain": [
       "VBox(children=(Label(value='Waiting for wandb.init()...\\r'), FloatProgress(value=0.011113728966665803, max=1.0…"
      ]
     },
     "metadata": {},
     "output_type": "display_data"
    },
    {
     "data": {
      "text/html": [
       "wandb version 0.15.12 is available!  To upgrade, please run:\n",
       " $ pip install wandb --upgrade"
      ],
      "text/plain": [
       "<IPython.core.display.HTML object>"
      ]
     },
     "metadata": {},
     "output_type": "display_data"
    },
    {
     "data": {
      "text/html": [
       "Tracking run with wandb version 0.15.11"
      ],
      "text/plain": [
       "<IPython.core.display.HTML object>"
      ]
     },
     "metadata": {},
     "output_type": "display_data"
    },
    {
     "data": {
      "text/html": [
       "Run data is saved locally in <code>/home/tejas/Documents/SMAI/assignment-3-MrTejas/q2/wandb/run-20231023_185412-8jyyim40</code>"
      ],
      "text/plain": [
       "<IPython.core.display.HTML object>"
      ]
     },
     "metadata": {},
     "output_type": "display_data"
    },
    {
     "data": {
      "text/html": [
       "Syncing run <strong><a href='https://wandb.ai/tejas591995/MLPClassification/runs/8jyyim40' target=\"_blank\">smart-field-30</a></strong> to <a href='https://wandb.ai/tejas591995/MLPClassification' target=\"_blank\">Weights & Biases</a> (<a href='https://wandb.me/run' target=\"_blank\">docs</a>)<br/>"
      ],
      "text/plain": [
       "<IPython.core.display.HTML object>"
      ]
     },
     "metadata": {},
     "output_type": "display_data"
    },
    {
     "data": {
      "text/html": [
       " View project at <a href='https://wandb.ai/tejas591995/MLPClassification' target=\"_blank\">https://wandb.ai/tejas591995/MLPClassification</a>"
      ],
      "text/plain": [
       "<IPython.core.display.HTML object>"
      ]
     },
     "metadata": {},
     "output_type": "display_data"
    },
    {
     "data": {
      "text/html": [
       " View run at <a href='https://wandb.ai/tejas591995/MLPClassification/runs/8jyyim40' target=\"_blank\">https://wandb.ai/tejas591995/MLPClassification/runs/8jyyim40</a>"
      ],
      "text/plain": [
       "<IPython.core.display.HTML object>"
      ]
     },
     "metadata": {},
     "output_type": "display_data"
    },
    {
     "name": "stdout",
     "output_type": "stream",
     "text": [
      "Initialized values successfully!\n",
      "Loaded Dataframe!\n",
      "Splitted data into train, test and val sets!\n",
      "-----------------------------------------------\n",
      "Number of Layers       :  4\n",
      "Layer sizes            :  [11, 5, 5, 6]\n",
      "Batch size             :  150\n",
      "Activation Function    :  ReLU\n",
      "Optimization Method    :  mini-batch\n",
      "Learning Rate          :  0.01\n",
      "Num Epoches            :  100\n",
      "-----------------------------------------------\n"
     ]
    },
    {
     "data": {
      "text/html": [
       "Waiting for W&B process to finish... <strong style=\"color:green\">(success).</strong>"
      ],
      "text/plain": [
       "<IPython.core.display.HTML object>"
      ]
     },
     "metadata": {},
     "output_type": "display_data"
    },
    {
     "data": {
      "text/html": [
       "<style>\n",
       "    table.wandb td:nth-child(1) { padding: 0 10px; text-align: left ; width: auto;} td:nth-child(2) {text-align: left ; width: 100%}\n",
       "    .wandb-row { display: flex; flex-direction: row; flex-wrap: wrap; justify-content: flex-start; width: 100% }\n",
       "    .wandb-col { display: flex; flex-direction: column; flex-basis: 100%; flex: 1; padding: 10px; }\n",
       "    </style>\n",
       "<div class=\"wandb-row\"><div class=\"wandb-col\"><h3>Run history:</h3><br/><table class=\"wandb\"><tr><td>acc</td><td>▁▁▂▄▅▅▆▇▇▇▇▇████████████████████████████</td></tr><tr><td>loss</td><td>█▇▅▅▄▄▃▃▃▃▃▂▂▂▂▂▂▂▂▂▂▂▂▂▁▁▁▁▁▁▁▁▁▁▁▁▁▁▁▁</td></tr></table><br/></div><div class=\"wandb-col\"><h3>Run summary:</h3><br/><table class=\"wandb\"><tr><td>acc</td><td>0.538</td></tr><tr><td>loss</td><td>0.198</td></tr></table><br/></div></div>"
      ],
      "text/plain": [
       "<IPython.core.display.HTML object>"
      ]
     },
     "metadata": {},
     "output_type": "display_data"
    },
    {
     "data": {
      "text/html": [
       " View run <strong style=\"color:#cdcd00\">smart-field-30</strong> at: <a href='https://wandb.ai/tejas591995/MLPClassification/runs/8jyyim40' target=\"_blank\">https://wandb.ai/tejas591995/MLPClassification/runs/8jyyim40</a><br/> View job at <a href='https://wandb.ai/tejas591995/MLPClassification/jobs/QXJ0aWZhY3RDb2xsZWN0aW9uOjEwOTIxOTAwNw==/version_details/v0' target=\"_blank\">https://wandb.ai/tejas591995/MLPClassification/jobs/QXJ0aWZhY3RDb2xsZWN0aW9uOjEwOTIxOTAwNw==/version_details/v0</a><br/>Synced 6 W&B file(s), 0 media file(s), 0 artifact file(s) and 0 other file(s)"
      ],
      "text/plain": [
       "<IPython.core.display.HTML object>"
      ]
     },
     "metadata": {},
     "output_type": "display_data"
    },
    {
     "data": {
      "text/html": [
       "Find logs at: <code>./wandb/run-20231023_185412-8jyyim40/logs</code>"
      ],
      "text/plain": [
       "<IPython.core.display.HTML object>"
      ]
     },
     "metadata": {},
     "output_type": "display_data"
    },
    {
     "name": "stdout",
     "output_type": "stream",
     "text": [
      "30\n"
     ]
    },
    {
     "data": {
      "application/vnd.jupyter.widget-view+json": {
       "model_id": "7c92a3bb766440c68648258890fa12fe",
       "version_major": 2,
       "version_minor": 0
      },
      "text/plain": [
       "VBox(children=(Label(value='Waiting for wandb.init()...\\r'), FloatProgress(value=0.011112634588910927, max=1.0…"
      ]
     },
     "metadata": {},
     "output_type": "display_data"
    },
    {
     "data": {
      "text/html": [
       "wandb version 0.15.12 is available!  To upgrade, please run:\n",
       " $ pip install wandb --upgrade"
      ],
      "text/plain": [
       "<IPython.core.display.HTML object>"
      ]
     },
     "metadata": {},
     "output_type": "display_data"
    },
    {
     "data": {
      "text/html": [
       "Tracking run with wandb version 0.15.11"
      ],
      "text/plain": [
       "<IPython.core.display.HTML object>"
      ]
     },
     "metadata": {},
     "output_type": "display_data"
    },
    {
     "data": {
      "text/html": [
       "Run data is saved locally in <code>/home/tejas/Documents/SMAI/assignment-3-MrTejas/q2/wandb/run-20231023_185427-dtkrht7s</code>"
      ],
      "text/plain": [
       "<IPython.core.display.HTML object>"
      ]
     },
     "metadata": {},
     "output_type": "display_data"
    },
    {
     "data": {
      "text/html": [
       "Syncing run <strong><a href='https://wandb.ai/tejas591995/MLPClassification/runs/dtkrht7s' target=\"_blank\">sandy-bird-31</a></strong> to <a href='https://wandb.ai/tejas591995/MLPClassification' target=\"_blank\">Weights & Biases</a> (<a href='https://wandb.me/run' target=\"_blank\">docs</a>)<br/>"
      ],
      "text/plain": [
       "<IPython.core.display.HTML object>"
      ]
     },
     "metadata": {},
     "output_type": "display_data"
    },
    {
     "data": {
      "text/html": [
       " View project at <a href='https://wandb.ai/tejas591995/MLPClassification' target=\"_blank\">https://wandb.ai/tejas591995/MLPClassification</a>"
      ],
      "text/plain": [
       "<IPython.core.display.HTML object>"
      ]
     },
     "metadata": {},
     "output_type": "display_data"
    },
    {
     "data": {
      "text/html": [
       " View run at <a href='https://wandb.ai/tejas591995/MLPClassification/runs/dtkrht7s' target=\"_blank\">https://wandb.ai/tejas591995/MLPClassification/runs/dtkrht7s</a>"
      ],
      "text/plain": [
       "<IPython.core.display.HTML object>"
      ]
     },
     "metadata": {},
     "output_type": "display_data"
    },
    {
     "name": "stdout",
     "output_type": "stream",
     "text": [
      "Initialized values successfully!\n",
      "Loaded Dataframe!\n",
      "Splitted data into train, test and val sets!\n",
      "-----------------------------------------------\n",
      "Number of Layers       :  4\n",
      "Layer sizes            :  [11, 5, 5, 6]\n",
      "Batch size             :  200\n",
      "Activation Function    :  ReLU\n",
      "Optimization Method    :  mini-batch\n",
      "Learning Rate          :  0.01\n",
      "Num Epoches            :  100\n",
      "-----------------------------------------------\n"
     ]
    },
    {
     "data": {
      "text/html": [
       "Waiting for W&B process to finish... <strong style=\"color:green\">(success).</strong>"
      ],
      "text/plain": [
       "<IPython.core.display.HTML object>"
      ]
     },
     "metadata": {},
     "output_type": "display_data"
    },
    {
     "data": {
      "text/html": [
       "<style>\n",
       "    table.wandb td:nth-child(1) { padding: 0 10px; text-align: left ; width: auto;} td:nth-child(2) {text-align: left ; width: 100%}\n",
       "    .wandb-row { display: flex; flex-direction: row; flex-wrap: wrap; justify-content: flex-start; width: 100% }\n",
       "    .wandb-col { display: flex; flex-direction: column; flex-basis: 100%; flex: 1; padding: 10px; }\n",
       "    </style>\n",
       "<div class=\"wandb-row\"><div class=\"wandb-col\"><h3>Run history:</h3><br/><table class=\"wandb\"><tr><td>acc</td><td>▁▂▄▄▄▄▄▅▅▅▅▅▇▇▇█████████████████████████</td></tr><tr><td>loss</td><td>█▇▆▆▅▅▅▅▅▄▄▄▃▃▂▂▂▂▂▂▂▂▂▂▂▂▂▁▁▁▁▁▁▁▁▁▁▁▁▁</td></tr></table><br/></div><div class=\"wandb-col\"><h3>Run summary:</h3><br/><table class=\"wandb\"><tr><td>acc</td><td>0.44</td></tr><tr><td>loss</td><td>0.18</td></tr></table><br/></div></div>"
      ],
      "text/plain": [
       "<IPython.core.display.HTML object>"
      ]
     },
     "metadata": {},
     "output_type": "display_data"
    },
    {
     "data": {
      "text/html": [
       " View run <strong style=\"color:#cdcd00\">sandy-bird-31</strong> at: <a href='https://wandb.ai/tejas591995/MLPClassification/runs/dtkrht7s' target=\"_blank\">https://wandb.ai/tejas591995/MLPClassification/runs/dtkrht7s</a><br/> View job at <a href='https://wandb.ai/tejas591995/MLPClassification/jobs/QXJ0aWZhY3RDb2xsZWN0aW9uOjEwOTIxOTAwNw==/version_details/v0' target=\"_blank\">https://wandb.ai/tejas591995/MLPClassification/jobs/QXJ0aWZhY3RDb2xsZWN0aW9uOjEwOTIxOTAwNw==/version_details/v0</a><br/>Synced 6 W&B file(s), 0 media file(s), 0 artifact file(s) and 0 other file(s)"
      ],
      "text/plain": [
       "<IPython.core.display.HTML object>"
      ]
     },
     "metadata": {},
     "output_type": "display_data"
    },
    {
     "data": {
      "text/html": [
       "Find logs at: <code>./wandb/run-20231023_185427-dtkrht7s/logs</code>"
      ],
      "text/plain": [
       "<IPython.core.display.HTML object>"
      ]
     },
     "metadata": {},
     "output_type": "display_data"
    },
    {
     "name": "stdout",
     "output_type": "stream",
     "text": [
      "31\n"
     ]
    },
    {
     "data": {
      "application/vnd.jupyter.widget-view+json": {
       "model_id": "90f903b24a1349c0885075d625592590",
       "version_major": 2,
       "version_minor": 0
      },
      "text/plain": [
       "VBox(children=(Label(value='Waiting for wandb.init()...\\r'), FloatProgress(value=0.011112693744467429, max=1.0…"
      ]
     },
     "metadata": {},
     "output_type": "display_data"
    },
    {
     "data": {
      "text/html": [
       "wandb version 0.15.12 is available!  To upgrade, please run:\n",
       " $ pip install wandb --upgrade"
      ],
      "text/plain": [
       "<IPython.core.display.HTML object>"
      ]
     },
     "metadata": {},
     "output_type": "display_data"
    },
    {
     "data": {
      "text/html": [
       "Tracking run with wandb version 0.15.11"
      ],
      "text/plain": [
       "<IPython.core.display.HTML object>"
      ]
     },
     "metadata": {},
     "output_type": "display_data"
    },
    {
     "data": {
      "text/html": [
       "Run data is saved locally in <code>/home/tejas/Documents/SMAI/assignment-3-MrTejas/q2/wandb/run-20231023_185442-zoqlnvva</code>"
      ],
      "text/plain": [
       "<IPython.core.display.HTML object>"
      ]
     },
     "metadata": {},
     "output_type": "display_data"
    },
    {
     "data": {
      "text/html": [
       "Syncing run <strong><a href='https://wandb.ai/tejas591995/MLPClassification/runs/zoqlnvva' target=\"_blank\">prime-sun-32</a></strong> to <a href='https://wandb.ai/tejas591995/MLPClassification' target=\"_blank\">Weights & Biases</a> (<a href='https://wandb.me/run' target=\"_blank\">docs</a>)<br/>"
      ],
      "text/plain": [
       "<IPython.core.display.HTML object>"
      ]
     },
     "metadata": {},
     "output_type": "display_data"
    },
    {
     "data": {
      "text/html": [
       " View project at <a href='https://wandb.ai/tejas591995/MLPClassification' target=\"_blank\">https://wandb.ai/tejas591995/MLPClassification</a>"
      ],
      "text/plain": [
       "<IPython.core.display.HTML object>"
      ]
     },
     "metadata": {},
     "output_type": "display_data"
    },
    {
     "data": {
      "text/html": [
       " View run at <a href='https://wandb.ai/tejas591995/MLPClassification/runs/zoqlnvva' target=\"_blank\">https://wandb.ai/tejas591995/MLPClassification/runs/zoqlnvva</a>"
      ],
      "text/plain": [
       "<IPython.core.display.HTML object>"
      ]
     },
     "metadata": {},
     "output_type": "display_data"
    },
    {
     "name": "stdout",
     "output_type": "stream",
     "text": [
      "Initialized values successfully!\n",
      "Loaded Dataframe!\n",
      "Splitted data into train, test and val sets!\n",
      "-----------------------------------------------\n",
      "Number of Layers       :  4\n",
      "Layer sizes            :  [11, 5, 5, 6]\n",
      "Batch size             :  250\n",
      "Activation Function    :  ReLU\n",
      "Optimization Method    :  mini-batch\n",
      "Learning Rate          :  0.01\n",
      "Num Epoches            :  100\n",
      "-----------------------------------------------\n"
     ]
    },
    {
     "data": {
      "text/html": [
       "Waiting for W&B process to finish... <strong style=\"color:green\">(success).</strong>"
      ],
      "text/plain": [
       "<IPython.core.display.HTML object>"
      ]
     },
     "metadata": {},
     "output_type": "display_data"
    },
    {
     "data": {
      "text/html": [
       "<style>\n",
       "    table.wandb td:nth-child(1) { padding: 0 10px; text-align: left ; width: auto;} td:nth-child(2) {text-align: left ; width: 100%}\n",
       "    .wandb-row { display: flex; flex-direction: row; flex-wrap: wrap; justify-content: flex-start; width: 100% }\n",
       "    .wandb-col { display: flex; flex-direction: column; flex-basis: 100%; flex: 1; padding: 10px; }\n",
       "    </style>\n",
       "<div class=\"wandb-row\"><div class=\"wandb-col\"><h3>Run history:</h3><br/><table class=\"wandb\"><tr><td>acc</td><td>▁▁▂▂▂▂▃▄▄▄▅▅▆▆▆▆▆▆▆▆▆▆▆▆▆▆▆▇▇▇██▇▇██████</td></tr><tr><td>loss</td><td>█▇▆▆▅▅▅▅▅▅▅▄▄▄▄▄▄▄▄▄▃▃▃▃▃▃▃▂▂▂▂▂▂▂▂▁▁▁▁▁</td></tr></table><br/></div><div class=\"wandb-col\"><h3>Run summary:</h3><br/><table class=\"wandb\"><tr><td>acc</td><td>0.398</td></tr><tr><td>loss</td><td>0.183</td></tr></table><br/></div></div>"
      ],
      "text/plain": [
       "<IPython.core.display.HTML object>"
      ]
     },
     "metadata": {},
     "output_type": "display_data"
    },
    {
     "data": {
      "text/html": [
       " View run <strong style=\"color:#cdcd00\">prime-sun-32</strong> at: <a href='https://wandb.ai/tejas591995/MLPClassification/runs/zoqlnvva' target=\"_blank\">https://wandb.ai/tejas591995/MLPClassification/runs/zoqlnvva</a><br/> View job at <a href='https://wandb.ai/tejas591995/MLPClassification/jobs/QXJ0aWZhY3RDb2xsZWN0aW9uOjEwOTIxOTAwNw==/version_details/v0' target=\"_blank\">https://wandb.ai/tejas591995/MLPClassification/jobs/QXJ0aWZhY3RDb2xsZWN0aW9uOjEwOTIxOTAwNw==/version_details/v0</a><br/>Synced 6 W&B file(s), 0 media file(s), 0 artifact file(s) and 0 other file(s)"
      ],
      "text/plain": [
       "<IPython.core.display.HTML object>"
      ]
     },
     "metadata": {},
     "output_type": "display_data"
    },
    {
     "data": {
      "text/html": [
       "Find logs at: <code>./wandb/run-20231023_185442-zoqlnvva/logs</code>"
      ],
      "text/plain": [
       "<IPython.core.display.HTML object>"
      ]
     },
     "metadata": {},
     "output_type": "display_data"
    },
    {
     "name": "stdout",
     "output_type": "stream",
     "text": [
      "32\n"
     ]
    },
    {
     "data": {
      "application/vnd.jupyter.widget-view+json": {
       "model_id": "a56e7d2946cf45e1a7459b24a87d25a5",
       "version_major": 2,
       "version_minor": 0
      },
      "text/plain": [
       "VBox(children=(Label(value='Waiting for wandb.init()...\\r'), FloatProgress(value=0.011114199666675024, max=1.0…"
      ]
     },
     "metadata": {},
     "output_type": "display_data"
    },
    {
     "data": {
      "text/html": [
       "wandb version 0.15.12 is available!  To upgrade, please run:\n",
       " $ pip install wandb --upgrade"
      ],
      "text/plain": [
       "<IPython.core.display.HTML object>"
      ]
     },
     "metadata": {},
     "output_type": "display_data"
    },
    {
     "data": {
      "text/html": [
       "Tracking run with wandb version 0.15.11"
      ],
      "text/plain": [
       "<IPython.core.display.HTML object>"
      ]
     },
     "metadata": {},
     "output_type": "display_data"
    },
    {
     "data": {
      "text/html": [
       "Run data is saved locally in <code>/home/tejas/Documents/SMAI/assignment-3-MrTejas/q2/wandb/run-20231023_185457-xgk4co8i</code>"
      ],
      "text/plain": [
       "<IPython.core.display.HTML object>"
      ]
     },
     "metadata": {},
     "output_type": "display_data"
    },
    {
     "data": {
      "text/html": [
       "Syncing run <strong><a href='https://wandb.ai/tejas591995/MLPClassification/runs/xgk4co8i' target=\"_blank\">iconic-aardvark-33</a></strong> to <a href='https://wandb.ai/tejas591995/MLPClassification' target=\"_blank\">Weights & Biases</a> (<a href='https://wandb.me/run' target=\"_blank\">docs</a>)<br/>"
      ],
      "text/plain": [
       "<IPython.core.display.HTML object>"
      ]
     },
     "metadata": {},
     "output_type": "display_data"
    },
    {
     "data": {
      "text/html": [
       " View project at <a href='https://wandb.ai/tejas591995/MLPClassification' target=\"_blank\">https://wandb.ai/tejas591995/MLPClassification</a>"
      ],
      "text/plain": [
       "<IPython.core.display.HTML object>"
      ]
     },
     "metadata": {},
     "output_type": "display_data"
    },
    {
     "data": {
      "text/html": [
       " View run at <a href='https://wandb.ai/tejas591995/MLPClassification/runs/xgk4co8i' target=\"_blank\">https://wandb.ai/tejas591995/MLPClassification/runs/xgk4co8i</a>"
      ],
      "text/plain": [
       "<IPython.core.display.HTML object>"
      ]
     },
     "metadata": {},
     "output_type": "display_data"
    },
    {
     "name": "stdout",
     "output_type": "stream",
     "text": [
      "Initialized values successfully!\n",
      "Loaded Dataframe!\n",
      "Splitted data into train, test and val sets!\n",
      "-----------------------------------------------\n",
      "Number of Layers       :  4\n",
      "Layer sizes            :  [11, 5, 5, 6]\n",
      "Batch size             :  100\n",
      "Activation Function    :  sigmoid\n",
      "Optimization Method    :  mini-batch\n",
      "Learning Rate          :  0.01\n",
      "Num Epoches            :  100\n",
      "-----------------------------------------------\n"
     ]
    },
    {
     "data": {
      "text/html": [
       "Waiting for W&B process to finish... <strong style=\"color:green\">(success).</strong>"
      ],
      "text/plain": [
       "<IPython.core.display.HTML object>"
      ]
     },
     "metadata": {},
     "output_type": "display_data"
    },
    {
     "data": {
      "text/html": [
       "<style>\n",
       "    table.wandb td:nth-child(1) { padding: 0 10px; text-align: left ; width: auto;} td:nth-child(2) {text-align: left ; width: 100%}\n",
       "    .wandb-row { display: flex; flex-direction: row; flex-wrap: wrap; justify-content: flex-start; width: 100% }\n",
       "    .wandb-col { display: flex; flex-direction: column; flex-basis: 100%; flex: 1; padding: 10px; }\n",
       "    </style>\n",
       "<div class=\"wandb-row\"><div class=\"wandb-col\"><h3>Run history:</h3><br/><table class=\"wandb\"><tr><td>acc</td><td>▁▁▃▃▄▅▆▆▇███████████████████████████████</td></tr><tr><td>loss</td><td>████▇▇▇▇▆▆▆▆▆▅▅▅▅▅▅▅▄▄▄▄▄▃▃▃▃▃▂▂▂▂▂▁▁▁▁▁</td></tr></table><br/></div><div class=\"wandb-col\"><h3>Run summary:</h3><br/><table class=\"wandb\"><tr><td>acc</td><td>0.391</td></tr><tr><td>loss</td><td>0.278</td></tr></table><br/></div></div>"
      ],
      "text/plain": [
       "<IPython.core.display.HTML object>"
      ]
     },
     "metadata": {},
     "output_type": "display_data"
    },
    {
     "data": {
      "text/html": [
       " View run <strong style=\"color:#cdcd00\">iconic-aardvark-33</strong> at: <a href='https://wandb.ai/tejas591995/MLPClassification/runs/xgk4co8i' target=\"_blank\">https://wandb.ai/tejas591995/MLPClassification/runs/xgk4co8i</a><br/> View job at <a href='https://wandb.ai/tejas591995/MLPClassification/jobs/QXJ0aWZhY3RDb2xsZWN0aW9uOjEwOTIxOTAwNw==/version_details/v0' target=\"_blank\">https://wandb.ai/tejas591995/MLPClassification/jobs/QXJ0aWZhY3RDb2xsZWN0aW9uOjEwOTIxOTAwNw==/version_details/v0</a><br/>Synced 6 W&B file(s), 0 media file(s), 0 artifact file(s) and 0 other file(s)"
      ],
      "text/plain": [
       "<IPython.core.display.HTML object>"
      ]
     },
     "metadata": {},
     "output_type": "display_data"
    },
    {
     "data": {
      "text/html": [
       "Find logs at: <code>./wandb/run-20231023_185457-xgk4co8i/logs</code>"
      ],
      "text/plain": [
       "<IPython.core.display.HTML object>"
      ]
     },
     "metadata": {},
     "output_type": "display_data"
    },
    {
     "name": "stdout",
     "output_type": "stream",
     "text": [
      "33\n"
     ]
    },
    {
     "data": {
      "application/vnd.jupyter.widget-view+json": {
       "model_id": "0ed2e17863bc490c9cbb6045da98328a",
       "version_major": 2,
       "version_minor": 0
      },
      "text/plain": [
       "VBox(children=(Label(value='Waiting for wandb.init()...\\r'), FloatProgress(value=0.011112758155569382, max=1.0…"
      ]
     },
     "metadata": {},
     "output_type": "display_data"
    },
    {
     "data": {
      "text/html": [
       "wandb version 0.15.12 is available!  To upgrade, please run:\n",
       " $ pip install wandb --upgrade"
      ],
      "text/plain": [
       "<IPython.core.display.HTML object>"
      ]
     },
     "metadata": {},
     "output_type": "display_data"
    },
    {
     "data": {
      "text/html": [
       "Tracking run with wandb version 0.15.11"
      ],
      "text/plain": [
       "<IPython.core.display.HTML object>"
      ]
     },
     "metadata": {},
     "output_type": "display_data"
    },
    {
     "data": {
      "text/html": [
       "Run data is saved locally in <code>/home/tejas/Documents/SMAI/assignment-3-MrTejas/q2/wandb/run-20231023_185512-2gslthm3</code>"
      ],
      "text/plain": [
       "<IPython.core.display.HTML object>"
      ]
     },
     "metadata": {},
     "output_type": "display_data"
    },
    {
     "data": {
      "text/html": [
       "Syncing run <strong><a href='https://wandb.ai/tejas591995/MLPClassification/runs/2gslthm3' target=\"_blank\">solar-fog-34</a></strong> to <a href='https://wandb.ai/tejas591995/MLPClassification' target=\"_blank\">Weights & Biases</a> (<a href='https://wandb.me/run' target=\"_blank\">docs</a>)<br/>"
      ],
      "text/plain": [
       "<IPython.core.display.HTML object>"
      ]
     },
     "metadata": {},
     "output_type": "display_data"
    },
    {
     "data": {
      "text/html": [
       " View project at <a href='https://wandb.ai/tejas591995/MLPClassification' target=\"_blank\">https://wandb.ai/tejas591995/MLPClassification</a>"
      ],
      "text/plain": [
       "<IPython.core.display.HTML object>"
      ]
     },
     "metadata": {},
     "output_type": "display_data"
    },
    {
     "data": {
      "text/html": [
       " View run at <a href='https://wandb.ai/tejas591995/MLPClassification/runs/2gslthm3' target=\"_blank\">https://wandb.ai/tejas591995/MLPClassification/runs/2gslthm3</a>"
      ],
      "text/plain": [
       "<IPython.core.display.HTML object>"
      ]
     },
     "metadata": {},
     "output_type": "display_data"
    },
    {
     "name": "stdout",
     "output_type": "stream",
     "text": [
      "Initialized values successfully!\n",
      "Loaded Dataframe!\n",
      "Splitted data into train, test and val sets!\n",
      "-----------------------------------------------\n",
      "Number of Layers       :  4\n",
      "Layer sizes            :  [11, 5, 5, 6]\n",
      "Batch size             :  150\n",
      "Activation Function    :  sigmoid\n",
      "Optimization Method    :  mini-batch\n",
      "Learning Rate          :  0.01\n",
      "Num Epoches            :  100\n",
      "-----------------------------------------------\n"
     ]
    },
    {
     "data": {
      "text/html": [
       "Waiting for W&B process to finish... <strong style=\"color:green\">(success).</strong>"
      ],
      "text/plain": [
       "<IPython.core.display.HTML object>"
      ]
     },
     "metadata": {},
     "output_type": "display_data"
    },
    {
     "data": {
      "text/html": [
       "<style>\n",
       "    table.wandb td:nth-child(1) { padding: 0 10px; text-align: left ; width: auto;} td:nth-child(2) {text-align: left ; width: 100%}\n",
       "    .wandb-row { display: flex; flex-direction: row; flex-wrap: wrap; justify-content: flex-start; width: 100% }\n",
       "    .wandb-col { display: flex; flex-direction: column; flex-basis: 100%; flex: 1; padding: 10px; }\n",
       "    </style>\n",
       "<div class=\"wandb-row\"><div class=\"wandb-col\"><h3>Run history:</h3><br/><table class=\"wandb\"><tr><td>acc</td><td>▁▂▃▄▅▆▆▆████████████████████████████████</td></tr><tr><td>loss</td><td>███▇▇▇▇▇▆▆▆▆▆▆▆▆▅▅▅▅▅▄▄▄▄▃▃▃▃▃▃▃▃▃▃▂▂▂▂▁</td></tr></table><br/></div><div class=\"wandb-col\"><h3>Run summary:</h3><br/><table class=\"wandb\"><tr><td>acc</td><td>0.417</td></tr><tr><td>loss</td><td>0.272</td></tr></table><br/></div></div>"
      ],
      "text/plain": [
       "<IPython.core.display.HTML object>"
      ]
     },
     "metadata": {},
     "output_type": "display_data"
    },
    {
     "data": {
      "text/html": [
       " View run <strong style=\"color:#cdcd00\">solar-fog-34</strong> at: <a href='https://wandb.ai/tejas591995/MLPClassification/runs/2gslthm3' target=\"_blank\">https://wandb.ai/tejas591995/MLPClassification/runs/2gslthm3</a><br/> View job at <a href='https://wandb.ai/tejas591995/MLPClassification/jobs/QXJ0aWZhY3RDb2xsZWN0aW9uOjEwOTIxOTAwNw==/version_details/v0' target=\"_blank\">https://wandb.ai/tejas591995/MLPClassification/jobs/QXJ0aWZhY3RDb2xsZWN0aW9uOjEwOTIxOTAwNw==/version_details/v0</a><br/>Synced 6 W&B file(s), 0 media file(s), 0 artifact file(s) and 0 other file(s)"
      ],
      "text/plain": [
       "<IPython.core.display.HTML object>"
      ]
     },
     "metadata": {},
     "output_type": "display_data"
    },
    {
     "data": {
      "text/html": [
       "Find logs at: <code>./wandb/run-20231023_185512-2gslthm3/logs</code>"
      ],
      "text/plain": [
       "<IPython.core.display.HTML object>"
      ]
     },
     "metadata": {},
     "output_type": "display_data"
    },
    {
     "name": "stdout",
     "output_type": "stream",
     "text": [
      "34\n"
     ]
    },
    {
     "data": {
      "application/vnd.jupyter.widget-view+json": {
       "model_id": "1b7b4d7f33fa48f885a56a68b1ff33d8",
       "version_major": 2,
       "version_minor": 0
      },
      "text/plain": [
       "VBox(children=(Label(value='Waiting for wandb.init()...\\r'), FloatProgress(value=0.011113016611084782, max=1.0…"
      ]
     },
     "metadata": {},
     "output_type": "display_data"
    },
    {
     "data": {
      "text/html": [
       "wandb version 0.15.12 is available!  To upgrade, please run:\n",
       " $ pip install wandb --upgrade"
      ],
      "text/plain": [
       "<IPython.core.display.HTML object>"
      ]
     },
     "metadata": {},
     "output_type": "display_data"
    },
    {
     "data": {
      "text/html": [
       "Tracking run with wandb version 0.15.11"
      ],
      "text/plain": [
       "<IPython.core.display.HTML object>"
      ]
     },
     "metadata": {},
     "output_type": "display_data"
    },
    {
     "data": {
      "text/html": [
       "Run data is saved locally in <code>/home/tejas/Documents/SMAI/assignment-3-MrTejas/q2/wandb/run-20231023_185526-q0cyn311</code>"
      ],
      "text/plain": [
       "<IPython.core.display.HTML object>"
      ]
     },
     "metadata": {},
     "output_type": "display_data"
    },
    {
     "data": {
      "text/html": [
       "Syncing run <strong><a href='https://wandb.ai/tejas591995/MLPClassification/runs/q0cyn311' target=\"_blank\">hearty-forest-35</a></strong> to <a href='https://wandb.ai/tejas591995/MLPClassification' target=\"_blank\">Weights & Biases</a> (<a href='https://wandb.me/run' target=\"_blank\">docs</a>)<br/>"
      ],
      "text/plain": [
       "<IPython.core.display.HTML object>"
      ]
     },
     "metadata": {},
     "output_type": "display_data"
    },
    {
     "data": {
      "text/html": [
       " View project at <a href='https://wandb.ai/tejas591995/MLPClassification' target=\"_blank\">https://wandb.ai/tejas591995/MLPClassification</a>"
      ],
      "text/plain": [
       "<IPython.core.display.HTML object>"
      ]
     },
     "metadata": {},
     "output_type": "display_data"
    },
    {
     "data": {
      "text/html": [
       " View run at <a href='https://wandb.ai/tejas591995/MLPClassification/runs/q0cyn311' target=\"_blank\">https://wandb.ai/tejas591995/MLPClassification/runs/q0cyn311</a>"
      ],
      "text/plain": [
       "<IPython.core.display.HTML object>"
      ]
     },
     "metadata": {},
     "output_type": "display_data"
    },
    {
     "name": "stdout",
     "output_type": "stream",
     "text": [
      "Initialized values successfully!\n",
      "Loaded Dataframe!\n",
      "Splitted data into train, test and val sets!\n",
      "-----------------------------------------------\n",
      "Number of Layers       :  4\n",
      "Layer sizes            :  [11, 5, 5, 6]\n",
      "Batch size             :  200\n",
      "Activation Function    :  sigmoid\n",
      "Optimization Method    :  mini-batch\n",
      "Learning Rate          :  0.01\n",
      "Num Epoches            :  100\n",
      "-----------------------------------------------\n"
     ]
    },
    {
     "data": {
      "text/html": [
       "Waiting for W&B process to finish... <strong style=\"color:green\">(success).</strong>"
      ],
      "text/plain": [
       "<IPython.core.display.HTML object>"
      ]
     },
     "metadata": {},
     "output_type": "display_data"
    },
    {
     "data": {
      "text/html": [
       "<style>\n",
       "    table.wandb td:nth-child(1) { padding: 0 10px; text-align: left ; width: auto;} td:nth-child(2) {text-align: left ; width: 100%}\n",
       "    .wandb-row { display: flex; flex-direction: row; flex-wrap: wrap; justify-content: flex-start; width: 100% }\n",
       "    .wandb-col { display: flex; flex-direction: column; flex-basis: 100%; flex: 1; padding: 10px; }\n",
       "    </style>\n",
       "<div class=\"wandb-row\"><div class=\"wandb-col\"><h3>Run history:</h3><br/><table class=\"wandb\"><tr><td>acc</td><td>▁▁▁▁▁▁▁▁▁▁▁▁▁▁▁▁▁▁▁▁▁▁▁▁▁▁▁▂▂▃▄▄▅▅▆▆▇███</td></tr><tr><td>loss</td><td>██▇▇▇▇▇▇▇▇▆▆▆▅▅▅▅▅▅▅▅▄▄▄▄▃▃▃▂▂▂▂▂▂▂▂▁▁▁▁</td></tr></table><br/></div><div class=\"wandb-col\"><h3>Run summary:</h3><br/><table class=\"wandb\"><tr><td>acc</td><td>0.345</td></tr><tr><td>loss</td><td>0.258</td></tr></table><br/></div></div>"
      ],
      "text/plain": [
       "<IPython.core.display.HTML object>"
      ]
     },
     "metadata": {},
     "output_type": "display_data"
    },
    {
     "data": {
      "text/html": [
       " View run <strong style=\"color:#cdcd00\">hearty-forest-35</strong> at: <a href='https://wandb.ai/tejas591995/MLPClassification/runs/q0cyn311' target=\"_blank\">https://wandb.ai/tejas591995/MLPClassification/runs/q0cyn311</a><br/> View job at <a href='https://wandb.ai/tejas591995/MLPClassification/jobs/QXJ0aWZhY3RDb2xsZWN0aW9uOjEwOTIxOTAwNw==/version_details/v0' target=\"_blank\">https://wandb.ai/tejas591995/MLPClassification/jobs/QXJ0aWZhY3RDb2xsZWN0aW9uOjEwOTIxOTAwNw==/version_details/v0</a><br/>Synced 6 W&B file(s), 0 media file(s), 0 artifact file(s) and 0 other file(s)"
      ],
      "text/plain": [
       "<IPython.core.display.HTML object>"
      ]
     },
     "metadata": {},
     "output_type": "display_data"
    },
    {
     "data": {
      "text/html": [
       "Find logs at: <code>./wandb/run-20231023_185526-q0cyn311/logs</code>"
      ],
      "text/plain": [
       "<IPython.core.display.HTML object>"
      ]
     },
     "metadata": {},
     "output_type": "display_data"
    },
    {
     "name": "stdout",
     "output_type": "stream",
     "text": [
      "35\n"
     ]
    },
    {
     "data": {
      "application/vnd.jupyter.widget-view+json": {
       "model_id": "64fdfb06d2b6450aa3895ed0de183b08",
       "version_major": 2,
       "version_minor": 0
      },
      "text/plain": [
       "VBox(children=(Label(value='Waiting for wandb.init()...\\r'), FloatProgress(value=0.011114237411109368, max=1.0…"
      ]
     },
     "metadata": {},
     "output_type": "display_data"
    },
    {
     "data": {
      "text/html": [
       "wandb version 0.15.12 is available!  To upgrade, please run:\n",
       " $ pip install wandb --upgrade"
      ],
      "text/plain": [
       "<IPython.core.display.HTML object>"
      ]
     },
     "metadata": {},
     "output_type": "display_data"
    },
    {
     "data": {
      "text/html": [
       "Tracking run with wandb version 0.15.11"
      ],
      "text/plain": [
       "<IPython.core.display.HTML object>"
      ]
     },
     "metadata": {},
     "output_type": "display_data"
    },
    {
     "data": {
      "text/html": [
       "Run data is saved locally in <code>/home/tejas/Documents/SMAI/assignment-3-MrTejas/q2/wandb/run-20231023_185541-qgii8ze9</code>"
      ],
      "text/plain": [
       "<IPython.core.display.HTML object>"
      ]
     },
     "metadata": {},
     "output_type": "display_data"
    },
    {
     "data": {
      "text/html": [
       "Syncing run <strong><a href='https://wandb.ai/tejas591995/MLPClassification/runs/qgii8ze9' target=\"_blank\">earnest-salad-36</a></strong> to <a href='https://wandb.ai/tejas591995/MLPClassification' target=\"_blank\">Weights & Biases</a> (<a href='https://wandb.me/run' target=\"_blank\">docs</a>)<br/>"
      ],
      "text/plain": [
       "<IPython.core.display.HTML object>"
      ]
     },
     "metadata": {},
     "output_type": "display_data"
    },
    {
     "data": {
      "text/html": [
       " View project at <a href='https://wandb.ai/tejas591995/MLPClassification' target=\"_blank\">https://wandb.ai/tejas591995/MLPClassification</a>"
      ],
      "text/plain": [
       "<IPython.core.display.HTML object>"
      ]
     },
     "metadata": {},
     "output_type": "display_data"
    },
    {
     "data": {
      "text/html": [
       " View run at <a href='https://wandb.ai/tejas591995/MLPClassification/runs/qgii8ze9' target=\"_blank\">https://wandb.ai/tejas591995/MLPClassification/runs/qgii8ze9</a>"
      ],
      "text/plain": [
       "<IPython.core.display.HTML object>"
      ]
     },
     "metadata": {},
     "output_type": "display_data"
    },
    {
     "name": "stdout",
     "output_type": "stream",
     "text": [
      "Initialized values successfully!\n",
      "Loaded Dataframe!\n",
      "Splitted data into train, test and val sets!\n",
      "-----------------------------------------------\n",
      "Number of Layers       :  4\n",
      "Layer sizes            :  [11, 5, 5, 6]\n",
      "Batch size             :  250\n",
      "Activation Function    :  sigmoid\n",
      "Optimization Method    :  mini-batch\n",
      "Learning Rate          :  0.01\n",
      "Num Epoches            :  100\n",
      "-----------------------------------------------\n"
     ]
    },
    {
     "data": {
      "text/html": [
       "Waiting for W&B process to finish... <strong style=\"color:green\">(success).</strong>"
      ],
      "text/plain": [
       "<IPython.core.display.HTML object>"
      ]
     },
     "metadata": {},
     "output_type": "display_data"
    },
    {
     "data": {
      "text/html": [
       "<style>\n",
       "    table.wandb td:nth-child(1) { padding: 0 10px; text-align: left ; width: auto;} td:nth-child(2) {text-align: left ; width: 100%}\n",
       "    .wandb-row { display: flex; flex-direction: row; flex-wrap: wrap; justify-content: flex-start; width: 100% }\n",
       "    .wandb-col { display: flex; flex-direction: column; flex-basis: 100%; flex: 1; padding: 10px; }\n",
       "    </style>\n",
       "<div class=\"wandb-row\"><div class=\"wandb-col\"><h3>Run history:</h3><br/><table class=\"wandb\"><tr><td>acc</td><td>▁▁▁▁▁▁▁▁▁▁▁▁▁▁▁▁▁▁▁▁▁▁▁▁▁▁▁▁▁▁▁▁▁▁▁▁▁▁▁▁</td></tr><tr><td>loss</td><td>██▇▇▇▇▇▇▇▇▅▅▅▅▅▅▅▄▄▄▄▄▄▄▄▂▂▂▂▂▂▂▂▁▁▁▁▁▁▁</td></tr></table><br/></div><div class=\"wandb-col\"><h3>Run summary:</h3><br/><table class=\"wandb\"><tr><td>acc</td><td>0.005</td></tr><tr><td>loss</td><td>0.253</td></tr></table><br/></div></div>"
      ],
      "text/plain": [
       "<IPython.core.display.HTML object>"
      ]
     },
     "metadata": {},
     "output_type": "display_data"
    },
    {
     "data": {
      "text/html": [
       " View run <strong style=\"color:#cdcd00\">earnest-salad-36</strong> at: <a href='https://wandb.ai/tejas591995/MLPClassification/runs/qgii8ze9' target=\"_blank\">https://wandb.ai/tejas591995/MLPClassification/runs/qgii8ze9</a><br/> View job at <a href='https://wandb.ai/tejas591995/MLPClassification/jobs/QXJ0aWZhY3RDb2xsZWN0aW9uOjEwOTIxOTAwNw==/version_details/v0' target=\"_blank\">https://wandb.ai/tejas591995/MLPClassification/jobs/QXJ0aWZhY3RDb2xsZWN0aW9uOjEwOTIxOTAwNw==/version_details/v0</a><br/>Synced 6 W&B file(s), 0 media file(s), 0 artifact file(s) and 0 other file(s)"
      ],
      "text/plain": [
       "<IPython.core.display.HTML object>"
      ]
     },
     "metadata": {},
     "output_type": "display_data"
    },
    {
     "data": {
      "text/html": [
       "Find logs at: <code>./wandb/run-20231023_185541-qgii8ze9/logs</code>"
      ],
      "text/plain": [
       "<IPython.core.display.HTML object>"
      ]
     },
     "metadata": {},
     "output_type": "display_data"
    },
    {
     "name": "stdout",
     "output_type": "stream",
     "text": [
      "36\n"
     ]
    },
    {
     "data": {
      "application/vnd.jupyter.widget-view+json": {
       "model_id": "76b9c6d8911d4490a92470338364a085",
       "version_major": 2,
       "version_minor": 0
      },
      "text/plain": [
       "VBox(children=(Label(value='Waiting for wandb.init()...\\r'), FloatProgress(value=0.011113943288890166, max=1.0…"
      ]
     },
     "metadata": {},
     "output_type": "display_data"
    },
    {
     "data": {
      "text/html": [
       "wandb version 0.15.12 is available!  To upgrade, please run:\n",
       " $ pip install wandb --upgrade"
      ],
      "text/plain": [
       "<IPython.core.display.HTML object>"
      ]
     },
     "metadata": {},
     "output_type": "display_data"
    },
    {
     "data": {
      "text/html": [
       "Tracking run with wandb version 0.15.11"
      ],
      "text/plain": [
       "<IPython.core.display.HTML object>"
      ]
     },
     "metadata": {},
     "output_type": "display_data"
    },
    {
     "data": {
      "text/html": [
       "Run data is saved locally in <code>/home/tejas/Documents/SMAI/assignment-3-MrTejas/q2/wandb/run-20231023_185556-5udp3dkm</code>"
      ],
      "text/plain": [
       "<IPython.core.display.HTML object>"
      ]
     },
     "metadata": {},
     "output_type": "display_data"
    },
    {
     "data": {
      "text/html": [
       "Syncing run <strong><a href='https://wandb.ai/tejas591995/MLPClassification/runs/5udp3dkm' target=\"_blank\">stoic-flower-37</a></strong> to <a href='https://wandb.ai/tejas591995/MLPClassification' target=\"_blank\">Weights & Biases</a> (<a href='https://wandb.me/run' target=\"_blank\">docs</a>)<br/>"
      ],
      "text/plain": [
       "<IPython.core.display.HTML object>"
      ]
     },
     "metadata": {},
     "output_type": "display_data"
    },
    {
     "data": {
      "text/html": [
       " View project at <a href='https://wandb.ai/tejas591995/MLPClassification' target=\"_blank\">https://wandb.ai/tejas591995/MLPClassification</a>"
      ],
      "text/plain": [
       "<IPython.core.display.HTML object>"
      ]
     },
     "metadata": {},
     "output_type": "display_data"
    },
    {
     "data": {
      "text/html": [
       " View run at <a href='https://wandb.ai/tejas591995/MLPClassification/runs/5udp3dkm' target=\"_blank\">https://wandb.ai/tejas591995/MLPClassification/runs/5udp3dkm</a>"
      ],
      "text/plain": [
       "<IPython.core.display.HTML object>"
      ]
     },
     "metadata": {},
     "output_type": "display_data"
    },
    {
     "name": "stdout",
     "output_type": "stream",
     "text": [
      "Initialized values successfully!\n",
      "Loaded Dataframe!\n",
      "Splitted data into train, test and val sets!\n",
      "-----------------------------------------------\n",
      "Number of Layers       :  4\n",
      "Layer sizes            :  [11, 5, 5, 6]\n",
      "Batch size             :  100\n",
      "Activation Function    :  tanh\n",
      "Optimization Method    :  mini-batch\n",
      "Learning Rate          :  0.015\n",
      "Num Epoches            :  100\n",
      "-----------------------------------------------\n"
     ]
    },
    {
     "data": {
      "text/html": [
       "Waiting for W&B process to finish... <strong style=\"color:green\">(success).</strong>"
      ],
      "text/plain": [
       "<IPython.core.display.HTML object>"
      ]
     },
     "metadata": {},
     "output_type": "display_data"
    },
    {
     "data": {
      "text/html": [
       "<style>\n",
       "    table.wandb td:nth-child(1) { padding: 0 10px; text-align: left ; width: auto;} td:nth-child(2) {text-align: left ; width: 100%}\n",
       "    .wandb-row { display: flex; flex-direction: row; flex-wrap: wrap; justify-content: flex-start; width: 100% }\n",
       "    .wandb-col { display: flex; flex-direction: column; flex-basis: 100%; flex: 1; padding: 10px; }\n",
       "    </style>\n",
       "<div class=\"wandb-row\"><div class=\"wandb-col\"><h3>Run history:</h3><br/><table class=\"wandb\"><tr><td>acc</td><td>▁▁▁▁▁▂▄▅▇▇█████████████▇▇▇▇▇▆▆▆▆▆▆▆▆▆▆▆▆</td></tr><tr><td>loss</td><td>██▇▆▅▅▄▄▄▃▃▃▂▂▂▂▂▂▂▂▂▂▁▁▁▁▁▁▁▁▁▁▁▁▁▁▁▁▁▁</td></tr></table><br/></div><div class=\"wandb-col\"><h3>Run summary:</h3><br/><table class=\"wandb\"><tr><td>acc</td><td>0.417</td></tr><tr><td>loss</td><td>0.232</td></tr></table><br/></div></div>"
      ],
      "text/plain": [
       "<IPython.core.display.HTML object>"
      ]
     },
     "metadata": {},
     "output_type": "display_data"
    },
    {
     "data": {
      "text/html": [
       " View run <strong style=\"color:#cdcd00\">stoic-flower-37</strong> at: <a href='https://wandb.ai/tejas591995/MLPClassification/runs/5udp3dkm' target=\"_blank\">https://wandb.ai/tejas591995/MLPClassification/runs/5udp3dkm</a><br/> View job at <a href='https://wandb.ai/tejas591995/MLPClassification/jobs/QXJ0aWZhY3RDb2xsZWN0aW9uOjEwOTIxOTAwNw==/version_details/v0' target=\"_blank\">https://wandb.ai/tejas591995/MLPClassification/jobs/QXJ0aWZhY3RDb2xsZWN0aW9uOjEwOTIxOTAwNw==/version_details/v0</a><br/>Synced 6 W&B file(s), 0 media file(s), 0 artifact file(s) and 0 other file(s)"
      ],
      "text/plain": [
       "<IPython.core.display.HTML object>"
      ]
     },
     "metadata": {},
     "output_type": "display_data"
    },
    {
     "data": {
      "text/html": [
       "Find logs at: <code>./wandb/run-20231023_185556-5udp3dkm/logs</code>"
      ],
      "text/plain": [
       "<IPython.core.display.HTML object>"
      ]
     },
     "metadata": {},
     "output_type": "display_data"
    },
    {
     "name": "stdout",
     "output_type": "stream",
     "text": [
      "37\n"
     ]
    },
    {
     "data": {
      "application/vnd.jupyter.widget-view+json": {
       "model_id": "0c64bbe479d94fba8e529ff5e97806a8",
       "version_major": 2,
       "version_minor": 0
      },
      "text/plain": [
       "VBox(children=(Label(value='Waiting for wandb.init()...\\r'), FloatProgress(value=0.011112794900004195, max=1.0…"
      ]
     },
     "metadata": {},
     "output_type": "display_data"
    },
    {
     "data": {
      "text/html": [
       "wandb version 0.15.12 is available!  To upgrade, please run:\n",
       " $ pip install wandb --upgrade"
      ],
      "text/plain": [
       "<IPython.core.display.HTML object>"
      ]
     },
     "metadata": {},
     "output_type": "display_data"
    },
    {
     "data": {
      "text/html": [
       "Tracking run with wandb version 0.15.11"
      ],
      "text/plain": [
       "<IPython.core.display.HTML object>"
      ]
     },
     "metadata": {},
     "output_type": "display_data"
    },
    {
     "data": {
      "text/html": [
       "Run data is saved locally in <code>/home/tejas/Documents/SMAI/assignment-3-MrTejas/q2/wandb/run-20231023_185611-zj8wn4kh</code>"
      ],
      "text/plain": [
       "<IPython.core.display.HTML object>"
      ]
     },
     "metadata": {},
     "output_type": "display_data"
    },
    {
     "data": {
      "text/html": [
       "Syncing run <strong><a href='https://wandb.ai/tejas591995/MLPClassification/runs/zj8wn4kh' target=\"_blank\">cool-wood-38</a></strong> to <a href='https://wandb.ai/tejas591995/MLPClassification' target=\"_blank\">Weights & Biases</a> (<a href='https://wandb.me/run' target=\"_blank\">docs</a>)<br/>"
      ],
      "text/plain": [
       "<IPython.core.display.HTML object>"
      ]
     },
     "metadata": {},
     "output_type": "display_data"
    },
    {
     "data": {
      "text/html": [
       " View project at <a href='https://wandb.ai/tejas591995/MLPClassification' target=\"_blank\">https://wandb.ai/tejas591995/MLPClassification</a>"
      ],
      "text/plain": [
       "<IPython.core.display.HTML object>"
      ]
     },
     "metadata": {},
     "output_type": "display_data"
    },
    {
     "data": {
      "text/html": [
       " View run at <a href='https://wandb.ai/tejas591995/MLPClassification/runs/zj8wn4kh' target=\"_blank\">https://wandb.ai/tejas591995/MLPClassification/runs/zj8wn4kh</a>"
      ],
      "text/plain": [
       "<IPython.core.display.HTML object>"
      ]
     },
     "metadata": {},
     "output_type": "display_data"
    },
    {
     "name": "stdout",
     "output_type": "stream",
     "text": [
      "Initialized values successfully!\n",
      "Loaded Dataframe!\n",
      "Splitted data into train, test and val sets!\n",
      "-----------------------------------------------\n",
      "Number of Layers       :  4\n",
      "Layer sizes            :  [11, 5, 5, 6]\n",
      "Batch size             :  150\n",
      "Activation Function    :  tanh\n",
      "Optimization Method    :  mini-batch\n",
      "Learning Rate          :  0.015\n",
      "Num Epoches            :  100\n",
      "-----------------------------------------------\n"
     ]
    },
    {
     "data": {
      "text/html": [
       "Waiting for W&B process to finish... <strong style=\"color:green\">(success).</strong>"
      ],
      "text/plain": [
       "<IPython.core.display.HTML object>"
      ]
     },
     "metadata": {},
     "output_type": "display_data"
    },
    {
     "data": {
      "text/html": [
       "<style>\n",
       "    table.wandb td:nth-child(1) { padding: 0 10px; text-align: left ; width: auto;} td:nth-child(2) {text-align: left ; width: 100%}\n",
       "    .wandb-row { display: flex; flex-direction: row; flex-wrap: wrap; justify-content: flex-start; width: 100% }\n",
       "    .wandb-col { display: flex; flex-direction: column; flex-basis: 100%; flex: 1; padding: 10px; }\n",
       "    </style>\n",
       "<div class=\"wandb-row\"><div class=\"wandb-col\"><h3>Run history:</h3><br/><table class=\"wandb\"><tr><td>acc</td><td>▁▁▂▃▇███████████████████████████████████</td></tr><tr><td>loss</td><td>█▇▇▆▅▅▄▄▃▃▃▃▂▂▂▂▂▂▂▂▂▂▁▁▁▁▁▁▁▁▁▁▁▁▁▁▁▁▁▁</td></tr></table><br/></div><div class=\"wandb-col\"><h3>Run summary:</h3><br/><table class=\"wandb\"><tr><td>acc</td><td>0.417</td></tr><tr><td>loss</td><td>0.236</td></tr></table><br/></div></div>"
      ],
      "text/plain": [
       "<IPython.core.display.HTML object>"
      ]
     },
     "metadata": {},
     "output_type": "display_data"
    },
    {
     "data": {
      "text/html": [
       " View run <strong style=\"color:#cdcd00\">cool-wood-38</strong> at: <a href='https://wandb.ai/tejas591995/MLPClassification/runs/zj8wn4kh' target=\"_blank\">https://wandb.ai/tejas591995/MLPClassification/runs/zj8wn4kh</a><br/> View job at <a href='https://wandb.ai/tejas591995/MLPClassification/jobs/QXJ0aWZhY3RDb2xsZWN0aW9uOjEwOTIxOTAwNw==/version_details/v0' target=\"_blank\">https://wandb.ai/tejas591995/MLPClassification/jobs/QXJ0aWZhY3RDb2xsZWN0aW9uOjEwOTIxOTAwNw==/version_details/v0</a><br/>Synced 6 W&B file(s), 0 media file(s), 0 artifact file(s) and 0 other file(s)"
      ],
      "text/plain": [
       "<IPython.core.display.HTML object>"
      ]
     },
     "metadata": {},
     "output_type": "display_data"
    },
    {
     "data": {
      "text/html": [
       "Find logs at: <code>./wandb/run-20231023_185611-zj8wn4kh/logs</code>"
      ],
      "text/plain": [
       "<IPython.core.display.HTML object>"
      ]
     },
     "metadata": {},
     "output_type": "display_data"
    },
    {
     "name": "stdout",
     "output_type": "stream",
     "text": [
      "38\n"
     ]
    },
    {
     "data": {
      "application/vnd.jupyter.widget-view+json": {
       "model_id": "451832be0c0d4fe3a5db34bda869d989",
       "version_major": 2,
       "version_minor": 0
      },
      "text/plain": [
       "VBox(children=(Label(value='Waiting for wandb.init()...\\r'), FloatProgress(value=0.011113660233321651, max=1.0…"
      ]
     },
     "metadata": {},
     "output_type": "display_data"
    },
    {
     "data": {
      "text/html": [
       "wandb version 0.15.12 is available!  To upgrade, please run:\n",
       " $ pip install wandb --upgrade"
      ],
      "text/plain": [
       "<IPython.core.display.HTML object>"
      ]
     },
     "metadata": {},
     "output_type": "display_data"
    },
    {
     "data": {
      "text/html": [
       "Tracking run with wandb version 0.15.11"
      ],
      "text/plain": [
       "<IPython.core.display.HTML object>"
      ]
     },
     "metadata": {},
     "output_type": "display_data"
    },
    {
     "data": {
      "text/html": [
       "Run data is saved locally in <code>/home/tejas/Documents/SMAI/assignment-3-MrTejas/q2/wandb/run-20231023_185625-udo2kji6</code>"
      ],
      "text/plain": [
       "<IPython.core.display.HTML object>"
      ]
     },
     "metadata": {},
     "output_type": "display_data"
    },
    {
     "data": {
      "text/html": [
       "Syncing run <strong><a href='https://wandb.ai/tejas591995/MLPClassification/runs/udo2kji6' target=\"_blank\">playful-paper-39</a></strong> to <a href='https://wandb.ai/tejas591995/MLPClassification' target=\"_blank\">Weights & Biases</a> (<a href='https://wandb.me/run' target=\"_blank\">docs</a>)<br/>"
      ],
      "text/plain": [
       "<IPython.core.display.HTML object>"
      ]
     },
     "metadata": {},
     "output_type": "display_data"
    },
    {
     "data": {
      "text/html": [
       " View project at <a href='https://wandb.ai/tejas591995/MLPClassification' target=\"_blank\">https://wandb.ai/tejas591995/MLPClassification</a>"
      ],
      "text/plain": [
       "<IPython.core.display.HTML object>"
      ]
     },
     "metadata": {},
     "output_type": "display_data"
    },
    {
     "data": {
      "text/html": [
       " View run at <a href='https://wandb.ai/tejas591995/MLPClassification/runs/udo2kji6' target=\"_blank\">https://wandb.ai/tejas591995/MLPClassification/runs/udo2kji6</a>"
      ],
      "text/plain": [
       "<IPython.core.display.HTML object>"
      ]
     },
     "metadata": {},
     "output_type": "display_data"
    },
    {
     "name": "stdout",
     "output_type": "stream",
     "text": [
      "Initialized values successfully!\n",
      "Loaded Dataframe!\n",
      "Splitted data into train, test and val sets!\n",
      "-----------------------------------------------\n",
      "Number of Layers       :  4\n",
      "Layer sizes            :  [11, 5, 5, 6]\n",
      "Batch size             :  200\n",
      "Activation Function    :  tanh\n",
      "Optimization Method    :  mini-batch\n",
      "Learning Rate          :  0.015\n",
      "Num Epoches            :  100\n",
      "-----------------------------------------------\n"
     ]
    },
    {
     "data": {
      "text/html": [
       "Waiting for W&B process to finish... <strong style=\"color:green\">(success).</strong>"
      ],
      "text/plain": [
       "<IPython.core.display.HTML object>"
      ]
     },
     "metadata": {},
     "output_type": "display_data"
    },
    {
     "data": {
      "text/html": [
       "<style>\n",
       "    table.wandb td:nth-child(1) { padding: 0 10px; text-align: left ; width: auto;} td:nth-child(2) {text-align: left ; width: 100%}\n",
       "    .wandb-row { display: flex; flex-direction: row; flex-wrap: wrap; justify-content: flex-start; width: 100% }\n",
       "    .wandb-col { display: flex; flex-direction: column; flex-basis: 100%; flex: 1; padding: 10px; }\n",
       "    </style>\n",
       "<div class=\"wandb-row\"><div class=\"wandb-col\"><h3>Run history:</h3><br/><table class=\"wandb\"><tr><td>acc</td><td>▁▂▂▃▄▄▆▇████████████████████████████████</td></tr><tr><td>loss</td><td>██▇▇▇▇▆▆▅▅▅▄▄▄▃▃▃▃▃▂▂▂▂▂▂▂▂▂▂▂▁▁▁▁▁▁▁▁▁▁</td></tr></table><br/></div><div class=\"wandb-col\"><h3>Run summary:</h3><br/><table class=\"wandb\"><tr><td>acc</td><td>0.356</td></tr><tr><td>loss</td><td>0.217</td></tr></table><br/></div></div>"
      ],
      "text/plain": [
       "<IPython.core.display.HTML object>"
      ]
     },
     "metadata": {},
     "output_type": "display_data"
    },
    {
     "data": {
      "text/html": [
       " View run <strong style=\"color:#cdcd00\">playful-paper-39</strong> at: <a href='https://wandb.ai/tejas591995/MLPClassification/runs/udo2kji6' target=\"_blank\">https://wandb.ai/tejas591995/MLPClassification/runs/udo2kji6</a><br/> View job at <a href='https://wandb.ai/tejas591995/MLPClassification/jobs/QXJ0aWZhY3RDb2xsZWN0aW9uOjEwOTIxOTAwNw==/version_details/v0' target=\"_blank\">https://wandb.ai/tejas591995/MLPClassification/jobs/QXJ0aWZhY3RDb2xsZWN0aW9uOjEwOTIxOTAwNw==/version_details/v0</a><br/>Synced 6 W&B file(s), 0 media file(s), 0 artifact file(s) and 0 other file(s)"
      ],
      "text/plain": [
       "<IPython.core.display.HTML object>"
      ]
     },
     "metadata": {},
     "output_type": "display_data"
    },
    {
     "data": {
      "text/html": [
       "Find logs at: <code>./wandb/run-20231023_185625-udo2kji6/logs</code>"
      ],
      "text/plain": [
       "<IPython.core.display.HTML object>"
      ]
     },
     "metadata": {},
     "output_type": "display_data"
    },
    {
     "name": "stdout",
     "output_type": "stream",
     "text": [
      "39\n"
     ]
    },
    {
     "data": {
      "application/vnd.jupyter.widget-view+json": {
       "model_id": "bd82efa75d1f45e081cfa7ddbc9f5dec",
       "version_major": 2,
       "version_minor": 0
      },
      "text/plain": [
       "VBox(children=(Label(value='Waiting for wandb.init()...\\r'), FloatProgress(value=0.011112347011132645, max=1.0…"
      ]
     },
     "metadata": {},
     "output_type": "display_data"
    },
    {
     "data": {
      "text/html": [
       "wandb version 0.15.12 is available!  To upgrade, please run:\n",
       " $ pip install wandb --upgrade"
      ],
      "text/plain": [
       "<IPython.core.display.HTML object>"
      ]
     },
     "metadata": {},
     "output_type": "display_data"
    },
    {
     "data": {
      "text/html": [
       "Tracking run with wandb version 0.15.11"
      ],
      "text/plain": [
       "<IPython.core.display.HTML object>"
      ]
     },
     "metadata": {},
     "output_type": "display_data"
    },
    {
     "data": {
      "text/html": [
       "Run data is saved locally in <code>/home/tejas/Documents/SMAI/assignment-3-MrTejas/q2/wandb/run-20231023_185640-vqw72mje</code>"
      ],
      "text/plain": [
       "<IPython.core.display.HTML object>"
      ]
     },
     "metadata": {},
     "output_type": "display_data"
    },
    {
     "data": {
      "text/html": [
       "Syncing run <strong><a href='https://wandb.ai/tejas591995/MLPClassification/runs/vqw72mje' target=\"_blank\">skilled-capybara-40</a></strong> to <a href='https://wandb.ai/tejas591995/MLPClassification' target=\"_blank\">Weights & Biases</a> (<a href='https://wandb.me/run' target=\"_blank\">docs</a>)<br/>"
      ],
      "text/plain": [
       "<IPython.core.display.HTML object>"
      ]
     },
     "metadata": {},
     "output_type": "display_data"
    },
    {
     "data": {
      "text/html": [
       " View project at <a href='https://wandb.ai/tejas591995/MLPClassification' target=\"_blank\">https://wandb.ai/tejas591995/MLPClassification</a>"
      ],
      "text/plain": [
       "<IPython.core.display.HTML object>"
      ]
     },
     "metadata": {},
     "output_type": "display_data"
    },
    {
     "data": {
      "text/html": [
       " View run at <a href='https://wandb.ai/tejas591995/MLPClassification/runs/vqw72mje' target=\"_blank\">https://wandb.ai/tejas591995/MLPClassification/runs/vqw72mje</a>"
      ],
      "text/plain": [
       "<IPython.core.display.HTML object>"
      ]
     },
     "metadata": {},
     "output_type": "display_data"
    },
    {
     "name": "stdout",
     "output_type": "stream",
     "text": [
      "Initialized values successfully!\n",
      "Loaded Dataframe!\n",
      "Splitted data into train, test and val sets!\n",
      "-----------------------------------------------\n",
      "Number of Layers       :  4\n",
      "Layer sizes            :  [11, 5, 5, 6]\n",
      "Batch size             :  250\n",
      "Activation Function    :  tanh\n",
      "Optimization Method    :  mini-batch\n",
      "Learning Rate          :  0.015\n",
      "Num Epoches            :  100\n",
      "-----------------------------------------------\n"
     ]
    },
    {
     "data": {
      "text/html": [
       "Waiting for W&B process to finish... <strong style=\"color:green\">(success).</strong>"
      ],
      "text/plain": [
       "<IPython.core.display.HTML object>"
      ]
     },
     "metadata": {},
     "output_type": "display_data"
    },
    {
     "data": {
      "text/html": [
       "<style>\n",
       "    table.wandb td:nth-child(1) { padding: 0 10px; text-align: left ; width: auto;} td:nth-child(2) {text-align: left ; width: 100%}\n",
       "    .wandb-row { display: flex; flex-direction: row; flex-wrap: wrap; justify-content: flex-start; width: 100% }\n",
       "    .wandb-col { display: flex; flex-direction: column; flex-basis: 100%; flex: 1; padding: 10px; }\n",
       "    </style>\n",
       "<div class=\"wandb-row\"><div class=\"wandb-col\"><h3>Run history:</h3><br/><table class=\"wandb\"><tr><td>acc</td><td>▁▁▁▁▁▁▁▁▂▄▆▇████████████████████████████</td></tr><tr><td>loss</td><td>██▇▇▇▇▇▆▆▆▆▅▅▅▅▅▄▄▄▄▃▃▃▃▃▂▂▂▂▂▂▂▁▁▁▁▁▁▁▁</td></tr></table><br/></div><div class=\"wandb-col\"><h3>Run summary:</h3><br/><table class=\"wandb\"><tr><td>acc</td><td>0.347</td></tr><tr><td>loss</td><td>0.205</td></tr></table><br/></div></div>"
      ],
      "text/plain": [
       "<IPython.core.display.HTML object>"
      ]
     },
     "metadata": {},
     "output_type": "display_data"
    },
    {
     "data": {
      "text/html": [
       " View run <strong style=\"color:#cdcd00\">skilled-capybara-40</strong> at: <a href='https://wandb.ai/tejas591995/MLPClassification/runs/vqw72mje' target=\"_blank\">https://wandb.ai/tejas591995/MLPClassification/runs/vqw72mje</a><br/> View job at <a href='https://wandb.ai/tejas591995/MLPClassification/jobs/QXJ0aWZhY3RDb2xsZWN0aW9uOjEwOTIxOTAwNw==/version_details/v0' target=\"_blank\">https://wandb.ai/tejas591995/MLPClassification/jobs/QXJ0aWZhY3RDb2xsZWN0aW9uOjEwOTIxOTAwNw==/version_details/v0</a><br/>Synced 6 W&B file(s), 0 media file(s), 0 artifact file(s) and 0 other file(s)"
      ],
      "text/plain": [
       "<IPython.core.display.HTML object>"
      ]
     },
     "metadata": {},
     "output_type": "display_data"
    },
    {
     "data": {
      "text/html": [
       "Find logs at: <code>./wandb/run-20231023_185640-vqw72mje/logs</code>"
      ],
      "text/plain": [
       "<IPython.core.display.HTML object>"
      ]
     },
     "metadata": {},
     "output_type": "display_data"
    },
    {
     "name": "stdout",
     "output_type": "stream",
     "text": [
      "40\n"
     ]
    },
    {
     "data": {
      "application/vnd.jupyter.widget-view+json": {
       "model_id": "6b22d2b9f044492f99b3bb737593ecdf",
       "version_major": 2,
       "version_minor": 0
      },
      "text/plain": [
       "VBox(children=(Label(value='Waiting for wandb.init()...\\r'), FloatProgress(value=0.011114365344433786, max=1.0…"
      ]
     },
     "metadata": {},
     "output_type": "display_data"
    },
    {
     "data": {
      "text/html": [
       "wandb version 0.15.12 is available!  To upgrade, please run:\n",
       " $ pip install wandb --upgrade"
      ],
      "text/plain": [
       "<IPython.core.display.HTML object>"
      ]
     },
     "metadata": {},
     "output_type": "display_data"
    },
    {
     "data": {
      "text/html": [
       "Tracking run with wandb version 0.15.11"
      ],
      "text/plain": [
       "<IPython.core.display.HTML object>"
      ]
     },
     "metadata": {},
     "output_type": "display_data"
    },
    {
     "data": {
      "text/html": [
       "Run data is saved locally in <code>/home/tejas/Documents/SMAI/assignment-3-MrTejas/q2/wandb/run-20231023_185655-7cshylwr</code>"
      ],
      "text/plain": [
       "<IPython.core.display.HTML object>"
      ]
     },
     "metadata": {},
     "output_type": "display_data"
    },
    {
     "data": {
      "text/html": [
       "Syncing run <strong><a href='https://wandb.ai/tejas591995/MLPClassification/runs/7cshylwr' target=\"_blank\">wise-haze-41</a></strong> to <a href='https://wandb.ai/tejas591995/MLPClassification' target=\"_blank\">Weights & Biases</a> (<a href='https://wandb.me/run' target=\"_blank\">docs</a>)<br/>"
      ],
      "text/plain": [
       "<IPython.core.display.HTML object>"
      ]
     },
     "metadata": {},
     "output_type": "display_data"
    },
    {
     "data": {
      "text/html": [
       " View project at <a href='https://wandb.ai/tejas591995/MLPClassification' target=\"_blank\">https://wandb.ai/tejas591995/MLPClassification</a>"
      ],
      "text/plain": [
       "<IPython.core.display.HTML object>"
      ]
     },
     "metadata": {},
     "output_type": "display_data"
    },
    {
     "data": {
      "text/html": [
       " View run at <a href='https://wandb.ai/tejas591995/MLPClassification/runs/7cshylwr' target=\"_blank\">https://wandb.ai/tejas591995/MLPClassification/runs/7cshylwr</a>"
      ],
      "text/plain": [
       "<IPython.core.display.HTML object>"
      ]
     },
     "metadata": {},
     "output_type": "display_data"
    },
    {
     "name": "stdout",
     "output_type": "stream",
     "text": [
      "Initialized values successfully!\n",
      "Loaded Dataframe!\n",
      "Splitted data into train, test and val sets!\n",
      "-----------------------------------------------\n",
      "Number of Layers       :  4\n",
      "Layer sizes            :  [11, 5, 5, 6]\n",
      "Batch size             :  100\n",
      "Activation Function    :  ReLU\n",
      "Optimization Method    :  mini-batch\n",
      "Learning Rate          :  0.015\n",
      "Num Epoches            :  100\n",
      "-----------------------------------------------\n"
     ]
    },
    {
     "data": {
      "text/html": [
       "Waiting for W&B process to finish... <strong style=\"color:green\">(success).</strong>"
      ],
      "text/plain": [
       "<IPython.core.display.HTML object>"
      ]
     },
     "metadata": {},
     "output_type": "display_data"
    },
    {
     "data": {
      "text/html": [
       "<style>\n",
       "    table.wandb td:nth-child(1) { padding: 0 10px; text-align: left ; width: auto;} td:nth-child(2) {text-align: left ; width: 100%}\n",
       "    .wandb-row { display: flex; flex-direction: row; flex-wrap: wrap; justify-content: flex-start; width: 100% }\n",
       "    .wandb-col { display: flex; flex-direction: column; flex-basis: 100%; flex: 1; padding: 10px; }\n",
       "    </style>\n",
       "<div class=\"wandb-row\"><div class=\"wandb-col\"><h3>Run history:</h3><br/><table class=\"wandb\"><tr><td>acc</td><td>▁▃▃▄▄▄▅▅▅▅▅▆▆▇▇▇▇▇▇▇▇▇▇▇▇▇▇▇████████████</td></tr><tr><td>loss</td><td>█▆▅▅▅▄▄▄▃▃▃▂▂▂▂▂▂▂▂▂▂▂▂▁▁▁▁▁▁▁▁▁▁▁▁▁▁▁▁▁</td></tr></table><br/></div><div class=\"wandb-col\"><h3>Run summary:</h3><br/><table class=\"wandb\"><tr><td>acc</td><td>0.511</td></tr><tr><td>loss</td><td>0.187</td></tr></table><br/></div></div>"
      ],
      "text/plain": [
       "<IPython.core.display.HTML object>"
      ]
     },
     "metadata": {},
     "output_type": "display_data"
    },
    {
     "data": {
      "text/html": [
       " View run <strong style=\"color:#cdcd00\">wise-haze-41</strong> at: <a href='https://wandb.ai/tejas591995/MLPClassification/runs/7cshylwr' target=\"_blank\">https://wandb.ai/tejas591995/MLPClassification/runs/7cshylwr</a><br/> View job at <a href='https://wandb.ai/tejas591995/MLPClassification/jobs/QXJ0aWZhY3RDb2xsZWN0aW9uOjEwOTIxOTAwNw==/version_details/v0' target=\"_blank\">https://wandb.ai/tejas591995/MLPClassification/jobs/QXJ0aWZhY3RDb2xsZWN0aW9uOjEwOTIxOTAwNw==/version_details/v0</a><br/>Synced 6 W&B file(s), 0 media file(s), 0 artifact file(s) and 0 other file(s)"
      ],
      "text/plain": [
       "<IPython.core.display.HTML object>"
      ]
     },
     "metadata": {},
     "output_type": "display_data"
    },
    {
     "data": {
      "text/html": [
       "Find logs at: <code>./wandb/run-20231023_185655-7cshylwr/logs</code>"
      ],
      "text/plain": [
       "<IPython.core.display.HTML object>"
      ]
     },
     "metadata": {},
     "output_type": "display_data"
    },
    {
     "name": "stdout",
     "output_type": "stream",
     "text": [
      "41\n"
     ]
    },
    {
     "data": {
      "application/vnd.jupyter.widget-view+json": {
       "model_id": "01929e73fe2e4d97862b84471c13a0e6",
       "version_major": 2,
       "version_minor": 0
      },
      "text/plain": [
       "VBox(children=(Label(value='Waiting for wandb.init()...\\r'), FloatProgress(value=0.011113809844472498, max=1.0…"
      ]
     },
     "metadata": {},
     "output_type": "display_data"
    },
    {
     "data": {
      "text/html": [
       "wandb version 0.15.12 is available!  To upgrade, please run:\n",
       " $ pip install wandb --upgrade"
      ],
      "text/plain": [
       "<IPython.core.display.HTML object>"
      ]
     },
     "metadata": {},
     "output_type": "display_data"
    },
    {
     "data": {
      "text/html": [
       "Tracking run with wandb version 0.15.11"
      ],
      "text/plain": [
       "<IPython.core.display.HTML object>"
      ]
     },
     "metadata": {},
     "output_type": "display_data"
    },
    {
     "data": {
      "text/html": [
       "Run data is saved locally in <code>/home/tejas/Documents/SMAI/assignment-3-MrTejas/q2/wandb/run-20231023_185709-nyvkz9ed</code>"
      ],
      "text/plain": [
       "<IPython.core.display.HTML object>"
      ]
     },
     "metadata": {},
     "output_type": "display_data"
    },
    {
     "data": {
      "text/html": [
       "Syncing run <strong><a href='https://wandb.ai/tejas591995/MLPClassification/runs/nyvkz9ed' target=\"_blank\">earnest-disco-42</a></strong> to <a href='https://wandb.ai/tejas591995/MLPClassification' target=\"_blank\">Weights & Biases</a> (<a href='https://wandb.me/run' target=\"_blank\">docs</a>)<br/>"
      ],
      "text/plain": [
       "<IPython.core.display.HTML object>"
      ]
     },
     "metadata": {},
     "output_type": "display_data"
    },
    {
     "data": {
      "text/html": [
       " View project at <a href='https://wandb.ai/tejas591995/MLPClassification' target=\"_blank\">https://wandb.ai/tejas591995/MLPClassification</a>"
      ],
      "text/plain": [
       "<IPython.core.display.HTML object>"
      ]
     },
     "metadata": {},
     "output_type": "display_data"
    },
    {
     "data": {
      "text/html": [
       " View run at <a href='https://wandb.ai/tejas591995/MLPClassification/runs/nyvkz9ed' target=\"_blank\">https://wandb.ai/tejas591995/MLPClassification/runs/nyvkz9ed</a>"
      ],
      "text/plain": [
       "<IPython.core.display.HTML object>"
      ]
     },
     "metadata": {},
     "output_type": "display_data"
    },
    {
     "name": "stdout",
     "output_type": "stream",
     "text": [
      "Initialized values successfully!\n",
      "Loaded Dataframe!\n",
      "Splitted data into train, test and val sets!\n",
      "-----------------------------------------------\n",
      "Number of Layers       :  4\n",
      "Layer sizes            :  [11, 5, 5, 6]\n",
      "Batch size             :  150\n",
      "Activation Function    :  ReLU\n",
      "Optimization Method    :  mini-batch\n",
      "Learning Rate          :  0.015\n",
      "Num Epoches            :  100\n",
      "-----------------------------------------------\n"
     ]
    },
    {
     "data": {
      "text/html": [
       "Waiting for W&B process to finish... <strong style=\"color:green\">(success).</strong>"
      ],
      "text/plain": [
       "<IPython.core.display.HTML object>"
      ]
     },
     "metadata": {},
     "output_type": "display_data"
    },
    {
     "data": {
      "text/html": [
       "<style>\n",
       "    table.wandb td:nth-child(1) { padding: 0 10px; text-align: left ; width: auto;} td:nth-child(2) {text-align: left ; width: 100%}\n",
       "    .wandb-row { display: flex; flex-direction: row; flex-wrap: wrap; justify-content: flex-start; width: 100% }\n",
       "    .wandb-col { display: flex; flex-direction: column; flex-basis: 100%; flex: 1; padding: 10px; }\n",
       "    </style>\n",
       "<div class=\"wandb-row\"><div class=\"wandb-col\"><h3>Run history:</h3><br/><table class=\"wandb\"><tr><td>acc</td><td>▁▂▃▄▅▆▆▆▆▆▆▇▇▇▇▇████████████████████▇█▇█</td></tr><tr><td>loss</td><td>█▆▅▄▄▃▃▃▃▂▂▂▂▂▂▂▂▂▂▂▁▁▁▁▁▁▁▁▁▁▁▁▁▁▁▁▁▁▁▁</td></tr></table><br/></div><div class=\"wandb-col\"><h3>Run summary:</h3><br/><table class=\"wandb\"><tr><td>acc</td><td>0.54</td></tr><tr><td>loss</td><td>0.186</td></tr></table><br/></div></div>"
      ],
      "text/plain": [
       "<IPython.core.display.HTML object>"
      ]
     },
     "metadata": {},
     "output_type": "display_data"
    },
    {
     "data": {
      "text/html": [
       " View run <strong style=\"color:#cdcd00\">earnest-disco-42</strong> at: <a href='https://wandb.ai/tejas591995/MLPClassification/runs/nyvkz9ed' target=\"_blank\">https://wandb.ai/tejas591995/MLPClassification/runs/nyvkz9ed</a><br/> View job at <a href='https://wandb.ai/tejas591995/MLPClassification/jobs/QXJ0aWZhY3RDb2xsZWN0aW9uOjEwOTIxOTAwNw==/version_details/v0' target=\"_blank\">https://wandb.ai/tejas591995/MLPClassification/jobs/QXJ0aWZhY3RDb2xsZWN0aW9uOjEwOTIxOTAwNw==/version_details/v0</a><br/>Synced 6 W&B file(s), 0 media file(s), 0 artifact file(s) and 0 other file(s)"
      ],
      "text/plain": [
       "<IPython.core.display.HTML object>"
      ]
     },
     "metadata": {},
     "output_type": "display_data"
    },
    {
     "data": {
      "text/html": [
       "Find logs at: <code>./wandb/run-20231023_185709-nyvkz9ed/logs</code>"
      ],
      "text/plain": [
       "<IPython.core.display.HTML object>"
      ]
     },
     "metadata": {},
     "output_type": "display_data"
    },
    {
     "name": "stdout",
     "output_type": "stream",
     "text": [
      "42\n"
     ]
    },
    {
     "data": {
      "application/vnd.jupyter.widget-view+json": {
       "model_id": "818a554ad84f4decad7a521d01358ec3",
       "version_major": 2,
       "version_minor": 0
      },
      "text/plain": [
       "VBox(children=(Label(value='Waiting for wandb.init()...\\r'), FloatProgress(value=0.011114234577770629, max=1.0…"
      ]
     },
     "metadata": {},
     "output_type": "display_data"
    },
    {
     "data": {
      "text/html": [
       "wandb version 0.15.12 is available!  To upgrade, please run:\n",
       " $ pip install wandb --upgrade"
      ],
      "text/plain": [
       "<IPython.core.display.HTML object>"
      ]
     },
     "metadata": {},
     "output_type": "display_data"
    },
    {
     "data": {
      "text/html": [
       "Tracking run with wandb version 0.15.11"
      ],
      "text/plain": [
       "<IPython.core.display.HTML object>"
      ]
     },
     "metadata": {},
     "output_type": "display_data"
    },
    {
     "data": {
      "text/html": [
       "Run data is saved locally in <code>/home/tejas/Documents/SMAI/assignment-3-MrTejas/q2/wandb/run-20231023_185724-eehstxmk</code>"
      ],
      "text/plain": [
       "<IPython.core.display.HTML object>"
      ]
     },
     "metadata": {},
     "output_type": "display_data"
    },
    {
     "data": {
      "text/html": [
       "Syncing run <strong><a href='https://wandb.ai/tejas591995/MLPClassification/runs/eehstxmk' target=\"_blank\">vocal-planet-43</a></strong> to <a href='https://wandb.ai/tejas591995/MLPClassification' target=\"_blank\">Weights & Biases</a> (<a href='https://wandb.me/run' target=\"_blank\">docs</a>)<br/>"
      ],
      "text/plain": [
       "<IPython.core.display.HTML object>"
      ]
     },
     "metadata": {},
     "output_type": "display_data"
    },
    {
     "data": {
      "text/html": [
       " View project at <a href='https://wandb.ai/tejas591995/MLPClassification' target=\"_blank\">https://wandb.ai/tejas591995/MLPClassification</a>"
      ],
      "text/plain": [
       "<IPython.core.display.HTML object>"
      ]
     },
     "metadata": {},
     "output_type": "display_data"
    },
    {
     "data": {
      "text/html": [
       " View run at <a href='https://wandb.ai/tejas591995/MLPClassification/runs/eehstxmk' target=\"_blank\">https://wandb.ai/tejas591995/MLPClassification/runs/eehstxmk</a>"
      ],
      "text/plain": [
       "<IPython.core.display.HTML object>"
      ]
     },
     "metadata": {},
     "output_type": "display_data"
    },
    {
     "name": "stdout",
     "output_type": "stream",
     "text": [
      "Initialized values successfully!\n",
      "Loaded Dataframe!\n",
      "Splitted data into train, test and val sets!\n",
      "-----------------------------------------------\n",
      "Number of Layers       :  4\n",
      "Layer sizes            :  [11, 5, 5, 6]\n",
      "Batch size             :  200\n",
      "Activation Function    :  ReLU\n",
      "Optimization Method    :  mini-batch\n",
      "Learning Rate          :  0.015\n",
      "Num Epoches            :  100\n",
      "-----------------------------------------------\n"
     ]
    },
    {
     "data": {
      "text/html": [
       "Waiting for W&B process to finish... <strong style=\"color:green\">(success).</strong>"
      ],
      "text/plain": [
       "<IPython.core.display.HTML object>"
      ]
     },
     "metadata": {},
     "output_type": "display_data"
    },
    {
     "data": {
      "text/html": [
       "<style>\n",
       "    table.wandb td:nth-child(1) { padding: 0 10px; text-align: left ; width: auto;} td:nth-child(2) {text-align: left ; width: 100%}\n",
       "    .wandb-row { display: flex; flex-direction: row; flex-wrap: wrap; justify-content: flex-start; width: 100% }\n",
       "    .wandb-col { display: flex; flex-direction: column; flex-basis: 100%; flex: 1; padding: 10px; }\n",
       "    </style>\n",
       "<div class=\"wandb-row\"><div class=\"wandb-col\"><h3>Run history:</h3><br/><table class=\"wandb\"><tr><td>acc</td><td>▁▂▂▂▂▃▅▆▆▆▇▇▇▇▇▇▇▇██████████████████████</td></tr><tr><td>loss</td><td>█▆▅▅▄▃▃▃▃▂▂▂▂▂▂▂▂▂▂▂▁▁▁▁▁▁▁▁▁▁▁▁▁▁▁▁▁▁▁▁</td></tr></table><br/></div><div class=\"wandb-col\"><h3>Run summary:</h3><br/><table class=\"wandb\"><tr><td>acc</td><td>0.509</td></tr><tr><td>loss</td><td>0.166</td></tr></table><br/></div></div>"
      ],
      "text/plain": [
       "<IPython.core.display.HTML object>"
      ]
     },
     "metadata": {},
     "output_type": "display_data"
    },
    {
     "data": {
      "text/html": [
       " View run <strong style=\"color:#cdcd00\">vocal-planet-43</strong> at: <a href='https://wandb.ai/tejas591995/MLPClassification/runs/eehstxmk' target=\"_blank\">https://wandb.ai/tejas591995/MLPClassification/runs/eehstxmk</a><br/> View job at <a href='https://wandb.ai/tejas591995/MLPClassification/jobs/QXJ0aWZhY3RDb2xsZWN0aW9uOjEwOTIxOTAwNw==/version_details/v0' target=\"_blank\">https://wandb.ai/tejas591995/MLPClassification/jobs/QXJ0aWZhY3RDb2xsZWN0aW9uOjEwOTIxOTAwNw==/version_details/v0</a><br/>Synced 6 W&B file(s), 0 media file(s), 0 artifact file(s) and 0 other file(s)"
      ],
      "text/plain": [
       "<IPython.core.display.HTML object>"
      ]
     },
     "metadata": {},
     "output_type": "display_data"
    },
    {
     "data": {
      "text/html": [
       "Find logs at: <code>./wandb/run-20231023_185724-eehstxmk/logs</code>"
      ],
      "text/plain": [
       "<IPython.core.display.HTML object>"
      ]
     },
     "metadata": {},
     "output_type": "display_data"
    },
    {
     "name": "stdout",
     "output_type": "stream",
     "text": [
      "43\n"
     ]
    },
    {
     "data": {
      "application/vnd.jupyter.widget-view+json": {
       "model_id": "1a24d9ed9a3a4158919fd9f3ad6574a4",
       "version_major": 2,
       "version_minor": 0
      },
      "text/plain": [
       "VBox(children=(Label(value='Waiting for wandb.init()...\\r'), FloatProgress(value=0.011112778144443938, max=1.0…"
      ]
     },
     "metadata": {},
     "output_type": "display_data"
    },
    {
     "data": {
      "text/html": [
       "wandb version 0.15.12 is available!  To upgrade, please run:\n",
       " $ pip install wandb --upgrade"
      ],
      "text/plain": [
       "<IPython.core.display.HTML object>"
      ]
     },
     "metadata": {},
     "output_type": "display_data"
    },
    {
     "data": {
      "text/html": [
       "Tracking run with wandb version 0.15.11"
      ],
      "text/plain": [
       "<IPython.core.display.HTML object>"
      ]
     },
     "metadata": {},
     "output_type": "display_data"
    },
    {
     "data": {
      "text/html": [
       "Run data is saved locally in <code>/home/tejas/Documents/SMAI/assignment-3-MrTejas/q2/wandb/run-20231023_185739-vpwy0re4</code>"
      ],
      "text/plain": [
       "<IPython.core.display.HTML object>"
      ]
     },
     "metadata": {},
     "output_type": "display_data"
    },
    {
     "data": {
      "text/html": [
       "Syncing run <strong><a href='https://wandb.ai/tejas591995/MLPClassification/runs/vpwy0re4' target=\"_blank\">honest-monkey-44</a></strong> to <a href='https://wandb.ai/tejas591995/MLPClassification' target=\"_blank\">Weights & Biases</a> (<a href='https://wandb.me/run' target=\"_blank\">docs</a>)<br/>"
      ],
      "text/plain": [
       "<IPython.core.display.HTML object>"
      ]
     },
     "metadata": {},
     "output_type": "display_data"
    },
    {
     "data": {
      "text/html": [
       " View project at <a href='https://wandb.ai/tejas591995/MLPClassification' target=\"_blank\">https://wandb.ai/tejas591995/MLPClassification</a>"
      ],
      "text/plain": [
       "<IPython.core.display.HTML object>"
      ]
     },
     "metadata": {},
     "output_type": "display_data"
    },
    {
     "data": {
      "text/html": [
       " View run at <a href='https://wandb.ai/tejas591995/MLPClassification/runs/vpwy0re4' target=\"_blank\">https://wandb.ai/tejas591995/MLPClassification/runs/vpwy0re4</a>"
      ],
      "text/plain": [
       "<IPython.core.display.HTML object>"
      ]
     },
     "metadata": {},
     "output_type": "display_data"
    },
    {
     "name": "stdout",
     "output_type": "stream",
     "text": [
      "Initialized values successfully!\n",
      "Loaded Dataframe!\n",
      "Splitted data into train, test and val sets!\n",
      "-----------------------------------------------\n",
      "Number of Layers       :  4\n",
      "Layer sizes            :  [11, 5, 5, 6]\n",
      "Batch size             :  250\n",
      "Activation Function    :  ReLU\n",
      "Optimization Method    :  mini-batch\n",
      "Learning Rate          :  0.015\n",
      "Num Epoches            :  100\n",
      "-----------------------------------------------\n"
     ]
    },
    {
     "data": {
      "text/html": [
       "Waiting for W&B process to finish... <strong style=\"color:green\">(success).</strong>"
      ],
      "text/plain": [
       "<IPython.core.display.HTML object>"
      ]
     },
     "metadata": {},
     "output_type": "display_data"
    },
    {
     "data": {
      "text/html": [
       "<style>\n",
       "    table.wandb td:nth-child(1) { padding: 0 10px; text-align: left ; width: auto;} td:nth-child(2) {text-align: left ; width: 100%}\n",
       "    .wandb-row { display: flex; flex-direction: row; flex-wrap: wrap; justify-content: flex-start; width: 100% }\n",
       "    .wandb-col { display: flex; flex-direction: column; flex-basis: 100%; flex: 1; padding: 10px; }\n",
       "    </style>\n",
       "<div class=\"wandb-row\"><div class=\"wandb-col\"><h3>Run history:</h3><br/><table class=\"wandb\"><tr><td>acc</td><td>▁▁▂▂▂▃▃▃▃▃▄▄▅▅▅▅▅▆▆▆▆▇▇▇▇▇▇▇▇▇██████████</td></tr><tr><td>loss</td><td>█▇▆▆▅▅▅▄▄▄▄▃▃▃▃▃▃▂▂▂▂▂▂▂▂▂▂▂▁▁▁▁▁▁▁▁▁▁▁▁</td></tr></table><br/></div><div class=\"wandb-col\"><h3>Run summary:</h3><br/><table class=\"wandb\"><tr><td>acc</td><td>0.456</td></tr><tr><td>loss</td><td>0.155</td></tr></table><br/></div></div>"
      ],
      "text/plain": [
       "<IPython.core.display.HTML object>"
      ]
     },
     "metadata": {},
     "output_type": "display_data"
    },
    {
     "data": {
      "text/html": [
       " View run <strong style=\"color:#cdcd00\">honest-monkey-44</strong> at: <a href='https://wandb.ai/tejas591995/MLPClassification/runs/vpwy0re4' target=\"_blank\">https://wandb.ai/tejas591995/MLPClassification/runs/vpwy0re4</a><br/> View job at <a href='https://wandb.ai/tejas591995/MLPClassification/jobs/QXJ0aWZhY3RDb2xsZWN0aW9uOjEwOTIxOTAwNw==/version_details/v0' target=\"_blank\">https://wandb.ai/tejas591995/MLPClassification/jobs/QXJ0aWZhY3RDb2xsZWN0aW9uOjEwOTIxOTAwNw==/version_details/v0</a><br/>Synced 6 W&B file(s), 0 media file(s), 0 artifact file(s) and 0 other file(s)"
      ],
      "text/plain": [
       "<IPython.core.display.HTML object>"
      ]
     },
     "metadata": {},
     "output_type": "display_data"
    },
    {
     "data": {
      "text/html": [
       "Find logs at: <code>./wandb/run-20231023_185739-vpwy0re4/logs</code>"
      ],
      "text/plain": [
       "<IPython.core.display.HTML object>"
      ]
     },
     "metadata": {},
     "output_type": "display_data"
    },
    {
     "name": "stdout",
     "output_type": "stream",
     "text": [
      "44\n"
     ]
    },
    {
     "data": {
      "application/vnd.jupyter.widget-view+json": {
       "model_id": "d0fb246e50a548449479a3d50f213838",
       "version_major": 2,
       "version_minor": 0
      },
      "text/plain": [
       "VBox(children=(Label(value='Waiting for wandb.init()...\\r'), FloatProgress(value=0.011114250955546998, max=1.0…"
      ]
     },
     "metadata": {},
     "output_type": "display_data"
    },
    {
     "data": {
      "text/html": [
       "wandb version 0.15.12 is available!  To upgrade, please run:\n",
       " $ pip install wandb --upgrade"
      ],
      "text/plain": [
       "<IPython.core.display.HTML object>"
      ]
     },
     "metadata": {},
     "output_type": "display_data"
    },
    {
     "data": {
      "text/html": [
       "Tracking run with wandb version 0.15.11"
      ],
      "text/plain": [
       "<IPython.core.display.HTML object>"
      ]
     },
     "metadata": {},
     "output_type": "display_data"
    },
    {
     "data": {
      "text/html": [
       "Run data is saved locally in <code>/home/tejas/Documents/SMAI/assignment-3-MrTejas/q2/wandb/run-20231023_185754-2slo7chg</code>"
      ],
      "text/plain": [
       "<IPython.core.display.HTML object>"
      ]
     },
     "metadata": {},
     "output_type": "display_data"
    },
    {
     "data": {
      "text/html": [
       "Syncing run <strong><a href='https://wandb.ai/tejas591995/MLPClassification/runs/2slo7chg' target=\"_blank\">cerulean-bird-45</a></strong> to <a href='https://wandb.ai/tejas591995/MLPClassification' target=\"_blank\">Weights & Biases</a> (<a href='https://wandb.me/run' target=\"_blank\">docs</a>)<br/>"
      ],
      "text/plain": [
       "<IPython.core.display.HTML object>"
      ]
     },
     "metadata": {},
     "output_type": "display_data"
    },
    {
     "data": {
      "text/html": [
       " View project at <a href='https://wandb.ai/tejas591995/MLPClassification' target=\"_blank\">https://wandb.ai/tejas591995/MLPClassification</a>"
      ],
      "text/plain": [
       "<IPython.core.display.HTML object>"
      ]
     },
     "metadata": {},
     "output_type": "display_data"
    },
    {
     "data": {
      "text/html": [
       " View run at <a href='https://wandb.ai/tejas591995/MLPClassification/runs/2slo7chg' target=\"_blank\">https://wandb.ai/tejas591995/MLPClassification/runs/2slo7chg</a>"
      ],
      "text/plain": [
       "<IPython.core.display.HTML object>"
      ]
     },
     "metadata": {},
     "output_type": "display_data"
    },
    {
     "name": "stdout",
     "output_type": "stream",
     "text": [
      "Initialized values successfully!\n",
      "Loaded Dataframe!\n",
      "Splitted data into train, test and val sets!\n",
      "-----------------------------------------------\n",
      "Number of Layers       :  4\n",
      "Layer sizes            :  [11, 5, 5, 6]\n",
      "Batch size             :  100\n",
      "Activation Function    :  sigmoid\n",
      "Optimization Method    :  mini-batch\n",
      "Learning Rate          :  0.015\n",
      "Num Epoches            :  100\n",
      "-----------------------------------------------\n"
     ]
    },
    {
     "data": {
      "text/html": [
       "Waiting for W&B process to finish... <strong style=\"color:green\">(success).</strong>"
      ],
      "text/plain": [
       "<IPython.core.display.HTML object>"
      ]
     },
     "metadata": {},
     "output_type": "display_data"
    },
    {
     "data": {
      "text/html": [
       "<style>\n",
       "    table.wandb td:nth-child(1) { padding: 0 10px; text-align: left ; width: auto;} td:nth-child(2) {text-align: left ; width: 100%}\n",
       "    .wandb-row { display: flex; flex-direction: row; flex-wrap: wrap; justify-content: flex-start; width: 100% }\n",
       "    .wandb-col { display: flex; flex-direction: column; flex-basis: 100%; flex: 1; padding: 10px; }\n",
       "    </style>\n",
       "<div class=\"wandb-row\"><div class=\"wandb-col\"><h3>Run history:</h3><br/><table class=\"wandb\"><tr><td>acc</td><td>▁▂▅▇████████████████████████████████████</td></tr><tr><td>loss</td><td>███▇▇▇▇▇▆▆▆▆▆▆▅▅▅▅▅▄▄▄▄▄▃▃▃▃▃▃▃▂▂▂▂▂▂▁▁▁</td></tr></table><br/></div><div class=\"wandb-col\"><h3>Run summary:</h3><br/><table class=\"wandb\"><tr><td>acc</td><td>0.416</td></tr><tr><td>loss</td><td>0.269</td></tr></table><br/></div></div>"
      ],
      "text/plain": [
       "<IPython.core.display.HTML object>"
      ]
     },
     "metadata": {},
     "output_type": "display_data"
    },
    {
     "data": {
      "text/html": [
       " View run <strong style=\"color:#cdcd00\">cerulean-bird-45</strong> at: <a href='https://wandb.ai/tejas591995/MLPClassification/runs/2slo7chg' target=\"_blank\">https://wandb.ai/tejas591995/MLPClassification/runs/2slo7chg</a><br/> View job at <a href='https://wandb.ai/tejas591995/MLPClassification/jobs/QXJ0aWZhY3RDb2xsZWN0aW9uOjEwOTIxOTAwNw==/version_details/v0' target=\"_blank\">https://wandb.ai/tejas591995/MLPClassification/jobs/QXJ0aWZhY3RDb2xsZWN0aW9uOjEwOTIxOTAwNw==/version_details/v0</a><br/>Synced 6 W&B file(s), 0 media file(s), 0 artifact file(s) and 0 other file(s)"
      ],
      "text/plain": [
       "<IPython.core.display.HTML object>"
      ]
     },
     "metadata": {},
     "output_type": "display_data"
    },
    {
     "data": {
      "text/html": [
       "Find logs at: <code>./wandb/run-20231023_185754-2slo7chg/logs</code>"
      ],
      "text/plain": [
       "<IPython.core.display.HTML object>"
      ]
     },
     "metadata": {},
     "output_type": "display_data"
    },
    {
     "name": "stdout",
     "output_type": "stream",
     "text": [
      "45\n"
     ]
    },
    {
     "data": {
      "application/vnd.jupyter.widget-view+json": {
       "model_id": "df730844f96e4f6e9a2d760a49152e6b",
       "version_major": 2,
       "version_minor": 0
      },
      "text/plain": [
       "VBox(children=(Label(value='Waiting for wandb.init()...\\r'), FloatProgress(value=0.011113715166680372, max=1.0…"
      ]
     },
     "metadata": {},
     "output_type": "display_data"
    },
    {
     "data": {
      "text/html": [
       "wandb version 0.15.12 is available!  To upgrade, please run:\n",
       " $ pip install wandb --upgrade"
      ],
      "text/plain": [
       "<IPython.core.display.HTML object>"
      ]
     },
     "metadata": {},
     "output_type": "display_data"
    },
    {
     "data": {
      "text/html": [
       "Tracking run with wandb version 0.15.11"
      ],
      "text/plain": [
       "<IPython.core.display.HTML object>"
      ]
     },
     "metadata": {},
     "output_type": "display_data"
    },
    {
     "data": {
      "text/html": [
       "Run data is saved locally in <code>/home/tejas/Documents/SMAI/assignment-3-MrTejas/q2/wandb/run-20231023_185808-y8lhm107</code>"
      ],
      "text/plain": [
       "<IPython.core.display.HTML object>"
      ]
     },
     "metadata": {},
     "output_type": "display_data"
    },
    {
     "data": {
      "text/html": [
       "Syncing run <strong><a href='https://wandb.ai/tejas591995/MLPClassification/runs/y8lhm107' target=\"_blank\">glorious-pond-46</a></strong> to <a href='https://wandb.ai/tejas591995/MLPClassification' target=\"_blank\">Weights & Biases</a> (<a href='https://wandb.me/run' target=\"_blank\">docs</a>)<br/>"
      ],
      "text/plain": [
       "<IPython.core.display.HTML object>"
      ]
     },
     "metadata": {},
     "output_type": "display_data"
    },
    {
     "data": {
      "text/html": [
       " View project at <a href='https://wandb.ai/tejas591995/MLPClassification' target=\"_blank\">https://wandb.ai/tejas591995/MLPClassification</a>"
      ],
      "text/plain": [
       "<IPython.core.display.HTML object>"
      ]
     },
     "metadata": {},
     "output_type": "display_data"
    },
    {
     "data": {
      "text/html": [
       " View run at <a href='https://wandb.ai/tejas591995/MLPClassification/runs/y8lhm107' target=\"_blank\">https://wandb.ai/tejas591995/MLPClassification/runs/y8lhm107</a>"
      ],
      "text/plain": [
       "<IPython.core.display.HTML object>"
      ]
     },
     "metadata": {},
     "output_type": "display_data"
    },
    {
     "name": "stdout",
     "output_type": "stream",
     "text": [
      "Initialized values successfully!\n",
      "Loaded Dataframe!\n",
      "Splitted data into train, test and val sets!\n",
      "-----------------------------------------------\n",
      "Number of Layers       :  4\n",
      "Layer sizes            :  [11, 5, 5, 6]\n",
      "Batch size             :  150\n",
      "Activation Function    :  sigmoid\n",
      "Optimization Method    :  mini-batch\n",
      "Learning Rate          :  0.015\n",
      "Num Epoches            :  100\n",
      "-----------------------------------------------\n"
     ]
    },
    {
     "data": {
      "text/html": [
       "Waiting for W&B process to finish... <strong style=\"color:green\">(success).</strong>"
      ],
      "text/plain": [
       "<IPython.core.display.HTML object>"
      ]
     },
     "metadata": {},
     "output_type": "display_data"
    },
    {
     "data": {
      "text/html": [
       "<style>\n",
       "    table.wandb td:nth-child(1) { padding: 0 10px; text-align: left ; width: auto;} td:nth-child(2) {text-align: left ; width: 100%}\n",
       "    .wandb-row { display: flex; flex-direction: row; flex-wrap: wrap; justify-content: flex-start; width: 100% }\n",
       "    .wandb-col { display: flex; flex-direction: column; flex-basis: 100%; flex: 1; padding: 10px; }\n",
       "    </style>\n",
       "<div class=\"wandb-row\"><div class=\"wandb-col\"><h3>Run history:</h3><br/><table class=\"wandb\"><tr><td>acc</td><td>▁▁▁▂▂▂▃▃▄▄▄▅▅▅▆▇▇███████████████████████</td></tr><tr><td>loss</td><td>████▇▇▇▇▆▆▆▆▆▆▅▅▅▅▅▅▄▄▄▄▄▃▃▃▃▃▃▃▂▂▂▂▁▁▁▁</td></tr></table><br/></div><div class=\"wandb-col\"><h3>Run summary:</h3><br/><table class=\"wandb\"><tr><td>acc</td><td>0.417</td></tr><tr><td>loss</td><td>0.278</td></tr></table><br/></div></div>"
      ],
      "text/plain": [
       "<IPython.core.display.HTML object>"
      ]
     },
     "metadata": {},
     "output_type": "display_data"
    },
    {
     "data": {
      "text/html": [
       " View run <strong style=\"color:#cdcd00\">glorious-pond-46</strong> at: <a href='https://wandb.ai/tejas591995/MLPClassification/runs/y8lhm107' target=\"_blank\">https://wandb.ai/tejas591995/MLPClassification/runs/y8lhm107</a><br/> View job at <a href='https://wandb.ai/tejas591995/MLPClassification/jobs/QXJ0aWZhY3RDb2xsZWN0aW9uOjEwOTIxOTAwNw==/version_details/v0' target=\"_blank\">https://wandb.ai/tejas591995/MLPClassification/jobs/QXJ0aWZhY3RDb2xsZWN0aW9uOjEwOTIxOTAwNw==/version_details/v0</a><br/>Synced 6 W&B file(s), 0 media file(s), 0 artifact file(s) and 0 other file(s)"
      ],
      "text/plain": [
       "<IPython.core.display.HTML object>"
      ]
     },
     "metadata": {},
     "output_type": "display_data"
    },
    {
     "data": {
      "text/html": [
       "Find logs at: <code>./wandb/run-20231023_185808-y8lhm107/logs</code>"
      ],
      "text/plain": [
       "<IPython.core.display.HTML object>"
      ]
     },
     "metadata": {},
     "output_type": "display_data"
    },
    {
     "name": "stdout",
     "output_type": "stream",
     "text": [
      "46\n"
     ]
    },
    {
     "data": {
      "application/vnd.jupyter.widget-view+json": {
       "model_id": "92b6e631eb4a4fe28f1c320319b480c3",
       "version_major": 2,
       "version_minor": 0
      },
      "text/plain": [
       "VBox(children=(Label(value='Waiting for wandb.init()...\\r'), FloatProgress(value=0.011114030600017739, max=1.0…"
      ]
     },
     "metadata": {},
     "output_type": "display_data"
    },
    {
     "data": {
      "text/html": [
       "wandb version 0.15.12 is available!  To upgrade, please run:\n",
       " $ pip install wandb --upgrade"
      ],
      "text/plain": [
       "<IPython.core.display.HTML object>"
      ]
     },
     "metadata": {},
     "output_type": "display_data"
    },
    {
     "data": {
      "text/html": [
       "Tracking run with wandb version 0.15.11"
      ],
      "text/plain": [
       "<IPython.core.display.HTML object>"
      ]
     },
     "metadata": {},
     "output_type": "display_data"
    },
    {
     "data": {
      "text/html": [
       "Run data is saved locally in <code>/home/tejas/Documents/SMAI/assignment-3-MrTejas/q2/wandb/run-20231023_185824-arramdvi</code>"
      ],
      "text/plain": [
       "<IPython.core.display.HTML object>"
      ]
     },
     "metadata": {},
     "output_type": "display_data"
    },
    {
     "data": {
      "text/html": [
       "Syncing run <strong><a href='https://wandb.ai/tejas591995/MLPClassification/runs/arramdvi' target=\"_blank\">glorious-salad-47</a></strong> to <a href='https://wandb.ai/tejas591995/MLPClassification' target=\"_blank\">Weights & Biases</a> (<a href='https://wandb.me/run' target=\"_blank\">docs</a>)<br/>"
      ],
      "text/plain": [
       "<IPython.core.display.HTML object>"
      ]
     },
     "metadata": {},
     "output_type": "display_data"
    },
    {
     "data": {
      "text/html": [
       " View project at <a href='https://wandb.ai/tejas591995/MLPClassification' target=\"_blank\">https://wandb.ai/tejas591995/MLPClassification</a>"
      ],
      "text/plain": [
       "<IPython.core.display.HTML object>"
      ]
     },
     "metadata": {},
     "output_type": "display_data"
    },
    {
     "data": {
      "text/html": [
       " View run at <a href='https://wandb.ai/tejas591995/MLPClassification/runs/arramdvi' target=\"_blank\">https://wandb.ai/tejas591995/MLPClassification/runs/arramdvi</a>"
      ],
      "text/plain": [
       "<IPython.core.display.HTML object>"
      ]
     },
     "metadata": {},
     "output_type": "display_data"
    },
    {
     "name": "stdout",
     "output_type": "stream",
     "text": [
      "Initialized values successfully!\n",
      "Loaded Dataframe!\n",
      "Splitted data into train, test and val sets!\n",
      "-----------------------------------------------\n",
      "Number of Layers       :  4\n",
      "Layer sizes            :  [11, 5, 5, 6]\n",
      "Batch size             :  200\n",
      "Activation Function    :  sigmoid\n",
      "Optimization Method    :  mini-batch\n",
      "Learning Rate          :  0.015\n",
      "Num Epoches            :  100\n",
      "-----------------------------------------------\n"
     ]
    },
    {
     "data": {
      "text/html": [
       "Waiting for W&B process to finish... <strong style=\"color:green\">(success).</strong>"
      ],
      "text/plain": [
       "<IPython.core.display.HTML object>"
      ]
     },
     "metadata": {},
     "output_type": "display_data"
    },
    {
     "data": {
      "application/vnd.jupyter.widget-view+json": {
       "model_id": "850beaebf74a4109a6072b8392019e7b",
       "version_major": 2,
       "version_minor": 0
      },
      "text/plain": [
       "VBox(children=(Label(value='0.002 MB of 0.002 MB uploaded (0.000 MB deduped)\\r'), FloatProgress(value=1.0, max…"
      ]
     },
     "metadata": {},
     "output_type": "display_data"
    },
    {
     "data": {
      "text/html": [
       "<style>\n",
       "    table.wandb td:nth-child(1) { padding: 0 10px; text-align: left ; width: auto;} td:nth-child(2) {text-align: left ; width: 100%}\n",
       "    .wandb-row { display: flex; flex-direction: row; flex-wrap: wrap; justify-content: flex-start; width: 100% }\n",
       "    .wandb-col { display: flex; flex-direction: column; flex-basis: 100%; flex: 1; padding: 10px; }\n",
       "    </style>\n",
       "<div class=\"wandb-row\"><div class=\"wandb-col\"><h3>Run history:</h3><br/><table class=\"wandb\"><tr><td>acc</td><td>▁▁▂▃▄▅▆▇▇▇▇▇▇▇▇▇████████████████████████</td></tr><tr><td>loss</td><td>█████▇▇▇▇▇▆▆▆▅▅▅▅▅▄▄▄▄▄▄▄▄▄▃▃▃▂▂▂▂▂▂▂▂▂▁</td></tr></table><br/></div><div class=\"wandb-col\"><h3>Run summary:</h3><br/><table class=\"wandb\"><tr><td>acc</td><td>0.323</td></tr><tr><td>loss</td><td>0.244</td></tr></table><br/></div></div>"
      ],
      "text/plain": [
       "<IPython.core.display.HTML object>"
      ]
     },
     "metadata": {},
     "output_type": "display_data"
    },
    {
     "data": {
      "text/html": [
       " View run <strong style=\"color:#cdcd00\">glorious-salad-47</strong> at: <a href='https://wandb.ai/tejas591995/MLPClassification/runs/arramdvi' target=\"_blank\">https://wandb.ai/tejas591995/MLPClassification/runs/arramdvi</a><br/> View job at <a href='https://wandb.ai/tejas591995/MLPClassification/jobs/QXJ0aWZhY3RDb2xsZWN0aW9uOjEwOTIxOTAwNw==/version_details/v0' target=\"_blank\">https://wandb.ai/tejas591995/MLPClassification/jobs/QXJ0aWZhY3RDb2xsZWN0aW9uOjEwOTIxOTAwNw==/version_details/v0</a><br/>Synced 6 W&B file(s), 0 media file(s), 0 artifact file(s) and 0 other file(s)"
      ],
      "text/plain": [
       "<IPython.core.display.HTML object>"
      ]
     },
     "metadata": {},
     "output_type": "display_data"
    },
    {
     "data": {
      "text/html": [
       "Find logs at: <code>./wandb/run-20231023_185824-arramdvi/logs</code>"
      ],
      "text/plain": [
       "<IPython.core.display.HTML object>"
      ]
     },
     "metadata": {},
     "output_type": "display_data"
    },
    {
     "name": "stdout",
     "output_type": "stream",
     "text": [
      "47\n"
     ]
    },
    {
     "data": {
      "application/vnd.jupyter.widget-view+json": {
       "model_id": "03084cf17a3b482882fb38ffe7d3ff09",
       "version_major": 2,
       "version_minor": 0
      },
      "text/plain": [
       "VBox(children=(Label(value='Waiting for wandb.init()...\\r'), FloatProgress(value=0.011112608300027204, max=1.0…"
      ]
     },
     "metadata": {},
     "output_type": "display_data"
    },
    {
     "data": {
      "text/html": [
       "wandb version 0.15.12 is available!  To upgrade, please run:\n",
       " $ pip install wandb --upgrade"
      ],
      "text/plain": [
       "<IPython.core.display.HTML object>"
      ]
     },
     "metadata": {},
     "output_type": "display_data"
    },
    {
     "data": {
      "text/html": [
       "Tracking run with wandb version 0.15.11"
      ],
      "text/plain": [
       "<IPython.core.display.HTML object>"
      ]
     },
     "metadata": {},
     "output_type": "display_data"
    },
    {
     "data": {
      "text/html": [
       "Run data is saved locally in <code>/home/tejas/Documents/SMAI/assignment-3-MrTejas/q2/wandb/run-20231023_185839-69xh6h6l</code>"
      ],
      "text/plain": [
       "<IPython.core.display.HTML object>"
      ]
     },
     "metadata": {},
     "output_type": "display_data"
    },
    {
     "data": {
      "text/html": [
       "Syncing run <strong><a href='https://wandb.ai/tejas591995/MLPClassification/runs/69xh6h6l' target=\"_blank\">eager-glade-48</a></strong> to <a href='https://wandb.ai/tejas591995/MLPClassification' target=\"_blank\">Weights & Biases</a> (<a href='https://wandb.me/run' target=\"_blank\">docs</a>)<br/>"
      ],
      "text/plain": [
       "<IPython.core.display.HTML object>"
      ]
     },
     "metadata": {},
     "output_type": "display_data"
    },
    {
     "data": {
      "text/html": [
       " View project at <a href='https://wandb.ai/tejas591995/MLPClassification' target=\"_blank\">https://wandb.ai/tejas591995/MLPClassification</a>"
      ],
      "text/plain": [
       "<IPython.core.display.HTML object>"
      ]
     },
     "metadata": {},
     "output_type": "display_data"
    },
    {
     "data": {
      "text/html": [
       " View run at <a href='https://wandb.ai/tejas591995/MLPClassification/runs/69xh6h6l' target=\"_blank\">https://wandb.ai/tejas591995/MLPClassification/runs/69xh6h6l</a>"
      ],
      "text/plain": [
       "<IPython.core.display.HTML object>"
      ]
     },
     "metadata": {},
     "output_type": "display_data"
    },
    {
     "name": "stdout",
     "output_type": "stream",
     "text": [
      "Initialized values successfully!\n",
      "Loaded Dataframe!\n",
      "Splitted data into train, test and val sets!\n",
      "-----------------------------------------------\n",
      "Number of Layers       :  4\n",
      "Layer sizes            :  [11, 5, 5, 6]\n",
      "Batch size             :  250\n",
      "Activation Function    :  sigmoid\n",
      "Optimization Method    :  mini-batch\n",
      "Learning Rate          :  0.015\n",
      "Num Epoches            :  100\n",
      "-----------------------------------------------\n"
     ]
    },
    {
     "data": {
      "text/html": [
       "Waiting for W&B process to finish... <strong style=\"color:green\">(success).</strong>"
      ],
      "text/plain": [
       "<IPython.core.display.HTML object>"
      ]
     },
     "metadata": {},
     "output_type": "display_data"
    },
    {
     "data": {
      "text/html": [
       "<style>\n",
       "    table.wandb td:nth-child(1) { padding: 0 10px; text-align: left ; width: auto;} td:nth-child(2) {text-align: left ; width: 100%}\n",
       "    .wandb-row { display: flex; flex-direction: row; flex-wrap: wrap; justify-content: flex-start; width: 100% }\n",
       "    .wandb-col { display: flex; flex-direction: column; flex-basis: 100%; flex: 1; padding: 10px; }\n",
       "    </style>\n",
       "<div class=\"wandb-row\"><div class=\"wandb-col\"><h3>Run history:</h3><br/><table class=\"wandb\"><tr><td>acc</td><td>▁▃▆▆▆▆▅▅▇██▇▆▆▆▆▆▆▆▆▆▆▆▆▆▆▆▆▆▆▆▆▆▆▆▆▆▆▆▆</td></tr><tr><td>loss</td><td>██▇▇▇▇▇▇▇▇▆▆▆▆▅▅▅▅▅▅▅▅▄▄▄▄▃▃▃▃▂▂▂▂▂▂▂▂▁▁</td></tr></table><br/></div><div class=\"wandb-col\"><h3>Run summary:</h3><br/><table class=\"wandb\"><tr><td>acc</td><td>0.347</td></tr><tr><td>loss</td><td>0.232</td></tr></table><br/></div></div>"
      ],
      "text/plain": [
       "<IPython.core.display.HTML object>"
      ]
     },
     "metadata": {},
     "output_type": "display_data"
    },
    {
     "data": {
      "text/html": [
       " View run <strong style=\"color:#cdcd00\">eager-glade-48</strong> at: <a href='https://wandb.ai/tejas591995/MLPClassification/runs/69xh6h6l' target=\"_blank\">https://wandb.ai/tejas591995/MLPClassification/runs/69xh6h6l</a><br/> View job at <a href='https://wandb.ai/tejas591995/MLPClassification/jobs/QXJ0aWZhY3RDb2xsZWN0aW9uOjEwOTIxOTAwNw==/version_details/v0' target=\"_blank\">https://wandb.ai/tejas591995/MLPClassification/jobs/QXJ0aWZhY3RDb2xsZWN0aW9uOjEwOTIxOTAwNw==/version_details/v0</a><br/>Synced 6 W&B file(s), 0 media file(s), 0 artifact file(s) and 0 other file(s)"
      ],
      "text/plain": [
       "<IPython.core.display.HTML object>"
      ]
     },
     "metadata": {},
     "output_type": "display_data"
    },
    {
     "data": {
      "text/html": [
       "Find logs at: <code>./wandb/run-20231023_185839-69xh6h6l/logs</code>"
      ],
      "text/plain": [
       "<IPython.core.display.HTML object>"
      ]
     },
     "metadata": {},
     "output_type": "display_data"
    },
    {
     "name": "stdout",
     "output_type": "stream",
     "text": [
      "48\n"
     ]
    },
    {
     "data": {
      "application/vnd.jupyter.widget-view+json": {
       "model_id": "387cab51adf14c0096d6e9d9683585cf",
       "version_major": 2,
       "version_minor": 0
      },
      "text/plain": [
       "VBox(children=(Label(value='Waiting for wandb.init()...\\r'), FloatProgress(value=0.011113868077801372, max=1.0…"
      ]
     },
     "metadata": {},
     "output_type": "display_data"
    },
    {
     "data": {
      "text/html": [
       "wandb version 0.15.12 is available!  To upgrade, please run:\n",
       " $ pip install wandb --upgrade"
      ],
      "text/plain": [
       "<IPython.core.display.HTML object>"
      ]
     },
     "metadata": {},
     "output_type": "display_data"
    },
    {
     "data": {
      "text/html": [
       "Tracking run with wandb version 0.15.11"
      ],
      "text/plain": [
       "<IPython.core.display.HTML object>"
      ]
     },
     "metadata": {},
     "output_type": "display_data"
    },
    {
     "data": {
      "text/html": [
       "Run data is saved locally in <code>/home/tejas/Documents/SMAI/assignment-3-MrTejas/q2/wandb/run-20231023_185854-fjbri2xj</code>"
      ],
      "text/plain": [
       "<IPython.core.display.HTML object>"
      ]
     },
     "metadata": {},
     "output_type": "display_data"
    },
    {
     "data": {
      "text/html": [
       "Syncing run <strong><a href='https://wandb.ai/tejas591995/MLPClassification/runs/fjbri2xj' target=\"_blank\">drawn-star-49</a></strong> to <a href='https://wandb.ai/tejas591995/MLPClassification' target=\"_blank\">Weights & Biases</a> (<a href='https://wandb.me/run' target=\"_blank\">docs</a>)<br/>"
      ],
      "text/plain": [
       "<IPython.core.display.HTML object>"
      ]
     },
     "metadata": {},
     "output_type": "display_data"
    },
    {
     "data": {
      "text/html": [
       " View project at <a href='https://wandb.ai/tejas591995/MLPClassification' target=\"_blank\">https://wandb.ai/tejas591995/MLPClassification</a>"
      ],
      "text/plain": [
       "<IPython.core.display.HTML object>"
      ]
     },
     "metadata": {},
     "output_type": "display_data"
    },
    {
     "data": {
      "text/html": [
       " View run at <a href='https://wandb.ai/tejas591995/MLPClassification/runs/fjbri2xj' target=\"_blank\">https://wandb.ai/tejas591995/MLPClassification/runs/fjbri2xj</a>"
      ],
      "text/plain": [
       "<IPython.core.display.HTML object>"
      ]
     },
     "metadata": {},
     "output_type": "display_data"
    },
    {
     "name": "stdout",
     "output_type": "stream",
     "text": [
      "Initialized values successfully!\n",
      "Loaded Dataframe!\n",
      "Splitted data into train, test and val sets!\n",
      "-----------------------------------------------\n",
      "Number of Layers       :  4\n",
      "Layer sizes            :  [11, 5, 5, 6]\n",
      "Batch size             :  100\n",
      "Activation Function    :  tanh\n",
      "Optimization Method    :  mini-batch\n",
      "Learning Rate          :  0.02\n",
      "Num Epoches            :  100\n",
      "-----------------------------------------------\n"
     ]
    },
    {
     "data": {
      "text/html": [
       "Waiting for W&B process to finish... <strong style=\"color:green\">(success).</strong>"
      ],
      "text/plain": [
       "<IPython.core.display.HTML object>"
      ]
     },
     "metadata": {},
     "output_type": "display_data"
    },
    {
     "data": {
      "text/html": [
       "<style>\n",
       "    table.wandb td:nth-child(1) { padding: 0 10px; text-align: left ; width: auto;} td:nth-child(2) {text-align: left ; width: 100%}\n",
       "    .wandb-row { display: flex; flex-direction: row; flex-wrap: wrap; justify-content: flex-start; width: 100% }\n",
       "    .wandb-col { display: flex; flex-direction: column; flex-basis: 100%; flex: 1; padding: 10px; }\n",
       "    </style>\n",
       "<div class=\"wandb-row\"><div class=\"wandb-col\"><h3>Run history:</h3><br/><table class=\"wandb\"><tr><td>acc</td><td>▁▁▂▂▂▂▆▇████████████████████████████████</td></tr><tr><td>loss</td><td>██▇▆▆▅▅▄▄▄▃▃▃▂▂▂▂▂▂▁▁▁▁▁▁▁▁▁▁▁▁▁▁▁▁▁▁▁▁▁</td></tr></table><br/></div><div class=\"wandb-col\"><h3>Run summary:</h3><br/><table class=\"wandb\"><tr><td>acc</td><td>0.417</td></tr><tr><td>loss</td><td>0.237</td></tr></table><br/></div></div>"
      ],
      "text/plain": [
       "<IPython.core.display.HTML object>"
      ]
     },
     "metadata": {},
     "output_type": "display_data"
    },
    {
     "data": {
      "text/html": [
       " View run <strong style=\"color:#cdcd00\">drawn-star-49</strong> at: <a href='https://wandb.ai/tejas591995/MLPClassification/runs/fjbri2xj' target=\"_blank\">https://wandb.ai/tejas591995/MLPClassification/runs/fjbri2xj</a><br/> View job at <a href='https://wandb.ai/tejas591995/MLPClassification/jobs/QXJ0aWZhY3RDb2xsZWN0aW9uOjEwOTIxOTAwNw==/version_details/v0' target=\"_blank\">https://wandb.ai/tejas591995/MLPClassification/jobs/QXJ0aWZhY3RDb2xsZWN0aW9uOjEwOTIxOTAwNw==/version_details/v0</a><br/>Synced 6 W&B file(s), 0 media file(s), 0 artifact file(s) and 0 other file(s)"
      ],
      "text/plain": [
       "<IPython.core.display.HTML object>"
      ]
     },
     "metadata": {},
     "output_type": "display_data"
    },
    {
     "data": {
      "text/html": [
       "Find logs at: <code>./wandb/run-20231023_185854-fjbri2xj/logs</code>"
      ],
      "text/plain": [
       "<IPython.core.display.HTML object>"
      ]
     },
     "metadata": {},
     "output_type": "display_data"
    },
    {
     "name": "stdout",
     "output_type": "stream",
     "text": [
      "49\n"
     ]
    },
    {
     "data": {
      "application/vnd.jupyter.widget-view+json": {
       "model_id": "5fb22d5860ef41959eb21cc0e4f388c2",
       "version_major": 2,
       "version_minor": 0
      },
      "text/plain": [
       "VBox(children=(Label(value='Waiting for wandb.init()...\\r'), FloatProgress(value=0.01111316830000659, max=1.0)…"
      ]
     },
     "metadata": {},
     "output_type": "display_data"
    },
    {
     "data": {
      "text/html": [
       "wandb version 0.15.12 is available!  To upgrade, please run:\n",
       " $ pip install wandb --upgrade"
      ],
      "text/plain": [
       "<IPython.core.display.HTML object>"
      ]
     },
     "metadata": {},
     "output_type": "display_data"
    },
    {
     "data": {
      "text/html": [
       "Tracking run with wandb version 0.15.11"
      ],
      "text/plain": [
       "<IPython.core.display.HTML object>"
      ]
     },
     "metadata": {},
     "output_type": "display_data"
    },
    {
     "data": {
      "text/html": [
       "Run data is saved locally in <code>/home/tejas/Documents/SMAI/assignment-3-MrTejas/q2/wandb/run-20231023_185908-kvvlv4s7</code>"
      ],
      "text/plain": [
       "<IPython.core.display.HTML object>"
      ]
     },
     "metadata": {},
     "output_type": "display_data"
    },
    {
     "data": {
      "text/html": [
       "Syncing run <strong><a href='https://wandb.ai/tejas591995/MLPClassification/runs/kvvlv4s7' target=\"_blank\">pleasant-pond-50</a></strong> to <a href='https://wandb.ai/tejas591995/MLPClassification' target=\"_blank\">Weights & Biases</a> (<a href='https://wandb.me/run' target=\"_blank\">docs</a>)<br/>"
      ],
      "text/plain": [
       "<IPython.core.display.HTML object>"
      ]
     },
     "metadata": {},
     "output_type": "display_data"
    },
    {
     "data": {
      "text/html": [
       " View project at <a href='https://wandb.ai/tejas591995/MLPClassification' target=\"_blank\">https://wandb.ai/tejas591995/MLPClassification</a>"
      ],
      "text/plain": [
       "<IPython.core.display.HTML object>"
      ]
     },
     "metadata": {},
     "output_type": "display_data"
    },
    {
     "data": {
      "text/html": [
       " View run at <a href='https://wandb.ai/tejas591995/MLPClassification/runs/kvvlv4s7' target=\"_blank\">https://wandb.ai/tejas591995/MLPClassification/runs/kvvlv4s7</a>"
      ],
      "text/plain": [
       "<IPython.core.display.HTML object>"
      ]
     },
     "metadata": {},
     "output_type": "display_data"
    },
    {
     "name": "stdout",
     "output_type": "stream",
     "text": [
      "Initialized values successfully!\n",
      "Loaded Dataframe!\n",
      "Splitted data into train, test and val sets!\n",
      "-----------------------------------------------\n",
      "Number of Layers       :  4\n",
      "Layer sizes            :  [11, 5, 5, 6]\n",
      "Batch size             :  150\n",
      "Activation Function    :  tanh\n",
      "Optimization Method    :  mini-batch\n",
      "Learning Rate          :  0.02\n",
      "Num Epoches            :  100\n",
      "-----------------------------------------------\n"
     ]
    },
    {
     "data": {
      "text/html": [
       "Waiting for W&B process to finish... <strong style=\"color:green\">(success).</strong>"
      ],
      "text/plain": [
       "<IPython.core.display.HTML object>"
      ]
     },
     "metadata": {},
     "output_type": "display_data"
    },
    {
     "data": {
      "text/html": [
       "<style>\n",
       "    table.wandb td:nth-child(1) { padding: 0 10px; text-align: left ; width: auto;} td:nth-child(2) {text-align: left ; width: 100%}\n",
       "    .wandb-row { display: flex; flex-direction: row; flex-wrap: wrap; justify-content: flex-start; width: 100% }\n",
       "    .wandb-col { display: flex; flex-direction: column; flex-basis: 100%; flex: 1; padding: 10px; }\n",
       "    </style>\n",
       "<div class=\"wandb-row\"><div class=\"wandb-col\"><h3>Run history:</h3><br/><table class=\"wandb\"><tr><td>acc</td><td>▁▃▃▄▄▄▄▄▄▄▄▄▄▄▄▄▄▄▄▄▅▅▅▅▆▆▆▆▆▆▇▇▇▇██████</td></tr><tr><td>loss</td><td>██▇▇▇▆▆▆▅▅▅▄▄▄▃▃▃▃▂▂▂▂▂▂▂▂▁▁▁▁▁▁▁▁▁▁▁▁▁▁</td></tr></table><br/></div><div class=\"wandb-col\"><h3>Run summary:</h3><br/><table class=\"wandb\"><tr><td>acc</td><td>0.568</td></tr><tr><td>loss</td><td>0.234</td></tr></table><br/></div></div>"
      ],
      "text/plain": [
       "<IPython.core.display.HTML object>"
      ]
     },
     "metadata": {},
     "output_type": "display_data"
    },
    {
     "data": {
      "text/html": [
       " View run <strong style=\"color:#cdcd00\">pleasant-pond-50</strong> at: <a href='https://wandb.ai/tejas591995/MLPClassification/runs/kvvlv4s7' target=\"_blank\">https://wandb.ai/tejas591995/MLPClassification/runs/kvvlv4s7</a><br/> View job at <a href='https://wandb.ai/tejas591995/MLPClassification/jobs/QXJ0aWZhY3RDb2xsZWN0aW9uOjEwOTIxOTAwNw==/version_details/v0' target=\"_blank\">https://wandb.ai/tejas591995/MLPClassification/jobs/QXJ0aWZhY3RDb2xsZWN0aW9uOjEwOTIxOTAwNw==/version_details/v0</a><br/>Synced 6 W&B file(s), 0 media file(s), 0 artifact file(s) and 0 other file(s)"
      ],
      "text/plain": [
       "<IPython.core.display.HTML object>"
      ]
     },
     "metadata": {},
     "output_type": "display_data"
    },
    {
     "data": {
      "text/html": [
       "Find logs at: <code>./wandb/run-20231023_185908-kvvlv4s7/logs</code>"
      ],
      "text/plain": [
       "<IPython.core.display.HTML object>"
      ]
     },
     "metadata": {},
     "output_type": "display_data"
    },
    {
     "name": "stdout",
     "output_type": "stream",
     "text": [
      "50\n"
     ]
    },
    {
     "data": {
      "application/vnd.jupyter.widget-view+json": {
       "model_id": "1ff844197f784ca29decd403298f4672",
       "version_major": 2,
       "version_minor": 0
      },
      "text/plain": [
       "VBox(children=(Label(value='Waiting for wandb.init()...\\r'), FloatProgress(value=0.011112434944435437, max=1.0…"
      ]
     },
     "metadata": {},
     "output_type": "display_data"
    },
    {
     "data": {
      "text/html": [
       "wandb version 0.15.12 is available!  To upgrade, please run:\n",
       " $ pip install wandb --upgrade"
      ],
      "text/plain": [
       "<IPython.core.display.HTML object>"
      ]
     },
     "metadata": {},
     "output_type": "display_data"
    },
    {
     "data": {
      "text/html": [
       "Tracking run with wandb version 0.15.11"
      ],
      "text/plain": [
       "<IPython.core.display.HTML object>"
      ]
     },
     "metadata": {},
     "output_type": "display_data"
    },
    {
     "data": {
      "text/html": [
       "Run data is saved locally in <code>/home/tejas/Documents/SMAI/assignment-3-MrTejas/q2/wandb/run-20231023_185923-0l8xe5c1</code>"
      ],
      "text/plain": [
       "<IPython.core.display.HTML object>"
      ]
     },
     "metadata": {},
     "output_type": "display_data"
    },
    {
     "data": {
      "text/html": [
       "Syncing run <strong><a href='https://wandb.ai/tejas591995/MLPClassification/runs/0l8xe5c1' target=\"_blank\">classic-frog-51</a></strong> to <a href='https://wandb.ai/tejas591995/MLPClassification' target=\"_blank\">Weights & Biases</a> (<a href='https://wandb.me/run' target=\"_blank\">docs</a>)<br/>"
      ],
      "text/plain": [
       "<IPython.core.display.HTML object>"
      ]
     },
     "metadata": {},
     "output_type": "display_data"
    },
    {
     "data": {
      "text/html": [
       " View project at <a href='https://wandb.ai/tejas591995/MLPClassification' target=\"_blank\">https://wandb.ai/tejas591995/MLPClassification</a>"
      ],
      "text/plain": [
       "<IPython.core.display.HTML object>"
      ]
     },
     "metadata": {},
     "output_type": "display_data"
    },
    {
     "data": {
      "text/html": [
       " View run at <a href='https://wandb.ai/tejas591995/MLPClassification/runs/0l8xe5c1' target=\"_blank\">https://wandb.ai/tejas591995/MLPClassification/runs/0l8xe5c1</a>"
      ],
      "text/plain": [
       "<IPython.core.display.HTML object>"
      ]
     },
     "metadata": {},
     "output_type": "display_data"
    },
    {
     "name": "stdout",
     "output_type": "stream",
     "text": [
      "Initialized values successfully!\n",
      "Loaded Dataframe!\n",
      "Splitted data into train, test and val sets!\n",
      "-----------------------------------------------\n",
      "Number of Layers       :  4\n",
      "Layer sizes            :  [11, 5, 5, 6]\n",
      "Batch size             :  200\n",
      "Activation Function    :  tanh\n",
      "Optimization Method    :  mini-batch\n",
      "Learning Rate          :  0.02\n",
      "Num Epoches            :  100\n",
      "-----------------------------------------------\n"
     ]
    },
    {
     "data": {
      "text/html": [
       "Waiting for W&B process to finish... <strong style=\"color:green\">(success).</strong>"
      ],
      "text/plain": [
       "<IPython.core.display.HTML object>"
      ]
     },
     "metadata": {},
     "output_type": "display_data"
    },
    {
     "data": {
      "text/html": [
       "<style>\n",
       "    table.wandb td:nth-child(1) { padding: 0 10px; text-align: left ; width: auto;} td:nth-child(2) {text-align: left ; width: 100%}\n",
       "    .wandb-row { display: flex; flex-direction: row; flex-wrap: wrap; justify-content: flex-start; width: 100% }\n",
       "    .wandb-col { display: flex; flex-direction: column; flex-basis: 100%; flex: 1; padding: 10px; }\n",
       "    </style>\n",
       "<div class=\"wandb-row\"><div class=\"wandb-col\"><h3>Run history:</h3><br/><table class=\"wandb\"><tr><td>acc</td><td>▁▃▆▇████████████████████████████████████</td></tr><tr><td>loss</td><td>█▇▇▆▆▅▅▅▄▄▄▃▃▃▃▃▂▂▂▂▂▂▂▂▂▂▂▂▁▁▁▁▁▁▁▁▁▁▁▁</td></tr></table><br/></div><div class=\"wandb-col\"><h3>Run summary:</h3><br/><table class=\"wandb\"><tr><td>acc</td><td>0.371</td></tr><tr><td>loss</td><td>0.209</td></tr></table><br/></div></div>"
      ],
      "text/plain": [
       "<IPython.core.display.HTML object>"
      ]
     },
     "metadata": {},
     "output_type": "display_data"
    },
    {
     "data": {
      "text/html": [
       " View run <strong style=\"color:#cdcd00\">classic-frog-51</strong> at: <a href='https://wandb.ai/tejas591995/MLPClassification/runs/0l8xe5c1' target=\"_blank\">https://wandb.ai/tejas591995/MLPClassification/runs/0l8xe5c1</a><br/> View job at <a href='https://wandb.ai/tejas591995/MLPClassification/jobs/QXJ0aWZhY3RDb2xsZWN0aW9uOjEwOTIxOTAwNw==/version_details/v0' target=\"_blank\">https://wandb.ai/tejas591995/MLPClassification/jobs/QXJ0aWZhY3RDb2xsZWN0aW9uOjEwOTIxOTAwNw==/version_details/v0</a><br/>Synced 6 W&B file(s), 0 media file(s), 0 artifact file(s) and 0 other file(s)"
      ],
      "text/plain": [
       "<IPython.core.display.HTML object>"
      ]
     },
     "metadata": {},
     "output_type": "display_data"
    },
    {
     "data": {
      "text/html": [
       "Find logs at: <code>./wandb/run-20231023_185923-0l8xe5c1/logs</code>"
      ],
      "text/plain": [
       "<IPython.core.display.HTML object>"
      ]
     },
     "metadata": {},
     "output_type": "display_data"
    },
    {
     "name": "stdout",
     "output_type": "stream",
     "text": [
      "51\n"
     ]
    },
    {
     "data": {
      "application/vnd.jupyter.widget-view+json": {
       "model_id": "0abccca103244eed970c1f3d549e69ee",
       "version_major": 2,
       "version_minor": 0
      },
      "text/plain": [
       "VBox(children=(Label(value='Waiting for wandb.init()...\\r'), FloatProgress(value=0.011112873699999505, max=1.0…"
      ]
     },
     "metadata": {},
     "output_type": "display_data"
    },
    {
     "data": {
      "text/html": [
       "wandb version 0.15.12 is available!  To upgrade, please run:\n",
       " $ pip install wandb --upgrade"
      ],
      "text/plain": [
       "<IPython.core.display.HTML object>"
      ]
     },
     "metadata": {},
     "output_type": "display_data"
    },
    {
     "data": {
      "text/html": [
       "Tracking run with wandb version 0.15.11"
      ],
      "text/plain": [
       "<IPython.core.display.HTML object>"
      ]
     },
     "metadata": {},
     "output_type": "display_data"
    },
    {
     "data": {
      "text/html": [
       "Run data is saved locally in <code>/home/tejas/Documents/SMAI/assignment-3-MrTejas/q2/wandb/run-20231023_185936-2rcz54mz</code>"
      ],
      "text/plain": [
       "<IPython.core.display.HTML object>"
      ]
     },
     "metadata": {},
     "output_type": "display_data"
    },
    {
     "data": {
      "text/html": [
       "Syncing run <strong><a href='https://wandb.ai/tejas591995/MLPClassification/runs/2rcz54mz' target=\"_blank\">dainty-surf-52</a></strong> to <a href='https://wandb.ai/tejas591995/MLPClassification' target=\"_blank\">Weights & Biases</a> (<a href='https://wandb.me/run' target=\"_blank\">docs</a>)<br/>"
      ],
      "text/plain": [
       "<IPython.core.display.HTML object>"
      ]
     },
     "metadata": {},
     "output_type": "display_data"
    },
    {
     "data": {
      "text/html": [
       " View project at <a href='https://wandb.ai/tejas591995/MLPClassification' target=\"_blank\">https://wandb.ai/tejas591995/MLPClassification</a>"
      ],
      "text/plain": [
       "<IPython.core.display.HTML object>"
      ]
     },
     "metadata": {},
     "output_type": "display_data"
    },
    {
     "data": {
      "text/html": [
       " View run at <a href='https://wandb.ai/tejas591995/MLPClassification/runs/2rcz54mz' target=\"_blank\">https://wandb.ai/tejas591995/MLPClassification/runs/2rcz54mz</a>"
      ],
      "text/plain": [
       "<IPython.core.display.HTML object>"
      ]
     },
     "metadata": {},
     "output_type": "display_data"
    },
    {
     "name": "stdout",
     "output_type": "stream",
     "text": [
      "Initialized values successfully!\n",
      "Loaded Dataframe!\n",
      "Splitted data into train, test and val sets!\n",
      "-----------------------------------------------\n",
      "Number of Layers       :  4\n",
      "Layer sizes            :  [11, 5, 5, 6]\n",
      "Batch size             :  250\n",
      "Activation Function    :  tanh\n",
      "Optimization Method    :  mini-batch\n",
      "Learning Rate          :  0.02\n",
      "Num Epoches            :  100\n",
      "-----------------------------------------------\n"
     ]
    },
    {
     "data": {
      "text/html": [
       "Waiting for W&B process to finish... <strong style=\"color:green\">(success).</strong>"
      ],
      "text/plain": [
       "<IPython.core.display.HTML object>"
      ]
     },
     "metadata": {},
     "output_type": "display_data"
    },
    {
     "data": {
      "text/html": [
       "<style>\n",
       "    table.wandb td:nth-child(1) { padding: 0 10px; text-align: left ; width: auto;} td:nth-child(2) {text-align: left ; width: 100%}\n",
       "    .wandb-row { display: flex; flex-direction: row; flex-wrap: wrap; justify-content: flex-start; width: 100% }\n",
       "    .wandb-col { display: flex; flex-direction: column; flex-basis: 100%; flex: 1; padding: 10px; }\n",
       "    </style>\n",
       "<div class=\"wandb-row\"><div class=\"wandb-col\"><h3>Run history:</h3><br/><table class=\"wandb\"><tr><td>acc</td><td>▁▂▃▃▄▅▆▇▇███████████████████████████████</td></tr><tr><td>loss</td><td>██▇▇▆▅▅▅▄▄▃▃▃▃▂▂▂▂▂▂▂▂▁▁▁▁▁▁▁▁▁▁▁▁▁▁▁▁▁▁</td></tr></table><br/></div><div class=\"wandb-col\"><h3>Run summary:</h3><br/><table class=\"wandb\"><tr><td>acc</td><td>0.326</td></tr><tr><td>loss</td><td>0.196</td></tr></table><br/></div></div>"
      ],
      "text/plain": [
       "<IPython.core.display.HTML object>"
      ]
     },
     "metadata": {},
     "output_type": "display_data"
    },
    {
     "data": {
      "text/html": [
       " View run <strong style=\"color:#cdcd00\">dainty-surf-52</strong> at: <a href='https://wandb.ai/tejas591995/MLPClassification/runs/2rcz54mz' target=\"_blank\">https://wandb.ai/tejas591995/MLPClassification/runs/2rcz54mz</a><br/> View job at <a href='https://wandb.ai/tejas591995/MLPClassification/jobs/QXJ0aWZhY3RDb2xsZWN0aW9uOjEwOTIxOTAwNw==/version_details/v0' target=\"_blank\">https://wandb.ai/tejas591995/MLPClassification/jobs/QXJ0aWZhY3RDb2xsZWN0aW9uOjEwOTIxOTAwNw==/version_details/v0</a><br/>Synced 6 W&B file(s), 0 media file(s), 0 artifact file(s) and 0 other file(s)"
      ],
      "text/plain": [
       "<IPython.core.display.HTML object>"
      ]
     },
     "metadata": {},
     "output_type": "display_data"
    },
    {
     "data": {
      "text/html": [
       "Find logs at: <code>./wandb/run-20231023_185936-2rcz54mz/logs</code>"
      ],
      "text/plain": [
       "<IPython.core.display.HTML object>"
      ]
     },
     "metadata": {},
     "output_type": "display_data"
    },
    {
     "name": "stdout",
     "output_type": "stream",
     "text": [
      "52\n"
     ]
    },
    {
     "data": {
      "application/vnd.jupyter.widget-view+json": {
       "model_id": "509b08aa8086434cb3fc66cbf4811760",
       "version_major": 2,
       "version_minor": 0
      },
      "text/plain": [
       "VBox(children=(Label(value='Waiting for wandb.init()...\\r'), FloatProgress(value=0.011113650833350322, max=1.0…"
      ]
     },
     "metadata": {},
     "output_type": "display_data"
    },
    {
     "data": {
      "text/html": [
       "wandb version 0.15.12 is available!  To upgrade, please run:\n",
       " $ pip install wandb --upgrade"
      ],
      "text/plain": [
       "<IPython.core.display.HTML object>"
      ]
     },
     "metadata": {},
     "output_type": "display_data"
    },
    {
     "data": {
      "text/html": [
       "Tracking run with wandb version 0.15.11"
      ],
      "text/plain": [
       "<IPython.core.display.HTML object>"
      ]
     },
     "metadata": {},
     "output_type": "display_data"
    },
    {
     "data": {
      "text/html": [
       "Run data is saved locally in <code>/home/tejas/Documents/SMAI/assignment-3-MrTejas/q2/wandb/run-20231023_185950-zr19rndw</code>"
      ],
      "text/plain": [
       "<IPython.core.display.HTML object>"
      ]
     },
     "metadata": {},
     "output_type": "display_data"
    },
    {
     "data": {
      "text/html": [
       "Syncing run <strong><a href='https://wandb.ai/tejas591995/MLPClassification/runs/zr19rndw' target=\"_blank\">wild-breeze-53</a></strong> to <a href='https://wandb.ai/tejas591995/MLPClassification' target=\"_blank\">Weights & Biases</a> (<a href='https://wandb.me/run' target=\"_blank\">docs</a>)<br/>"
      ],
      "text/plain": [
       "<IPython.core.display.HTML object>"
      ]
     },
     "metadata": {},
     "output_type": "display_data"
    },
    {
     "data": {
      "text/html": [
       " View project at <a href='https://wandb.ai/tejas591995/MLPClassification' target=\"_blank\">https://wandb.ai/tejas591995/MLPClassification</a>"
      ],
      "text/plain": [
       "<IPython.core.display.HTML object>"
      ]
     },
     "metadata": {},
     "output_type": "display_data"
    },
    {
     "data": {
      "text/html": [
       " View run at <a href='https://wandb.ai/tejas591995/MLPClassification/runs/zr19rndw' target=\"_blank\">https://wandb.ai/tejas591995/MLPClassification/runs/zr19rndw</a>"
      ],
      "text/plain": [
       "<IPython.core.display.HTML object>"
      ]
     },
     "metadata": {},
     "output_type": "display_data"
    },
    {
     "name": "stdout",
     "output_type": "stream",
     "text": [
      "Initialized values successfully!\n",
      "Loaded Dataframe!\n",
      "Splitted data into train, test and val sets!\n",
      "-----------------------------------------------\n",
      "Number of Layers       :  4\n",
      "Layer sizes            :  [11, 5, 5, 6]\n",
      "Batch size             :  100\n",
      "Activation Function    :  ReLU\n",
      "Optimization Method    :  mini-batch\n",
      "Learning Rate          :  0.02\n",
      "Num Epoches            :  100\n",
      "-----------------------------------------------\n"
     ]
    },
    {
     "data": {
      "text/html": [
       "Waiting for W&B process to finish... <strong style=\"color:green\">(success).</strong>"
      ],
      "text/plain": [
       "<IPython.core.display.HTML object>"
      ]
     },
     "metadata": {},
     "output_type": "display_data"
    },
    {
     "data": {
      "text/html": [
       "<style>\n",
       "    table.wandb td:nth-child(1) { padding: 0 10px; text-align: left ; width: auto;} td:nth-child(2) {text-align: left ; width: 100%}\n",
       "    .wandb-row { display: flex; flex-direction: row; flex-wrap: wrap; justify-content: flex-start; width: 100% }\n",
       "    .wandb-col { display: flex; flex-direction: column; flex-basis: 100%; flex: 1; padding: 10px; }\n",
       "    </style>\n",
       "<div class=\"wandb-row\"><div class=\"wandb-col\"><h3>Run history:</h3><br/><table class=\"wandb\"><tr><td>acc</td><td>▁▂▄▅▆▇▇▇████████████████████████████████</td></tr><tr><td>loss</td><td>█▆▄▄▃▃▂▂▂▂▂▁▁▁▁▁▁▁▁▁▁▁▁▁▁▁▁▁▁▁▁▁▁▁▁▁▁▁▁▁</td></tr></table><br/></div><div class=\"wandb-col\"><h3>Run summary:</h3><br/><table class=\"wandb\"><tr><td>acc</td><td>0.574</td></tr><tr><td>loss</td><td>0.176</td></tr></table><br/></div></div>"
      ],
      "text/plain": [
       "<IPython.core.display.HTML object>"
      ]
     },
     "metadata": {},
     "output_type": "display_data"
    },
    {
     "data": {
      "text/html": [
       " View run <strong style=\"color:#cdcd00\">wild-breeze-53</strong> at: <a href='https://wandb.ai/tejas591995/MLPClassification/runs/zr19rndw' target=\"_blank\">https://wandb.ai/tejas591995/MLPClassification/runs/zr19rndw</a><br/> View job at <a href='https://wandb.ai/tejas591995/MLPClassification/jobs/QXJ0aWZhY3RDb2xsZWN0aW9uOjEwOTIxOTAwNw==/version_details/v0' target=\"_blank\">https://wandb.ai/tejas591995/MLPClassification/jobs/QXJ0aWZhY3RDb2xsZWN0aW9uOjEwOTIxOTAwNw==/version_details/v0</a><br/>Synced 6 W&B file(s), 0 media file(s), 0 artifact file(s) and 0 other file(s)"
      ],
      "text/plain": [
       "<IPython.core.display.HTML object>"
      ]
     },
     "metadata": {},
     "output_type": "display_data"
    },
    {
     "data": {
      "text/html": [
       "Find logs at: <code>./wandb/run-20231023_185950-zr19rndw/logs</code>"
      ],
      "text/plain": [
       "<IPython.core.display.HTML object>"
      ]
     },
     "metadata": {},
     "output_type": "display_data"
    },
    {
     "name": "stdout",
     "output_type": "stream",
     "text": [
      "53\n"
     ]
    },
    {
     "data": {
      "application/vnd.jupyter.widget-view+json": {
       "model_id": "6b01f22273b648b4b626847a1e8b554e",
       "version_major": 2,
       "version_minor": 0
      },
      "text/plain": [
       "VBox(children=(Label(value='Waiting for wandb.init()...\\r'), FloatProgress(value=0.011113613288883547, max=1.0…"
      ]
     },
     "metadata": {},
     "output_type": "display_data"
    },
    {
     "data": {
      "text/html": [
       "wandb version 0.15.12 is available!  To upgrade, please run:\n",
       " $ pip install wandb --upgrade"
      ],
      "text/plain": [
       "<IPython.core.display.HTML object>"
      ]
     },
     "metadata": {},
     "output_type": "display_data"
    },
    {
     "data": {
      "text/html": [
       "Tracking run with wandb version 0.15.11"
      ],
      "text/plain": [
       "<IPython.core.display.HTML object>"
      ]
     },
     "metadata": {},
     "output_type": "display_data"
    },
    {
     "data": {
      "text/html": [
       "Run data is saved locally in <code>/home/tejas/Documents/SMAI/assignment-3-MrTejas/q2/wandb/run-20231023_190005-4lxc07ai</code>"
      ],
      "text/plain": [
       "<IPython.core.display.HTML object>"
      ]
     },
     "metadata": {},
     "output_type": "display_data"
    },
    {
     "data": {
      "text/html": [
       "Syncing run <strong><a href='https://wandb.ai/tejas591995/MLPClassification/runs/4lxc07ai' target=\"_blank\">pious-gorge-54</a></strong> to <a href='https://wandb.ai/tejas591995/MLPClassification' target=\"_blank\">Weights & Biases</a> (<a href='https://wandb.me/run' target=\"_blank\">docs</a>)<br/>"
      ],
      "text/plain": [
       "<IPython.core.display.HTML object>"
      ]
     },
     "metadata": {},
     "output_type": "display_data"
    },
    {
     "data": {
      "text/html": [
       " View project at <a href='https://wandb.ai/tejas591995/MLPClassification' target=\"_blank\">https://wandb.ai/tejas591995/MLPClassification</a>"
      ],
      "text/plain": [
       "<IPython.core.display.HTML object>"
      ]
     },
     "metadata": {},
     "output_type": "display_data"
    },
    {
     "data": {
      "text/html": [
       " View run at <a href='https://wandb.ai/tejas591995/MLPClassification/runs/4lxc07ai' target=\"_blank\">https://wandb.ai/tejas591995/MLPClassification/runs/4lxc07ai</a>"
      ],
      "text/plain": [
       "<IPython.core.display.HTML object>"
      ]
     },
     "metadata": {},
     "output_type": "display_data"
    },
    {
     "name": "stdout",
     "output_type": "stream",
     "text": [
      "Initialized values successfully!\n",
      "Loaded Dataframe!\n",
      "Splitted data into train, test and val sets!\n",
      "-----------------------------------------------\n",
      "Number of Layers       :  4\n",
      "Layer sizes            :  [11, 5, 5, 6]\n",
      "Batch size             :  150\n",
      "Activation Function    :  ReLU\n",
      "Optimization Method    :  mini-batch\n",
      "Learning Rate          :  0.02\n",
      "Num Epoches            :  100\n",
      "-----------------------------------------------\n"
     ]
    },
    {
     "data": {
      "text/html": [
       "Waiting for W&B process to finish... <strong style=\"color:green\">(success).</strong>"
      ],
      "text/plain": [
       "<IPython.core.display.HTML object>"
      ]
     },
     "metadata": {},
     "output_type": "display_data"
    },
    {
     "data": {
      "text/html": [
       "<style>\n",
       "    table.wandb td:nth-child(1) { padding: 0 10px; text-align: left ; width: auto;} td:nth-child(2) {text-align: left ; width: 100%}\n",
       "    .wandb-row { display: flex; flex-direction: row; flex-wrap: wrap; justify-content: flex-start; width: 100% }\n",
       "    .wandb-col { display: flex; flex-direction: column; flex-basis: 100%; flex: 1; padding: 10px; }\n",
       "    </style>\n",
       "<div class=\"wandb-row\"><div class=\"wandb-col\"><h3>Run history:</h3><br/><table class=\"wandb\"><tr><td>acc</td><td>▁▁▁▁▄▄▆▆▆▆▆▆▆▆▆▆▆▆▆▆▆▆▇▇▇▇▇▇▇▇▇█████████</td></tr><tr><td>loss</td><td>█▇▇▇▆▆▅▅▄▄▄▄▃▃▃▃▃▃▃▂▂▂▂▂▂▂▂▂▂▂▂▂▂▁▁▁▁▁▁▁</td></tr></table><br/></div><div class=\"wandb-col\"><h3>Run summary:</h3><br/><table class=\"wandb\"><tr><td>acc</td><td>0.559</td></tr><tr><td>loss</td><td>0.197</td></tr></table><br/></div></div>"
      ],
      "text/plain": [
       "<IPython.core.display.HTML object>"
      ]
     },
     "metadata": {},
     "output_type": "display_data"
    },
    {
     "data": {
      "text/html": [
       " View run <strong style=\"color:#cdcd00\">pious-gorge-54</strong> at: <a href='https://wandb.ai/tejas591995/MLPClassification/runs/4lxc07ai' target=\"_blank\">https://wandb.ai/tejas591995/MLPClassification/runs/4lxc07ai</a><br/> View job at <a href='https://wandb.ai/tejas591995/MLPClassification/jobs/QXJ0aWZhY3RDb2xsZWN0aW9uOjEwOTIxOTAwNw==/version_details/v0' target=\"_blank\">https://wandb.ai/tejas591995/MLPClassification/jobs/QXJ0aWZhY3RDb2xsZWN0aW9uOjEwOTIxOTAwNw==/version_details/v0</a><br/>Synced 6 W&B file(s), 0 media file(s), 0 artifact file(s) and 0 other file(s)"
      ],
      "text/plain": [
       "<IPython.core.display.HTML object>"
      ]
     },
     "metadata": {},
     "output_type": "display_data"
    },
    {
     "data": {
      "text/html": [
       "Find logs at: <code>./wandb/run-20231023_190005-4lxc07ai/logs</code>"
      ],
      "text/plain": [
       "<IPython.core.display.HTML object>"
      ]
     },
     "metadata": {},
     "output_type": "display_data"
    },
    {
     "name": "stdout",
     "output_type": "stream",
     "text": [
      "54\n"
     ]
    },
    {
     "data": {
      "application/vnd.jupyter.widget-view+json": {
       "model_id": "bc3ee0c3b64c4ec19b55bb964d8e35a4",
       "version_major": 2,
       "version_minor": 0
      },
      "text/plain": [
       "VBox(children=(Label(value='Waiting for wandb.init()...\\r'), FloatProgress(value=0.011112473233313519, max=1.0…"
      ]
     },
     "metadata": {},
     "output_type": "display_data"
    },
    {
     "data": {
      "text/html": [
       "wandb version 0.15.12 is available!  To upgrade, please run:\n",
       " $ pip install wandb --upgrade"
      ],
      "text/plain": [
       "<IPython.core.display.HTML object>"
      ]
     },
     "metadata": {},
     "output_type": "display_data"
    },
    {
     "data": {
      "text/html": [
       "Tracking run with wandb version 0.15.11"
      ],
      "text/plain": [
       "<IPython.core.display.HTML object>"
      ]
     },
     "metadata": {},
     "output_type": "display_data"
    },
    {
     "data": {
      "text/html": [
       "Run data is saved locally in <code>/home/tejas/Documents/SMAI/assignment-3-MrTejas/q2/wandb/run-20231023_190018-65vm3va3</code>"
      ],
      "text/plain": [
       "<IPython.core.display.HTML object>"
      ]
     },
     "metadata": {},
     "output_type": "display_data"
    },
    {
     "data": {
      "text/html": [
       "Syncing run <strong><a href='https://wandb.ai/tejas591995/MLPClassification/runs/65vm3va3' target=\"_blank\">absurd-sunset-55</a></strong> to <a href='https://wandb.ai/tejas591995/MLPClassification' target=\"_blank\">Weights & Biases</a> (<a href='https://wandb.me/run' target=\"_blank\">docs</a>)<br/>"
      ],
      "text/plain": [
       "<IPython.core.display.HTML object>"
      ]
     },
     "metadata": {},
     "output_type": "display_data"
    },
    {
     "data": {
      "text/html": [
       " View project at <a href='https://wandb.ai/tejas591995/MLPClassification' target=\"_blank\">https://wandb.ai/tejas591995/MLPClassification</a>"
      ],
      "text/plain": [
       "<IPython.core.display.HTML object>"
      ]
     },
     "metadata": {},
     "output_type": "display_data"
    },
    {
     "data": {
      "text/html": [
       " View run at <a href='https://wandb.ai/tejas591995/MLPClassification/runs/65vm3va3' target=\"_blank\">https://wandb.ai/tejas591995/MLPClassification/runs/65vm3va3</a>"
      ],
      "text/plain": [
       "<IPython.core.display.HTML object>"
      ]
     },
     "metadata": {},
     "output_type": "display_data"
    },
    {
     "name": "stdout",
     "output_type": "stream",
     "text": [
      "Initialized values successfully!\n",
      "Loaded Dataframe!\n",
      "Splitted data into train, test and val sets!\n",
      "-----------------------------------------------\n",
      "Number of Layers       :  4\n",
      "Layer sizes            :  [11, 5, 5, 6]\n",
      "Batch size             :  200\n",
      "Activation Function    :  ReLU\n",
      "Optimization Method    :  mini-batch\n",
      "Learning Rate          :  0.02\n",
      "Num Epoches            :  100\n",
      "-----------------------------------------------\n"
     ]
    },
    {
     "data": {
      "text/html": [
       "Waiting for W&B process to finish... <strong style=\"color:green\">(success).</strong>"
      ],
      "text/plain": [
       "<IPython.core.display.HTML object>"
      ]
     },
     "metadata": {},
     "output_type": "display_data"
    },
    {
     "data": {
      "application/vnd.jupyter.widget-view+json": {
       "model_id": "a650d5d7e4664522a8ad45120b11effc",
       "version_major": 2,
       "version_minor": 0
      },
      "text/plain": [
       "VBox(children=(Label(value='0.002 MB of 0.002 MB uploaded (0.000 MB deduped)\\r'), FloatProgress(value=1.0, max…"
      ]
     },
     "metadata": {},
     "output_type": "display_data"
    },
    {
     "data": {
      "text/html": [
       "<style>\n",
       "    table.wandb td:nth-child(1) { padding: 0 10px; text-align: left ; width: auto;} td:nth-child(2) {text-align: left ; width: 100%}\n",
       "    .wandb-row { display: flex; flex-direction: row; flex-wrap: wrap; justify-content: flex-start; width: 100% }\n",
       "    .wandb-col { display: flex; flex-direction: column; flex-basis: 100%; flex: 1; padding: 10px; }\n",
       "    </style>\n",
       "<div class=\"wandb-row\"><div class=\"wandb-col\"><h3>Run history:</h3><br/><table class=\"wandb\"><tr><td>acc</td><td>▁▁▄▅▆▆▆▇▇▇▇▇▇▇██████████████████████████</td></tr><tr><td>loss</td><td>█▆▅▄▄▃▃▃▂▂▂▂▂▂▂▂▂▁▁▁▁▁▁▁▁▁▁▁▁▁▁▁▁▁▁▁▁▁▁▁</td></tr></table><br/></div><div class=\"wandb-col\"><h3>Run summary:</h3><br/><table class=\"wandb\"><tr><td>acc</td><td>0.477</td></tr><tr><td>loss</td><td>0.167</td></tr></table><br/></div></div>"
      ],
      "text/plain": [
       "<IPython.core.display.HTML object>"
      ]
     },
     "metadata": {},
     "output_type": "display_data"
    },
    {
     "data": {
      "text/html": [
       " View run <strong style=\"color:#cdcd00\">absurd-sunset-55</strong> at: <a href='https://wandb.ai/tejas591995/MLPClassification/runs/65vm3va3' target=\"_blank\">https://wandb.ai/tejas591995/MLPClassification/runs/65vm3va3</a><br/> View job at <a href='https://wandb.ai/tejas591995/MLPClassification/jobs/QXJ0aWZhY3RDb2xsZWN0aW9uOjEwOTIxOTAwNw==/version_details/v0' target=\"_blank\">https://wandb.ai/tejas591995/MLPClassification/jobs/QXJ0aWZhY3RDb2xsZWN0aW9uOjEwOTIxOTAwNw==/version_details/v0</a><br/>Synced 6 W&B file(s), 0 media file(s), 0 artifact file(s) and 0 other file(s)"
      ],
      "text/plain": [
       "<IPython.core.display.HTML object>"
      ]
     },
     "metadata": {},
     "output_type": "display_data"
    },
    {
     "data": {
      "text/html": [
       "Find logs at: <code>./wandb/run-20231023_190018-65vm3va3/logs</code>"
      ],
      "text/plain": [
       "<IPython.core.display.HTML object>"
      ]
     },
     "metadata": {},
     "output_type": "display_data"
    },
    {
     "name": "stdout",
     "output_type": "stream",
     "text": [
      "55\n"
     ]
    },
    {
     "data": {
      "application/vnd.jupyter.widget-view+json": {
       "model_id": "d17dd26fbbf54f77b7ec882938cc0084",
       "version_major": 2,
       "version_minor": 0
      },
      "text/plain": [
       "VBox(children=(Label(value='Waiting for wandb.init()...\\r'), FloatProgress(value=0.011113209933359434, max=1.0…"
      ]
     },
     "metadata": {},
     "output_type": "display_data"
    },
    {
     "data": {
      "text/html": [
       "wandb version 0.15.12 is available!  To upgrade, please run:\n",
       " $ pip install wandb --upgrade"
      ],
      "text/plain": [
       "<IPython.core.display.HTML object>"
      ]
     },
     "metadata": {},
     "output_type": "display_data"
    },
    {
     "data": {
      "text/html": [
       "Tracking run with wandb version 0.15.11"
      ],
      "text/plain": [
       "<IPython.core.display.HTML object>"
      ]
     },
     "metadata": {},
     "output_type": "display_data"
    },
    {
     "data": {
      "text/html": [
       "Run data is saved locally in <code>/home/tejas/Documents/SMAI/assignment-3-MrTejas/q2/wandb/run-20231023_190033-9hqehxjh</code>"
      ],
      "text/plain": [
       "<IPython.core.display.HTML object>"
      ]
     },
     "metadata": {},
     "output_type": "display_data"
    },
    {
     "data": {
      "text/html": [
       "Syncing run <strong><a href='https://wandb.ai/tejas591995/MLPClassification/runs/9hqehxjh' target=\"_blank\">giddy-firefly-56</a></strong> to <a href='https://wandb.ai/tejas591995/MLPClassification' target=\"_blank\">Weights & Biases</a> (<a href='https://wandb.me/run' target=\"_blank\">docs</a>)<br/>"
      ],
      "text/plain": [
       "<IPython.core.display.HTML object>"
      ]
     },
     "metadata": {},
     "output_type": "display_data"
    },
    {
     "data": {
      "text/html": [
       " View project at <a href='https://wandb.ai/tejas591995/MLPClassification' target=\"_blank\">https://wandb.ai/tejas591995/MLPClassification</a>"
      ],
      "text/plain": [
       "<IPython.core.display.HTML object>"
      ]
     },
     "metadata": {},
     "output_type": "display_data"
    },
    {
     "data": {
      "text/html": [
       " View run at <a href='https://wandb.ai/tejas591995/MLPClassification/runs/9hqehxjh' target=\"_blank\">https://wandb.ai/tejas591995/MLPClassification/runs/9hqehxjh</a>"
      ],
      "text/plain": [
       "<IPython.core.display.HTML object>"
      ]
     },
     "metadata": {},
     "output_type": "display_data"
    },
    {
     "name": "stdout",
     "output_type": "stream",
     "text": [
      "Initialized values successfully!\n",
      "Loaded Dataframe!\n",
      "Splitted data into train, test and val sets!\n",
      "-----------------------------------------------\n",
      "Number of Layers       :  4\n",
      "Layer sizes            :  [11, 5, 5, 6]\n",
      "Batch size             :  250\n",
      "Activation Function    :  ReLU\n",
      "Optimization Method    :  mini-batch\n",
      "Learning Rate          :  0.02\n",
      "Num Epoches            :  100\n",
      "-----------------------------------------------\n"
     ]
    },
    {
     "data": {
      "text/html": [
       "Waiting for W&B process to finish... <strong style=\"color:green\">(success).</strong>"
      ],
      "text/plain": [
       "<IPython.core.display.HTML object>"
      ]
     },
     "metadata": {},
     "output_type": "display_data"
    },
    {
     "data": {
      "application/vnd.jupyter.widget-view+json": {
       "model_id": "c632372bbe7a474f87e45ac9e7baf8b0",
       "version_major": 2,
       "version_minor": 0
      },
      "text/plain": [
       "VBox(children=(Label(value='0.000 MB of 0.002 MB uploaded (0.000 MB deduped)\\r'), FloatProgress(value=0.0, max…"
      ]
     },
     "metadata": {},
     "output_type": "display_data"
    },
    {
     "data": {
      "text/html": [
       "<style>\n",
       "    table.wandb td:nth-child(1) { padding: 0 10px; text-align: left ; width: auto;} td:nth-child(2) {text-align: left ; width: 100%}\n",
       "    .wandb-row { display: flex; flex-direction: row; flex-wrap: wrap; justify-content: flex-start; width: 100% }\n",
       "    .wandb-col { display: flex; flex-direction: column; flex-basis: 100%; flex: 1; padding: 10px; }\n",
       "    </style>\n",
       "<div class=\"wandb-row\"><div class=\"wandb-col\"><h3>Run history:</h3><br/><table class=\"wandb\"><tr><td>acc</td><td>▁▁▃▄▄▅▅▅▅▅▅▅▅▆▆▇▇▇▇▇▇▇▇▇▇▇▇▇▇▇▇▇▇▇▇█████</td></tr><tr><td>loss</td><td>█▇▅▅▄▄▄▄▄▄▄▄▃▃▃▃▃▃▃▂▂▂▂▂▂▂▂▂▂▂▁▁▁▁▁▁▁▁▁▁</td></tr></table><br/></div><div class=\"wandb-col\"><h3>Run summary:</h3><br/><table class=\"wandb\"><tr><td>acc</td><td>0.414</td></tr><tr><td>loss</td><td>0.164</td></tr></table><br/></div></div>"
      ],
      "text/plain": [
       "<IPython.core.display.HTML object>"
      ]
     },
     "metadata": {},
     "output_type": "display_data"
    },
    {
     "data": {
      "text/html": [
       " View run <strong style=\"color:#cdcd00\">giddy-firefly-56</strong> at: <a href='https://wandb.ai/tejas591995/MLPClassification/runs/9hqehxjh' target=\"_blank\">https://wandb.ai/tejas591995/MLPClassification/runs/9hqehxjh</a><br/> View job at <a href='https://wandb.ai/tejas591995/MLPClassification/jobs/QXJ0aWZhY3RDb2xsZWN0aW9uOjEwOTIxOTAwNw==/version_details/v0' target=\"_blank\">https://wandb.ai/tejas591995/MLPClassification/jobs/QXJ0aWZhY3RDb2xsZWN0aW9uOjEwOTIxOTAwNw==/version_details/v0</a><br/>Synced 6 W&B file(s), 0 media file(s), 0 artifact file(s) and 0 other file(s)"
      ],
      "text/plain": [
       "<IPython.core.display.HTML object>"
      ]
     },
     "metadata": {},
     "output_type": "display_data"
    },
    {
     "data": {
      "text/html": [
       "Find logs at: <code>./wandb/run-20231023_190033-9hqehxjh/logs</code>"
      ],
      "text/plain": [
       "<IPython.core.display.HTML object>"
      ]
     },
     "metadata": {},
     "output_type": "display_data"
    },
    {
     "name": "stdout",
     "output_type": "stream",
     "text": [
      "56\n"
     ]
    },
    {
     "data": {
      "application/vnd.jupyter.widget-view+json": {
       "model_id": "bbeb9bf7b5e845f98e0b6a7fa157e263",
       "version_major": 2,
       "version_minor": 0
      },
      "text/plain": [
       "VBox(children=(Label(value='Waiting for wandb.init()...\\r'), FloatProgress(value=0.011112201888883849, max=1.0…"
      ]
     },
     "metadata": {},
     "output_type": "display_data"
    },
    {
     "data": {
      "text/html": [
       "wandb version 0.15.12 is available!  To upgrade, please run:\n",
       " $ pip install wandb --upgrade"
      ],
      "text/plain": [
       "<IPython.core.display.HTML object>"
      ]
     },
     "metadata": {},
     "output_type": "display_data"
    },
    {
     "data": {
      "text/html": [
       "Tracking run with wandb version 0.15.11"
      ],
      "text/plain": [
       "<IPython.core.display.HTML object>"
      ]
     },
     "metadata": {},
     "output_type": "display_data"
    },
    {
     "data": {
      "text/html": [
       "Run data is saved locally in <code>/home/tejas/Documents/SMAI/assignment-3-MrTejas/q2/wandb/run-20231023_190047-orib9kf6</code>"
      ],
      "text/plain": [
       "<IPython.core.display.HTML object>"
      ]
     },
     "metadata": {},
     "output_type": "display_data"
    },
    {
     "data": {
      "text/html": [
       "Syncing run <strong><a href='https://wandb.ai/tejas591995/MLPClassification/runs/orib9kf6' target=\"_blank\">vibrant-sun-57</a></strong> to <a href='https://wandb.ai/tejas591995/MLPClassification' target=\"_blank\">Weights & Biases</a> (<a href='https://wandb.me/run' target=\"_blank\">docs</a>)<br/>"
      ],
      "text/plain": [
       "<IPython.core.display.HTML object>"
      ]
     },
     "metadata": {},
     "output_type": "display_data"
    },
    {
     "data": {
      "text/html": [
       " View project at <a href='https://wandb.ai/tejas591995/MLPClassification' target=\"_blank\">https://wandb.ai/tejas591995/MLPClassification</a>"
      ],
      "text/plain": [
       "<IPython.core.display.HTML object>"
      ]
     },
     "metadata": {},
     "output_type": "display_data"
    },
    {
     "data": {
      "text/html": [
       " View run at <a href='https://wandb.ai/tejas591995/MLPClassification/runs/orib9kf6' target=\"_blank\">https://wandb.ai/tejas591995/MLPClassification/runs/orib9kf6</a>"
      ],
      "text/plain": [
       "<IPython.core.display.HTML object>"
      ]
     },
     "metadata": {},
     "output_type": "display_data"
    },
    {
     "name": "stdout",
     "output_type": "stream",
     "text": [
      "Initialized values successfully!\n",
      "Loaded Dataframe!\n",
      "Splitted data into train, test and val sets!\n",
      "-----------------------------------------------\n",
      "Number of Layers       :  4\n",
      "Layer sizes            :  [11, 5, 5, 6]\n",
      "Batch size             :  100\n",
      "Activation Function    :  sigmoid\n",
      "Optimization Method    :  mini-batch\n",
      "Learning Rate          :  0.02\n",
      "Num Epoches            :  100\n",
      "-----------------------------------------------\n"
     ]
    },
    {
     "data": {
      "text/html": [
       "Waiting for W&B process to finish... <strong style=\"color:green\">(success).</strong>"
      ],
      "text/plain": [
       "<IPython.core.display.HTML object>"
      ]
     },
     "metadata": {},
     "output_type": "display_data"
    },
    {
     "data": {
      "application/vnd.jupyter.widget-view+json": {
       "model_id": "dbb0f381c39c4188aba7e3e3e370bfcc",
       "version_major": 2,
       "version_minor": 0
      },
      "text/plain": [
       "VBox(children=(Label(value='0.002 MB of 0.002 MB uploaded (0.000 MB deduped)\\r'), FloatProgress(value=1.0, max…"
      ]
     },
     "metadata": {},
     "output_type": "display_data"
    },
    {
     "data": {
      "text/html": [
       "<style>\n",
       "    table.wandb td:nth-child(1) { padding: 0 10px; text-align: left ; width: auto;} td:nth-child(2) {text-align: left ; width: 100%}\n",
       "    .wandb-row { display: flex; flex-direction: row; flex-wrap: wrap; justify-content: flex-start; width: 100% }\n",
       "    .wandb-col { display: flex; flex-direction: column; flex-basis: 100%; flex: 1; padding: 10px; }\n",
       "    </style>\n",
       "<div class=\"wandb-row\"><div class=\"wandb-col\"><h3>Run history:</h3><br/><table class=\"wandb\"><tr><td>acc</td><td>▁▁▁▁▁▁▁▁▁▁▁▁▁▁▁▁▁▁▁▁▁▁▁▁▁▁▁▁▁▁▁▁▂▂▃▃▅▆▇█</td></tr><tr><td>loss</td><td>████▇▇▇▇▇▆▆▆▆▆▅▅▅▅▅▅▄▄▄▄▄▃▃▃▃▃▂▂▂▂▂▂▂▁▁▁</td></tr></table><br/></div><div class=\"wandb-col\"><h3>Run summary:</h3><br/><table class=\"wandb\"><tr><td>acc</td><td>0.378</td></tr><tr><td>loss</td><td>0.277</td></tr></table><br/></div></div>"
      ],
      "text/plain": [
       "<IPython.core.display.HTML object>"
      ]
     },
     "metadata": {},
     "output_type": "display_data"
    },
    {
     "data": {
      "text/html": [
       " View run <strong style=\"color:#cdcd00\">vibrant-sun-57</strong> at: <a href='https://wandb.ai/tejas591995/MLPClassification/runs/orib9kf6' target=\"_blank\">https://wandb.ai/tejas591995/MLPClassification/runs/orib9kf6</a><br/> View job at <a href='https://wandb.ai/tejas591995/MLPClassification/jobs/QXJ0aWZhY3RDb2xsZWN0aW9uOjEwOTIxOTAwNw==/version_details/v0' target=\"_blank\">https://wandb.ai/tejas591995/MLPClassification/jobs/QXJ0aWZhY3RDb2xsZWN0aW9uOjEwOTIxOTAwNw==/version_details/v0</a><br/>Synced 6 W&B file(s), 0 media file(s), 0 artifact file(s) and 0 other file(s)"
      ],
      "text/plain": [
       "<IPython.core.display.HTML object>"
      ]
     },
     "metadata": {},
     "output_type": "display_data"
    },
    {
     "data": {
      "text/html": [
       "Find logs at: <code>./wandb/run-20231023_190047-orib9kf6/logs</code>"
      ],
      "text/plain": [
       "<IPython.core.display.HTML object>"
      ]
     },
     "metadata": {},
     "output_type": "display_data"
    },
    {
     "name": "stdout",
     "output_type": "stream",
     "text": [
      "57\n"
     ]
    },
    {
     "data": {
      "application/vnd.jupyter.widget-view+json": {
       "model_id": "16f03510d2d14e3494a8208251179014",
       "version_major": 2,
       "version_minor": 0
      },
      "text/plain": [
       "VBox(children=(Label(value='Waiting for wandb.init()...\\r'), FloatProgress(value=0.01111312508890276, max=1.0)…"
      ]
     },
     "metadata": {},
     "output_type": "display_data"
    },
    {
     "data": {
      "text/html": [
       "wandb version 0.15.12 is available!  To upgrade, please run:\n",
       " $ pip install wandb --upgrade"
      ],
      "text/plain": [
       "<IPython.core.display.HTML object>"
      ]
     },
     "metadata": {},
     "output_type": "display_data"
    },
    {
     "data": {
      "text/html": [
       "Tracking run with wandb version 0.15.11"
      ],
      "text/plain": [
       "<IPython.core.display.HTML object>"
      ]
     },
     "metadata": {},
     "output_type": "display_data"
    },
    {
     "data": {
      "text/html": [
       "Run data is saved locally in <code>/home/tejas/Documents/SMAI/assignment-3-MrTejas/q2/wandb/run-20231023_190102-daxdpki1</code>"
      ],
      "text/plain": [
       "<IPython.core.display.HTML object>"
      ]
     },
     "metadata": {},
     "output_type": "display_data"
    },
    {
     "data": {
      "text/html": [
       "Syncing run <strong><a href='https://wandb.ai/tejas591995/MLPClassification/runs/daxdpki1' target=\"_blank\">smart-vortex-58</a></strong> to <a href='https://wandb.ai/tejas591995/MLPClassification' target=\"_blank\">Weights & Biases</a> (<a href='https://wandb.me/run' target=\"_blank\">docs</a>)<br/>"
      ],
      "text/plain": [
       "<IPython.core.display.HTML object>"
      ]
     },
     "metadata": {},
     "output_type": "display_data"
    },
    {
     "data": {
      "text/html": [
       " View project at <a href='https://wandb.ai/tejas591995/MLPClassification' target=\"_blank\">https://wandb.ai/tejas591995/MLPClassification</a>"
      ],
      "text/plain": [
       "<IPython.core.display.HTML object>"
      ]
     },
     "metadata": {},
     "output_type": "display_data"
    },
    {
     "data": {
      "text/html": [
       " View run at <a href='https://wandb.ai/tejas591995/MLPClassification/runs/daxdpki1' target=\"_blank\">https://wandb.ai/tejas591995/MLPClassification/runs/daxdpki1</a>"
      ],
      "text/plain": [
       "<IPython.core.display.HTML object>"
      ]
     },
     "metadata": {},
     "output_type": "display_data"
    },
    {
     "name": "stdout",
     "output_type": "stream",
     "text": [
      "Initialized values successfully!\n",
      "Loaded Dataframe!\n",
      "Splitted data into train, test and val sets!\n",
      "-----------------------------------------------\n",
      "Number of Layers       :  4\n",
      "Layer sizes            :  [11, 5, 5, 6]\n",
      "Batch size             :  150\n",
      "Activation Function    :  sigmoid\n",
      "Optimization Method    :  mini-batch\n",
      "Learning Rate          :  0.02\n",
      "Num Epoches            :  100\n",
      "-----------------------------------------------\n"
     ]
    },
    {
     "data": {
      "text/html": [
       "Waiting for W&B process to finish... <strong style=\"color:green\">(success).</strong>"
      ],
      "text/plain": [
       "<IPython.core.display.HTML object>"
      ]
     },
     "metadata": {},
     "output_type": "display_data"
    },
    {
     "data": {
      "text/html": [
       "<style>\n",
       "    table.wandb td:nth-child(1) { padding: 0 10px; text-align: left ; width: auto;} td:nth-child(2) {text-align: left ; width: 100%}\n",
       "    .wandb-row { display: flex; flex-direction: row; flex-wrap: wrap; justify-content: flex-start; width: 100% }\n",
       "    .wandb-col { display: flex; flex-direction: column; flex-basis: 100%; flex: 1; padding: 10px; }\n",
       "    </style>\n",
       "<div class=\"wandb-row\"><div class=\"wandb-col\"><h3>Run history:</h3><br/><table class=\"wandb\"><tr><td>acc</td><td>▁▁▁▁▁▁▁▁▁▁▁▁▁▁▁▁▁▁▁▁▁▁▁▁▁▁▁▁▁▁▁▁▁▂▂▃▄▅▆█</td></tr><tr><td>loss</td><td>████▇▇▇▇▇▆▆▆▆▆▅▅▅▅▅▅▄▄▄▄▄▃▃▃▃▃▃▂▂▂▂▂▂▁▁▁</td></tr></table><br/></div><div class=\"wandb-col\"><h3>Run summary:</h3><br/><table class=\"wandb\"><tr><td>acc</td><td>0.309</td></tr><tr><td>loss</td><td>0.279</td></tr></table><br/></div></div>"
      ],
      "text/plain": [
       "<IPython.core.display.HTML object>"
      ]
     },
     "metadata": {},
     "output_type": "display_data"
    },
    {
     "data": {
      "text/html": [
       " View run <strong style=\"color:#cdcd00\">smart-vortex-58</strong> at: <a href='https://wandb.ai/tejas591995/MLPClassification/runs/daxdpki1' target=\"_blank\">https://wandb.ai/tejas591995/MLPClassification/runs/daxdpki1</a><br/> View job at <a href='https://wandb.ai/tejas591995/MLPClassification/jobs/QXJ0aWZhY3RDb2xsZWN0aW9uOjEwOTIxOTAwNw==/version_details/v0' target=\"_blank\">https://wandb.ai/tejas591995/MLPClassification/jobs/QXJ0aWZhY3RDb2xsZWN0aW9uOjEwOTIxOTAwNw==/version_details/v0</a><br/>Synced 6 W&B file(s), 0 media file(s), 0 artifact file(s) and 0 other file(s)"
      ],
      "text/plain": [
       "<IPython.core.display.HTML object>"
      ]
     },
     "metadata": {},
     "output_type": "display_data"
    },
    {
     "data": {
      "text/html": [
       "Find logs at: <code>./wandb/run-20231023_190102-daxdpki1/logs</code>"
      ],
      "text/plain": [
       "<IPython.core.display.HTML object>"
      ]
     },
     "metadata": {},
     "output_type": "display_data"
    },
    {
     "name": "stdout",
     "output_type": "stream",
     "text": [
      "58\n"
     ]
    },
    {
     "data": {
      "application/vnd.jupyter.widget-view+json": {
       "model_id": "8f3c4952704b438aa5b2c932614ca331",
       "version_major": 2,
       "version_minor": 0
      },
      "text/plain": [
       "VBox(children=(Label(value='Waiting for wandb.init()...\\r'), FloatProgress(value=0.011113194777782257, max=1.0…"
      ]
     },
     "metadata": {},
     "output_type": "display_data"
    },
    {
     "data": {
      "text/html": [
       "wandb version 0.15.12 is available!  To upgrade, please run:\n",
       " $ pip install wandb --upgrade"
      ],
      "text/plain": [
       "<IPython.core.display.HTML object>"
      ]
     },
     "metadata": {},
     "output_type": "display_data"
    },
    {
     "data": {
      "text/html": [
       "Tracking run with wandb version 0.15.11"
      ],
      "text/plain": [
       "<IPython.core.display.HTML object>"
      ]
     },
     "metadata": {},
     "output_type": "display_data"
    },
    {
     "data": {
      "text/html": [
       "Run data is saved locally in <code>/home/tejas/Documents/SMAI/assignment-3-MrTejas/q2/wandb/run-20231023_190117-e2rbzj67</code>"
      ],
      "text/plain": [
       "<IPython.core.display.HTML object>"
      ]
     },
     "metadata": {},
     "output_type": "display_data"
    },
    {
     "data": {
      "text/html": [
       "Syncing run <strong><a href='https://wandb.ai/tejas591995/MLPClassification/runs/e2rbzj67' target=\"_blank\">trim-plasma-59</a></strong> to <a href='https://wandb.ai/tejas591995/MLPClassification' target=\"_blank\">Weights & Biases</a> (<a href='https://wandb.me/run' target=\"_blank\">docs</a>)<br/>"
      ],
      "text/plain": [
       "<IPython.core.display.HTML object>"
      ]
     },
     "metadata": {},
     "output_type": "display_data"
    },
    {
     "data": {
      "text/html": [
       " View project at <a href='https://wandb.ai/tejas591995/MLPClassification' target=\"_blank\">https://wandb.ai/tejas591995/MLPClassification</a>"
      ],
      "text/plain": [
       "<IPython.core.display.HTML object>"
      ]
     },
     "metadata": {},
     "output_type": "display_data"
    },
    {
     "data": {
      "text/html": [
       " View run at <a href='https://wandb.ai/tejas591995/MLPClassification/runs/e2rbzj67' target=\"_blank\">https://wandb.ai/tejas591995/MLPClassification/runs/e2rbzj67</a>"
      ],
      "text/plain": [
       "<IPython.core.display.HTML object>"
      ]
     },
     "metadata": {},
     "output_type": "display_data"
    },
    {
     "name": "stdout",
     "output_type": "stream",
     "text": [
      "Initialized values successfully!\n",
      "Loaded Dataframe!\n",
      "Splitted data into train, test and val sets!\n",
      "-----------------------------------------------\n",
      "Number of Layers       :  4\n",
      "Layer sizes            :  [11, 5, 5, 6]\n",
      "Batch size             :  200\n",
      "Activation Function    :  sigmoid\n",
      "Optimization Method    :  mini-batch\n",
      "Learning Rate          :  0.02\n",
      "Num Epoches            :  100\n",
      "-----------------------------------------------\n"
     ]
    },
    {
     "data": {
      "text/html": [
       "Waiting for W&B process to finish... <strong style=\"color:green\">(success).</strong>"
      ],
      "text/plain": [
       "<IPython.core.display.HTML object>"
      ]
     },
     "metadata": {},
     "output_type": "display_data"
    },
    {
     "data": {
      "text/html": [
       "<style>\n",
       "    table.wandb td:nth-child(1) { padding: 0 10px; text-align: left ; width: auto;} td:nth-child(2) {text-align: left ; width: 100%}\n",
       "    .wandb-row { display: flex; flex-direction: row; flex-wrap: wrap; justify-content: flex-start; width: 100% }\n",
       "    .wandb-col { display: flex; flex-direction: column; flex-basis: 100%; flex: 1; padding: 10px; }\n",
       "    </style>\n",
       "<div class=\"wandb-row\"><div class=\"wandb-col\"><h3>Run history:</h3><br/><table class=\"wandb\"><tr><td>acc</td><td>▁▂▄▄▅▅▆▆▆▇▇▇▇███████████████████████████</td></tr><tr><td>loss</td><td>████▇▇▇▇▇▆▆▆▆▆▅▅▅▅▅▄▄▄▄▄▃▃▃▃▃▂▂▂▂▂▂▁▁▁▁▁</td></tr></table><br/></div><div class=\"wandb-col\"><h3>Run summary:</h3><br/><table class=\"wandb\"><tr><td>acc</td><td>0.348</td></tr><tr><td>loss</td><td>0.256</td></tr></table><br/></div></div>"
      ],
      "text/plain": [
       "<IPython.core.display.HTML object>"
      ]
     },
     "metadata": {},
     "output_type": "display_data"
    },
    {
     "data": {
      "text/html": [
       " View run <strong style=\"color:#cdcd00\">trim-plasma-59</strong> at: <a href='https://wandb.ai/tejas591995/MLPClassification/runs/e2rbzj67' target=\"_blank\">https://wandb.ai/tejas591995/MLPClassification/runs/e2rbzj67</a><br/> View job at <a href='https://wandb.ai/tejas591995/MLPClassification/jobs/QXJ0aWZhY3RDb2xsZWN0aW9uOjEwOTIxOTAwNw==/version_details/v0' target=\"_blank\">https://wandb.ai/tejas591995/MLPClassification/jobs/QXJ0aWZhY3RDb2xsZWN0aW9uOjEwOTIxOTAwNw==/version_details/v0</a><br/>Synced 6 W&B file(s), 0 media file(s), 0 artifact file(s) and 0 other file(s)"
      ],
      "text/plain": [
       "<IPython.core.display.HTML object>"
      ]
     },
     "metadata": {},
     "output_type": "display_data"
    },
    {
     "data": {
      "text/html": [
       "Find logs at: <code>./wandb/run-20231023_190117-e2rbzj67/logs</code>"
      ],
      "text/plain": [
       "<IPython.core.display.HTML object>"
      ]
     },
     "metadata": {},
     "output_type": "display_data"
    },
    {
     "name": "stdout",
     "output_type": "stream",
     "text": [
      "59\n"
     ]
    },
    {
     "data": {
      "application/vnd.jupyter.widget-view+json": {
       "model_id": "644c77aef73a4169bd043cf88193a3e6",
       "version_major": 2,
       "version_minor": 0
      },
      "text/plain": [
       "VBox(children=(Label(value='Waiting for wandb.init()...\\r'), FloatProgress(value=0.011112194633339338, max=1.0…"
      ]
     },
     "metadata": {},
     "output_type": "display_data"
    },
    {
     "data": {
      "text/html": [
       "wandb version 0.15.12 is available!  To upgrade, please run:\n",
       " $ pip install wandb --upgrade"
      ],
      "text/plain": [
       "<IPython.core.display.HTML object>"
      ]
     },
     "metadata": {},
     "output_type": "display_data"
    },
    {
     "data": {
      "text/html": [
       "Tracking run with wandb version 0.15.11"
      ],
      "text/plain": [
       "<IPython.core.display.HTML object>"
      ]
     },
     "metadata": {},
     "output_type": "display_data"
    },
    {
     "data": {
      "text/html": [
       "Run data is saved locally in <code>/home/tejas/Documents/SMAI/assignment-3-MrTejas/q2/wandb/run-20231023_190132-l86b5kcs</code>"
      ],
      "text/plain": [
       "<IPython.core.display.HTML object>"
      ]
     },
     "metadata": {},
     "output_type": "display_data"
    },
    {
     "data": {
      "text/html": [
       "Syncing run <strong><a href='https://wandb.ai/tejas591995/MLPClassification/runs/l86b5kcs' target=\"_blank\">stellar-morning-60</a></strong> to <a href='https://wandb.ai/tejas591995/MLPClassification' target=\"_blank\">Weights & Biases</a> (<a href='https://wandb.me/run' target=\"_blank\">docs</a>)<br/>"
      ],
      "text/plain": [
       "<IPython.core.display.HTML object>"
      ]
     },
     "metadata": {},
     "output_type": "display_data"
    },
    {
     "data": {
      "text/html": [
       " View project at <a href='https://wandb.ai/tejas591995/MLPClassification' target=\"_blank\">https://wandb.ai/tejas591995/MLPClassification</a>"
      ],
      "text/plain": [
       "<IPython.core.display.HTML object>"
      ]
     },
     "metadata": {},
     "output_type": "display_data"
    },
    {
     "data": {
      "text/html": [
       " View run at <a href='https://wandb.ai/tejas591995/MLPClassification/runs/l86b5kcs' target=\"_blank\">https://wandb.ai/tejas591995/MLPClassification/runs/l86b5kcs</a>"
      ],
      "text/plain": [
       "<IPython.core.display.HTML object>"
      ]
     },
     "metadata": {},
     "output_type": "display_data"
    },
    {
     "name": "stdout",
     "output_type": "stream",
     "text": [
      "Initialized values successfully!\n",
      "Loaded Dataframe!\n",
      "Splitted data into train, test and val sets!\n",
      "-----------------------------------------------\n",
      "Number of Layers       :  4\n",
      "Layer sizes            :  [11, 5, 5, 6]\n",
      "Batch size             :  250\n",
      "Activation Function    :  sigmoid\n",
      "Optimization Method    :  mini-batch\n",
      "Learning Rate          :  0.02\n",
      "Num Epoches            :  100\n",
      "-----------------------------------------------\n"
     ]
    },
    {
     "data": {
      "text/html": [
       "Waiting for W&B process to finish... <strong style=\"color:green\">(success).</strong>"
      ],
      "text/plain": [
       "<IPython.core.display.HTML object>"
      ]
     },
     "metadata": {},
     "output_type": "display_data"
    },
    {
     "data": {
      "text/html": [
       "<style>\n",
       "    table.wandb td:nth-child(1) { padding: 0 10px; text-align: left ; width: auto;} td:nth-child(2) {text-align: left ; width: 100%}\n",
       "    .wandb-row { display: flex; flex-direction: row; flex-wrap: wrap; justify-content: flex-start; width: 100% }\n",
       "    .wandb-col { display: flex; flex-direction: column; flex-basis: 100%; flex: 1; padding: 10px; }\n",
       "    </style>\n",
       "<div class=\"wandb-row\"><div class=\"wandb-col\"><h3>Run history:</h3><br/><table class=\"wandb\"><tr><td>acc</td><td>▁▁▁▁▁▁▁▁▁▁▁▁▁▁▁▁▁▁▁▁▁▁▁▁▁▂▄▅▇▇██████████</td></tr><tr><td>loss</td><td>████▇▇▇▇▆▆▆▆▆▆▆▅▅▅▅▅▅▄▄▄▄▄▃▃▃▃▃▃▂▂▂▂▂▁▁▁</td></tr></table><br/></div><div class=\"wandb-col\"><h3>Run summary:</h3><br/><table class=\"wandb\"><tr><td>acc</td><td>0.326</td></tr><tr><td>loss</td><td>0.24</td></tr></table><br/></div></div>"
      ],
      "text/plain": [
       "<IPython.core.display.HTML object>"
      ]
     },
     "metadata": {},
     "output_type": "display_data"
    },
    {
     "data": {
      "text/html": [
       " View run <strong style=\"color:#cdcd00\">stellar-morning-60</strong> at: <a href='https://wandb.ai/tejas591995/MLPClassification/runs/l86b5kcs' target=\"_blank\">https://wandb.ai/tejas591995/MLPClassification/runs/l86b5kcs</a><br/> View job at <a href='https://wandb.ai/tejas591995/MLPClassification/jobs/QXJ0aWZhY3RDb2xsZWN0aW9uOjEwOTIxOTAwNw==/version_details/v0' target=\"_blank\">https://wandb.ai/tejas591995/MLPClassification/jobs/QXJ0aWZhY3RDb2xsZWN0aW9uOjEwOTIxOTAwNw==/version_details/v0</a><br/>Synced 6 W&B file(s), 0 media file(s), 0 artifact file(s) and 0 other file(s)"
      ],
      "text/plain": [
       "<IPython.core.display.HTML object>"
      ]
     },
     "metadata": {},
     "output_type": "display_data"
    },
    {
     "data": {
      "text/html": [
       "Find logs at: <code>./wandb/run-20231023_190132-l86b5kcs/logs</code>"
      ],
      "text/plain": [
       "<IPython.core.display.HTML object>"
      ]
     },
     "metadata": {},
     "output_type": "display_data"
    },
    {
     "name": "stdout",
     "output_type": "stream",
     "text": [
      "60\n"
     ]
    },
    {
     "data": {
      "application/vnd.jupyter.widget-view+json": {
       "model_id": "469a001810cc4633b6f4e46f7485a7ce",
       "version_major": 2,
       "version_minor": 0
      },
      "text/plain": [
       "VBox(children=(Label(value='Waiting for wandb.init()...\\r'), FloatProgress(value=0.011114083855540633, max=1.0…"
      ]
     },
     "metadata": {},
     "output_type": "display_data"
    },
    {
     "data": {
      "text/html": [
       "wandb version 0.15.12 is available!  To upgrade, please run:\n",
       " $ pip install wandb --upgrade"
      ],
      "text/plain": [
       "<IPython.core.display.HTML object>"
      ]
     },
     "metadata": {},
     "output_type": "display_data"
    },
    {
     "data": {
      "text/html": [
       "Tracking run with wandb version 0.15.11"
      ],
      "text/plain": [
       "<IPython.core.display.HTML object>"
      ]
     },
     "metadata": {},
     "output_type": "display_data"
    },
    {
     "data": {
      "text/html": [
       "Run data is saved locally in <code>/home/tejas/Documents/SMAI/assignment-3-MrTejas/q2/wandb/run-20231023_190148-9yum7qle</code>"
      ],
      "text/plain": [
       "<IPython.core.display.HTML object>"
      ]
     },
     "metadata": {},
     "output_type": "display_data"
    },
    {
     "data": {
      "text/html": [
       "Syncing run <strong><a href='https://wandb.ai/tejas591995/MLPClassification/runs/9yum7qle' target=\"_blank\">iconic-sunset-61</a></strong> to <a href='https://wandb.ai/tejas591995/MLPClassification' target=\"_blank\">Weights & Biases</a> (<a href='https://wandb.me/run' target=\"_blank\">docs</a>)<br/>"
      ],
      "text/plain": [
       "<IPython.core.display.HTML object>"
      ]
     },
     "metadata": {},
     "output_type": "display_data"
    },
    {
     "data": {
      "text/html": [
       " View project at <a href='https://wandb.ai/tejas591995/MLPClassification' target=\"_blank\">https://wandb.ai/tejas591995/MLPClassification</a>"
      ],
      "text/plain": [
       "<IPython.core.display.HTML object>"
      ]
     },
     "metadata": {},
     "output_type": "display_data"
    },
    {
     "data": {
      "text/html": [
       " View run at <a href='https://wandb.ai/tejas591995/MLPClassification/runs/9yum7qle' target=\"_blank\">https://wandb.ai/tejas591995/MLPClassification/runs/9yum7qle</a>"
      ],
      "text/plain": [
       "<IPython.core.display.HTML object>"
      ]
     },
     "metadata": {},
     "output_type": "display_data"
    },
    {
     "name": "stdout",
     "output_type": "stream",
     "text": [
      "Initialized values successfully!\n",
      "Loaded Dataframe!\n",
      "Splitted data into train, test and val sets!\n",
      "-----------------------------------------------\n",
      "Number of Layers       :  4\n",
      "Layer sizes            :  [11, 5, 5, 6]\n",
      "Batch size             :  100\n",
      "Activation Function    :  tanh\n",
      "Optimization Method    :  mini-batch\n",
      "Learning Rate          :  0.05\n",
      "Num Epoches            :  100\n",
      "-----------------------------------------------\n"
     ]
    },
    {
     "data": {
      "text/html": [
       "Waiting for W&B process to finish... <strong style=\"color:green\">(success).</strong>"
      ],
      "text/plain": [
       "<IPython.core.display.HTML object>"
      ]
     },
     "metadata": {},
     "output_type": "display_data"
    },
    {
     "data": {
      "text/html": [
       "<style>\n",
       "    table.wandb td:nth-child(1) { padding: 0 10px; text-align: left ; width: auto;} td:nth-child(2) {text-align: left ; width: 100%}\n",
       "    .wandb-row { display: flex; flex-direction: row; flex-wrap: wrap; justify-content: flex-start; width: 100% }\n",
       "    .wandb-col { display: flex; flex-direction: column; flex-basis: 100%; flex: 1; padding: 10px; }\n",
       "    </style>\n",
       "<div class=\"wandb-row\"><div class=\"wandb-col\"><h3>Run history:</h3><br/><table class=\"wandb\"><tr><td>acc</td><td>▁▅▅▅▅▅▅▅▅▅▅▅▅██████████████████▇▇▇▇▇▇▇▇▇</td></tr><tr><td>loss</td><td>█▇▅▄▃▂▂▂▂▂▂▂▂▁▁▁▁▁▁▁▁▁▁▁▁▁▁▁▁▁▁▁▁▁▁▁▁▁▁▁</td></tr></table><br/></div><div class=\"wandb-col\"><h3>Run summary:</h3><br/><table class=\"wandb\"><tr><td>acc</td><td>0.527</td></tr><tr><td>loss</td><td>0.23</td></tr></table><br/></div></div>"
      ],
      "text/plain": [
       "<IPython.core.display.HTML object>"
      ]
     },
     "metadata": {},
     "output_type": "display_data"
    },
    {
     "data": {
      "text/html": [
       " View run <strong style=\"color:#cdcd00\">iconic-sunset-61</strong> at: <a href='https://wandb.ai/tejas591995/MLPClassification/runs/9yum7qle' target=\"_blank\">https://wandb.ai/tejas591995/MLPClassification/runs/9yum7qle</a><br/> View job at <a href='https://wandb.ai/tejas591995/MLPClassification/jobs/QXJ0aWZhY3RDb2xsZWN0aW9uOjEwOTIxOTAwNw==/version_details/v0' target=\"_blank\">https://wandb.ai/tejas591995/MLPClassification/jobs/QXJ0aWZhY3RDb2xsZWN0aW9uOjEwOTIxOTAwNw==/version_details/v0</a><br/>Synced 6 W&B file(s), 0 media file(s), 0 artifact file(s) and 0 other file(s)"
      ],
      "text/plain": [
       "<IPython.core.display.HTML object>"
      ]
     },
     "metadata": {},
     "output_type": "display_data"
    },
    {
     "data": {
      "text/html": [
       "Find logs at: <code>./wandb/run-20231023_190148-9yum7qle/logs</code>"
      ],
      "text/plain": [
       "<IPython.core.display.HTML object>"
      ]
     },
     "metadata": {},
     "output_type": "display_data"
    },
    {
     "name": "stdout",
     "output_type": "stream",
     "text": [
      "61\n"
     ]
    },
    {
     "data": {
      "application/vnd.jupyter.widget-view+json": {
       "model_id": "6aff86f2905b48b4868c38a9836d678b",
       "version_major": 2,
       "version_minor": 0
      },
      "text/plain": [
       "VBox(children=(Label(value='Waiting for wandb.init()...\\r'), FloatProgress(value=0.01111238597776618, max=1.0)…"
      ]
     },
     "metadata": {},
     "output_type": "display_data"
    },
    {
     "data": {
      "text/html": [
       "wandb version 0.15.12 is available!  To upgrade, please run:\n",
       " $ pip install wandb --upgrade"
      ],
      "text/plain": [
       "<IPython.core.display.HTML object>"
      ]
     },
     "metadata": {},
     "output_type": "display_data"
    },
    {
     "data": {
      "text/html": [
       "Tracking run with wandb version 0.15.11"
      ],
      "text/plain": [
       "<IPython.core.display.HTML object>"
      ]
     },
     "metadata": {},
     "output_type": "display_data"
    },
    {
     "data": {
      "text/html": [
       "Run data is saved locally in <code>/home/tejas/Documents/SMAI/assignment-3-MrTejas/q2/wandb/run-20231023_190203-cu0f3ff7</code>"
      ],
      "text/plain": [
       "<IPython.core.display.HTML object>"
      ]
     },
     "metadata": {},
     "output_type": "display_data"
    },
    {
     "data": {
      "text/html": [
       "Syncing run <strong><a href='https://wandb.ai/tejas591995/MLPClassification/runs/cu0f3ff7' target=\"_blank\">autumn-frost-62</a></strong> to <a href='https://wandb.ai/tejas591995/MLPClassification' target=\"_blank\">Weights & Biases</a> (<a href='https://wandb.me/run' target=\"_blank\">docs</a>)<br/>"
      ],
      "text/plain": [
       "<IPython.core.display.HTML object>"
      ]
     },
     "metadata": {},
     "output_type": "display_data"
    },
    {
     "data": {
      "text/html": [
       " View project at <a href='https://wandb.ai/tejas591995/MLPClassification' target=\"_blank\">https://wandb.ai/tejas591995/MLPClassification</a>"
      ],
      "text/plain": [
       "<IPython.core.display.HTML object>"
      ]
     },
     "metadata": {},
     "output_type": "display_data"
    },
    {
     "data": {
      "text/html": [
       " View run at <a href='https://wandb.ai/tejas591995/MLPClassification/runs/cu0f3ff7' target=\"_blank\">https://wandb.ai/tejas591995/MLPClassification/runs/cu0f3ff7</a>"
      ],
      "text/plain": [
       "<IPython.core.display.HTML object>"
      ]
     },
     "metadata": {},
     "output_type": "display_data"
    },
    {
     "name": "stdout",
     "output_type": "stream",
     "text": [
      "Initialized values successfully!\n",
      "Loaded Dataframe!\n",
      "Splitted data into train, test and val sets!\n",
      "-----------------------------------------------\n",
      "Number of Layers       :  4\n",
      "Layer sizes            :  [11, 5, 5, 6]\n",
      "Batch size             :  150\n",
      "Activation Function    :  tanh\n",
      "Optimization Method    :  mini-batch\n",
      "Learning Rate          :  0.05\n",
      "Num Epoches            :  100\n",
      "-----------------------------------------------\n"
     ]
    },
    {
     "data": {
      "text/html": [
       "Waiting for W&B process to finish... <strong style=\"color:green\">(success).</strong>"
      ],
      "text/plain": [
       "<IPython.core.display.HTML object>"
      ]
     },
     "metadata": {},
     "output_type": "display_data"
    },
    {
     "data": {
      "application/vnd.jupyter.widget-view+json": {
       "model_id": "e08b065e26ed41999db8840184558e77",
       "version_major": 2,
       "version_minor": 0
      },
      "text/plain": [
       "VBox(children=(Label(value='0.002 MB of 0.002 MB uploaded (0.000 MB deduped)\\r'), FloatProgress(value=1.0, max…"
      ]
     },
     "metadata": {},
     "output_type": "display_data"
    },
    {
     "data": {
      "text/html": [
       "<style>\n",
       "    table.wandb td:nth-child(1) { padding: 0 10px; text-align: left ; width: auto;} td:nth-child(2) {text-align: left ; width: 100%}\n",
       "    .wandb-row { display: flex; flex-direction: row; flex-wrap: wrap; justify-content: flex-start; width: 100% }\n",
       "    .wandb-col { display: flex; flex-direction: column; flex-basis: 100%; flex: 1; padding: 10px; }\n",
       "    </style>\n",
       "<div class=\"wandb-row\"><div class=\"wandb-col\"><h3>Run history:</h3><br/><table class=\"wandb\"><tr><td>acc</td><td>▁▇██████████████████████████████████████</td></tr><tr><td>loss</td><td>█▆▄▄▃▃▃▂▂▂▂▂▂▂▂▂▁▁▁▁▁▁▁▁▁▁▁▁▁▁▁▁▁▁▁▁▁▁▁▁</td></tr></table><br/></div><div class=\"wandb-col\"><h3>Run summary:</h3><br/><table class=\"wandb\"><tr><td>acc</td><td>0.417</td></tr><tr><td>loss</td><td>0.23</td></tr></table><br/></div></div>"
      ],
      "text/plain": [
       "<IPython.core.display.HTML object>"
      ]
     },
     "metadata": {},
     "output_type": "display_data"
    },
    {
     "data": {
      "text/html": [
       " View run <strong style=\"color:#cdcd00\">autumn-frost-62</strong> at: <a href='https://wandb.ai/tejas591995/MLPClassification/runs/cu0f3ff7' target=\"_blank\">https://wandb.ai/tejas591995/MLPClassification/runs/cu0f3ff7</a><br/> View job at <a href='https://wandb.ai/tejas591995/MLPClassification/jobs/QXJ0aWZhY3RDb2xsZWN0aW9uOjEwOTIxOTAwNw==/version_details/v0' target=\"_blank\">https://wandb.ai/tejas591995/MLPClassification/jobs/QXJ0aWZhY3RDb2xsZWN0aW9uOjEwOTIxOTAwNw==/version_details/v0</a><br/>Synced 6 W&B file(s), 0 media file(s), 0 artifact file(s) and 0 other file(s)"
      ],
      "text/plain": [
       "<IPython.core.display.HTML object>"
      ]
     },
     "metadata": {},
     "output_type": "display_data"
    },
    {
     "data": {
      "text/html": [
       "Find logs at: <code>./wandb/run-20231023_190203-cu0f3ff7/logs</code>"
      ],
      "text/plain": [
       "<IPython.core.display.HTML object>"
      ]
     },
     "metadata": {},
     "output_type": "display_data"
    },
    {
     "name": "stdout",
     "output_type": "stream",
     "text": [
      "62\n"
     ]
    },
    {
     "data": {
      "application/vnd.jupyter.widget-view+json": {
       "model_id": "58882d312ef6491e91262bf3e0ecdd65",
       "version_major": 2,
       "version_minor": 0
      },
      "text/plain": [
       "VBox(children=(Label(value='Waiting for wandb.init()...\\r'), FloatProgress(value=0.011114212955564855, max=1.0…"
      ]
     },
     "metadata": {},
     "output_type": "display_data"
    },
    {
     "data": {
      "text/html": [
       "wandb version 0.15.12 is available!  To upgrade, please run:\n",
       " $ pip install wandb --upgrade"
      ],
      "text/plain": [
       "<IPython.core.display.HTML object>"
      ]
     },
     "metadata": {},
     "output_type": "display_data"
    },
    {
     "data": {
      "text/html": [
       "Tracking run with wandb version 0.15.11"
      ],
      "text/plain": [
       "<IPython.core.display.HTML object>"
      ]
     },
     "metadata": {},
     "output_type": "display_data"
    },
    {
     "data": {
      "text/html": [
       "Run data is saved locally in <code>/home/tejas/Documents/SMAI/assignment-3-MrTejas/q2/wandb/run-20231023_190219-0rh9k8h5</code>"
      ],
      "text/plain": [
       "<IPython.core.display.HTML object>"
      ]
     },
     "metadata": {},
     "output_type": "display_data"
    },
    {
     "data": {
      "text/html": [
       "Syncing run <strong><a href='https://wandb.ai/tejas591995/MLPClassification/runs/0rh9k8h5' target=\"_blank\">fluent-sky-63</a></strong> to <a href='https://wandb.ai/tejas591995/MLPClassification' target=\"_blank\">Weights & Biases</a> (<a href='https://wandb.me/run' target=\"_blank\">docs</a>)<br/>"
      ],
      "text/plain": [
       "<IPython.core.display.HTML object>"
      ]
     },
     "metadata": {},
     "output_type": "display_data"
    },
    {
     "data": {
      "text/html": [
       " View project at <a href='https://wandb.ai/tejas591995/MLPClassification' target=\"_blank\">https://wandb.ai/tejas591995/MLPClassification</a>"
      ],
      "text/plain": [
       "<IPython.core.display.HTML object>"
      ]
     },
     "metadata": {},
     "output_type": "display_data"
    },
    {
     "data": {
      "text/html": [
       " View run at <a href='https://wandb.ai/tejas591995/MLPClassification/runs/0rh9k8h5' target=\"_blank\">https://wandb.ai/tejas591995/MLPClassification/runs/0rh9k8h5</a>"
      ],
      "text/plain": [
       "<IPython.core.display.HTML object>"
      ]
     },
     "metadata": {},
     "output_type": "display_data"
    },
    {
     "name": "stdout",
     "output_type": "stream",
     "text": [
      "Initialized values successfully!\n",
      "Loaded Dataframe!\n",
      "Splitted data into train, test and val sets!\n",
      "-----------------------------------------------\n",
      "Number of Layers       :  4\n",
      "Layer sizes            :  [11, 5, 5, 6]\n",
      "Batch size             :  200\n",
      "Activation Function    :  tanh\n",
      "Optimization Method    :  mini-batch\n",
      "Learning Rate          :  0.05\n",
      "Num Epoches            :  100\n",
      "-----------------------------------------------\n"
     ]
    },
    {
     "data": {
      "text/html": [
       "Waiting for W&B process to finish... <strong style=\"color:green\">(success).</strong>"
      ],
      "text/plain": [
       "<IPython.core.display.HTML object>"
      ]
     },
     "metadata": {},
     "output_type": "display_data"
    },
    {
     "data": {
      "text/html": [
       "<style>\n",
       "    table.wandb td:nth-child(1) { padding: 0 10px; text-align: left ; width: auto;} td:nth-child(2) {text-align: left ; width: 100%}\n",
       "    .wandb-row { display: flex; flex-direction: row; flex-wrap: wrap; justify-content: flex-start; width: 100% }\n",
       "    .wandb-col { display: flex; flex-direction: column; flex-basis: 100%; flex: 1; padding: 10px; }\n",
       "    </style>\n",
       "<div class=\"wandb-row\"><div class=\"wandb-col\"><h3>Run history:</h3><br/><table class=\"wandb\"><tr><td>acc</td><td>▁▂▄▅▇███████████████████████████████████</td></tr><tr><td>loss</td><td>██▇▆▆▆▅▅▄▄▃▃▃▂▂▂▂▂▂▁▁▁▁▁▁▁▁▁▁▁▁▁▁▁▁▁▁▁▁▁</td></tr></table><br/></div><div class=\"wandb-col\"><h3>Run summary:</h3><br/><table class=\"wandb\"><tr><td>acc</td><td>0.371</td></tr><tr><td>loss</td><td>0.206</td></tr></table><br/></div></div>"
      ],
      "text/plain": [
       "<IPython.core.display.HTML object>"
      ]
     },
     "metadata": {},
     "output_type": "display_data"
    },
    {
     "data": {
      "text/html": [
       " View run <strong style=\"color:#cdcd00\">fluent-sky-63</strong> at: <a href='https://wandb.ai/tejas591995/MLPClassification/runs/0rh9k8h5' target=\"_blank\">https://wandb.ai/tejas591995/MLPClassification/runs/0rh9k8h5</a><br/> View job at <a href='https://wandb.ai/tejas591995/MLPClassification/jobs/QXJ0aWZhY3RDb2xsZWN0aW9uOjEwOTIxOTAwNw==/version_details/v0' target=\"_blank\">https://wandb.ai/tejas591995/MLPClassification/jobs/QXJ0aWZhY3RDb2xsZWN0aW9uOjEwOTIxOTAwNw==/version_details/v0</a><br/>Synced 6 W&B file(s), 0 media file(s), 0 artifact file(s) and 0 other file(s)"
      ],
      "text/plain": [
       "<IPython.core.display.HTML object>"
      ]
     },
     "metadata": {},
     "output_type": "display_data"
    },
    {
     "data": {
      "text/html": [
       "Find logs at: <code>./wandb/run-20231023_190219-0rh9k8h5/logs</code>"
      ],
      "text/plain": [
       "<IPython.core.display.HTML object>"
      ]
     },
     "metadata": {},
     "output_type": "display_data"
    },
    {
     "name": "stdout",
     "output_type": "stream",
     "text": [
      "63\n"
     ]
    },
    {
     "data": {
      "application/vnd.jupyter.widget-view+json": {
       "model_id": "37d88828ba0e4347ab07d44d41ff0e40",
       "version_major": 2,
       "version_minor": 0
      },
      "text/plain": [
       "VBox(children=(Label(value='Waiting for wandb.init()...\\r'), FloatProgress(value=0.011113076911108995, max=1.0…"
      ]
     },
     "metadata": {},
     "output_type": "display_data"
    },
    {
     "data": {
      "text/html": [
       "wandb version 0.15.12 is available!  To upgrade, please run:\n",
       " $ pip install wandb --upgrade"
      ],
      "text/plain": [
       "<IPython.core.display.HTML object>"
      ]
     },
     "metadata": {},
     "output_type": "display_data"
    },
    {
     "data": {
      "text/html": [
       "Tracking run with wandb version 0.15.11"
      ],
      "text/plain": [
       "<IPython.core.display.HTML object>"
      ]
     },
     "metadata": {},
     "output_type": "display_data"
    },
    {
     "data": {
      "text/html": [
       "Run data is saved locally in <code>/home/tejas/Documents/SMAI/assignment-3-MrTejas/q2/wandb/run-20231023_190233-oi7h37ku</code>"
      ],
      "text/plain": [
       "<IPython.core.display.HTML object>"
      ]
     },
     "metadata": {},
     "output_type": "display_data"
    },
    {
     "data": {
      "text/html": [
       "Syncing run <strong><a href='https://wandb.ai/tejas591995/MLPClassification/runs/oi7h37ku' target=\"_blank\">fanciful-plasma-64</a></strong> to <a href='https://wandb.ai/tejas591995/MLPClassification' target=\"_blank\">Weights & Biases</a> (<a href='https://wandb.me/run' target=\"_blank\">docs</a>)<br/>"
      ],
      "text/plain": [
       "<IPython.core.display.HTML object>"
      ]
     },
     "metadata": {},
     "output_type": "display_data"
    },
    {
     "data": {
      "text/html": [
       " View project at <a href='https://wandb.ai/tejas591995/MLPClassification' target=\"_blank\">https://wandb.ai/tejas591995/MLPClassification</a>"
      ],
      "text/plain": [
       "<IPython.core.display.HTML object>"
      ]
     },
     "metadata": {},
     "output_type": "display_data"
    },
    {
     "data": {
      "text/html": [
       " View run at <a href='https://wandb.ai/tejas591995/MLPClassification/runs/oi7h37ku' target=\"_blank\">https://wandb.ai/tejas591995/MLPClassification/runs/oi7h37ku</a>"
      ],
      "text/plain": [
       "<IPython.core.display.HTML object>"
      ]
     },
     "metadata": {},
     "output_type": "display_data"
    },
    {
     "name": "stdout",
     "output_type": "stream",
     "text": [
      "Initialized values successfully!\n",
      "Loaded Dataframe!\n",
      "Splitted data into train, test and val sets!\n",
      "-----------------------------------------------\n",
      "Number of Layers       :  4\n",
      "Layer sizes            :  [11, 5, 5, 6]\n",
      "Batch size             :  250\n",
      "Activation Function    :  tanh\n",
      "Optimization Method    :  mini-batch\n",
      "Learning Rate          :  0.05\n",
      "Num Epoches            :  100\n",
      "-----------------------------------------------\n"
     ]
    },
    {
     "data": {
      "text/html": [
       "Waiting for W&B process to finish... <strong style=\"color:green\">(success).</strong>"
      ],
      "text/plain": [
       "<IPython.core.display.HTML object>"
      ]
     },
     "metadata": {},
     "output_type": "display_data"
    },
    {
     "data": {
      "application/vnd.jupyter.widget-view+json": {
       "model_id": "3b5056560fe44850914ce173f52df2b4",
       "version_major": 2,
       "version_minor": 0
      },
      "text/plain": [
       "VBox(children=(Label(value='0.002 MB of 0.002 MB uploaded (0.000 MB deduped)\\r'), FloatProgress(value=1.0, max…"
      ]
     },
     "metadata": {},
     "output_type": "display_data"
    },
    {
     "data": {
      "text/html": [
       "<style>\n",
       "    table.wandb td:nth-child(1) { padding: 0 10px; text-align: left ; width: auto;} td:nth-child(2) {text-align: left ; width: 100%}\n",
       "    .wandb-row { display: flex; flex-direction: row; flex-wrap: wrap; justify-content: flex-start; width: 100% }\n",
       "    .wandb-col { display: flex; flex-direction: column; flex-basis: 100%; flex: 1; padding: 10px; }\n",
       "    </style>\n",
       "<div class=\"wandb-row\"><div class=\"wandb-col\"><h3>Run history:</h3><br/><table class=\"wandb\"><tr><td>acc</td><td>▁▁▃▇████████████████████████████████████</td></tr><tr><td>loss</td><td>█▇▆▆▅▄▃▃▂▂▂▂▂▁▁▁▁▁▁▁▁▁▁▁▁▁▁▁▁▁▁▁▁▁▁▁▁▁▁▁</td></tr></table><br/></div><div class=\"wandb-col\"><h3>Run summary:</h3><br/><table class=\"wandb\"><tr><td>acc</td><td>0.347</td></tr><tr><td>loss</td><td>0.196</td></tr></table><br/></div></div>"
      ],
      "text/plain": [
       "<IPython.core.display.HTML object>"
      ]
     },
     "metadata": {},
     "output_type": "display_data"
    },
    {
     "data": {
      "text/html": [
       " View run <strong style=\"color:#cdcd00\">fanciful-plasma-64</strong> at: <a href='https://wandb.ai/tejas591995/MLPClassification/runs/oi7h37ku' target=\"_blank\">https://wandb.ai/tejas591995/MLPClassification/runs/oi7h37ku</a><br/> View job at <a href='https://wandb.ai/tejas591995/MLPClassification/jobs/QXJ0aWZhY3RDb2xsZWN0aW9uOjEwOTIxOTAwNw==/version_details/v0' target=\"_blank\">https://wandb.ai/tejas591995/MLPClassification/jobs/QXJ0aWZhY3RDb2xsZWN0aW9uOjEwOTIxOTAwNw==/version_details/v0</a><br/>Synced 6 W&B file(s), 0 media file(s), 0 artifact file(s) and 0 other file(s)"
      ],
      "text/plain": [
       "<IPython.core.display.HTML object>"
      ]
     },
     "metadata": {},
     "output_type": "display_data"
    },
    {
     "data": {
      "text/html": [
       "Find logs at: <code>./wandb/run-20231023_190233-oi7h37ku/logs</code>"
      ],
      "text/plain": [
       "<IPython.core.display.HTML object>"
      ]
     },
     "metadata": {},
     "output_type": "display_data"
    },
    {
     "name": "stdout",
     "output_type": "stream",
     "text": [
      "64\n"
     ]
    },
    {
     "data": {
      "application/vnd.jupyter.widget-view+json": {
       "model_id": "bfc2ba41ccd24050936dcf1b3bc9ac83",
       "version_major": 2,
       "version_minor": 0
      },
      "text/plain": [
       "VBox(children=(Label(value='Waiting for wandb.init()...\\r'), FloatProgress(value=0.011114252433334413, max=1.0…"
      ]
     },
     "metadata": {},
     "output_type": "display_data"
    },
    {
     "data": {
      "text/html": [
       "wandb version 0.15.12 is available!  To upgrade, please run:\n",
       " $ pip install wandb --upgrade"
      ],
      "text/plain": [
       "<IPython.core.display.HTML object>"
      ]
     },
     "metadata": {},
     "output_type": "display_data"
    },
    {
     "data": {
      "text/html": [
       "Tracking run with wandb version 0.15.11"
      ],
      "text/plain": [
       "<IPython.core.display.HTML object>"
      ]
     },
     "metadata": {},
     "output_type": "display_data"
    },
    {
     "data": {
      "text/html": [
       "Run data is saved locally in <code>/home/tejas/Documents/SMAI/assignment-3-MrTejas/q2/wandb/run-20231023_190249-1i5mu75w</code>"
      ],
      "text/plain": [
       "<IPython.core.display.HTML object>"
      ]
     },
     "metadata": {},
     "output_type": "display_data"
    },
    {
     "data": {
      "text/html": [
       "Syncing run <strong><a href='https://wandb.ai/tejas591995/MLPClassification/runs/1i5mu75w' target=\"_blank\">stoic-yogurt-65</a></strong> to <a href='https://wandb.ai/tejas591995/MLPClassification' target=\"_blank\">Weights & Biases</a> (<a href='https://wandb.me/run' target=\"_blank\">docs</a>)<br/>"
      ],
      "text/plain": [
       "<IPython.core.display.HTML object>"
      ]
     },
     "metadata": {},
     "output_type": "display_data"
    },
    {
     "data": {
      "text/html": [
       " View project at <a href='https://wandb.ai/tejas591995/MLPClassification' target=\"_blank\">https://wandb.ai/tejas591995/MLPClassification</a>"
      ],
      "text/plain": [
       "<IPython.core.display.HTML object>"
      ]
     },
     "metadata": {},
     "output_type": "display_data"
    },
    {
     "data": {
      "text/html": [
       " View run at <a href='https://wandb.ai/tejas591995/MLPClassification/runs/1i5mu75w' target=\"_blank\">https://wandb.ai/tejas591995/MLPClassification/runs/1i5mu75w</a>"
      ],
      "text/plain": [
       "<IPython.core.display.HTML object>"
      ]
     },
     "metadata": {},
     "output_type": "display_data"
    },
    {
     "name": "stdout",
     "output_type": "stream",
     "text": [
      "Initialized values successfully!\n",
      "Loaded Dataframe!\n",
      "Splitted data into train, test and val sets!\n",
      "-----------------------------------------------\n",
      "Number of Layers       :  4\n",
      "Layer sizes            :  [11, 5, 5, 6]\n",
      "Batch size             :  100\n",
      "Activation Function    :  ReLU\n",
      "Optimization Method    :  mini-batch\n",
      "Learning Rate          :  0.05\n",
      "Num Epoches            :  100\n",
      "-----------------------------------------------\n"
     ]
    },
    {
     "name": "stderr",
     "output_type": "stream",
     "text": [
      "/tmp/ipykernel_19681/4227875859.py:108: RuntimeWarning: invalid value encountered in true_divide\n",
      "  return ar/ar.sum(axis=1,keepdims=True)\n"
     ]
    },
    {
     "data": {
      "text/html": [
       "Waiting for W&B process to finish... <strong style=\"color:green\">(success).</strong>"
      ],
      "text/plain": [
       "<IPython.core.display.HTML object>"
      ]
     },
     "metadata": {},
     "output_type": "display_data"
    },
    {
     "data": {
      "text/html": [
       "<style>\n",
       "    table.wandb td:nth-child(1) { padding: 0 10px; text-align: left ; width: auto;} td:nth-child(2) {text-align: left ; width: 100%}\n",
       "    .wandb-row { display: flex; flex-direction: row; flex-wrap: wrap; justify-content: flex-start; width: 100% }\n",
       "    .wandb-col { display: flex; flex-direction: column; flex-basis: 100%; flex: 1; padding: 10px; }\n",
       "    </style>\n",
       "<div class=\"wandb-row\"><div class=\"wandb-col\"><h3>Run history:</h3><br/><table class=\"wandb\"><tr><td>acc</td><td>▅▇█████████▇██▇██████▇▇▇▇▁▁▁▁▁▁▁▁▁▁▁▁▁▁▁</td></tr><tr><td>loss</td><td>▂▂▁▁▁▁▁▁▁▁▁▁▁▁▁▁▁▁▁▂▂▃▄▆█               </td></tr></table><br/></div><div class=\"wandb-col\"><h3>Run summary:</h3><br/><table class=\"wandb\"><tr><td>acc</td><td>0.006</td></tr><tr><td>loss</td><td>nan</td></tr></table><br/></div></div>"
      ],
      "text/plain": [
       "<IPython.core.display.HTML object>"
      ]
     },
     "metadata": {},
     "output_type": "display_data"
    },
    {
     "data": {
      "text/html": [
       " View run <strong style=\"color:#cdcd00\">stoic-yogurt-65</strong> at: <a href='https://wandb.ai/tejas591995/MLPClassification/runs/1i5mu75w' target=\"_blank\">https://wandb.ai/tejas591995/MLPClassification/runs/1i5mu75w</a><br/> View job at <a href='https://wandb.ai/tejas591995/MLPClassification/jobs/QXJ0aWZhY3RDb2xsZWN0aW9uOjEwOTIxOTAwNw==/version_details/v1' target=\"_blank\">https://wandb.ai/tejas591995/MLPClassification/jobs/QXJ0aWZhY3RDb2xsZWN0aW9uOjEwOTIxOTAwNw==/version_details/v1</a><br/>Synced 6 W&B file(s), 0 media file(s), 2 artifact file(s) and 0 other file(s)"
      ],
      "text/plain": [
       "<IPython.core.display.HTML object>"
      ]
     },
     "metadata": {},
     "output_type": "display_data"
    },
    {
     "data": {
      "text/html": [
       "Find logs at: <code>./wandb/run-20231023_190249-1i5mu75w/logs</code>"
      ],
      "text/plain": [
       "<IPython.core.display.HTML object>"
      ]
     },
     "metadata": {},
     "output_type": "display_data"
    },
    {
     "name": "stdout",
     "output_type": "stream",
     "text": [
      "65\n"
     ]
    },
    {
     "data": {
      "application/vnd.jupyter.widget-view+json": {
       "model_id": "20843fd17e4745bbae7a0948031dfbfb",
       "version_major": 2,
       "version_minor": 0
      },
      "text/plain": [
       "VBox(children=(Label(value='Waiting for wandb.init()...\\r'), FloatProgress(value=0.011112658177767621, max=1.0…"
      ]
     },
     "metadata": {},
     "output_type": "display_data"
    },
    {
     "data": {
      "text/html": [
       "wandb version 0.15.12 is available!  To upgrade, please run:\n",
       " $ pip install wandb --upgrade"
      ],
      "text/plain": [
       "<IPython.core.display.HTML object>"
      ]
     },
     "metadata": {},
     "output_type": "display_data"
    },
    {
     "data": {
      "text/html": [
       "Tracking run with wandb version 0.15.11"
      ],
      "text/plain": [
       "<IPython.core.display.HTML object>"
      ]
     },
     "metadata": {},
     "output_type": "display_data"
    },
    {
     "data": {
      "text/html": [
       "Run data is saved locally in <code>/home/tejas/Documents/SMAI/assignment-3-MrTejas/q2/wandb/run-20231023_190307-b15gezcr</code>"
      ],
      "text/plain": [
       "<IPython.core.display.HTML object>"
      ]
     },
     "metadata": {},
     "output_type": "display_data"
    },
    {
     "data": {
      "text/html": [
       "Syncing run <strong><a href='https://wandb.ai/tejas591995/MLPClassification/runs/b15gezcr' target=\"_blank\">summer-planet-66</a></strong> to <a href='https://wandb.ai/tejas591995/MLPClassification' target=\"_blank\">Weights & Biases</a> (<a href='https://wandb.me/run' target=\"_blank\">docs</a>)<br/>"
      ],
      "text/plain": [
       "<IPython.core.display.HTML object>"
      ]
     },
     "metadata": {},
     "output_type": "display_data"
    },
    {
     "data": {
      "text/html": [
       " View project at <a href='https://wandb.ai/tejas591995/MLPClassification' target=\"_blank\">https://wandb.ai/tejas591995/MLPClassification</a>"
      ],
      "text/plain": [
       "<IPython.core.display.HTML object>"
      ]
     },
     "metadata": {},
     "output_type": "display_data"
    },
    {
     "data": {
      "text/html": [
       " View run at <a href='https://wandb.ai/tejas591995/MLPClassification/runs/b15gezcr' target=\"_blank\">https://wandb.ai/tejas591995/MLPClassification/runs/b15gezcr</a>"
      ],
      "text/plain": [
       "<IPython.core.display.HTML object>"
      ]
     },
     "metadata": {},
     "output_type": "display_data"
    },
    {
     "name": "stdout",
     "output_type": "stream",
     "text": [
      "Initialized values successfully!\n",
      "Loaded Dataframe!\n",
      "Splitted data into train, test and val sets!\n",
      "-----------------------------------------------\n",
      "Number of Layers       :  4\n",
      "Layer sizes            :  [11, 5, 5, 6]\n",
      "Batch size             :  150\n",
      "Activation Function    :  ReLU\n",
      "Optimization Method    :  mini-batch\n",
      "Learning Rate          :  0.05\n",
      "Num Epoches            :  100\n",
      "-----------------------------------------------\n"
     ]
    },
    {
     "data": {
      "text/html": [
       "Waiting for W&B process to finish... <strong style=\"color:green\">(success).</strong>"
      ],
      "text/plain": [
       "<IPython.core.display.HTML object>"
      ]
     },
     "metadata": {},
     "output_type": "display_data"
    },
    {
     "data": {
      "text/html": [
       "<style>\n",
       "    table.wandb td:nth-child(1) { padding: 0 10px; text-align: left ; width: auto;} td:nth-child(2) {text-align: left ; width: 100%}\n",
       "    .wandb-row { display: flex; flex-direction: row; flex-wrap: wrap; justify-content: flex-start; width: 100% }\n",
       "    .wandb-col { display: flex; flex-direction: column; flex-basis: 100%; flex: 1; padding: 10px; }\n",
       "    </style>\n",
       "<div class=\"wandb-row\"><div class=\"wandb-col\"><h3>Run history:</h3><br/><table class=\"wandb\"><tr><td>acc</td><td>▁▅▇▇██████████████████████████████▇█████</td></tr><tr><td>loss</td><td>█▄▃▂▂▂▁▁▁▁▁▁▁▁▁▁▁▁▁▁▁▁▁▁▁▁▁▁▁▁▁▁▁▁▁▁▁▁▁▁</td></tr></table><br/></div><div class=\"wandb-col\"><h3>Run summary:</h3><br/><table class=\"wandb\"><tr><td>acc</td><td>0.562</td></tr><tr><td>loss</td><td>0.173</td></tr></table><br/></div></div>"
      ],
      "text/plain": [
       "<IPython.core.display.HTML object>"
      ]
     },
     "metadata": {},
     "output_type": "display_data"
    },
    {
     "data": {
      "text/html": [
       " View run <strong style=\"color:#cdcd00\">summer-planet-66</strong> at: <a href='https://wandb.ai/tejas591995/MLPClassification/runs/b15gezcr' target=\"_blank\">https://wandb.ai/tejas591995/MLPClassification/runs/b15gezcr</a><br/> View job at <a href='https://wandb.ai/tejas591995/MLPClassification/jobs/QXJ0aWZhY3RDb2xsZWN0aW9uOjEwOTIxOTAwNw==/version_details/v2' target=\"_blank\">https://wandb.ai/tejas591995/MLPClassification/jobs/QXJ0aWZhY3RDb2xsZWN0aW9uOjEwOTIxOTAwNw==/version_details/v2</a><br/>Synced 6 W&B file(s), 0 media file(s), 0 artifact file(s) and 0 other file(s)"
      ],
      "text/plain": [
       "<IPython.core.display.HTML object>"
      ]
     },
     "metadata": {},
     "output_type": "display_data"
    },
    {
     "data": {
      "text/html": [
       "Find logs at: <code>./wandb/run-20231023_190307-b15gezcr/logs</code>"
      ],
      "text/plain": [
       "<IPython.core.display.HTML object>"
      ]
     },
     "metadata": {},
     "output_type": "display_data"
    },
    {
     "name": "stdout",
     "output_type": "stream",
     "text": [
      "66\n"
     ]
    },
    {
     "data": {
      "application/vnd.jupyter.widget-view+json": {
       "model_id": "46d1b5a700bc43c3923e49f573e1b455",
       "version_major": 2,
       "version_minor": 0
      },
      "text/plain": [
       "VBox(children=(Label(value='Waiting for wandb.init()...\\r'), FloatProgress(value=0.011114098666682063, max=1.0…"
      ]
     },
     "metadata": {},
     "output_type": "display_data"
    },
    {
     "data": {
      "text/html": [
       "wandb version 0.15.12 is available!  To upgrade, please run:\n",
       " $ pip install wandb --upgrade"
      ],
      "text/plain": [
       "<IPython.core.display.HTML object>"
      ]
     },
     "metadata": {},
     "output_type": "display_data"
    },
    {
     "data": {
      "text/html": [
       "Tracking run with wandb version 0.15.11"
      ],
      "text/plain": [
       "<IPython.core.display.HTML object>"
      ]
     },
     "metadata": {},
     "output_type": "display_data"
    },
    {
     "data": {
      "text/html": [
       "Run data is saved locally in <code>/home/tejas/Documents/SMAI/assignment-3-MrTejas/q2/wandb/run-20231023_190322-hm9t2bvy</code>"
      ],
      "text/plain": [
       "<IPython.core.display.HTML object>"
      ]
     },
     "metadata": {},
     "output_type": "display_data"
    },
    {
     "data": {
      "text/html": [
       "Syncing run <strong><a href='https://wandb.ai/tejas591995/MLPClassification/runs/hm9t2bvy' target=\"_blank\">glad-water-67</a></strong> to <a href='https://wandb.ai/tejas591995/MLPClassification' target=\"_blank\">Weights & Biases</a> (<a href='https://wandb.me/run' target=\"_blank\">docs</a>)<br/>"
      ],
      "text/plain": [
       "<IPython.core.display.HTML object>"
      ]
     },
     "metadata": {},
     "output_type": "display_data"
    },
    {
     "data": {
      "text/html": [
       " View project at <a href='https://wandb.ai/tejas591995/MLPClassification' target=\"_blank\">https://wandb.ai/tejas591995/MLPClassification</a>"
      ],
      "text/plain": [
       "<IPython.core.display.HTML object>"
      ]
     },
     "metadata": {},
     "output_type": "display_data"
    },
    {
     "data": {
      "text/html": [
       " View run at <a href='https://wandb.ai/tejas591995/MLPClassification/runs/hm9t2bvy' target=\"_blank\">https://wandb.ai/tejas591995/MLPClassification/runs/hm9t2bvy</a>"
      ],
      "text/plain": [
       "<IPython.core.display.HTML object>"
      ]
     },
     "metadata": {},
     "output_type": "display_data"
    },
    {
     "name": "stdout",
     "output_type": "stream",
     "text": [
      "Initialized values successfully!\n",
      "Loaded Dataframe!\n",
      "Splitted data into train, test and val sets!\n",
      "-----------------------------------------------\n",
      "Number of Layers       :  4\n",
      "Layer sizes            :  [11, 5, 5, 6]\n",
      "Batch size             :  200\n",
      "Activation Function    :  ReLU\n",
      "Optimization Method    :  mini-batch\n",
      "Learning Rate          :  0.05\n",
      "Num Epoches            :  100\n",
      "-----------------------------------------------\n"
     ]
    },
    {
     "data": {
      "text/html": [
       "Waiting for W&B process to finish... <strong style=\"color:green\">(success).</strong>"
      ],
      "text/plain": [
       "<IPython.core.display.HTML object>"
      ]
     },
     "metadata": {},
     "output_type": "display_data"
    },
    {
     "data": {
      "text/html": [
       "<style>\n",
       "    table.wandb td:nth-child(1) { padding: 0 10px; text-align: left ; width: auto;} td:nth-child(2) {text-align: left ; width: 100%}\n",
       "    .wandb-row { display: flex; flex-direction: row; flex-wrap: wrap; justify-content: flex-start; width: 100% }\n",
       "    .wandb-col { display: flex; flex-direction: column; flex-basis: 100%; flex: 1; padding: 10px; }\n",
       "    </style>\n",
       "<div class=\"wandb-row\"><div class=\"wandb-col\"><h3>Run history:</h3><br/><table class=\"wandb\"><tr><td>acc</td><td>▁▁▄▄▆▆▅▅▅▆▆▇▇▇▇▇▇███▇████▇██████████████</td></tr><tr><td>loss</td><td>██▇▇▇▆▆▆▆▆▆▅▄▃▃▃▂▁▂▁▂▁▁▁▁▂▁▁▁▁▁▁▁▁▁▁▁▁▁▁</td></tr></table><br/></div><div class=\"wandb-col\"><h3>Run summary:</h3><br/><table class=\"wandb\"><tr><td>acc</td><td>0.484</td></tr><tr><td>loss</td><td>0.169</td></tr></table><br/></div></div>"
      ],
      "text/plain": [
       "<IPython.core.display.HTML object>"
      ]
     },
     "metadata": {},
     "output_type": "display_data"
    },
    {
     "data": {
      "text/html": [
       " View run <strong style=\"color:#cdcd00\">glad-water-67</strong> at: <a href='https://wandb.ai/tejas591995/MLPClassification/runs/hm9t2bvy' target=\"_blank\">https://wandb.ai/tejas591995/MLPClassification/runs/hm9t2bvy</a><br/> View job at <a href='https://wandb.ai/tejas591995/MLPClassification/jobs/QXJ0aWZhY3RDb2xsZWN0aW9uOjEwOTIxOTAwNw==/version_details/v2' target=\"_blank\">https://wandb.ai/tejas591995/MLPClassification/jobs/QXJ0aWZhY3RDb2xsZWN0aW9uOjEwOTIxOTAwNw==/version_details/v2</a><br/>Synced 6 W&B file(s), 0 media file(s), 0 artifact file(s) and 0 other file(s)"
      ],
      "text/plain": [
       "<IPython.core.display.HTML object>"
      ]
     },
     "metadata": {},
     "output_type": "display_data"
    },
    {
     "data": {
      "text/html": [
       "Find logs at: <code>./wandb/run-20231023_190322-hm9t2bvy/logs</code>"
      ],
      "text/plain": [
       "<IPython.core.display.HTML object>"
      ]
     },
     "metadata": {},
     "output_type": "display_data"
    },
    {
     "name": "stdout",
     "output_type": "stream",
     "text": [
      "67\n"
     ]
    },
    {
     "data": {
      "application/vnd.jupyter.widget-view+json": {
       "model_id": "764e6e03dd3947159126d035a11c7ec0",
       "version_major": 2,
       "version_minor": 0
      },
      "text/plain": [
       "VBox(children=(Label(value='Waiting for wandb.init()...\\r'), FloatProgress(value=0.011112210466671968, max=1.0…"
      ]
     },
     "metadata": {},
     "output_type": "display_data"
    },
    {
     "data": {
      "text/html": [
       "wandb version 0.15.12 is available!  To upgrade, please run:\n",
       " $ pip install wandb --upgrade"
      ],
      "text/plain": [
       "<IPython.core.display.HTML object>"
      ]
     },
     "metadata": {},
     "output_type": "display_data"
    },
    {
     "data": {
      "text/html": [
       "Tracking run with wandb version 0.15.11"
      ],
      "text/plain": [
       "<IPython.core.display.HTML object>"
      ]
     },
     "metadata": {},
     "output_type": "display_data"
    },
    {
     "data": {
      "text/html": [
       "Run data is saved locally in <code>/home/tejas/Documents/SMAI/assignment-3-MrTejas/q2/wandb/run-20231023_190336-mx76e3su</code>"
      ],
      "text/plain": [
       "<IPython.core.display.HTML object>"
      ]
     },
     "metadata": {},
     "output_type": "display_data"
    },
    {
     "data": {
      "text/html": [
       "Syncing run <strong><a href='https://wandb.ai/tejas591995/MLPClassification/runs/mx76e3su' target=\"_blank\">stoic-donkey-68</a></strong> to <a href='https://wandb.ai/tejas591995/MLPClassification' target=\"_blank\">Weights & Biases</a> (<a href='https://wandb.me/run' target=\"_blank\">docs</a>)<br/>"
      ],
      "text/plain": [
       "<IPython.core.display.HTML object>"
      ]
     },
     "metadata": {},
     "output_type": "display_data"
    },
    {
     "data": {
      "text/html": [
       " View project at <a href='https://wandb.ai/tejas591995/MLPClassification' target=\"_blank\">https://wandb.ai/tejas591995/MLPClassification</a>"
      ],
      "text/plain": [
       "<IPython.core.display.HTML object>"
      ]
     },
     "metadata": {},
     "output_type": "display_data"
    },
    {
     "data": {
      "text/html": [
       " View run at <a href='https://wandb.ai/tejas591995/MLPClassification/runs/mx76e3su' target=\"_blank\">https://wandb.ai/tejas591995/MLPClassification/runs/mx76e3su</a>"
      ],
      "text/plain": [
       "<IPython.core.display.HTML object>"
      ]
     },
     "metadata": {},
     "output_type": "display_data"
    },
    {
     "name": "stdout",
     "output_type": "stream",
     "text": [
      "Initialized values successfully!\n",
      "Loaded Dataframe!\n",
      "Splitted data into train, test and val sets!\n",
      "-----------------------------------------------\n",
      "Number of Layers       :  4\n",
      "Layer sizes            :  [11, 5, 5, 6]\n",
      "Batch size             :  250\n",
      "Activation Function    :  ReLU\n",
      "Optimization Method    :  mini-batch\n",
      "Learning Rate          :  0.05\n",
      "Num Epoches            :  100\n",
      "-----------------------------------------------\n"
     ]
    },
    {
     "data": {
      "text/html": [
       "Waiting for W&B process to finish... <strong style=\"color:green\">(success).</strong>"
      ],
      "text/plain": [
       "<IPython.core.display.HTML object>"
      ]
     },
     "metadata": {},
     "output_type": "display_data"
    },
    {
     "data": {
      "text/html": [
       "<style>\n",
       "    table.wandb td:nth-child(1) { padding: 0 10px; text-align: left ; width: auto;} td:nth-child(2) {text-align: left ; width: 100%}\n",
       "    .wandb-row { display: flex; flex-direction: row; flex-wrap: wrap; justify-content: flex-start; width: 100% }\n",
       "    .wandb-col { display: flex; flex-direction: column; flex-basis: 100%; flex: 1; padding: 10px; }\n",
       "    </style>\n",
       "<div class=\"wandb-row\"><div class=\"wandb-col\"><h3>Run history:</h3><br/><table class=\"wandb\"><tr><td>acc</td><td>▁▂▅▅▆▇▇▇▇▇▇▇▇███████████████████████████</td></tr><tr><td>loss</td><td>██▇▆▅▅▄▃▃▃▂▂▂▂▂▂▂▁▁▁▁▁▁▁▁▁▁▁▁▁▁▁▁▁▁▁▁▁▁▁</td></tr></table><br/></div><div class=\"wandb-col\"><h3>Run summary:</h3><br/><table class=\"wandb\"><tr><td>acc</td><td>0.466</td></tr><tr><td>loss</td><td>0.144</td></tr></table><br/></div></div>"
      ],
      "text/plain": [
       "<IPython.core.display.HTML object>"
      ]
     },
     "metadata": {},
     "output_type": "display_data"
    },
    {
     "data": {
      "text/html": [
       " View run <strong style=\"color:#cdcd00\">stoic-donkey-68</strong> at: <a href='https://wandb.ai/tejas591995/MLPClassification/runs/mx76e3su' target=\"_blank\">https://wandb.ai/tejas591995/MLPClassification/runs/mx76e3su</a><br/> View job at <a href='https://wandb.ai/tejas591995/MLPClassification/jobs/QXJ0aWZhY3RDb2xsZWN0aW9uOjEwOTIxOTAwNw==/version_details/v2' target=\"_blank\">https://wandb.ai/tejas591995/MLPClassification/jobs/QXJ0aWZhY3RDb2xsZWN0aW9uOjEwOTIxOTAwNw==/version_details/v2</a><br/>Synced 6 W&B file(s), 0 media file(s), 0 artifact file(s) and 0 other file(s)"
      ],
      "text/plain": [
       "<IPython.core.display.HTML object>"
      ]
     },
     "metadata": {},
     "output_type": "display_data"
    },
    {
     "data": {
      "text/html": [
       "Find logs at: <code>./wandb/run-20231023_190336-mx76e3su/logs</code>"
      ],
      "text/plain": [
       "<IPython.core.display.HTML object>"
      ]
     },
     "metadata": {},
     "output_type": "display_data"
    },
    {
     "name": "stdout",
     "output_type": "stream",
     "text": [
      "68\n"
     ]
    },
    {
     "data": {
      "application/vnd.jupyter.widget-view+json": {
       "model_id": "8c5a087b1b164858948a292b07ac9ae9",
       "version_major": 2,
       "version_minor": 0
      },
      "text/plain": [
       "VBox(children=(Label(value='Waiting for wandb.init()...\\r'), FloatProgress(value=0.01111410813334967, max=1.0)…"
      ]
     },
     "metadata": {},
     "output_type": "display_data"
    },
    {
     "data": {
      "text/html": [
       "wandb version 0.15.12 is available!  To upgrade, please run:\n",
       " $ pip install wandb --upgrade"
      ],
      "text/plain": [
       "<IPython.core.display.HTML object>"
      ]
     },
     "metadata": {},
     "output_type": "display_data"
    },
    {
     "data": {
      "text/html": [
       "Tracking run with wandb version 0.15.11"
      ],
      "text/plain": [
       "<IPython.core.display.HTML object>"
      ]
     },
     "metadata": {},
     "output_type": "display_data"
    },
    {
     "data": {
      "text/html": [
       "Run data is saved locally in <code>/home/tejas/Documents/SMAI/assignment-3-MrTejas/q2/wandb/run-20231023_190352-exqoqgga</code>"
      ],
      "text/plain": [
       "<IPython.core.display.HTML object>"
      ]
     },
     "metadata": {},
     "output_type": "display_data"
    },
    {
     "data": {
      "text/html": [
       "Syncing run <strong><a href='https://wandb.ai/tejas591995/MLPClassification/runs/exqoqgga' target=\"_blank\">proud-waterfall-69</a></strong> to <a href='https://wandb.ai/tejas591995/MLPClassification' target=\"_blank\">Weights & Biases</a> (<a href='https://wandb.me/run' target=\"_blank\">docs</a>)<br/>"
      ],
      "text/plain": [
       "<IPython.core.display.HTML object>"
      ]
     },
     "metadata": {},
     "output_type": "display_data"
    },
    {
     "data": {
      "text/html": [
       " View project at <a href='https://wandb.ai/tejas591995/MLPClassification' target=\"_blank\">https://wandb.ai/tejas591995/MLPClassification</a>"
      ],
      "text/plain": [
       "<IPython.core.display.HTML object>"
      ]
     },
     "metadata": {},
     "output_type": "display_data"
    },
    {
     "data": {
      "text/html": [
       " View run at <a href='https://wandb.ai/tejas591995/MLPClassification/runs/exqoqgga' target=\"_blank\">https://wandb.ai/tejas591995/MLPClassification/runs/exqoqgga</a>"
      ],
      "text/plain": [
       "<IPython.core.display.HTML object>"
      ]
     },
     "metadata": {},
     "output_type": "display_data"
    },
    {
     "name": "stdout",
     "output_type": "stream",
     "text": [
      "Initialized values successfully!\n",
      "Loaded Dataframe!\n",
      "Splitted data into train, test and val sets!\n",
      "-----------------------------------------------\n",
      "Number of Layers       :  4\n",
      "Layer sizes            :  [11, 5, 5, 6]\n",
      "Batch size             :  100\n",
      "Activation Function    :  sigmoid\n",
      "Optimization Method    :  mini-batch\n",
      "Learning Rate          :  0.05\n",
      "Num Epoches            :  100\n",
      "-----------------------------------------------\n"
     ]
    },
    {
     "data": {
      "text/html": [
       "Waiting for W&B process to finish... <strong style=\"color:green\">(success).</strong>"
      ],
      "text/plain": [
       "<IPython.core.display.HTML object>"
      ]
     },
     "metadata": {},
     "output_type": "display_data"
    },
    {
     "data": {
      "text/html": [
       "<style>\n",
       "    table.wandb td:nth-child(1) { padding: 0 10px; text-align: left ; width: auto;} td:nth-child(2) {text-align: left ; width: 100%}\n",
       "    .wandb-row { display: flex; flex-direction: row; flex-wrap: wrap; justify-content: flex-start; width: 100% }\n",
       "    .wandb-col { display: flex; flex-direction: column; flex-basis: 100%; flex: 1; padding: 10px; }\n",
       "    </style>\n",
       "<div class=\"wandb-row\"><div class=\"wandb-col\"><h3>Run history:</h3><br/><table class=\"wandb\"><tr><td>acc</td><td>▁▁▁▁▂▄▇█████████████████████████████████</td></tr><tr><td>loss</td><td>██▇▇▆▆▆▆▅▅▅▅▄▄▄▄▄▃▃▃▃▃▃▃▂▂▂▂▂▂▂▂▂▁▁▁▁▁▁▁</td></tr></table><br/></div><div class=\"wandb-col\"><h3>Run summary:</h3><br/><table class=\"wandb\"><tr><td>acc</td><td>0.417</td></tr><tr><td>loss</td><td>0.245</td></tr></table><br/></div></div>"
      ],
      "text/plain": [
       "<IPython.core.display.HTML object>"
      ]
     },
     "metadata": {},
     "output_type": "display_data"
    },
    {
     "data": {
      "text/html": [
       " View run <strong style=\"color:#cdcd00\">proud-waterfall-69</strong> at: <a href='https://wandb.ai/tejas591995/MLPClassification/runs/exqoqgga' target=\"_blank\">https://wandb.ai/tejas591995/MLPClassification/runs/exqoqgga</a><br/> View job at <a href='https://wandb.ai/tejas591995/MLPClassification/jobs/QXJ0aWZhY3RDb2xsZWN0aW9uOjEwOTIxOTAwNw==/version_details/v2' target=\"_blank\">https://wandb.ai/tejas591995/MLPClassification/jobs/QXJ0aWZhY3RDb2xsZWN0aW9uOjEwOTIxOTAwNw==/version_details/v2</a><br/>Synced 6 W&B file(s), 0 media file(s), 0 artifact file(s) and 0 other file(s)"
      ],
      "text/plain": [
       "<IPython.core.display.HTML object>"
      ]
     },
     "metadata": {},
     "output_type": "display_data"
    },
    {
     "data": {
      "text/html": [
       "Find logs at: <code>./wandb/run-20231023_190352-exqoqgga/logs</code>"
      ],
      "text/plain": [
       "<IPython.core.display.HTML object>"
      ]
     },
     "metadata": {},
     "output_type": "display_data"
    },
    {
     "name": "stdout",
     "output_type": "stream",
     "text": [
      "69\n"
     ]
    },
    {
     "data": {
      "application/vnd.jupyter.widget-view+json": {
       "model_id": "71307170c6c649b1921f55502ae5a5e3",
       "version_major": 2,
       "version_minor": 0
      },
      "text/plain": [
       "VBox(children=(Label(value='Waiting for wandb.init()...\\r'), FloatProgress(value=0.011114195211121114, max=1.0…"
      ]
     },
     "metadata": {},
     "output_type": "display_data"
    },
    {
     "data": {
      "text/html": [
       "wandb version 0.15.12 is available!  To upgrade, please run:\n",
       " $ pip install wandb --upgrade"
      ],
      "text/plain": [
       "<IPython.core.display.HTML object>"
      ]
     },
     "metadata": {},
     "output_type": "display_data"
    },
    {
     "data": {
      "text/html": [
       "Tracking run with wandb version 0.15.11"
      ],
      "text/plain": [
       "<IPython.core.display.HTML object>"
      ]
     },
     "metadata": {},
     "output_type": "display_data"
    },
    {
     "data": {
      "text/html": [
       "Run data is saved locally in <code>/home/tejas/Documents/SMAI/assignment-3-MrTejas/q2/wandb/run-20231023_190407-jtfha4rr</code>"
      ],
      "text/plain": [
       "<IPython.core.display.HTML object>"
      ]
     },
     "metadata": {},
     "output_type": "display_data"
    },
    {
     "data": {
      "text/html": [
       "Syncing run <strong><a href='https://wandb.ai/tejas591995/MLPClassification/runs/jtfha4rr' target=\"_blank\">wandering-fire-70</a></strong> to <a href='https://wandb.ai/tejas591995/MLPClassification' target=\"_blank\">Weights & Biases</a> (<a href='https://wandb.me/run' target=\"_blank\">docs</a>)<br/>"
      ],
      "text/plain": [
       "<IPython.core.display.HTML object>"
      ]
     },
     "metadata": {},
     "output_type": "display_data"
    },
    {
     "data": {
      "text/html": [
       " View project at <a href='https://wandb.ai/tejas591995/MLPClassification' target=\"_blank\">https://wandb.ai/tejas591995/MLPClassification</a>"
      ],
      "text/plain": [
       "<IPython.core.display.HTML object>"
      ]
     },
     "metadata": {},
     "output_type": "display_data"
    },
    {
     "data": {
      "text/html": [
       " View run at <a href='https://wandb.ai/tejas591995/MLPClassification/runs/jtfha4rr' target=\"_blank\">https://wandb.ai/tejas591995/MLPClassification/runs/jtfha4rr</a>"
      ],
      "text/plain": [
       "<IPython.core.display.HTML object>"
      ]
     },
     "metadata": {},
     "output_type": "display_data"
    },
    {
     "name": "stdout",
     "output_type": "stream",
     "text": [
      "Initialized values successfully!\n",
      "Loaded Dataframe!\n",
      "Splitted data into train, test and val sets!\n",
      "-----------------------------------------------\n",
      "Number of Layers       :  4\n",
      "Layer sizes            :  [11, 5, 5, 6]\n",
      "Batch size             :  150\n",
      "Activation Function    :  sigmoid\n",
      "Optimization Method    :  mini-batch\n",
      "Learning Rate          :  0.05\n",
      "Num Epoches            :  100\n",
      "-----------------------------------------------\n"
     ]
    },
    {
     "data": {
      "text/html": [
       "Waiting for W&B process to finish... <strong style=\"color:green\">(success).</strong>"
      ],
      "text/plain": [
       "<IPython.core.display.HTML object>"
      ]
     },
     "metadata": {},
     "output_type": "display_data"
    },
    {
     "data": {
      "text/html": [
       "<style>\n",
       "    table.wandb td:nth-child(1) { padding: 0 10px; text-align: left ; width: auto;} td:nth-child(2) {text-align: left ; width: 100%}\n",
       "    .wandb-row { display: flex; flex-direction: row; flex-wrap: wrap; justify-content: flex-start; width: 100% }\n",
       "    .wandb-col { display: flex; flex-direction: column; flex-basis: 100%; flex: 1; padding: 10px; }\n",
       "    </style>\n",
       "<div class=\"wandb-row\"><div class=\"wandb-col\"><h3>Run history:</h3><br/><table class=\"wandb\"><tr><td>acc</td><td>▁▆██████████████████████████████████████</td></tr><tr><td>loss</td><td>██▇▇▇▆▆▆▆▅▅▅▅▄▄▄▄▄▃▃▃▃▃▃▃▂▂▂▂▂▂▂▂▁▁▁▁▁▁▁</td></tr></table><br/></div><div class=\"wandb-col\"><h3>Run summary:</h3><br/><table class=\"wandb\"><tr><td>acc</td><td>0.509</td></tr><tr><td>loss</td><td>0.246</td></tr></table><br/></div></div>"
      ],
      "text/plain": [
       "<IPython.core.display.HTML object>"
      ]
     },
     "metadata": {},
     "output_type": "display_data"
    },
    {
     "data": {
      "text/html": [
       " View run <strong style=\"color:#cdcd00\">wandering-fire-70</strong> at: <a href='https://wandb.ai/tejas591995/MLPClassification/runs/jtfha4rr' target=\"_blank\">https://wandb.ai/tejas591995/MLPClassification/runs/jtfha4rr</a><br/> View job at <a href='https://wandb.ai/tejas591995/MLPClassification/jobs/QXJ0aWZhY3RDb2xsZWN0aW9uOjEwOTIxOTAwNw==/version_details/v2' target=\"_blank\">https://wandb.ai/tejas591995/MLPClassification/jobs/QXJ0aWZhY3RDb2xsZWN0aW9uOjEwOTIxOTAwNw==/version_details/v2</a><br/>Synced 6 W&B file(s), 0 media file(s), 0 artifact file(s) and 0 other file(s)"
      ],
      "text/plain": [
       "<IPython.core.display.HTML object>"
      ]
     },
     "metadata": {},
     "output_type": "display_data"
    },
    {
     "data": {
      "text/html": [
       "Find logs at: <code>./wandb/run-20231023_190407-jtfha4rr/logs</code>"
      ],
      "text/plain": [
       "<IPython.core.display.HTML object>"
      ]
     },
     "metadata": {},
     "output_type": "display_data"
    },
    {
     "name": "stdout",
     "output_type": "stream",
     "text": [
      "70\n"
     ]
    },
    {
     "data": {
      "application/vnd.jupyter.widget-view+json": {
       "model_id": "d19e1af4daeb48ed865fa0d0d03b265e",
       "version_major": 2,
       "version_minor": 0
      },
      "text/plain": [
       "VBox(children=(Label(value='Waiting for wandb.init()...\\r'), FloatProgress(value=0.011112872266676278, max=1.0…"
      ]
     },
     "metadata": {},
     "output_type": "display_data"
    },
    {
     "data": {
      "text/html": [
       "wandb version 0.15.12 is available!  To upgrade, please run:\n",
       " $ pip install wandb --upgrade"
      ],
      "text/plain": [
       "<IPython.core.display.HTML object>"
      ]
     },
     "metadata": {},
     "output_type": "display_data"
    },
    {
     "data": {
      "text/html": [
       "Tracking run with wandb version 0.15.11"
      ],
      "text/plain": [
       "<IPython.core.display.HTML object>"
      ]
     },
     "metadata": {},
     "output_type": "display_data"
    },
    {
     "data": {
      "text/html": [
       "Run data is saved locally in <code>/home/tejas/Documents/SMAI/assignment-3-MrTejas/q2/wandb/run-20231023_190421-b69egzy1</code>"
      ],
      "text/plain": [
       "<IPython.core.display.HTML object>"
      ]
     },
     "metadata": {},
     "output_type": "display_data"
    },
    {
     "data": {
      "text/html": [
       "Syncing run <strong><a href='https://wandb.ai/tejas591995/MLPClassification/runs/b69egzy1' target=\"_blank\">earthy-serenity-71</a></strong> to <a href='https://wandb.ai/tejas591995/MLPClassification' target=\"_blank\">Weights & Biases</a> (<a href='https://wandb.me/run' target=\"_blank\">docs</a>)<br/>"
      ],
      "text/plain": [
       "<IPython.core.display.HTML object>"
      ]
     },
     "metadata": {},
     "output_type": "display_data"
    },
    {
     "data": {
      "text/html": [
       " View project at <a href='https://wandb.ai/tejas591995/MLPClassification' target=\"_blank\">https://wandb.ai/tejas591995/MLPClassification</a>"
      ],
      "text/plain": [
       "<IPython.core.display.HTML object>"
      ]
     },
     "metadata": {},
     "output_type": "display_data"
    },
    {
     "data": {
      "text/html": [
       " View run at <a href='https://wandb.ai/tejas591995/MLPClassification/runs/b69egzy1' target=\"_blank\">https://wandb.ai/tejas591995/MLPClassification/runs/b69egzy1</a>"
      ],
      "text/plain": [
       "<IPython.core.display.HTML object>"
      ]
     },
     "metadata": {},
     "output_type": "display_data"
    },
    {
     "name": "stdout",
     "output_type": "stream",
     "text": [
      "Initialized values successfully!\n",
      "Loaded Dataframe!\n",
      "Splitted data into train, test and val sets!\n",
      "-----------------------------------------------\n",
      "Number of Layers       :  4\n",
      "Layer sizes            :  [11, 5, 5, 6]\n",
      "Batch size             :  200\n",
      "Activation Function    :  sigmoid\n",
      "Optimization Method    :  mini-batch\n",
      "Learning Rate          :  0.05\n",
      "Num Epoches            :  100\n",
      "-----------------------------------------------\n"
     ]
    },
    {
     "data": {
      "text/html": [
       "Waiting for W&B process to finish... <strong style=\"color:green\">(success).</strong>"
      ],
      "text/plain": [
       "<IPython.core.display.HTML object>"
      ]
     },
     "metadata": {},
     "output_type": "display_data"
    },
    {
     "data": {
      "text/html": [
       "<style>\n",
       "    table.wandb td:nth-child(1) { padding: 0 10px; text-align: left ; width: auto;} td:nth-child(2) {text-align: left ; width: 100%}\n",
       "    .wandb-row { display: flex; flex-direction: row; flex-wrap: wrap; justify-content: flex-start; width: 100% }\n",
       "    .wandb-col { display: flex; flex-direction: column; flex-basis: 100%; flex: 1; padding: 10px; }\n",
       "    </style>\n",
       "<div class=\"wandb-row\"><div class=\"wandb-col\"><h3>Run history:</h3><br/><table class=\"wandb\"><tr><td>acc</td><td>▁▁▁▁▁▁▁▁▁▁▂▃▄▆▆▇████████████████████████</td></tr><tr><td>loss</td><td>███▇▇▇▇▇▆▆▆▆▅▅▅▅▅▄▄▄▄▄▄▃▃▃▃▃▂▂▂▂▂▂▂▁▁▁▁▁</td></tr></table><br/></div><div class=\"wandb-col\"><h3>Run summary:</h3><br/><table class=\"wandb\"><tr><td>acc</td><td>0.348</td></tr><tr><td>loss</td><td>0.233</td></tr></table><br/></div></div>"
      ],
      "text/plain": [
       "<IPython.core.display.HTML object>"
      ]
     },
     "metadata": {},
     "output_type": "display_data"
    },
    {
     "data": {
      "text/html": [
       " View run <strong style=\"color:#cdcd00\">earthy-serenity-71</strong> at: <a href='https://wandb.ai/tejas591995/MLPClassification/runs/b69egzy1' target=\"_blank\">https://wandb.ai/tejas591995/MLPClassification/runs/b69egzy1</a><br/> View job at <a href='https://wandb.ai/tejas591995/MLPClassification/jobs/QXJ0aWZhY3RDb2xsZWN0aW9uOjEwOTIxOTAwNw==/version_details/v2' target=\"_blank\">https://wandb.ai/tejas591995/MLPClassification/jobs/QXJ0aWZhY3RDb2xsZWN0aW9uOjEwOTIxOTAwNw==/version_details/v2</a><br/>Synced 6 W&B file(s), 0 media file(s), 0 artifact file(s) and 0 other file(s)"
      ],
      "text/plain": [
       "<IPython.core.display.HTML object>"
      ]
     },
     "metadata": {},
     "output_type": "display_data"
    },
    {
     "data": {
      "text/html": [
       "Find logs at: <code>./wandb/run-20231023_190421-b69egzy1/logs</code>"
      ],
      "text/plain": [
       "<IPython.core.display.HTML object>"
      ]
     },
     "metadata": {},
     "output_type": "display_data"
    },
    {
     "name": "stdout",
     "output_type": "stream",
     "text": [
      "71\n"
     ]
    },
    {
     "data": {
      "application/vnd.jupyter.widget-view+json": {
       "model_id": "eaa81a6b5505461890ff39a60a63a419",
       "version_major": 2,
       "version_minor": 0
      },
      "text/plain": [
       "VBox(children=(Label(value='Waiting for wandb.init()...\\r'), FloatProgress(value=0.0111142333222233, max=1.0))…"
      ]
     },
     "metadata": {},
     "output_type": "display_data"
    },
    {
     "data": {
      "text/html": [
       "wandb version 0.15.12 is available!  To upgrade, please run:\n",
       " $ pip install wandb --upgrade"
      ],
      "text/plain": [
       "<IPython.core.display.HTML object>"
      ]
     },
     "metadata": {},
     "output_type": "display_data"
    },
    {
     "data": {
      "text/html": [
       "Tracking run with wandb version 0.15.11"
      ],
      "text/plain": [
       "<IPython.core.display.HTML object>"
      ]
     },
     "metadata": {},
     "output_type": "display_data"
    },
    {
     "data": {
      "text/html": [
       "Run data is saved locally in <code>/home/tejas/Documents/SMAI/assignment-3-MrTejas/q2/wandb/run-20231023_190436-sk0vh3bx</code>"
      ],
      "text/plain": [
       "<IPython.core.display.HTML object>"
      ]
     },
     "metadata": {},
     "output_type": "display_data"
    },
    {
     "data": {
      "text/html": [
       "Syncing run <strong><a href='https://wandb.ai/tejas591995/MLPClassification/runs/sk0vh3bx' target=\"_blank\">faithful-tree-72</a></strong> to <a href='https://wandb.ai/tejas591995/MLPClassification' target=\"_blank\">Weights & Biases</a> (<a href='https://wandb.me/run' target=\"_blank\">docs</a>)<br/>"
      ],
      "text/plain": [
       "<IPython.core.display.HTML object>"
      ]
     },
     "metadata": {},
     "output_type": "display_data"
    },
    {
     "data": {
      "text/html": [
       " View project at <a href='https://wandb.ai/tejas591995/MLPClassification' target=\"_blank\">https://wandb.ai/tejas591995/MLPClassification</a>"
      ],
      "text/plain": [
       "<IPython.core.display.HTML object>"
      ]
     },
     "metadata": {},
     "output_type": "display_data"
    },
    {
     "data": {
      "text/html": [
       " View run at <a href='https://wandb.ai/tejas591995/MLPClassification/runs/sk0vh3bx' target=\"_blank\">https://wandb.ai/tejas591995/MLPClassification/runs/sk0vh3bx</a>"
      ],
      "text/plain": [
       "<IPython.core.display.HTML object>"
      ]
     },
     "metadata": {},
     "output_type": "display_data"
    },
    {
     "name": "stdout",
     "output_type": "stream",
     "text": [
      "Initialized values successfully!\n",
      "Loaded Dataframe!\n",
      "Splitted data into train, test and val sets!\n",
      "-----------------------------------------------\n",
      "Number of Layers       :  4\n",
      "Layer sizes            :  [11, 5, 5, 6]\n",
      "Batch size             :  250\n",
      "Activation Function    :  sigmoid\n",
      "Optimization Method    :  mini-batch\n",
      "Learning Rate          :  0.05\n",
      "Num Epoches            :  100\n",
      "-----------------------------------------------\n"
     ]
    },
    {
     "data": {
      "text/html": [
       "Waiting for W&B process to finish... <strong style=\"color:green\">(success).</strong>"
      ],
      "text/plain": [
       "<IPython.core.display.HTML object>"
      ]
     },
     "metadata": {},
     "output_type": "display_data"
    },
    {
     "data": {
      "text/html": [
       "<style>\n",
       "    table.wandb td:nth-child(1) { padding: 0 10px; text-align: left ; width: auto;} td:nth-child(2) {text-align: left ; width: 100%}\n",
       "    .wandb-row { display: flex; flex-direction: row; flex-wrap: wrap; justify-content: flex-start; width: 100% }\n",
       "    .wandb-col { display: flex; flex-direction: column; flex-basis: 100%; flex: 1; padding: 10px; }\n",
       "    </style>\n",
       "<div class=\"wandb-row\"><div class=\"wandb-col\"><h3>Run history:</h3><br/><table class=\"wandb\"><tr><td>acc</td><td>▁▁▁▁▁▁▁▂▅▇██████████████████████████████</td></tr><tr><td>loss</td><td>███▇▇▇▇▆▆▆▆▆▅▅▅▅▅▄▄▄▄▃▃▃▃▃▃▃▂▂▂▂▂▂▂▁▁▁▁▁</td></tr></table><br/></div><div class=\"wandb-col\"><h3>Run summary:</h3><br/><table class=\"wandb\"><tr><td>acc</td><td>0.347</td></tr><tr><td>loss</td><td>0.217</td></tr></table><br/></div></div>"
      ],
      "text/plain": [
       "<IPython.core.display.HTML object>"
      ]
     },
     "metadata": {},
     "output_type": "display_data"
    },
    {
     "data": {
      "text/html": [
       " View run <strong style=\"color:#cdcd00\">faithful-tree-72</strong> at: <a href='https://wandb.ai/tejas591995/MLPClassification/runs/sk0vh3bx' target=\"_blank\">https://wandb.ai/tejas591995/MLPClassification/runs/sk0vh3bx</a><br/> View job at <a href='https://wandb.ai/tejas591995/MLPClassification/jobs/QXJ0aWZhY3RDb2xsZWN0aW9uOjEwOTIxOTAwNw==/version_details/v2' target=\"_blank\">https://wandb.ai/tejas591995/MLPClassification/jobs/QXJ0aWZhY3RDb2xsZWN0aW9uOjEwOTIxOTAwNw==/version_details/v2</a><br/>Synced 6 W&B file(s), 0 media file(s), 0 artifact file(s) and 0 other file(s)"
      ],
      "text/plain": [
       "<IPython.core.display.HTML object>"
      ]
     },
     "metadata": {},
     "output_type": "display_data"
    },
    {
     "data": {
      "text/html": [
       "Find logs at: <code>./wandb/run-20231023_190436-sk0vh3bx/logs</code>"
      ],
      "text/plain": [
       "<IPython.core.display.HTML object>"
      ]
     },
     "metadata": {},
     "output_type": "display_data"
    }
   ],
   "source": [
    "i = 0\n",
    "lr_list = [0.001,0.005,0.01,0.015,0.02,0.05]\n",
    "af_list = ['tanh','ReLU','sigmoid']\n",
    "\n",
    "for lr in lr_list:\n",
    "    for af in af_list:\n",
    "        for bs in range(100,300,50):\n",
    "            print(i)\n",
    "            i = i + 1\n",
    "            wandb.init(\n",
    "                # set the wandb project where this run will be logged\n",
    "                project=\"MLPClassification\",\n",
    "\n",
    "                # track hyperparameters and run metadata\n",
    "                config={\n",
    "                'layer_sizes' : [11,5,5,6],\n",
    "                'batch_size' : bs,\n",
    "                'num_epoches' : 100,\n",
    "                'learning_rate' : lr,\n",
    "                'activation_function' : af,\n",
    "                'optimization' : 'mini-batch'\n",
    "                }\n",
    "            )\n",
    "\n",
    "\n",
    "\n",
    "            # parameters for the model\n",
    "            # the 1st and last element of layer_sizes correspond to number of features and number of outputs\n",
    "            layer_sizes = [11,5,5,6]\n",
    "            batch_size = bs\n",
    "            num_epoches = 100\n",
    "            learning_rate = lr\n",
    "            activation_function = af\n",
    "            optimization = 'mini-batch'\n",
    "\n",
    "            # creating the model object\n",
    "            mlp = MLP(layer_sizes=layer_sizes,\n",
    "                      batch_size=batch_size,\n",
    "                      num_epoches=num_epoches,\n",
    "                      learning_rate=learning_rate,\n",
    "                      activation_function=activation_function,\n",
    "                      optimization=optimization\n",
    "                     )\n",
    "\n",
    "            mlp.loadData(df)\n",
    "            mlp.splitData(0.8,True)\n",
    "            mlp.printParameters()\n",
    "            mlp.fit()\n",
    "            wandb.finish()\n"
   ]
  },
  {
   "cell_type": "code",
   "execution_count": 17,
   "id": "40225e0d",
   "metadata": {},
   "outputs": [
    {
     "name": "stdout",
     "output_type": "stream",
     "text": [
      "------------------------------------------------------\n",
      "               precision    recall  f1-score   support\n",
      "\n",
      "           1       0.00      1.00      0.00         0\n",
      "           2       1.00      0.43      0.61       115\n",
      "           3       0.00      1.00      0.00         0\n",
      "           4       0.00      1.00      0.00         0\n",
      "           5       0.00      1.00      0.00         0\n",
      "\n",
      "    accuracy                           0.43       115\n",
      "   macro avg       0.20      0.89      0.12       115\n",
      "weighted avg       1.00      0.43      0.61       115\n",
      " \n",
      "------------------------------------------------------\n",
      "\n"
     ]
    }
   ],
   "source": [
    "mlp.predict()"
   ]
  },
  {
   "cell_type": "markdown",
   "id": "54661fbe",
   "metadata": {},
   "source": [
    "---\n",
    "# Multi-Label Classification"
   ]
  },
  {
   "cell_type": "markdown",
   "id": "fed3e35a",
   "metadata": {},
   "source": [
    "## Applying Data Preprocessing\n",
    "Converting Categorical columns to numerical using label-encoding"
   ]
  },
  {
   "cell_type": "code",
   "execution_count": 23,
   "id": "0523b722",
   "metadata": {},
   "outputs": [
    {
     "name": "stdout",
     "output_type": "stream",
     "text": [
      "\n",
      "Word Label Encoding:\n",
      "{'beauty': 0, 'sports': 1, 'home': 2, 'books': 3, 'clothing': 4, 'furniture': 5, 'electronics': 6, 'food': 7}\n",
      "     age  gender        income  education  married  children  city  \\\n",
      "0     45       0  61271.953359          0        0         3     0   \n",
      "1     24       0  53229.101074          1        0         1     1   \n",
      "2     45       0  30066.046684          2        1         3     2   \n",
      "3     19       0  48950.246384          3        0         0     3   \n",
      "4     29       0  44792.627094          0        0         0     4   \n",
      "..   ...     ...           ...        ...      ...       ...   ...   \n",
      "995   61       0  34246.773063          0        1         3   964   \n",
      "996   56       0  45494.225591          2        0         0   965   \n",
      "997   64       0  68740.442006          3        1         0   966   \n",
      "998   18       0  44348.446680          2        1         0   967   \n",
      "999   61       0  39160.083677          0        0         0   968   \n",
      "\n",
      "     occupation  purchase_amount  most bought item  electronics  \n",
      "0             0        87.697118                 0            1  \n",
      "1             1       115.135586                 1            0  \n",
      "2             2       101.694559                 2            1  \n",
      "3             3        97.964887                 3            0  \n",
      "4             1        86.847281                 4            0  \n",
      "..          ...              ...               ...          ...  \n",
      "995           8       103.357441                15            0  \n",
      "996           2        85.159023                 2            0  \n",
      "997           6       101.434650                11            0  \n",
      "998          10        97.649988                23            0  \n",
      "999           5       105.591485                20            0  \n",
      "\n",
      "[1000 rows x 11 columns]\n"
     ]
    }
   ],
   "source": [
    "# some of the parts of this cell is inspired from chat-gpt\n",
    "\n",
    "df = pd.read_csv('advertisement.csv')\n",
    "# Convert 'gender' column to binary (0 for Male, 1 for Female)\n",
    "df['gender'] = df['gender'].apply(lambda x: 1 if x.lower() == 'Female' else 0)\n",
    "\n",
    "# Convert 'married' column to binary (0 for Not Married, 1 for Married)\n",
    "df['married'] = df['married'].astype(int)\n",
    "label_encoding_mapping = {}  # Dictionary to store label encoding mappings\n",
    "\n",
    "for col in ['education', 'city', 'occupation','most bought item']:\n",
    "    unique_values = df[col].unique()  # Get unique values in the column\n",
    "    label_encoding_mapping[col] = {value: idx for idx, value in enumerate(unique_values)}  # Create label encoding mapping\n",
    "    df[col] = df[col].map(label_encoding_mapping[col])  # Apply label encoding to the column\n",
    "\n",
    "    \n",
    "    \n",
    "#------------------------------------------------------------------------------------------------------------\n",
    "### Splitting the possible lables into individual output lables. \n",
    "'''There are 8 of them, therefore, we can run our MLP model for binary classification of each of these 8 lables\n",
    "and combine the results to get multi-label classification. This method, while inefficient, must give good \n",
    "results on the dataset'''\n",
    "\n",
    "\n",
    "unique_words = set()\n",
    "for labels in df['labels']:\n",
    "    words = labels.split()  # Split words in the string\n",
    "    unique_words.update(words)  # Update unique_words set with new words\n",
    "\n",
    "# Create label encoding for words\n",
    "word_label_encoding = {word: idx for idx, word in enumerate(unique_words)}\n",
    "\n",
    "# Replace 'labels' column with binary lists\n",
    "binary_labels = []\n",
    "for labels in df['labels']:\n",
    "    words = labels.split()\n",
    "    binary_label = [0] * len(unique_words)\n",
    "    for word in words:\n",
    "        binary_label[word_label_encoding[word]] = 1\n",
    "    binary_labels.append(binary_label)\n",
    "\n",
    "# Create DataFrame with binary labels\n",
    "labels_df = pd.DataFrame(binary_labels, columns=unique_words)\n",
    "# df = pd.concat([df, labels_df], axis=1)\n",
    "\n",
    "# Drop the original 'labels' column\n",
    "df.drop(columns=['labels'], inplace=True)\n",
    "\n",
    "# print(df.head())\n",
    "# print(labels_df.head())\n",
    "\n",
    "# Print the label encoding for words (we dont need it actually)\n",
    "print(\"\\nWord Label Encoding:\")\n",
    "print(word_label_encoding)\n",
    "\n",
    "\n",
    "df = pd.concat([df,labels_df['electronics']],axis=1)\n",
    "print(df)\n"
   ]
  },
  {
   "cell_type": "code",
   "execution_count": 24,
   "id": "26cbeb5b",
   "metadata": {},
   "outputs": [
    {
     "name": "stdout",
     "output_type": "stream",
     "text": [
      "Initialized values successfully!\n",
      "Loaded Dataframe!\n",
      "Splitted data into train, test and val sets!\n",
      "-----------------------------------------------\n",
      "Number of Layers       :  7\n",
      "Layer sizes            :  [10, 5, 2, 3, 4, 5, 2]\n",
      "Batch size             :  100\n",
      "Activation Function    :  tanh\n",
      "Optimization Method    :  mini-batch\n",
      "Learning Rate          :  0.005\n",
      "Num Epoches            :  1000\n",
      "-----------------------------------------------\n"
     ]
    }
   ],
   "source": [
    "\n",
    "\n",
    "# parameters for the model\n",
    "# the 1st and last element of layer_sizes correspond to number of features and number of outputs\n",
    "layer_sizes = [10,5,2,3,4,5,2]\n",
    "batch_size = 100\n",
    "num_epoches = 1000\n",
    "learning_rate = 0.005\n",
    "activation_function = 'tanh'\n",
    "optimization = 'mini-batch'\n",
    "\n",
    "# creating the model object\n",
    "mlp = MLP(layer_sizes=layer_sizes,\n",
    "          batch_size=batch_size,\n",
    "          num_epoches=num_epoches,\n",
    "          learning_rate=learning_rate,\n",
    "          activation_function=activation_function,\n",
    "          optimization=optimization\n",
    "         )\n",
    "\n",
    "mlp.loadData(df)\n",
    "mlp.splitData(0.8,False)\n",
    "mlp.printParameters()\n"
   ]
  },
  {
   "cell_type": "code",
   "execution_count": 25,
   "id": "58a94a6b",
   "metadata": {},
   "outputs": [
    {
     "name": "stdout",
     "output_type": "stream",
     "text": [
      "Epoch :  1  loss :  0.376  acc :  0.336\n",
      "Epoch :  2  loss :  0.375  acc :  0.336\n",
      "Epoch :  3  loss :  0.373  acc :  0.336\n",
      "Epoch :  4  loss :  0.372  acc :  0.336\n",
      "Epoch :  5  loss :  0.37  acc :  0.336\n",
      "Epoch :  6  loss :  0.369  acc :  0.336\n",
      "Epoch :  7  loss :  0.367  acc :  0.336\n",
      "Epoch :  8  loss :  0.366  acc :  0.336\n",
      "Epoch :  9  loss :  0.365  acc :  0.336\n",
      "Epoch :  10  loss :  0.363  acc :  0.336\n",
      "Epoch :  11  loss :  0.362  acc :  0.336\n",
      "Epoch :  12  loss :  0.361  acc :  0.336\n",
      "Epoch :  13  loss :  0.359  acc :  0.336\n",
      "Epoch :  14  loss :  0.358  acc :  0.336\n",
      "Epoch :  15  loss :  0.357  acc :  0.336\n",
      "Epoch :  16  loss :  0.356  acc :  0.336\n",
      "Epoch :  17  loss :  0.355  acc :  0.336\n",
      "Epoch :  18  loss :  0.354  acc :  0.336\n",
      "Epoch :  19  loss :  0.353  acc :  0.336\n",
      "Epoch :  20  loss :  0.352  acc :  0.336\n",
      "Epoch :  21  loss :  0.351  acc :  0.336\n",
      "Epoch :  22  loss :  0.35  acc :  0.336\n",
      "Epoch :  23  loss :  0.349  acc :  0.336\n",
      "Epoch :  24  loss :  0.348  acc :  0.336\n",
      "Epoch :  25  loss :  0.347  acc :  0.336\n",
      "Epoch :  26  loss :  0.346  acc :  0.636\n",
      "Epoch :  27  loss :  0.345  acc :  0.664\n",
      "Epoch :  28  loss :  0.345  acc :  0.664\n",
      "Epoch :  29  loss :  0.344  acc :  0.664\n",
      "Epoch :  30  loss :  0.343  acc :  0.664\n",
      "Epoch :  31  loss :  0.342  acc :  0.664\n",
      "Epoch :  32  loss :  0.342  acc :  0.664\n",
      "Epoch :  33  loss :  0.341  acc :  0.664\n",
      "Epoch :  34  loss :  0.34  acc :  0.664\n",
      "Epoch :  35  loss :  0.34  acc :  0.664\n",
      "Epoch :  36  loss :  0.339  acc :  0.664\n",
      "Epoch :  37  loss :  0.338  acc :  0.664\n",
      "Epoch :  38  loss :  0.338  acc :  0.664\n",
      "Epoch :  39  loss :  0.337  acc :  0.664\n",
      "Epoch :  40  loss :  0.337  acc :  0.664\n",
      "Epoch :  41  loss :  0.336  acc :  0.664\n",
      "Epoch :  42  loss :  0.336  acc :  0.664\n",
      "Epoch :  43  loss :  0.335  acc :  0.664\n",
      "Epoch :  44  loss :  0.335  acc :  0.664\n",
      "Epoch :  45  loss :  0.334  acc :  0.664\n",
      "Epoch :  46  loss :  0.334  acc :  0.664\n",
      "Epoch :  47  loss :  0.333  acc :  0.664\n",
      "Epoch :  48  loss :  0.333  acc :  0.664\n",
      "Epoch :  49  loss :  0.333  acc :  0.664\n",
      "Epoch :  50  loss :  0.332  acc :  0.664\n",
      "Epoch :  51  loss :  0.332  acc :  0.664\n",
      "Epoch :  52  loss :  0.332  acc :  0.664\n",
      "Epoch :  53  loss :  0.331  acc :  0.664\n",
      "Epoch :  54  loss :  0.331  acc :  0.664\n",
      "Epoch :  55  loss :  0.331  acc :  0.664\n",
      "Epoch :  56  loss :  0.33  acc :  0.664\n",
      "Epoch :  57  loss :  0.33  acc :  0.664\n",
      "Epoch :  58  loss :  0.33  acc :  0.664\n",
      "Epoch :  59  loss :  0.329  acc :  0.664\n",
      "Epoch :  60  loss :  0.329  acc :  0.664\n",
      "Epoch :  61  loss :  0.329  acc :  0.664\n",
      "Epoch :  62  loss :  0.329  acc :  0.664\n",
      "Epoch :  63  loss :  0.328  acc :  0.664\n",
      "Epoch :  64  loss :  0.328  acc :  0.664\n",
      "Epoch :  65  loss :  0.328  acc :  0.664\n",
      "Epoch :  66  loss :  0.328  acc :  0.664\n",
      "Epoch :  67  loss :  0.327  acc :  0.664\n",
      "Epoch :  68  loss :  0.327  acc :  0.664\n",
      "Epoch :  69  loss :  0.327  acc :  0.664\n",
      "Epoch :  70  loss :  0.327  acc :  0.664\n",
      "Epoch :  71  loss :  0.327  acc :  0.664\n",
      "Epoch :  72  loss :  0.326  acc :  0.664\n",
      "Epoch :  73  loss :  0.326  acc :  0.664\n",
      "Epoch :  74  loss :  0.326  acc :  0.664\n",
      "Epoch :  75  loss :  0.326  acc :  0.664\n",
      "Epoch :  76  loss :  0.326  acc :  0.664\n",
      "Epoch :  77  loss :  0.325  acc :  0.664\n",
      "Epoch :  78  loss :  0.325  acc :  0.664\n",
      "Epoch :  79  loss :  0.325  acc :  0.664\n",
      "Epoch :  80  loss :  0.325  acc :  0.664\n",
      "Epoch :  81  loss :  0.325  acc :  0.664\n",
      "Epoch :  82  loss :  0.325  acc :  0.664\n",
      "Epoch :  83  loss :  0.325  acc :  0.664\n",
      "Epoch :  84  loss :  0.324  acc :  0.664\n",
      "Epoch :  85  loss :  0.324  acc :  0.664\n",
      "Epoch :  86  loss :  0.324  acc :  0.664\n",
      "Epoch :  87  loss :  0.324  acc :  0.664\n",
      "Epoch :  88  loss :  0.324  acc :  0.664\n",
      "Epoch :  89  loss :  0.324  acc :  0.664\n",
      "Epoch :  90  loss :  0.324  acc :  0.664\n",
      "Epoch :  91  loss :  0.324  acc :  0.664\n",
      "Epoch :  92  loss :  0.324  acc :  0.664\n",
      "Epoch :  93  loss :  0.323  acc :  0.664\n",
      "Epoch :  94  loss :  0.323  acc :  0.664\n",
      "Epoch :  95  loss :  0.323  acc :  0.664\n",
      "Epoch :  96  loss :  0.323  acc :  0.664\n",
      "Epoch :  97  loss :  0.323  acc :  0.664\n",
      "Epoch :  98  loss :  0.323  acc :  0.664\n",
      "Epoch :  99  loss :  0.323  acc :  0.664\n",
      "Epoch :  100  loss :  0.323  acc :  0.664\n",
      "Epoch :  101  loss :  0.323  acc :  0.664\n",
      "Epoch :  102  loss :  0.323  acc :  0.664\n",
      "Epoch :  103  loss :  0.323  acc :  0.664\n",
      "Epoch :  104  loss :  0.322  acc :  0.664\n",
      "Epoch :  105  loss :  0.322  acc :  0.664\n",
      "Epoch :  106  loss :  0.322  acc :  0.664\n",
      "Epoch :  107  loss :  0.322  acc :  0.664\n",
      "Epoch :  108  loss :  0.322  acc :  0.664\n",
      "Epoch :  109  loss :  0.322  acc :  0.664\n",
      "Epoch :  110  loss :  0.322  acc :  0.664\n",
      "Epoch :  111  loss :  0.322  acc :  0.664\n",
      "Epoch :  112  loss :  0.322  acc :  0.664\n",
      "Epoch :  113  loss :  0.322  acc :  0.664\n",
      "Epoch :  114  loss :  0.322  acc :  0.664\n",
      "Epoch :  115  loss :  0.322  acc :  0.664\n",
      "Epoch :  116  loss :  0.322  acc :  0.664\n",
      "Epoch :  117  loss :  0.322  acc :  0.664\n",
      "Epoch :  118  loss :  0.322  acc :  0.664\n",
      "Epoch :  119  loss :  0.322  acc :  0.664\n",
      "Epoch :  120  loss :  0.322  acc :  0.664\n",
      "Epoch :  121  loss :  0.321  acc :  0.664\n",
      "Epoch :  122  loss :  0.321  acc :  0.664\n",
      "Epoch :  123  loss :  0.321  acc :  0.664\n",
      "Epoch :  124  loss :  0.321  acc :  0.664\n",
      "Epoch :  125  loss :  0.321  acc :  0.664\n",
      "Epoch :  126  loss :  0.321  acc :  0.664\n",
      "Epoch :  127  loss :  0.321  acc :  0.664\n",
      "Epoch :  128  loss :  0.321  acc :  0.664\n",
      "Epoch :  129  loss :  0.321  acc :  0.664\n",
      "Epoch :  130  loss :  0.321  acc :  0.664\n",
      "Epoch :  131  loss :  0.321  acc :  0.664\n",
      "Epoch :  132  loss :  0.321  acc :  0.664\n",
      "Epoch :  133  loss :  0.321  acc :  0.664\n",
      "Epoch :  134  loss :  0.321  acc :  0.664\n",
      "Epoch :  135  loss :  0.321  acc :  0.664\n",
      "Epoch :  136  loss :  0.321  acc :  0.664\n",
      "Epoch :  137  loss :  0.321  acc :  0.664\n",
      "Epoch :  138  loss :  0.321  acc :  0.664\n",
      "Epoch :  139  loss :  0.321  acc :  0.664\n",
      "Epoch :  140  loss :  0.321  acc :  0.664\n",
      "Epoch :  141  loss :  0.321  acc :  0.664\n",
      "Epoch :  142  loss :  0.321  acc :  0.664\n",
      "Epoch :  143  loss :  0.321  acc :  0.664\n",
      "Epoch :  144  loss :  0.321  acc :  0.664\n",
      "Epoch :  145  loss :  0.321  acc :  0.664\n",
      "Epoch :  146  loss :  0.321  acc :  0.664\n",
      "Epoch :  147  loss :  0.321  acc :  0.664\n",
      "Epoch :  148  loss :  0.321  acc :  0.664\n",
      "Epoch :  149  loss :  0.321  acc :  0.664\n",
      "Epoch :  150  loss :  0.32  acc :  0.664\n",
      "Epoch :  151  loss :  0.32  acc :  0.664\n",
      "Epoch :  152  loss :  0.32  acc :  0.664\n",
      "Epoch :  153  loss :  0.32  acc :  0.664\n",
      "Epoch :  154  loss :  0.32  acc :  0.664\n",
      "Epoch :  155  loss :  0.32  acc :  0.664\n",
      "Epoch :  156  loss :  0.32  acc :  0.664\n",
      "Epoch :  157  loss :  0.32  acc :  0.664\n",
      "Epoch :  158  loss :  0.32  acc :  0.664\n",
      "Epoch :  159  loss :  0.32  acc :  0.664\n",
      "Epoch :  160  loss :  0.32  acc :  0.664\n",
      "Epoch :  161  loss :  0.32  acc :  0.664\n",
      "Epoch :  162  loss :  0.32  acc :  0.664\n",
      "Epoch :  163  loss :  0.32  acc :  0.664\n",
      "Epoch :  164  loss :  0.32  acc :  0.664\n",
      "Epoch :  165  loss :  0.32  acc :  0.664\n",
      "Epoch :  166  loss :  0.32  acc :  0.664\n",
      "Epoch :  167  loss :  0.32  acc :  0.664\n",
      "Epoch :  168  loss :  0.32  acc :  0.664\n",
      "Epoch :  169  loss :  0.32  acc :  0.664\n",
      "Epoch :  170  loss :  0.32  acc :  0.664\n",
      "Epoch :  171  loss :  0.32  acc :  0.664\n",
      "Epoch :  172  loss :  0.32  acc :  0.664\n",
      "Epoch :  173  loss :  0.32  acc :  0.664\n",
      "Epoch :  174  loss :  0.32  acc :  0.664\n",
      "Epoch :  175  loss :  0.32  acc :  0.664\n",
      "Epoch :  176  loss :  0.32  acc :  0.664\n",
      "Epoch :  177  loss :  0.32  acc :  0.664\n",
      "Epoch :  178  loss :  0.32  acc :  0.664\n",
      "Epoch :  179  loss :  0.32  acc :  0.664\n",
      "Epoch :  180  loss :  0.32  acc :  0.664\n",
      "Epoch :  181  loss :  0.32  acc :  0.664\n",
      "Epoch :  182  loss :  0.32  acc :  0.664\n",
      "Epoch :  183  loss :  0.32  acc :  0.664\n",
      "Epoch :  184  loss :  0.32  acc :  0.664\n",
      "Epoch :  185  loss :  0.32  acc :  0.664\n",
      "Epoch :  186  loss :  0.32  acc :  0.664\n",
      "Epoch :  187  loss :  0.32  acc :  0.664\n",
      "Epoch :  188  loss :  0.32  acc :  0.664\n",
      "Epoch :  189  loss :  0.32  acc :  0.664\n",
      "Epoch :  190  loss :  0.32  acc :  0.664\n",
      "Epoch :  191  loss :  0.32  acc :  0.664\n",
      "Epoch :  192  loss :  0.32  acc :  0.664\n",
      "Epoch :  193  loss :  0.32  acc :  0.664\n",
      "Epoch :  194  loss :  0.32  acc :  0.664\n",
      "Epoch :  195  loss :  0.32  acc :  0.664\n",
      "Epoch :  196  loss :  0.32  acc :  0.664\n",
      "Epoch :  197  loss :  0.32  acc :  0.664\n",
      "Epoch :  198  loss :  0.32  acc :  0.664\n",
      "Epoch :  199  loss :  0.32  acc :  0.664\n",
      "Epoch :  200  loss :  0.32  acc :  0.664\n",
      "Epoch :  201  loss :  0.32  acc :  0.664\n",
      "Epoch :  202  loss :  0.32  acc :  0.664\n",
      "Epoch :  203  loss :  0.32  acc :  0.664\n",
      "Epoch :  204  loss :  0.32  acc :  0.664\n",
      "Epoch :  205  loss :  0.32  acc :  0.664\n",
      "Epoch :  206  loss :  0.32  acc :  0.664\n",
      "Epoch :  207  loss :  0.32  acc :  0.664\n",
      "Epoch :  208  loss :  0.32  acc :  0.664\n",
      "Epoch :  209  loss :  0.32  acc :  0.664\n",
      "Epoch :  210  loss :  0.32  acc :  0.664\n",
      "Epoch :  211  loss :  0.32  acc :  0.664\n",
      "Epoch :  212  loss :  0.32  acc :  0.664\n",
      "Epoch :  213  loss :  0.32  acc :  0.664\n",
      "Epoch :  214  loss :  0.32  acc :  0.664\n",
      "Epoch :  215  loss :  0.32  acc :  0.664\n",
      "Epoch :  216  loss :  0.32  acc :  0.664\n",
      "Epoch :  217  loss :  0.32  acc :  0.664\n",
      "Epoch :  218  loss :  0.32  acc :  0.664\n",
      "Epoch :  219  loss :  0.32  acc :  0.664\n",
      "Epoch :  220  loss :  0.32  acc :  0.664\n",
      "Epoch :  221  loss :  0.32  acc :  0.664\n",
      "Epoch :  222  loss :  0.32  acc :  0.664\n",
      "Epoch :  223  loss :  0.32  acc :  0.664\n",
      "Epoch :  224  loss :  0.32  acc :  0.664\n",
      "Epoch :  225  loss :  0.32  acc :  0.664\n",
      "Epoch :  226  loss :  0.32  acc :  0.664\n",
      "Epoch :  227  loss :  0.32  acc :  0.664\n",
      "Epoch :  228  loss :  0.32  acc :  0.664\n",
      "Epoch :  229  loss :  0.32  acc :  0.664\n",
      "Epoch :  230  loss :  0.32  acc :  0.664\n",
      "Epoch :  231  loss :  0.32  acc :  0.664\n",
      "Epoch :  232  loss :  0.32  acc :  0.664\n",
      "Epoch :  233  loss :  0.32  acc :  0.664\n",
      "Epoch :  234  loss :  0.32  acc :  0.664\n",
      "Epoch :  235  loss :  0.32  acc :  0.664\n",
      "Epoch :  236  loss :  0.32  acc :  0.664\n",
      "Epoch :  237  loss :  0.32  acc :  0.664\n",
      "Epoch :  238  loss :  0.32  acc :  0.664\n",
      "Epoch :  239  loss :  0.32  acc :  0.664\n",
      "Epoch :  240  loss :  0.32  acc :  0.664\n",
      "Epoch :  241  loss :  0.32  acc :  0.664\n",
      "Epoch :  242  loss :  0.32  acc :  0.664\n",
      "Epoch :  243  loss :  0.32  acc :  0.664\n",
      "Epoch :  244  loss :  0.32  acc :  0.664\n",
      "Epoch :  245  loss :  0.32  acc :  0.664\n",
      "Epoch :  246  loss :  0.32  acc :  0.664\n",
      "Epoch :  247  loss :  0.319  acc :  0.664\n",
      "Epoch :  248  loss :  0.319  acc :  0.664\n",
      "Epoch :  249  loss :  0.319  acc :  0.664\n",
      "Epoch :  250  loss :  0.319  acc :  0.664\n",
      "Epoch :  251  loss :  0.319  acc :  0.664\n",
      "Epoch :  252  loss :  0.319  acc :  0.664\n",
      "Epoch :  253  loss :  0.319  acc :  0.664\n",
      "Epoch :  254  loss :  0.319  acc :  0.664\n",
      "Epoch :  255  loss :  0.319  acc :  0.664\n",
      "Epoch :  256  loss :  0.319  acc :  0.664\n",
      "Epoch :  257  loss :  0.319  acc :  0.664\n",
      "Epoch :  258  loss :  0.319  acc :  0.664\n",
      "Epoch :  259  loss :  0.319  acc :  0.664\n",
      "Epoch :  260  loss :  0.319  acc :  0.664\n",
      "Epoch :  261  loss :  0.319  acc :  0.664\n",
      "Epoch :  262  loss :  0.319  acc :  0.664\n",
      "Epoch :  263  loss :  0.319  acc :  0.664\n",
      "Epoch :  264  loss :  0.319  acc :  0.664\n",
      "Epoch :  265  loss :  0.319  acc :  0.664\n",
      "Epoch :  266  loss :  0.319  acc :  0.664\n",
      "Epoch :  267  loss :  0.319  acc :  0.664\n",
      "Epoch :  268  loss :  0.319  acc :  0.664\n",
      "Epoch :  269  loss :  0.319  acc :  0.664\n",
      "Epoch :  270  loss :  0.319  acc :  0.664\n",
      "Epoch :  271  loss :  0.319  acc :  0.664\n",
      "Epoch :  272  loss :  0.319  acc :  0.664\n",
      "Epoch :  273  loss :  0.319  acc :  0.664\n",
      "Epoch :  274  loss :  0.319  acc :  0.664\n",
      "Epoch :  275  loss :  0.319  acc :  0.664\n",
      "Epoch :  276  loss :  0.319  acc :  0.664\n",
      "Epoch :  277  loss :  0.319  acc :  0.664\n",
      "Epoch :  278  loss :  0.319  acc :  0.664\n",
      "Epoch :  279  loss :  0.319  acc :  0.664\n",
      "Epoch :  280  loss :  0.319  acc :  0.664\n",
      "Epoch :  281  loss :  0.319  acc :  0.664\n",
      "Epoch :  282  loss :  0.319  acc :  0.664\n",
      "Epoch :  283  loss :  0.319  acc :  0.664\n",
      "Epoch :  284  loss :  0.319  acc :  0.664\n",
      "Epoch :  285  loss :  0.319  acc :  0.664\n",
      "Epoch :  286  loss :  0.319  acc :  0.664\n",
      "Epoch :  287  loss :  0.319  acc :  0.664\n",
      "Epoch :  288  loss :  0.319  acc :  0.664\n",
      "Epoch :  289  loss :  0.319  acc :  0.664\n",
      "Epoch :  290  loss :  0.319  acc :  0.664\n",
      "Epoch :  291  loss :  0.319  acc :  0.664\n",
      "Epoch :  292  loss :  0.319  acc :  0.664\n",
      "Epoch :  293  loss :  0.319  acc :  0.664\n",
      "Epoch :  294  loss :  0.319  acc :  0.664\n",
      "Epoch :  295  loss :  0.319  acc :  0.664\n",
      "Epoch :  296  loss :  0.319  acc :  0.664\n",
      "Epoch :  297  loss :  0.319  acc :  0.664\n",
      "Epoch :  298  loss :  0.319  acc :  0.664\n",
      "Epoch :  299  loss :  0.319  acc :  0.664\n",
      "Epoch :  300  loss :  0.319  acc :  0.664\n",
      "Epoch :  301  loss :  0.319  acc :  0.664\n",
      "Epoch :  302  loss :  0.319  acc :  0.664\n",
      "Epoch :  303  loss :  0.319  acc :  0.664\n",
      "Epoch :  304  loss :  0.319  acc :  0.664\n",
      "Epoch :  305  loss :  0.319  acc :  0.664\n",
      "Epoch :  306  loss :  0.319  acc :  0.664\n",
      "Epoch :  307  loss :  0.319  acc :  0.664\n",
      "Epoch :  308  loss :  0.319  acc :  0.664\n",
      "Epoch :  309  loss :  0.319  acc :  0.664\n",
      "Epoch :  310  loss :  0.319  acc :  0.664\n",
      "Epoch :  311  loss :  0.319  acc :  0.664\n",
      "Epoch :  312  loss :  0.319  acc :  0.664\n",
      "Epoch :  313  loss :  0.319  acc :  0.664\n",
      "Epoch :  314  loss :  0.319  acc :  0.664\n",
      "Epoch :  315  loss :  0.319  acc :  0.664\n",
      "Epoch :  316  loss :  0.319  acc :  0.664\n"
     ]
    },
    {
     "name": "stdout",
     "output_type": "stream",
     "text": [
      "Epoch :  317  loss :  0.319  acc :  0.664\n",
      "Epoch :  318  loss :  0.319  acc :  0.664\n",
      "Epoch :  319  loss :  0.319  acc :  0.664\n",
      "Epoch :  320  loss :  0.319  acc :  0.664\n",
      "Epoch :  321  loss :  0.319  acc :  0.664\n",
      "Epoch :  322  loss :  0.319  acc :  0.664\n",
      "Epoch :  323  loss :  0.319  acc :  0.664\n",
      "Epoch :  324  loss :  0.319  acc :  0.664\n",
      "Epoch :  325  loss :  0.319  acc :  0.664\n",
      "Epoch :  326  loss :  0.319  acc :  0.664\n",
      "Epoch :  327  loss :  0.319  acc :  0.664\n",
      "Epoch :  328  loss :  0.319  acc :  0.664\n",
      "Epoch :  329  loss :  0.319  acc :  0.664\n",
      "Epoch :  330  loss :  0.319  acc :  0.664\n",
      "Epoch :  331  loss :  0.319  acc :  0.664\n",
      "Epoch :  332  loss :  0.319  acc :  0.664\n",
      "Epoch :  333  loss :  0.319  acc :  0.664\n",
      "Epoch :  334  loss :  0.319  acc :  0.664\n",
      "Epoch :  335  loss :  0.319  acc :  0.664\n",
      "Epoch :  336  loss :  0.319  acc :  0.664\n",
      "Epoch :  337  loss :  0.319  acc :  0.664\n",
      "Epoch :  338  loss :  0.319  acc :  0.664\n",
      "Epoch :  339  loss :  0.319  acc :  0.664\n",
      "Epoch :  340  loss :  0.319  acc :  0.664\n",
      "Epoch :  341  loss :  0.319  acc :  0.664\n",
      "Epoch :  342  loss :  0.319  acc :  0.664\n",
      "Epoch :  343  loss :  0.319  acc :  0.664\n",
      "Epoch :  344  loss :  0.319  acc :  0.664\n",
      "Epoch :  345  loss :  0.319  acc :  0.664\n",
      "Epoch :  346  loss :  0.319  acc :  0.664\n",
      "Epoch :  347  loss :  0.319  acc :  0.664\n",
      "Epoch :  348  loss :  0.319  acc :  0.664\n",
      "Epoch :  349  loss :  0.319  acc :  0.664\n",
      "Epoch :  350  loss :  0.319  acc :  0.664\n",
      "Epoch :  351  loss :  0.319  acc :  0.664\n",
      "Epoch :  352  loss :  0.319  acc :  0.664\n",
      "Epoch :  353  loss :  0.319  acc :  0.664\n",
      "Epoch :  354  loss :  0.319  acc :  0.664\n",
      "Epoch :  355  loss :  0.319  acc :  0.664\n",
      "Epoch :  356  loss :  0.319  acc :  0.664\n",
      "Epoch :  357  loss :  0.319  acc :  0.664\n",
      "Epoch :  358  loss :  0.319  acc :  0.664\n",
      "Epoch :  359  loss :  0.319  acc :  0.664\n",
      "Epoch :  360  loss :  0.319  acc :  0.664\n",
      "Epoch :  361  loss :  0.319  acc :  0.664\n",
      "Epoch :  362  loss :  0.319  acc :  0.664\n",
      "Epoch :  363  loss :  0.319  acc :  0.664\n",
      "Epoch :  364  loss :  0.319  acc :  0.664\n",
      "Epoch :  365  loss :  0.319  acc :  0.664\n",
      "Epoch :  366  loss :  0.319  acc :  0.664\n",
      "Epoch :  367  loss :  0.319  acc :  0.664\n",
      "Epoch :  368  loss :  0.319  acc :  0.664\n",
      "Epoch :  369  loss :  0.319  acc :  0.664\n",
      "Epoch :  370  loss :  0.319  acc :  0.664\n",
      "Epoch :  371  loss :  0.319  acc :  0.664\n",
      "Epoch :  372  loss :  0.319  acc :  0.664\n",
      "Epoch :  373  loss :  0.319  acc :  0.664\n",
      "Epoch :  374  loss :  0.319  acc :  0.664\n",
      "Epoch :  375  loss :  0.319  acc :  0.664\n",
      "Epoch :  376  loss :  0.319  acc :  0.664\n",
      "Epoch :  377  loss :  0.319  acc :  0.664\n",
      "Epoch :  378  loss :  0.319  acc :  0.664\n",
      "Epoch :  379  loss :  0.319  acc :  0.664\n",
      "Epoch :  380  loss :  0.319  acc :  0.664\n",
      "Epoch :  381  loss :  0.319  acc :  0.664\n",
      "Epoch :  382  loss :  0.319  acc :  0.664\n",
      "Epoch :  383  loss :  0.319  acc :  0.664\n",
      "Epoch :  384  loss :  0.319  acc :  0.664\n",
      "Epoch :  385  loss :  0.319  acc :  0.664\n",
      "Epoch :  386  loss :  0.319  acc :  0.664\n",
      "Epoch :  387  loss :  0.319  acc :  0.664\n",
      "Epoch :  388  loss :  0.319  acc :  0.664\n",
      "Epoch :  389  loss :  0.319  acc :  0.664\n",
      "Epoch :  390  loss :  0.319  acc :  0.664\n",
      "Epoch :  391  loss :  0.319  acc :  0.664\n",
      "Epoch :  392  loss :  0.319  acc :  0.664\n",
      "Epoch :  393  loss :  0.319  acc :  0.664\n",
      "Epoch :  394  loss :  0.319  acc :  0.664\n",
      "Epoch :  395  loss :  0.319  acc :  0.664\n",
      "Epoch :  396  loss :  0.319  acc :  0.664\n",
      "Epoch :  397  loss :  0.319  acc :  0.664\n",
      "Epoch :  398  loss :  0.319  acc :  0.664\n",
      "Epoch :  399  loss :  0.319  acc :  0.664\n",
      "Epoch :  400  loss :  0.319  acc :  0.664\n",
      "Epoch :  401  loss :  0.319  acc :  0.664\n",
      "Epoch :  402  loss :  0.319  acc :  0.664\n",
      "Epoch :  403  loss :  0.319  acc :  0.664\n",
      "Epoch :  404  loss :  0.319  acc :  0.664\n",
      "Epoch :  405  loss :  0.319  acc :  0.664\n",
      "Epoch :  406  loss :  0.319  acc :  0.664\n",
      "Epoch :  407  loss :  0.319  acc :  0.664\n",
      "Epoch :  408  loss :  0.319  acc :  0.664\n",
      "Epoch :  409  loss :  0.319  acc :  0.664\n",
      "Epoch :  410  loss :  0.319  acc :  0.664\n",
      "Epoch :  411  loss :  0.319  acc :  0.664\n",
      "Epoch :  412  loss :  0.319  acc :  0.664\n",
      "Epoch :  413  loss :  0.319  acc :  0.664\n",
      "Epoch :  414  loss :  0.319  acc :  0.664\n",
      "Epoch :  415  loss :  0.319  acc :  0.664\n",
      "Epoch :  416  loss :  0.319  acc :  0.664\n",
      "Epoch :  417  loss :  0.319  acc :  0.664\n",
      "Epoch :  418  loss :  0.319  acc :  0.664\n",
      "Epoch :  419  loss :  0.319  acc :  0.664\n",
      "Epoch :  420  loss :  0.319  acc :  0.664\n",
      "Epoch :  421  loss :  0.319  acc :  0.664\n",
      "Epoch :  422  loss :  0.319  acc :  0.664\n",
      "Epoch :  423  loss :  0.319  acc :  0.664\n",
      "Epoch :  424  loss :  0.319  acc :  0.664\n",
      "Epoch :  425  loss :  0.319  acc :  0.664\n",
      "Epoch :  426  loss :  0.319  acc :  0.664\n",
      "Epoch :  427  loss :  0.319  acc :  0.664\n",
      "Epoch :  428  loss :  0.319  acc :  0.664\n",
      "Epoch :  429  loss :  0.319  acc :  0.664\n",
      "Epoch :  430  loss :  0.319  acc :  0.664\n",
      "Epoch :  431  loss :  0.319  acc :  0.664\n",
      "Epoch :  432  loss :  0.319  acc :  0.664\n",
      "Epoch :  433  loss :  0.319  acc :  0.664\n",
      "Epoch :  434  loss :  0.319  acc :  0.664\n",
      "Epoch :  435  loss :  0.319  acc :  0.664\n",
      "Epoch :  436  loss :  0.319  acc :  0.664\n",
      "Epoch :  437  loss :  0.319  acc :  0.664\n",
      "Epoch :  438  loss :  0.319  acc :  0.664\n",
      "Epoch :  439  loss :  0.319  acc :  0.664\n",
      "Epoch :  440  loss :  0.319  acc :  0.664\n",
      "Epoch :  441  loss :  0.319  acc :  0.664\n",
      "Epoch :  442  loss :  0.319  acc :  0.664\n",
      "Epoch :  443  loss :  0.319  acc :  0.664\n",
      "Epoch :  444  loss :  0.319  acc :  0.664\n",
      "Epoch :  445  loss :  0.319  acc :  0.664\n",
      "Epoch :  446  loss :  0.319  acc :  0.664\n",
      "Epoch :  447  loss :  0.319  acc :  0.664\n",
      "Epoch :  448  loss :  0.319  acc :  0.664\n",
      "Epoch :  449  loss :  0.319  acc :  0.664\n",
      "Epoch :  450  loss :  0.319  acc :  0.664\n",
      "Epoch :  451  loss :  0.319  acc :  0.664\n",
      "Epoch :  452  loss :  0.319  acc :  0.664\n",
      "Epoch :  453  loss :  0.319  acc :  0.664\n",
      "Epoch :  454  loss :  0.319  acc :  0.664\n",
      "Epoch :  455  loss :  0.319  acc :  0.664\n",
      "Epoch :  456  loss :  0.319  acc :  0.664\n",
      "Epoch :  457  loss :  0.319  acc :  0.664\n",
      "Epoch :  458  loss :  0.319  acc :  0.664\n",
      "Epoch :  459  loss :  0.319  acc :  0.664\n",
      "Epoch :  460  loss :  0.319  acc :  0.664\n",
      "Epoch :  461  loss :  0.319  acc :  0.664\n",
      "Epoch :  462  loss :  0.319  acc :  0.664\n",
      "Epoch :  463  loss :  0.319  acc :  0.664\n",
      "Epoch :  464  loss :  0.319  acc :  0.664\n",
      "Epoch :  465  loss :  0.319  acc :  0.664\n",
      "Epoch :  466  loss :  0.319  acc :  0.664\n",
      "Epoch :  467  loss :  0.319  acc :  0.664\n",
      "Epoch :  468  loss :  0.319  acc :  0.664\n",
      "Epoch :  469  loss :  0.319  acc :  0.664\n",
      "Epoch :  470  loss :  0.319  acc :  0.664\n",
      "Epoch :  471  loss :  0.319  acc :  0.664\n",
      "Epoch :  472  loss :  0.319  acc :  0.664\n",
      "Epoch :  473  loss :  0.319  acc :  0.664\n",
      "Epoch :  474  loss :  0.319  acc :  0.664\n",
      "Epoch :  475  loss :  0.319  acc :  0.664\n",
      "Epoch :  476  loss :  0.319  acc :  0.664\n",
      "Epoch :  477  loss :  0.319  acc :  0.664\n",
      "Epoch :  478  loss :  0.319  acc :  0.664\n",
      "Epoch :  479  loss :  0.319  acc :  0.664\n",
      "Epoch :  480  loss :  0.319  acc :  0.664\n",
      "Epoch :  481  loss :  0.319  acc :  0.664\n",
      "Epoch :  482  loss :  0.319  acc :  0.664\n",
      "Epoch :  483  loss :  0.319  acc :  0.664\n",
      "Epoch :  484  loss :  0.319  acc :  0.664\n",
      "Epoch :  485  loss :  0.319  acc :  0.664\n",
      "Epoch :  486  loss :  0.319  acc :  0.664\n",
      "Epoch :  487  loss :  0.319  acc :  0.664\n",
      "Epoch :  488  loss :  0.319  acc :  0.664\n",
      "Epoch :  489  loss :  0.319  acc :  0.664\n",
      "Epoch :  490  loss :  0.319  acc :  0.664\n",
      "Epoch :  491  loss :  0.319  acc :  0.664\n",
      "Epoch :  492  loss :  0.319  acc :  0.664\n",
      "Epoch :  493  loss :  0.319  acc :  0.664\n",
      "Epoch :  494  loss :  0.319  acc :  0.664\n",
      "Epoch :  495  loss :  0.319  acc :  0.664\n",
      "Epoch :  496  loss :  0.319  acc :  0.664\n",
      "Epoch :  497  loss :  0.319  acc :  0.664\n",
      "Epoch :  498  loss :  0.319  acc :  0.664\n",
      "Epoch :  499  loss :  0.319  acc :  0.664\n",
      "Epoch :  500  loss :  0.319  acc :  0.664\n",
      "Epoch :  501  loss :  0.319  acc :  0.664\n",
      "Epoch :  502  loss :  0.319  acc :  0.664\n",
      "Epoch :  503  loss :  0.319  acc :  0.664\n",
      "Epoch :  504  loss :  0.319  acc :  0.664\n",
      "Epoch :  505  loss :  0.319  acc :  0.664\n",
      "Epoch :  506  loss :  0.319  acc :  0.664\n",
      "Epoch :  507  loss :  0.319  acc :  0.664\n",
      "Epoch :  508  loss :  0.319  acc :  0.664\n",
      "Epoch :  509  loss :  0.319  acc :  0.664\n",
      "Epoch :  510  loss :  0.319  acc :  0.664\n",
      "Epoch :  511  loss :  0.319  acc :  0.664\n",
      "Epoch :  512  loss :  0.319  acc :  0.664\n",
      "Epoch :  513  loss :  0.319  acc :  0.664\n",
      "Epoch :  514  loss :  0.319  acc :  0.664\n",
      "Epoch :  515  loss :  0.319  acc :  0.664\n",
      "Epoch :  516  loss :  0.319  acc :  0.664\n",
      "Epoch :  517  loss :  0.319  acc :  0.664\n",
      "Epoch :  518  loss :  0.319  acc :  0.664\n",
      "Epoch :  519  loss :  0.319  acc :  0.664\n",
      "Epoch :  520  loss :  0.319  acc :  0.664\n",
      "Epoch :  521  loss :  0.319  acc :  0.664\n",
      "Epoch :  522  loss :  0.319  acc :  0.664\n",
      "Epoch :  523  loss :  0.319  acc :  0.664\n",
      "Epoch :  524  loss :  0.319  acc :  0.664\n",
      "Epoch :  525  loss :  0.319  acc :  0.664\n",
      "Epoch :  526  loss :  0.319  acc :  0.664\n",
      "Epoch :  527  loss :  0.319  acc :  0.664\n",
      "Epoch :  528  loss :  0.319  acc :  0.664\n",
      "Epoch :  529  loss :  0.319  acc :  0.664\n",
      "Epoch :  530  loss :  0.319  acc :  0.664\n",
      "Epoch :  531  loss :  0.319  acc :  0.664\n",
      "Epoch :  532  loss :  0.319  acc :  0.664\n",
      "Epoch :  533  loss :  0.319  acc :  0.664\n",
      "Epoch :  534  loss :  0.319  acc :  0.664\n",
      "Epoch :  535  loss :  0.319  acc :  0.664\n",
      "Epoch :  536  loss :  0.319  acc :  0.664\n",
      "Epoch :  537  loss :  0.319  acc :  0.664\n",
      "Epoch :  538  loss :  0.319  acc :  0.664\n",
      "Epoch :  539  loss :  0.319  acc :  0.664\n",
      "Epoch :  540  loss :  0.319  acc :  0.664\n",
      "Epoch :  541  loss :  0.319  acc :  0.664\n",
      "Epoch :  542  loss :  0.319  acc :  0.664\n",
      "Epoch :  543  loss :  0.319  acc :  0.664\n",
      "Epoch :  544  loss :  0.319  acc :  0.664\n",
      "Epoch :  545  loss :  0.319  acc :  0.664\n",
      "Epoch :  546  loss :  0.319  acc :  0.664\n",
      "Epoch :  547  loss :  0.319  acc :  0.664\n",
      "Epoch :  548  loss :  0.319  acc :  0.664\n",
      "Epoch :  549  loss :  0.319  acc :  0.664\n",
      "Epoch :  550  loss :  0.319  acc :  0.664\n",
      "Epoch :  551  loss :  0.319  acc :  0.664\n",
      "Epoch :  552  loss :  0.319  acc :  0.664\n",
      "Epoch :  553  loss :  0.319  acc :  0.664\n",
      "Epoch :  554  loss :  0.319  acc :  0.664\n",
      "Epoch :  555  loss :  0.319  acc :  0.664\n",
      "Epoch :  556  loss :  0.319  acc :  0.664\n",
      "Epoch :  557  loss :  0.319  acc :  0.664\n",
      "Epoch :  558  loss :  0.319  acc :  0.664\n",
      "Epoch :  559  loss :  0.319  acc :  0.664\n",
      "Epoch :  560  loss :  0.319  acc :  0.664\n",
      "Epoch :  561  loss :  0.319  acc :  0.664\n",
      "Epoch :  562  loss :  0.319  acc :  0.664\n",
      "Epoch :  563  loss :  0.319  acc :  0.664\n",
      "Epoch :  564  loss :  0.319  acc :  0.664\n",
      "Epoch :  565  loss :  0.319  acc :  0.664\n",
      "Epoch :  566  loss :  0.319  acc :  0.664\n",
      "Epoch :  567  loss :  0.319  acc :  0.664\n",
      "Epoch :  568  loss :  0.319  acc :  0.664\n",
      "Epoch :  569  loss :  0.319  acc :  0.664\n",
      "Epoch :  570  loss :  0.319  acc :  0.664\n",
      "Epoch :  571  loss :  0.319  acc :  0.664\n",
      "Epoch :  572  loss :  0.319  acc :  0.664\n",
      "Epoch :  573  loss :  0.319  acc :  0.664\n",
      "Epoch :  574  loss :  0.319  acc :  0.664\n",
      "Epoch :  575  loss :  0.319  acc :  0.664\n",
      "Epoch :  576  loss :  0.319  acc :  0.664\n",
      "Epoch :  577  loss :  0.319  acc :  0.664\n",
      "Epoch :  578  loss :  0.319  acc :  0.664\n",
      "Epoch :  579  loss :  0.319  acc :  0.664\n",
      "Epoch :  580  loss :  0.319  acc :  0.664\n",
      "Epoch :  581  loss :  0.319  acc :  0.664\n",
      "Epoch :  582  loss :  0.319  acc :  0.664\n",
      "Epoch :  583  loss :  0.319  acc :  0.664\n",
      "Epoch :  584  loss :  0.319  acc :  0.664\n",
      "Epoch :  585  loss :  0.319  acc :  0.664\n",
      "Epoch :  586  loss :  0.319  acc :  0.664\n",
      "Epoch :  587  loss :  0.319  acc :  0.664\n",
      "Epoch :  588  loss :  0.319  acc :  0.664\n",
      "Epoch :  589  loss :  0.319  acc :  0.664\n",
      "Epoch :  590  loss :  0.319  acc :  0.664\n",
      "Epoch :  591  loss :  0.319  acc :  0.664\n",
      "Epoch :  592  loss :  0.319  acc :  0.664\n",
      "Epoch :  593  loss :  0.319  acc :  0.664\n",
      "Epoch :  594  loss :  0.319  acc :  0.664\n",
      "Epoch :  595  loss :  0.319  acc :  0.664\n",
      "Epoch :  596  loss :  0.319  acc :  0.664\n",
      "Epoch :  597  loss :  0.319  acc :  0.664\n",
      "Epoch :  598  loss :  0.319  acc :  0.664\n",
      "Epoch :  599  loss :  0.319  acc :  0.664\n",
      "Epoch :  600  loss :  0.319  acc :  0.664\n",
      "Epoch :  601  loss :  0.319  acc :  0.664\n",
      "Epoch :  602  loss :  0.319  acc :  0.664\n",
      "Epoch :  603  loss :  0.319  acc :  0.664\n",
      "Epoch :  604  loss :  0.319  acc :  0.664\n",
      "Epoch :  605  loss :  0.319  acc :  0.664\n",
      "Epoch :  606  loss :  0.319  acc :  0.664\n",
      "Epoch :  607  loss :  0.319  acc :  0.664\n",
      "Epoch :  608  loss :  0.319  acc :  0.664\n",
      "Epoch :  609  loss :  0.319  acc :  0.664\n",
      "Epoch :  610  loss :  0.319  acc :  0.664\n",
      "Epoch :  611  loss :  0.319  acc :  0.664\n",
      "Epoch :  612  loss :  0.319  acc :  0.664\n",
      "Epoch :  613  loss :  0.319  acc :  0.664\n",
      "Epoch :  614  loss :  0.319  acc :  0.664\n",
      "Epoch :  615  loss :  0.319  acc :  0.664\n",
      "Epoch :  616  loss :  0.319  acc :  0.664\n",
      "Epoch :  617  loss :  0.319  acc :  0.664\n",
      "Epoch :  618  loss :  0.319  acc :  0.664\n",
      "Epoch :  619  loss :  0.319  acc :  0.664\n",
      "Epoch :  620  loss :  0.319  acc :  0.664\n",
      "Epoch :  621  loss :  0.319  acc :  0.664\n",
      "Epoch :  622  loss :  0.319  acc :  0.664\n",
      "Epoch :  623  loss :  0.319  acc :  0.664\n",
      "Epoch :  624  loss :  0.319  acc :  0.664\n",
      "Epoch :  625  loss :  0.319  acc :  0.664\n",
      "Epoch :  626  loss :  0.319  acc :  0.664\n"
     ]
    },
    {
     "name": "stdout",
     "output_type": "stream",
     "text": [
      "Epoch :  627  loss :  0.319  acc :  0.664\n",
      "Epoch :  628  loss :  0.319  acc :  0.664\n",
      "Epoch :  629  loss :  0.319  acc :  0.664\n",
      "Epoch :  630  loss :  0.319  acc :  0.664\n",
      "Epoch :  631  loss :  0.319  acc :  0.664\n",
      "Epoch :  632  loss :  0.319  acc :  0.664\n",
      "Epoch :  633  loss :  0.319  acc :  0.664\n",
      "Epoch :  634  loss :  0.319  acc :  0.664\n",
      "Epoch :  635  loss :  0.319  acc :  0.664\n",
      "Epoch :  636  loss :  0.319  acc :  0.664\n",
      "Epoch :  637  loss :  0.319  acc :  0.664\n",
      "Epoch :  638  loss :  0.319  acc :  0.664\n",
      "Epoch :  639  loss :  0.319  acc :  0.664\n",
      "Epoch :  640  loss :  0.319  acc :  0.664\n",
      "Epoch :  641  loss :  0.319  acc :  0.664\n",
      "Epoch :  642  loss :  0.319  acc :  0.664\n",
      "Epoch :  643  loss :  0.319  acc :  0.664\n",
      "Epoch :  644  loss :  0.319  acc :  0.664\n",
      "Epoch :  645  loss :  0.319  acc :  0.664\n",
      "Epoch :  646  loss :  0.319  acc :  0.664\n",
      "Epoch :  647  loss :  0.319  acc :  0.664\n",
      "Epoch :  648  loss :  0.319  acc :  0.664\n",
      "Epoch :  649  loss :  0.319  acc :  0.664\n",
      "Epoch :  650  loss :  0.319  acc :  0.664\n",
      "Epoch :  651  loss :  0.319  acc :  0.664\n",
      "Epoch :  652  loss :  0.319  acc :  0.664\n",
      "Epoch :  653  loss :  0.319  acc :  0.664\n",
      "Epoch :  654  loss :  0.319  acc :  0.664\n",
      "Epoch :  655  loss :  0.319  acc :  0.664\n",
      "Epoch :  656  loss :  0.319  acc :  0.664\n",
      "Epoch :  657  loss :  0.319  acc :  0.664\n",
      "Epoch :  658  loss :  0.319  acc :  0.664\n",
      "Epoch :  659  loss :  0.319  acc :  0.664\n",
      "Epoch :  660  loss :  0.319  acc :  0.664\n",
      "Epoch :  661  loss :  0.319  acc :  0.664\n",
      "Epoch :  662  loss :  0.319  acc :  0.664\n",
      "Epoch :  663  loss :  0.319  acc :  0.664\n",
      "Epoch :  664  loss :  0.319  acc :  0.664\n",
      "Epoch :  665  loss :  0.319  acc :  0.664\n",
      "Epoch :  666  loss :  0.319  acc :  0.664\n",
      "Epoch :  667  loss :  0.319  acc :  0.664\n",
      "Epoch :  668  loss :  0.319  acc :  0.664\n",
      "Epoch :  669  loss :  0.319  acc :  0.664\n",
      "Epoch :  670  loss :  0.319  acc :  0.664\n",
      "Epoch :  671  loss :  0.319  acc :  0.664\n",
      "Epoch :  672  loss :  0.319  acc :  0.664\n",
      "Epoch :  673  loss :  0.319  acc :  0.664\n",
      "Epoch :  674  loss :  0.319  acc :  0.664\n",
      "Epoch :  675  loss :  0.319  acc :  0.664\n",
      "Epoch :  676  loss :  0.319  acc :  0.664\n",
      "Epoch :  677  loss :  0.319  acc :  0.664\n",
      "Epoch :  678  loss :  0.319  acc :  0.664\n",
      "Epoch :  679  loss :  0.319  acc :  0.664\n",
      "Epoch :  680  loss :  0.319  acc :  0.664\n",
      "Epoch :  681  loss :  0.319  acc :  0.664\n",
      "Epoch :  682  loss :  0.319  acc :  0.664\n",
      "Epoch :  683  loss :  0.319  acc :  0.664\n",
      "Epoch :  684  loss :  0.319  acc :  0.664\n",
      "Epoch :  685  loss :  0.319  acc :  0.664\n",
      "Epoch :  686  loss :  0.319  acc :  0.664\n",
      "Epoch :  687  loss :  0.319  acc :  0.664\n",
      "Epoch :  688  loss :  0.319  acc :  0.664\n",
      "Epoch :  689  loss :  0.319  acc :  0.664\n",
      "Epoch :  690  loss :  0.319  acc :  0.664\n",
      "Epoch :  691  loss :  0.319  acc :  0.664\n",
      "Epoch :  692  loss :  0.319  acc :  0.664\n",
      "Epoch :  693  loss :  0.319  acc :  0.664\n",
      "Epoch :  694  loss :  0.319  acc :  0.664\n",
      "Epoch :  695  loss :  0.319  acc :  0.664\n",
      "Epoch :  696  loss :  0.319  acc :  0.664\n",
      "Epoch :  697  loss :  0.319  acc :  0.664\n",
      "Epoch :  698  loss :  0.319  acc :  0.664\n",
      "Epoch :  699  loss :  0.319  acc :  0.664\n",
      "Epoch :  700  loss :  0.319  acc :  0.664\n",
      "Epoch :  701  loss :  0.319  acc :  0.664\n",
      "Epoch :  702  loss :  0.319  acc :  0.664\n",
      "Epoch :  703  loss :  0.319  acc :  0.664\n",
      "Epoch :  704  loss :  0.319  acc :  0.664\n",
      "Epoch :  705  loss :  0.319  acc :  0.664\n",
      "Epoch :  706  loss :  0.319  acc :  0.664\n",
      "Epoch :  707  loss :  0.319  acc :  0.664\n",
      "Epoch :  708  loss :  0.319  acc :  0.664\n",
      "Epoch :  709  loss :  0.319  acc :  0.664\n",
      "Epoch :  710  loss :  0.319  acc :  0.664\n",
      "Epoch :  711  loss :  0.319  acc :  0.664\n",
      "Epoch :  712  loss :  0.319  acc :  0.664\n",
      "Epoch :  713  loss :  0.319  acc :  0.664\n",
      "Epoch :  714  loss :  0.319  acc :  0.664\n",
      "Epoch :  715  loss :  0.319  acc :  0.664\n",
      "Epoch :  716  loss :  0.319  acc :  0.664\n",
      "Epoch :  717  loss :  0.319  acc :  0.664\n",
      "Epoch :  718  loss :  0.319  acc :  0.664\n",
      "Epoch :  719  loss :  0.319  acc :  0.664\n",
      "Epoch :  720  loss :  0.319  acc :  0.664\n",
      "Epoch :  721  loss :  0.319  acc :  0.664\n",
      "Epoch :  722  loss :  0.319  acc :  0.664\n",
      "Epoch :  723  loss :  0.319  acc :  0.664\n",
      "Epoch :  724  loss :  0.319  acc :  0.664\n",
      "Epoch :  725  loss :  0.319  acc :  0.664\n",
      "Epoch :  726  loss :  0.319  acc :  0.664\n",
      "Epoch :  727  loss :  0.319  acc :  0.664\n",
      "Epoch :  728  loss :  0.319  acc :  0.664\n",
      "Epoch :  729  loss :  0.319  acc :  0.664\n",
      "Epoch :  730  loss :  0.319  acc :  0.664\n",
      "Epoch :  731  loss :  0.319  acc :  0.664\n",
      "Epoch :  732  loss :  0.319  acc :  0.664\n",
      "Epoch :  733  loss :  0.319  acc :  0.664\n",
      "Epoch :  734  loss :  0.319  acc :  0.664\n",
      "Epoch :  735  loss :  0.319  acc :  0.664\n",
      "Epoch :  736  loss :  0.319  acc :  0.664\n",
      "Epoch :  737  loss :  0.319  acc :  0.664\n",
      "Epoch :  738  loss :  0.319  acc :  0.664\n",
      "Epoch :  739  loss :  0.319  acc :  0.664\n",
      "Epoch :  740  loss :  0.319  acc :  0.664\n",
      "Epoch :  741  loss :  0.319  acc :  0.664\n",
      "Epoch :  742  loss :  0.319  acc :  0.664\n",
      "Epoch :  743  loss :  0.319  acc :  0.664\n",
      "Epoch :  744  loss :  0.319  acc :  0.664\n",
      "Epoch :  745  loss :  0.319  acc :  0.664\n",
      "Epoch :  746  loss :  0.319  acc :  0.664\n",
      "Epoch :  747  loss :  0.319  acc :  0.664\n",
      "Epoch :  748  loss :  0.319  acc :  0.664\n",
      "Epoch :  749  loss :  0.319  acc :  0.664\n",
      "Epoch :  750  loss :  0.319  acc :  0.664\n",
      "Epoch :  751  loss :  0.319  acc :  0.664\n",
      "Epoch :  752  loss :  0.319  acc :  0.664\n",
      "Epoch :  753  loss :  0.319  acc :  0.664\n",
      "Epoch :  754  loss :  0.319  acc :  0.664\n",
      "Epoch :  755  loss :  0.319  acc :  0.664\n",
      "Epoch :  756  loss :  0.319  acc :  0.664\n",
      "Epoch :  757  loss :  0.319  acc :  0.664\n",
      "Epoch :  758  loss :  0.319  acc :  0.664\n",
      "Epoch :  759  loss :  0.319  acc :  0.664\n",
      "Epoch :  760  loss :  0.319  acc :  0.664\n",
      "Epoch :  761  loss :  0.319  acc :  0.664\n",
      "Epoch :  762  loss :  0.319  acc :  0.664\n",
      "Epoch :  763  loss :  0.319  acc :  0.664\n",
      "Epoch :  764  loss :  0.319  acc :  0.664\n",
      "Epoch :  765  loss :  0.319  acc :  0.664\n",
      "Epoch :  766  loss :  0.319  acc :  0.664\n",
      "Epoch :  767  loss :  0.319  acc :  0.664\n",
      "Epoch :  768  loss :  0.319  acc :  0.664\n",
      "Epoch :  769  loss :  0.319  acc :  0.664\n",
      "Epoch :  770  loss :  0.319  acc :  0.664\n",
      "Epoch :  771  loss :  0.319  acc :  0.664\n",
      "Epoch :  772  loss :  0.319  acc :  0.664\n",
      "Epoch :  773  loss :  0.319  acc :  0.664\n",
      "Epoch :  774  loss :  0.319  acc :  0.664\n",
      "Epoch :  775  loss :  0.319  acc :  0.664\n",
      "Epoch :  776  loss :  0.319  acc :  0.664\n",
      "Epoch :  777  loss :  0.319  acc :  0.664\n",
      "Epoch :  778  loss :  0.319  acc :  0.664\n",
      "Epoch :  779  loss :  0.319  acc :  0.664\n",
      "Epoch :  780  loss :  0.319  acc :  0.664\n",
      "Epoch :  781  loss :  0.319  acc :  0.664\n",
      "Epoch :  782  loss :  0.319  acc :  0.664\n",
      "Epoch :  783  loss :  0.319  acc :  0.664\n",
      "Epoch :  784  loss :  0.319  acc :  0.664\n",
      "Epoch :  785  loss :  0.319  acc :  0.664\n",
      "Epoch :  786  loss :  0.319  acc :  0.664\n",
      "Epoch :  787  loss :  0.319  acc :  0.664\n",
      "Epoch :  788  loss :  0.319  acc :  0.664\n",
      "Epoch :  789  loss :  0.319  acc :  0.664\n",
      "Epoch :  790  loss :  0.319  acc :  0.664\n",
      "Epoch :  791  loss :  0.319  acc :  0.664\n",
      "Epoch :  792  loss :  0.319  acc :  0.664\n",
      "Epoch :  793  loss :  0.319  acc :  0.664\n",
      "Epoch :  794  loss :  0.319  acc :  0.664\n",
      "Epoch :  795  loss :  0.319  acc :  0.664\n",
      "Epoch :  796  loss :  0.319  acc :  0.664\n",
      "Epoch :  797  loss :  0.319  acc :  0.664\n",
      "Epoch :  798  loss :  0.319  acc :  0.664\n",
      "Epoch :  799  loss :  0.319  acc :  0.664\n",
      "Epoch :  800  loss :  0.319  acc :  0.664\n",
      "Epoch :  801  loss :  0.319  acc :  0.664\n",
      "Epoch :  802  loss :  0.319  acc :  0.664\n",
      "Epoch :  803  loss :  0.319  acc :  0.664\n",
      "Epoch :  804  loss :  0.319  acc :  0.664\n",
      "Epoch :  805  loss :  0.319  acc :  0.664\n",
      "Epoch :  806  loss :  0.319  acc :  0.664\n",
      "Epoch :  807  loss :  0.319  acc :  0.664\n",
      "Epoch :  808  loss :  0.319  acc :  0.664\n",
      "Epoch :  809  loss :  0.319  acc :  0.664\n",
      "Epoch :  810  loss :  0.319  acc :  0.664\n",
      "Epoch :  811  loss :  0.319  acc :  0.664\n",
      "Epoch :  812  loss :  0.319  acc :  0.664\n",
      "Epoch :  813  loss :  0.319  acc :  0.664\n",
      "Epoch :  814  loss :  0.319  acc :  0.664\n",
      "Epoch :  815  loss :  0.319  acc :  0.664\n",
      "Epoch :  816  loss :  0.319  acc :  0.664\n",
      "Epoch :  817  loss :  0.319  acc :  0.664\n",
      "Epoch :  818  loss :  0.319  acc :  0.664\n",
      "Epoch :  819  loss :  0.319  acc :  0.664\n",
      "Epoch :  820  loss :  0.319  acc :  0.664\n",
      "Epoch :  821  loss :  0.319  acc :  0.664\n",
      "Epoch :  822  loss :  0.319  acc :  0.664\n",
      "Epoch :  823  loss :  0.319  acc :  0.664\n",
      "Epoch :  824  loss :  0.319  acc :  0.664\n",
      "Epoch :  825  loss :  0.319  acc :  0.664\n",
      "Epoch :  826  loss :  0.319  acc :  0.664\n",
      "Epoch :  827  loss :  0.319  acc :  0.664\n",
      "Epoch :  828  loss :  0.319  acc :  0.664\n",
      "Epoch :  829  loss :  0.319  acc :  0.664\n",
      "Epoch :  830  loss :  0.319  acc :  0.664\n",
      "Epoch :  831  loss :  0.319  acc :  0.664\n",
      "Epoch :  832  loss :  0.319  acc :  0.664\n",
      "Epoch :  833  loss :  0.319  acc :  0.664\n",
      "Epoch :  834  loss :  0.319  acc :  0.664\n",
      "Epoch :  835  loss :  0.319  acc :  0.664\n",
      "Epoch :  836  loss :  0.319  acc :  0.664\n",
      "Epoch :  837  loss :  0.319  acc :  0.664\n",
      "Epoch :  838  loss :  0.319  acc :  0.664\n",
      "Epoch :  839  loss :  0.319  acc :  0.664\n",
      "Epoch :  840  loss :  0.319  acc :  0.664\n",
      "Epoch :  841  loss :  0.319  acc :  0.664\n",
      "Epoch :  842  loss :  0.319  acc :  0.664\n",
      "Epoch :  843  loss :  0.319  acc :  0.664\n",
      "Epoch :  844  loss :  0.319  acc :  0.664\n",
      "Epoch :  845  loss :  0.319  acc :  0.664\n",
      "Epoch :  846  loss :  0.319  acc :  0.664\n",
      "Epoch :  847  loss :  0.319  acc :  0.664\n",
      "Epoch :  848  loss :  0.319  acc :  0.664\n",
      "Epoch :  849  loss :  0.319  acc :  0.664\n",
      "Epoch :  850  loss :  0.319  acc :  0.664\n",
      "Epoch :  851  loss :  0.319  acc :  0.664\n",
      "Epoch :  852  loss :  0.319  acc :  0.664\n",
      "Epoch :  853  loss :  0.319  acc :  0.664\n",
      "Epoch :  854  loss :  0.319  acc :  0.664\n",
      "Epoch :  855  loss :  0.319  acc :  0.664\n",
      "Epoch :  856  loss :  0.319  acc :  0.664\n",
      "Epoch :  857  loss :  0.319  acc :  0.664\n",
      "Epoch :  858  loss :  0.319  acc :  0.664\n",
      "Epoch :  859  loss :  0.319  acc :  0.664\n",
      "Epoch :  860  loss :  0.319  acc :  0.664\n",
      "Epoch :  861  loss :  0.319  acc :  0.664\n",
      "Epoch :  862  loss :  0.319  acc :  0.664\n",
      "Epoch :  863  loss :  0.319  acc :  0.664\n",
      "Epoch :  864  loss :  0.319  acc :  0.664\n",
      "Epoch :  865  loss :  0.319  acc :  0.664\n",
      "Epoch :  866  loss :  0.319  acc :  0.664\n",
      "Epoch :  867  loss :  0.319  acc :  0.664\n",
      "Epoch :  868  loss :  0.319  acc :  0.664\n",
      "Epoch :  869  loss :  0.319  acc :  0.664\n",
      "Epoch :  870  loss :  0.319  acc :  0.664\n",
      "Epoch :  871  loss :  0.319  acc :  0.664\n",
      "Epoch :  872  loss :  0.319  acc :  0.664\n",
      "Epoch :  873  loss :  0.319  acc :  0.664\n",
      "Epoch :  874  loss :  0.319  acc :  0.664\n",
      "Epoch :  875  loss :  0.319  acc :  0.664\n",
      "Epoch :  876  loss :  0.319  acc :  0.664\n",
      "Epoch :  877  loss :  0.319  acc :  0.664\n",
      "Epoch :  878  loss :  0.319  acc :  0.664\n",
      "Epoch :  879  loss :  0.319  acc :  0.664\n",
      "Epoch :  880  loss :  0.319  acc :  0.664\n",
      "Epoch :  881  loss :  0.319  acc :  0.664\n",
      "Epoch :  882  loss :  0.319  acc :  0.664\n",
      "Epoch :  883  loss :  0.319  acc :  0.664\n",
      "Epoch :  884  loss :  0.319  acc :  0.664\n",
      "Epoch :  885  loss :  0.319  acc :  0.664\n",
      "Epoch :  886  loss :  0.319  acc :  0.664\n",
      "Epoch :  887  loss :  0.319  acc :  0.664\n",
      "Epoch :  888  loss :  0.319  acc :  0.664\n",
      "Epoch :  889  loss :  0.319  acc :  0.664\n",
      "Epoch :  890  loss :  0.319  acc :  0.664\n",
      "Epoch :  891  loss :  0.319  acc :  0.664\n",
      "Epoch :  892  loss :  0.319  acc :  0.664\n",
      "Epoch :  893  loss :  0.319  acc :  0.664\n",
      "Epoch :  894  loss :  0.319  acc :  0.664\n",
      "Epoch :  895  loss :  0.319  acc :  0.664\n",
      "Epoch :  896  loss :  0.319  acc :  0.664\n",
      "Epoch :  897  loss :  0.319  acc :  0.664\n",
      "Epoch :  898  loss :  0.319  acc :  0.664\n",
      "Epoch :  899  loss :  0.319  acc :  0.664\n",
      "Epoch :  900  loss :  0.319  acc :  0.664\n",
      "Epoch :  901  loss :  0.319  acc :  0.664\n",
      "Epoch :  902  loss :  0.319  acc :  0.664\n",
      "Epoch :  903  loss :  0.319  acc :  0.664\n",
      "Epoch :  904  loss :  0.319  acc :  0.664\n",
      "Epoch :  905  loss :  0.319  acc :  0.664\n",
      "Epoch :  906  loss :  0.319  acc :  0.664\n",
      "Epoch :  907  loss :  0.319  acc :  0.664\n",
      "Epoch :  908  loss :  0.319  acc :  0.664\n",
      "Epoch :  909  loss :  0.319  acc :  0.664\n",
      "Epoch :  910  loss :  0.319  acc :  0.664\n",
      "Epoch :  911  loss :  0.319  acc :  0.664\n",
      "Epoch :  912  loss :  0.319  acc :  0.664\n",
      "Epoch :  913  loss :  0.319  acc :  0.664\n",
      "Epoch :  914  loss :  0.319  acc :  0.664\n",
      "Epoch :  915  loss :  0.319  acc :  0.664\n",
      "Epoch :  916  loss :  0.319  acc :  0.664\n",
      "Epoch :  917  loss :  0.319  acc :  0.664\n",
      "Epoch :  918  loss :  0.319  acc :  0.664\n",
      "Epoch :  919  loss :  0.319  acc :  0.664\n",
      "Epoch :  920  loss :  0.319  acc :  0.664\n",
      "Epoch :  921  loss :  0.319  acc :  0.664\n",
      "Epoch :  922  loss :  0.319  acc :  0.664\n",
      "Epoch :  923  loss :  0.319  acc :  0.664\n",
      "Epoch :  924  loss :  0.319  acc :  0.664\n",
      "Epoch :  925  loss :  0.319  acc :  0.664\n",
      "Epoch :  926  loss :  0.319  acc :  0.664\n",
      "Epoch :  927  loss :  0.319  acc :  0.664\n",
      "Epoch :  928  loss :  0.319  acc :  0.664\n",
      "Epoch :  929  loss :  0.319  acc :  0.664\n",
      "Epoch :  930  loss :  0.319  acc :  0.664\n",
      "Epoch :  931  loss :  0.319  acc :  0.664\n",
      "Epoch :  932  loss :  0.319  acc :  0.664\n",
      "Epoch :  933  loss :  0.319  acc :  0.664\n",
      "Epoch :  934  loss :  0.319  acc :  0.664\n",
      "Epoch :  935  loss :  0.319  acc :  0.664\n",
      "Epoch :  936  loss :  0.319  acc :  0.664\n",
      "Epoch :  937  loss :  0.319  acc :  0.664\n",
      "Epoch :  938  loss :  0.319  acc :  0.664\n",
      "Epoch :  939  loss :  0.319  acc :  0.664\n",
      "Epoch :  940  loss :  0.319  acc :  0.664\n",
      "Epoch :  941  loss :  0.319  acc :  0.664\n"
     ]
    },
    {
     "name": "stdout",
     "output_type": "stream",
     "text": [
      "Epoch :  942  loss :  0.319  acc :  0.664\n",
      "Epoch :  943  loss :  0.319  acc :  0.664\n",
      "Epoch :  944  loss :  0.319  acc :  0.664\n",
      "Epoch :  945  loss :  0.319  acc :  0.664\n",
      "Epoch :  946  loss :  0.319  acc :  0.664\n",
      "Epoch :  947  loss :  0.319  acc :  0.664\n",
      "Epoch :  948  loss :  0.319  acc :  0.664\n",
      "Epoch :  949  loss :  0.319  acc :  0.664\n",
      "Epoch :  950  loss :  0.319  acc :  0.664\n",
      "Epoch :  951  loss :  0.319  acc :  0.664\n",
      "Epoch :  952  loss :  0.319  acc :  0.664\n",
      "Epoch :  953  loss :  0.319  acc :  0.664\n",
      "Epoch :  954  loss :  0.319  acc :  0.664\n",
      "Epoch :  955  loss :  0.319  acc :  0.664\n",
      "Epoch :  956  loss :  0.319  acc :  0.664\n",
      "Epoch :  957  loss :  0.319  acc :  0.664\n",
      "Epoch :  958  loss :  0.319  acc :  0.664\n",
      "Epoch :  959  loss :  0.319  acc :  0.664\n",
      "Epoch :  960  loss :  0.319  acc :  0.664\n",
      "Epoch :  961  loss :  0.319  acc :  0.664\n",
      "Epoch :  962  loss :  0.319  acc :  0.664\n",
      "Epoch :  963  loss :  0.319  acc :  0.664\n",
      "Epoch :  964  loss :  0.319  acc :  0.664\n",
      "Epoch :  965  loss :  0.319  acc :  0.664\n",
      "Epoch :  966  loss :  0.319  acc :  0.664\n",
      "Epoch :  967  loss :  0.319  acc :  0.664\n",
      "Epoch :  968  loss :  0.319  acc :  0.664\n",
      "Epoch :  969  loss :  0.319  acc :  0.664\n",
      "Epoch :  970  loss :  0.319  acc :  0.664\n",
      "Epoch :  971  loss :  0.319  acc :  0.664\n",
      "Epoch :  972  loss :  0.319  acc :  0.664\n",
      "Epoch :  973  loss :  0.319  acc :  0.664\n",
      "Epoch :  974  loss :  0.319  acc :  0.664\n",
      "Epoch :  975  loss :  0.319  acc :  0.664\n",
      "Epoch :  976  loss :  0.319  acc :  0.664\n",
      "Epoch :  977  loss :  0.319  acc :  0.664\n",
      "Epoch :  978  loss :  0.319  acc :  0.664\n",
      "Epoch :  979  loss :  0.319  acc :  0.664\n",
      "Epoch :  980  loss :  0.319  acc :  0.664\n",
      "Epoch :  981  loss :  0.319  acc :  0.664\n",
      "Epoch :  982  loss :  0.319  acc :  0.664\n",
      "Epoch :  983  loss :  0.319  acc :  0.664\n",
      "Epoch :  984  loss :  0.319  acc :  0.664\n",
      "Epoch :  985  loss :  0.319  acc :  0.664\n",
      "Epoch :  986  loss :  0.319  acc :  0.664\n",
      "Epoch :  987  loss :  0.319  acc :  0.664\n",
      "Epoch :  988  loss :  0.319  acc :  0.664\n",
      "Epoch :  989  loss :  0.319  acc :  0.664\n",
      "Epoch :  990  loss :  0.319  acc :  0.664\n",
      "Epoch :  991  loss :  0.319  acc :  0.664\n",
      "Epoch :  992  loss :  0.319  acc :  0.664\n",
      "Epoch :  993  loss :  0.319  acc :  0.664\n",
      "Epoch :  994  loss :  0.319  acc :  0.664\n",
      "Epoch :  995  loss :  0.319  acc :  0.664\n",
      "Epoch :  996  loss :  0.319  acc :  0.664\n",
      "Epoch :  997  loss :  0.319  acc :  0.664\n",
      "Epoch :  998  loss :  0.319  acc :  0.664\n",
      "Epoch :  999  loss :  0.319  acc :  0.664\n",
      "Epoch :  1000  loss :  0.319  acc :  0.664\n"
     ]
    }
   ],
   "source": [
    "mlp.fit()"
   ]
  },
  {
   "cell_type": "code",
   "execution_count": 26,
   "id": "dfb5d41c",
   "metadata": {},
   "outputs": [
    {
     "name": "stdout",
     "output_type": "stream",
     "text": [
      "------------------------------------------------------\n",
      "               precision    recall  f1-score   support\n",
      "\n",
      "           0       1.00      0.73      0.84       100\n",
      "           1       0.00      1.00      0.00         0\n",
      "\n",
      "    accuracy                           0.73       100\n",
      "   macro avg       0.50      0.86      0.42       100\n",
      "weighted avg       1.00      0.73      0.84       100\n",
      " \n",
      "------------------------------------------------------\n",
      "\n"
     ]
    }
   ],
   "source": [
    "mlp.predict()"
   ]
  },
  {
   "cell_type": "code",
   "execution_count": 27,
   "id": "9a4b14b1",
   "metadata": {},
   "outputs": [
    {
     "data": {
      "image/png": "[encoded data removed]",
      "text/plain": [
       "<Figure size 1200x300 with 2 Axes>"
      ]
     },
     "metadata": {},
     "output_type": "display_data"
    }
   ],
   "source": [
    "plt.figure(figsize=(12,3))\n",
    "plt.subplot(1,2,2)\n",
    "plt.plot(mlp.L)\n",
    "plt.title('Training Loss')\n",
    "plt.grid()\n",
    "plt.xlabel('Epoches')\n",
    "plt.ylabel('Loss')\n",
    "\n",
    "# adding base condition to get initial accuracy of 0\n",
    "mlp.A.insert(0,0)\n",
    "mlp.validation_accuracy.insert(0,0)\n",
    "\n",
    "plt.subplot(1,2,1)\n",
    "plt.plot(mlp.A,label='Training')\n",
    "plt.plot(mlp.validation_accuracy,label='Validation')\n",
    "plt.title('Accuracy')\n",
    "plt.grid()\n",
    "plt.xlabel('Epoches')\n",
    "plt.ylabel('Accuracy')\n",
    "plt.legend()\n",
    "\n",
    "plt.show()\n",
    "\n"
   ]
  },
  {
   "cell_type": "code",
   "execution_count": null,
   "id": "5db37c26",
   "metadata": {},
   "outputs": [],
   "source": []
  },
  {
   "cell_type": "code",
   "execution_count": null,
   "id": "f2fdda82",
   "metadata": {},
   "outputs": [],
   "source": []
  }
 ],
 "metadata": {
  "kernelspec": {
   "display_name": "Python 3 (ipykernel)",
   "language": "python",
   "name": "python3"
  },
  "language_info": {
   "codemirror_mode": {
    "name": "ipython",
    "version": 3
   },
   "file_extension": ".py",
   "mimetype": "text/x-python",
   "name": "python",
   "nbconvert_exporter": "python",
   "pygments_lexer": "ipython3",
   "version": "3.9.13"
  }
 },
 "nbformat": 4,
 "nbformat_minor": 5
}
