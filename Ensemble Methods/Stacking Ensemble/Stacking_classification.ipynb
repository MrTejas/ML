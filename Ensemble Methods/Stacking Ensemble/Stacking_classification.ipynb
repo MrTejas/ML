{
 "cells": [
  {
   "cell_type": "code",
   "execution_count": 7,
   "id": "a75d4fdd",
   "metadata": {},
   "outputs": [],
   "source": [
    "import numpy as np\n",
    "import pandas as pd\n",
    "import matplotlib.pyplot as plt\n",
    "import pandas as pd\n",
    "from sklearn.model_selection import train_test_split\n",
    "from sklearn.metrics import classification_report\n",
    "from sklearn.metrics import accuracy_score, precision_score, recall_score, f1_score\n",
    "from sklearn.metrics import precision_recall_fscore_support\n",
    "from scipy.special import expit\n",
    "from sklearn.metrics import mean_squared_error, r2_score\n",
    "from scipy.stats import zscore\n",
    "from sklearn.preprocessing import MinMaxScaler\n",
    "from scipy.stats import mode\n",
    "import time\n",
    "from sklearn.tree import DecisionTreeClassifier\n",
    "from sklearn.tree import DecisionTreeRegressor\n",
    "import wandb\n",
    "from sklearn.model_selection import KFold\n"
   ]
  },
  {
   "cell_type": "code",
   "execution_count": 8,
   "id": "ba041167",
   "metadata": {},
   "outputs": [],
   "source": [
    "class MultinomialLogRegression:\n",
    "    \n",
    "    def __init__(self,learning_rate,num_epoch,num_classes, num_features):\n",
    "        self.learning_rate = learning_rate\n",
    "        self.num_epoch = num_epoch\n",
    "        self.loss = []\n",
    "        self.val_acc = []\n",
    "        self.val_prec = []\n",
    "        self.val_rec = []\n",
    "        self.val_f1 = []\n",
    "        self.train_acc = []\n",
    "        self.train_prec = []\n",
    "        self.train_rec = []\n",
    "        self.train_f1 = []\n",
    "        self.num_classes = num_classes\n",
    "        self.num_features = num_features\n",
    "\n",
    "    def printParameters(self):\n",
    "        print('---------------------------------------')\n",
    "        print('Learning Rate  : ',self.learning_rate)\n",
    "        print('Num Epoches    : ',self.num_epoch)\n",
    "        print('Num Features   : ',self.num_features)\n",
    "        print('Num Classes    : ',self.num_classes)\n",
    "        print('---------------------------------------')\n",
    "    \n",
    "    def softmax(self, x):\n",
    "        sm = np.exp(x)/np.sum(np.exp(x),axis=0)\n",
    "        return sm\n",
    "    \n",
    "    def Softmax(self,z):\n",
    "        exp = np.exp(z - np.max(z))\n",
    "        for i in range(len(z)):\n",
    "            exp[i]/=np.sum(exp[i])\n",
    "        return exp\n",
    "    \n",
    "    def oneHotEncoding(self, y):\n",
    "        y_encoded = np.zeros((len(y), self.num_classes))\n",
    "        y_encoded[np.arange(len(y)), y] = 1\n",
    "        return y_encoded\n",
    "    \n",
    "    def crossEntropyLoss(self,y_hat,y):\n",
    "        epsilon = 1e-10\n",
    "        y_hat = np.clip(y_hat, epsilon, 1 - epsilon)\n",
    "        prob = y_hat[np.arange(len(y)), y]\n",
    "        loss = -np.mean(np.log(prob))\n",
    "        return loss            \n",
    "    \n",
    "    def fit(self,X_train,y_train,X_val, y_val):\n",
    "        X = X_train\n",
    "        y = y_train\n",
    "        y_one_hot = self.oneHotEncoding(y)\n",
    "        \n",
    "        self.w = np.random.random((self.num_features,self.num_classes))\n",
    "        self.b = np.random.random(self.num_classes)\n",
    "        \n",
    "        # gradient descent on w and b\n",
    "        for epoch in range(self.num_epoch):\n",
    "            y_hat = self.Softmax(X@self.w + self.b)\n",
    "            del_w = np.dot(X.T,(y_hat-y_one_hot))\n",
    "            del_b = np.sum(y_hat-y_one_hot)\n",
    "            \n",
    "            self.w = self.w - self.learning_rate*del_w\n",
    "            self.b = self.b - self.learning_rate*del_b\n",
    "            \n",
    "            l = self.crossEntropyLoss(y_hat,y)\n",
    "            self.loss.append(l)\n",
    "#             wandb.log({\"loss\": l, \"epoch\": epoch}) \n",
    "            \n",
    "            \n",
    "            # storing validation accuracy and loss (and other metrics)\n",
    "            self.validate(X_val,y_val)\n",
    "            \n",
    "            # storing training accuracy and loss\n",
    "            y_hat = self.Softmax(X_train@self.w + self.b)\n",
    "            y_pred_train = np.argmax(y_hat,axis=1)\n",
    "            acc = accuracy_score(y_train, y_pred_train)\n",
    "            precision, recall, f1, _ = precision_recall_fscore_support(y_train, y_pred_train, average='weighted', zero_division=1)\n",
    "            self.train_acc.append(acc)\n",
    "            self.train_prec.append(precision)\n",
    "            self.train_rec.append(recall)\n",
    "            self.train_f1.append(f1)\n",
    "            \n",
    "            \n",
    "#             wandb.log({\"Train Accuracy\": acc, \"epoch\": epoch}) \n",
    "#             wandb.log({\"accuracy\": acc, \"loss\": l})\n",
    "            # if (epoch % (self.num_epoch//10)) ==0:\n",
    "            #     print('Epoch : ',epoch,' Loss : ',l)\n",
    "            \n",
    "        \n",
    "    def validate(self,X_val, y_val):\n",
    "        y_hat = self.Softmax(X_val@self.w + self.b)\n",
    "        y_pred_val = np.argmax(y_hat,axis=1)\n",
    "        # uncomment this to print classification report after each validation\n",
    "        # print(classification_report(self.y_val, y_pred_val,zero_division=1))\n",
    "    \n",
    "        acc = accuracy_score(y_val, y_pred_val)\n",
    "        precision, recall, f1, _ = precision_recall_fscore_support(y_val, y_pred_val, average='weighted', zero_division=1)\n",
    "\n",
    "        self.val_acc.append(acc)\n",
    "        self.val_prec.append(precision)\n",
    "        self.val_rec.append(recall)\n",
    "        self.val_f1.append(f1)\n",
    "\n",
    "    def predict(self,X_test,y_test, X_val,y_val):\n",
    "        y_hat = self.Softmax(X_test@self.w + self.b)\n",
    "        self.y_pred = np.argmax(y_hat,axis=1)\n",
    "        cr = classification_report(self.y_pred, y_test, zero_division=1)\n",
    "        # print(cr)\n",
    "        return self.y_pred,y_hat,cr\n",
    "#         print('Test Accuracy : ',round(accuracy_score(self.y_test, self.y_pred),3))\n",
    "#         precision, recall, f1, _ = precision_recall_fscore_support(self.y_test, self.y_pred, average='weighted', zero_division=1)\n",
    "#         print('Precision     : ',round(precision,3))\n",
    "#         print('Recall        : ',round(recall,3))\n",
    "#         print('f1 score      : ',round(f1,3))\n",
    "\n",
    "        \n",
    "\n",
    "        \n",
    "        "
   ]
  },
  {
   "cell_type": "code",
   "execution_count": 9,
   "id": "485f8115",
   "metadata": {},
   "outputs": [],
   "source": [
    "class LinearRegressor:\n",
    "    def __init__(self):\n",
    "        self.coefficients = None\n",
    "        self.intercept = None\n",
    "        self.confidence_metric = None\n",
    "\n",
    "    def fit(self, X_train, y_train):\n",
    "        # Add a bias term to the input features\n",
    "        X_train_bias = np.c_[np.ones((X_train.shape[0], 1)), X_train]\n",
    "\n",
    "        # Compute the coefficients using the normal equation\n",
    "        self.coefficients = np.linalg.inv(X_train_bias.T.dot(X_train_bias)).dot(X_train_bias.T).dot(y_train)\n",
    "\n",
    "        # Extract the intercept and coefficients\n",
    "        self.intercept = self.coefficients[0]\n",
    "        self.coefficients = self.coefficients[1:]\n",
    "\n",
    "    def predict(self, X,y):\n",
    "        # Add a bias term to the input features\n",
    "        X_bias = np.c_[np.ones((X.shape[0], 1)), X]\n",
    "\n",
    "        # Predict the target values\n",
    "        predictions = X_bias.dot(np.insert(self.coefficients, 0, self.intercept))\n",
    "\n",
    "        return predictions\n",
    "\n",
    "    def compute_confidence_metric(self, X_val, y_val):\n",
    "        # Check for NaN values in input features or target values\n",
    "        if np.isnan(np.sum(X_val)) or np.isnan(np.sum(y_val)):\n",
    "            self.confidence_metric = np.nan\n",
    "        else:\n",
    "            # Use the validation set to compute a performance metric\n",
    "            predictions = self.predict(X_val,y_val)\n",
    "\n",
    "            # Calculate Mean Squared Error as a performance metric\n",
    "            mse = np.mean((y_val - predictions) ** 2)\n",
    "\n",
    "            # Confidence metric is the inverse of MSE (higher confidence for lower MSE)\n",
    "            self.confidence_metric = 1 / (1 + mse)\n",
    "\n",
    "        return self.confidence_metric\n",
    "\n",
    "    def plot_predictions_vs_actual(self,predictions, actual, title=\"Predictions vs Actual\"):\n",
    "        \"\"\"\n",
    "        Plot predictions and actual values on the same graph as a line plot.\n",
    "\n",
    "        Parameters:\n",
    "        - predictions: Numpy array of predicted values\n",
    "        - actual: Numpy array of actual values\n",
    "        - title: Title of the plot (default is \"Predictions vs Actual\")\n",
    "        \"\"\"\n",
    "        plt.figure(figsize=(10, 6))\n",
    "        plt.plot(predictions, label='Predictions', marker='o')\n",
    "        plt.plot(actual, label='Actual', marker='x')\n",
    "        plt.title(title)\n",
    "        plt.xlabel('Sample Index')\n",
    "        plt.ylabel('Values')\n",
    "        plt.legend()\n",
    "        plt.show()\n"
   ]
  },
  {
   "cell_type": "code",
   "execution_count": 10,
   "id": "e189966f",
   "metadata": {},
   "outputs": [],
   "source": [
    "class MLP_Classifier:\n",
    "    \n",
    "    def __init__(self,layer_sizes, batch_size, num_epoches, learning_rate, activation_function, optimization):\n",
    "        self.layer_sizes = layer_sizes # number of neurons in each layer\n",
    "        self.num_layers = len(self.layer_sizes) # total number of layers\n",
    "        self.batch_size = batch_size # only for mini-batch gradient descent\n",
    "        self.epoches = num_epoches\n",
    "        self.learning_rate = learning_rate\n",
    "        self.activation_function = activation_function\n",
    "        self.optimization = optimization\n",
    "        \n",
    "        # initializing weights (needed once only)\n",
    "        self.initialize_weights()\n",
    "        \n",
    "        # validation loss and acc\n",
    "        self.validation_loss = []\n",
    "        self.validation_accuracy = []\n",
    "        \n",
    "        # training loss and acc\n",
    "        self.L = []\n",
    "        self.A = []\n",
    "        \n",
    "        # print('Initialized values successfully!')\n",
    "    \n",
    "    def printParameters(self):\n",
    "        print('-----------------------------------------------')\n",
    "        print('Number of Layers       : ',self.num_layers)\n",
    "        print('Layer sizes            : ',self.layer_sizes)\n",
    "        print('Batch size             : ',self.batch_size)\n",
    "        print('Activation Function    : ',self.activation_function)\n",
    "        print('Optimization Method    : ',self.optimization)\n",
    "        print('Learning Rate          : ',self.learning_rate)\n",
    "        print('Num Epoches            : ',self.epoches)\n",
    "        print('-----------------------------------------------')\n",
    "\n",
    "    \n",
    "    # loads the dataframe into the class\n",
    "    def loadData(self,df):\n",
    "        self.num_features = df.shape[1]-1\n",
    "        self.num_classes = df.iloc[:, -1].nunique()\n",
    "        # print('Loaded Dataframe!')\n",
    "\n",
    "        \n",
    "    # returns the one-hot encoded version of a given vector\n",
    "    def oneHotEncoding(self, y):\n",
    "        y_encoded = np.zeros((len(y), self.num_classes))\n",
    "        y_encoded[np.arange(len(y)), y] = 1\n",
    "        return y_encoded\n",
    "    \n",
    "    def categorical(self,x):  \n",
    "        # Transform probabilities into categorical predictions row-wise, by simply taking the max probability\n",
    "        categorical = np.argmax(x,axis=1)\n",
    "        return categorical\n",
    "\n",
    "# defining activation functions and their derivatives\n",
    "#--------------------------------------------------------------------------------------------\n",
    "\n",
    "    # SIGMOID\n",
    "    def sigmoid(self,z):\n",
    "        val = 1/(1+np.exp(-z))\n",
    "        return val\n",
    "    def sigmoid_prime(self,h):\n",
    "        # Compute the derivative of sigmoid where h=sigmoid(x)\n",
    "        return h*(1-h)\n",
    "    \n",
    "    # ReLU \n",
    "    def ReLU(self, z):\n",
    "        ret = np.maximum(z, 0)\n",
    "        if ret.shape!=z.shape:\n",
    "            print('whaat??')\n",
    "        return ret\n",
    "    def ReLU_prime(self, h):\n",
    "        return np.where(h >= 0, 1, 0)\n",
    "    \n",
    "    # tanh\n",
    "    def hyperbolic_tan(self, z):\n",
    "#         val = (2/(np.exp(-2*z)+1)) -1\n",
    "        val = expit(2 * z) - 1\n",
    "\n",
    "        return val\n",
    "    def hyperbolic_tan_prime(self, h):\n",
    "        return 1-h**2\n",
    "    \n",
    "    # linear (can change slope and intercept)\n",
    "    def linear(self, z):\n",
    "        return z\n",
    "    def linear_prime(self,h):\n",
    "        return 1\n",
    "    \n",
    "#-----------------activation function for last layer (output) -------------------------------\n",
    "\n",
    "    def softmax(self,z):\n",
    "        ar = np.exp(z-np.max(z))\n",
    "        return ar/ar.sum(axis=1,keepdims=True)\n",
    "#         exp = np.exp(z - np.max(z))\n",
    "#         for i in range(len(z)):\n",
    "#             exp[i]/=np.sum(exp[i])\n",
    "#         return exp\n",
    "    \n",
    "\n",
    "\n",
    "#---------------------------------------------------------------------------------------------\n",
    "\n",
    "    def activation(self,z):\n",
    "        if z.any()>=1e2:\n",
    "            print('z = ',z)\n",
    "        if self.activation_function=='sigmoid':\n",
    "            return self.sigmoid(z)\n",
    "        elif self.activation_function=='ReLU':\n",
    "            return self.ReLU(z)\n",
    "        elif self.activation_function=='tanh':\n",
    "            return self.hyperbolic_tan(z)\n",
    "        elif self.activation_function=='linear':\n",
    "            return self.linear(z)\n",
    "        else:\n",
    "            raise ValueError(\"Invalid Activation function\")\n",
    "\n",
    "    def activation_prime(self,h):\n",
    "        if self.activation_function=='sigmoid':\n",
    "            return self.sigmoid_prime(h)\n",
    "        elif self.activation_function=='ReLU':\n",
    "            return self.ReLU_prime(h)\n",
    "        elif self.activation_function=='tanh':\n",
    "            return self.hyperbolic_tan_prime(h)\n",
    "        elif self.activation_function=='linear':\n",
    "            return self.linear_prime(h)\n",
    "        else:\n",
    "            raise ValueError(\"Invalid Activation function\")\n",
    "\n",
    "#---------------------------------------------------------------------------------------------\n",
    "\n",
    "\n",
    "    def loss(self, y_hat, y):\n",
    "        epsilon = 1e-7\n",
    "        y_hat = y_hat + epsilon\n",
    "        # adding small value to avoid underflow\n",
    "        # Compute the loss along the rows, averaging along the number of samples\n",
    "        return ((-np.log(y_hat))*y).mean()\n",
    "    \n",
    "    def accuracy(self, y_hat, y):  \n",
    "        # Compute the accuracy along the rows, averaging along the number of samples\n",
    "        return np.sum(y_hat==(y))/len(y_hat)\n",
    "\n",
    "\n",
    "    \n",
    "    def initialize_weights(self):\n",
    "        self.weights = []\n",
    "        #weights[i] is a m,n matrix giving weight connecting the i and i+1th layer\n",
    "        \n",
    "        min_weight = -1\n",
    "        max_weight = 1\n",
    "        for i in range(self.num_layers-1):\n",
    "            sz = [self.layer_sizes[i],self.layer_sizes[i+1]]\n",
    "            wt = np.random.uniform(min_weight,max_weight,size=sz)\n",
    "            self.weights.append(wt)\n",
    "        \n",
    "#         self.weights = np.asarray(self.weights)\n",
    "        \n",
    "    def initialize_layers(self,batch_size):\n",
    "        self.hidden_layers = [np.ones((batch_size,layer_size)) for layer_size in self.layer_sizes]\n",
    "        \n",
    "    # takes in a batch of data (num_samples x num_features) and applies feed-forward on it\n",
    "    def feedforward(self, batch):\n",
    "        current_layer = batch\n",
    "        self.hidden_layers[0] = batch\n",
    "        \n",
    "        # next_layer = activation(weights . current_leyer) and storing while feed-forward\n",
    "        for i,weights in enumerate(self.weights):\n",
    "            current_layer = self.activation(np.dot(current_layer,weights))\n",
    "            self.hidden_layers[i+1] = current_layer\n",
    "            \n",
    "        # softmax of the last layer is the output layer\n",
    "        self.output_layer = self.softmax(self.hidden_layers[-1])\n",
    "        \n",
    "    # goes from the last layer to the 1st layer updating weights according to GD\n",
    "    def backpropogation(self, y):\n",
    "        y = self.oneHotEncoding(y)\n",
    "        # evaluating the last layer error : del\n",
    "        del_t = -(y - self.output_layer)*self.activation_prime(self.hidden_layers[-1])\n",
    "        \n",
    "        for i in range(1,self.num_layers):\n",
    "            # calculating the gradient of weights and applying gradient-descent\n",
    "            dJ_dW = np.dot(self.hidden_layers[-i-1].T,del_t)/self.batch_size\n",
    "            self.weights[-i] = self.weights[-i] - self.learning_rate * dJ_dW\n",
    "            # updating the error for the next layer \n",
    "            del_t = np.dot(del_t,self.weights[-i].T)*self.activation_prime(self.hidden_layers[-i-1])\n",
    "                    \n",
    "    def validate(self,X_val,y_val):\n",
    "        n,m = X_val.shape[0:2]\n",
    "        self.initialize_layers(batch_size=n)\n",
    "        self.feedforward(X_val)\n",
    "        val_loss = self.loss(self.output_layer,self.oneHotEncoding(y_val))\n",
    "        val_acc = self.accuracy(self.categorical(self.output_layer),y_val)\n",
    "        self.validation_loss.append(val_loss)\n",
    "        self.validation_accuracy.append(val_acc)\n",
    "        \n",
    "    def mini_batch_GD(self,X_train,y_train):\n",
    "            self.initialize_layers(self.batch_size)\n",
    "            loss_sum = 0\n",
    "            accuracy_sum = 0\n",
    "            \n",
    "            # calculating the total number of batches (acc to batch sizee)\n",
    "            num_batches = X_train.shape[0]/self.batch_size\n",
    "            ind = np.random.permutation(X_train.shape[0])\n",
    "            \n",
    "            # splitting the X_train, Y_train into batches\n",
    "            X_batches = np.array_split(X_train[ind], num_batches)\n",
    "            Y_batches = np.array_split(y_train[ind], num_batches)\n",
    "            data_batches = zip(X_batches,Y_batches)\n",
    "            \n",
    "            # performing feed-forward -> saving training loss and accuracy -> back-propogation\n",
    "            for data_x, data_y in data_batches:\n",
    "                self.feedforward(data_x)\n",
    "                loss_sum = loss_sum + self.loss(self.output_layer,self.oneHotEncoding(data_y))\n",
    "                accuracy_sum = accuracy_sum + self.accuracy(self.categorical(self.output_layer),data_y)\n",
    "                self.backpropogation(data_y)\n",
    "            \n",
    "            loss_train = loss_sum/num_batches\n",
    "            acc_train = accuracy_sum/num_batches\n",
    "            \n",
    "            return loss_train, acc_train\n",
    "        \n",
    "    def batch_GD(self,X_train,y_train):\n",
    "        self.batch_size = X_train.shape[0]\n",
    "        loss_train, acc_train = self.mini_batch_GD(X_train,y_train)\n",
    "        return loss_train, acc_train\n",
    "        \n",
    "    def SGD(self,X_train,y_train):\n",
    "        self.batch_size = 1\n",
    "        loss_train, acc_train = self.mini_batch_GD(X_train,y_train)\n",
    "        return loss_train, acc_train\n",
    "    \n",
    "    # general method for optimization (batch/mini-batch/SGD)\n",
    "    def optimize(self,X_train,y_train):\n",
    "        if self.optimization=='mini-batch':\n",
    "            return self.mini_batch_GD(X_train,y_train)\n",
    "        elif self.optimization=='batch':\n",
    "            return self.batch_GD(X_train,y_train)\n",
    "        elif self.optimization=='SGD':\n",
    "            return self.SGD(X_train,y_train)\n",
    "    \n",
    "    def fit(self,X_train,y_train,X_val,y_val):\n",
    "        for epoch in range(self.epoches):\n",
    "            # Gradient Descent\n",
    "            loss_train, acc_train = self.optimize(X_train,y_train)\n",
    "            \n",
    "            # calculating accuracy and loss for current epoch and saving them\n",
    "            self.L.append(loss_train)\n",
    "            self.A.append(acc_train)\n",
    "            \n",
    "            # testing the current model on validation set and saving the loss and accuracy\n",
    "            self.validate(X_val,y_val)\n",
    "            # if (epoch%(self.epoches//10)==0):\n",
    "                # print('Epoch : ',epoch+1,' loss : ',loss_train.round(3),' acc : ',acc_train.round(3))\n",
    "#             wandb.log({\"acc\": acc_train.round(3), \"loss\": loss_train.round(3)})\n",
    "            \n",
    "            \n",
    "    def predict(self,X_test,y_test,X_val,y_val):\n",
    "        self.feedforward(X_test)\n",
    "        cr = classification_report(self.categorical(self.output_layer),y_test,zero_division=1)\n",
    "        self.predictions = self.categorical(self.output_layer)\n",
    "        # print(self.predictions)\n",
    "        # print(self.output_layer)\n",
    "        return self.predictions,self.output_layer,cr\n",
    "        # return self.predictions,cr\n",
    "        # print('------------------------------------------------------\\n',cr,'\\n------------------------------------------------------\\n')\n",
    "\n",
    "                "
   ]
  },
  {
   "cell_type": "code",
   "execution_count": 11,
   "id": "ff3023b2",
   "metadata": {},
   "outputs": [],
   "source": [
    "class MLP_Regressor:\n",
    "    \n",
    "    def __init__(self,layer_sizes, batch_size, num_epoches, learning_rate, activation_function, optimization):\n",
    "        self.layer_sizes = layer_sizes # number of neurons in each layer\n",
    "        self.num_layers = len(self.layer_sizes) # total number of layers\n",
    "        self.batch_size = batch_size # only for mini-batch gradient descent\n",
    "        self.epoches = num_epoches\n",
    "        self.learning_rate = learning_rate\n",
    "        self.activation_function = activation_function\n",
    "        self.optimization = optimization\n",
    "        \n",
    "        # initializing weights (needed once only)\n",
    "        self.initialize_weights()\n",
    "        \n",
    "        # validation loss and acc\n",
    "        self.validation_loss = []\n",
    "        self.validation_accuracy = []\n",
    "        \n",
    "        # training loss and acc\n",
    "        self.L = []\n",
    "        self.A = []\n",
    "        \n",
    "        # print('Initialized values successfully!')\n",
    "    \n",
    "    def printParameters(self):\n",
    "        print('-----------------------------------------------')\n",
    "        print('Number of Layers          : ',self.num_layers)\n",
    "        print('Layer sizes               : ',self.layer_sizes)\n",
    "        print('Batch size(if mini-batch) : ',self.batch_size)\n",
    "        print('Activation Function       : ',self.activation_function)\n",
    "        print('Optimization Method       : ',self.optimization)\n",
    "        print('Learning Rate             : ',self.learning_rate)\n",
    "        print('Num Epoches               : ',self.epoches)\n",
    "        print('-----------------------------------------------')\n",
    "\n",
    "    \n",
    "    # loads the dataframe into the class\n",
    "    def loadData(self,df):\n",
    "        self.num_features = df.shape[1]-1\n",
    "        self.num_classes = df.iloc[:, -1].nunique()\n",
    "        self.df = df\n",
    "        # print('Loaded Dataframe!')\n",
    "\n",
    "    # splits the dataframe loaded into train, validation and test sets\n",
    "    # def splitData(self,train_fraction,normalize):\n",
    "    #     X = df.iloc[:, :-1].values\n",
    "        \n",
    "    #     # Replace NaN values with the constant k\n",
    "    #     nan_mask = np.isnan(X)\n",
    "    #     k = 0\n",
    "    #     X[nan_mask] = k\n",
    "\n",
    "    #     if normalize:\n",
    "    #         mean = np.mean(X, axis=0)\n",
    "    #         std = np.std(X, axis=0)\n",
    "    #         X = (X - mean) / std\n",
    "    #     y = df.iloc[:, -1].values\n",
    "        \n",
    "\n",
    "    #     self.X_train, X_temp, self.y_train, y_temp = train_test_split(X, y, test_size=1-train_fraction, random_state=42)\n",
    "    #     self.X_val, self.X_test, self.y_val, self.y_test = train_test_split(X_temp, y_temp, test_size=0.5, random_state=42)\n",
    "    #     print('Splitted data into train, test and val sets!')\n",
    "        \n",
    "        \n",
    "    # returns the one-hot encoded version of a given vector\n",
    "    def oneHotEncoding(self, y):\n",
    "        return y\n",
    "        y_encoded = np.zeros((len(y), self.num_classes))\n",
    "        y_encoded[np.arange(len(y)), y] = 1\n",
    "        return y_encoded\n",
    "    \n",
    "    def categorical(self,x):  \n",
    "        return x\n",
    "    \n",
    "        # Transform probabilities into categorical predictions row-wise, by simply taking the max probability\n",
    "        categorical = np.argmax(x,axis=1)\n",
    "        return categorical\n",
    "\n",
    "# defining activation functions and their derivatives\n",
    "#--------------------------------------------------------------------------------------------\n",
    "\n",
    "    # SIGMOID\n",
    "    def sigmoid(self,z):\n",
    "        val = 1/(1+np.exp(-z))\n",
    "        return val\n",
    "    \n",
    "    def sigmoid_prime(self,h):\n",
    "        # Compute the derivative of sigmoid where h=sigmoid(x)\n",
    "        return h*(1-h)\n",
    "    \n",
    "    # ReLU \n",
    "    def ReLU(self, z):\n",
    "        ret = np.maximum(z, 0)\n",
    "        if ret.shape!=z.shape:\n",
    "            print('whaat??')\n",
    "        return ret\n",
    "    def ReLU_prime(self, h):\n",
    "        return np.where(h >= 0, 1, 0)\n",
    "    \n",
    "    # tanh\n",
    "    def hyperbolic_tan(self, z):\n",
    "        val = (2/(np.exp(-2*z)+1)) -1\n",
    "        val = expit(2 * z) - 1\n",
    "        return val\n",
    "    \n",
    "    def hyperbolic_tan_prime(self, h):\n",
    "        return 1-h**2\n",
    "    \n",
    "    # linear (can change slope and intercept)\n",
    "    def linear(self, z):\n",
    "        return z\n",
    "    def linear_prime(self,h):\n",
    "        return 1\n",
    "    \n",
    "#-----------------activation function for last layer (output) -------------------------------\n",
    "\n",
    "\n",
    "\n",
    "#---------------------------------------------------------------------------------------------\n",
    "\n",
    "    def activation(self,z):\n",
    "        if self.activation_function=='sigmoid':\n",
    "            return self.sigmoid(z)\n",
    "        elif self.activation_function=='ReLU':\n",
    "            return self.ReLU(z)\n",
    "        elif self.activation_function=='tanh':\n",
    "            return self.hyperbolic_tan(z)\n",
    "        elif self.activation_function=='linear':\n",
    "            return self.linear(z)\n",
    "        else:\n",
    "            raise ValueError(\"Invalid Activation function\")\n",
    "\n",
    "    def activation_prime(self,h):\n",
    "        if self.activation_function=='sigmoid':\n",
    "            return self.sigmoid_prime(h)\n",
    "        elif self.activation_function=='ReLU':\n",
    "            return self.ReLU_prime(h)\n",
    "        elif self.activation_function=='tanh':\n",
    "            return self.hyperbolic_tan_prime(h)\n",
    "        elif self.activation_function=='linear':\n",
    "            return self.linear_prime(h)\n",
    "        else:\n",
    "            raise ValueError(\"Invalid Activation function\")\n",
    "\n",
    "#---------------------------------------------------------------------------------------------\n",
    "\n",
    "\n",
    "    def loss(self, y_hat, y):\n",
    "        y = y.reshape(-1,1)\n",
    "        return np.sum((y_hat-y)**2)\n",
    "    \n",
    "    def accuracy(self, y_hat, y):  \n",
    "        nan_mask = np.isnan(y)\n",
    "        k = 0\n",
    "        y[nan_mask] = k\n",
    "        nan_mask = np.isnan(y_hat)\n",
    "        k = 0\n",
    "        y_hat[nan_mask] = k\n",
    "        \n",
    "\n",
    "        mse = mean_squared_error(y_hat, y)\n",
    "        return mse\n",
    "\n",
    "\n",
    "    def initialize_weights(self):\n",
    "        self.weights = []\n",
    "        #weights[i] is a m,n matrix giving weight connecting the i and i+1th layer\n",
    "        \n",
    "        mean_weight = 0  # Mean of the normal distribution\n",
    "        std_dev_weight = 1  # Standard deviation of the normal distribution\n",
    "        min_weight = -1\n",
    "        max_weight = 1\n",
    "        for i in range(self.num_layers-1):\n",
    "            sz = [self.layer_sizes[i],self.layer_sizes[i+1]]\n",
    "            wt = np.random.normal(mean_weight, std_dev_weight, size=sz)\n",
    "\n",
    "            self.weights.append(wt)\n",
    "        \n",
    "    def initialize_layers(self,batch_size):\n",
    "        self.hidden_layers = [np.ones((batch_size,layer_size)) for layer_size in layer_sizes]\n",
    "        \n",
    "    # takes in a batch of data (num_samples x num_features) and applies feed-forward on it\n",
    "    def feedforward(self, batch):\n",
    "        current_layer = batch\n",
    "        self.hidden_layers[0] = batch\n",
    "\n",
    "        for i,weights in enumerate(self.weights):\n",
    "            current_layer = self.activation(np.dot(current_layer,weights))\n",
    "\n",
    "            self.hidden_layers[i+1] = current_layer\n",
    "            \n",
    "        # last layer is the output layer\n",
    "        self.output_layer = (self.hidden_layers[-1])\n",
    "        \n",
    "    # goes from the last layer to the 1st layer updating weights according to GD\n",
    "    def backpropogation(self, y):\n",
    "        # evaluating the last layer error : del\n",
    "        y = y.reshape(-1, 1)\n",
    "        del_t = -(y - self.output_layer)\n",
    "        for i in range(1,self.num_layers):\n",
    "            # calculating the gradient of weights and applying gradient-descent\n",
    "            dJ_dW = np.dot(self.hidden_layers[-i-1].T,del_t)/self.batch_size\n",
    "            self.weights[-i] = self.weights[-i] - self.learning_rate * dJ_dW\n",
    "            # updating the error for the next layer \n",
    "            del_t = np.dot(del_t,self.weights[-i].T)*self.activation_prime(self.hidden_layers[-i-1])\n",
    "                    \n",
    "    def validate(self,X_val,y_val):\n",
    "        n,m = X_val.shape[0:2]\n",
    "        self.initialize_layers(batch_size=n)\n",
    "        self.feedforward(X_val)\n",
    "        val_loss = self.loss(self.output_layer,y_val)\n",
    "        val_acc = self.accuracy(self.categorical(self.output_layer),y_val)\n",
    "        self.validation_loss.append(val_loss)\n",
    "        self.validation_accuracy.append(val_acc)\n",
    "        \n",
    "    def mini_batch_GD(self,X_train,y_train,X_val,y_val):\n",
    "            self.initialize_layers(self.batch_size)\n",
    "            loss_sum = 0\n",
    "            accuracy_sum = 0\n",
    "            \n",
    "            # calculating the total number of batches (acc to batch sizee)\n",
    "            num_batches = X_train.shape[0]/self.batch_size\n",
    "            ind = np.random.permutation(X_train.shape[0])\n",
    "            \n",
    "            \n",
    "            # splitting the X_train, Y_train into batches\n",
    "            X_batches = np.array_split(X_train[ind], num_batches)\n",
    "            Y_batches = np.array_split(y_train[ind], num_batches)\n",
    "            data_batches = zip(X_batches,Y_batches)\n",
    "            \n",
    "            # performing feed-forward -> saving training loss and accuracy -> back-propogation\n",
    "            for data_x, data_y in data_batches:\n",
    "                self.feedforward(data_x)\n",
    "\n",
    "                loss_sum = loss_sum + self.loss(self.output_layer,data_y)\n",
    "                accuracy_sum = accuracy_sum + self.accuracy(self.categorical(self.output_layer),data_y)\n",
    "                self.backpropogation(data_y)\n",
    "            \n",
    "            loss_train = loss_sum/num_batches\n",
    "            acc_train = accuracy_sum/num_batches\n",
    "            \n",
    "            return loss_train, acc_train\n",
    "        \n",
    "    def batch_GD(self,X_train,y_train,X_val,y_val):\n",
    "        self.batch_size = X_train.shape[0]\n",
    "        loss_train, acc_train = self.mini_batch_GD(X_train,y_train,X_val,y_val)\n",
    "        return loss_train, acc_train\n",
    "        \n",
    "    def SGD(self,X_train,y_train,X_val,y_val):\n",
    "        self.batch_size = 1\n",
    "        loss_train, acc_train = self.mini_batch_GD(X_train,y_train,X_val,y_val)\n",
    "        return loss_train, acc_train\n",
    "    \n",
    "    # general method for optimization (batch/mini-batch/SGD)\n",
    "    def optimize(self,X_train,y_train,X_val,y_val):\n",
    "        if self.optimization=='mini-batch':\n",
    "            return self.mini_batch_GD(X_train,y_train,X_val,y_val)\n",
    "        elif self.optimization=='batch':\n",
    "            return self.batch_GD(X_train,y_train,X_val,y_val)\n",
    "        elif self.optimization=='SGD':\n",
    "            return self.SGD(X_train,y_train,X_val,y_val)\n",
    "    \n",
    "    def fit(self,X_train,y_train,X_val,y_val):\n",
    "        for epoch in range(self.epoches):\n",
    "            # Gradient Descent\n",
    "            loss_train, acc_train = self.optimize(X_train,y_train,X_val,y_val)\n",
    "            \n",
    "            # calculating accuracy and loss for current epoch and saving them\n",
    "            self.L.append(loss_train)\n",
    "            self.A.append(acc_train)\n",
    "            \n",
    "            # testing the current model on validation set and saving the loss and accuracy\n",
    "            self.validate(X_val,y_val)\n",
    "            # if (epoch%(0.1*self.epoches)==0):\n",
    "            #     print('Epoch : ',epoch+1,' loss : ',loss_train.round(3),' acc : ',acc_train.round(3))\n",
    "\n",
    "\n",
    "    def compute_confidence_metric(self,X_val,y_val):\n",
    "        # y_val = y_val.reshape(-1,1)\n",
    "        self.feedforward(X_val)\n",
    "        predictions = self.output_layer\n",
    "        mse = np.mean((y_val - predictions) ** 2)\n",
    "        # Confidence metric is the inverse of MSE (higher confidence for lower MSE)\n",
    "        self.confidence_metric = 1 / (1 + mse)\n",
    "        return self.confidence_metric\n",
    "\n",
    "            \n",
    "    def predict(self,X_test,y_test):\n",
    "        # y_test = y_test.reshape(-1,1)\n",
    "        self.feedforward(X_test)\n",
    "        \n",
    "        # plt.plot(self.output_layer,label='Predicted')\n",
    "        # plt.plot(self.y_test,label='Ground Truth')\n",
    "        # plt.title('Predicted Values vs Ground Truth')\n",
    "        # plt.grid()\n",
    "        # plt.xlabel('Sample')\n",
    "        # plt.ylabel('Value')\n",
    "        # plt.legend()\n",
    "        # plt.show()\n",
    "        \n",
    "        output_layer = self.output_layer\n",
    "        return output_layer\n",
    "        \n",
    "        # print('--------------------------------------------------------------------------------')\n",
    "        \n",
    "        # # Calculate Mean Squared Error (MSE)\n",
    "        # mse = mean_squared_error(y_test, output_layer)\n",
    "        # print(f'Mean Squared Error (MSE)                 : {mse:.2f}')\n",
    "\n",
    "        # # Calculate Root Mean Squared Error (RMSE)\n",
    "        # rmse = np.sqrt(mse)\n",
    "        # print(f'Root Mean Squared Error (RMSE)           : {rmse:.2f}')\n",
    "\n",
    "        # # Calculate R-squared (Coefficient of Determination)\n",
    "        # r_squared = r2_score(y_test, output_layer)\n",
    "        # print(f'R-squared (Coefficient of Determination) : {r_squared:.2f}')\n",
    "        \n",
    "        # print('--------------------------------------------------------------------------------')\n",
    "        \n",
    "    def plot_predictions_vs_actual(self,predictions, actual, title=\"Predictions vs Actual\"):\n",
    "        \"\"\"\n",
    "        Plot predictions and actual values on the same graph as a line plot.\n",
    "\n",
    "        Parameters:\n",
    "        - predictions: Numpy array of predicted values\n",
    "        - actual: Numpy array of actual values\n",
    "        - title: Title of the plot (default is \"Predictions vs Actual\")\n",
    "        \"\"\"\n",
    "        plt.figure(figsize=(10, 6))\n",
    "        plt.plot(predictions, label='Predictions', marker='o')\n",
    "        plt.plot(actual, label='Actual', marker='x')\n",
    "        plt.title(title)\n",
    "        plt.xlabel('Sample Index')\n",
    "        plt.ylabel('Values')\n",
    "        plt.legend()\n",
    "        plt.show()\n",
    "\n"
   ]
  },
  {
   "cell_type": "code",
   "execution_count": 12,
   "id": "03f64175",
   "metadata": {},
   "outputs": [],
   "source": [
    "class MyDecisionTreeClassifier:\n",
    "    def __init__(self, **kwargs):\n",
    "        \"\"\"\n",
    "        Initialize the Decision Tree Classifier.\n",
    "\n",
    "        Parameters:\n",
    "        - **kwargs: Any additional arguments accepted by DecisionTreeClassifier\n",
    "        \"\"\"\n",
    "        self.model = DecisionTreeClassifier(**kwargs)\n",
    "\n",
    "    def fit(self, X_train, y_train):\n",
    "        \"\"\"\n",
    "        Fit the Decision Tree Classifier to the training data.\n",
    "\n",
    "        Parameters:\n",
    "        - X_train: Training features\n",
    "        - y_train: Training labels\n",
    "        \"\"\"\n",
    "        self.model.fit(X_train, y_train)\n",
    "\n",
    "    def validate(self,X_val, y_val):\n",
    "        predictions = self.model.predict(X_val)\n",
    "        accuracy = accuracy_score(y_val, predictions)\n",
    "        return accuracy\n",
    "\n",
    "    \n",
    "    def predict(self, X_test,y_test,X_val, y_val):\n",
    "        \"\"\"\n",
    "        Predict labels, soft assignments, and provide the classification report.\n",
    "\n",
    "        Parameters:\n",
    "        - X_test: Test features\n",
    "\n",
    "        Returns:\n",
    "        - predictions: Predicted labels\n",
    "        - soft_assignments: Soft assignments for each prediction\n",
    "        - report: Classification report\n",
    "        \"\"\"\n",
    "        value = self.validate(X_val, y_val)\n",
    "        predictions = self.model.predict(X_test)\n",
    "        soft_assignments = self.model.predict_proba(X_test)\n",
    "        report = classification_report(predictions,y_test,zero_division=1)\n",
    "\n",
    "        return predictions, value*soft_assignments, report\n"
   ]
  },
  {
   "cell_type": "code",
   "execution_count": 13,
   "id": "5483d7b3",
   "metadata": {},
   "outputs": [],
   "source": [
    "class MyDecisionTreeRegressor:\n",
    "    def __init__(self, **kwargs):\n",
    "        \"\"\"\n",
    "        Initialize the Decision Tree Regressor.\n",
    "\n",
    "        Parameters:\n",
    "        - **kwargs: Any additional arguments accepted by DecisionTreeRegressor\n",
    "        \"\"\"\n",
    "        self.model = DecisionTreeRegressor(**kwargs)\n",
    "        self.confidence_metric = None\n",
    "\n",
    "    def fit(self, X_train, y_train, X_val, y_val):\n",
    "        \"\"\"\n",
    "        Fit the Decision Tree Regressor to the training data and compute the confidence metric.\n",
    "\n",
    "        Parameters:\n",
    "        - X_train: Training features\n",
    "        - y_train: Training labels\n",
    "        - X_val: Validation features\n",
    "        - y_val: Validation labels\n",
    "        \"\"\"\n",
    "        self.model.fit(X_train, y_train)\n",
    "\n",
    "        # Make predictions on validation data for computing confidence metric\n",
    "        predictions_val = self.model.predict(X_val)\n",
    "        mse_val = mean_squared_error(y_val, predictions_val)\n",
    "\n",
    "        # Confidence metric is the inverse of MSE on validation data (higher confidence for lower MSE)\n",
    "        self.confidence_metric = 1 / (1 + mse_val)\n",
    "\n",
    "    def compute_confidence_metric(self,X_val,y_val):\n",
    "        confidence_metric = self.confidence_metric\n",
    "        return confidence_metric\n",
    "\n",
    "\n",
    "    def predict(self, X_test,y_test):\n",
    "        \"\"\"\n",
    "        Predict values and provide a confidence metric.\n",
    "\n",
    "        Parameters:\n",
    "        - X_test: Test features\n",
    "\n",
    "        Returns:\n",
    "        - predictions: Predicted values\n",
    "        - confidence_metric: Confidence metric\n",
    "        \"\"\"\n",
    "        predictions = self.model.predict(X_test)\n",
    "        return predictions\n",
    "    \n",
    "    def plot_predictions_vs_actual(self,predictions, actual, title=\"Predictions vs Actual\"):\n",
    "        \"\"\"\n",
    "        Plot predictions and actual values on the same graph as a line plot.\n",
    "\n",
    "        Parameters:\n",
    "        - predictions: Numpy array of predicted values\n",
    "        - actual: Numpy array of actual values\n",
    "        - title: Title of the plot (default is \"Predictions vs Actual\")\n",
    "        \"\"\"\n",
    "        plt.figure(figsize=(10, 6))\n",
    "        plt.plot(predictions, label='Predictions', marker='o')\n",
    "        plt.plot(actual, label='Actual', marker='x')\n",
    "        plt.title(title)\n",
    "        plt.xlabel('Sample Index')\n",
    "        plt.ylabel('Values')\n",
    "        plt.legend()\n",
    "        plt.show()\n",
    "\n"
   ]
  },
  {
   "cell_type": "markdown",
   "id": "e9f851a3",
   "metadata": {},
   "source": [
    "## Stacking : Classification\n"
   ]
  },
  {
   "cell_type": "code",
   "execution_count": 14,
   "id": "7915f4c8",
   "metadata": {},
   "outputs": [],
   "source": [
    "class Stacking:\n",
    "    def __init__(self, level1_estimator, method):\n",
    "        self.level1 = level1_estimator\n",
    "        self.method = method\n",
    "        \n",
    "    def generate_new_train_data_stacking(self,k,X_train,y_train):\n",
    "        \n",
    "        pred_m1 = []\n",
    "        pred_m2 = []\n",
    "        pred_m3 = []\n",
    "        \n",
    "        actual = []\n",
    "        \n",
    "        kf = KFold(n_splits=k, shuffle=True, random_state=42)\n",
    "        # Store datasets for each fold\n",
    "        fold_datasets = []\n",
    "\n",
    "        for train_index, test_index in kf.split(X_train):\n",
    "            X_train_fold, X_test_fold = X_train[train_index], X_train[test_index]\n",
    "            y_train_fold, y_test_fold = y_train[train_index], y_train[test_index]\n",
    "\n",
    "            fold_datasets.append((X_train_fold, y_train_fold, X_test_fold, y_test_fold))\n",
    "            \n",
    "            # 1st base model : DT-classifier\n",
    "            model = MyDecisionTreeClassifier()\n",
    "            model.fit(X_train_fold, y_train_fold)\n",
    "            predictions, soft_assignments, report = model.predict(X_test_fold,y_test_fold, X_test_fold, y_test_fold)\n",
    "            pred_m1.append(soft_assignments)\n",
    "            \n",
    "            \n",
    "            # 2nd Base model : MLP-classifier\n",
    "            layer_sizes = [11,5,5,6]\n",
    "            batch_size = 100\n",
    "            num_epoches = 100\n",
    "            learning_rate = 0.02\n",
    "            activation_function = 'ReLU'\n",
    "            optimization = 'mini-batch'\n",
    "            model = MLP_Classifier(layer_sizes=layer_sizes,\n",
    "                    batch_size=batch_size,\n",
    "                    num_epoches=num_epoches,\n",
    "                    learning_rate=learning_rate,\n",
    "                    activation_function=activation_function,\n",
    "                    optimization=optimization\n",
    "                    )\n",
    "\n",
    "            model.loadData(df)\n",
    "            model.fit(X_train_fold,y_train_fold,X_train_fold,y_train_fold)\n",
    "            predictions, soft_assignments ,cr = model.predict(X_test_fold,y_test_fold,X_test_fold,y_test_fold)\n",
    "            pred_m2.append(soft_assignments)\n",
    "            \n",
    "            # 3rd Base Model : Logistic Regression\n",
    "            learning_rate = 0.001\n",
    "            epoches = 100\n",
    "            mlr = MultinomialLogRegression(learning_rate,epoches,num_classes,num_features)\n",
    "            mlr.fit(X_train_fold,y_train_fold,X_train_fold,y_train_fold)\n",
    "            predictions,soft_assignments,cr = mlr.predict(X_test_fold,y_test_fold,X_test_fold,y_test_fold)\n",
    "            pred_m3.append(soft_assignments)\n",
    "            \n",
    "            actual.append(y_test_fold)\n",
    "\n",
    "        # print('pred_m3 : ',pred_m3)\n",
    "        pred_m1 = np.concatenate(pred_m1)\n",
    "        pred_m2 = np.concatenate(pred_m2)\n",
    "        pred_m3 = np.concatenate(pred_m3)\n",
    "        \n",
    "        actual = np.concatenate(actual)\n",
    "        # print(pred_m1)\n",
    "        # print(pred_m2)\n",
    "        # print(pred_m3)\n",
    "        \n",
    "        # print('fin acc1 : ',(np.sum(actual==pred_m1))/actual.shape[0])\n",
    "        # print('fin acc2 : ',(np.sum(actual==pred_m2))/actual.shape[0])\n",
    "        # print('fin acc3 : ',(np.sum(actual==pred_m3))/actual.shape[0])\n",
    "\n",
    "        X = np.column_stack((pred_m1, pred_m2, pred_m3))\n",
    "        return X, actual\n",
    "    \n",
    "    def generate_new_test_data_stacking(self,X_train, y_train, X_test,y_test):\n",
    "        # 1st base model : DT-classifier\n",
    "        model = MyDecisionTreeClassifier()\n",
    "        model.fit(X_train, y_train)\n",
    "        predictions1, soft_assignments1, report = model.predict(X_test,y_test, X_test, y_test)\n",
    "        \n",
    "        \n",
    "        # 2nd Base model : MLP-classifier\n",
    "        layer_sizes = [11,5,5,6]\n",
    "        batch_size = 100\n",
    "        num_epoches = 100\n",
    "        learning_rate = 0.02\n",
    "        activation_function = 'ReLU'\n",
    "        optimization = 'mini-batch'\n",
    "        model = MLP_Classifier(layer_sizes=layer_sizes,\n",
    "                batch_size=batch_size,\n",
    "                num_epoches=num_epoches,\n",
    "                learning_rate=learning_rate,\n",
    "                activation_function=activation_function,\n",
    "                optimization=optimization\n",
    "                )\n",
    "\n",
    "        model.loadData(df)\n",
    "        model.fit(X_train,y_train,X_train,y_train)\n",
    "        predictions2, soft_assignments2 ,cr = model.predict(X_test,y_test,X_test,y_test)\n",
    "\n",
    "        # 3rd Base Model : Logistic Regression\n",
    "        learning_rate = 0.001\n",
    "        epoches = 100\n",
    "        mlr = MultinomialLogRegression(learning_rate,epoches,6,11)\n",
    "        mlr.fit(X_train,y_train,X_train,y_train)\n",
    "        predictions3,soft_assignments3,cr = mlr.predict(X_test,y_test,X_test,y_test)\n",
    "\n",
    "        X = np.column_stack((soft_assignments1, soft_assignments2, soft_assignments3))\n",
    "        y = y_test\n",
    "        \n",
    "        return X,y\n",
    "    \n",
    "    \n",
    "    \n",
    "    def generate_new_train_data_blending(self,h,X,y):\n",
    "        X_train, X_holdout, y_train, y_holdout = train_test_split(X, y, test_size=h, random_state=42)\n",
    "        \n",
    "        \n",
    "        # 1st base model : DT-classifier\n",
    "        model = MyDecisionTreeClassifier()\n",
    "        model.fit(X_train, y_train)\n",
    "        predictions1, soft_assignments1, report = model.predict(X_holdout,y_holdout, X_holdout, y_holdout)\n",
    "        \n",
    "        \n",
    "        # 2nd Base model : MLP-classifier\n",
    "        layer_sizes = [11,5,5,6]\n",
    "        batch_size = 100\n",
    "        num_epoches = 100\n",
    "        learning_rate = 0.02\n",
    "        activation_function = 'ReLU'\n",
    "        optimization = 'mini-batch'\n",
    "        model = MLP_Classifier(layer_sizes=layer_sizes,\n",
    "                batch_size=batch_size,\n",
    "                num_epoches=num_epoches,\n",
    "                learning_rate=learning_rate,\n",
    "                activation_function=activation_function,\n",
    "                optimization=optimization\n",
    "                )\n",
    "\n",
    "        model.loadData(df)\n",
    "        model.fit(X_train,y_train,X_train,y_train)\n",
    "        predictions2, soft_assignments2 ,cr = model.predict(X_holdout,y_holdout,X_holdout,y_holdout)\n",
    "\n",
    "        # 3rd Base Model : Logistic Regression\n",
    "        learning_rate = 0.001\n",
    "        epoches = 100\n",
    "        mlr = MultinomialLogRegression(learning_rate,epoches,num_classes,num_features)\n",
    "        mlr.fit(X_train,y_train,X_train,y_train)\n",
    "        predictions3,soft_assignments3,cr = mlr.predict(X_holdout,y_holdout,X_holdout,y_holdout)\n",
    "        \n",
    "        X_new = np.column_stack((soft_assignments1, soft_assignments2, soft_assignments3, X_holdout))\n",
    "        y_new = y_holdout\n",
    "        \n",
    "        return X_new, y_new\n",
    "        \n",
    "    def generate_new_test_data_blending(self,X_train, y_train, X_test,y_test):\n",
    "        \n",
    "        # 1st Base model : DT-Classifier\n",
    "        model = MyDecisionTreeClassifier()\n",
    "        model.fit(X_train, y_train)\n",
    "        predictions1, soft_assignments1, report = model.predict(X_test,y_test, X_test, y_test)\n",
    "        \n",
    "        \n",
    "        # 2nd Base model : MLP-classifier\n",
    "        layer_sizes = [11,5,5,6]\n",
    "        batch_size = 100\n",
    "        num_epoches = 100\n",
    "        learning_rate = 0.02\n",
    "        activation_function = 'ReLU'\n",
    "        optimization = 'mini-batch'\n",
    "        model = MLP_Classifier(layer_sizes=layer_sizes,\n",
    "                batch_size=batch_size,\n",
    "                num_epoches=num_epoches,\n",
    "                learning_rate=learning_rate,\n",
    "                activation_function=activation_function,\n",
    "                optimization=optimization\n",
    "                )\n",
    "\n",
    "        model.loadData(df)\n",
    "        model.fit(X_train,y_train,X_train,y_train)\n",
    "        predictions2, soft_assignments2 ,cr = model.predict(X_test,y_test,X_test,y_test)\n",
    "\n",
    "        # 3rd Base Model : Logistic Regression\n",
    "        learning_rate = 0.001\n",
    "        epoches = 100\n",
    "        mlr = MultinomialLogRegression(learning_rate,epoches,num_classes,num_features)\n",
    "        mlr.fit(X_train,y_train,X_train,y_train)\n",
    "        predictions3,soft_assignments3,cr = mlr.predict(X_test,y_test,X_test,y_test)\n",
    "        \n",
    "        X_new = np.column_stack((soft_assignments1, soft_assignments2, soft_assignments3, X_test))\n",
    "        y_new = y_test\n",
    "        \n",
    "        return X_new, y_new\n",
    "\n",
    "        \n",
    "\n",
    "\n",
    "\n",
    "    def fit_level1_estimator(self,k,h,X_train,y_train):\n",
    "        if self.method=='stacking':\n",
    "            X,y = self.generate_new_train_data_stacking(k,X_train,y_train)\n",
    "        else:\n",
    "            X,y = self.generate_new_train_data_blending(h,X_train,y_train)\n",
    "        \n",
    "        if self.level1=='MultinomialLogRegression':\n",
    "            learning_rate = 0.001\n",
    "            epoches = 100\n",
    "            self.model = MultinomialLogRegression(learning_rate,epoches,6,X.shape[1])\n",
    "            self.model.fit(X,y,X,y)\n",
    "        elif self.level1=='DecisionTreeClassifier':\n",
    "            self.model = MyDecisionTreeClassifier()\n",
    "            self.model.fit(X, y)\n",
    "        else:\n",
    "            print('No such level1 model!')\n",
    "\n",
    "    def predict(self,X_train,y_train,X_test,y_test):\n",
    "        if self.method=='stacking':\n",
    "            X,y = self.generate_new_test_data_stacking(X_train,y_train,X_test,y_test)\n",
    "        else:\n",
    "            X,y = self.generate_new_test_data_blending(X_train, y_train, X_test, y_test)\n",
    "            \n",
    "        # print(X)\n",
    "        if self.level1=='MultinomialLogRegression':\n",
    "            self.predictions,soft_assignments,cr = self.model.predict(X,y,X,y)\n",
    "        elif self.level1=='DecisionTreeClassifier':\n",
    "            self.predictions, soft_assignments, report = self.model.predict(X,y,X,y)\n",
    "        else:\n",
    "            print('No such level1 model!')\n",
    "\n",
    "        predictions = self.predictions\n",
    "        # print(predictions)\n",
    "        # print(y)\n",
    "        \n",
    "        self.accuracy = (np.sum(predictions==y)/y.shape[0]) \n",
    "        return predictions, y\n",
    "    \n",
    "\n",
    "        \n",
    "\n",
    "            "
   ]
  },
  {
   "cell_type": "markdown",
   "metadata": {},
   "source": [
    "### Loading Dataset"
   ]
  },
  {
   "cell_type": "code",
   "execution_count": 30,
   "metadata": {},
   "outputs": [],
   "source": [
    "\n",
    "# loading the data\n",
    "file_path = './WineQT.csv'\n",
    "\n",
    "data = pd.read_csv(file_path)\n",
    "df = pd.DataFrame(data)\n",
    "df = df.drop(df.columns[-1], axis=1)\n",
    "labels = df.columns.tolist()\n",
    "\n",
    "num_features = df.shape[1]-1\n",
    "num_classes = df.iloc[:, -1].nunique()\n",
    "\n",
    "X = df.iloc[:, :-1].values\n",
    "mean = np.mean(X, axis=0)\n",
    "std = np.std(X, axis=0)\n",
    "X = (X - mean) / std\n",
    "\n",
    "\n",
    "f=0.8\n",
    "\n",
    "y = df.iloc[:, -1].values\n",
    "y = y - 3\n",
    "\n",
    "\n",
    "X_train, X_temp, y_train, y_temp = train_test_split(X, y, test_size=1-f, random_state=42)\n",
    "# then splitting the remaining data into val and test (50% each)\n",
    "X_val, X_test, y_val, y_test = train_test_split(X_temp, y_temp, test_size=0.5, random_state=42)"
   ]
  },
  {
   "cell_type": "markdown",
   "metadata": {},
   "source": [
    "### Usage\n",
    "Change Parameters to observe results accordingly"
   ]
  },
  {
   "cell_type": "code",
   "execution_count": 16,
   "metadata": {},
   "outputs": [],
   "source": [
    "\n",
    "stk = Stacking('MultinomialLogRegression','stacking')"
   ]
  },
  {
   "cell_type": "code",
   "execution_count": 17,
   "metadata": {},
   "outputs": [],
   "source": [
    "stk.fit_level1_estimator(3,0.1,X_train,y_train)"
   ]
  },
  {
   "cell_type": "code",
   "execution_count": 18,
   "metadata": {},
   "outputs": [],
   "source": [
    "predictions, gt = stk.predict(X_train,y_train,X_test,y_test)"
   ]
  },
  {
   "cell_type": "code",
   "execution_count": 19,
   "metadata": {},
   "outputs": [
    {
     "name": "stdout",
     "output_type": "stream",
     "text": [
      "Accuracy :  0.6434782608695652\n"
     ]
    }
   ],
   "source": [
    "acc_ensemble = stk.accuracy\n",
    "print('Accuracy : ',acc_ensemble)"
   ]
  },
  {
   "cell_type": "markdown",
   "metadata": {},
   "source": [
    "### Hyperparameter Tuning for Classification"
   ]
  },
  {
   "cell_type": "code",
   "execution_count": 24,
   "metadata": {},
   "outputs": [
    {
     "name": "stderr",
     "output_type": "stream",
     "text": [
      "Failed to detect the name of this notebook, you can set it manually with the WANDB_NOTEBOOK_NAME environment variable to enable code saving.\n",
      "/usr/lib/python3/dist-packages/requests/__init__.py:89: RequestsDependencyWarning: urllib3 (2.0.7) or chardet (3.0.4) doesn't match a supported version!\n",
      "  warnings.warn(\"urllib3 ({}) or chardet ({}) doesn't match a supported \"\n",
      "\u001b[34m\u001b[1mwandb\u001b[0m: Currently logged in as: \u001b[33mtejas591995\u001b[0m. Use \u001b[1m`wandb login --relogin`\u001b[0m to force relogin\n"
     ]
    },
    {
     "data": {
      "text/html": [
       "Tracking run with wandb version 0.16.0"
      ],
      "text/plain": [
       "<IPython.core.display.HTML object>"
      ]
     },
     "metadata": {},
     "output_type": "display_data"
    },
    {
     "data": {
      "text/html": [
       "Run data is saved locally in <code>/home/tejas/Documents/SMAI/assignment-4-MrTejas/q2/wandb/run-20231112_081227-t5axogzl</code>"
      ],
      "text/plain": [
       "<IPython.core.display.HTML object>"
      ]
     },
     "metadata": {},
     "output_type": "display_data"
    },
    {
     "data": {
      "text/html": [
       "Syncing run <strong><a href='https://wandb.ai/tejas591995/Stacking%20Classifier/runs/t5axogzl' target=\"_blank\">elated-wildflower-1</a></strong> to <a href='https://wandb.ai/tejas591995/Stacking%20Classifier' target=\"_blank\">Weights & Biases</a> (<a href='https://wandb.me/run' target=\"_blank\">docs</a>)<br/>"
      ],
      "text/plain": [
       "<IPython.core.display.HTML object>"
      ]
     },
     "metadata": {},
     "output_type": "display_data"
    },
    {
     "data": {
      "text/html": [
       " View project at <a href='https://wandb.ai/tejas591995/Stacking%20Classifier' target=\"_blank\">https://wandb.ai/tejas591995/Stacking%20Classifier</a>"
      ],
      "text/plain": [
       "<IPython.core.display.HTML object>"
      ]
     },
     "metadata": {},
     "output_type": "display_data"
    },
    {
     "data": {
      "text/html": [
       " View run at <a href='https://wandb.ai/tejas591995/Stacking%20Classifier/runs/t5axogzl' target=\"_blank\">https://wandb.ai/tejas591995/Stacking%20Classifier/runs/t5axogzl</a>"
      ],
      "text/plain": [
       "<IPython.core.display.HTML object>"
      ]
     },
     "metadata": {},
     "output_type": "display_data"
    },
    {
     "data": {
      "text/html": [
       "Finishing last run (ID:t5axogzl) before initializing another..."
      ],
      "text/plain": [
       "<IPython.core.display.HTML object>"
      ]
     },
     "metadata": {},
     "output_type": "display_data"
    },
    {
     "name": "stderr",
     "output_type": "stream",
     "text": [
      "wandb: WARNING Source type is set to 'repo' but some required information is missing from the environment. A job will not be created from this run. See https://docs.wandb.ai/guides/launch/create-job\n"
     ]
    },
    {
     "data": {
      "text/html": [
       "<style>\n",
       "    table.wandb td:nth-child(1) { padding: 0 10px; text-align: left ; width: auto;} td:nth-child(2) {text-align: left ; width: 100%}\n",
       "    .wandb-row { display: flex; flex-direction: row; flex-wrap: wrap; justify-content: flex-start; width: 100% }\n",
       "    .wandb-col { display: flex; flex-direction: column; flex-basis: 100%; flex: 1; padding: 10px; }\n",
       "    </style>\n",
       "<div class=\"wandb-row\"><div class=\"wandb-col\"><h3>Run history:</h3><br/><table class=\"wandb\"><tr><td>Accuracy</td><td>▁</td></tr></table><br/></div><div class=\"wandb-col\"><h3>Run summary:</h3><br/><table class=\"wandb\"><tr><td>Accuracy</td><td>0.52174</td></tr></table><br/></div></div>"
      ],
      "text/plain": [
       "<IPython.core.display.HTML object>"
      ]
     },
     "metadata": {},
     "output_type": "display_data"
    },
    {
     "data": {
      "text/html": [
       " View run <strong style=\"color:#cdcd00\">elated-wildflower-1</strong> at: <a href='https://wandb.ai/tejas591995/Stacking%20Classifier/runs/t5axogzl' target=\"_blank\">https://wandb.ai/tejas591995/Stacking%20Classifier/runs/t5axogzl</a><br/>Synced 4 W&B file(s), 0 media file(s), 0 artifact file(s) and 0 other file(s)"
      ],
      "text/plain": [
       "<IPython.core.display.HTML object>"
      ]
     },
     "metadata": {},
     "output_type": "display_data"
    },
    {
     "data": {
      "text/html": [
       "Find logs at: <code>./wandb/run-20231112_081227-t5axogzl/logs</code>"
      ],
      "text/plain": [
       "<IPython.core.display.HTML object>"
      ]
     },
     "metadata": {},
     "output_type": "display_data"
    },
    {
     "data": {
      "text/html": [
       "Successfully finished last run (ID:t5axogzl). Initializing new run:<br/>"
      ],
      "text/plain": [
       "<IPython.core.display.HTML object>"
      ]
     },
     "metadata": {},
     "output_type": "display_data"
    },
    {
     "data": {
      "text/html": [
       "Tracking run with wandb version 0.16.0"
      ],
      "text/plain": [
       "<IPython.core.display.HTML object>"
      ]
     },
     "metadata": {},
     "output_type": "display_data"
    },
    {
     "data": {
      "text/html": [
       "Run data is saved locally in <code>/home/tejas/Documents/SMAI/assignment-4-MrTejas/q2/wandb/run-20231112_081241-caq3uwk8</code>"
      ],
      "text/plain": [
       "<IPython.core.display.HTML object>"
      ]
     },
     "metadata": {},
     "output_type": "display_data"
    },
    {
     "data": {
      "text/html": [
       "Syncing run <strong><a href='https://wandb.ai/tejas591995/Stacking%20Classifier/runs/caq3uwk8' target=\"_blank\">denim-shadow-2</a></strong> to <a href='https://wandb.ai/tejas591995/Stacking%20Classifier' target=\"_blank\">Weights & Biases</a> (<a href='https://wandb.me/run' target=\"_blank\">docs</a>)<br/>"
      ],
      "text/plain": [
       "<IPython.core.display.HTML object>"
      ]
     },
     "metadata": {},
     "output_type": "display_data"
    },
    {
     "data": {
      "text/html": [
       " View project at <a href='https://wandb.ai/tejas591995/Stacking%20Classifier' target=\"_blank\">https://wandb.ai/tejas591995/Stacking%20Classifier</a>"
      ],
      "text/plain": [
       "<IPython.core.display.HTML object>"
      ]
     },
     "metadata": {},
     "output_type": "display_data"
    },
    {
     "data": {
      "text/html": [
       " View run at <a href='https://wandb.ai/tejas591995/Stacking%20Classifier/runs/caq3uwk8' target=\"_blank\">https://wandb.ai/tejas591995/Stacking%20Classifier/runs/caq3uwk8</a>"
      ],
      "text/plain": [
       "<IPython.core.display.HTML object>"
      ]
     },
     "metadata": {},
     "output_type": "display_data"
    },
    {
     "data": {
      "text/html": [
       "Finishing last run (ID:caq3uwk8) before initializing another..."
      ],
      "text/plain": [
       "<IPython.core.display.HTML object>"
      ]
     },
     "metadata": {},
     "output_type": "display_data"
    },
    {
     "name": "stderr",
     "output_type": "stream",
     "text": [
      "wandb: WARNING Source type is set to 'repo' but some required information is missing from the environment. A job will not be created from this run. See https://docs.wandb.ai/guides/launch/create-job\n"
     ]
    },
    {
     "data": {
      "text/html": [
       "<style>\n",
       "    table.wandb td:nth-child(1) { padding: 0 10px; text-align: left ; width: auto;} td:nth-child(2) {text-align: left ; width: 100%}\n",
       "    .wandb-row { display: flex; flex-direction: row; flex-wrap: wrap; justify-content: flex-start; width: 100% }\n",
       "    .wandb-col { display: flex; flex-direction: column; flex-basis: 100%; flex: 1; padding: 10px; }\n",
       "    </style>\n",
       "<div class=\"wandb-row\"><div class=\"wandb-col\"><h3>Run history:</h3><br/><table class=\"wandb\"><tr><td>Accuracy</td><td>▁</td></tr></table><br/></div><div class=\"wandb-col\"><h3>Run summary:</h3><br/><table class=\"wandb\"><tr><td>Accuracy</td><td>0.46957</td></tr></table><br/></div></div>"
      ],
      "text/plain": [
       "<IPython.core.display.HTML object>"
      ]
     },
     "metadata": {},
     "output_type": "display_data"
    },
    {
     "data": {
      "text/html": [
       " View run <strong style=\"color:#cdcd00\">denim-shadow-2</strong> at: <a href='https://wandb.ai/tejas591995/Stacking%20Classifier/runs/caq3uwk8' target=\"_blank\">https://wandb.ai/tejas591995/Stacking%20Classifier/runs/caq3uwk8</a><br/>Synced 4 W&B file(s), 0 media file(s), 0 artifact file(s) and 0 other file(s)"
      ],
      "text/plain": [
       "<IPython.core.display.HTML object>"
      ]
     },
     "metadata": {},
     "output_type": "display_data"
    },
    {
     "data": {
      "text/html": [
       "Find logs at: <code>./wandb/run-20231112_081241-caq3uwk8/logs</code>"
      ],
      "text/plain": [
       "<IPython.core.display.HTML object>"
      ]
     },
     "metadata": {},
     "output_type": "display_data"
    },
    {
     "data": {
      "text/html": [
       "Successfully finished last run (ID:caq3uwk8). Initializing new run:<br/>"
      ],
      "text/plain": [
       "<IPython.core.display.HTML object>"
      ]
     },
     "metadata": {},
     "output_type": "display_data"
    },
    {
     "data": {
      "text/html": [
       "Tracking run with wandb version 0.16.0"
      ],
      "text/plain": [
       "<IPython.core.display.HTML object>"
      ]
     },
     "metadata": {},
     "output_type": "display_data"
    },
    {
     "data": {
      "text/html": [
       "Run data is saved locally in <code>/home/tejas/Documents/SMAI/assignment-4-MrTejas/q2/wandb/run-20231112_081255-bfnwpl3i</code>"
      ],
      "text/plain": [
       "<IPython.core.display.HTML object>"
      ]
     },
     "metadata": {},
     "output_type": "display_data"
    },
    {
     "data": {
      "text/html": [
       "Syncing run <strong><a href='https://wandb.ai/tejas591995/Stacking%20Classifier/runs/bfnwpl3i' target=\"_blank\">devoted-jazz-3</a></strong> to <a href='https://wandb.ai/tejas591995/Stacking%20Classifier' target=\"_blank\">Weights & Biases</a> (<a href='https://wandb.me/run' target=\"_blank\">docs</a>)<br/>"
      ],
      "text/plain": [
       "<IPython.core.display.HTML object>"
      ]
     },
     "metadata": {},
     "output_type": "display_data"
    },
    {
     "data": {
      "text/html": [
       " View project at <a href='https://wandb.ai/tejas591995/Stacking%20Classifier' target=\"_blank\">https://wandb.ai/tejas591995/Stacking%20Classifier</a>"
      ],
      "text/plain": [
       "<IPython.core.display.HTML object>"
      ]
     },
     "metadata": {},
     "output_type": "display_data"
    },
    {
     "data": {
      "text/html": [
       " View run at <a href='https://wandb.ai/tejas591995/Stacking%20Classifier/runs/bfnwpl3i' target=\"_blank\">https://wandb.ai/tejas591995/Stacking%20Classifier/runs/bfnwpl3i</a>"
      ],
      "text/plain": [
       "<IPython.core.display.HTML object>"
      ]
     },
     "metadata": {},
     "output_type": "display_data"
    },
    {
     "data": {
      "text/html": [
       "Finishing last run (ID:bfnwpl3i) before initializing another..."
      ],
      "text/plain": [
       "<IPython.core.display.HTML object>"
      ]
     },
     "metadata": {},
     "output_type": "display_data"
    },
    {
     "name": "stderr",
     "output_type": "stream",
     "text": [
      "wandb: WARNING Source type is set to 'repo' but some required information is missing from the environment. A job will not be created from this run. See https://docs.wandb.ai/guides/launch/create-job\n"
     ]
    },
    {
     "data": {
      "text/html": [
       "<style>\n",
       "    table.wandb td:nth-child(1) { padding: 0 10px; text-align: left ; width: auto;} td:nth-child(2) {text-align: left ; width: 100%}\n",
       "    .wandb-row { display: flex; flex-direction: row; flex-wrap: wrap; justify-content: flex-start; width: 100% }\n",
       "    .wandb-col { display: flex; flex-direction: column; flex-basis: 100%; flex: 1; padding: 10px; }\n",
       "    </style>\n",
       "<div class=\"wandb-row\"><div class=\"wandb-col\"><h3>Run history:</h3><br/><table class=\"wandb\"><tr><td>Accuracy</td><td>▁</td></tr></table><br/></div><div class=\"wandb-col\"><h3>Run summary:</h3><br/><table class=\"wandb\"><tr><td>Accuracy</td><td>0.44348</td></tr></table><br/></div></div>"
      ],
      "text/plain": [
       "<IPython.core.display.HTML object>"
      ]
     },
     "metadata": {},
     "output_type": "display_data"
    },
    {
     "data": {
      "text/html": [
       " View run <strong style=\"color:#cdcd00\">devoted-jazz-3</strong> at: <a href='https://wandb.ai/tejas591995/Stacking%20Classifier/runs/bfnwpl3i' target=\"_blank\">https://wandb.ai/tejas591995/Stacking%20Classifier/runs/bfnwpl3i</a><br/>Synced 4 W&B file(s), 0 media file(s), 0 artifact file(s) and 0 other file(s)"
      ],
      "text/plain": [
       "<IPython.core.display.HTML object>"
      ]
     },
     "metadata": {},
     "output_type": "display_data"
    },
    {
     "data": {
      "text/html": [
       "Find logs at: <code>./wandb/run-20231112_081255-bfnwpl3i/logs</code>"
      ],
      "text/plain": [
       "<IPython.core.display.HTML object>"
      ]
     },
     "metadata": {},
     "output_type": "display_data"
    },
    {
     "data": {
      "text/html": [
       "Successfully finished last run (ID:bfnwpl3i). Initializing new run:<br/>"
      ],
      "text/plain": [
       "<IPython.core.display.HTML object>"
      ]
     },
     "metadata": {},
     "output_type": "display_data"
    },
    {
     "data": {
      "text/html": [
       "Tracking run with wandb version 0.16.0"
      ],
      "text/plain": [
       "<IPython.core.display.HTML object>"
      ]
     },
     "metadata": {},
     "output_type": "display_data"
    },
    {
     "data": {
      "text/html": [
       "Run data is saved locally in <code>/home/tejas/Documents/SMAI/assignment-4-MrTejas/q2/wandb/run-20231112_081305-nays4b9f</code>"
      ],
      "text/plain": [
       "<IPython.core.display.HTML object>"
      ]
     },
     "metadata": {},
     "output_type": "display_data"
    },
    {
     "data": {
      "text/html": [
       "Syncing run <strong><a href='https://wandb.ai/tejas591995/Stacking%20Classifier/runs/nays4b9f' target=\"_blank\">faithful-smoke-4</a></strong> to <a href='https://wandb.ai/tejas591995/Stacking%20Classifier' target=\"_blank\">Weights & Biases</a> (<a href='https://wandb.me/run' target=\"_blank\">docs</a>)<br/>"
      ],
      "text/plain": [
       "<IPython.core.display.HTML object>"
      ]
     },
     "metadata": {},
     "output_type": "display_data"
    },
    {
     "data": {
      "text/html": [
       " View project at <a href='https://wandb.ai/tejas591995/Stacking%20Classifier' target=\"_blank\">https://wandb.ai/tejas591995/Stacking%20Classifier</a>"
      ],
      "text/plain": [
       "<IPython.core.display.HTML object>"
      ]
     },
     "metadata": {},
     "output_type": "display_data"
    },
    {
     "data": {
      "text/html": [
       " View run at <a href='https://wandb.ai/tejas591995/Stacking%20Classifier/runs/nays4b9f' target=\"_blank\">https://wandb.ai/tejas591995/Stacking%20Classifier/runs/nays4b9f</a>"
      ],
      "text/plain": [
       "<IPython.core.display.HTML object>"
      ]
     },
     "metadata": {},
     "output_type": "display_data"
    },
    {
     "data": {
      "text/html": [
       "Finishing last run (ID:nays4b9f) before initializing another..."
      ],
      "text/plain": [
       "<IPython.core.display.HTML object>"
      ]
     },
     "metadata": {},
     "output_type": "display_data"
    },
    {
     "name": "stderr",
     "output_type": "stream",
     "text": [
      "wandb: WARNING Source type is set to 'repo' but some required information is missing from the environment. A job will not be created from this run. See https://docs.wandb.ai/guides/launch/create-job\n"
     ]
    },
    {
     "data": {
      "text/html": [
       "<style>\n",
       "    table.wandb td:nth-child(1) { padding: 0 10px; text-align: left ; width: auto;} td:nth-child(2) {text-align: left ; width: 100%}\n",
       "    .wandb-row { display: flex; flex-direction: row; flex-wrap: wrap; justify-content: flex-start; width: 100% }\n",
       "    .wandb-col { display: flex; flex-direction: column; flex-basis: 100%; flex: 1; padding: 10px; }\n",
       "    </style>\n",
       "<div class=\"wandb-row\"><div class=\"wandb-col\"><h3>Run history:</h3><br/><table class=\"wandb\"><tr><td>Accuracy</td><td>▁</td></tr></table><br/></div><div class=\"wandb-col\"><h3>Run summary:</h3><br/><table class=\"wandb\"><tr><td>Accuracy</td><td>0.51304</td></tr></table><br/></div></div>"
      ],
      "text/plain": [
       "<IPython.core.display.HTML object>"
      ]
     },
     "metadata": {},
     "output_type": "display_data"
    },
    {
     "data": {
      "text/html": [
       " View run <strong style=\"color:#cdcd00\">faithful-smoke-4</strong> at: <a href='https://wandb.ai/tejas591995/Stacking%20Classifier/runs/nays4b9f' target=\"_blank\">https://wandb.ai/tejas591995/Stacking%20Classifier/runs/nays4b9f</a><br/>Synced 4 W&B file(s), 0 media file(s), 0 artifact file(s) and 0 other file(s)"
      ],
      "text/plain": [
       "<IPython.core.display.HTML object>"
      ]
     },
     "metadata": {},
     "output_type": "display_data"
    },
    {
     "data": {
      "text/html": [
       "Find logs at: <code>./wandb/run-20231112_081305-nays4b9f/logs</code>"
      ],
      "text/plain": [
       "<IPython.core.display.HTML object>"
      ]
     },
     "metadata": {},
     "output_type": "display_data"
    },
    {
     "data": {
      "text/html": [
       "Successfully finished last run (ID:nays4b9f). Initializing new run:<br/>"
      ],
      "text/plain": [
       "<IPython.core.display.HTML object>"
      ]
     },
     "metadata": {},
     "output_type": "display_data"
    },
    {
     "data": {
      "text/html": [
       "Tracking run with wandb version 0.16.0"
      ],
      "text/plain": [
       "<IPython.core.display.HTML object>"
      ]
     },
     "metadata": {},
     "output_type": "display_data"
    },
    {
     "data": {
      "text/html": [
       "Run data is saved locally in <code>/home/tejas/Documents/SMAI/assignment-4-MrTejas/q2/wandb/run-20231112_081314-cnmnwa6g</code>"
      ],
      "text/plain": [
       "<IPython.core.display.HTML object>"
      ]
     },
     "metadata": {},
     "output_type": "display_data"
    },
    {
     "data": {
      "text/html": [
       "Syncing run <strong><a href='https://wandb.ai/tejas591995/Stacking%20Classifier/runs/cnmnwa6g' target=\"_blank\">avid-dew-5</a></strong> to <a href='https://wandb.ai/tejas591995/Stacking%20Classifier' target=\"_blank\">Weights & Biases</a> (<a href='https://wandb.me/run' target=\"_blank\">docs</a>)<br/>"
      ],
      "text/plain": [
       "<IPython.core.display.HTML object>"
      ]
     },
     "metadata": {},
     "output_type": "display_data"
    },
    {
     "data": {
      "text/html": [
       " View project at <a href='https://wandb.ai/tejas591995/Stacking%20Classifier' target=\"_blank\">https://wandb.ai/tejas591995/Stacking%20Classifier</a>"
      ],
      "text/plain": [
       "<IPython.core.display.HTML object>"
      ]
     },
     "metadata": {},
     "output_type": "display_data"
    },
    {
     "data": {
      "text/html": [
       " View run at <a href='https://wandb.ai/tejas591995/Stacking%20Classifier/runs/cnmnwa6g' target=\"_blank\">https://wandb.ai/tejas591995/Stacking%20Classifier/runs/cnmnwa6g</a>"
      ],
      "text/plain": [
       "<IPython.core.display.HTML object>"
      ]
     },
     "metadata": {},
     "output_type": "display_data"
    },
    {
     "data": {
      "text/html": [
       "Finishing last run (ID:cnmnwa6g) before initializing another..."
      ],
      "text/plain": [
       "<IPython.core.display.HTML object>"
      ]
     },
     "metadata": {},
     "output_type": "display_data"
    },
    {
     "name": "stderr",
     "output_type": "stream",
     "text": [
      "wandb: WARNING Source type is set to 'repo' but some required information is missing from the environment. A job will not be created from this run. See https://docs.wandb.ai/guides/launch/create-job\n"
     ]
    },
    {
     "data": {
      "text/html": [
       "<style>\n",
       "    table.wandb td:nth-child(1) { padding: 0 10px; text-align: left ; width: auto;} td:nth-child(2) {text-align: left ; width: 100%}\n",
       "    .wandb-row { display: flex; flex-direction: row; flex-wrap: wrap; justify-content: flex-start; width: 100% }\n",
       "    .wandb-col { display: flex; flex-direction: column; flex-basis: 100%; flex: 1; padding: 10px; }\n",
       "    </style>\n",
       "<div class=\"wandb-row\"><div class=\"wandb-col\"><h3>Run history:</h3><br/><table class=\"wandb\"><tr><td>Accuracy</td><td>▁</td></tr></table><br/></div><div class=\"wandb-col\"><h3>Run summary:</h3><br/><table class=\"wandb\"><tr><td>Accuracy</td><td>0.50435</td></tr></table><br/></div></div>"
      ],
      "text/plain": [
       "<IPython.core.display.HTML object>"
      ]
     },
     "metadata": {},
     "output_type": "display_data"
    },
    {
     "data": {
      "text/html": [
       " View run <strong style=\"color:#cdcd00\">avid-dew-5</strong> at: <a href='https://wandb.ai/tejas591995/Stacking%20Classifier/runs/cnmnwa6g' target=\"_blank\">https://wandb.ai/tejas591995/Stacking%20Classifier/runs/cnmnwa6g</a><br/>Synced 4 W&B file(s), 0 media file(s), 0 artifact file(s) and 0 other file(s)"
      ],
      "text/plain": [
       "<IPython.core.display.HTML object>"
      ]
     },
     "metadata": {},
     "output_type": "display_data"
    },
    {
     "data": {
      "text/html": [
       "Find logs at: <code>./wandb/run-20231112_081314-cnmnwa6g/logs</code>"
      ],
      "text/plain": [
       "<IPython.core.display.HTML object>"
      ]
     },
     "metadata": {},
     "output_type": "display_data"
    },
    {
     "data": {
      "text/html": [
       "Successfully finished last run (ID:cnmnwa6g). Initializing new run:<br/>"
      ],
      "text/plain": [
       "<IPython.core.display.HTML object>"
      ]
     },
     "metadata": {},
     "output_type": "display_data"
    },
    {
     "data": {
      "text/html": [
       "Tracking run with wandb version 0.16.0"
      ],
      "text/plain": [
       "<IPython.core.display.HTML object>"
      ]
     },
     "metadata": {},
     "output_type": "display_data"
    },
    {
     "data": {
      "text/html": [
       "Run data is saved locally in <code>/home/tejas/Documents/SMAI/assignment-4-MrTejas/q2/wandb/run-20231112_081323-7jqkktfv</code>"
      ],
      "text/plain": [
       "<IPython.core.display.HTML object>"
      ]
     },
     "metadata": {},
     "output_type": "display_data"
    },
    {
     "data": {
      "text/html": [
       "Syncing run <strong><a href='https://wandb.ai/tejas591995/Stacking%20Classifier/runs/7jqkktfv' target=\"_blank\">blooming-sound-6</a></strong> to <a href='https://wandb.ai/tejas591995/Stacking%20Classifier' target=\"_blank\">Weights & Biases</a> (<a href='https://wandb.me/run' target=\"_blank\">docs</a>)<br/>"
      ],
      "text/plain": [
       "<IPython.core.display.HTML object>"
      ]
     },
     "metadata": {},
     "output_type": "display_data"
    },
    {
     "data": {
      "text/html": [
       " View project at <a href='https://wandb.ai/tejas591995/Stacking%20Classifier' target=\"_blank\">https://wandb.ai/tejas591995/Stacking%20Classifier</a>"
      ],
      "text/plain": [
       "<IPython.core.display.HTML object>"
      ]
     },
     "metadata": {},
     "output_type": "display_data"
    },
    {
     "data": {
      "text/html": [
       " View run at <a href='https://wandb.ai/tejas591995/Stacking%20Classifier/runs/7jqkktfv' target=\"_blank\">https://wandb.ai/tejas591995/Stacking%20Classifier/runs/7jqkktfv</a>"
      ],
      "text/plain": [
       "<IPython.core.display.HTML object>"
      ]
     },
     "metadata": {},
     "output_type": "display_data"
    },
    {
     "data": {
      "text/html": [
       "Finishing last run (ID:7jqkktfv) before initializing another..."
      ],
      "text/plain": [
       "<IPython.core.display.HTML object>"
      ]
     },
     "metadata": {},
     "output_type": "display_data"
    },
    {
     "name": "stderr",
     "output_type": "stream",
     "text": [
      "wandb: WARNING Source type is set to 'repo' but some required information is missing from the environment. A job will not be created from this run. See https://docs.wandb.ai/guides/launch/create-job\n"
     ]
    },
    {
     "data": {
      "text/html": [
       "<style>\n",
       "    table.wandb td:nth-child(1) { padding: 0 10px; text-align: left ; width: auto;} td:nth-child(2) {text-align: left ; width: 100%}\n",
       "    .wandb-row { display: flex; flex-direction: row; flex-wrap: wrap; justify-content: flex-start; width: 100% }\n",
       "    .wandb-col { display: flex; flex-direction: column; flex-basis: 100%; flex: 1; padding: 10px; }\n",
       "    </style>\n",
       "<div class=\"wandb-row\"><div class=\"wandb-col\"><h3>Run history:</h3><br/><table class=\"wandb\"><tr><td>Accuracy</td><td>▁</td></tr></table><br/></div><div class=\"wandb-col\"><h3>Run summary:</h3><br/><table class=\"wandb\"><tr><td>Accuracy</td><td>0.58261</td></tr></table><br/></div></div>"
      ],
      "text/plain": [
       "<IPython.core.display.HTML object>"
      ]
     },
     "metadata": {},
     "output_type": "display_data"
    },
    {
     "data": {
      "text/html": [
       " View run <strong style=\"color:#cdcd00\">blooming-sound-6</strong> at: <a href='https://wandb.ai/tejas591995/Stacking%20Classifier/runs/7jqkktfv' target=\"_blank\">https://wandb.ai/tejas591995/Stacking%20Classifier/runs/7jqkktfv</a><br/>Synced 4 W&B file(s), 0 media file(s), 0 artifact file(s) and 0 other file(s)"
      ],
      "text/plain": [
       "<IPython.core.display.HTML object>"
      ]
     },
     "metadata": {},
     "output_type": "display_data"
    },
    {
     "data": {
      "text/html": [
       "Find logs at: <code>./wandb/run-20231112_081323-7jqkktfv/logs</code>"
      ],
      "text/plain": [
       "<IPython.core.display.HTML object>"
      ]
     },
     "metadata": {},
     "output_type": "display_data"
    },
    {
     "data": {
      "text/html": [
       "Successfully finished last run (ID:7jqkktfv). Initializing new run:<br/>"
      ],
      "text/plain": [
       "<IPython.core.display.HTML object>"
      ]
     },
     "metadata": {},
     "output_type": "display_data"
    },
    {
     "data": {
      "text/html": [
       "Tracking run with wandb version 0.16.0"
      ],
      "text/plain": [
       "<IPython.core.display.HTML object>"
      ]
     },
     "metadata": {},
     "output_type": "display_data"
    },
    {
     "data": {
      "text/html": [
       "Run data is saved locally in <code>/home/tejas/Documents/SMAI/assignment-4-MrTejas/q2/wandb/run-20231112_081331-mdlo1uov</code>"
      ],
      "text/plain": [
       "<IPython.core.display.HTML object>"
      ]
     },
     "metadata": {},
     "output_type": "display_data"
    },
    {
     "data": {
      "text/html": [
       "Syncing run <strong><a href='https://wandb.ai/tejas591995/Stacking%20Classifier/runs/mdlo1uov' target=\"_blank\">clean-lake-7</a></strong> to <a href='https://wandb.ai/tejas591995/Stacking%20Classifier' target=\"_blank\">Weights & Biases</a> (<a href='https://wandb.me/run' target=\"_blank\">docs</a>)<br/>"
      ],
      "text/plain": [
       "<IPython.core.display.HTML object>"
      ]
     },
     "metadata": {},
     "output_type": "display_data"
    },
    {
     "data": {
      "text/html": [
       " View project at <a href='https://wandb.ai/tejas591995/Stacking%20Classifier' target=\"_blank\">https://wandb.ai/tejas591995/Stacking%20Classifier</a>"
      ],
      "text/plain": [
       "<IPython.core.display.HTML object>"
      ]
     },
     "metadata": {},
     "output_type": "display_data"
    },
    {
     "data": {
      "text/html": [
       " View run at <a href='https://wandb.ai/tejas591995/Stacking%20Classifier/runs/mdlo1uov' target=\"_blank\">https://wandb.ai/tejas591995/Stacking%20Classifier/runs/mdlo1uov</a>"
      ],
      "text/plain": [
       "<IPython.core.display.HTML object>"
      ]
     },
     "metadata": {},
     "output_type": "display_data"
    },
    {
     "data": {
      "text/html": [
       "Finishing last run (ID:mdlo1uov) before initializing another..."
      ],
      "text/plain": [
       "<IPython.core.display.HTML object>"
      ]
     },
     "metadata": {},
     "output_type": "display_data"
    },
    {
     "name": "stderr",
     "output_type": "stream",
     "text": [
      "wandb: WARNING Source type is set to 'repo' but some required information is missing from the environment. A job will not be created from this run. See https://docs.wandb.ai/guides/launch/create-job\n"
     ]
    },
    {
     "data": {
      "text/html": [
       "<style>\n",
       "    table.wandb td:nth-child(1) { padding: 0 10px; text-align: left ; width: auto;} td:nth-child(2) {text-align: left ; width: 100%}\n",
       "    .wandb-row { display: flex; flex-direction: row; flex-wrap: wrap; justify-content: flex-start; width: 100% }\n",
       "    .wandb-col { display: flex; flex-direction: column; flex-basis: 100%; flex: 1; padding: 10px; }\n",
       "    </style>\n",
       "<div class=\"wandb-row\"><div class=\"wandb-col\"><h3>Run history:</h3><br/><table class=\"wandb\"><tr><td>Accuracy</td><td>▁</td></tr></table><br/></div><div class=\"wandb-col\"><h3>Run summary:</h3><br/><table class=\"wandb\"><tr><td>Accuracy</td><td>0.48696</td></tr></table><br/></div></div>"
      ],
      "text/plain": [
       "<IPython.core.display.HTML object>"
      ]
     },
     "metadata": {},
     "output_type": "display_data"
    },
    {
     "data": {
      "text/html": [
       " View run <strong style=\"color:#cdcd00\">clean-lake-7</strong> at: <a href='https://wandb.ai/tejas591995/Stacking%20Classifier/runs/mdlo1uov' target=\"_blank\">https://wandb.ai/tejas591995/Stacking%20Classifier/runs/mdlo1uov</a><br/>Synced 4 W&B file(s), 0 media file(s), 0 artifact file(s) and 0 other file(s)"
      ],
      "text/plain": [
       "<IPython.core.display.HTML object>"
      ]
     },
     "metadata": {},
     "output_type": "display_data"
    },
    {
     "data": {
      "text/html": [
       "Find logs at: <code>./wandb/run-20231112_081331-mdlo1uov/logs</code>"
      ],
      "text/plain": [
       "<IPython.core.display.HTML object>"
      ]
     },
     "metadata": {},
     "output_type": "display_data"
    },
    {
     "data": {
      "text/html": [
       "Successfully finished last run (ID:mdlo1uov). Initializing new run:<br/>"
      ],
      "text/plain": [
       "<IPython.core.display.HTML object>"
      ]
     },
     "metadata": {},
     "output_type": "display_data"
    },
    {
     "data": {
      "text/html": [
       "Tracking run with wandb version 0.16.0"
      ],
      "text/plain": [
       "<IPython.core.display.HTML object>"
      ]
     },
     "metadata": {},
     "output_type": "display_data"
    },
    {
     "data": {
      "text/html": [
       "Run data is saved locally in <code>/home/tejas/Documents/SMAI/assignment-4-MrTejas/q2/wandb/run-20231112_081339-iiawbxsz</code>"
      ],
      "text/plain": [
       "<IPython.core.display.HTML object>"
      ]
     },
     "metadata": {},
     "output_type": "display_data"
    },
    {
     "data": {
      "text/html": [
       "Syncing run <strong><a href='https://wandb.ai/tejas591995/Stacking%20Classifier/runs/iiawbxsz' target=\"_blank\">fine-serenity-8</a></strong> to <a href='https://wandb.ai/tejas591995/Stacking%20Classifier' target=\"_blank\">Weights & Biases</a> (<a href='https://wandb.me/run' target=\"_blank\">docs</a>)<br/>"
      ],
      "text/plain": [
       "<IPython.core.display.HTML object>"
      ]
     },
     "metadata": {},
     "output_type": "display_data"
    },
    {
     "data": {
      "text/html": [
       " View project at <a href='https://wandb.ai/tejas591995/Stacking%20Classifier' target=\"_blank\">https://wandb.ai/tejas591995/Stacking%20Classifier</a>"
      ],
      "text/plain": [
       "<IPython.core.display.HTML object>"
      ]
     },
     "metadata": {},
     "output_type": "display_data"
    },
    {
     "data": {
      "text/html": [
       " View run at <a href='https://wandb.ai/tejas591995/Stacking%20Classifier/runs/iiawbxsz' target=\"_blank\">https://wandb.ai/tejas591995/Stacking%20Classifier/runs/iiawbxsz</a>"
      ],
      "text/plain": [
       "<IPython.core.display.HTML object>"
      ]
     },
     "metadata": {},
     "output_type": "display_data"
    },
    {
     "data": {
      "text/html": [
       "Finishing last run (ID:iiawbxsz) before initializing another..."
      ],
      "text/plain": [
       "<IPython.core.display.HTML object>"
      ]
     },
     "metadata": {},
     "output_type": "display_data"
    },
    {
     "name": "stderr",
     "output_type": "stream",
     "text": [
      "wandb: WARNING Source type is set to 'repo' but some required information is missing from the environment. A job will not be created from this run. See https://docs.wandb.ai/guides/launch/create-job\n"
     ]
    },
    {
     "data": {
      "text/html": [
       "<style>\n",
       "    table.wandb td:nth-child(1) { padding: 0 10px; text-align: left ; width: auto;} td:nth-child(2) {text-align: left ; width: 100%}\n",
       "    .wandb-row { display: flex; flex-direction: row; flex-wrap: wrap; justify-content: flex-start; width: 100% }\n",
       "    .wandb-col { display: flex; flex-direction: column; flex-basis: 100%; flex: 1; padding: 10px; }\n",
       "    </style>\n",
       "<div class=\"wandb-row\"><div class=\"wandb-col\"><h3>Run history:</h3><br/><table class=\"wandb\"><tr><td>Accuracy</td><td>▁</td></tr></table><br/></div><div class=\"wandb-col\"><h3>Run summary:</h3><br/><table class=\"wandb\"><tr><td>Accuracy</td><td>0.64348</td></tr></table><br/></div></div>"
      ],
      "text/plain": [
       "<IPython.core.display.HTML object>"
      ]
     },
     "metadata": {},
     "output_type": "display_data"
    },
    {
     "data": {
      "text/html": [
       " View run <strong style=\"color:#cdcd00\">fine-serenity-8</strong> at: <a href='https://wandb.ai/tejas591995/Stacking%20Classifier/runs/iiawbxsz' target=\"_blank\">https://wandb.ai/tejas591995/Stacking%20Classifier/runs/iiawbxsz</a><br/>Synced 4 W&B file(s), 0 media file(s), 0 artifact file(s) and 0 other file(s)"
      ],
      "text/plain": [
       "<IPython.core.display.HTML object>"
      ]
     },
     "metadata": {},
     "output_type": "display_data"
    },
    {
     "data": {
      "text/html": [
       "Find logs at: <code>./wandb/run-20231112_081339-iiawbxsz/logs</code>"
      ],
      "text/plain": [
       "<IPython.core.display.HTML object>"
      ]
     },
     "metadata": {},
     "output_type": "display_data"
    },
    {
     "data": {
      "text/html": [
       "Successfully finished last run (ID:iiawbxsz). Initializing new run:<br/>"
      ],
      "text/plain": [
       "<IPython.core.display.HTML object>"
      ]
     },
     "metadata": {},
     "output_type": "display_data"
    },
    {
     "data": {
      "text/html": [
       "Tracking run with wandb version 0.16.0"
      ],
      "text/plain": [
       "<IPython.core.display.HTML object>"
      ]
     },
     "metadata": {},
     "output_type": "display_data"
    },
    {
     "data": {
      "text/html": [
       "Run data is saved locally in <code>/home/tejas/Documents/SMAI/assignment-4-MrTejas/q2/wandb/run-20231112_081355-u45ktcer</code>"
      ],
      "text/plain": [
       "<IPython.core.display.HTML object>"
      ]
     },
     "metadata": {},
     "output_type": "display_data"
    },
    {
     "data": {
      "text/html": [
       "Syncing run <strong><a href='https://wandb.ai/tejas591995/Stacking%20Classifier/runs/u45ktcer' target=\"_blank\">balmy-armadillo-9</a></strong> to <a href='https://wandb.ai/tejas591995/Stacking%20Classifier' target=\"_blank\">Weights & Biases</a> (<a href='https://wandb.me/run' target=\"_blank\">docs</a>)<br/>"
      ],
      "text/plain": [
       "<IPython.core.display.HTML object>"
      ]
     },
     "metadata": {},
     "output_type": "display_data"
    },
    {
     "data": {
      "text/html": [
       " View project at <a href='https://wandb.ai/tejas591995/Stacking%20Classifier' target=\"_blank\">https://wandb.ai/tejas591995/Stacking%20Classifier</a>"
      ],
      "text/plain": [
       "<IPython.core.display.HTML object>"
      ]
     },
     "metadata": {},
     "output_type": "display_data"
    },
    {
     "data": {
      "text/html": [
       " View run at <a href='https://wandb.ai/tejas591995/Stacking%20Classifier/runs/u45ktcer' target=\"_blank\">https://wandb.ai/tejas591995/Stacking%20Classifier/runs/u45ktcer</a>"
      ],
      "text/plain": [
       "<IPython.core.display.HTML object>"
      ]
     },
     "metadata": {},
     "output_type": "display_data"
    },
    {
     "data": {
      "text/html": [
       "Finishing last run (ID:u45ktcer) before initializing another..."
      ],
      "text/plain": [
       "<IPython.core.display.HTML object>"
      ]
     },
     "metadata": {},
     "output_type": "display_data"
    },
    {
     "name": "stderr",
     "output_type": "stream",
     "text": [
      "wandb: WARNING Source type is set to 'repo' but some required information is missing from the environment. A job will not be created from this run. See https://docs.wandb.ai/guides/launch/create-job\n"
     ]
    },
    {
     "data": {
      "text/html": [
       "<style>\n",
       "    table.wandb td:nth-child(1) { padding: 0 10px; text-align: left ; width: auto;} td:nth-child(2) {text-align: left ; width: 100%}\n",
       "    .wandb-row { display: flex; flex-direction: row; flex-wrap: wrap; justify-content: flex-start; width: 100% }\n",
       "    .wandb-col { display: flex; flex-direction: column; flex-basis: 100%; flex: 1; padding: 10px; }\n",
       "    </style>\n",
       "<div class=\"wandb-row\"><div class=\"wandb-col\"><h3>Run history:</h3><br/><table class=\"wandb\"><tr><td>Accuracy</td><td>▁</td></tr></table><br/></div><div class=\"wandb-col\"><h3>Run summary:</h3><br/><table class=\"wandb\"><tr><td>Accuracy</td><td>0.61739</td></tr></table><br/></div></div>"
      ],
      "text/plain": [
       "<IPython.core.display.HTML object>"
      ]
     },
     "metadata": {},
     "output_type": "display_data"
    },
    {
     "data": {
      "text/html": [
       " View run <strong style=\"color:#cdcd00\">balmy-armadillo-9</strong> at: <a href='https://wandb.ai/tejas591995/Stacking%20Classifier/runs/u45ktcer' target=\"_blank\">https://wandb.ai/tejas591995/Stacking%20Classifier/runs/u45ktcer</a><br/>Synced 4 W&B file(s), 0 media file(s), 0 artifact file(s) and 0 other file(s)"
      ],
      "text/plain": [
       "<IPython.core.display.HTML object>"
      ]
     },
     "metadata": {},
     "output_type": "display_data"
    },
    {
     "data": {
      "text/html": [
       "Find logs at: <code>./wandb/run-20231112_081355-u45ktcer/logs</code>"
      ],
      "text/plain": [
       "<IPython.core.display.HTML object>"
      ]
     },
     "metadata": {},
     "output_type": "display_data"
    },
    {
     "data": {
      "text/html": [
       "Successfully finished last run (ID:u45ktcer). Initializing new run:<br/>"
      ],
      "text/plain": [
       "<IPython.core.display.HTML object>"
      ]
     },
     "metadata": {},
     "output_type": "display_data"
    },
    {
     "data": {
      "text/html": [
       "Tracking run with wandb version 0.16.0"
      ],
      "text/plain": [
       "<IPython.core.display.HTML object>"
      ]
     },
     "metadata": {},
     "output_type": "display_data"
    },
    {
     "data": {
      "text/html": [
       "Run data is saved locally in <code>/home/tejas/Documents/SMAI/assignment-4-MrTejas/q2/wandb/run-20231112_081410-izuqjlhl</code>"
      ],
      "text/plain": [
       "<IPython.core.display.HTML object>"
      ]
     },
     "metadata": {},
     "output_type": "display_data"
    },
    {
     "data": {
      "text/html": [
       "Syncing run <strong><a href='https://wandb.ai/tejas591995/Stacking%20Classifier/runs/izuqjlhl' target=\"_blank\">scarlet-paper-10</a></strong> to <a href='https://wandb.ai/tejas591995/Stacking%20Classifier' target=\"_blank\">Weights & Biases</a> (<a href='https://wandb.me/run' target=\"_blank\">docs</a>)<br/>"
      ],
      "text/plain": [
       "<IPython.core.display.HTML object>"
      ]
     },
     "metadata": {},
     "output_type": "display_data"
    },
    {
     "data": {
      "text/html": [
       " View project at <a href='https://wandb.ai/tejas591995/Stacking%20Classifier' target=\"_blank\">https://wandb.ai/tejas591995/Stacking%20Classifier</a>"
      ],
      "text/plain": [
       "<IPython.core.display.HTML object>"
      ]
     },
     "metadata": {},
     "output_type": "display_data"
    },
    {
     "data": {
      "text/html": [
       " View run at <a href='https://wandb.ai/tejas591995/Stacking%20Classifier/runs/izuqjlhl' target=\"_blank\">https://wandb.ai/tejas591995/Stacking%20Classifier/runs/izuqjlhl</a>"
      ],
      "text/plain": [
       "<IPython.core.display.HTML object>"
      ]
     },
     "metadata": {},
     "output_type": "display_data"
    },
    {
     "data": {
      "text/html": [
       "Finishing last run (ID:izuqjlhl) before initializing another..."
      ],
      "text/plain": [
       "<IPython.core.display.HTML object>"
      ]
     },
     "metadata": {},
     "output_type": "display_data"
    },
    {
     "name": "stderr",
     "output_type": "stream",
     "text": [
      "wandb: WARNING Source type is set to 'repo' but some required information is missing from the environment. A job will not be created from this run. See https://docs.wandb.ai/guides/launch/create-job\n"
     ]
    },
    {
     "data": {
      "text/html": [
       "<style>\n",
       "    table.wandb td:nth-child(1) { padding: 0 10px; text-align: left ; width: auto;} td:nth-child(2) {text-align: left ; width: 100%}\n",
       "    .wandb-row { display: flex; flex-direction: row; flex-wrap: wrap; justify-content: flex-start; width: 100% }\n",
       "    .wandb-col { display: flex; flex-direction: column; flex-basis: 100%; flex: 1; padding: 10px; }\n",
       "    </style>\n",
       "<div class=\"wandb-row\"><div class=\"wandb-col\"><h3>Run history:</h3><br/><table class=\"wandb\"><tr><td>Accuracy</td><td>▁</td></tr></table><br/></div><div class=\"wandb-col\"><h3>Run summary:</h3><br/><table class=\"wandb\"><tr><td>Accuracy</td><td>0.67826</td></tr></table><br/></div></div>"
      ],
      "text/plain": [
       "<IPython.core.display.HTML object>"
      ]
     },
     "metadata": {},
     "output_type": "display_data"
    },
    {
     "data": {
      "text/html": [
       " View run <strong style=\"color:#cdcd00\">scarlet-paper-10</strong> at: <a href='https://wandb.ai/tejas591995/Stacking%20Classifier/runs/izuqjlhl' target=\"_blank\">https://wandb.ai/tejas591995/Stacking%20Classifier/runs/izuqjlhl</a><br/>Synced 4 W&B file(s), 0 media file(s), 0 artifact file(s) and 0 other file(s)"
      ],
      "text/plain": [
       "<IPython.core.display.HTML object>"
      ]
     },
     "metadata": {},
     "output_type": "display_data"
    },
    {
     "data": {
      "text/html": [
       "Find logs at: <code>./wandb/run-20231112_081410-izuqjlhl/logs</code>"
      ],
      "text/plain": [
       "<IPython.core.display.HTML object>"
      ]
     },
     "metadata": {},
     "output_type": "display_data"
    },
    {
     "data": {
      "text/html": [
       "Successfully finished last run (ID:izuqjlhl). Initializing new run:<br/>"
      ],
      "text/plain": [
       "<IPython.core.display.HTML object>"
      ]
     },
     "metadata": {},
     "output_type": "display_data"
    },
    {
     "data": {
      "text/html": [
       "Tracking run with wandb version 0.16.0"
      ],
      "text/plain": [
       "<IPython.core.display.HTML object>"
      ]
     },
     "metadata": {},
     "output_type": "display_data"
    },
    {
     "data": {
      "text/html": [
       "Run data is saved locally in <code>/home/tejas/Documents/SMAI/assignment-4-MrTejas/q2/wandb/run-20231112_081421-to5etcg8</code>"
      ],
      "text/plain": [
       "<IPython.core.display.HTML object>"
      ]
     },
     "metadata": {},
     "output_type": "display_data"
    },
    {
     "data": {
      "text/html": [
       "Syncing run <strong><a href='https://wandb.ai/tejas591995/Stacking%20Classifier/runs/to5etcg8' target=\"_blank\">devoted-valley-11</a></strong> to <a href='https://wandb.ai/tejas591995/Stacking%20Classifier' target=\"_blank\">Weights & Biases</a> (<a href='https://wandb.me/run' target=\"_blank\">docs</a>)<br/>"
      ],
      "text/plain": [
       "<IPython.core.display.HTML object>"
      ]
     },
     "metadata": {},
     "output_type": "display_data"
    },
    {
     "data": {
      "text/html": [
       " View project at <a href='https://wandb.ai/tejas591995/Stacking%20Classifier' target=\"_blank\">https://wandb.ai/tejas591995/Stacking%20Classifier</a>"
      ],
      "text/plain": [
       "<IPython.core.display.HTML object>"
      ]
     },
     "metadata": {},
     "output_type": "display_data"
    },
    {
     "data": {
      "text/html": [
       " View run at <a href='https://wandb.ai/tejas591995/Stacking%20Classifier/runs/to5etcg8' target=\"_blank\">https://wandb.ai/tejas591995/Stacking%20Classifier/runs/to5etcg8</a>"
      ],
      "text/plain": [
       "<IPython.core.display.HTML object>"
      ]
     },
     "metadata": {},
     "output_type": "display_data"
    },
    {
     "data": {
      "text/html": [
       "Finishing last run (ID:to5etcg8) before initializing another..."
      ],
      "text/plain": [
       "<IPython.core.display.HTML object>"
      ]
     },
     "metadata": {},
     "output_type": "display_data"
    },
    {
     "name": "stderr",
     "output_type": "stream",
     "text": [
      "wandb: WARNING Source type is set to 'repo' but some required information is missing from the environment. A job will not be created from this run. See https://docs.wandb.ai/guides/launch/create-job\n"
     ]
    },
    {
     "data": {
      "text/html": [
       "<style>\n",
       "    table.wandb td:nth-child(1) { padding: 0 10px; text-align: left ; width: auto;} td:nth-child(2) {text-align: left ; width: 100%}\n",
       "    .wandb-row { display: flex; flex-direction: row; flex-wrap: wrap; justify-content: flex-start; width: 100% }\n",
       "    .wandb-col { display: flex; flex-direction: column; flex-basis: 100%; flex: 1; padding: 10px; }\n",
       "    </style>\n",
       "<div class=\"wandb-row\"><div class=\"wandb-col\"><h3>Run history:</h3><br/><table class=\"wandb\"><tr><td>Accuracy</td><td>▁</td></tr></table><br/></div><div class=\"wandb-col\"><h3>Run summary:</h3><br/><table class=\"wandb\"><tr><td>Accuracy</td><td>0.62609</td></tr></table><br/></div></div>"
      ],
      "text/plain": [
       "<IPython.core.display.HTML object>"
      ]
     },
     "metadata": {},
     "output_type": "display_data"
    },
    {
     "data": {
      "text/html": [
       " View run <strong style=\"color:#cdcd00\">devoted-valley-11</strong> at: <a href='https://wandb.ai/tejas591995/Stacking%20Classifier/runs/to5etcg8' target=\"_blank\">https://wandb.ai/tejas591995/Stacking%20Classifier/runs/to5etcg8</a><br/>Synced 4 W&B file(s), 0 media file(s), 0 artifact file(s) and 0 other file(s)"
      ],
      "text/plain": [
       "<IPython.core.display.HTML object>"
      ]
     },
     "metadata": {},
     "output_type": "display_data"
    },
    {
     "data": {
      "text/html": [
       "Find logs at: <code>./wandb/run-20231112_081421-to5etcg8/logs</code>"
      ],
      "text/plain": [
       "<IPython.core.display.HTML object>"
      ]
     },
     "metadata": {},
     "output_type": "display_data"
    },
    {
     "data": {
      "text/html": [
       "Successfully finished last run (ID:to5etcg8). Initializing new run:<br/>"
      ],
      "text/plain": [
       "<IPython.core.display.HTML object>"
      ]
     },
     "metadata": {},
     "output_type": "display_data"
    },
    {
     "data": {
      "text/html": [
       "Tracking run with wandb version 0.16.0"
      ],
      "text/plain": [
       "<IPython.core.display.HTML object>"
      ]
     },
     "metadata": {},
     "output_type": "display_data"
    },
    {
     "data": {
      "text/html": [
       "Run data is saved locally in <code>/home/tejas/Documents/SMAI/assignment-4-MrTejas/q2/wandb/run-20231112_081430-kpc9s5qg</code>"
      ],
      "text/plain": [
       "<IPython.core.display.HTML object>"
      ]
     },
     "metadata": {},
     "output_type": "display_data"
    },
    {
     "data": {
      "text/html": [
       "Syncing run <strong><a href='https://wandb.ai/tejas591995/Stacking%20Classifier/runs/kpc9s5qg' target=\"_blank\">fast-river-12</a></strong> to <a href='https://wandb.ai/tejas591995/Stacking%20Classifier' target=\"_blank\">Weights & Biases</a> (<a href='https://wandb.me/run' target=\"_blank\">docs</a>)<br/>"
      ],
      "text/plain": [
       "<IPython.core.display.HTML object>"
      ]
     },
     "metadata": {},
     "output_type": "display_data"
    },
    {
     "data": {
      "text/html": [
       " View project at <a href='https://wandb.ai/tejas591995/Stacking%20Classifier' target=\"_blank\">https://wandb.ai/tejas591995/Stacking%20Classifier</a>"
      ],
      "text/plain": [
       "<IPython.core.display.HTML object>"
      ]
     },
     "metadata": {},
     "output_type": "display_data"
    },
    {
     "data": {
      "text/html": [
       " View run at <a href='https://wandb.ai/tejas591995/Stacking%20Classifier/runs/kpc9s5qg' target=\"_blank\">https://wandb.ai/tejas591995/Stacking%20Classifier/runs/kpc9s5qg</a>"
      ],
      "text/plain": [
       "<IPython.core.display.HTML object>"
      ]
     },
     "metadata": {},
     "output_type": "display_data"
    },
    {
     "data": {
      "text/html": [
       "Finishing last run (ID:kpc9s5qg) before initializing another..."
      ],
      "text/plain": [
       "<IPython.core.display.HTML object>"
      ]
     },
     "metadata": {},
     "output_type": "display_data"
    },
    {
     "name": "stderr",
     "output_type": "stream",
     "text": [
      "wandb: WARNING Source type is set to 'repo' but some required information is missing from the environment. A job will not be created from this run. See https://docs.wandb.ai/guides/launch/create-job\n"
     ]
    },
    {
     "data": {
      "text/html": [
       "<style>\n",
       "    table.wandb td:nth-child(1) { padding: 0 10px; text-align: left ; width: auto;} td:nth-child(2) {text-align: left ; width: 100%}\n",
       "    .wandb-row { display: flex; flex-direction: row; flex-wrap: wrap; justify-content: flex-start; width: 100% }\n",
       "    .wandb-col { display: flex; flex-direction: column; flex-basis: 100%; flex: 1; padding: 10px; }\n",
       "    </style>\n",
       "<div class=\"wandb-row\"><div class=\"wandb-col\"><h3>Run history:</h3><br/><table class=\"wandb\"><tr><td>Accuracy</td><td>▁</td></tr></table><br/></div><div class=\"wandb-col\"><h3>Run summary:</h3><br/><table class=\"wandb\"><tr><td>Accuracy</td><td>0.56522</td></tr></table><br/></div></div>"
      ],
      "text/plain": [
       "<IPython.core.display.HTML object>"
      ]
     },
     "metadata": {},
     "output_type": "display_data"
    },
    {
     "data": {
      "text/html": [
       " View run <strong style=\"color:#cdcd00\">fast-river-12</strong> at: <a href='https://wandb.ai/tejas591995/Stacking%20Classifier/runs/kpc9s5qg' target=\"_blank\">https://wandb.ai/tejas591995/Stacking%20Classifier/runs/kpc9s5qg</a><br/>Synced 4 W&B file(s), 0 media file(s), 0 artifact file(s) and 0 other file(s)"
      ],
      "text/plain": [
       "<IPython.core.display.HTML object>"
      ]
     },
     "metadata": {},
     "output_type": "display_data"
    },
    {
     "data": {
      "text/html": [
       "Find logs at: <code>./wandb/run-20231112_081430-kpc9s5qg/logs</code>"
      ],
      "text/plain": [
       "<IPython.core.display.HTML object>"
      ]
     },
     "metadata": {},
     "output_type": "display_data"
    },
    {
     "data": {
      "text/html": [
       "Successfully finished last run (ID:kpc9s5qg). Initializing new run:<br/>"
      ],
      "text/plain": [
       "<IPython.core.display.HTML object>"
      ]
     },
     "metadata": {},
     "output_type": "display_data"
    },
    {
     "data": {
      "text/html": [
       "Tracking run with wandb version 0.16.0"
      ],
      "text/plain": [
       "<IPython.core.display.HTML object>"
      ]
     },
     "metadata": {},
     "output_type": "display_data"
    },
    {
     "data": {
      "text/html": [
       "Run data is saved locally in <code>/home/tejas/Documents/SMAI/assignment-4-MrTejas/q2/wandb/run-20231112_081439-t413vc1s</code>"
      ],
      "text/plain": [
       "<IPython.core.display.HTML object>"
      ]
     },
     "metadata": {},
     "output_type": "display_data"
    },
    {
     "data": {
      "text/html": [
       "Syncing run <strong><a href='https://wandb.ai/tejas591995/Stacking%20Classifier/runs/t413vc1s' target=\"_blank\">upbeat-sky-13</a></strong> to <a href='https://wandb.ai/tejas591995/Stacking%20Classifier' target=\"_blank\">Weights & Biases</a> (<a href='https://wandb.me/run' target=\"_blank\">docs</a>)<br/>"
      ],
      "text/plain": [
       "<IPython.core.display.HTML object>"
      ]
     },
     "metadata": {},
     "output_type": "display_data"
    },
    {
     "data": {
      "text/html": [
       " View project at <a href='https://wandb.ai/tejas591995/Stacking%20Classifier' target=\"_blank\">https://wandb.ai/tejas591995/Stacking%20Classifier</a>"
      ],
      "text/plain": [
       "<IPython.core.display.HTML object>"
      ]
     },
     "metadata": {},
     "output_type": "display_data"
    },
    {
     "data": {
      "text/html": [
       " View run at <a href='https://wandb.ai/tejas591995/Stacking%20Classifier/runs/t413vc1s' target=\"_blank\">https://wandb.ai/tejas591995/Stacking%20Classifier/runs/t413vc1s</a>"
      ],
      "text/plain": [
       "<IPython.core.display.HTML object>"
      ]
     },
     "metadata": {},
     "output_type": "display_data"
    },
    {
     "data": {
      "text/html": [
       "Finishing last run (ID:t413vc1s) before initializing another..."
      ],
      "text/plain": [
       "<IPython.core.display.HTML object>"
      ]
     },
     "metadata": {},
     "output_type": "display_data"
    },
    {
     "name": "stderr",
     "output_type": "stream",
     "text": [
      "wandb: WARNING Source type is set to 'repo' but some required information is missing from the environment. A job will not be created from this run. See https://docs.wandb.ai/guides/launch/create-job\n"
     ]
    },
    {
     "data": {
      "text/html": [
       "<style>\n",
       "    table.wandb td:nth-child(1) { padding: 0 10px; text-align: left ; width: auto;} td:nth-child(2) {text-align: left ; width: 100%}\n",
       "    .wandb-row { display: flex; flex-direction: row; flex-wrap: wrap; justify-content: flex-start; width: 100% }\n",
       "    .wandb-col { display: flex; flex-direction: column; flex-basis: 100%; flex: 1; padding: 10px; }\n",
       "    </style>\n",
       "<div class=\"wandb-row\"><div class=\"wandb-col\"><h3>Run history:</h3><br/><table class=\"wandb\"><tr><td>Accuracy</td><td>▁</td></tr></table><br/></div><div class=\"wandb-col\"><h3>Run summary:</h3><br/><table class=\"wandb\"><tr><td>Accuracy</td><td>0.6</td></tr></table><br/></div></div>"
      ],
      "text/plain": [
       "<IPython.core.display.HTML object>"
      ]
     },
     "metadata": {},
     "output_type": "display_data"
    },
    {
     "data": {
      "text/html": [
       " View run <strong style=\"color:#cdcd00\">upbeat-sky-13</strong> at: <a href='https://wandb.ai/tejas591995/Stacking%20Classifier/runs/t413vc1s' target=\"_blank\">https://wandb.ai/tejas591995/Stacking%20Classifier/runs/t413vc1s</a><br/>Synced 4 W&B file(s), 0 media file(s), 0 artifact file(s) and 0 other file(s)"
      ],
      "text/plain": [
       "<IPython.core.display.HTML object>"
      ]
     },
     "metadata": {},
     "output_type": "display_data"
    },
    {
     "data": {
      "text/html": [
       "Find logs at: <code>./wandb/run-20231112_081439-t413vc1s/logs</code>"
      ],
      "text/plain": [
       "<IPython.core.display.HTML object>"
      ]
     },
     "metadata": {},
     "output_type": "display_data"
    },
    {
     "data": {
      "text/html": [
       "Successfully finished last run (ID:t413vc1s). Initializing new run:<br/>"
      ],
      "text/plain": [
       "<IPython.core.display.HTML object>"
      ]
     },
     "metadata": {},
     "output_type": "display_data"
    },
    {
     "data": {
      "text/html": [
       "Tracking run with wandb version 0.16.0"
      ],
      "text/plain": [
       "<IPython.core.display.HTML object>"
      ]
     },
     "metadata": {},
     "output_type": "display_data"
    },
    {
     "data": {
      "text/html": [
       "Run data is saved locally in <code>/home/tejas/Documents/SMAI/assignment-4-MrTejas/q2/wandb/run-20231112_081448-h9veqyj2</code>"
      ],
      "text/plain": [
       "<IPython.core.display.HTML object>"
      ]
     },
     "metadata": {},
     "output_type": "display_data"
    },
    {
     "data": {
      "text/html": [
       "Syncing run <strong><a href='https://wandb.ai/tejas591995/Stacking%20Classifier/runs/h9veqyj2' target=\"_blank\">clean-paper-14</a></strong> to <a href='https://wandb.ai/tejas591995/Stacking%20Classifier' target=\"_blank\">Weights & Biases</a> (<a href='https://wandb.me/run' target=\"_blank\">docs</a>)<br/>"
      ],
      "text/plain": [
       "<IPython.core.display.HTML object>"
      ]
     },
     "metadata": {},
     "output_type": "display_data"
    },
    {
     "data": {
      "text/html": [
       " View project at <a href='https://wandb.ai/tejas591995/Stacking%20Classifier' target=\"_blank\">https://wandb.ai/tejas591995/Stacking%20Classifier</a>"
      ],
      "text/plain": [
       "<IPython.core.display.HTML object>"
      ]
     },
     "metadata": {},
     "output_type": "display_data"
    },
    {
     "data": {
      "text/html": [
       " View run at <a href='https://wandb.ai/tejas591995/Stacking%20Classifier/runs/h9veqyj2' target=\"_blank\">https://wandb.ai/tejas591995/Stacking%20Classifier/runs/h9veqyj2</a>"
      ],
      "text/plain": [
       "<IPython.core.display.HTML object>"
      ]
     },
     "metadata": {},
     "output_type": "display_data"
    }
   ],
   "source": [
    "level1_list = ['DecisionTreeClassifier','MultinomialLogRegression']\n",
    "methods_list = ['stacking','blending']\n",
    "h_vals = [0.1,0.2,0.3,0.4]\n",
    "k_vals = [7,5,3]\n",
    "\n",
    "for level1_model in level1_list:\n",
    "    for method in methods_list:\n",
    "        if method == 'stacking':\n",
    "            for k in k_vals:\n",
    "                h = 0.1\n",
    "                wandb.init(\n",
    "                    # set the wandb project where this run will be logged\n",
    "                    project=\"Stacking Classifier\",\n",
    "\n",
    "                    # track hyperparameters and run metadata\n",
    "                    config={\n",
    "                    'level1_model' : level1_model,\n",
    "                    'method' : method,\n",
    "                    'number of folds' : k,\n",
    "                    'holdout fraction' : None\n",
    "                    }\n",
    "                )                    \n",
    "                stk = Stacking(level1_model,method)\n",
    "                stk.fit_level1_estimator(k,h,X_train,y_train)\n",
    "                predictions, ground_truth = stk.predict(X_train,y_train,X_test,y_test)\n",
    "                acc = stk.accuracy\n",
    "                wandb.log({\"Accuracy\": acc})\n",
    "        else:\n",
    "            for h in h_vals:\n",
    "                k = 5\n",
    "                wandb.init(\n",
    "                    # set the wandb project where this run will be logged\n",
    "                    project=\"Stacking Classifier\",\n",
    "\n",
    "                    # track hyperparameters and run metadata\n",
    "                    config={\n",
    "                    'level1_model' : level1_model,\n",
    "                    'method' : method,\n",
    "                    'number of folds' : None,\n",
    "                    'holdout fraction' : h\n",
    "                    }\n",
    "                )                    \n",
    "                stk = Stacking(level1_model,method)\n",
    "                stk.fit_level1_estimator(k,h,X_train,y_train)\n",
    "                predictions, ground_truth = stk.predict(X_train,y_train,X_test,y_test)\n",
    "                acc = stk.accuracy\n",
    "                wandb.log({\"Accuracy\": acc})\n"
   ]
  },
  {
   "cell_type": "markdown",
   "metadata": {},
   "source": [
    "### Results\n",
    "The best performing model has the following hyper-parameters :-\n",
    "- method : stacking\n",
    "- number of folds : 3\n",
    "- Accuracy : 0.67"
   ]
  },
  {
   "cell_type": "code",
   "execution_count": 29,
   "metadata": {},
   "outputs": [
    {
     "data": {
      "image/png": "[encoded data removed]",
      "text/plain": [
       "<Figure size 640x480 with 1 Axes>"
      ]
     },
     "metadata": {},
     "output_type": "display_data"
    }
   ],
   "source": [
    "# 1st base model : DT-classifier\n",
    "model = MyDecisionTreeClassifier()\n",
    "model.fit(X_train, y_train)\n",
    "predictions1, soft_assignments1, report = model.predict(X_test,y_test, X_test, y_test)\n",
    "\n",
    "# 2nd Base model : MLP-classifier\n",
    "layer_sizes = [11,5,5,6]\n",
    "batch_size = 100\n",
    "num_epoches = 100\n",
    "learning_rate = 0.02\n",
    "activation_function = 'ReLU'\n",
    "optimization = 'mini-batch'\n",
    "model = MLP_Classifier(layer_sizes=layer_sizes,\n",
    "        batch_size=batch_size,\n",
    "        num_epoches=num_epoches,\n",
    "        learning_rate=learning_rate,\n",
    "        activation_function=activation_function,\n",
    "        optimization=optimization\n",
    "        )\n",
    "\n",
    "model.loadData(df)\n",
    "model.fit(X_train,y_train,X_train,y_train)\n",
    "predictions2, soft_assignments2 ,cr = model.predict(X_test,y_test,X_test,y_test)\n",
    "\n",
    "# 3rd Base Model : Logistic Regression\n",
    "learning_rate = 0.001\n",
    "epoches = 100\n",
    "mlr = MultinomialLogRegression(learning_rate,epoches,num_classes,num_features)\n",
    "mlr.fit(X_train,y_train,X_train,y_train)\n",
    "predictions3,soft_assignments3,cr = mlr.predict(X_test,y_test,X_test,y_test)\n",
    "\n",
    "acc1 = accuracy_score(y_pred=predictions1,y_true=y_test)\n",
    "acc2 = accuracy_score(y_pred=predictions2,y_true=y_test)\n",
    "acc3 = accuracy_score(y_pred=predictions3,y_true=y_test)\n",
    "\n",
    "values = [acc1, acc2, acc3, acc_ensemble]\n",
    "labels = ['Decision Tree', 'MLP', 'MLR', 'Stacking']\n",
    "\n",
    "# Create a bar chart\n",
    "plt.bar(labels, values)\n",
    "\n",
    "# Add labels and title\n",
    "plt.xlabel('Models')\n",
    "plt.ylabel('Accuracies')\n",
    "plt.grid()\n",
    "plt.title('Accuracies of ensemble vs base learners')\n",
    "\n",
    "# Show the plot\n",
    "plt.show()\n"
   ]
  },
  {
   "cell_type": "code",
   "execution_count": 31,
   "metadata": {},
   "outputs": [
    {
     "name": "stdout",
     "output_type": "stream",
     "text": [
      "Accuracies\n",
      "DecisionTreeClassifier :  0.5589519650655022\n",
      "Multi-Layer-Perceptron :  0.4192139737991266\n",
      "Logistic Regression    :  0.5109170305676856\n",
      "Stacking Ensemble    :  0.6434782608695652\n"
     ]
    }
   ],
   "source": [
    "print('Accuracies')\n",
    "print('DecisionTreeClassifier : ',acc1)\n",
    "print('Multi-Layer-Perceptron : ',acc2)\n",
    "print('Logistic Regression    : ',acc3)\n",
    "print('Stacking Ensemble    : ',acc_ensemble)\n"
   ]
  },
  {
   "cell_type": "code",
   "execution_count": null,
   "metadata": {},
   "outputs": [],
   "source": []
  }
 ],
 "metadata": {
  "kernelspec": {
   "display_name": "Python 3 (ipykernel)",
   "language": "python",
   "name": "python3"
  },
  "language_info": {
   "codemirror_mode": {
    "name": "ipython",
    "version": 3
   },
   "file_extension": ".py",
   "mimetype": "text/x-python",
   "name": "python",
   "nbconvert_exporter": "python",
   "pygments_lexer": "ipython3",
   "version": "3.8.10"
  }
 },
 "nbformat": 4,
 "nbformat_minor": 5
}
