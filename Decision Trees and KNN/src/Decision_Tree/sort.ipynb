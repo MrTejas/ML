{
 "cells": [
  {
   "cell_type": "code",
   "execution_count": 6,
   "metadata": {},
   "outputs": [],
   "source": [
    "import os"
   ]
  },
  {
   "cell_type": "code",
   "execution_count": 7,
   "metadata": {},
   "outputs": [],
   "source": [
    "# this function is written using chat-gpt\n",
    "def sort_and_write_data_descending(input_file_path, k):\n",
    "    # Check if the input file exists\n",
    "    if not os.path.isfile(input_file_path):\n",
    "        print(f\"File '{input_file_path}' does not exist.\")\n",
    "        return\n",
    "\n",
    "    # Read data from the input file, skipping the first row\n",
    "    with open(input_file_path, 'r') as file:\n",
    "        lines = file.readlines()[1:]\n",
    "\n",
    "    # Sort the data in descending order based on the kth column (assuming columns are space-separated)\n",
    "    lines.sort(key=lambda line: float(line.split()[k - 1]), reverse=True)  # Use reverse=True for descending\n",
    "\n",
    "    # Write the sorted data to a new file named 'results_final.txt'\n",
    "    output_file_path = os.path.join(os.path.dirname(input_file_path), 'results_final.txt')\n",
    "    with open(output_file_path, 'w') as output_file:\n",
    "        output_file.write(''.join(lines))\n",
    "\n",
    "    print(f\"Data sorted in descending order based on column {k} and saved to 'results_final.txt'.\")\n"
   ]
  },
  {
   "cell_type": "code",
   "execution_count": 8,
   "metadata": {},
   "outputs": [
    {
     "name": "stdout",
     "output_type": "stream",
     "text": [
      "Data sorted in descending order based on column 7 and saved to 'results_final.txt'.\n"
     ]
    }
   ],
   "source": [
    "sort_and_write_data_descending('./results.txt', 7)"
   ]
  },
  {
   "cell_type": "code",
   "execution_count": null,
   "metadata": {},
   "outputs": [],
   "source": []
  }
 ],
 "metadata": {
  "kernelspec": {
   "display_name": "base",
   "language": "python",
   "name": "python3"
  },
  "language_info": {
   "codemirror_mode": {
    "name": "ipython",
    "version": 3
   },
   "file_extension": ".py",
   "mimetype": "text/x-python",
   "name": "python",
   "nbconvert_exporter": "python",
   "pygments_lexer": "ipython3",
   "version": "3.9.13"
  },
  "orig_nbformat": 4
 },
 "nbformat": 4,
 "nbformat_minor": 2
}
