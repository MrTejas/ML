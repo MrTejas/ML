{
 "cells": [
  {
   "cell_type": "code",
   "execution_count": 35,
   "metadata": {},
   "outputs": [],
   "source": [
    "import os"
   ]
  },
  {
   "cell_type": "code",
   "execution_count": 38,
   "metadata": {},
   "outputs": [],
   "source": [
    "def sort_and_save_top_p(input_file_path, k, p):\n",
    "    # Check if the input file exists\n",
    "    if not os.path.isfile(input_file_path):\n",
    "        print(f\"File '{input_file_path}' does not exist.\")\n",
    "        return\n",
    "\n",
    "    # Read data from the input file\n",
    "    with open(input_file_path, 'r') as file:\n",
    "        lines = file.readlines()\n",
    "\n",
    "    # Check if there are enough rows in the file\n",
    "    if len(lines) < 2:\n",
    "        print(\"File does not contain enough data rows.\")\n",
    "        return\n",
    "\n",
    "    # Extract the column labels (first row)\n",
    "    column_labels = lines[0].strip().split()\n",
    "\n",
    "    # Check if k and p are valid column indices\n",
    "    if k < 0 or k >= len(column_labels) or p < 0:\n",
    "        print(\"Invalid column index or number of top rows.\")\n",
    "        return\n",
    "\n",
    "    # Initialize an empty list to store valid rows\n",
    "    valid_rows = []\n",
    "\n",
    "    # Iterate over data rows to filter out invalid rows\n",
    "    for line in lines[1:]:\n",
    "        parts = line.strip().split()\n",
    "        # Check if the row has at least k columns\n",
    "        if len(parts) >= k:\n",
    "            valid_rows.append(line)\n",
    "\n",
    "    # Check if p is greater than the number of valid data rows\n",
    "    if p > len(valid_rows):\n",
    "        print(\"Number of top rows exceeds the number of valid data rows.\")\n",
    "        return\n",
    "\n",
    "    # Sort the valid data based on the kth column in descending order\n",
    "    sorted_lines = sorted(valid_rows, key=lambda line: float(line.strip().split()[k - 1]), reverse=True)\n",
    "\n",
    "    # Take the top p rows\n",
    "    top_p_lines = sorted_lines[:p]\n",
    "\n",
    "    # Create a new file 'results_final.txt' in the same directory\n",
    "    output_file_path = os.path.join(os.path.dirname(input_file_path), 'results_final.txt')\n",
    "\n",
    "    # Write the sorted top p data, including column labels, to the new file\n",
    "    with open(output_file_path, 'w') as output_file:\n",
    "        output_file.write(' '.join(column_labels) + '\\n')  # Write column labels\n",
    "        output_file.writelines(top_p_lines)\n",
    "\n",
    "    print(f\"Top {p} rows sorted based on column {k} in descending order and saved to 'results_final.txt'.\")\n"
   ]
  },
  {
   "cell_type": "code",
   "execution_count": 40,
   "metadata": {},
   "outputs": [
    {
     "name": "stdout",
     "output_type": "stream",
     "text": [
      "Top 20 rows sorted based on column 4 in descending order and saved to 'results_final.txt'.\n"
     ]
    }
   ],
   "source": [
    "input_file_path = 'results.txt'  # Replace with the path to your input file\n",
    "k = 4  # Replace with the desired column number\n",
    "p = 20  # Replace with the desired number of top rows to save\n",
    "sort_and_save_top_p(input_file_path, k, p)\n"
   ]
  },
  {
   "cell_type": "code",
   "execution_count": null,
   "metadata": {},
   "outputs": [],
   "source": []
  }
 ],
 "metadata": {
  "kernelspec": {
   "display_name": "base",
   "language": "python",
   "name": "python3"
  },
  "language_info": {
   "codemirror_mode": {
    "name": "ipython",
    "version": 3
   },
   "file_extension": ".py",
   "mimetype": "text/x-python",
   "name": "python",
   "nbconvert_exporter": "python",
   "pygments_lexer": "ipython3",
   "version": "3.9.13"
  },
  "orig_nbformat": 4
 },
 "nbformat": 4,
 "nbformat_minor": 2
}
